{
 "cells": [
  {
   "cell_type": "code",
   "execution_count": 2,
   "id": "bebbec93-6d8e-42e3-a76c-c4a03b502200",
   "metadata": {},
   "outputs": [],
   "source": [
    "%load_ext pycozo.ipyext_direct"
   ]
  },
  {
   "cell_type": "code",
   "execution_count": 3,
   "id": "01fd1943-67ef-4a7c-93ad-ff35364feaa8",
   "metadata": {},
   "outputs": [],
   "source": [
    "%cozo_open 'http', '', {'host': 'https://cozo.julep.ai/', \"auth\": \"COZO_API_KEY\"}"
   ]
  },
  {
   "cell_type": "code",
   "execution_count": 4,
   "id": "9fa0c8f2-4a25-420a-bece-5e458714efe3",
   "metadata": {},
   "outputs": [
    {
     "name": "stderr",
     "output_type": "stream",
     "text": [
      "/usr/local/lib/python3.10/dist-packages/pycozo/ext_impl.py:61: FutureWarning: Styler.applymap has been deprecated. Use Styler.map instead.\n",
      "  return res.style.applymap(_colour_code_type)\n"
     ]
    },
    {
     "data": {
      "text/html": [
       "<style type=\"text/css\">\n",
       "#T_70e74_row0_col0, #T_70e74_row0_col2, #T_70e74_row0_col8, #T_70e74_row1_col0, #T_70e74_row1_col2, #T_70e74_row1_col8, #T_70e74_row2_col0, #T_70e74_row2_col2, #T_70e74_row2_col8, #T_70e74_row3_col0, #T_70e74_row3_col2, #T_70e74_row3_col8, #T_70e74_row4_col0, #T_70e74_row4_col2, #T_70e74_row4_col8, #T_70e74_row5_col0, #T_70e74_row5_col2, #T_70e74_row5_col8, #T_70e74_row6_col0, #T_70e74_row6_col2, #T_70e74_row6_col8, #T_70e74_row7_col0, #T_70e74_row7_col2, #T_70e74_row7_col8, #T_70e74_row8_col0, #T_70e74_row8_col2, #T_70e74_row8_col8, #T_70e74_row9_col0, #T_70e74_row9_col2, #T_70e74_row9_col8, #T_70e74_row10_col0, #T_70e74_row10_col2, #T_70e74_row10_col8, #T_70e74_row11_col0, #T_70e74_row11_col2, #T_70e74_row11_col8, #T_70e74_row12_col0, #T_70e74_row12_col2, #T_70e74_row12_col8, #T_70e74_row13_col0, #T_70e74_row13_col2, #T_70e74_row13_col8, #T_70e74_row14_col0, #T_70e74_row14_col2, #T_70e74_row14_col8, #T_70e74_row15_col0, #T_70e74_row15_col2, #T_70e74_row15_col8, #T_70e74_row16_col0, #T_70e74_row16_col2, #T_70e74_row16_col8, #T_70e74_row17_col0, #T_70e74_row17_col2, #T_70e74_row17_col8, #T_70e74_row18_col0, #T_70e74_row18_col2, #T_70e74_row18_col8, #T_70e74_row19_col0, #T_70e74_row19_col2, #T_70e74_row19_col8, #T_70e74_row20_col0, #T_70e74_row20_col2, #T_70e74_row20_col8, #T_70e74_row21_col0, #T_70e74_row21_col2, #T_70e74_row21_col8 {\n",
       "  color: black;\n",
       "}\n",
       "#T_70e74_row0_col1, #T_70e74_row0_col3, #T_70e74_row0_col4, #T_70e74_row0_col5, #T_70e74_row0_col6, #T_70e74_row0_col7, #T_70e74_row1_col1, #T_70e74_row1_col3, #T_70e74_row1_col4, #T_70e74_row1_col5, #T_70e74_row1_col6, #T_70e74_row1_col7, #T_70e74_row2_col1, #T_70e74_row2_col3, #T_70e74_row2_col4, #T_70e74_row2_col5, #T_70e74_row2_col6, #T_70e74_row2_col7, #T_70e74_row3_col1, #T_70e74_row3_col3, #T_70e74_row3_col4, #T_70e74_row3_col5, #T_70e74_row3_col6, #T_70e74_row3_col7, #T_70e74_row4_col1, #T_70e74_row4_col3, #T_70e74_row4_col4, #T_70e74_row4_col5, #T_70e74_row4_col6, #T_70e74_row4_col7, #T_70e74_row5_col1, #T_70e74_row5_col3, #T_70e74_row5_col4, #T_70e74_row5_col5, #T_70e74_row5_col6, #T_70e74_row5_col7, #T_70e74_row6_col1, #T_70e74_row6_col3, #T_70e74_row6_col4, #T_70e74_row6_col5, #T_70e74_row6_col6, #T_70e74_row6_col7, #T_70e74_row7_col1, #T_70e74_row7_col3, #T_70e74_row7_col4, #T_70e74_row7_col5, #T_70e74_row7_col6, #T_70e74_row7_col7, #T_70e74_row8_col1, #T_70e74_row8_col3, #T_70e74_row8_col4, #T_70e74_row8_col5, #T_70e74_row8_col6, #T_70e74_row8_col7, #T_70e74_row9_col1, #T_70e74_row9_col3, #T_70e74_row9_col4, #T_70e74_row9_col5, #T_70e74_row9_col6, #T_70e74_row9_col7, #T_70e74_row10_col1, #T_70e74_row10_col3, #T_70e74_row10_col4, #T_70e74_row10_col5, #T_70e74_row10_col6, #T_70e74_row10_col7, #T_70e74_row11_col1, #T_70e74_row11_col3, #T_70e74_row11_col4, #T_70e74_row11_col5, #T_70e74_row11_col6, #T_70e74_row11_col7, #T_70e74_row12_col1, #T_70e74_row12_col3, #T_70e74_row12_col4, #T_70e74_row12_col5, #T_70e74_row12_col6, #T_70e74_row12_col7, #T_70e74_row13_col1, #T_70e74_row13_col3, #T_70e74_row13_col4, #T_70e74_row13_col5, #T_70e74_row13_col6, #T_70e74_row13_col7, #T_70e74_row14_col1, #T_70e74_row14_col3, #T_70e74_row14_col4, #T_70e74_row14_col5, #T_70e74_row14_col6, #T_70e74_row14_col7, #T_70e74_row15_col1, #T_70e74_row15_col3, #T_70e74_row15_col4, #T_70e74_row15_col5, #T_70e74_row15_col6, #T_70e74_row15_col7, #T_70e74_row16_col1, #T_70e74_row16_col3, #T_70e74_row16_col4, #T_70e74_row16_col5, #T_70e74_row16_col6, #T_70e74_row16_col7, #T_70e74_row17_col1, #T_70e74_row17_col3, #T_70e74_row17_col4, #T_70e74_row17_col5, #T_70e74_row17_col6, #T_70e74_row17_col7, #T_70e74_row18_col1, #T_70e74_row18_col3, #T_70e74_row18_col4, #T_70e74_row18_col5, #T_70e74_row18_col6, #T_70e74_row18_col7, #T_70e74_row19_col1, #T_70e74_row19_col3, #T_70e74_row19_col4, #T_70e74_row19_col5, #T_70e74_row19_col6, #T_70e74_row19_col7, #T_70e74_row20_col1, #T_70e74_row20_col3, #T_70e74_row20_col4, #T_70e74_row20_col5, #T_70e74_row20_col6, #T_70e74_row20_col7, #T_70e74_row21_col1, #T_70e74_row21_col3, #T_70e74_row21_col4, #T_70e74_row21_col5, #T_70e74_row21_col6, #T_70e74_row21_col7 {\n",
       "  color: #307fc1;\n",
       "}\n",
       "</style>\n",
       "<table id=\"T_70e74\">\n",
       "  <thead>\n",
       "    <tr>\n",
       "      <th class=\"blank level0\" >&nbsp;</th>\n",
       "      <th id=\"T_70e74_level0_col0\" class=\"col_heading level0 col0\" >name</th>\n",
       "      <th id=\"T_70e74_level0_col1\" class=\"col_heading level0 col1\" >arity</th>\n",
       "      <th id=\"T_70e74_level0_col2\" class=\"col_heading level0 col2\" >access_level</th>\n",
       "      <th id=\"T_70e74_level0_col3\" class=\"col_heading level0 col3\" >n_keys</th>\n",
       "      <th id=\"T_70e74_level0_col4\" class=\"col_heading level0 col4\" >n_non_keys</th>\n",
       "      <th id=\"T_70e74_level0_col5\" class=\"col_heading level0 col5\" >n_put_triggers</th>\n",
       "      <th id=\"T_70e74_level0_col6\" class=\"col_heading level0 col6\" >n_rm_triggers</th>\n",
       "      <th id=\"T_70e74_level0_col7\" class=\"col_heading level0 col7\" >n_replace_triggers</th>\n",
       "      <th id=\"T_70e74_level0_col8\" class=\"col_heading level0 col8\" >description</th>\n",
       "    </tr>\n",
       "  </thead>\n",
       "  <tbody>\n",
       "    <tr>\n",
       "      <th id=\"T_70e74_level0_row0\" class=\"row_heading level0 row0\" >0</th>\n",
       "      <td id=\"T_70e74_row0_col0\" class=\"data row0 col0\" >beliefs</td>\n",
       "      <td id=\"T_70e74_row0_col1\" class=\"data row0 col1\" >14</td>\n",
       "      <td id=\"T_70e74_row0_col2\" class=\"data row0 col2\" >normal</td>\n",
       "      <td id=\"T_70e74_row0_col3\" class=\"data row0 col3\" >5</td>\n",
       "      <td id=\"T_70e74_row0_col4\" class=\"data row0 col4\" >9</td>\n",
       "      <td id=\"T_70e74_row0_col5\" class=\"data row0 col5\" >0</td>\n",
       "      <td id=\"T_70e74_row0_col6\" class=\"data row0 col6\" >0</td>\n",
       "      <td id=\"T_70e74_row0_col7\" class=\"data row0 col7\" >0</td>\n",
       "      <td id=\"T_70e74_row0_col8\" class=\"data row0 col8\" ></td>\n",
       "    </tr>\n",
       "    <tr>\n",
       "      <th id=\"T_70e74_level0_row1\" class=\"row_heading level0 row1\" >1</th>\n",
       "      <td id=\"T_70e74_row1_col0\" class=\"data row1 col0\" >beliefs:by_belief_id</td>\n",
       "      <td id=\"T_70e74_row1_col1\" class=\"data row1 col1\" >8</td>\n",
       "      <td id=\"T_70e74_row1_col2\" class=\"data row1 col2\" >index</td>\n",
       "      <td id=\"T_70e74_row1_col3\" class=\"data row1 col3\" >8</td>\n",
       "      <td id=\"T_70e74_row1_col4\" class=\"data row1 col4\" >0</td>\n",
       "      <td id=\"T_70e74_row1_col5\" class=\"data row1 col5\" >0</td>\n",
       "      <td id=\"T_70e74_row1_col6\" class=\"data row1 col6\" >0</td>\n",
       "      <td id=\"T_70e74_row1_col7\" class=\"data row1 col7\" >0</td>\n",
       "      <td id=\"T_70e74_row1_col8\" class=\"data row1 col8\" ></td>\n",
       "    </tr>\n",
       "    <tr>\n",
       "      <th id=\"T_70e74_level0_row2\" class=\"row_heading level0 row2\" >2</th>\n",
       "      <td id=\"T_70e74_row2_col0\" class=\"data row2 col0\" >beliefs:by_parent_belief</td>\n",
       "      <td id=\"T_70e74_row2_col1\" class=\"data row2 col1\" >9</td>\n",
       "      <td id=\"T_70e74_row2_col2\" class=\"data row2 col2\" >index</td>\n",
       "      <td id=\"T_70e74_row2_col3\" class=\"data row2 col3\" >9</td>\n",
       "      <td id=\"T_70e74_row2_col4\" class=\"data row2 col4\" >0</td>\n",
       "      <td id=\"T_70e74_row2_col5\" class=\"data row2 col5\" >0</td>\n",
       "      <td id=\"T_70e74_row2_col6\" class=\"data row2 col6\" >0</td>\n",
       "      <td id=\"T_70e74_row2_col7\" class=\"data row2 col7\" >0</td>\n",
       "      <td id=\"T_70e74_row2_col8\" class=\"data row2 col8\" ></td>\n",
       "    </tr>\n",
       "    <tr>\n",
       "      <th id=\"T_70e74_level0_row3\" class=\"row_heading level0 row3\" >3</th>\n",
       "      <td id=\"T_70e74_row3_col0\" class=\"data row3 col0\" >beliefs:embedding_space</td>\n",
       "      <td id=\"T_70e74_row3_col1\" class=\"data row3 col1\" >18</td>\n",
       "      <td id=\"T_70e74_row3_col2\" class=\"data row3 col2\" >index</td>\n",
       "      <td id=\"T_70e74_row3_col3\" class=\"data row3 col3\" >15</td>\n",
       "      <td id=\"T_70e74_row3_col4\" class=\"data row3 col4\" >3</td>\n",
       "      <td id=\"T_70e74_row3_col5\" class=\"data row3 col5\" >0</td>\n",
       "      <td id=\"T_70e74_row3_col6\" class=\"data row3 col6\" >0</td>\n",
       "      <td id=\"T_70e74_row3_col7\" class=\"data row3 col7\" >0</td>\n",
       "      <td id=\"T_70e74_row3_col8\" class=\"data row3 col8\" ></td>\n",
       "    </tr>\n",
       "    <tr>\n",
       "      <th id=\"T_70e74_level0_row4\" class=\"row_heading level0 row4\" >4</th>\n",
       "      <td id=\"T_70e74_row4_col0\" class=\"data row4 col0\" >beliefs:fact_embedding_space</td>\n",
       "      <td id=\"T_70e74_row4_col1\" class=\"data row4 col1\" >18</td>\n",
       "      <td id=\"T_70e74_row4_col2\" class=\"data row4 col2\" >index</td>\n",
       "      <td id=\"T_70e74_row4_col3\" class=\"data row4 col3\" >15</td>\n",
       "      <td id=\"T_70e74_row4_col4\" class=\"data row4 col4\" >3</td>\n",
       "      <td id=\"T_70e74_row4_col5\" class=\"data row4 col5\" >0</td>\n",
       "      <td id=\"T_70e74_row4_col6\" class=\"data row4 col6\" >0</td>\n",
       "      <td id=\"T_70e74_row4_col7\" class=\"data row4 col7\" >0</td>\n",
       "      <td id=\"T_70e74_row4_col8\" class=\"data row4 col8\" ></td>\n",
       "    </tr>\n",
       "    <tr>\n",
       "      <th id=\"T_70e74_level0_row5\" class=\"row_heading level0 row5\" >5</th>\n",
       "      <td id=\"T_70e74_row5_col0\" class=\"data row5 col0\" >beliefs:summary</td>\n",
       "      <td id=\"T_70e74_row5_col1\" class=\"data row5 col1\" >10</td>\n",
       "      <td id=\"T_70e74_row5_col2\" class=\"data row5 col2\" >index</td>\n",
       "      <td id=\"T_70e74_row5_col3\" class=\"data row5 col3\" >6</td>\n",
       "      <td id=\"T_70e74_row5_col4\" class=\"data row5 col4\" >4</td>\n",
       "      <td id=\"T_70e74_row5_col5\" class=\"data row5 col5\" >0</td>\n",
       "      <td id=\"T_70e74_row5_col6\" class=\"data row5 col6\" >0</td>\n",
       "      <td id=\"T_70e74_row5_col7\" class=\"data row5 col7\" >0</td>\n",
       "      <td id=\"T_70e74_row5_col8\" class=\"data row5 col8\" ></td>\n",
       "    </tr>\n",
       "    <tr>\n",
       "      <th id=\"T_70e74_level0_row6\" class=\"row_heading level0 row6\" >6</th>\n",
       "      <td id=\"T_70e74_row6_col0\" class=\"data row6 col0\" >character_principles</td>\n",
       "      <td id=\"T_70e74_row6_col1\" class=\"data row6 col1\" >4</td>\n",
       "      <td id=\"T_70e74_row6_col2\" class=\"data row6 col2\" >normal</td>\n",
       "      <td id=\"T_70e74_row6_col3\" class=\"data row6 col3\" >2</td>\n",
       "      <td id=\"T_70e74_row6_col4\" class=\"data row6 col4\" >2</td>\n",
       "      <td id=\"T_70e74_row6_col5\" class=\"data row6 col5\" >0</td>\n",
       "      <td id=\"T_70e74_row6_col6\" class=\"data row6 col6\" >0</td>\n",
       "      <td id=\"T_70e74_row6_col7\" class=\"data row6 col7\" >0</td>\n",
       "      <td id=\"T_70e74_row6_col8\" class=\"data row6 col8\" ></td>\n",
       "    </tr>\n",
       "    <tr>\n",
       "      <th id=\"T_70e74_level0_row7\" class=\"row_heading level0 row7\" >7</th>\n",
       "      <td id=\"T_70e74_row7_col0\" class=\"data row7 col0\" >characters</td>\n",
       "      <td id=\"T_70e74_row7_col1\" class=\"data row7 col1\" >7</td>\n",
       "      <td id=\"T_70e74_row7_col2\" class=\"data row7 col2\" >normal</td>\n",
       "      <td id=\"T_70e74_row7_col3\" class=\"data row7 col3\" >2</td>\n",
       "      <td id=\"T_70e74_row7_col4\" class=\"data row7 col4\" >5</td>\n",
       "      <td id=\"T_70e74_row7_col5\" class=\"data row7 col5\" >0</td>\n",
       "      <td id=\"T_70e74_row7_col6\" class=\"data row7 col6\" >0</td>\n",
       "      <td id=\"T_70e74_row7_col7\" class=\"data row7 col7\" >0</td>\n",
       "      <td id=\"T_70e74_row7_col8\" class=\"data row7 col8\" ></td>\n",
       "    </tr>\n",
       "    <tr>\n",
       "      <th id=\"T_70e74_level0_row8\" class=\"row_heading level0 row8\" >8</th>\n",
       "      <td id=\"T_70e74_row8_col0\" class=\"data row8 col0\" >entries</td>\n",
       "      <td id=\"T_70e74_row8_col1\" class=\"data row8 col1\" >9</td>\n",
       "      <td id=\"T_70e74_row8_col2\" class=\"data row8 col2\" >normal</td>\n",
       "      <td id=\"T_70e74_row8_col3\" class=\"data row8 col3\" >5</td>\n",
       "      <td id=\"T_70e74_row8_col4\" class=\"data row8 col4\" >4</td>\n",
       "      <td id=\"T_70e74_row8_col5\" class=\"data row8 col5\" >0</td>\n",
       "      <td id=\"T_70e74_row8_col6\" class=\"data row8 col6\" >0</td>\n",
       "      <td id=\"T_70e74_row8_col7\" class=\"data row8 col7\" >0</td>\n",
       "      <td id=\"T_70e74_row8_col8\" class=\"data row8 col8\" ></td>\n",
       "    </tr>\n",
       "    <tr>\n",
       "      <th id=\"T_70e74_level0_row9\" class=\"row_heading level0 row9\" >9</th>\n",
       "      <td id=\"T_70e74_row9_col0\" class=\"data row9 col0\" >entries:by_parent_id</td>\n",
       "      <td id=\"T_70e74_row9_col1\" class=\"data row9 col1\" >6</td>\n",
       "      <td id=\"T_70e74_row9_col2\" class=\"data row9 col2\" >index</td>\n",
       "      <td id=\"T_70e74_row9_col3\" class=\"data row9 col3\" >6</td>\n",
       "      <td id=\"T_70e74_row9_col4\" class=\"data row9 col4\" >0</td>\n",
       "      <td id=\"T_70e74_row9_col5\" class=\"data row9 col5\" >0</td>\n",
       "      <td id=\"T_70e74_row9_col6\" class=\"data row9 col6\" >0</td>\n",
       "      <td id=\"T_70e74_row9_col7\" class=\"data row9 col7\" >0</td>\n",
       "      <td id=\"T_70e74_row9_col8\" class=\"data row9 col8\" ></td>\n",
       "    </tr>\n",
       "    <tr>\n",
       "      <th id=\"T_70e74_level0_row10\" class=\"row_heading level0 row10\" >10</th>\n",
       "      <td id=\"T_70e74_row10_col0\" class=\"data row10 col0\" >entries:by_processed</td>\n",
       "      <td id=\"T_70e74_row10_col1\" class=\"data row10 col1\" >6</td>\n",
       "      <td id=\"T_70e74_row10_col2\" class=\"data row10 col2\" >index</td>\n",
       "      <td id=\"T_70e74_row10_col3\" class=\"data row10 col3\" >6</td>\n",
       "      <td id=\"T_70e74_row10_col4\" class=\"data row10 col4\" >0</td>\n",
       "      <td id=\"T_70e74_row10_col5\" class=\"data row10 col5\" >0</td>\n",
       "      <td id=\"T_70e74_row10_col6\" class=\"data row10 col6\" >0</td>\n",
       "      <td id=\"T_70e74_row10_col7\" class=\"data row10 col7\" >0</td>\n",
       "      <td id=\"T_70e74_row10_col8\" class=\"data row10 col8\" ></td>\n",
       "    </tr>\n",
       "    <tr>\n",
       "      <th id=\"T_70e74_level0_row11\" class=\"row_heading level0 row11\" >11</th>\n",
       "      <td id=\"T_70e74_row11_col0\" class=\"data row11 col0\" >episodes</td>\n",
       "      <td id=\"T_70e74_row11_col1\" class=\"data row11 col1\" >16</td>\n",
       "      <td id=\"T_70e74_row11_col2\" class=\"data row11 col2\" >normal</td>\n",
       "      <td id=\"T_70e74_row11_col3\" class=\"data row11 col3\" >6</td>\n",
       "      <td id=\"T_70e74_row11_col4\" class=\"data row11 col4\" >10</td>\n",
       "      <td id=\"T_70e74_row11_col5\" class=\"data row11 col5\" >0</td>\n",
       "      <td id=\"T_70e74_row11_col6\" class=\"data row11 col6\" >0</td>\n",
       "      <td id=\"T_70e74_row11_col7\" class=\"data row11 col7\" >0</td>\n",
       "      <td id=\"T_70e74_row11_col8\" class=\"data row11 col8\" ></td>\n",
       "    </tr>\n",
       "    <tr>\n",
       "      <th id=\"T_70e74_level0_row12\" class=\"row_heading level0 row12\" >12</th>\n",
       "      <td id=\"T_70e74_row12_col0\" class=\"data row12 col0\" >episodes:by_episode_id</td>\n",
       "      <td id=\"T_70e74_row12_col1\" class=\"data row12 col1\" >14</td>\n",
       "      <td id=\"T_70e74_row12_col2\" class=\"data row12 col2\" >index</td>\n",
       "      <td id=\"T_70e74_row12_col3\" class=\"data row12 col3\" >14</td>\n",
       "      <td id=\"T_70e74_row12_col4\" class=\"data row12 col4\" >0</td>\n",
       "      <td id=\"T_70e74_row12_col5\" class=\"data row12 col5\" >0</td>\n",
       "      <td id=\"T_70e74_row12_col6\" class=\"data row12 col6\" >0</td>\n",
       "      <td id=\"T_70e74_row12_col7\" class=\"data row12 col7\" >0</td>\n",
       "      <td id=\"T_70e74_row12_col8\" class=\"data row12 col8\" ></td>\n",
       "    </tr>\n",
       "    <tr>\n",
       "      <th id=\"T_70e74_level0_row13\" class=\"row_heading level0 row13\" >13</th>\n",
       "      <td id=\"T_70e74_row13_col0\" class=\"data row13 col0\" >episodes:embedding_space</td>\n",
       "      <td id=\"T_70e74_row13_col1\" class=\"data row13 col1\" >20</td>\n",
       "      <td id=\"T_70e74_row13_col2\" class=\"data row13 col2\" >index</td>\n",
       "      <td id=\"T_70e74_row13_col3\" class=\"data row13 col3\" >17</td>\n",
       "      <td id=\"T_70e74_row13_col4\" class=\"data row13 col4\" >3</td>\n",
       "      <td id=\"T_70e74_row13_col5\" class=\"data row13 col5\" >0</td>\n",
       "      <td id=\"T_70e74_row13_col6\" class=\"data row13 col6\" >0</td>\n",
       "      <td id=\"T_70e74_row13_col7\" class=\"data row13 col7\" >0</td>\n",
       "      <td id=\"T_70e74_row13_col8\" class=\"data row13 col8\" ></td>\n",
       "    </tr>\n",
       "    <tr>\n",
       "      <th id=\"T_70e74_level0_row14\" class=\"row_heading level0 row14\" >14</th>\n",
       "      <td id=\"T_70e74_row14_col0\" class=\"data row14 col0\" >episodes:fact_embedding_space</td>\n",
       "      <td id=\"T_70e74_row14_col1\" class=\"data row14 col1\" >20</td>\n",
       "      <td id=\"T_70e74_row14_col2\" class=\"data row14 col2\" >index</td>\n",
       "      <td id=\"T_70e74_row14_col3\" class=\"data row14 col3\" >17</td>\n",
       "      <td id=\"T_70e74_row14_col4\" class=\"data row14 col4\" >3</td>\n",
       "      <td id=\"T_70e74_row14_col5\" class=\"data row14 col5\" >0</td>\n",
       "      <td id=\"T_70e74_row14_col6\" class=\"data row14 col6\" >0</td>\n",
       "      <td id=\"T_70e74_row14_col7\" class=\"data row14 col7\" >0</td>\n",
       "      <td id=\"T_70e74_row14_col8\" class=\"data row14 col8\" ></td>\n",
       "    </tr>\n",
       "    <tr>\n",
       "      <th id=\"T_70e74_level0_row15\" class=\"row_heading level0 row15\" >15</th>\n",
       "      <td id=\"T_70e74_row15_col0\" class=\"data row15 col0\" >episodes:summary</td>\n",
       "      <td id=\"T_70e74_row15_col1\" class=\"data row15 col1\" >11</td>\n",
       "      <td id=\"T_70e74_row15_col2\" class=\"data row15 col2\" >index</td>\n",
       "      <td id=\"T_70e74_row15_col3\" class=\"data row15 col3\" >7</td>\n",
       "      <td id=\"T_70e74_row15_col4\" class=\"data row15 col4\" >4</td>\n",
       "      <td id=\"T_70e74_row15_col5\" class=\"data row15 col5\" >0</td>\n",
       "      <td id=\"T_70e74_row15_col6\" class=\"data row15 col6\" >0</td>\n",
       "      <td id=\"T_70e74_row15_col7\" class=\"data row15 col7\" >0</td>\n",
       "      <td id=\"T_70e74_row15_col8\" class=\"data row15 col8\" ></td>\n",
       "    </tr>\n",
       "    <tr>\n",
       "      <th id=\"T_70e74_level0_row16\" class=\"row_heading level0 row16\" >16</th>\n",
       "      <td id=\"T_70e74_row16_col0\" class=\"data row16 col0\" >models</td>\n",
       "      <td id=\"T_70e74_row16_col1\" class=\"data row16 col1\" >4</td>\n",
       "      <td id=\"T_70e74_row16_col2\" class=\"data row16 col2\" >normal</td>\n",
       "      <td id=\"T_70e74_row16_col3\" class=\"data row16 col3\" >3</td>\n",
       "      <td id=\"T_70e74_row16_col4\" class=\"data row16 col4\" >1</td>\n",
       "      <td id=\"T_70e74_row16_col5\" class=\"data row16 col5\" >0</td>\n",
       "      <td id=\"T_70e74_row16_col6\" class=\"data row16 col6\" >0</td>\n",
       "      <td id=\"T_70e74_row16_col7\" class=\"data row16 col7\" >0</td>\n",
       "      <td id=\"T_70e74_row16_col8\" class=\"data row16 col8\" ></td>\n",
       "    </tr>\n",
       "    <tr>\n",
       "      <th id=\"T_70e74_level0_row17\" class=\"row_heading level0 row17\" >17</th>\n",
       "      <td id=\"T_70e74_row17_col0\" class=\"data row17 col0\" >sessions</td>\n",
       "      <td id=\"T_70e74_row17_col1\" class=\"data row17 col1\" >9</td>\n",
       "      <td id=\"T_70e74_row17_col2\" class=\"data row17 col2\" >normal</td>\n",
       "      <td id=\"T_70e74_row17_col3\" class=\"data row17 col3\" >4</td>\n",
       "      <td id=\"T_70e74_row17_col4\" class=\"data row17 col4\" >5</td>\n",
       "      <td id=\"T_70e74_row17_col5\" class=\"data row17 col5\" >0</td>\n",
       "      <td id=\"T_70e74_row17_col6\" class=\"data row17 col6\" >0</td>\n",
       "      <td id=\"T_70e74_row17_col7\" class=\"data row17 col7\" >0</td>\n",
       "      <td id=\"T_70e74_row17_col8\" class=\"data row17 col8\" ></td>\n",
       "    </tr>\n",
       "    <tr>\n",
       "      <th id=\"T_70e74_level0_row18\" class=\"row_heading level0 row18\" >18</th>\n",
       "      <td id=\"T_70e74_row18_col0\" class=\"data row18 col0\" >user_humantic_profile</td>\n",
       "      <td id=\"T_70e74_row18_col1\" class=\"data row18 col1\" >4</td>\n",
       "      <td id=\"T_70e74_row18_col2\" class=\"data row18 col2\" >normal</td>\n",
       "      <td id=\"T_70e74_row18_col3\" class=\"data row18 col3\" >2</td>\n",
       "      <td id=\"T_70e74_row18_col4\" class=\"data row18 col4\" >2</td>\n",
       "      <td id=\"T_70e74_row18_col5\" class=\"data row18 col5\" >0</td>\n",
       "      <td id=\"T_70e74_row18_col6\" class=\"data row18 col6\" >0</td>\n",
       "      <td id=\"T_70e74_row18_col7\" class=\"data row18 col7\" >0</td>\n",
       "      <td id=\"T_70e74_row18_col8\" class=\"data row18 col8\" ></td>\n",
       "    </tr>\n",
       "    <tr>\n",
       "      <th id=\"T_70e74_level0_row19\" class=\"row_heading level0 row19\" >19</th>\n",
       "      <td id=\"T_70e74_row19_col0\" class=\"data row19 col0\" >user_principles</td>\n",
       "      <td id=\"T_70e74_row19_col1\" class=\"data row19 col1\" >6</td>\n",
       "      <td id=\"T_70e74_row19_col2\" class=\"data row19 col2\" >normal</td>\n",
       "      <td id=\"T_70e74_row19_col3\" class=\"data row19 col3\" >4</td>\n",
       "      <td id=\"T_70e74_row19_col4\" class=\"data row19 col4\" >2</td>\n",
       "      <td id=\"T_70e74_row19_col5\" class=\"data row19 col5\" >0</td>\n",
       "      <td id=\"T_70e74_row19_col6\" class=\"data row19 col6\" >0</td>\n",
       "      <td id=\"T_70e74_row19_col7\" class=\"data row19 col7\" >0</td>\n",
       "      <td id=\"T_70e74_row19_col8\" class=\"data row19 col8\" ></td>\n",
       "    </tr>\n",
       "    <tr>\n",
       "      <th id=\"T_70e74_level0_row20\" class=\"row_heading level0 row20\" >20</th>\n",
       "      <td id=\"T_70e74_row20_col0\" class=\"data row20 col0\" >users</td>\n",
       "      <td id=\"T_70e74_row20_col1\" class=\"data row20 col1\" >7</td>\n",
       "      <td id=\"T_70e74_row20_col2\" class=\"data row20 col2\" >normal</td>\n",
       "      <td id=\"T_70e74_row20_col3\" class=\"data row20 col3\" >2</td>\n",
       "      <td id=\"T_70e74_row20_col4\" class=\"data row20 col4\" >5</td>\n",
       "      <td id=\"T_70e74_row20_col5\" class=\"data row20 col5\" >0</td>\n",
       "      <td id=\"T_70e74_row20_col6\" class=\"data row20 col6\" >0</td>\n",
       "      <td id=\"T_70e74_row20_col7\" class=\"data row20 col7\" >0</td>\n",
       "      <td id=\"T_70e74_row20_col8\" class=\"data row20 col8\" ></td>\n",
       "    </tr>\n",
       "    <tr>\n",
       "      <th id=\"T_70e74_level0_row21\" class=\"row_heading level0 row21\" >21</th>\n",
       "      <td id=\"T_70e74_row21_col0\" class=\"data row21 col0\" >users:by_email</td>\n",
       "      <td id=\"T_70e74_row21_col1\" class=\"data row21 col1\" >6</td>\n",
       "      <td id=\"T_70e74_row21_col2\" class=\"data row21 col2\" >index</td>\n",
       "      <td id=\"T_70e74_row21_col3\" class=\"data row21 col3\" >6</td>\n",
       "      <td id=\"T_70e74_row21_col4\" class=\"data row21 col4\" >0</td>\n",
       "      <td id=\"T_70e74_row21_col5\" class=\"data row21 col5\" >0</td>\n",
       "      <td id=\"T_70e74_row21_col6\" class=\"data row21 col6\" >0</td>\n",
       "      <td id=\"T_70e74_row21_col7\" class=\"data row21 col7\" >0</td>\n",
       "      <td id=\"T_70e74_row21_col8\" class=\"data row21 col8\" ></td>\n",
       "    </tr>\n",
       "  </tbody>\n",
       "</table>\n"
      ],
      "text/plain": [
       "<pandas.io.formats.style.Styler at 0x7efd8204f9a0>"
      ]
     },
     "execution_count": 4,
     "metadata": {},
     "output_type": "execute_result"
    }
   ],
   "source": [
    "::relations"
   ]
  },
  {
   "cell_type": "code",
   "execution_count": 8,
   "id": "052a26b5-55bf-42d7-8a72-79f109a7922b",
   "metadata": {},
   "outputs": [
    {
     "data": {
      "text/html": [
       "<style type=\"text/css\">\n",
       "#T_1c2dc_row0_col0 {\n",
       "  color: black;\n",
       "}\n",
       "</style>\n",
       "<table id=\"T_1c2dc\">\n",
       "  <thead>\n",
       "    <tr>\n",
       "      <th class=\"blank level0\" >&nbsp;</th>\n",
       "      <th id=\"T_1c2dc_level0_col0\" class=\"col_heading level0 col0\" >status</th>\n",
       "    </tr>\n",
       "  </thead>\n",
       "  <tbody>\n",
       "    <tr>\n",
       "      <th id=\"T_1c2dc_level0_row0\" class=\"row_heading level0 row0\" >0</th>\n",
       "      <td id=\"T_1c2dc_row0_col0\" class=\"data row0 col0\" >OK</td>\n",
       "    </tr>\n",
       "  </tbody>\n",
       "</table>\n"
      ],
      "text/plain": [
       "<pandas.io.formats.style.Styler at 0x7f34fc216e00>"
      ]
     },
     "execution_count": 8,
     "metadata": {},
     "output_type": "execute_result"
    }
   ],
   "source": [
    ":create characters {\n",
    "    character_id: Uuid,\n",
    "    updated_at: Validity default [floor(now()), true],\n",
    "    =>\n",
    "    model: String? default null,\n",
    "    name: String,\n",
    "    about: String default \"\",\n",
    "    metadata: Json default {},\n",
    "    created_at: Float default now(),\n",
    "}"
   ]
  },
  {
   "cell_type": "code",
   "execution_count": 9,
   "id": "62b2386a-e67f-4880-b2a3-30da8d4871a2",
   "metadata": {},
   "outputs": [
    {
     "data": {
      "text/html": [
       "<style type=\"text/css\">\n",
       "#T_fac3e_row0_col0 {\n",
       "  color: black;\n",
       "}\n",
       "</style>\n",
       "<table id=\"T_fac3e\">\n",
       "  <thead>\n",
       "    <tr>\n",
       "      <th class=\"blank level0\" >&nbsp;</th>\n",
       "      <th id=\"T_fac3e_level0_col0\" class=\"col_heading level0 col0\" >status</th>\n",
       "    </tr>\n",
       "  </thead>\n",
       "  <tbody>\n",
       "    <tr>\n",
       "      <th id=\"T_fac3e_level0_row0\" class=\"row_heading level0 row0\" >0</th>\n",
       "      <td id=\"T_fac3e_row0_col0\" class=\"data row0 col0\" >OK</td>\n",
       "    </tr>\n",
       "  </tbody>\n",
       "</table>\n"
      ],
      "text/plain": [
       "<pandas.io.formats.style.Styler at 0x7f34dcd7bbe0>"
      ]
     },
     "execution_count": 9,
     "metadata": {},
     "output_type": "execute_result"
    }
   ],
   "source": [
    ":create users {\n",
    "    user_id: Uuid,\n",
    "    updated_at: Validity default [floor(now()), true],\n",
    "    =>\n",
    "    email: String,\n",
    "    name: String,\n",
    "    about: String default \"\",\n",
    "    metadata: Json default {},\n",
    "    created_at: Float default now(),\n",
    "}"
   ]
  },
  {
   "cell_type": "code",
   "execution_count": 10,
   "id": "94dbd991-660c-4f32-b3b8-4a04ced83274",
   "metadata": {},
   "outputs": [
    {
     "data": {
      "text/html": [
       "<style type=\"text/css\">\n",
       "#T_d7f29_row0_col0 {\n",
       "  color: black;\n",
       "}\n",
       "</style>\n",
       "<table id=\"T_d7f29\">\n",
       "  <thead>\n",
       "    <tr>\n",
       "      <th class=\"blank level0\" >&nbsp;</th>\n",
       "      <th id=\"T_d7f29_level0_col0\" class=\"col_heading level0 col0\" >status</th>\n",
       "    </tr>\n",
       "  </thead>\n",
       "  <tbody>\n",
       "    <tr>\n",
       "      <th id=\"T_d7f29_level0_row0\" class=\"row_heading level0 row0\" >0</th>\n",
       "      <td id=\"T_d7f29_row0_col0\" class=\"data row0 col0\" >OK</td>\n",
       "    </tr>\n",
       "  </tbody>\n",
       "</table>\n"
      ],
      "text/plain": [
       "<pandas.io.formats.style.Styler at 0x7f34dcec0460>"
      ]
     },
     "execution_count": 10,
     "metadata": {},
     "output_type": "execute_result"
    }
   ],
   "source": [
    "::index create users:by_email {\n",
    "    email,\n",
    "    user_id,\n",
    "    name,\n",
    "    about,\n",
    "    metadata\n",
    "}"
   ]
  },
  {
   "cell_type": "code",
   "execution_count": 11,
   "id": "795c1235-4f78-48e2-bb44-1c1db052fe81",
   "metadata": {},
   "outputs": [
    {
     "data": {
      "text/html": [
       "<style type=\"text/css\">\n",
       "#T_ac31c_row0_col0 {\n",
       "  color: black;\n",
       "}\n",
       "</style>\n",
       "<table id=\"T_ac31c\">\n",
       "  <thead>\n",
       "    <tr>\n",
       "      <th class=\"blank level0\" >&nbsp;</th>\n",
       "      <th id=\"T_ac31c_level0_col0\" class=\"col_heading level0 col0\" >status</th>\n",
       "    </tr>\n",
       "  </thead>\n",
       "  <tbody>\n",
       "    <tr>\n",
       "      <th id=\"T_ac31c_level0_row0\" class=\"row_heading level0 row0\" >0</th>\n",
       "      <td id=\"T_ac31c_row0_col0\" class=\"data row0 col0\" >OK</td>\n",
       "    </tr>\n",
       "  </tbody>\n",
       "</table>\n"
      ],
      "text/plain": [
       "<pandas.io.formats.style.Styler at 0x7f34dcec0430>"
      ]
     },
     "execution_count": 11,
     "metadata": {},
     "output_type": "execute_result"
    }
   ],
   "source": [
    ":create sessions {\n",
    "    character_id: Uuid,\n",
    "    user_id: Uuid? default null,\n",
    "    session_id: Uuid,\n",
    "    updated_at: Validity default [floor(now()), true],\n",
    "    =>\n",
    "    situation: String,\n",
    "    summary: String? default null,\n",
    "    metadata: Json default {},\n",
    "    created_at: Float default now(),\n",
    "    ended_at: Float? default null,\n",
    "}"
   ]
  },
  {
   "cell_type": "code",
   "execution_count": 18,
   "id": "a3534c87-fc72-4ed5-8a6d-76a76b5e5df3",
   "metadata": {},
   "outputs": [
    {
     "data": {
      "text/html": [
       "<style type=\"text/css\">\n",
       "#T_35d6c_row0_col0 {\n",
       "  color: black;\n",
       "}\n",
       "</style>\n",
       "<table id=\"T_35d6c\">\n",
       "  <thead>\n",
       "    <tr>\n",
       "      <th class=\"blank level0\" >&nbsp;</th>\n",
       "      <th id=\"T_35d6c_level0_col0\" class=\"col_heading level0 col0\" >status</th>\n",
       "    </tr>\n",
       "  </thead>\n",
       "  <tbody>\n",
       "    <tr>\n",
       "      <th id=\"T_35d6c_level0_row0\" class=\"row_heading level0 row0\" >0</th>\n",
       "      <td id=\"T_35d6c_row0_col0\" class=\"data row0 col0\" >OK</td>\n",
       "    </tr>\n",
       "  </tbody>\n",
       "</table>\n"
      ],
      "text/plain": [
       "<pandas.io.formats.style.Styler at 0x7f34dcec0400>"
      ]
     },
     "execution_count": 18,
     "metadata": {},
     "output_type": "execute_result"
    }
   ],
   "source": [
    ":create entries {\n",
    "    session_id: Uuid,\n",
    "    entry_id: Uuid default rand_uuid_v4(),\n",
    "    timestamp: Float default now(),\n",
    "    role: String,\n",
    "    name: String? default null,\n",
    "    =>\n",
    "    content: String,\n",
    "    token_count: Int,\n",
    "    processed: Bool default false,\n",
    "    parent_id: Uuid? default null,\n",
    "}"
   ]
  },
  {
   "cell_type": "code",
   "execution_count": 19,
   "id": "edbacc5b-d940-426f-beb9-4c69cee5bcd5",
   "metadata": {},
   "outputs": [
    {
     "data": {
      "text/html": [
       "<style type=\"text/css\">\n",
       "#T_a7700_row0_col0 {\n",
       "  color: black;\n",
       "}\n",
       "</style>\n",
       "<table id=\"T_a7700\">\n",
       "  <thead>\n",
       "    <tr>\n",
       "      <th class=\"blank level0\" >&nbsp;</th>\n",
       "      <th id=\"T_a7700_level0_col0\" class=\"col_heading level0 col0\" >status</th>\n",
       "    </tr>\n",
       "  </thead>\n",
       "  <tbody>\n",
       "    <tr>\n",
       "      <th id=\"T_a7700_level0_row0\" class=\"row_heading level0 row0\" >0</th>\n",
       "      <td id=\"T_a7700_row0_col0\" class=\"data row0 col0\" >OK</td>\n",
       "    </tr>\n",
       "  </tbody>\n",
       "</table>\n"
      ],
      "text/plain": [
       "<pandas.io.formats.style.Styler at 0x7f34dcec0640>"
      ]
     },
     "execution_count": 19,
     "metadata": {},
     "output_type": "execute_result"
    }
   ],
   "source": [
    "::index create entries:by_parent_id {\n",
    "    parent_id,\n",
    "    session_id,\n",
    "}"
   ]
  },
  {
   "cell_type": "code",
   "execution_count": 20,
   "id": "c442bb28-9092-40fd-a7fa-3a80678caa70",
   "metadata": {},
   "outputs": [
    {
     "data": {
      "text/html": [
       "<style type=\"text/css\">\n",
       "#T_da36a_row0_col0 {\n",
       "  color: black;\n",
       "}\n",
       "</style>\n",
       "<table id=\"T_da36a\">\n",
       "  <thead>\n",
       "    <tr>\n",
       "      <th class=\"blank level0\" >&nbsp;</th>\n",
       "      <th id=\"T_da36a_level0_col0\" class=\"col_heading level0 col0\" >status</th>\n",
       "    </tr>\n",
       "  </thead>\n",
       "  <tbody>\n",
       "    <tr>\n",
       "      <th id=\"T_da36a_level0_row0\" class=\"row_heading level0 row0\" >0</th>\n",
       "      <td id=\"T_da36a_row0_col0\" class=\"data row0 col0\" >OK</td>\n",
       "    </tr>\n",
       "  </tbody>\n",
       "</table>\n"
      ],
      "text/plain": [
       "<pandas.io.formats.style.Styler at 0x7f34dcdba680>"
      ]
     },
     "execution_count": 20,
     "metadata": {},
     "output_type": "execute_result"
    }
   ],
   "source": [
    "::index create entries:by_processed {\n",
    "    processed,\n",
    "    session_id,\n",
    "}"
   ]
  },
  {
   "cell_type": "code",
   "execution_count": 21,
   "id": "e0a8b81f-967f-458e-b2f5-bbc3ae800d99",
   "metadata": {},
   "outputs": [
    {
     "data": {
      "text/html": [
       "<style type=\"text/css\">\n",
       "#T_16e31_row0_col0 {\n",
       "  color: black;\n",
       "}\n",
       "</style>\n",
       "<table id=\"T_16e31\">\n",
       "  <thead>\n",
       "    <tr>\n",
       "      <th class=\"blank level0\" >&nbsp;</th>\n",
       "      <th id=\"T_16e31_level0_col0\" class=\"col_heading level0 col0\" >status</th>\n",
       "    </tr>\n",
       "  </thead>\n",
       "  <tbody>\n",
       "    <tr>\n",
       "      <th id=\"T_16e31_level0_row0\" class=\"row_heading level0 row0\" >0</th>\n",
       "      <td id=\"T_16e31_row0_col0\" class=\"data row0 col0\" >OK</td>\n",
       "    </tr>\n",
       "  </tbody>\n",
       "</table>\n"
      ],
      "text/plain": [
       "<pandas.io.formats.style.Styler at 0x7f351d7b90f0>"
      ]
     },
     "execution_count": 21,
     "metadata": {},
     "output_type": "execute_result"
    }
   ],
   "source": [
    ":create models {\n",
    "    model_name: String,\n",
    "    max_length: Int,\n",
    "    updated_at: Validity default [floor(now()), true],\n",
    "    =>\n",
    "    default_settings: Json default {},\n",
    "}"
   ]
  },
  {
   "cell_type": "code",
   "execution_count": 4,
   "id": "4b22282c-aa16-442e-a355-318ccb96a8b6",
   "metadata": {},
   "outputs": [
    {
     "data": {
      "text/html": [
       "<style type=\"text/css\">\n",
       "#T_bc750_row0_col0 {\n",
       "  color: black;\n",
       "}\n",
       "</style>\n",
       "<table id=\"T_bc750\">\n",
       "  <thead>\n",
       "    <tr>\n",
       "      <th class=\"blank level0\" >&nbsp;</th>\n",
       "      <th id=\"T_bc750_level0_col0\" class=\"col_heading level0 col0\" >status</th>\n",
       "    </tr>\n",
       "  </thead>\n",
       "  <tbody>\n",
       "    <tr>\n",
       "      <th id=\"T_bc750_level0_row0\" class=\"row_heading level0 row0\" >0</th>\n",
       "      <td id=\"T_bc750_row0_col0\" class=\"data row0 col0\" >OK</td>\n",
       "    </tr>\n",
       "  </tbody>\n",
       "</table>\n"
      ],
      "text/plain": [
       "<pandas.io.formats.style.Styler at 0x7f74b21f2ec0>"
      ]
     },
     "execution_count": 4,
     "metadata": {},
     "output_type": "execute_result"
    }
   ],
   "source": [
    ":create beliefs {\n",
    "    referrent_is_user: Bool,\n",
    "    referrent_id: Uuid,\n",
    "    subject_is_user: Bool? default null,\n",
    "    subject_id: Uuid? default null,\n",
    "    belief_id: Uuid,\n",
    "    =>\n",
    "    belief: String,\n",
    "    valence: Float default 0.0,\n",
    "    source_episode: Uuid? default null,\n",
    "    parent_belief: Uuid? default null,\n",
    "    sentiment: String default \"neutral\",\n",
    "    processed: Bool default false,\n",
    "    created_at: Float default now(),\n",
    "    embedding: <F32; 384>,\n",
    "    fact_embedding: <F32; 1536>? default null,\n",
    "}\n"
   ]
  },
  {
   "cell_type": "code",
   "execution_count": 5,
   "id": "ffbdcdf4",
   "metadata": {},
   "outputs": [
    {
     "data": {
      "text/html": [
       "<style type=\"text/css\">\n",
       "#T_c2896_row0_col0 {\n",
       "  color: black;\n",
       "}\n",
       "</style>\n",
       "<table id=\"T_c2896\">\n",
       "  <thead>\n",
       "    <tr>\n",
       "      <th class=\"blank level0\" >&nbsp;</th>\n",
       "      <th id=\"T_c2896_level0_col0\" class=\"col_heading level0 col0\" >status</th>\n",
       "    </tr>\n",
       "  </thead>\n",
       "  <tbody>\n",
       "    <tr>\n",
       "      <th id=\"T_c2896_level0_row0\" class=\"row_heading level0 row0\" >0</th>\n",
       "      <td id=\"T_c2896_row0_col0\" class=\"data row0 col0\" >OK</td>\n",
       "    </tr>\n",
       "  </tbody>\n",
       "</table>\n"
      ],
      "text/plain": [
       "<pandas.io.formats.style.Styler at 0x7f74b1ddb010>"
      ]
     },
     "execution_count": 5,
     "metadata": {},
     "output_type": "execute_result"
    }
   ],
   "source": [
    "\n",
    "::index create beliefs:by_belief_id {\n",
    "    belief_id,\n",
    "    belief,\n",
    "    valence,\n",
    "    sentiment,\n",
    "}"
   ]
  },
  {
   "cell_type": "code",
   "execution_count": 6,
   "id": "e7be5d67",
   "metadata": {},
   "outputs": [
    {
     "data": {
      "text/html": [
       "<style type=\"text/css\">\n",
       "#T_4dc18_row0_col0 {\n",
       "  color: black;\n",
       "}\n",
       "</style>\n",
       "<table id=\"T_4dc18\">\n",
       "  <thead>\n",
       "    <tr>\n",
       "      <th class=\"blank level0\" >&nbsp;</th>\n",
       "      <th id=\"T_4dc18_level0_col0\" class=\"col_heading level0 col0\" >status</th>\n",
       "    </tr>\n",
       "  </thead>\n",
       "  <tbody>\n",
       "    <tr>\n",
       "      <th id=\"T_4dc18_level0_row0\" class=\"row_heading level0 row0\" >0</th>\n",
       "      <td id=\"T_4dc18_row0_col0\" class=\"data row0 col0\" >OK</td>\n",
       "    </tr>\n",
       "  </tbody>\n",
       "</table>\n"
      ],
      "text/plain": [
       "<pandas.io.formats.style.Styler at 0x7f74edc9f8e0>"
      ]
     },
     "execution_count": 6,
     "metadata": {},
     "output_type": "execute_result"
    }
   ],
   "source": [
    "::index create beliefs:by_parent_belief {\n",
    "    parent_belief,\n",
    "    belief_id,\n",
    "    belief,\n",
    "    valence,\n",
    "    sentiment,\n",
    "}\n"
   ]
  },
  {
   "cell_type": "code",
   "execution_count": 7,
   "id": "e71ff9ee",
   "metadata": {},
   "outputs": [
    {
     "data": {
      "text/html": [
       "<style type=\"text/css\">\n",
       "#T_4107d_row0_col0 {\n",
       "  color: black;\n",
       "}\n",
       "</style>\n",
       "<table id=\"T_4107d\">\n",
       "  <thead>\n",
       "    <tr>\n",
       "      <th class=\"blank level0\" >&nbsp;</th>\n",
       "      <th id=\"T_4107d_level0_col0\" class=\"col_heading level0 col0\" >status</th>\n",
       "    </tr>\n",
       "  </thead>\n",
       "  <tbody>\n",
       "    <tr>\n",
       "      <th id=\"T_4107d_level0_row0\" class=\"row_heading level0 row0\" >0</th>\n",
       "      <td id=\"T_4107d_row0_col0\" class=\"data row0 col0\" >OK</td>\n",
       "    </tr>\n",
       "  </tbody>\n",
       "</table>\n"
      ],
      "text/plain": [
       "<pandas.io.formats.style.Styler at 0x7f74b1e13670>"
      ]
     },
     "execution_count": 7,
     "metadata": {},
     "output_type": "execute_result"
    }
   ],
   "source": [
    "::hnsw create beliefs:embedding_space {\n",
    "    dim: 384,\n",
    "    m: 50,\n",
    "    dtype: F32,\n",
    "    fields: embedding,\n",
    "    distance: Cosine,\n",
    "    ef_construction: 20,\n",
    "    extend_candidates: true,\n",
    "    keep_pruned_connections: false,\n",
    "}\n"
   ]
  },
  {
   "cell_type": "code",
   "execution_count": 8,
   "id": "30c8781d",
   "metadata": {},
   "outputs": [
    {
     "data": {
      "text/html": [
       "<style type=\"text/css\">\n",
       "#T_d187c_row0_col0 {\n",
       "  color: black;\n",
       "}\n",
       "</style>\n",
       "<table id=\"T_d187c\">\n",
       "  <thead>\n",
       "    <tr>\n",
       "      <th class=\"blank level0\" >&nbsp;</th>\n",
       "      <th id=\"T_d187c_level0_col0\" class=\"col_heading level0 col0\" >status</th>\n",
       "    </tr>\n",
       "  </thead>\n",
       "  <tbody>\n",
       "    <tr>\n",
       "      <th id=\"T_d187c_level0_row0\" class=\"row_heading level0 row0\" >0</th>\n",
       "      <td id=\"T_d187c_row0_col0\" class=\"data row0 col0\" >OK</td>\n",
       "    </tr>\n",
       "  </tbody>\n",
       "</table>\n"
      ],
      "text/plain": [
       "<pandas.io.formats.style.Styler at 0x7f74b1e5e350>"
      ]
     },
     "execution_count": 8,
     "metadata": {},
     "output_type": "execute_result"
    }
   ],
   "source": [
    "::hnsw create beliefs:fact_embedding_space {\n",
    "    dim: 1536,\n",
    "    m: 50,\n",
    "    dtype: F32,\n",
    "    fields: fact_embedding,\n",
    "    filter: !is_null(fact_embedding),\n",
    "    distance: Cosine,\n",
    "    ef_construction: 20,\n",
    "    extend_candidates: false,\n",
    "    keep_pruned_connections: false,\n",
    "}\n"
   ]
  },
  {
   "cell_type": "code",
   "execution_count": 9,
   "id": "8a3589fa",
   "metadata": {},
   "outputs": [
    {
     "data": {
      "text/html": [
       "<style type=\"text/css\">\n",
       "#T_67c38_row0_col0 {\n",
       "  color: black;\n",
       "}\n",
       "</style>\n",
       "<table id=\"T_67c38\">\n",
       "  <thead>\n",
       "    <tr>\n",
       "      <th class=\"blank level0\" >&nbsp;</th>\n",
       "      <th id=\"T_67c38_level0_col0\" class=\"col_heading level0 col0\" >status</th>\n",
       "    </tr>\n",
       "  </thead>\n",
       "  <tbody>\n",
       "    <tr>\n",
       "      <th id=\"T_67c38_level0_row0\" class=\"row_heading level0 row0\" >0</th>\n",
       "      <td id=\"T_67c38_row0_col0\" class=\"data row0 col0\" >OK</td>\n",
       "    </tr>\n",
       "  </tbody>\n",
       "</table>\n"
      ],
      "text/plain": [
       "<pandas.io.formats.style.Styler at 0x7f74eddda1a0>"
      ]
     },
     "execution_count": 9,
     "metadata": {},
     "output_type": "execute_result"
    }
   ],
   "source": [
    "::fts create beliefs:summary {\n",
    "    extractor: belief,\n",
    "    tokenizer: Simple,\n",
    "    filters: [AsciiFolding, AlphaNumOnly, Lowercase, Stemmer('english'), Stopwords('en')],\n",
    "}\n"
   ]
  },
  {
   "cell_type": "code",
   "execution_count": 10,
   "id": "91e2fbf3",
   "metadata": {},
   "outputs": [
    {
     "data": {
      "text/html": [
       "<style type=\"text/css\">\n",
       "#T_356d5_row0_col0 {\n",
       "  color: black;\n",
       "}\n",
       "</style>\n",
       "<table id=\"T_356d5\">\n",
       "  <thead>\n",
       "    <tr>\n",
       "      <th class=\"blank level0\" >&nbsp;</th>\n",
       "      <th id=\"T_356d5_level0_col0\" class=\"col_heading level0 col0\" >status</th>\n",
       "    </tr>\n",
       "  </thead>\n",
       "  <tbody>\n",
       "    <tr>\n",
       "      <th id=\"T_356d5_level0_row0\" class=\"row_heading level0 row0\" >0</th>\n",
       "      <td id=\"T_356d5_row0_col0\" class=\"data row0 col0\" >OK</td>\n",
       "    </tr>\n",
       "  </tbody>\n",
       "</table>\n"
      ],
      "text/plain": [
       "<pandas.io.formats.style.Styler at 0x7f74b1b3fee0>"
      ]
     },
     "execution_count": 10,
     "metadata": {},
     "output_type": "execute_result"
    }
   ],
   "source": [
    ":create episodes {\n",
    "    referrent_is_user: Bool,\n",
    "    referrent_id: Uuid,\n",
    "    subject_is_user: Bool? default null,\n",
    "    subject_id: Uuid? default null,\n",
    "    episode_id: Uuid,\n",
    "    last_accessed_at: Validity default [floor(now()), true],\n",
    "    =>\n",
    "    summary: String,\n",
    "    parent_episode: Uuid? default null,\n",
    "    happened_at: Float default now(),\n",
    "    duration: Float default 0,\n",
    "    importance: Float default 0.5,\n",
    "    sentiment: String default \"neutral\",\n",
    "    sentiment_strength: Float default 0.33334,\n",
    "    created_at: Float default now(),\n",
    "    embedding: <F32; 384>,\n",
    "    fact_embedding: <F32; 1536>? default null,\n",
    "}\n",
    "\n"
   ]
  },
  {
   "cell_type": "code",
   "execution_count": 11,
   "id": "f6011da6",
   "metadata": {},
   "outputs": [
    {
     "data": {
      "text/html": [
       "<style type=\"text/css\">\n",
       "#T_24436_row0_col0 {\n",
       "  color: black;\n",
       "}\n",
       "</style>\n",
       "<table id=\"T_24436\">\n",
       "  <thead>\n",
       "    <tr>\n",
       "      <th class=\"blank level0\" >&nbsp;</th>\n",
       "      <th id=\"T_24436_level0_col0\" class=\"col_heading level0 col0\" >status</th>\n",
       "    </tr>\n",
       "  </thead>\n",
       "  <tbody>\n",
       "    <tr>\n",
       "      <th id=\"T_24436_level0_row0\" class=\"row_heading level0 row0\" >0</th>\n",
       "      <td id=\"T_24436_row0_col0\" class=\"data row0 col0\" >OK</td>\n",
       "    </tr>\n",
       "  </tbody>\n",
       "</table>\n"
      ],
      "text/plain": [
       "<pandas.io.formats.style.Styler at 0x7f74edcd42b0>"
      ]
     },
     "execution_count": 11,
     "metadata": {},
     "output_type": "execute_result"
    }
   ],
   "source": [
    "::index create episodes:by_episode_id {\n",
    "    episode_id,\n",
    "    summary,\n",
    "    parent_episode,\n",
    "    happened_at,\n",
    "    duration,\n",
    "    importance,\n",
    "    sentiment,\n",
    "    sentiment_strength,\n",
    "    created_at,\n",
    "}\n"
   ]
  },
  {
   "cell_type": "code",
   "execution_count": 12,
   "id": "3b5b451e",
   "metadata": {},
   "outputs": [
    {
     "data": {
      "text/html": [
       "<style type=\"text/css\">\n",
       "#T_844e0_row0_col0 {\n",
       "  color: black;\n",
       "}\n",
       "</style>\n",
       "<table id=\"T_844e0\">\n",
       "  <thead>\n",
       "    <tr>\n",
       "      <th class=\"blank level0\" >&nbsp;</th>\n",
       "      <th id=\"T_844e0_level0_col0\" class=\"col_heading level0 col0\" >status</th>\n",
       "    </tr>\n",
       "  </thead>\n",
       "  <tbody>\n",
       "    <tr>\n",
       "      <th id=\"T_844e0_level0_row0\" class=\"row_heading level0 row0\" >0</th>\n",
       "      <td id=\"T_844e0_row0_col0\" class=\"data row0 col0\" >OK</td>\n",
       "    </tr>\n",
       "  </tbody>\n",
       "</table>\n"
      ],
      "text/plain": [
       "<pandas.io.formats.style.Styler at 0x7f74b1b3ebc0>"
      ]
     },
     "execution_count": 12,
     "metadata": {},
     "output_type": "execute_result"
    }
   ],
   "source": [
    "::hnsw create episodes:embedding_space {\n",
    "    dim: 384,\n",
    "    m: 50,\n",
    "    dtype: F32,\n",
    "    fields: embedding,\n",
    "    distance: Cosine,\n",
    "    ef_construction: 20,\n",
    "    extend_candidates: true,\n",
    "    keep_pruned_connections: false,\n",
    "}\n"
   ]
  },
  {
   "cell_type": "code",
   "execution_count": 13,
   "id": "12b5e89d",
   "metadata": {},
   "outputs": [
    {
     "data": {
      "text/html": [
       "<style type=\"text/css\">\n",
       "#T_45808_row0_col0 {\n",
       "  color: black;\n",
       "}\n",
       "</style>\n",
       "<table id=\"T_45808\">\n",
       "  <thead>\n",
       "    <tr>\n",
       "      <th class=\"blank level0\" >&nbsp;</th>\n",
       "      <th id=\"T_45808_level0_col0\" class=\"col_heading level0 col0\" >status</th>\n",
       "    </tr>\n",
       "  </thead>\n",
       "  <tbody>\n",
       "    <tr>\n",
       "      <th id=\"T_45808_level0_row0\" class=\"row_heading level0 row0\" >0</th>\n",
       "      <td id=\"T_45808_row0_col0\" class=\"data row0 col0\" >OK</td>\n",
       "    </tr>\n",
       "  </tbody>\n",
       "</table>\n"
      ],
      "text/plain": [
       "<pandas.io.formats.style.Styler at 0x7f74b1b3f5e0>"
      ]
     },
     "execution_count": 13,
     "metadata": {},
     "output_type": "execute_result"
    }
   ],
   "source": [
    "::hnsw create episodes:fact_embedding_space {\n",
    "    dim: 1536,\n",
    "    m: 50,\n",
    "    dtype: F32,\n",
    "    fields: fact_embedding,\n",
    "    distance: Cosine,\n",
    "    filter: !is_null(fact_embedding),\n",
    "    ef_construction: 20,\n",
    "    extend_candidates: false,\n",
    "    keep_pruned_connections: false,\n",
    "}\n",
    "\n"
   ]
  },
  {
   "cell_type": "code",
   "execution_count": 14,
   "id": "c0399164",
   "metadata": {},
   "outputs": [
    {
     "data": {
      "text/html": [
       "<style type=\"text/css\">\n",
       "#T_c1ac6_row0_col0 {\n",
       "  color: black;\n",
       "}\n",
       "</style>\n",
       "<table id=\"T_c1ac6\">\n",
       "  <thead>\n",
       "    <tr>\n",
       "      <th class=\"blank level0\" >&nbsp;</th>\n",
       "      <th id=\"T_c1ac6_level0_col0\" class=\"col_heading level0 col0\" >status</th>\n",
       "    </tr>\n",
       "  </thead>\n",
       "  <tbody>\n",
       "    <tr>\n",
       "      <th id=\"T_c1ac6_level0_row0\" class=\"row_heading level0 row0\" >0</th>\n",
       "      <td id=\"T_c1ac6_row0_col0\" class=\"data row0 col0\" >OK</td>\n",
       "    </tr>\n",
       "  </tbody>\n",
       "</table>\n"
      ],
      "text/plain": [
       "<pandas.io.formats.style.Styler at 0x7f74edcd4280>"
      ]
     },
     "execution_count": 14,
     "metadata": {},
     "output_type": "execute_result"
    }
   ],
   "source": [
    "::fts create episodes:summary {\n",
    "    extractor: summary,\n",
    "    tokenizer: Simple,\n",
    "    filters: [AsciiFolding, AlphaNumOnly, Lowercase, Stemmer('english'), Stopwords('en')],\n",
    "}\n"
   ]
  },
  {
   "cell_type": "code",
   "execution_count": 5,
   "id": "5c5a4c06",
   "metadata": {},
   "outputs": [
    {
     "data": {
      "text/plain": [
       "\u001b[31meval::stored_relation_conflict\u001b[0m\n",
       "\n",
       "  \u001b[31m×\u001b[0m Stored relation user_humantic_profile conflicts with an existing one\n"
      ]
     },
     "execution_count": 5,
     "metadata": {},
     "output_type": "execute_result"
    }
   ],
   "source": [
    ":create user_principles {\n",
    "    user_id: Uuid,\n",
    "    full: Bool default false,\n",
    "    updated_at: Validity default [floor(now()), true],\n",
    "    =>\n",
    "    processed_at: Float? default null,\n",
    "    scores: Json\n",
    "}\n",
    "\n",
    ":create character_principles {\n",
    "    character_id: Uuid,\n",
    "    updated_at: Validity default [floor(now()), true],\n",
    "    =>\n",
    "    processed_at: Float? default null,\n",
    "    scores: Json\n",
    "}\n",
    "\n",
    ":create user_humantic_profile {\n",
    "    user_id: Uuid,\n",
    "    updated_at: Validity default [floor(now()), true],\n",
    "    =>\n",
    "    processed_at: Float? default null,\n",
    "    result: Json\n",
    "}\n"
   ]
  },
  {
   "cell_type": "code",
   "execution_count": null,
   "id": "6cc43c7a",
   "metadata": {},
   "outputs": [],
   "source": []
  }
 ],
 "metadata": {
  "kernelspec": {
   "display_name": "Python 3 (ipykernel)",
   "language": "python",
   "name": "python3"
  },
  "language_info": {
   "codemirror_mode": {
    "name": "ipython",
    "version": 3
   },
   "file_extension": ".py",
   "mimetype": "text/x-python",
   "name": "python",
   "nbconvert_exporter": "python",
   "pygments_lexer": "ipython3",
   "version": "3.10.12"
  }
 },
 "nbformat": 4,
 "nbformat_minor": 5
}
