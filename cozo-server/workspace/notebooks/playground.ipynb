{
 "cells": [
  {
   "cell_type": "code",
   "execution_count": 1,
   "id": "bebbec93-6d8e-42e3-a76c-c4a03b502200",
   "metadata": {},
   "outputs": [],
   "source": [
    "%load_ext pycozo.ipyext_direct"
   ]
  },
  {
   "cell_type": "markdown",
   "id": "8d1e9526-9922-4f52-af80-860ca58623db",
   "metadata": {},
   "source": [
    "### Sample UUIDs"
   ]
  },
  {
   "cell_type": "code",
   "execution_count": 2,
   "id": "cf8ceab9-2d81-460a-ace4-19f624b3edba",
   "metadata": {},
   "outputs": [
    {
     "name": "stderr",
     "output_type": "stream",
     "text": [
      "/usr/local/lib/python3.10/dist-packages/pycozo/ext_impl.py:61: FutureWarning: Styler.applymap has been deprecated. Use Styler.map instead.\n",
      "  return res.style.applymap(_colour_code_type)\n"
     ]
    },
    {
     "data": {
      "text/html": [
       "<style type=\"text/css\">\n",
       "#T_eaf13_row0_col0, #T_eaf13_row0_col1, #T_eaf13_row0_col2, #T_eaf13_row0_col3, #T_eaf13_row0_col4, #T_eaf13_row0_col5, #T_eaf13_row0_col6, #T_eaf13_row0_col7 {\n",
       "  color: black;\n",
       "}\n",
       "</style>\n",
       "<table id=\"T_eaf13\">\n",
       "  <thead>\n",
       "    <tr>\n",
       "      <th class=\"blank level0\" >&nbsp;</th>\n",
       "      <th id=\"T_eaf13_level0_col0\" class=\"col_heading level0 col0\" >character_id</th>\n",
       "      <th id=\"T_eaf13_level0_col1\" class=\"col_heading level0 col1\" >user_id</th>\n",
       "      <th id=\"T_eaf13_level0_col2\" class=\"col_heading level0 col2\" >belief_id</th>\n",
       "      <th id=\"T_eaf13_level0_col3\" class=\"col_heading level0 col3\" >episode_id</th>\n",
       "      <th id=\"T_eaf13_level0_col4\" class=\"col_heading level0 col4\" >skill_id</th>\n",
       "      <th id=\"T_eaf13_level0_col5\" class=\"col_heading level0 col5\" >session_id</th>\n",
       "      <th id=\"T_eaf13_level0_col6\" class=\"col_heading level0 col6\" >entry_id</th>\n",
       "      <th id=\"T_eaf13_level0_col7\" class=\"col_heading level0 col7\" >qna_id</th>\n",
       "    </tr>\n",
       "  </thead>\n",
       "  <tbody>\n",
       "    <tr>\n",
       "      <th id=\"T_eaf13_level0_row0\" class=\"row_heading level0 row0\" >0</th>\n",
       "      <td id=\"T_eaf13_row0_col0\" class=\"data row0 col0\" >43ca8b58-190c-47cb-9cc1-151fe3127b22</td>\n",
       "      <td id=\"T_eaf13_row0_col1\" class=\"data row0 col1\" >9503234c-95ed-4525-ba39-cab7b1bfd98c</td>\n",
       "      <td id=\"T_eaf13_row0_col2\" class=\"data row0 col2\" >205806e9-6ee9-410e-b66e-867f63b435db</td>\n",
       "      <td id=\"T_eaf13_row0_col3\" class=\"data row0 col3\" >fa3db702-f3a1-4182-86fc-d6b0cb7691b5</td>\n",
       "      <td id=\"T_eaf13_row0_col4\" class=\"data row0 col4\" >49c3ce21-ed30-4a3c-87b8-42bd94c3c0dd</td>\n",
       "      <td id=\"T_eaf13_row0_col5\" class=\"data row0 col5\" >53d9d19f-3118-4365-b07d-aae0a28f0659</td>\n",
       "      <td id=\"T_eaf13_row0_col6\" class=\"data row0 col6\" >3573d49e-6908-4b89-8b25-b0605303b235</td>\n",
       "      <td id=\"T_eaf13_row0_col7\" class=\"data row0 col7\" >0fba5ad9-c39c-410e-bad1-1811401e8f26</td>\n",
       "    </tr>\n",
       "  </tbody>\n",
       "</table>\n"
      ],
      "text/plain": [
       "<pandas.io.formats.style.Styler at 0x7fabe821a5f0>"
      ]
     },
     "execution_count": 2,
     "metadata": {},
     "output_type": "execute_result"
    }
   ],
   "source": [
    "?[\n",
    "    character_id,\n",
    "    user_id,\n",
    "    belief_id,\n",
    "    episode_id,\n",
    "    skill_id,\n",
    "    session_id,\n",
    "    entry_id,\n",
    "    qna_id,\n",
    "] <- [[\n",
    "    \"43ca8b58-190c-47cb-9cc1-151fe3127b22\", # rand_uuid_v4(),\n",
    "    \"9503234c-95ed-4525-ba39-cab7b1bfd98c\", # rand_uuid_v4(),\n",
    "    \"205806e9-6ee9-410e-b66e-867f63b435db\", # rand_uuid_v4(),\n",
    "    \"fa3db702-f3a1-4182-86fc-d6b0cb7691b5\", # rand_uuid_v4(),\n",
    "    \"49c3ce21-ed30-4a3c-87b8-42bd94c3c0dd\", # rand_uuid_v4(),\n",
    "    \"53d9d19f-3118-4365-b07d-aae0a28f0659\", # rand_uuid_v4(),\n",
    "    \"3573d49e-6908-4b89-8b25-b0605303b235\", # rand_uuid_v4(),\n",
    "    \"0fba5ad9-c39c-410e-bad1-1811401e8f26\", # rand_uuid_v4(),\n",
    "]]"
   ]
  },
  {
   "cell_type": "markdown",
   "id": "bddbc0fc-2b11-48f2-825b-6ec774f30f9e",
   "metadata": {},
   "source": [
    "### Sample vector (384)"
   ]
  },
  {
   "cell_type": "code",
   "execution_count": 3,
   "id": "9460f002-2c37-4367-9656-0321977ccede",
   "metadata": {},
   "outputs": [
    {
     "name": "stdout",
     "output_type": "stream",
     "text": [
      "[1,1,1,1,1,1,1,1,1,1,1,1,1,1,1,1,1,1,1,1,1,1,1,1,1,1,1,1,1,1,1,1,1,1,1,1,1,1,1,1,1,1,1,1,1,1,1,1,1,1,1,1,1,1,1,1,1,1,1,1,1,1,1,1,1,1,1,1,1,1,1,1,1,1,1,1,1,1,1,1,1,1,1,1,1,1,1,1,1,1,1,1,1,1,1,1,1,1,1,1,1,1,1,1,1,1,1,1,1,1,1,1,1,1,1,1,1,1,1,1,1,1,1,1,1,1,1,1,1,1,1,1,1,1,1,1,1,1,1,1,1,1,1,1,1,1,1,1,1,1,1,1,1,1,1,1,1,1,1,1,1,1,1,1,1,1,1,1,1,1,1,1,1,1,1,1,1,1,1,1,1,1,1,1,1,1,1,1,1,1,1,1,1,1,1,1,1,1,1,1,1,1,1,1,1,1,1,1,1,1,1,1,1,1,1,1,1,1,1,1,1,1,1,1,1,1,1,1,1,1,1,1,1,1,1,1,1,1,1,1,1,1,1,1,1,1,1,1,1,1,1,1,1,1,1,1,1,1,1,1,1,1,1,1,1,1,1,1,1,1,1,1,1,1,1,1,1,1,1,1,1,1,1,1,1,1,1,1,1,1,1,1,1,1,1,1,1,1,1,1,1,1,1,1,1,1,1,1,1,1,1,1,1,1,1,1,1,1,1,1,1,1,1,1,1,1,1,1,1,1,1,1,1,1,1,1,1,1,1,1,1,1,1,1,1,1,1,1,1,1,1,1,1,1,1,1,1,1,1,1,1,1,1,1,1,1,1,1,1,1,1,1,1,1,1,1,1,1,1,1,1,1,1,1]\n"
     ]
    }
   ],
   "source": [
    "%%py\n",
    "vec_size = 384\n",
    "vec = [\"1\"] * vec_size\n",
    "print(f\"[{','.join(vec)}]\")"
   ]
  },
  {
   "cell_type": "code",
   "execution_count": 4,
   "id": "43b865c0-b3c2-4150-9781-5142fbe38180",
   "metadata": {},
   "outputs": [
    {
     "name": "stdout",
     "output_type": "stream",
     "text": [
      "[0,0,0,0,0,0,0,0,0,0,0,0,0,0,0,0,0,0,0,0,0,0,0,0,0,0,0,0,0,0,0,0,0,0,0,0,0,0,0,0,0,0,0,0,0,0,0,0,0,0,0,0,0,0,0,0,0,0,0,0,0,0,0,0,0,0,0,0,0,0,0,0,0,0,0,0,0,0,0,0,0,0,0,0,0,0,0,0,0,0,0,0,0,0,0,0,0,0,0,0,0,0,0,0,0,0,0,0,0,0,0,0,0,0,0,0,0,0,0,0,0,0,0,0,0,0,0,0,0,0,0,0,0,0,0,0,0,0,0,0,0,0,0,0,0,0,0,0,0,0,0,0,0,0,0,0,0,0,0,0,0,0,0,0,0,0,0,0,0,0,0,0,0,0,0,0,0,0,0,0,0,0,0,0,0,0,0,0,0,0,0,0,0,0,0,0,0,0,0,0,0,0,0,0,0,0,0,0,0,0,0,0,0,0,0,0,0,0,0,0,0,0,0,0,0,0,0,0,0,0,0,0,0,0,0,0,0,0,0,0,0,0,0,0,0,0,0,0,0,0,0,0,0,0,0,0,0,0,0,0,0,0,0,0,0,0,0,0,0,0,0,0,0,0,0,0,0,0,0,0,0,0,0,0,0,0,0,0,0,0,0,0,0,0,0,0,0,0,0,0,0,0,0,0,0,0,0,0,0,0,0,0,0,0,0,0,0,0,0,0,0,0,0,0,0,0,0,0,0,0,0,0,0,0,0,0,0,0,0,0,0,0,0,0,0,0,0,0,0,0,0,0,0,0,0,0,0,0,0,0,0,0,0,0,0,0,0,0,0,0,0,0,0,0,0,0,0,0,0,0,0,0,0,0]\n"
     ]
    }
   ],
   "source": [
    "%%py\n",
    "vec_size = 384\n",
    "vec = [\"0\"] * vec_size\n",
    "print(f\"[{','.join(vec)}]\")"
   ]
  },
  {
   "cell_type": "markdown",
   "id": "4fd79375-bc60-4c98-ab62-e1a54341c443",
   "metadata": {},
   "source": [
    "## Users table"
   ]
  },
  {
   "cell_type": "code",
   "execution_count": 5,
   "id": "5c236a91-f259-48be-808f-6508d6839e53",
   "metadata": {},
   "outputs": [
    {
     "data": {
      "text/html": [
       "<style type=\"text/css\">\n",
       "#T_4b10c_row0_col0 {\n",
       "  color: black;\n",
       "}\n",
       "</style>\n",
       "<table id=\"T_4b10c\">\n",
       "  <thead>\n",
       "    <tr>\n",
       "      <th class=\"blank level0\" >&nbsp;</th>\n",
       "      <th id=\"T_4b10c_level0_col0\" class=\"col_heading level0 col0\" >status</th>\n",
       "    </tr>\n",
       "  </thead>\n",
       "  <tbody>\n",
       "    <tr>\n",
       "      <th id=\"T_4b10c_level0_row0\" class=\"row_heading level0 row0\" >0</th>\n",
       "      <td id=\"T_4b10c_row0_col0\" class=\"data row0 col0\" >OK</td>\n",
       "    </tr>\n",
       "  </tbody>\n",
       "</table>\n"
      ],
      "text/plain": [
       "<pandas.io.formats.style.Styler at 0x7fabe92c2b60>"
      ]
     },
     "execution_count": 5,
     "metadata": {},
     "output_type": "execute_result"
    }
   ],
   "source": [
    ":create users {\n",
    "    user_id: Uuid,\n",
    "    updated_at: Validity default [floor(now()), true],\n",
    "    =>\n",
    "    email: String,\n",
    "    name: String,\n",
    "    about: String default \"\",\n",
    "    metadata: Json default {},\n",
    "    created_at: Float default now(),\n",
    "}"
   ]
  },
  {
   "cell_type": "code",
   "execution_count": 6,
   "id": "1e1966e2-c6df-466d-b943-1d50f9d8755f",
   "metadata": {},
   "outputs": [
    {
     "data": {
      "text/html": [
       "<style type=\"text/css\">\n",
       "#T_fbbc3_row0_col0 {\n",
       "  color: black;\n",
       "}\n",
       "</style>\n",
       "<table id=\"T_fbbc3\">\n",
       "  <thead>\n",
       "    <tr>\n",
       "      <th class=\"blank level0\" >&nbsp;</th>\n",
       "      <th id=\"T_fbbc3_level0_col0\" class=\"col_heading level0 col0\" >status</th>\n",
       "    </tr>\n",
       "  </thead>\n",
       "  <tbody>\n",
       "    <tr>\n",
       "      <th id=\"T_fbbc3_level0_row0\" class=\"row_heading level0 row0\" >0</th>\n",
       "      <td id=\"T_fbbc3_row0_col0\" class=\"data row0 col0\" >OK</td>\n",
       "    </tr>\n",
       "  </tbody>\n",
       "</table>\n"
      ],
      "text/plain": [
       "<pandas.io.formats.style.Styler at 0x7fabe92e6e00>"
      ]
     },
     "execution_count": 6,
     "metadata": {},
     "output_type": "execute_result"
    }
   ],
   "source": [
    "::index create users:by_email {\n",
    "    email,\n",
    "    user_id,\n",
    "    name,\n",
    "    about,\n",
    "    metadata\n",
    "}"
   ]
  },
  {
   "cell_type": "markdown",
   "id": "7c789df7-6eac-407e-ba72-ee94436ca6d1",
   "metadata": {},
   "source": [
    "### Upsert user by user_id"
   ]
  },
  {
   "cell_type": "code",
   "execution_count": 7,
   "id": "0468f9fa-e731-4c56-bb2d-a5c627ff7418",
   "metadata": {},
   "outputs": [
    {
     "data": {
      "text/html": [
       "<style type=\"text/css\">\n",
       "#T_53483_row0_col0 {\n",
       "  color: black;\n",
       "}\n",
       "</style>\n",
       "<table id=\"T_53483\">\n",
       "  <thead>\n",
       "    <tr>\n",
       "      <th class=\"blank level0\" >&nbsp;</th>\n",
       "      <th id=\"T_53483_level0_col0\" class=\"col_heading level0 col0\" >status</th>\n",
       "    </tr>\n",
       "  </thead>\n",
       "  <tbody>\n",
       "    <tr>\n",
       "      <th id=\"T_53483_level0_row0\" class=\"row_heading level0 row0\" >0</th>\n",
       "      <td id=\"T_53483_row0_col0\" class=\"data row0 col0\" >OK</td>\n",
       "    </tr>\n",
       "  </tbody>\n",
       "</table>\n"
      ],
      "text/plain": [
       "<pandas.io.formats.style.Styler at 0x7fabe92c16c0>"
      ]
     },
     "execution_count": 7,
     "metadata": {},
     "output_type": "execute_result"
    }
   ],
   "source": [
    "?[user_id, name, email, about, metadata] <- [\n",
    "    [\"9503234c-95ed-4525-ba39-cab7b1bfd98c\", \"Diwank\", \"diwank@julep.ai\", \"Diwank is awesome too!\", {}]\n",
    "]\n",
    "\n",
    ":put users {\n",
    "    user_id =>\n",
    "    name,\n",
    "    email,\n",
    "    about,\n",
    "    metadata,\n",
    "}"
   ]
  },
  {
   "cell_type": "markdown",
   "id": "cdcc57a2-b1a2-4a58-8659-5c8441ab1b2d",
   "metadata": {},
   "source": [
    "### Query user by user id"
   ]
  },
  {
   "cell_type": "code",
   "execution_count": 8,
   "id": "345d7bd8-314e-44ca-aed1-2ffd4372f2b3",
   "metadata": {},
   "outputs": [
    {
     "data": {
      "text/html": [
       "<style type=\"text/css\">\n",
       "#T_406ce_row0_col0, #T_406ce_row0_col1, #T_406ce_row0_col2, #T_406ce_row0_col3 {\n",
       "  color: black;\n",
       "}\n",
       "#T_406ce_row0_col4 {\n",
       "  color: #bf5b3d;\n",
       "}\n",
       "#T_406ce_row0_col5, #T_406ce_row0_col6 {\n",
       "  color: #307fc1;\n",
       "}\n",
       "</style>\n",
       "<table id=\"T_406ce\">\n",
       "  <thead>\n",
       "    <tr>\n",
       "      <th class=\"blank level0\" >&nbsp;</th>\n",
       "      <th id=\"T_406ce_level0_col0\" class=\"col_heading level0 col0\" >user_id</th>\n",
       "      <th id=\"T_406ce_level0_col1\" class=\"col_heading level0 col1\" >name</th>\n",
       "      <th id=\"T_406ce_level0_col2\" class=\"col_heading level0 col2\" >email</th>\n",
       "      <th id=\"T_406ce_level0_col3\" class=\"col_heading level0 col3\" >about</th>\n",
       "      <th id=\"T_406ce_level0_col4\" class=\"col_heading level0 col4\" >metadata</th>\n",
       "      <th id=\"T_406ce_level0_col5\" class=\"col_heading level0 col5\" >updated_at</th>\n",
       "      <th id=\"T_406ce_level0_col6\" class=\"col_heading level0 col6\" >created_at</th>\n",
       "    </tr>\n",
       "  </thead>\n",
       "  <tbody>\n",
       "    <tr>\n",
       "      <th id=\"T_406ce_level0_row0\" class=\"row_heading level0 row0\" >0</th>\n",
       "      <td id=\"T_406ce_row0_col0\" class=\"data row0 col0\" >9503234c-95ed-4525-ba39-cab7b1bfd98c</td>\n",
       "      <td id=\"T_406ce_row0_col1\" class=\"data row0 col1\" >Diwank</td>\n",
       "      <td id=\"T_406ce_row0_col2\" class=\"data row0 col2\" >diwank@julep.ai</td>\n",
       "      <td id=\"T_406ce_row0_col3\" class=\"data row0 col3\" >Diwank is awesome too!</td>\n",
       "      <td id=\"T_406ce_row0_col4\" class=\"data row0 col4\" >{}</td>\n",
       "      <td id=\"T_406ce_row0_col5\" class=\"data row0 col5\" >1698647966</td>\n",
       "      <td id=\"T_406ce_row0_col6\" class=\"data row0 col6\" >1698647966.404092</td>\n",
       "    </tr>\n",
       "  </tbody>\n",
       "</table>\n"
      ],
      "text/plain": [
       "<pandas.io.formats.style.Styler at 0x7fabe92e76a0>"
      ]
     },
     "execution_count": 8,
     "metadata": {},
     "output_type": "execute_result"
    }
   ],
   "source": [
    "input[user_id] <- [[to_uuid(\"9503234c-95ed-4525-ba39-cab7b1bfd98c\")]]\n",
    "\n",
    "?[\n",
    "    user_id,\n",
    "    name,\n",
    "    email,\n",
    "    about,\n",
    "    metadata,\n",
    "    updated_at,\n",
    "    created_at,\n",
    "] := input[user_id],\n",
    "    *users {\n",
    "        user_id,\n",
    "        name,\n",
    "        email,\n",
    "        about,\n",
    "        metadata,\n",
    "        updated_at: validity,\n",
    "        created_at,\n",
    "        @ \"NOW\"\n",
    "    }, updated_at = to_int(validity)\n"
   ]
  },
  {
   "cell_type": "markdown",
   "id": "b725d86e-28e0-41d8-b196-e877dd8571ad",
   "metadata": {},
   "source": [
    "### Query user by email"
   ]
  },
  {
   "cell_type": "code",
   "execution_count": 9,
   "id": "a42bd56f-b501-44fc-afd5-9ef2f5cee87a",
   "metadata": {},
   "outputs": [
    {
     "data": {
      "text/html": [
       "<style type=\"text/css\">\n",
       "#T_d78df_row0_col0, #T_d78df_row0_col1, #T_d78df_row0_col2, #T_d78df_row0_col3 {\n",
       "  color: black;\n",
       "}\n",
       "#T_d78df_row0_col4 {\n",
       "  color: #bf5b3d;\n",
       "}\n",
       "#T_d78df_row0_col5 {\n",
       "  color: #307fc1;\n",
       "}\n",
       "</style>\n",
       "<table id=\"T_d78df\">\n",
       "  <thead>\n",
       "    <tr>\n",
       "      <th class=\"blank level0\" >&nbsp;</th>\n",
       "      <th id=\"T_d78df_level0_col0\" class=\"col_heading level0 col0\" >user_id</th>\n",
       "      <th id=\"T_d78df_level0_col1\" class=\"col_heading level0 col1\" >name</th>\n",
       "      <th id=\"T_d78df_level0_col2\" class=\"col_heading level0 col2\" >email</th>\n",
       "      <th id=\"T_d78df_level0_col3\" class=\"col_heading level0 col3\" >about</th>\n",
       "      <th id=\"T_d78df_level0_col4\" class=\"col_heading level0 col4\" >metadata</th>\n",
       "      <th id=\"T_d78df_level0_col5\" class=\"col_heading level0 col5\" >updated_at</th>\n",
       "    </tr>\n",
       "  </thead>\n",
       "  <tbody>\n",
       "    <tr>\n",
       "      <th id=\"T_d78df_level0_row0\" class=\"row_heading level0 row0\" >0</th>\n",
       "      <td id=\"T_d78df_row0_col0\" class=\"data row0 col0\" >9503234c-95ed-4525-ba39-cab7b1bfd98c</td>\n",
       "      <td id=\"T_d78df_row0_col1\" class=\"data row0 col1\" >Diwank</td>\n",
       "      <td id=\"T_d78df_row0_col2\" class=\"data row0 col2\" >diwank@julep.ai</td>\n",
       "      <td id=\"T_d78df_row0_col3\" class=\"data row0 col3\" >Diwank is awesome too!</td>\n",
       "      <td id=\"T_d78df_row0_col4\" class=\"data row0 col4\" >{}</td>\n",
       "      <td id=\"T_d78df_row0_col5\" class=\"data row0 col5\" >1698041822</td>\n",
       "    </tr>\n",
       "  </tbody>\n",
       "</table>\n"
      ],
      "text/plain": [
       "<pandas.io.formats.style.Styler at 0x7fd6b8602c80>"
      ]
     },
     "execution_count": 9,
     "metadata": {},
     "output_type": "execute_result"
    }
   ],
   "source": [
    "input[email] <- [[\"diwank@julep.ai\"]]\n",
    "\n",
    "?[\n",
    "    user_id,\n",
    "    name,\n",
    "    email,\n",
    "    about,\n",
    "    metadata,\n",
    "    updated_at,\n",
    "] := input[email],\n",
    "    *users:by_email {\n",
    "        user_id,\n",
    "        name,\n",
    "        email,\n",
    "        about,\n",
    "        metadata,\n",
    "        updated_at: validity,\n",
    "        @ \"NOW\"\n",
    "    }, updated_at = to_int(validity)\n"
   ]
  },
  {
   "cell_type": "markdown",
   "id": "98303e82-f564-4d0c-8d59-c9fd10369e93",
   "metadata": {},
   "source": [
    "## Characters table"
   ]
  },
  {
   "cell_type": "code",
   "execution_count": 9,
   "id": "6355f815-cd73-4ec4-b015-fa749451eb17",
   "metadata": {},
   "outputs": [
    {
     "data": {
      "text/html": [
       "<style type=\"text/css\">\n",
       "#T_f8de5_row0_col0 {\n",
       "  color: black;\n",
       "}\n",
       "</style>\n",
       "<table id=\"T_f8de5\">\n",
       "  <thead>\n",
       "    <tr>\n",
       "      <th class=\"blank level0\" >&nbsp;</th>\n",
       "      <th id=\"T_f8de5_level0_col0\" class=\"col_heading level0 col0\" >status</th>\n",
       "    </tr>\n",
       "  </thead>\n",
       "  <tbody>\n",
       "    <tr>\n",
       "      <th id=\"T_f8de5_level0_row0\" class=\"row_heading level0 row0\" >0</th>\n",
       "      <td id=\"T_f8de5_row0_col0\" class=\"data row0 col0\" >OK</td>\n",
       "    </tr>\n",
       "  </tbody>\n",
       "</table>\n"
      ],
      "text/plain": [
       "<pandas.io.formats.style.Styler at 0x7faba02057e0>"
      ]
     },
     "execution_count": 9,
     "metadata": {},
     "output_type": "execute_result"
    }
   ],
   "source": [
    ":create characters {\n",
    "    character_id: Uuid,\n",
    "    updated_at: Validity default [floor(now()), true],\n",
    "    =>\n",
    "    model: String? default null,\n",
    "    name: String,\n",
    "    about: String default \"\",\n",
    "    metadata: Json default {},\n",
    "    created_at: Float default now(),\n",
    "}"
   ]
  },
  {
   "cell_type": "markdown",
   "id": "7ddbf109-e89c-44d5-b722-b683019ea23a",
   "metadata": {},
   "source": [
    "### Upsert character by character_id"
   ]
  },
  {
   "cell_type": "code",
   "execution_count": 10,
   "id": "216da033-3e9a-440f-9ee1-1415449d50b8",
   "metadata": {},
   "outputs": [
    {
     "data": {
      "text/html": [
       "<style type=\"text/css\">\n",
       "#T_16097_row0_col0 {\n",
       "  color: black;\n",
       "}\n",
       "</style>\n",
       "<table id=\"T_16097\">\n",
       "  <thead>\n",
       "    <tr>\n",
       "      <th class=\"blank level0\" >&nbsp;</th>\n",
       "      <th id=\"T_16097_level0_col0\" class=\"col_heading level0 col0\" >status</th>\n",
       "    </tr>\n",
       "  </thead>\n",
       "  <tbody>\n",
       "    <tr>\n",
       "      <th id=\"T_16097_level0_row0\" class=\"row_heading level0 row0\" >0</th>\n",
       "      <td id=\"T_16097_row0_col0\" class=\"data row0 col0\" >OK</td>\n",
       "    </tr>\n",
       "  </tbody>\n",
       "</table>\n"
      ],
      "text/plain": [
       "<pandas.io.formats.style.Styler at 0x7faba03b3d00>"
      ]
     },
     "execution_count": 10,
     "metadata": {},
     "output_type": "execute_result"
    }
   ],
   "source": [
    "?[character_id, name, about, metadata, model] <- [\n",
    "    [\"43ca8b58-190c-47cb-9cc1-151fe3127b22\", \"Samantha\", \"Samantha is awesome!\", {}, \"julep-ai/samantha-1-alpha\"]\n",
    "]\n",
    "\n",
    ":put characters {\n",
    "    character_id =>\n",
    "    name,\n",
    "    about,\n",
    "    metadata,\n",
    "    model,\n",
    "}"
   ]
  },
  {
   "cell_type": "markdown",
   "id": "85153676-b501-405e-9a1f-b7d367391e9d",
   "metadata": {},
   "source": [
    "### Query character by character_id"
   ]
  },
  {
   "cell_type": "code",
   "execution_count": 12,
   "id": "cd6802c5-0152-4519-8059-30d3b5662668",
   "metadata": {},
   "outputs": [
    {
     "data": {
      "text/html": [
       "<style type=\"text/css\">\n",
       "#T_efe8c_row0_col0, #T_efe8c_row0_col1, #T_efe8c_row0_col2, #T_efe8c_row0_col4 {\n",
       "  color: black;\n",
       "}\n",
       "#T_efe8c_row0_col3 {\n",
       "  color: #bf5b3d;\n",
       "}\n",
       "#T_efe8c_row0_col5, #T_efe8c_row0_col6 {\n",
       "  color: #307fc1;\n",
       "}\n",
       "</style>\n",
       "<table id=\"T_efe8c\">\n",
       "  <thead>\n",
       "    <tr>\n",
       "      <th class=\"blank level0\" >&nbsp;</th>\n",
       "      <th id=\"T_efe8c_level0_col0\" class=\"col_heading level0 col0\" >character_id</th>\n",
       "      <th id=\"T_efe8c_level0_col1\" class=\"col_heading level0 col1\" >name</th>\n",
       "      <th id=\"T_efe8c_level0_col2\" class=\"col_heading level0 col2\" >about</th>\n",
       "      <th id=\"T_efe8c_level0_col3\" class=\"col_heading level0 col3\" >metadata</th>\n",
       "      <th id=\"T_efe8c_level0_col4\" class=\"col_heading level0 col4\" >model</th>\n",
       "      <th id=\"T_efe8c_level0_col5\" class=\"col_heading level0 col5\" >updated_at</th>\n",
       "      <th id=\"T_efe8c_level0_col6\" class=\"col_heading level0 col6\" >created_at</th>\n",
       "    </tr>\n",
       "  </thead>\n",
       "  <tbody>\n",
       "    <tr>\n",
       "      <th id=\"T_efe8c_level0_row0\" class=\"row_heading level0 row0\" >0</th>\n",
       "      <td id=\"T_efe8c_row0_col0\" class=\"data row0 col0\" >43ca8b58-190c-47cb-9cc1-151fe3127b22</td>\n",
       "      <td id=\"T_efe8c_row0_col1\" class=\"data row0 col1\" >Samantha</td>\n",
       "      <td id=\"T_efe8c_row0_col2\" class=\"data row0 col2\" >Samantha is awesome!</td>\n",
       "      <td id=\"T_efe8c_row0_col3\" class=\"data row0 col3\" >{}</td>\n",
       "      <td id=\"T_efe8c_row0_col4\" class=\"data row0 col4\" >julep-ai/samantha-1-alpha</td>\n",
       "      <td id=\"T_efe8c_row0_col5\" class=\"data row0 col5\" >1698041823</td>\n",
       "      <td id=\"T_efe8c_row0_col6\" class=\"data row0 col6\" >1698041823.054121</td>\n",
       "    </tr>\n",
       "  </tbody>\n",
       "</table>\n"
      ],
      "text/plain": [
       "<pandas.io.formats.style.Styler at 0x7fd6705c7520>"
      ]
     },
     "execution_count": 12,
     "metadata": {},
     "output_type": "execute_result"
    }
   ],
   "source": [
    "input[character_id] <- [[to_uuid(\"43ca8b58-190c-47cb-9cc1-151fe3127b22\")]]\n",
    "\n",
    "?[\n",
    "    character_id,\n",
    "    name,\n",
    "    about,\n",
    "    metadata,\n",
    "    model,\n",
    "    updated_at,\n",
    "    created_at,\n",
    "] := input[character_id],\n",
    "    *characters {\n",
    "        character_id,\n",
    "        name,\n",
    "        about,\n",
    "        metadata,\n",
    "        model,\n",
    "        updated_at: validity,\n",
    "        created_at,\n",
    "        @ \"NOW\"\n",
    "    }, updated_at = to_int(validity)\n"
   ]
  },
  {
   "cell_type": "markdown",
   "id": "9083c522-368c-4156-b901-11c8ac27f43f",
   "metadata": {},
   "source": [
    "### Query character by name"
   ]
  },
  {
   "cell_type": "code",
   "execution_count": 13,
   "id": "5fda5c02-0c1a-4e6e-a374-9062b8db4517",
   "metadata": {},
   "outputs": [
    {
     "data": {
      "text/plain": [
       "\u001b[31mparser::pest\u001b[0m\n",
       "\n",
       "  \u001b[31m×\u001b[0m The query parser has encountered unexpected input / end of input at 6..6\n",
       "   ╭─[1:1]\n",
       " \u001b[2m1\u001b[0m │ # TBD\n",
       " \u001b[2m2\u001b[0m │  \n",
       "   · \u001b[35;1m▲\u001b[0m\n",
       "   ╰────\n"
      ]
     },
     "execution_count": 13,
     "metadata": {},
     "output_type": "execute_result"
    }
   ],
   "source": [
    "# TBD"
   ]
  },
  {
   "cell_type": "markdown",
   "id": "fb6cfe2d-b992-47f5-bfd1-3958d24021dc",
   "metadata": {},
   "source": [
    "## Sessions table"
   ]
  },
  {
   "cell_type": "code",
   "execution_count": 11,
   "id": "1d7e55af-54c3-453b-b43a-98526c101795",
   "metadata": {},
   "outputs": [
    {
     "data": {
      "text/html": [
       "<style type=\"text/css\">\n",
       "#T_5aa9e_row0_col0 {\n",
       "  color: black;\n",
       "}\n",
       "</style>\n",
       "<table id=\"T_5aa9e\">\n",
       "  <thead>\n",
       "    <tr>\n",
       "      <th class=\"blank level0\" >&nbsp;</th>\n",
       "      <th id=\"T_5aa9e_level0_col0\" class=\"col_heading level0 col0\" >status</th>\n",
       "    </tr>\n",
       "  </thead>\n",
       "  <tbody>\n",
       "    <tr>\n",
       "      <th id=\"T_5aa9e_level0_row0\" class=\"row_heading level0 row0\" >0</th>\n",
       "      <td id=\"T_5aa9e_row0_col0\" class=\"data row0 col0\" >OK</td>\n",
       "    </tr>\n",
       "  </tbody>\n",
       "</table>\n"
      ],
      "text/plain": [
       "<pandas.io.formats.style.Styler at 0x7faba03b3850>"
      ]
     },
     "execution_count": 11,
     "metadata": {},
     "output_type": "execute_result"
    }
   ],
   "source": [
    ":create sessions {\n",
    "    character_id: Uuid,\n",
    "    user_id: Uuid? default null,\n",
    "    session_id: Uuid,\n",
    "    updated_at: Validity default [floor(now()), true],\n",
    "    =>\n",
    "    situation: String,\n",
    "    summary: String? default null,\n",
    "    metadata: Json default {},\n",
    "    created_at: Float default now(),\n",
    "    ended_at: Float? default null,\n",
    "}"
   ]
  },
  {
   "cell_type": "markdown",
   "id": "9ae32ba9-7512-46f1-b6f8-f72669da2309",
   "metadata": {},
   "source": [
    "### Upsert session by character and user id"
   ]
  },
  {
   "cell_type": "code",
   "execution_count": 12,
   "id": "44497a6d-112d-458b-842d-0d89235e9d1d",
   "metadata": {},
   "outputs": [
    {
     "data": {
      "text/html": [
       "<style type=\"text/css\">\n",
       "#T_9b4ff_row0_col0 {\n",
       "  color: black;\n",
       "}\n",
       "</style>\n",
       "<table id=\"T_9b4ff\">\n",
       "  <thead>\n",
       "    <tr>\n",
       "      <th class=\"blank level0\" >&nbsp;</th>\n",
       "      <th id=\"T_9b4ff_level0_col0\" class=\"col_heading level0 col0\" >status</th>\n",
       "    </tr>\n",
       "  </thead>\n",
       "  <tbody>\n",
       "    <tr>\n",
       "      <th id=\"T_9b4ff_level0_row0\" class=\"row_heading level0 row0\" >0</th>\n",
       "      <td id=\"T_9b4ff_row0_col0\" class=\"data row0 col0\" >OK</td>\n",
       "    </tr>\n",
       "  </tbody>\n",
       "</table>\n"
      ],
      "text/plain": [
       "<pandas.io.formats.style.Styler at 0x7fabe92e6b30>"
      ]
     },
     "execution_count": 12,
     "metadata": {},
     "output_type": "execute_result"
    }
   ],
   "source": [
    "?[session_id, character_id, user_id, situation, metadata] <- [[\n",
    "    to_uuid(\"53d9d19f-3118-4365-b07d-aae0a28f0659\"),\n",
    "    to_uuid(\"43ca8b58-190c-47cb-9cc1-151fe3127b22\"),\n",
    "    to_uuid(\"9503234c-95ed-4525-ba39-cab7b1bfd98c\"),\n",
    "    \"Samantha is talking to Diwank\",\n",
    "    {},\n",
    "]]\n",
    "\n",
    ":put sessions {\n",
    "    character_id,\n",
    "    user_id,\n",
    "    session_id,\n",
    "    situation,\n",
    "    metadata,\n",
    "}"
   ]
  },
  {
   "cell_type": "markdown",
   "id": "3b183312-f0fe-46fc-9834-fb9ce504fe48",
   "metadata": {},
   "source": [
    "### Query session by session id"
   ]
  },
  {
   "cell_type": "code",
   "execution_count": 16,
   "id": "2d8aca09-1944-4dd7-a85b-8abf0c352047",
   "metadata": {
    "scrolled": true
   },
   "outputs": [
    {
     "data": {
      "text/html": [
       "<style type=\"text/css\">\n",
       "#T_3ca9e_row0_col0, #T_3ca9e_row0_col1, #T_3ca9e_row0_col2, #T_3ca9e_row0_col4 {\n",
       "  color: black;\n",
       "}\n",
       "#T_3ca9e_row0_col3, #T_3ca9e_row0_col7 {\n",
       "  color: #307fc1;\n",
       "}\n",
       "#T_3ca9e_row0_col5, #T_3ca9e_row0_col6 {\n",
       "  color: #bf5b3d;\n",
       "}\n",
       "</style>\n",
       "<table id=\"T_3ca9e\">\n",
       "  <thead>\n",
       "    <tr>\n",
       "      <th class=\"blank level0\" >&nbsp;</th>\n",
       "      <th id=\"T_3ca9e_level0_col0\" class=\"col_heading level0 col0\" >character_id</th>\n",
       "      <th id=\"T_3ca9e_level0_col1\" class=\"col_heading level0 col1\" >user_id</th>\n",
       "      <th id=\"T_3ca9e_level0_col2\" class=\"col_heading level0 col2\" >session_id</th>\n",
       "      <th id=\"T_3ca9e_level0_col3\" class=\"col_heading level0 col3\" >updated_at</th>\n",
       "      <th id=\"T_3ca9e_level0_col4\" class=\"col_heading level0 col4\" >situation</th>\n",
       "      <th id=\"T_3ca9e_level0_col5\" class=\"col_heading level0 col5\" >summary</th>\n",
       "      <th id=\"T_3ca9e_level0_col6\" class=\"col_heading level0 col6\" >metadata</th>\n",
       "      <th id=\"T_3ca9e_level0_col7\" class=\"col_heading level0 col7\" >created_at</th>\n",
       "    </tr>\n",
       "  </thead>\n",
       "  <tbody>\n",
       "    <tr>\n",
       "      <th id=\"T_3ca9e_level0_row0\" class=\"row_heading level0 row0\" >0</th>\n",
       "      <td id=\"T_3ca9e_row0_col0\" class=\"data row0 col0\" >43ca8b58-190c-47cb-9cc1-151fe3127b22</td>\n",
       "      <td id=\"T_3ca9e_row0_col1\" class=\"data row0 col1\" >9503234c-95ed-4525-ba39-cab7b1bfd98c</td>\n",
       "      <td id=\"T_3ca9e_row0_col2\" class=\"data row0 col2\" >53d9d19f-3118-4365-b07d-aae0a28f0659</td>\n",
       "      <td id=\"T_3ca9e_row0_col3\" class=\"data row0 col3\" >1698041823</td>\n",
       "      <td id=\"T_3ca9e_row0_col4\" class=\"data row0 col4\" >Samantha is talking to Diwank</td>\n",
       "      <td id=\"T_3ca9e_row0_col5\" class=\"data row0 col5\" >None</td>\n",
       "      <td id=\"T_3ca9e_row0_col6\" class=\"data row0 col6\" >{}</td>\n",
       "      <td id=\"T_3ca9e_row0_col7\" class=\"data row0 col7\" >1698041823.102383</td>\n",
       "    </tr>\n",
       "  </tbody>\n",
       "</table>\n"
      ],
      "text/plain": [
       "<pandas.io.formats.style.Styler at 0x7fd6705c72b0>"
      ]
     },
     "execution_count": 16,
     "metadata": {},
     "output_type": "execute_result"
    }
   ],
   "source": [
    "input[session_id] <- [[\n",
    "    to_uuid(\"53d9d19f-3118-4365-b07d-aae0a28f0659\"),\n",
    "]]\n",
    "\n",
    "?[\n",
    "    character_id,\n",
    "    user_id,\n",
    "    session_id,\n",
    "    updated_at,\n",
    "    situation,\n",
    "    summary,\n",
    "    metadata,\n",
    "    created_at,\n",
    "] := input[session_id],\n",
    "    *sessions{\n",
    "        character_id,\n",
    "        user_id,\n",
    "        session_id,\n",
    "        situation,\n",
    "        summary,\n",
    "        metadata,\n",
    "        updated_at: validity,\n",
    "        created_at,\n",
    "        @ \"NOW\"\n",
    "    }, updated_at = to_int(validity)\n"
   ]
  },
  {
   "cell_type": "markdown",
   "id": "3228ea12-ec6d-4474-bf58-b8f542fbb562",
   "metadata": {},
   "source": [
    "## Models table"
   ]
  },
  {
   "cell_type": "code",
   "execution_count": 13,
   "id": "b8becc3d-36e7-46bc-a5cf-0c646b96ed9b",
   "metadata": {},
   "outputs": [
    {
     "data": {
      "text/html": [
       "<style type=\"text/css\">\n",
       "#T_a5826_row0_col0 {\n",
       "  color: black;\n",
       "}\n",
       "</style>\n",
       "<table id=\"T_a5826\">\n",
       "  <thead>\n",
       "    <tr>\n",
       "      <th class=\"blank level0\" >&nbsp;</th>\n",
       "      <th id=\"T_a5826_level0_col0\" class=\"col_heading level0 col0\" >status</th>\n",
       "    </tr>\n",
       "  </thead>\n",
       "  <tbody>\n",
       "    <tr>\n",
       "      <th id=\"T_a5826_level0_row0\" class=\"row_heading level0 row0\" >0</th>\n",
       "      <td id=\"T_a5826_row0_col0\" class=\"data row0 col0\" >OK</td>\n",
       "    </tr>\n",
       "  </tbody>\n",
       "</table>\n"
      ],
      "text/plain": [
       "<pandas.io.formats.style.Styler at 0x7faba03b3bb0>"
      ]
     },
     "execution_count": 13,
     "metadata": {},
     "output_type": "execute_result"
    }
   ],
   "source": [
    ":create models {\n",
    "    model_name: String,\n",
    "    max_length: Int,\n",
    "    updated_at: Validity default [floor(now()), true],\n",
    "    =>\n",
    "    default_settings: Json default {},\n",
    "}"
   ]
  },
  {
   "cell_type": "markdown",
   "id": "0e2df726-9553-482b-9d2e-f6013f66a189",
   "metadata": {},
   "source": [
    "### Create model by model_name"
   ]
  },
  {
   "cell_type": "code",
   "execution_count": 14,
   "id": "42f4a9ab-db80-4f5a-afae-dc360a4fe226",
   "metadata": {},
   "outputs": [
    {
     "data": {
      "text/html": [
       "<style type=\"text/css\">\n",
       "#T_61c60_row0_col0 {\n",
       "  color: black;\n",
       "}\n",
       "</style>\n",
       "<table id=\"T_61c60\">\n",
       "  <thead>\n",
       "    <tr>\n",
       "      <th class=\"blank level0\" >&nbsp;</th>\n",
       "      <th id=\"T_61c60_level0_col0\" class=\"col_heading level0 col0\" >status</th>\n",
       "    </tr>\n",
       "  </thead>\n",
       "  <tbody>\n",
       "    <tr>\n",
       "      <th id=\"T_61c60_level0_row0\" class=\"row_heading level0 row0\" >0</th>\n",
       "      <td id=\"T_61c60_row0_col0\" class=\"data row0 col0\" >OK</td>\n",
       "    </tr>\n",
       "  </tbody>\n",
       "</table>\n"
      ],
      "text/plain": [
       "<pandas.io.formats.style.Styler at 0x7faba03b2b30>"
      ]
     },
     "execution_count": 14,
     "metadata": {},
     "output_type": "execute_result"
    }
   ],
   "source": [
    "?[model_name, max_length, default_settings] <- [[\n",
    "    \"julep-ai/samantha-1-alpha\",\n",
    "    4096,\n",
    "    {\n",
    "        \"temperature\": 1.0,\n",
    "        \"repetition_penalty\": 1.25,\n",
    "        \"max_tokens\": 400,\n",
    "    },\n",
    "]]\n",
    "\n",
    ":put models {\n",
    "    model_name,\n",
    "    max_length,\n",
    "    default_settings,\n",
    "}"
   ]
  },
  {
   "cell_type": "markdown",
   "id": "e883a3a7-91e5-43dd-951a-02a6fc011d0b",
   "metadata": {},
   "source": [
    "### Query model by model_name"
   ]
  },
  {
   "cell_type": "code",
   "execution_count": 19,
   "id": "2812e4c8-8a9a-48d4-a7a3-5ede4aaca4fb",
   "metadata": {},
   "outputs": [
    {
     "data": {
      "text/html": [
       "<style type=\"text/css\">\n",
       "#T_03f04_row0_col0 {\n",
       "  color: black;\n",
       "}\n",
       "#T_03f04_row0_col1, #T_03f04_row0_col3 {\n",
       "  color: #307fc1;\n",
       "}\n",
       "#T_03f04_row0_col2 {\n",
       "  color: #bf5b3d;\n",
       "}\n",
       "</style>\n",
       "<table id=\"T_03f04\">\n",
       "  <thead>\n",
       "    <tr>\n",
       "      <th class=\"blank level0\" >&nbsp;</th>\n",
       "      <th id=\"T_03f04_level0_col0\" class=\"col_heading level0 col0\" >model_name</th>\n",
       "      <th id=\"T_03f04_level0_col1\" class=\"col_heading level0 col1\" >max_length</th>\n",
       "      <th id=\"T_03f04_level0_col2\" class=\"col_heading level0 col2\" >default_settings</th>\n",
       "      <th id=\"T_03f04_level0_col3\" class=\"col_heading level0 col3\" >updated_at</th>\n",
       "    </tr>\n",
       "  </thead>\n",
       "  <tbody>\n",
       "    <tr>\n",
       "      <th id=\"T_03f04_level0_row0\" class=\"row_heading level0 row0\" >0</th>\n",
       "      <td id=\"T_03f04_row0_col0\" class=\"data row0 col0\" >julep-ai/samantha-1-alpha</td>\n",
       "      <td id=\"T_03f04_row0_col1\" class=\"data row0 col1\" >4096</td>\n",
       "      <td id=\"T_03f04_row0_col2\" class=\"data row0 col2\" >{'max_tokens': 400, 'repetition_penalty': 1.25, 'temperature': 1.0}</td>\n",
       "      <td id=\"T_03f04_row0_col3\" class=\"data row0 col3\" >1698041823</td>\n",
       "    </tr>\n",
       "  </tbody>\n",
       "</table>\n"
      ],
      "text/plain": [
       "<pandas.io.formats.style.Styler at 0x7fd6b8603190>"
      ]
     },
     "execution_count": 19,
     "metadata": {},
     "output_type": "execute_result"
    }
   ],
   "source": [
    "input[model_name] <- [[\n",
    "    \"julep-ai/samantha-1-alpha\",\n",
    "]]\n",
    "\n",
    "?[\n",
    "    model_name,\n",
    "    max_length,\n",
    "    default_settings,\n",
    "    updated_at,\n",
    "] := input[model_name],\n",
    "    *models {\n",
    "        model_name,\n",
    "        max_length,\n",
    "        default_settings,\n",
    "        updated_at: validity,\n",
    "        @ \"NOW\"\n",
    "    }, updated_at = to_int(validity)\n"
   ]
  },
  {
   "cell_type": "markdown",
   "id": "494ce68c-2945-42eb-a8f9-76dd0d55daed",
   "metadata": {},
   "source": [
    "## Entries table"
   ]
  },
  {
   "cell_type": "code",
   "execution_count": 15,
   "id": "3f8c963e-79e7-472b-8688-ad09fbad93e9",
   "metadata": {},
   "outputs": [
    {
     "data": {
      "text/html": [
       "<style type=\"text/css\">\n",
       "#T_2bbe0_row0_col0 {\n",
       "  color: black;\n",
       "}\n",
       "</style>\n",
       "<table id=\"T_2bbe0\">\n",
       "  <thead>\n",
       "    <tr>\n",
       "      <th class=\"blank level0\" >&nbsp;</th>\n",
       "      <th id=\"T_2bbe0_level0_col0\" class=\"col_heading level0 col0\" >status</th>\n",
       "    </tr>\n",
       "  </thead>\n",
       "  <tbody>\n",
       "    <tr>\n",
       "      <th id=\"T_2bbe0_level0_row0\" class=\"row_heading level0 row0\" >0</th>\n",
       "      <td id=\"T_2bbe0_row0_col0\" class=\"data row0 col0\" >OK</td>\n",
       "    </tr>\n",
       "  </tbody>\n",
       "</table>\n"
      ],
      "text/plain": [
       "<pandas.io.formats.style.Styler at 0x7faba03b2fb0>"
      ]
     },
     "execution_count": 15,
     "metadata": {},
     "output_type": "execute_result"
    }
   ],
   "source": [
    ":create entries {\n",
    "    session_id: Uuid,\n",
    "    entry_id: Uuid default rand_uuid_v4(),\n",
    "    timestamp: Float default now(),\n",
    "    role: String,\n",
    "    name: String? default null,\n",
    "    =>\n",
    "    content: String,\n",
    "    token_count: Int,\n",
    "    processed: Bool default false,\n",
    "    parent_id: Uuid? default null,\n",
    "}"
   ]
  },
  {
   "cell_type": "code",
   "execution_count": 16,
   "id": "bf5b9535-6d00-43a8-a462-df7a7e490986",
   "metadata": {},
   "outputs": [
    {
     "data": {
      "text/html": [
       "<style type=\"text/css\">\n",
       "#T_2ceeb_row0_col0 {\n",
       "  color: black;\n",
       "}\n",
       "</style>\n",
       "<table id=\"T_2ceeb\">\n",
       "  <thead>\n",
       "    <tr>\n",
       "      <th class=\"blank level0\" >&nbsp;</th>\n",
       "      <th id=\"T_2ceeb_level0_col0\" class=\"col_heading level0 col0\" >status</th>\n",
       "    </tr>\n",
       "  </thead>\n",
       "  <tbody>\n",
       "    <tr>\n",
       "      <th id=\"T_2ceeb_level0_row0\" class=\"row_heading level0 row0\" >0</th>\n",
       "      <td id=\"T_2ceeb_row0_col0\" class=\"data row0 col0\" >OK</td>\n",
       "    </tr>\n",
       "  </tbody>\n",
       "</table>\n"
      ],
      "text/plain": [
       "<pandas.io.formats.style.Styler at 0x7faba03b2b90>"
      ]
     },
     "execution_count": 16,
     "metadata": {},
     "output_type": "execute_result"
    }
   ],
   "source": [
    "::index create entries:by_parent_id {\n",
    "    parent_id,\n",
    "    session_id,\n",
    "}"
   ]
  },
  {
   "cell_type": "code",
   "execution_count": 17,
   "id": "7e4498ce-309b-4129-9053-98d602640f70",
   "metadata": {},
   "outputs": [
    {
     "data": {
      "text/html": [
       "<style type=\"text/css\">\n",
       "#T_b274a_row0_col0 {\n",
       "  color: black;\n",
       "}\n",
       "</style>\n",
       "<table id=\"T_b274a\">\n",
       "  <thead>\n",
       "    <tr>\n",
       "      <th class=\"blank level0\" >&nbsp;</th>\n",
       "      <th id=\"T_b274a_level0_col0\" class=\"col_heading level0 col0\" >status</th>\n",
       "    </tr>\n",
       "  </thead>\n",
       "  <tbody>\n",
       "    <tr>\n",
       "      <th id=\"T_b274a_level0_row0\" class=\"row_heading level0 row0\" >0</th>\n",
       "      <td id=\"T_b274a_row0_col0\" class=\"data row0 col0\" >OK</td>\n",
       "    </tr>\n",
       "  </tbody>\n",
       "</table>\n"
      ],
      "text/plain": [
       "<pandas.io.formats.style.Styler at 0x7faba0206d10>"
      ]
     },
     "execution_count": 17,
     "metadata": {},
     "output_type": "execute_result"
    }
   ],
   "source": [
    "::index create entries:by_processed {\n",
    "    processed,\n",
    "    session_id,\n",
    "}"
   ]
  },
  {
   "cell_type": "markdown",
   "id": "8c82b433-a478-47dd-b453-bb8f17d42a03",
   "metadata": {},
   "source": [
    "### Create entry by session id"
   ]
  },
  {
   "cell_type": "code",
   "execution_count": 18,
   "id": "2482e7ab-2331-4424-bb87-0522e73669d1",
   "metadata": {},
   "outputs": [
    {
     "data": {
      "text/html": [
       "<style type=\"text/css\">\n",
       "#T_cce18_row0_col0 {\n",
       "  color: black;\n",
       "}\n",
       "</style>\n",
       "<table id=\"T_cce18\">\n",
       "  <thead>\n",
       "    <tr>\n",
       "      <th class=\"blank level0\" >&nbsp;</th>\n",
       "      <th id=\"T_cce18_level0_col0\" class=\"col_heading level0 col0\" >status</th>\n",
       "    </tr>\n",
       "  </thead>\n",
       "  <tbody>\n",
       "    <tr>\n",
       "      <th id=\"T_cce18_level0_row0\" class=\"row_heading level0 row0\" >0</th>\n",
       "      <td id=\"T_cce18_row0_col0\" class=\"data row0 col0\" >OK</td>\n",
       "    </tr>\n",
       "  </tbody>\n",
       "</table>\n"
      ],
      "text/plain": [
       "<pandas.io.formats.style.Styler at 0x7faba0204430>"
      ]
     },
     "execution_count": 18,
     "metadata": {},
     "output_type": "execute_result"
    }
   ],
   "source": [
    "?[session_id, role, name, content, token_count] <- [[\n",
    "    to_uuid(\"53d9d19f-3118-4365-b07d-aae0a28f0659\"),\n",
    "    \"assistant\",\n",
    "    \"Samantha\",\n",
    "    \"Hi Diwank\",\n",
    "    5,\n",
    "]]\n",
    "\n",
    ":put entries {\n",
    "    session_id,\n",
    "    role,\n",
    "    name,\n",
    "    content,\n",
    "    token_count,\n",
    "}"
   ]
  },
  {
   "cell_type": "markdown",
   "id": "f9472d8f-828a-44a5-914e-4b87150cd75b",
   "metadata": {},
   "source": [
    "### Get entries by session id"
   ]
  },
  {
   "cell_type": "code",
   "execution_count": 20,
   "id": "8d502a88-8f8a-4552-986f-dd7df0e6906a",
   "metadata": {},
   "outputs": [
    {
     "data": {
      "text/html": [
       "<style type=\"text/css\">\n",
       "#T_47c56_row0_col0, #T_47c56_row0_col1, #T_47c56_row0_col3, #T_47c56_row0_col4, #T_47c56_row0_col5 {\n",
       "  color: black;\n",
       "}\n",
       "#T_47c56_row0_col2, #T_47c56_row0_col6, #T_47c56_row0_col7 {\n",
       "  color: #307fc1;\n",
       "}\n",
       "#T_47c56_row0_col8 {\n",
       "  color: #bf5b3d;\n",
       "}\n",
       "</style>\n",
       "<table id=\"T_47c56\">\n",
       "  <thead>\n",
       "    <tr>\n",
       "      <th class=\"blank level0\" >&nbsp;</th>\n",
       "      <th id=\"T_47c56_level0_col0\" class=\"col_heading level0 col0\" >session_id</th>\n",
       "      <th id=\"T_47c56_level0_col1\" class=\"col_heading level0 col1\" >entry_id</th>\n",
       "      <th id=\"T_47c56_level0_col2\" class=\"col_heading level0 col2\" >timestamp</th>\n",
       "      <th id=\"T_47c56_level0_col3\" class=\"col_heading level0 col3\" >role</th>\n",
       "      <th id=\"T_47c56_level0_col4\" class=\"col_heading level0 col4\" >name</th>\n",
       "      <th id=\"T_47c56_level0_col5\" class=\"col_heading level0 col5\" >content</th>\n",
       "      <th id=\"T_47c56_level0_col6\" class=\"col_heading level0 col6\" >token_count</th>\n",
       "      <th id=\"T_47c56_level0_col7\" class=\"col_heading level0 col7\" >processed</th>\n",
       "      <th id=\"T_47c56_level0_col8\" class=\"col_heading level0 col8\" >parent_id</th>\n",
       "    </tr>\n",
       "  </thead>\n",
       "  <tbody>\n",
       "    <tr>\n",
       "      <th id=\"T_47c56_level0_row0\" class=\"row_heading level0 row0\" >0</th>\n",
       "      <td id=\"T_47c56_row0_col0\" class=\"data row0 col0\" >53d9d19f-3118-4365-b07d-aae0a28f0659</td>\n",
       "      <td id=\"T_47c56_row0_col1\" class=\"data row0 col1\" >badd00be-1acd-468a-84b1-a181c19ad89f</td>\n",
       "      <td id=\"T_47c56_row0_col2\" class=\"data row0 col2\" >1698648091.337920</td>\n",
       "      <td id=\"T_47c56_row0_col3\" class=\"data row0 col3\" >assistant</td>\n",
       "      <td id=\"T_47c56_row0_col4\" class=\"data row0 col4\" >Samantha</td>\n",
       "      <td id=\"T_47c56_row0_col5\" class=\"data row0 col5\" >Hi Diwank</td>\n",
       "      <td id=\"T_47c56_row0_col6\" class=\"data row0 col6\" >5</td>\n",
       "      <td id=\"T_47c56_row0_col7\" class=\"data row0 col7\" >False</td>\n",
       "      <td id=\"T_47c56_row0_col8\" class=\"data row0 col8\" >None</td>\n",
       "    </tr>\n",
       "  </tbody>\n",
       "</table>\n"
      ],
      "text/plain": [
       "<pandas.io.formats.style.Styler at 0x7faba03b37f0>"
      ]
     },
     "execution_count": 20,
     "metadata": {},
     "output_type": "execute_result"
    }
   ],
   "source": [
    "input[session_id] <- [[\n",
    "    to_uuid(\"53d9d19f-3118-4365-b07d-aae0a28f0659\"),\n",
    "]]\n",
    "\n",
    "?[\n",
    "    session_id,\n",
    "    entry_id,\n",
    "    timestamp,\n",
    "    role,\n",
    "    name,\n",
    "    content,\n",
    "    token_count,\n",
    "    processed,\n",
    "    parent_id,\n",
    "] := input[session_id],\n",
    "    *entries{\n",
    "        session_id,\n",
    "        entry_id,\n",
    "        timestamp,\n",
    "        role,\n",
    "        name,\n",
    "        content,\n",
    "        token_count,\n",
    "        processed,\n",
    "        parent_id,\n",
    "    }"
   ]
  },
  {
   "cell_type": "markdown",
   "id": "571a09c5-8e4a-4c35-b0ab-23c2722e5d8a",
   "metadata": {},
   "source": [
    "## Beliefs table"
   ]
  },
  {
   "cell_type": "code",
   "execution_count": 21,
   "id": "22f72727-2b95-4363-a9c2-00904d7020e9",
   "metadata": {},
   "outputs": [
    {
     "data": {
      "text/html": [
       "<style type=\"text/css\">\n",
       "#T_a5b5f_row0_col0 {\n",
       "  color: black;\n",
       "}\n",
       "</style>\n",
       "<table id=\"T_a5b5f\">\n",
       "  <thead>\n",
       "    <tr>\n",
       "      <th class=\"blank level0\" >&nbsp;</th>\n",
       "      <th id=\"T_a5b5f_level0_col0\" class=\"col_heading level0 col0\" >status</th>\n",
       "    </tr>\n",
       "  </thead>\n",
       "  <tbody>\n",
       "    <tr>\n",
       "      <th id=\"T_a5b5f_level0_row0\" class=\"row_heading level0 row0\" >0</th>\n",
       "      <td id=\"T_a5b5f_row0_col0\" class=\"data row0 col0\" >OK</td>\n",
       "    </tr>\n",
       "  </tbody>\n",
       "</table>\n"
      ],
      "text/plain": [
       "<pandas.io.formats.style.Styler at 0x7faba03b2f50>"
      ]
     },
     "execution_count": 21,
     "metadata": {},
     "output_type": "execute_result"
    }
   ],
   "source": [
    ":create beliefs {\n",
    "    referrent_is_user: Bool,\n",
    "    referrent_id: Uuid,\n",
    "    subject_is_user: Bool? default null,\n",
    "    subject_id: Uuid? default null,\n",
    "    belief_id: Uuid,\n",
    "    =>\n",
    "    belief: String,\n",
    "    valence: Float default 0.0,\n",
    "    source_episode: Uuid? default null,\n",
    "    parent_belief: Uuid? default null,\n",
    "    sentiment: String default \"neutral\",\n",
    "    processed: Bool default false,\n",
    "    created_at: Float default now(),\n",
    "    embedding: <F32; 384>,\n",
    "    fact_embedding: <F32; 1024>? default null,\n",
    "}\n"
   ]
  },
  {
   "cell_type": "markdown",
   "id": "7628564c-c5fb-4489-bac6-2d4d3622f250",
   "metadata": {},
   "source": [
    "### Belief indices"
   ]
  },
  {
   "cell_type": "code",
   "execution_count": 22,
   "id": "cfbce3de-98ad-4aaa-9fa1-c579cefaf327",
   "metadata": {},
   "outputs": [
    {
     "data": {
      "text/html": [
       "<style type=\"text/css\">\n",
       "#T_cbd1a_row0_col0 {\n",
       "  color: black;\n",
       "}\n",
       "</style>\n",
       "<table id=\"T_cbd1a\">\n",
       "  <thead>\n",
       "    <tr>\n",
       "      <th class=\"blank level0\" >&nbsp;</th>\n",
       "      <th id=\"T_cbd1a_level0_col0\" class=\"col_heading level0 col0\" >status</th>\n",
       "    </tr>\n",
       "  </thead>\n",
       "  <tbody>\n",
       "    <tr>\n",
       "      <th id=\"T_cbd1a_level0_row0\" class=\"row_heading level0 row0\" >0</th>\n",
       "      <td id=\"T_cbd1a_row0_col0\" class=\"data row0 col0\" >OK</td>\n",
       "    </tr>\n",
       "  </tbody>\n",
       "</table>\n"
      ],
      "text/plain": [
       "<pandas.io.formats.style.Styler at 0x7faba03b32b0>"
      ]
     },
     "execution_count": 22,
     "metadata": {},
     "output_type": "execute_result"
    }
   ],
   "source": [
    "::index create beliefs:by_belief_id {\n",
    "    belief_id,\n",
    "    belief,\n",
    "    valence,\n",
    "    sentiment,\n",
    "}"
   ]
  },
  {
   "cell_type": "code",
   "execution_count": 23,
   "id": "c0be9f1f-f2e8-4bde-a5af-9dd69c82310a",
   "metadata": {},
   "outputs": [
    {
     "data": {
      "text/html": [
       "<style type=\"text/css\">\n",
       "#T_b5863_row0_col0 {\n",
       "  color: black;\n",
       "}\n",
       "</style>\n",
       "<table id=\"T_b5863\">\n",
       "  <thead>\n",
       "    <tr>\n",
       "      <th class=\"blank level0\" >&nbsp;</th>\n",
       "      <th id=\"T_b5863_level0_col0\" class=\"col_heading level0 col0\" >status</th>\n",
       "    </tr>\n",
       "  </thead>\n",
       "  <tbody>\n",
       "    <tr>\n",
       "      <th id=\"T_b5863_level0_row0\" class=\"row_heading level0 row0\" >0</th>\n",
       "      <td id=\"T_b5863_row0_col0\" class=\"data row0 col0\" >OK</td>\n",
       "    </tr>\n",
       "  </tbody>\n",
       "</table>\n"
      ],
      "text/plain": [
       "<pandas.io.formats.style.Styler at 0x7faba0234700>"
      ]
     },
     "execution_count": 23,
     "metadata": {},
     "output_type": "execute_result"
    }
   ],
   "source": [
    "::index create beliefs:by_parent_belief {\n",
    "    parent_belief,\n",
    "    belief_id,\n",
    "    belief,\n",
    "    valence,\n",
    "    sentiment,\n",
    "}"
   ]
  },
  {
   "cell_type": "markdown",
   "id": "cfc9e6c8",
   "metadata": {},
   "source": [
    "### Belief vector index"
   ]
  },
  {
   "cell_type": "code",
   "execution_count": 24,
   "id": "15ab0a3b-626e-4167-925c-07a34913c223",
   "metadata": {},
   "outputs": [
    {
     "data": {
      "text/html": [
       "<style type=\"text/css\">\n",
       "#T_8acd7_row0_col0 {\n",
       "  color: black;\n",
       "}\n",
       "</style>\n",
       "<table id=\"T_8acd7\">\n",
       "  <thead>\n",
       "    <tr>\n",
       "      <th class=\"blank level0\" >&nbsp;</th>\n",
       "      <th id=\"T_8acd7_level0_col0\" class=\"col_heading level0 col0\" >status</th>\n",
       "    </tr>\n",
       "  </thead>\n",
       "  <tbody>\n",
       "    <tr>\n",
       "      <th id=\"T_8acd7_level0_row0\" class=\"row_heading level0 row0\" >0</th>\n",
       "      <td id=\"T_8acd7_row0_col0\" class=\"data row0 col0\" >OK</td>\n",
       "    </tr>\n",
       "  </tbody>\n",
       "</table>\n"
      ],
      "text/plain": [
       "<pandas.io.formats.style.Styler at 0x7faba0207f70>"
      ]
     },
     "execution_count": 24,
     "metadata": {},
     "output_type": "execute_result"
    }
   ],
   "source": [
    "::hnsw create beliefs:embedding_space {\n",
    "    dim: 384,\n",
    "    m: 50,\n",
    "    dtype: F32,\n",
    "    fields: embedding,\n",
    "    distance: Cosine,\n",
    "    ef_construction: 20,\n",
    "    extend_candidates: true,\n",
    "    keep_pruned_connections: false,\n",
    "}"
   ]
  },
  {
   "cell_type": "code",
   "execution_count": 25,
   "id": "44a56073",
   "metadata": {},
   "outputs": [
    {
     "data": {
      "text/html": [
       "<style type=\"text/css\">\n",
       "#T_98fa7_row0_col0 {\n",
       "  color: black;\n",
       "}\n",
       "</style>\n",
       "<table id=\"T_98fa7\">\n",
       "  <thead>\n",
       "    <tr>\n",
       "      <th class=\"blank level0\" >&nbsp;</th>\n",
       "      <th id=\"T_98fa7_level0_col0\" class=\"col_heading level0 col0\" >status</th>\n",
       "    </tr>\n",
       "  </thead>\n",
       "  <tbody>\n",
       "    <tr>\n",
       "      <th id=\"T_98fa7_level0_row0\" class=\"row_heading level0 row0\" >0</th>\n",
       "      <td id=\"T_98fa7_row0_col0\" class=\"data row0 col0\" >OK</td>\n",
       "    </tr>\n",
       "  </tbody>\n",
       "</table>\n"
      ],
      "text/plain": [
       "<pandas.io.formats.style.Styler at 0x7faba03b3910>"
      ]
     },
     "execution_count": 25,
     "metadata": {},
     "output_type": "execute_result"
    }
   ],
   "source": [
    "::hnsw create beliefs:fact_embedding_space {\n",
    "    dim: 1024,\n",
    "    m: 50,\n",
    "    dtype: F32,\n",
    "    fields: fact_embedding,\n",
    "    filter: !is_null(fact_embedding),\n",
    "    distance: Cosine,\n",
    "    ef_construction: 20,\n",
    "    extend_candidates: false,\n",
    "    keep_pruned_connections: false,\n",
    "}"
   ]
  },
  {
   "cell_type": "markdown",
   "id": "74558d3f-0c8e-4048-9b98-c2362c27591a",
   "metadata": {},
   "source": [
    "### Belief FTS index"
   ]
  },
  {
   "cell_type": "code",
   "execution_count": 26,
   "id": "e708cc1b-ca32-4786-aa35-0c37bec8f5e6",
   "metadata": {},
   "outputs": [
    {
     "data": {
      "text/html": [
       "<style type=\"text/css\">\n",
       "#T_29ebc_row0_col0 {\n",
       "  color: black;\n",
       "}\n",
       "</style>\n",
       "<table id=\"T_29ebc\">\n",
       "  <thead>\n",
       "    <tr>\n",
       "      <th class=\"blank level0\" >&nbsp;</th>\n",
       "      <th id=\"T_29ebc_level0_col0\" class=\"col_heading level0 col0\" >status</th>\n",
       "    </tr>\n",
       "  </thead>\n",
       "  <tbody>\n",
       "    <tr>\n",
       "      <th id=\"T_29ebc_level0_row0\" class=\"row_heading level0 row0\" >0</th>\n",
       "      <td id=\"T_29ebc_row0_col0\" class=\"data row0 col0\" >OK</td>\n",
       "    </tr>\n",
       "  </tbody>\n",
       "</table>\n"
      ],
      "text/plain": [
       "<pandas.io.formats.style.Styler at 0x7faba0206260>"
      ]
     },
     "execution_count": 26,
     "metadata": {},
     "output_type": "execute_result"
    }
   ],
   "source": [
    "::fts create beliefs:summary {\n",
    "    extractor: belief,\n",
    "    tokenizer: Simple,\n",
    "    filters: [AsciiFolding, AlphaNumOnly, Lowercase, Stemmer('english'), Stopwords('en')],\n",
    "}"
   ]
  },
  {
   "cell_type": "markdown",
   "id": "6b6ef94d-262d-4693-9b17-aaec008349dd",
   "metadata": {},
   "source": [
    "### Upsert belief by character_id, belief_id"
   ]
  },
  {
   "cell_type": "code",
   "execution_count": 27,
   "id": "dd12e7a7-b026-46a5-9030-de01d5ae9bd5",
   "metadata": {},
   "outputs": [
    {
     "data": {
      "text/html": [
       "<style type=\"text/css\">\n",
       "#T_f25ce_row0_col0 {\n",
       "  color: black;\n",
       "}\n",
       "</style>\n",
       "<table id=\"T_f25ce\">\n",
       "  <thead>\n",
       "    <tr>\n",
       "      <th class=\"blank level0\" >&nbsp;</th>\n",
       "      <th id=\"T_f25ce_level0_col0\" class=\"col_heading level0 col0\" >status</th>\n",
       "    </tr>\n",
       "  </thead>\n",
       "  <tbody>\n",
       "    <tr>\n",
       "      <th id=\"T_f25ce_level0_row0\" class=\"row_heading level0 row0\" >0</th>\n",
       "      <td id=\"T_f25ce_row0_col0\" class=\"data row0 col0\" >OK</td>\n",
       "    </tr>\n",
       "  </tbody>\n",
       "</table>\n"
      ],
      "text/plain": [
       "<pandas.io.formats.style.Styler at 0x7faba0206e60>"
      ]
     },
     "execution_count": 27,
     "metadata": {},
     "output_type": "execute_result"
    }
   ],
   "source": [
    "input[\n",
    "    belief_id,\n",
    "    character_id,\n",
    "    belief,\n",
    "    embedding,\n",
    "] <- [\n",
    "    [\n",
    "        \"205806e9-6ee9-410e-b66e-867f63b435db\",\n",
    "        \"43ca8b58-190c-47cb-9cc1-151fe3127b22\",\n",
    "        \"Samantha is a hopeful person\",\n",
    "        [1,1,1,1,1,1,1,1,1,1,1,1,1,1,1,1,1,1,1,1,1,1,1,1,1,1,1,1,1,1,1,1,1,1,1,1,1,1,1,1,1,1,1,1,1,1,1,1,1,1,1,1,1,1,1,1,1,1,1,1,1,1,1,1,1,1,1,1,1,1,1,1,1,1,1,1,1,1,1,1,1,1,1,1,1,1,1,1,1,1,1,1,1,1,1,1,1,1,1,1,1,1,1,1,1,1,1,1,1,1,1,1,1,1,1,1,1,1,1,1,1,1,1,1,1,1,1,1,1,1,1,1,1,1,1,1,1,1,1,1,1,1,1,1,1,1,1,1,1,1,1,1,1,1,1,1,1,1,1,1,1,1,1,1,1,1,1,1,1,1,1,1,1,1,1,1,1,1,1,1,1,1,1,1,1,1,1,1,1,1,1,1,1,1,1,1,1,1,1,1,1,1,1,1,1,1,1,1,1,1,1,1,1,1,1,1,1,1,1,1,1,1,1,1,1,1,1,1,1,1,1,1,1,1,1,1,1,1,1,1,1,1,1,1,1,1,1,1,1,1,1,1,1,1,1,1,1,1,1,1,1,1,1,1,1,1,1,1,1,1,1,1,1,1,1,1,1,1,1,1,1,1,1,1,1,1,1,1,1,1,1,1,1,1,1,1,1,1,1,1,1,1,1,1,1,1,1,1,1,1,1,1,1,1,1,1,1,1,1,1,1,1,1,1,1,1,1,1,1,1,1,1,1,1,1,1,1,1,1,1,1,1,1,1,1,1,1,1,1,1,1,1,1,1,1,1,1,1,1,1,1,1,1,1,1,1,1,1,1,1,1,1,1,1,1,1,1,1,1,1,1,1,1,1],\n",
    "    ]\n",
    "]\n",
    "\n",
    "?[\n",
    "    referrent_is_user,\n",
    "    referrent_id,\n",
    "    belief_id,\n",
    "    belief,\n",
    "    embedding,\n",
    "] := input[\n",
    "        belief_id,\n",
    "        referrent_id,\n",
    "        belief,\n",
    "        embedding,\n",
    "    ],\n",
    "    referrent_is_user = false\n",
    "\n",
    ":put beliefs {\n",
    "    referrent_is_user,\n",
    "    referrent_id,\n",
    "    belief_id =>\n",
    "    belief,\n",
    "    embedding,\n",
    "}"
   ]
  },
  {
   "cell_type": "markdown",
   "id": "2817071d-6e2b-4126-9a14-fbfafd15e56e",
   "metadata": {},
   "source": [
    "### Query beliefs by belief_id"
   ]
  },
  {
   "cell_type": "code",
   "execution_count": 28,
   "id": "307830df-1fed-4df5-835c-202c1a4db816",
   "metadata": {},
   "outputs": [
    {
     "data": {
      "text/html": [
       "<style type=\"text/css\">\n",
       "#T_0be0f_row0_col0, #T_0be0f_row0_col6 {\n",
       "  color: #307fc1;\n",
       "}\n",
       "#T_0be0f_row0_col1, #T_0be0f_row0_col4, #T_0be0f_row0_col5, #T_0be0f_row0_col7 {\n",
       "  color: black;\n",
       "}\n",
       "#T_0be0f_row0_col2, #T_0be0f_row0_col3 {\n",
       "  color: #bf5b3d;\n",
       "}\n",
       "</style>\n",
       "<table id=\"T_0be0f\">\n",
       "  <thead>\n",
       "    <tr>\n",
       "      <th class=\"blank level0\" >&nbsp;</th>\n",
       "      <th id=\"T_0be0f_level0_col0\" class=\"col_heading level0 col0\" >referrent_is_user</th>\n",
       "      <th id=\"T_0be0f_level0_col1\" class=\"col_heading level0 col1\" >referrent_id</th>\n",
       "      <th id=\"T_0be0f_level0_col2\" class=\"col_heading level0 col2\" >subject_is_user</th>\n",
       "      <th id=\"T_0be0f_level0_col3\" class=\"col_heading level0 col3\" >subject_id</th>\n",
       "      <th id=\"T_0be0f_level0_col4\" class=\"col_heading level0 col4\" >belief_id</th>\n",
       "      <th id=\"T_0be0f_level0_col5\" class=\"col_heading level0 col5\" >belief</th>\n",
       "      <th id=\"T_0be0f_level0_col6\" class=\"col_heading level0 col6\" >valence</th>\n",
       "      <th id=\"T_0be0f_level0_col7\" class=\"col_heading level0 col7\" >sentiment</th>\n",
       "    </tr>\n",
       "  </thead>\n",
       "  <tbody>\n",
       "    <tr>\n",
       "      <th id=\"T_0be0f_level0_row0\" class=\"row_heading level0 row0\" >0</th>\n",
       "      <td id=\"T_0be0f_row0_col0\" class=\"data row0 col0\" >False</td>\n",
       "      <td id=\"T_0be0f_row0_col1\" class=\"data row0 col1\" >43ca8b58-190c-47cb-9cc1-151fe3127b22</td>\n",
       "      <td id=\"T_0be0f_row0_col2\" class=\"data row0 col2\" >None</td>\n",
       "      <td id=\"T_0be0f_row0_col3\" class=\"data row0 col3\" >None</td>\n",
       "      <td id=\"T_0be0f_row0_col4\" class=\"data row0 col4\" >205806e9-6ee9-410e-b66e-867f63b435db</td>\n",
       "      <td id=\"T_0be0f_row0_col5\" class=\"data row0 col5\" >Samantha is a hopeful person</td>\n",
       "      <td id=\"T_0be0f_row0_col6\" class=\"data row0 col6\" >0.000000</td>\n",
       "      <td id=\"T_0be0f_row0_col7\" class=\"data row0 col7\" >neutral</td>\n",
       "    </tr>\n",
       "  </tbody>\n",
       "</table>\n"
      ],
      "text/plain": [
       "<pandas.io.formats.style.Styler at 0x7faba03b3cd0>"
      ]
     },
     "execution_count": 28,
     "metadata": {},
     "output_type": "execute_result"
    }
   ],
   "source": [
    "input[belief_id] <- [[to_uuid(\"205806e9-6ee9-410e-b66e-867f63b435db\")]]\n",
    "\n",
    "?[\n",
    "    referrent_is_user,\n",
    "    referrent_id,\n",
    "    subject_is_user,\n",
    "    subject_id,\n",
    "    belief_id,\n",
    "    belief,\n",
    "    valence,\n",
    "    sentiment,\n",
    "\n",
    "] := input[belief_id], *beliefs:by_belief_id {\n",
    "    referrent_is_user,\n",
    "    referrent_id,\n",
    "    subject_is_user,\n",
    "    subject_id,\n",
    "    belief_id,\n",
    "    belief,\n",
    "    valence,\n",
    "    sentiment,\n",
    "}"
   ]
  },
  {
   "cell_type": "markdown",
   "id": "509bc68e-0902-49df-bffe-199780a9921e",
   "metadata": {},
   "source": [
    "### Query beliefs by character_id"
   ]
  },
  {
   "cell_type": "code",
   "execution_count": 33,
   "id": "1f18cfa4-c50e-4a5d-b698-e756553c4bd1",
   "metadata": {},
   "outputs": [
    {
     "data": {
      "text/html": [
       "<style type=\"text/css\">\n",
       "#T_50560_row0_col0, #T_50560_row0_col6, #T_50560_row0_col10, #T_50560_row0_col11 {\n",
       "  color: #307fc1;\n",
       "}\n",
       "#T_50560_row0_col1, #T_50560_row0_col4, #T_50560_row0_col5, #T_50560_row0_col9 {\n",
       "  color: black;\n",
       "}\n",
       "#T_50560_row0_col2, #T_50560_row0_col3, #T_50560_row0_col7, #T_50560_row0_col8, #T_50560_row0_col12, #T_50560_row0_col13 {\n",
       "  color: #bf5b3d;\n",
       "}\n",
       "</style>\n",
       "<table id=\"T_50560\">\n",
       "  <thead>\n",
       "    <tr>\n",
       "      <th class=\"blank level0\" >&nbsp;</th>\n",
       "      <th id=\"T_50560_level0_col0\" class=\"col_heading level0 col0\" >referrent_is_user</th>\n",
       "      <th id=\"T_50560_level0_col1\" class=\"col_heading level0 col1\" >referrent_id</th>\n",
       "      <th id=\"T_50560_level0_col2\" class=\"col_heading level0 col2\" >subject_is_user</th>\n",
       "      <th id=\"T_50560_level0_col3\" class=\"col_heading level0 col3\" >subject_id</th>\n",
       "      <th id=\"T_50560_level0_col4\" class=\"col_heading level0 col4\" >belief_id</th>\n",
       "      <th id=\"T_50560_level0_col5\" class=\"col_heading level0 col5\" >belief</th>\n",
       "      <th id=\"T_50560_level0_col6\" class=\"col_heading level0 col6\" >valence</th>\n",
       "      <th id=\"T_50560_level0_col7\" class=\"col_heading level0 col7\" >source_episode</th>\n",
       "      <th id=\"T_50560_level0_col8\" class=\"col_heading level0 col8\" >parent_belief</th>\n",
       "      <th id=\"T_50560_level0_col9\" class=\"col_heading level0 col9\" >sentiment</th>\n",
       "      <th id=\"T_50560_level0_col10\" class=\"col_heading level0 col10\" >processed</th>\n",
       "      <th id=\"T_50560_level0_col11\" class=\"col_heading level0 col11\" >created_at</th>\n",
       "      <th id=\"T_50560_level0_col12\" class=\"col_heading level0 col12\" >embedding</th>\n",
       "      <th id=\"T_50560_level0_col13\" class=\"col_heading level0 col13\" >fact_embedding</th>\n",
       "    </tr>\n",
       "  </thead>\n",
       "  <tbody>\n",
       "    <tr>\n",
       "      <th id=\"T_50560_level0_row0\" class=\"row_heading level0 row0\" >0</th>\n",
       "      <td id=\"T_50560_row0_col0\" class=\"data row0 col0\" >False</td>\n",
       "      <td id=\"T_50560_row0_col1\" class=\"data row0 col1\" >43ca8b58-190c-47cb-9cc1-151fe3127b22</td>\n",
       "      <td id=\"T_50560_row0_col2\" class=\"data row0 col2\" >None</td>\n",
       "      <td id=\"T_50560_row0_col3\" class=\"data row0 col3\" >None</td>\n",
       "      <td id=\"T_50560_row0_col4\" class=\"data row0 col4\" >205806e9-6ee9-410e-b66e-867f63b435db</td>\n",
       "      <td id=\"T_50560_row0_col5\" class=\"data row0 col5\" >Samantha is a hopeful person</td>\n",
       "      <td id=\"T_50560_row0_col6\" class=\"data row0 col6\" >0.000000</td>\n",
       "      <td id=\"T_50560_row0_col7\" class=\"data row0 col7\" >None</td>\n",
       "      <td id=\"T_50560_row0_col8\" class=\"data row0 col8\" >None</td>\n",
       "      <td id=\"T_50560_row0_col9\" class=\"data row0 col9\" >neutral</td>\n",
       "      <td id=\"T_50560_row0_col10\" class=\"data row0 col10\" >False</td>\n",
       "      <td id=\"T_50560_row0_col11\" class=\"data row0 col11\" >1698041823.315448</td>\n",
       "      <td id=\"T_50560_row0_col12\" class=\"data row0 col12\" >[1.0, 1.0, 1.0, 1.0, 1.0, 1.0, 1.0, 1.0, 1.0, 1.0, 1.0, 1.0, 1.0, 1.0, 1.0, 1.0, 1.0, 1.0, 1.0, 1.0, 1.0, 1.0, 1.0, 1.0, 1.0, 1.0, 1.0, 1.0, 1.0, 1.0, 1.0, 1.0, 1.0, 1.0, 1.0, 1.0, 1.0, 1.0, 1.0, 1.0, 1.0, 1.0, 1.0, 1.0, 1.0, 1.0, 1.0, 1.0, 1.0, 1.0, 1.0, 1.0, 1.0, 1.0, 1.0, 1.0, 1.0, 1.0, 1.0, 1.0, 1.0, 1.0, 1.0, 1.0, 1.0, 1.0, 1.0, 1.0, 1.0, 1.0, 1.0, 1.0, 1.0, 1.0, 1.0, 1.0, 1.0, 1.0, 1.0, 1.0, 1.0, 1.0, 1.0, 1.0, 1.0, 1.0, 1.0, 1.0, 1.0, 1.0, 1.0, 1.0, 1.0, 1.0, 1.0, 1.0, 1.0, 1.0, 1.0, 1.0, 1.0, 1.0, 1.0, 1.0, 1.0, 1.0, 1.0, 1.0, 1.0, 1.0, 1.0, 1.0, 1.0, 1.0, 1.0, 1.0, 1.0, 1.0, 1.0, 1.0, 1.0, 1.0, 1.0, 1.0, 1.0, 1.0, 1.0, 1.0, 1.0, 1.0, 1.0, 1.0, 1.0, 1.0, 1.0, 1.0, 1.0, 1.0, 1.0, 1.0, 1.0, 1.0, 1.0, 1.0, 1.0, 1.0, 1.0, 1.0, 1.0, 1.0, 1.0, 1.0, 1.0, 1.0, 1.0, 1.0, 1.0, 1.0, 1.0, 1.0, 1.0, 1.0, 1.0, 1.0, 1.0, 1.0, 1.0, 1.0, 1.0, 1.0, 1.0, 1.0, 1.0, 1.0, 1.0, 1.0, 1.0, 1.0, 1.0, 1.0, 1.0, 1.0, 1.0, 1.0, 1.0, 1.0, 1.0, 1.0, 1.0, 1.0, 1.0, 1.0, 1.0, 1.0, 1.0, 1.0, 1.0, 1.0, 1.0, 1.0, 1.0, 1.0, 1.0, 1.0, 1.0, 1.0, 1.0, 1.0, 1.0, 1.0, 1.0, 1.0, 1.0, 1.0, 1.0, 1.0, 1.0, 1.0, 1.0, 1.0, 1.0, 1.0, 1.0, 1.0, 1.0, 1.0, 1.0, 1.0, 1.0, 1.0, 1.0, 1.0, 1.0, 1.0, 1.0, 1.0, 1.0, 1.0, 1.0, 1.0, 1.0, 1.0, 1.0, 1.0, 1.0, 1.0, 1.0, 1.0, 1.0, 1.0, 1.0, 1.0, 1.0, 1.0, 1.0, 1.0, 1.0, 1.0, 1.0, 1.0, 1.0, 1.0, 1.0, 1.0, 1.0, 1.0, 1.0, 1.0, 1.0, 1.0, 1.0, 1.0, 1.0, 1.0, 1.0, 1.0, 1.0, 1.0, 1.0, 1.0, 1.0, 1.0, 1.0, 1.0, 1.0, 1.0, 1.0, 1.0, 1.0, 1.0, 1.0, 1.0, 1.0, 1.0, 1.0, 1.0, 1.0, 1.0, 1.0, 1.0, 1.0, 1.0, 1.0, 1.0, 1.0, 1.0, 1.0, 1.0, 1.0, 1.0, 1.0, 1.0, 1.0, 1.0, 1.0, 1.0, 1.0, 1.0, 1.0, 1.0, 1.0, 1.0, 1.0, 1.0, 1.0, 1.0, 1.0, 1.0, 1.0, 1.0, 1.0, 1.0, 1.0, 1.0, 1.0, 1.0, 1.0, 1.0, 1.0, 1.0, 1.0, 1.0, 1.0, 1.0, 1.0, 1.0, 1.0, 1.0, 1.0, 1.0, 1.0, 1.0, 1.0, 1.0, 1.0, 1.0, 1.0, 1.0, 1.0, 1.0, 1.0, 1.0, 1.0, 1.0, 1.0, 1.0, 1.0, 1.0, 1.0, 1.0, 1.0, 1.0, 1.0, 1.0, 1.0, 1.0, 1.0, 1.0, 1.0, 1.0, 1.0, 1.0, 1.0, 1.0]</td>\n",
       "      <td id=\"T_50560_row0_col13\" class=\"data row0 col13\" >None</td>\n",
       "    </tr>\n",
       "  </tbody>\n",
       "</table>\n"
      ],
      "text/plain": [
       "<pandas.io.formats.style.Styler at 0x7fd67044ada0>"
      ]
     },
     "execution_count": 33,
     "metadata": {},
     "output_type": "execute_result"
    }
   ],
   "source": [
    "input[character_id] <- [[\n",
    "    to_uuid(\"43ca8b58-190c-47cb-9cc1-151fe3127b22\"),\n",
    "]]\n",
    "\n",
    "?[\n",
    "    referrent_is_user,\n",
    "    referrent_id,\n",
    "    subject_is_user,\n",
    "    subject_id,\n",
    "    belief_id,\n",
    "    belief,\n",
    "    valence,\n",
    "    source_episode,\n",
    "    parent_belief,\n",
    "    sentiment,\n",
    "    processed,\n",
    "    created_at,\n",
    "    embedding,\n",
    "    fact_embedding,\n",
    "\n",
    "] := input[referrent_id], *beliefs {\n",
    "        referrent_is_user,\n",
    "        referrent_id,\n",
    "        subject_is_user,\n",
    "        subject_id,\n",
    "        belief_id,\n",
    "        belief,\n",
    "        valence,\n",
    "        source_episode,\n",
    "        parent_belief,\n",
    "        sentiment,\n",
    "        processed,\n",
    "        created_at,\n",
    "        embedding,\n",
    "        fact_embedding,\n",
    "    },\n",
    "    referrent_is_user = false,\n",
    "    subject_is_user = null,\n",
    "    subject_id = null"
   ]
  },
  {
   "cell_type": "markdown",
   "id": "1c8a8e56-8624-4055-9806-4a0b3952b2a8",
   "metadata": {},
   "source": [
    "### Query beliefs by fts, hnsw"
   ]
  },
  {
   "cell_type": "code",
   "execution_count": 34,
   "id": "b0ba434a-d29b-4f55-876f-41c8c743d12c",
   "metadata": {},
   "outputs": [
    {
     "data": {
      "text/html": [
       "<style type=\"text/css\">\n",
       "#T_0a31d_row0_col0, #T_0a31d_row0_col6, #T_0a31d_row0_col10, #T_0a31d_row0_col11, #T_0a31d_row0_col14 {\n",
       "  color: #307fc1;\n",
       "}\n",
       "#T_0a31d_row0_col1, #T_0a31d_row0_col4, #T_0a31d_row0_col5, #T_0a31d_row0_col9 {\n",
       "  color: black;\n",
       "}\n",
       "#T_0a31d_row0_col2, #T_0a31d_row0_col3, #T_0a31d_row0_col7, #T_0a31d_row0_col8, #T_0a31d_row0_col12, #T_0a31d_row0_col13 {\n",
       "  color: #bf5b3d;\n",
       "}\n",
       "</style>\n",
       "<table id=\"T_0a31d\">\n",
       "  <thead>\n",
       "    <tr>\n",
       "      <th class=\"blank level0\" >&nbsp;</th>\n",
       "      <th id=\"T_0a31d_level0_col0\" class=\"col_heading level0 col0\" >referrent_is_user</th>\n",
       "      <th id=\"T_0a31d_level0_col1\" class=\"col_heading level0 col1\" >referrent_id</th>\n",
       "      <th id=\"T_0a31d_level0_col2\" class=\"col_heading level0 col2\" >subject_is_user</th>\n",
       "      <th id=\"T_0a31d_level0_col3\" class=\"col_heading level0 col3\" >subject_id</th>\n",
       "      <th id=\"T_0a31d_level0_col4\" class=\"col_heading level0 col4\" >belief_id</th>\n",
       "      <th id=\"T_0a31d_level0_col5\" class=\"col_heading level0 col5\" >belief</th>\n",
       "      <th id=\"T_0a31d_level0_col6\" class=\"col_heading level0 col6\" >valence</th>\n",
       "      <th id=\"T_0a31d_level0_col7\" class=\"col_heading level0 col7\" >source_episode</th>\n",
       "      <th id=\"T_0a31d_level0_col8\" class=\"col_heading level0 col8\" >parent_belief</th>\n",
       "      <th id=\"T_0a31d_level0_col9\" class=\"col_heading level0 col9\" >sentiment</th>\n",
       "      <th id=\"T_0a31d_level0_col10\" class=\"col_heading level0 col10\" >processed</th>\n",
       "      <th id=\"T_0a31d_level0_col11\" class=\"col_heading level0 col11\" >created_at</th>\n",
       "      <th id=\"T_0a31d_level0_col12\" class=\"col_heading level0 col12\" >embedding</th>\n",
       "      <th id=\"T_0a31d_level0_col13\" class=\"col_heading level0 col13\" >fact_embedding</th>\n",
       "      <th id=\"T_0a31d_level0_col14\" class=\"col_heading level0 col14\" >dist</th>\n",
       "    </tr>\n",
       "  </thead>\n",
       "  <tbody>\n",
       "    <tr>\n",
       "      <th id=\"T_0a31d_level0_row0\" class=\"row_heading level0 row0\" >0</th>\n",
       "      <td id=\"T_0a31d_row0_col0\" class=\"data row0 col0\" >False</td>\n",
       "      <td id=\"T_0a31d_row0_col1\" class=\"data row0 col1\" >43ca8b58-190c-47cb-9cc1-151fe3127b22</td>\n",
       "      <td id=\"T_0a31d_row0_col2\" class=\"data row0 col2\" >None</td>\n",
       "      <td id=\"T_0a31d_row0_col3\" class=\"data row0 col3\" >None</td>\n",
       "      <td id=\"T_0a31d_row0_col4\" class=\"data row0 col4\" >205806e9-6ee9-410e-b66e-867f63b435db</td>\n",
       "      <td id=\"T_0a31d_row0_col5\" class=\"data row0 col5\" >Samantha is a hopeful person</td>\n",
       "      <td id=\"T_0a31d_row0_col6\" class=\"data row0 col6\" >0.000000</td>\n",
       "      <td id=\"T_0a31d_row0_col7\" class=\"data row0 col7\" >None</td>\n",
       "      <td id=\"T_0a31d_row0_col8\" class=\"data row0 col8\" >None</td>\n",
       "      <td id=\"T_0a31d_row0_col9\" class=\"data row0 col9\" >neutral</td>\n",
       "      <td id=\"T_0a31d_row0_col10\" class=\"data row0 col10\" >False</td>\n",
       "      <td id=\"T_0a31d_row0_col11\" class=\"data row0 col11\" >1698041823.315448</td>\n",
       "      <td id=\"T_0a31d_row0_col12\" class=\"data row0 col12\" >[1.0, 1.0, 1.0, 1.0, 1.0, 1.0, 1.0, 1.0, 1.0, 1.0, 1.0, 1.0, 1.0, 1.0, 1.0, 1.0, 1.0, 1.0, 1.0, 1.0, 1.0, 1.0, 1.0, 1.0, 1.0, 1.0, 1.0, 1.0, 1.0, 1.0, 1.0, 1.0, 1.0, 1.0, 1.0, 1.0, 1.0, 1.0, 1.0, 1.0, 1.0, 1.0, 1.0, 1.0, 1.0, 1.0, 1.0, 1.0, 1.0, 1.0, 1.0, 1.0, 1.0, 1.0, 1.0, 1.0, 1.0, 1.0, 1.0, 1.0, 1.0, 1.0, 1.0, 1.0, 1.0, 1.0, 1.0, 1.0, 1.0, 1.0, 1.0, 1.0, 1.0, 1.0, 1.0, 1.0, 1.0, 1.0, 1.0, 1.0, 1.0, 1.0, 1.0, 1.0, 1.0, 1.0, 1.0, 1.0, 1.0, 1.0, 1.0, 1.0, 1.0, 1.0, 1.0, 1.0, 1.0, 1.0, 1.0, 1.0, 1.0, 1.0, 1.0, 1.0, 1.0, 1.0, 1.0, 1.0, 1.0, 1.0, 1.0, 1.0, 1.0, 1.0, 1.0, 1.0, 1.0, 1.0, 1.0, 1.0, 1.0, 1.0, 1.0, 1.0, 1.0, 1.0, 1.0, 1.0, 1.0, 1.0, 1.0, 1.0, 1.0, 1.0, 1.0, 1.0, 1.0, 1.0, 1.0, 1.0, 1.0, 1.0, 1.0, 1.0, 1.0, 1.0, 1.0, 1.0, 1.0, 1.0, 1.0, 1.0, 1.0, 1.0, 1.0, 1.0, 1.0, 1.0, 1.0, 1.0, 1.0, 1.0, 1.0, 1.0, 1.0, 1.0, 1.0, 1.0, 1.0, 1.0, 1.0, 1.0, 1.0, 1.0, 1.0, 1.0, 1.0, 1.0, 1.0, 1.0, 1.0, 1.0, 1.0, 1.0, 1.0, 1.0, 1.0, 1.0, 1.0, 1.0, 1.0, 1.0, 1.0, 1.0, 1.0, 1.0, 1.0, 1.0, 1.0, 1.0, 1.0, 1.0, 1.0, 1.0, 1.0, 1.0, 1.0, 1.0, 1.0, 1.0, 1.0, 1.0, 1.0, 1.0, 1.0, 1.0, 1.0, 1.0, 1.0, 1.0, 1.0, 1.0, 1.0, 1.0, 1.0, 1.0, 1.0, 1.0, 1.0, 1.0, 1.0, 1.0, 1.0, 1.0, 1.0, 1.0, 1.0, 1.0, 1.0, 1.0, 1.0, 1.0, 1.0, 1.0, 1.0, 1.0, 1.0, 1.0, 1.0, 1.0, 1.0, 1.0, 1.0, 1.0, 1.0, 1.0, 1.0, 1.0, 1.0, 1.0, 1.0, 1.0, 1.0, 1.0, 1.0, 1.0, 1.0, 1.0, 1.0, 1.0, 1.0, 1.0, 1.0, 1.0, 1.0, 1.0, 1.0, 1.0, 1.0, 1.0, 1.0, 1.0, 1.0, 1.0, 1.0, 1.0, 1.0, 1.0, 1.0, 1.0, 1.0, 1.0, 1.0, 1.0, 1.0, 1.0, 1.0, 1.0, 1.0, 1.0, 1.0, 1.0, 1.0, 1.0, 1.0, 1.0, 1.0, 1.0, 1.0, 1.0, 1.0, 1.0, 1.0, 1.0, 1.0, 1.0, 1.0, 1.0, 1.0, 1.0, 1.0, 1.0, 1.0, 1.0, 1.0, 1.0, 1.0, 1.0, 1.0, 1.0, 1.0, 1.0, 1.0, 1.0, 1.0, 1.0, 1.0, 1.0, 1.0, 1.0, 1.0, 1.0, 1.0, 1.0, 1.0, 1.0, 1.0, 1.0, 1.0, 1.0, 1.0, 1.0, 1.0, 1.0, 1.0, 1.0, 1.0, 1.0, 1.0, 1.0, 1.0, 1.0, 1.0, 1.0, 1.0, 1.0, 1.0, 1.0, 1.0, 1.0, 1.0, 1.0, 1.0, 1.0, 1.0, 1.0, 1.0, 1.0, 1.0, 1.0, 1.0, 1.0, 1.0, 1.0]</td>\n",
       "      <td id=\"T_0a31d_row0_col13\" class=\"data row0 col13\" >None</td>\n",
       "      <td id=\"T_0a31d_row0_col14\" class=\"data row0 col14\" >0.000000</td>\n",
       "    </tr>\n",
       "  </tbody>\n",
       "</table>\n"
      ],
      "text/plain": [
       "<pandas.io.formats.style.Styler at 0x7fd67040f670>"
      ]
     },
     "execution_count": 34,
     "metadata": {},
     "output_type": "execute_result"
    }
   ],
   "source": [
    "input[character_id, vector] <- [[\n",
    "    to_uuid(\"43ca8b58-190c-47cb-9cc1-151fe3127b22\"),\n",
    "    vec([1,1,1,1,1,1,1,1,1,1,1,1,1,1,1,1,1,1,1,1,1,1,1,1,1,1,1,1,1,1,1,1,1,1,1,1,1,1,1,1,1,1,1,1,1,1,1,1,1,1,1,1,1,1,1,1,1,1,1,1,1,1,1,1,1,1,1,1,1,1,1,1,1,1,1,1,1,1,1,1,1,1,1,1,1,1,1,1,1,1,1,1,1,1,1,1,1,1,1,1,1,1,1,1,1,1,1,1,1,1,1,1,1,1,1,1,1,1,1,1,1,1,1,1,1,1,1,1,1,1,1,1,1,1,1,1,1,1,1,1,1,1,1,1,1,1,1,1,1,1,1,1,1,1,1,1,1,1,1,1,1,1,1,1,1,1,1,1,1,1,1,1,1,1,1,1,1,1,1,1,1,1,1,1,1,1,1,1,1,1,1,1,1,1,1,1,1,1,1,1,1,1,1,1,1,1,1,1,1,1,1,1,1,1,1,1,1,1,1,1,1,1,1,1,1,1,1,1,1,1,1,1,1,1,1,1,1,1,1,1,1,1,1,1,1,1,1,1,1,1,1,1,1,1,1,1,1,1,1,1,1,1,1,1,1,1,1,1,1,1,1,1,1,1,1,1,1,1,1,1,1,1,1,1,1,1,1,1,1,1,1,1,1,1,1,1,1,1,1,1,1,1,1,1,1,1,1,1,1,1,1,1,1,1,1,1,1,1,1,1,1,1,1,1,1,1,1,1,1,1,1,1,1,1,1,1,1,1,1,1,1,1,1,1,1,1,1,1,1,1,1,1,1,1,1,1,1,1,1,1,1,1,1,1,1,1,1,1,1,1,1,1,1,1,1,1,1,1,1,1,1,1,1,1]),\n",
    "]]\n",
    "\n",
    "?[\n",
    "    referrent_is_user,\n",
    "    referrent_id,\n",
    "    subject_is_user,\n",
    "    subject_id,\n",
    "    belief_id,\n",
    "    belief,\n",
    "    valence,\n",
    "    source_episode,\n",
    "    parent_belief,\n",
    "    sentiment,\n",
    "    processed,\n",
    "    created_at,\n",
    "    embedding,\n",
    "    fact_embedding,\n",
    "\n",
    "    dist,\n",
    "] := input[referrent_id, vector],\n",
    "    ~beliefs:embedding_space { \n",
    "        referrent_is_user,\n",
    "        referrent_id,\n",
    "        subject_is_user,\n",
    "        subject_id,\n",
    "        belief_id,\n",
    "        belief,\n",
    "        valence,\n",
    "        source_episode,\n",
    "        parent_belief,\n",
    "        sentiment,\n",
    "        processed,\n",
    "        created_at,\n",
    "        embedding,\n",
    "        fact_embedding\n",
    "\n",
    "      | query: vector,\n",
    "        k: 3,\n",
    "        ef: 20,\n",
    "        bind_distance: dist,\n",
    "        radius: 100000.0,\n",
    "    },\n",
    "    referrent_is_user = false,\n",
    "    subject_is_user = null,\n",
    "    subject_id = null"
   ]
  },
  {
   "cell_type": "markdown",
   "id": "1f3c04bc",
   "metadata": {},
   "source": [
    "## Context window logic"
   ]
  },
  {
   "cell_type": "code",
   "execution_count": 58,
   "id": "57c4dc81",
   "metadata": {},
   "outputs": [
    {
     "name": "stderr",
     "output_type": "stream",
     "text": [
      "/usr/local/lib/python3.10/dist-packages/pycozo/ext_impl.py:61: FutureWarning: Styler.applymap has been deprecated. Use Styler.map instead.\n",
      "  return res.style.applymap(_colour_code_type)\n"
     ]
    },
    {
     "data": {
      "text/html": [
       "<style type=\"text/css\">\n",
       "#T_d1197_row0_col0, #T_d1197_row0_col1 {\n",
       "  color: #bf5b3d;\n",
       "}\n",
       "#T_d1197_row0_col2 {\n",
       "  color: #307fc1;\n",
       "}\n",
       "</style>\n",
       "<table id=\"T_d1197\">\n",
       "  <thead>\n",
       "    <tr>\n",
       "      <th class=\"blank level0\" >&nbsp;</th>\n",
       "      <th id=\"T_d1197_level0_col0\" class=\"col_heading level0 col0\" >model_data</th>\n",
       "      <th id=\"T_d1197_level0_col1\" class=\"col_heading level0 col1\" >entries</th>\n",
       "      <th id=\"T_d1197_level0_col2\" class=\"col_heading level0 col2\" >total_tokens</th>\n",
       "    </tr>\n",
       "  </thead>\n",
       "  <tbody>\n",
       "    <tr>\n",
       "      <th id=\"T_d1197_level0_row0\" class=\"row_heading level0 row0\" >0</th>\n",
       "      <td id=\"T_d1197_row0_col0\" class=\"data row0 col0\" >{'default_settings': {'max_tokens': 400, 'repetition_penalty': 1.25, 'temperature': 1.0}, 'max_length': 4096, 'model_name': 'julep-ai/samantha-1-alpha'}</td>\n",
       "      <td id=\"T_d1197_row0_col1\" class=\"data row0 col1\" >[{'content': 'Samantha is talking to Diwank', 'name': 'situation', 'role': 'system', 'timestamp': 1698648028, 'token_count': 9}, {'content': 'About \"Diwank\": Diwank is awesome too!\\n\\nAbout \"Samantha\": Samantha is awesome!', 'name': 'information', 'role': 'system', 'timestamp': 1698648028, 'token_count': 24}, {'content': 'Hi Diwank', 'name': 'Samantha', 'role': 'assistant', 'timestamp': 1698648091.3379204, 'token_count': 5}, {'content': [], 'name': 'information', 'role': 'system', 'timestamp': 0, 'token_count': 0.0}, {'content': 'Hi Diwank', 'name': 'Samantha', 'role': 'assistant', 'timestamp': 1698648091.3379204, 'token_count': 5}]</td>\n",
       "      <td id=\"T_d1197_row0_col2\" class=\"data row0 col2\" >43</td>\n",
       "    </tr>\n",
       "  </tbody>\n",
       "</table>\n"
      ],
      "text/plain": [
       "<pandas.io.formats.style.Styler at 0x7faba0205bd0>"
      ]
     },
     "execution_count": 58,
     "metadata": {},
     "output_type": "execute_result"
    }
   ],
   "source": [
    "{\n",
    "    # Goal of this block is to get:\n",
    "    # - character_id, user_id from session_id\n",
    "    # - get session.situation\n",
    "    # - also try to see if there's an entry with 'situation' type\n",
    "    # - return all this\n",
    "    input[\n",
    "        session_id,\n",
    "        dialog_embedding,\n",
    "    ] <- [[\n",
    "        to_uuid('53d9d19f-3118-4365-b07d-aae0a28f0659'),\n",
    "        rand_vec(1024),\n",
    "    ]]\n",
    "    \n",
    "    session[\n",
    "        character_id,\n",
    "        session_id,\n",
    "        user_id,\n",
    "        situation,\n",
    "        updated_at,\n",
    "        dialog_embedding,\n",
    "    ] := input[\n",
    "            session_id,\n",
    "            dialog_embedding,\n",
    "        ],\n",
    "        *sessions{\n",
    "            character_id,\n",
    "            user_id,\n",
    "            situation,\n",
    "            updated_at: validity,\n",
    "            @ 'NOW'\n",
    "        }, updated_at = to_int(validity)\n",
    "\n",
    "    ?[\n",
    "        latest_entry_situation,\n",
    "        latest_entry_timestamp,\n",
    "        character_id,\n",
    "        session_id,\n",
    "        user_id,\n",
    "        situation,\n",
    "        dialog_embedding,\n",
    "    ] := session[\n",
    "            character_id,\n",
    "            session_id,\n",
    "            user_id,\n",
    "            situation,\n",
    "            updated_at,\n",
    "            dialog_embedding,\n",
    "        ],\n",
    "        *entries {\n",
    "            name,\n",
    "            role,\n",
    "            content: latest_entry_situation,\n",
    "            timestamp: latest_entry_timestamp,\n",
    "        }, role = 'system', name = 'situation'\n",
    "    \n",
    "    \n",
    "    ?[\n",
    "        latest_entry_situation,\n",
    "        latest_entry_timestamp,\n",
    "        character_id,\n",
    "        session_id,\n",
    "        user_id,\n",
    "        situation,\n",
    "        dialog_embedding,\n",
    "    ] := session[\n",
    "            character_id,\n",
    "            session_id,\n",
    "            user_id,\n",
    "            situation,\n",
    "            updated_at,\n",
    "            dialog_embedding,\n",
    "        ],\n",
    "        latest_entry_situation = null,\n",
    "        latest_entry_timestamp = updated_at,\n",
    "    \n",
    "    :sort -latest_entry_timestamp\n",
    "    :limit 1\n",
    "\n",
    "    # Tables created inside these blocks are temporary and discarded after query ends\n",
    "    :create _t1 {\n",
    "        latest_entry_situation,\n",
    "        latest_entry_timestamp,\n",
    "        character_id,\n",
    "        session_id,\n",
    "        user_id,\n",
    "        situation,\n",
    "        dialog_embedding,\n",
    "    }\n",
    "}\n",
    "\n",
    "{\n",
    "    # In this block, we pick between session.situation and latest situation entry if any\n",
    "    ?[situation, situation_timestamp] := *_t1 {\n",
    "        latest_entry_situation: situation,\n",
    "        latest_entry_timestamp: situation_timestamp,\n",
    "        situation: _,\n",
    "    }, situation != null\n",
    "\n",
    "    ?[situation, situation_timestamp] := *_t1 {\n",
    "        latest_entry_situation: _,\n",
    "        latest_entry_timestamp: situation_timestamp,\n",
    "        situation,\n",
    "    }\n",
    "\n",
    "    :limit 1\n",
    "    :create _t2 {\n",
    "        situation,\n",
    "        situation_timestamp,\n",
    "    }\n",
    "}\n",
    "\n",
    "{\n",
    "    # In this block, we get model settings based on character.model\n",
    "    ?[\n",
    "        model_name,\n",
    "        max_length,\n",
    "        default_settings,\n",
    "    ] := *_t1{\n",
    "            character_id,\n",
    "        },\n",
    "        *characters {\n",
    "            character_id,\n",
    "            model: model_name,\n",
    "        },\n",
    "        *models {\n",
    "            model_name,\n",
    "            max_length,\n",
    "            default_settings,\n",
    "            @ 'NOW'\n",
    "        }\n",
    "    \n",
    "    :create _t3 {\n",
    "        model_name,\n",
    "        max_length,\n",
    "        default_settings,\n",
    "    }\n",
    "}\n",
    "\n",
    "{\n",
    "    # In this, get user.name, user.about, character.name, character.about\n",
    "    ?[\n",
    "        user_name,\n",
    "        user_about,\n",
    "        character_name,\n",
    "        character_about,\n",
    "    ] := *_t1 {\n",
    "        character_id,\n",
    "        user_id,\n",
    "    }, *users {\n",
    "        user_id,\n",
    "        name: user_name,\n",
    "        about: user_about,\n",
    "    }, *characters {\n",
    "        character_id,\n",
    "        name: character_name,\n",
    "        about: character_about,\n",
    "    }\n",
    "        \n",
    "    :create _t4 {\n",
    "        user_name,\n",
    "        user_about,\n",
    "        character_name,\n",
    "        character_about,\n",
    "    }\n",
    "}\n",
    "\n",
    "{\n",
    "    # Get all entries in session where parent == null (top nodes)\n",
    "    # and filter out situation tags\n",
    "    ?[\n",
    "        timestamp,\n",
    "        role,\n",
    "        name,\n",
    "        content,\n",
    "        token_count,\n",
    "    ] := *_t1 {\n",
    "        session_id,\n",
    "    }, *entries {\n",
    "        session_id,\n",
    "        timestamp,\n",
    "        role,\n",
    "        name,\n",
    "        content,\n",
    "        token_count,\n",
    "        parent_id,\n",
    "    },\n",
    "    parent_id = null,\n",
    "    (role != 'system' && name != 'situation')\n",
    "\n",
    "    :sort timestamp\n",
    "    :create _t5 {\n",
    "        timestamp,\n",
    "        role,\n",
    "        name,\n",
    "        content,\n",
    "        token_count,\n",
    "    }\n",
    "}\n",
    "\n",
    "{\n",
    "    # Get dialog (up to last 4 turns) for searching beliefs\n",
    "    ?[\n",
    "        timestamp,\n",
    "        turn,\n",
    "    ] :=\n",
    "        *_t5 {\n",
    "            timestamp,\n",
    "            role,\n",
    "            name,\n",
    "            content,\n",
    "        },\n",
    "        role = 'user' or role = 'assistant',\n",
    "        k = name ~ role,\n",
    "        turn = k ++ ' said ' ++ content ++ '\\n',\n",
    "\n",
    "    :sort -timestamp\n",
    "    :limit 4 * 2\n",
    "    :create _last_4_turns {\n",
    "        turn,\n",
    "        timestamp,\n",
    "    }\n",
    "}\n",
    "\n",
    "{\n",
    "    collected[\n",
    "        collect(turn),\n",
    "    ] := *_last_4_turns { turn }\n",
    "\n",
    "    ?[\n",
    "        dialog,\n",
    "    ] :=\n",
    "        collected[rev_turns],\n",
    "        turns = reverse(rev_turns),\n",
    "        dialog = from_substrings(turns),\n",
    "\n",
    "    :create _dialog {\n",
    "        dialog,\n",
    "    }\n",
    "}\n",
    "\n",
    "{\n",
    "    # Search relevant beliefs by fts\n",
    "    ?[\n",
    "        referrent_is_user,\n",
    "        referrent_id,\n",
    "        subject_is_user,\n",
    "        subject_id,\n",
    "        belief_id,\n",
    "        belief,\n",
    "        valence,\n",
    "        score,\n",
    "    ] :=\n",
    "        *_t1 {\n",
    "            character_id,\n",
    "            user_id,\n",
    "            situation,\n",
    "        },\n",
    "        *_dialog {\n",
    "            dialog,\n",
    "        },\n",
    "        referrent_id = character_id\n",
    "        or referrent_id = user_id\n",
    "        or subject_id = character_id\n",
    "        or subject_id = user_id\n",
    "        or subject_id = null\n",
    "        ,\n",
    "        ~beliefs:summary {\n",
    "            referrent_is_user,\n",
    "            referrent_id,\n",
    "            subject_is_user,\n",
    "            subject_id,\n",
    "            belief_id,\n",
    "            belief,\n",
    "            valence,\n",
    "            |\n",
    "            # FIXME\n",
    "            query: situation ++ '\\n\\n' ++ regex_replace_all(dialog, '[^a-zA-Z0-9\\\\s]+', ''),\n",
    "            k: 3 * 4,  # 3 beliefs per user/character combo\n",
    "            score_kind: 'tf_idf',\n",
    "            bind_score: score,\n",
    "        }\n",
    "    \n",
    "    :create _beliefs_fts {\n",
    "        referrent_is_user,\n",
    "        referrent_id,\n",
    "        subject_is_user,\n",
    "        subject_id,\n",
    "        belief_id,\n",
    "        belief,\n",
    "        valence,\n",
    "        score,\n",
    "    }\n",
    "}\n",
    "\n",
    "{\n",
    "    # Search relevant beliefs by hnsw\n",
    "    ?[\n",
    "        referrent_is_user,\n",
    "        referrent_id,\n",
    "        subject_is_user,\n",
    "        subject_id,\n",
    "        belief_id,\n",
    "        belief,\n",
    "        valence,\n",
    "        score,\n",
    "    ] :=\n",
    "        *_t1 {\n",
    "            character_id,\n",
    "            user_id,\n",
    "            dialog_embedding,\n",
    "        },\n",
    "        referrent_id = character_id\n",
    "        or referrent_id = user_id\n",
    "        or subject_id = character_id\n",
    "        or subject_id = user_id\n",
    "        or subject_id = null\n",
    "        ,\n",
    "        ~beliefs:fact_embedding_space {\n",
    "            referrent_is_user,\n",
    "            referrent_id,\n",
    "            subject_is_user,\n",
    "            subject_id,\n",
    "            belief_id,\n",
    "            belief,\n",
    "            valence,\n",
    "            |\n",
    "            query: dialog_embedding,\n",
    "            k: 3 * 4,  # 3 beliefs per user/character combo\n",
    "            ef: 100,\n",
    "            bind_distance: dist,\n",
    "            radius: 100000.0,\n",
    "        },\n",
    "        score = 1.0 - dist\n",
    "    \n",
    "    :create _beliefs_hnsw {\n",
    "        referrent_is_user,\n",
    "        referrent_id,\n",
    "        subject_is_user,\n",
    "        subject_id,\n",
    "        belief_id,\n",
    "        belief,\n",
    "        valence,\n",
    "        score,\n",
    "    }\n",
    "}\n",
    "    \n",
    "{\n",
    "    beliefs[\n",
    "        referrent_is_user,\n",
    "        referrent_id,\n",
    "        subject_is_user,\n",
    "        subject_id,\n",
    "        belief_id,\n",
    "        belief,\n",
    "        valence,\n",
    "        score,\n",
    "    ] :=\n",
    "        *_beliefs_fts {\n",
    "            referrent_is_user,\n",
    "            referrent_id,\n",
    "            subject_is_user,\n",
    "            subject_id,\n",
    "            belief_id,\n",
    "            belief,\n",
    "            valence,\n",
    "            score,\n",
    "        },\n",
    "        *_beliefs_hnsw {\n",
    "            referrent_is_user,\n",
    "            referrent_id,\n",
    "            subject_is_user,\n",
    "            subject_id,\n",
    "            belief_id,\n",
    "            belief,\n",
    "            valence,\n",
    "            score,\n",
    "        }\n",
    "\n",
    "    z[\n",
    "        min(score),\n",
    "        max(score),\n",
    "        min(valence),\n",
    "        max(valence),\n",
    "    ] := beliefs[\n",
    "            _,\n",
    "            _,\n",
    "            _,\n",
    "            _,\n",
    "            _,\n",
    "            _,\n",
    "            _valence,\n",
    "            score,\n",
    "        ],\n",
    "        valence = abs(_valence)\n",
    "\n",
    "    adjusted[\n",
    "        belief,\n",
    "        belief_id,\n",
    "        from_user,\n",
    "        about_themselves,\n",
    "        adjusted_score,\n",
    "        adjusted_valence,\n",
    "    ] :=\n",
    "        z[\n",
    "            min_score,\n",
    "            max_score,\n",
    "            min_valence,\n",
    "            max_valence,\n",
    "        ],\n",
    "        beliefs[\n",
    "            referrent_is_user,\n",
    "            _,\n",
    "            _,\n",
    "            subject_id,\n",
    "            belief_id,\n",
    "            belief,\n",
    "            valence,\n",
    "            score,\n",
    "        ],\n",
    "        from_user = referrent_is_user,\n",
    "        about_themselves = subject_id == null,\n",
    "        adjusted_score = (score - min_score) / (max_score - min_score),\n",
    "        adjusted_valence = (abs(valence) - min_valence) / (max_valence - min_valence),\n",
    "\n",
    "    ?[\n",
    "        statement,\n",
    "        score,\n",
    "        num_tokens,\n",
    "    ] :=\n",
    "        adjusted[\n",
    "            belief,\n",
    "            belief_id,\n",
    "            from_user,\n",
    "            about_themselves,\n",
    "            adjusted_score,\n",
    "            adjusted_valence,\n",
    "        ],\n",
    "        *_t4 {\n",
    "            character_name,\n",
    "            user_name,\n",
    "        },\n",
    "        prefix = cond(\n",
    "            from_user && about_themselves,\n",
    "            user_name ++ ' thinks about themselves that: ',\n",
    "            from_user && !about_themselves,\n",
    "            user_name ++ ' thinks about ' ++ character_name ++ ' that: ',\n",
    "            !from_user && about_themselves,\n",
    "            character_name ++ ' thinks about themselves that: ',\n",
    "            !from_user && !about_themselves,\n",
    "            character_name ++ ' thinks about ' ++ user_name ++ ' that: ',\n",
    "        ),\n",
    "        statement = concat(': ', prefix, belief, '\\n'),\n",
    "        score = adjusted_score * adjusted_valence,\n",
    "        # FIXME\n",
    "        num_tokens = length(chars(unicode_normalize(\n",
    "            statement,\n",
    "            'nfkd',     # https://en.wikipedia.org/wiki/Unicode_equivalence#Normal_forms\n",
    "        ))),\n",
    "\n",
    "    :sort -score\n",
    "    :limit 3\n",
    "    :create _t6 {\n",
    "        statement,\n",
    "        score,\n",
    "        num_tokens,\n",
    "    }\n",
    "}\n",
    "\n",
    "{\n",
    "    # Collect entries together as array of jsons\n",
    "    entry_list[\n",
    "        collect(data),\n",
    "        sum(token_count),\n",
    "    ] := *_t5 {\n",
    "        timestamp,\n",
    "        role,\n",
    "        name,\n",
    "        content,\n",
    "        token_count,\n",
    "    }, data = {\n",
    "        'timestamp': timestamp,\n",
    "        'role': role,\n",
    "        'name': name,\n",
    "        'content': content,\n",
    "        'token_count': token_count,\n",
    "    }\n",
    "\n",
    "    # Add beliefs to entries\n",
    "    belief_info[\n",
    "        collect(statement),\n",
    "        sum(num_tokens),\n",
    "    ] :=\n",
    "        *_t6 {\n",
    "            statement,\n",
    "            num_tokens,\n",
    "        }\n",
    "\n",
    "    entry_list[\n",
    "        collect(data),\n",
    "        sum(num_tokens),\n",
    "    ] :=\n",
    "        belief_info[\n",
    "            statements,\n",
    "            num_tokens,\n",
    "        ],\n",
    "        formatted = concat(statements),\n",
    "        data = {\n",
    "            'timestamp': 0,\n",
    "            'role': 'system',\n",
    "            'name': 'information',\n",
    "            'content': formatted,\n",
    "            'token_count': num_tokens,\n",
    "        }\n",
    "\n",
    "    entry_list[\n",
    "        collect(data),\n",
    "        sum(token_count),\n",
    "    ] := *_t5 {\n",
    "        timestamp,\n",
    "        role,\n",
    "        name,\n",
    "        content,\n",
    "        token_count,\n",
    "    }, data = {\n",
    "        'timestamp': timestamp,\n",
    "        'role': role,\n",
    "        'name': name,\n",
    "        'content': content,\n",
    "        'token_count': token_count,\n",
    "    }\n",
    "\n",
    "    ?[\n",
    "        model_data,\n",
    "        user_data,\n",
    "        character_data,\n",
    "        entries,\n",
    "        total_tokens,\n",
    "        situation,\n",
    "        situation_timestamp,\n",
    "    ] := *_t2 {\n",
    "        situation,\n",
    "        situation_timestamp,\n",
    "    }, *_t4 {\n",
    "        user_name,\n",
    "        user_about,\n",
    "        character_name,\n",
    "        character_about,\n",
    "    }, *_t3 {\n",
    "        model_name,\n",
    "        max_length,\n",
    "        default_settings,\n",
    "    }, entry_list[entries, total_tokens_float], user_data = {\n",
    "        'name': user_name,\n",
    "        'about': user_about,\n",
    "    }, character_data = {\n",
    "        'name': character_name,\n",
    "        'about': character_about,\n",
    "    }, model_data = {\n",
    "        'model_name': model_name,\n",
    "        'max_length': max_length,\n",
    "        'default_settings': default_settings,\n",
    "    },\n",
    "    total_tokens = to_int(total_tokens_float)\n",
    "\n",
    "    :create _t7 {\n",
    "        model_data,\n",
    "        user_data,\n",
    "        character_data,\n",
    "        entries,\n",
    "        total_tokens,\n",
    "        situation,\n",
    "        situation_timestamp,\n",
    "    }\n",
    "}\n",
    "\n",
    "{\n",
    "    # Add situation and about info sections on top\n",
    "    ?[\n",
    "        model_data,\n",
    "        entries,\n",
    "        total_tokens,\n",
    "    ] := *_t7 {\n",
    "        model_data,\n",
    "        user_data,\n",
    "        character_data,\n",
    "        entries: filtered_entries,\n",
    "        total_tokens: filtered_total_tokens,\n",
    "        situation,\n",
    "        situation_timestamp,\n",
    "    }, \n",
    "    about_content = concat(\n",
    "        'About \"', get(user_data, 'name', 'User'), '\": ',\n",
    "        get(user_data, 'about'), '\\n\\n',\n",
    "        'About \"', get(character_data, 'name', 'Me'), '\": ',\n",
    "        get(character_data, 'about')\n",
    "    ),\n",
    "    situation_tokens = to_int(length(situation) / 3.2),\n",
    "    about_tokens = to_int(length(about_content) / 3.2),\n",
    "    total_tokens = filtered_total_tokens + about_tokens + situation_tokens,\n",
    "    entries = concat([\n",
    "        {\n",
    "            'role': 'system',\n",
    "            'name': 'situation',\n",
    "            'content': situation,\n",
    "            'timestamp': situation_timestamp,\n",
    "            'token_count': situation_tokens,\n",
    "        }, {\n",
    "            'role': 'system',\n",
    "            'name': 'information',\n",
    "            'content': about_content,\n",
    "            'timestamp': situation_timestamp,\n",
    "            'token_count': about_tokens,\n",
    "        }\n",
    "    ], filtered_entries)\n",
    "}"
   ]
  },
  {
   "cell_type": "code",
   "execution_count": null,
   "id": "b6b0a1e3",
   "metadata": {},
   "outputs": [
    {
     "ename": "ZeroDivisionError",
     "evalue": "integer division or modulo by zero",
     "output_type": "error",
     "traceback": [
      "\u001b[0;31m---------------------------------------------------------------------------\u001b[0m\n",
      "\u001b[0;31mZeroDivisionError\u001b[0m                         Traceback (most recent call last)\n",
      "\u001b[1;32m/workspaces/cozo-server/workspace/notebooks/playground.ipynb Cell 62\u001b[0m line \u001b[0;36m1\n",
      "\u001b[0;32m----> <a href='vscode-notebook-cell://dev-container%2B7b22686f737450617468223a22633a5c5c55736572735c5c646977616e5c5c6769687475622e636f6d5c5c6a756c65702d61695c5c636f7a6f2d736572766572222c226c6f63616c446f636b6572223a66616c73652c22636f6e66696746696c65223a7b22246d6964223a312c22667350617468223a22633a5c5c55736572735c5c646977616e5c5c6769687475622e636f6d5c5c6a756c65702d61695c5c636f7a6f2d7365727665725c5c2e646576636f6e7461696e65725c5c646576636f6e7461696e65722e6a736f6e222c225f736570223a312c2265787465726e616c223a2266696c653a2f2f2f632533412f55736572732f646977616e2f6769687475622e636f6d2f6a756c65702d61692f636f7a6f2d7365727665722f2e646576636f6e7461696e65722f646576636f6e7461696e65722e6a736f6e222c2270617468223a222f633a2f55736572732f646977616e2f6769687475622e636f6d2f6a756c65702d61692f636f7a6f2d7365727665722f2e646576636f6e7461696e65722f646576636f6e7461696e65722e6a736f6e222c22736368656d65223a2266696c65227d7d/workspaces/cozo-server/workspace/notebooks/playground.ipynb#Y142sdnNjb2RlLXJlbW90ZQ%3D%3D?line=0'>1</a>\u001b[0m \u001b[39mraise\u001b[39;00m \u001b[39m1\u001b[39;49m\u001b[39m/\u001b[39;49m\u001b[39m/\u001b[39;49m\u001b[39m0\u001b[39;49m\n",
      "\n",
      "\u001b[0;31mZeroDivisionError\u001b[0m: integer division or modulo by zero"
     ]
    }
   ],
   "source": [
    "%%py\n",
    "raise 1//0"
   ]
  },
  {
   "cell_type": "markdown",
   "id": "107de796-db6b-4fbc-a273-e45a9b21c015",
   "metadata": {},
   "source": [
    "## Episodes table"
   ]
  },
  {
   "cell_type": "code",
   "execution_count": null,
   "id": "09e3ada6-cbc1-451a-a32e-5eea757b6a8a",
   "metadata": {},
   "outputs": [
    {
     "data": {
      "text/html": [
       "<style type=\"text/css\">\n",
       "#T_97d78_row0_col0 {\n",
       "  color: black;\n",
       "}\n",
       "</style>\n",
       "<table id=\"T_97d78\">\n",
       "  <thead>\n",
       "    <tr>\n",
       "      <th class=\"blank level0\" >&nbsp;</th>\n",
       "      <th id=\"T_97d78_level0_col0\" class=\"col_heading level0 col0\" >status</th>\n",
       "    </tr>\n",
       "  </thead>\n",
       "  <tbody>\n",
       "    <tr>\n",
       "      <th id=\"T_97d78_level0_row0\" class=\"row_heading level0 row0\" >0</th>\n",
       "      <td id=\"T_97d78_row0_col0\" class=\"data row0 col0\" >OK</td>\n",
       "    </tr>\n",
       "  </tbody>\n",
       "</table>\n"
      ],
      "text/plain": [
       "<pandas.io.formats.style.Styler at 0x7f62a923cc70>"
      ]
     },
     "execution_count": 37,
     "metadata": {},
     "output_type": "execute_result"
    }
   ],
   "source": [
    ":create episodes {\n",
    "    referrent_is_user: Bool,\n",
    "    referrent_id: Uuid,\n",
    "    subject_is_user: Bool? default null,\n",
    "    subject_id: Uuid? default null,\n",
    "    episode_id: Uuid,\n",
    "    last_accessed_at: Validity default [floor(now()), true],\n",
    "    =>\n",
    "    summary: String,\n",
    "    parent_episode: Uuid? default null,\n",
    "    happened_at: Float default now(),\n",
    "    duration: Float default 0,\n",
    "    importance: Float default 0.5,\n",
    "    sentiment: String default \"neutral\",\n",
    "    sentiment_strength: Float default 0.33334,\n",
    "    created_at: Float default now(),\n",
    "    embedding: <F32; 384>,\n",
    "    fact_embedding: <F32; 1024>? default null,\n",
    "}\n"
   ]
  },
  {
   "cell_type": "code",
   "execution_count": null,
   "id": "60d33e1a-c9da-4d7f-b471-7e2c77dcbe59",
   "metadata": {},
   "outputs": [
    {
     "data": {
      "text/html": [
       "<style type=\"text/css\">\n",
       "#T_5cbc5_row0_col0 {\n",
       "  color: black;\n",
       "}\n",
       "</style>\n",
       "<table id=\"T_5cbc5\">\n",
       "  <thead>\n",
       "    <tr>\n",
       "      <th class=\"blank level0\" >&nbsp;</th>\n",
       "      <th id=\"T_5cbc5_level0_col0\" class=\"col_heading level0 col0\" >status</th>\n",
       "    </tr>\n",
       "  </thead>\n",
       "  <tbody>\n",
       "    <tr>\n",
       "      <th id=\"T_5cbc5_level0_row0\" class=\"row_heading level0 row0\" >0</th>\n",
       "      <td id=\"T_5cbc5_row0_col0\" class=\"data row0 col0\" >OK</td>\n",
       "    </tr>\n",
       "  </tbody>\n",
       "</table>\n"
      ],
      "text/plain": [
       "<pandas.io.formats.style.Styler at 0x7f62a923e950>"
      ]
     },
     "execution_count": 38,
     "metadata": {},
     "output_type": "execute_result"
    }
   ],
   "source": [
    "::index create episodes:by_episode_id {\n",
    "    episode_id,\n",
    "    summary,\n",
    "    parent_episode,\n",
    "    happened_at,\n",
    "    duration,\n",
    "    importance,\n",
    "    sentiment,\n",
    "    sentiment_strength,\n",
    "    created_at,\n",
    "}"
   ]
  },
  {
   "cell_type": "code",
   "execution_count": null,
   "id": "6c961b1e-1096-43ad-b95f-0f96c7a6d24a",
   "metadata": {},
   "outputs": [
    {
     "data": {
      "text/html": [
       "<style type=\"text/css\">\n",
       "#T_8bbd8_row0_col0 {\n",
       "  color: black;\n",
       "}\n",
       "</style>\n",
       "<table id=\"T_8bbd8\">\n",
       "  <thead>\n",
       "    <tr>\n",
       "      <th class=\"blank level0\" >&nbsp;</th>\n",
       "      <th id=\"T_8bbd8_level0_col0\" class=\"col_heading level0 col0\" >status</th>\n",
       "    </tr>\n",
       "  </thead>\n",
       "  <tbody>\n",
       "    <tr>\n",
       "      <th id=\"T_8bbd8_level0_row0\" class=\"row_heading level0 row0\" >0</th>\n",
       "      <td id=\"T_8bbd8_row0_col0\" class=\"data row0 col0\" >OK</td>\n",
       "    </tr>\n",
       "  </tbody>\n",
       "</table>\n"
      ],
      "text/plain": [
       "<pandas.io.formats.style.Styler at 0x7f62a9265ed0>"
      ]
     },
     "execution_count": 39,
     "metadata": {},
     "output_type": "execute_result"
    }
   ],
   "source": [
    "::hnsw create episodes:embedding_space {\n",
    "    dim: 384,\n",
    "    m: 50,\n",
    "    dtype: F32,\n",
    "    fields: embedding,\n",
    "    distance: Cosine,\n",
    "    ef_construction: 20,\n",
    "    extend_candidates: true,\n",
    "    keep_pruned_connections: false,\n",
    "}"
   ]
  },
  {
   "cell_type": "code",
   "execution_count": null,
   "id": "d73b338b",
   "metadata": {},
   "outputs": [
    {
     "data": {
      "text/html": [
       "<style type=\"text/css\">\n",
       "#T_7a18b_row0_col0 {\n",
       "  color: black;\n",
       "}\n",
       "</style>\n",
       "<table id=\"T_7a18b\">\n",
       "  <thead>\n",
       "    <tr>\n",
       "      <th class=\"blank level0\" >&nbsp;</th>\n",
       "      <th id=\"T_7a18b_level0_col0\" class=\"col_heading level0 col0\" >status</th>\n",
       "    </tr>\n",
       "  </thead>\n",
       "  <tbody>\n",
       "    <tr>\n",
       "      <th id=\"T_7a18b_level0_row0\" class=\"row_heading level0 row0\" >0</th>\n",
       "      <td id=\"T_7a18b_row0_col0\" class=\"data row0 col0\" >OK</td>\n",
       "    </tr>\n",
       "  </tbody>\n",
       "</table>\n"
      ],
      "text/plain": [
       "<pandas.io.formats.style.Styler at 0x7f62a923d420>"
      ]
     },
     "execution_count": 40,
     "metadata": {},
     "output_type": "execute_result"
    }
   ],
   "source": [
    "::hnsw create episodes:fact_embedding_space {\n",
    "    dim: 1024,\n",
    "    m: 50,\n",
    "    dtype: F32,\n",
    "    fields: fact_embedding,\n",
    "    distance: Cosine,\n",
    "    filter: !is_null(fact_embedding),\n",
    "    ef_construction: 20,\n",
    "    extend_candidates: false,\n",
    "    keep_pruned_connections: false,\n",
    "}\n"
   ]
  },
  {
   "cell_type": "code",
   "execution_count": null,
   "id": "d1c83a48-39c0-4477-b384-31406a4b8984",
   "metadata": {},
   "outputs": [
    {
     "data": {
      "text/html": [
       "<style type=\"text/css\">\n",
       "#T_22074_row0_col0 {\n",
       "  color: black;\n",
       "}\n",
       "</style>\n",
       "<table id=\"T_22074\">\n",
       "  <thead>\n",
       "    <tr>\n",
       "      <th class=\"blank level0\" >&nbsp;</th>\n",
       "      <th id=\"T_22074_level0_col0\" class=\"col_heading level0 col0\" >status</th>\n",
       "    </tr>\n",
       "  </thead>\n",
       "  <tbody>\n",
       "    <tr>\n",
       "      <th id=\"T_22074_level0_row0\" class=\"row_heading level0 row0\" >0</th>\n",
       "      <td id=\"T_22074_row0_col0\" class=\"data row0 col0\" >OK</td>\n",
       "    </tr>\n",
       "  </tbody>\n",
       "</table>\n"
      ],
      "text/plain": [
       "<pandas.io.formats.style.Styler at 0x7f62a923cfa0>"
      ]
     },
     "execution_count": 41,
     "metadata": {},
     "output_type": "execute_result"
    }
   ],
   "source": [
    "::fts create episodes:summary {\n",
    "    extractor: summary,\n",
    "    tokenizer: Simple,\n",
    "    filters: [AsciiFolding, AlphaNumOnly, Lowercase, Stemmer('english'), Stopwords('en')],\n",
    "}"
   ]
  },
  {
   "cell_type": "markdown",
   "id": "e51c5898",
   "metadata": {},
   "source": [
    "## PrinciplesYou + Humantic storage"
   ]
  },
  {
   "cell_type": "code",
   "execution_count": null,
   "id": "339fc1ac",
   "metadata": {},
   "outputs": [
    {
     "data": {
      "text/html": [
       "<style type=\"text/css\">\n",
       "#T_37332_row0_col0 {\n",
       "  color: black;\n",
       "}\n",
       "</style>\n",
       "<table id=\"T_37332\">\n",
       "  <thead>\n",
       "    <tr>\n",
       "      <th class=\"blank level0\" >&nbsp;</th>\n",
       "      <th id=\"T_37332_level0_col0\" class=\"col_heading level0 col0\" >status</th>\n",
       "    </tr>\n",
       "  </thead>\n",
       "  <tbody>\n",
       "    <tr>\n",
       "      <th id=\"T_37332_level0_row0\" class=\"row_heading level0 row0\" >0</th>\n",
       "      <td id=\"T_37332_row0_col0\" class=\"data row0 col0\" >OK</td>\n",
       "    </tr>\n",
       "  </tbody>\n",
       "</table>\n"
      ],
      "text/plain": [
       "<pandas.io.formats.style.Styler at 0x7f62a923f8b0>"
      ]
     },
     "execution_count": 42,
     "metadata": {},
     "output_type": "execute_result"
    }
   ],
   "source": [
    ":create user_principles {\n",
    "    user_id: Uuid,\n",
    "    full: Bool default false,\n",
    "    updated_at: Validity default [floor(now()), true],\n",
    "    =>\n",
    "    processed_at: Float? default null,\n",
    "    scores: Json\n",
    "}\n",
    "\n",
    ":create character_principles {\n",
    "    character_id: Uuid,\n",
    "    updated_at: Validity default [floor(now()), true],\n",
    "    =>\n",
    "    processed_at: Float? default null,\n",
    "    scores: Json\n",
    "}\n",
    "\n",
    ":create user_humantic_profile {\n",
    "    user_id: Uuid,\n",
    "    updated_at: Validity default [floor(now()), true],\n",
    "    =>\n",
    "    processed_at: Float? default null,\n",
    "    result: Json\n",
    "}"
   ]
  },
  {
   "cell_type": "markdown",
   "id": "c69a7889",
   "metadata": {},
   "source": [
    "## Doc similarities (for MMR)"
   ]
  },
  {
   "cell_type": "code",
   "execution_count": null,
   "id": "94feb250-5afb-4496-b300-8fb08e0df4c3",
   "metadata": {},
   "outputs": [
    {
     "data": {
      "text/html": [
       "<style type=\"text/css\">\n",
       "#T_c0e37_row0_col0 {\n",
       "  color: black;\n",
       "}\n",
       "</style>\n",
       "<table id=\"T_c0e37\">\n",
       "  <thead>\n",
       "    <tr>\n",
       "      <th class=\"blank level0\" >&nbsp;</th>\n",
       "      <th id=\"T_c0e37_level0_col0\" class=\"col_heading level0 col0\" >status</th>\n",
       "    </tr>\n",
       "  </thead>\n",
       "  <tbody>\n",
       "    <tr>\n",
       "      <th id=\"T_c0e37_level0_row0\" class=\"row_heading level0 row0\" >0</th>\n",
       "      <td id=\"T_c0e37_row0_col0\" class=\"data row0 col0\" >OK</td>\n",
       "    </tr>\n",
       "  </tbody>\n",
       "</table>\n"
      ],
      "text/plain": [
       "<pandas.io.formats.style.Styler at 0x7f62a9206d70>"
      ]
     },
     "execution_count": 43,
     "metadata": {},
     "output_type": "execute_result"
    }
   ],
   "source": [
    ":create doc_similarities {\n",
    "    doc1: <F32; 384>,\n",
    "    =>\n",
    "    doc2: <F32; 384>,\n",
    "    similarity: Float,\n",
    "}"
   ]
  },
  {
   "cell_type": "code",
   "execution_count": null,
   "id": "77f85826-362a-4408-b149-eb1f00d44a5c",
   "metadata": {},
   "outputs": [
    {
     "data": {
      "text/html": [
       "<style type=\"text/css\">\n",
       "#T_c2ed2_row0_col0 {\n",
       "  color: black;\n",
       "}\n",
       "</style>\n",
       "<table id=\"T_c2ed2\">\n",
       "  <thead>\n",
       "    <tr>\n",
       "      <th class=\"blank level0\" >&nbsp;</th>\n",
       "      <th id=\"T_c2ed2_level0_col0\" class=\"col_heading level0 col0\" >status</th>\n",
       "    </tr>\n",
       "  </thead>\n",
       "  <tbody>\n",
       "    <tr>\n",
       "      <th id=\"T_c2ed2_level0_row0\" class=\"row_heading level0 row0\" >0</th>\n",
       "      <td id=\"T_c2ed2_row0_col0\" class=\"data row0 col0\" >OK</td>\n",
       "    </tr>\n",
       "  </tbody>\n",
       "</table>\n"
      ],
      "text/plain": [
       "<pandas.io.formats.style.Styler at 0x7f62a9265660>"
      ]
     },
     "execution_count": 44,
     "metadata": {},
     "output_type": "execute_result"
    }
   ],
   "source": [
    "::index create doc_similarities:reverse {doc2, doc1, similarity}"
   ]
  },
  {
   "cell_type": "markdown",
   "id": "04dee96a",
   "metadata": {},
   "source": [
    "*****"
   ]
  },
  {
   "cell_type": "code",
   "execution_count": null,
   "id": "9aefb8d2",
   "metadata": {},
   "outputs": [
    {
     "ename": "ZeroDivisionError",
     "evalue": "integer division or modulo by zero",
     "output_type": "error",
     "traceback": [
      "\u001b[0;31m---------------------------------------------------------------------------\u001b[0m",
      "\u001b[0;31mZeroDivisionError\u001b[0m                         Traceback (most recent call last)",
      "\u001b[1;32m/workspaces/cozo-server/workspace/notebooks/playground.ipynb Cell 77\u001b[0m line \u001b[0;36m1\n\u001b[0;32m----> <a href='vscode-notebook-cell://dev-container%2B7b22686f737450617468223a22633a5c5c55736572735c5c646977616e5c5c6769687475622e636f6d5c5c6a756c65702d61695c5c636f7a6f2d736572766572222c226c6f63616c446f636b6572223a66616c73652c22636f6e66696746696c65223a7b22246d6964223a312c22667350617468223a22633a5c5c55736572735c5c646977616e5c5c6769687475622e636f6d5c5c6a756c65702d61695c5c636f7a6f2d7365727665725c5c2e646576636f6e7461696e65725c5c646576636f6e7461696e65722e6a736f6e222c225f736570223a312c2265787465726e616c223a2266696c653a2f2f2f632533412f55736572732f646977616e2f6769687475622e636f6d2f6a756c65702d61692f636f7a6f2d7365727665722f2e646576636f6e7461696e65722f646576636f6e7461696e65722e6a736f6e222c2270617468223a222f633a2f55736572732f646977616e2f6769687475622e636f6d2f6a756c65702d61692f636f7a6f2d7365727665722f2e646576636f6e7461696e65722f646576636f6e7461696e65722e6a736f6e222c22736368656d65223a2266696c65227d7d/workspaces/cozo-server/workspace/notebooks/playground.ipynb#Y135sdnNjb2RlLXJlbW90ZQ%3D%3D?line=0'>1</a>\u001b[0m \u001b[39mraise\u001b[39;00m \u001b[39m1\u001b[39;49m\u001b[39m/\u001b[39;49m\u001b[39m/\u001b[39;49m\u001b[39m0\u001b[39;49m\n",
      "\u001b[0;31mZeroDivisionError\u001b[0m: integer division or modulo by zero"
     ]
    }
   ],
   "source": [
    "%%py\n",
    "raise 1//0"
   ]
  },
  {
   "cell_type": "code",
   "execution_count": null,
   "id": "45d5f212-95ff-474c-a7c4-b8cf2ff0c14a",
   "metadata": {},
   "outputs": [
    {
     "ename": "",
     "evalue": "",
     "output_type": "error",
     "traceback": [
      "\u001b[1;31mFailed to start the Kernel. \n",
      "\u001b[1;31mView Jupyter <a href='command:jupyter.viewOutput'>log</a> for further details."
     ]
    }
   ],
   "source": []
  }
 ],
 "metadata": {
  "kernelspec": {
   "display_name": "Python 3 (ipykernel)",
   "language": "python",
   "name": "python3"
  },
  "language_info": {
   "codemirror_mode": {
    "name": "ipython",
    "version": 3
   },
   "file_extension": ".py",
   "mimetype": "text/x-python",
   "name": "python",
   "nbconvert_exporter": "python",
   "pygments_lexer": "ipython3",
   "version": "3.10.12"
  }
 },
 "nbformat": 4,
 "nbformat_minor": 5
}
