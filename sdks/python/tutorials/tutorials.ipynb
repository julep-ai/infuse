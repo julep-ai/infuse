{
 "cells": [
  {
   "cell_type": "markdown",
   "id": "d26fcc4e-0635-4a4a-b315-08a84e6ce543",
   "metadata": {},
   "source": [
    "# Setup"
   ]
  },
  {
   "cell_type": "code",
   "execution_count": null,
   "id": "228dd203-fe9f-48cc-b828-1bd160893d0d",
   "metadata": {},
   "outputs": [],
   "source": [
    "!pip install --upgrade openai"
   ]
  },
  {
   "cell_type": "markdown",
   "id": "999ce748-8c4d-434a-a6c6-d1ba94f65fea",
   "metadata": {},
   "source": [
    "# Initialize API client"
   ]
  },
  {
   "cell_type": "code",
   "execution_count": null,
   "id": "a9e0753e-3403-4f9f-bf5a-995031b4ab99",
   "metadata": {},
   "outputs": [],
   "source": [
    "from uuid import uuid4\n",
    "import julep\n",
    "from julep.api import InputChatMlMessage, Tool, FunctionDef\n",
    "\n",
    "\n",
    "API_KEY = \"...\"\n",
    "API_URL = \"https://api-alpha.julep.ai\"\n",
    "\n",
    "\n",
    "client = julep.Client(api_key=API_KEY, base_url=API_URL)"
   ]
  },
  {
   "cell_type": "markdown",
   "id": "952396bb-88b4-4d4a-a819-c64d4f15fe29",
   "metadata": {},
   "source": [
    "# Agents\n",
    "\n",
    "You can create agents like this"
   ]
  },
  {
   "cell_type": "code",
   "execution_count": null,
   "id": "eaa15e90-fbb9-4fe5-a97a-224e788e64d7",
   "metadata": {},
   "outputs": [],
   "source": [
    "agent = client.agents.create(\n",
    "    name=\"Math Tutor\",\n",
    "    about=\"A world class agent for researching for information on the internet\",\n",
    "    instructions=[\n",
    "        {\n",
    "            \"content\": \"You are a personal math tutor. Answer questions briefly, in a sentence or less.\",\n",
    "            \"important\": True,\n",
    "        }\n",
    "    ],\n",
    "    model=\"julep-ai/samantha-1-turbo\",\n",
    ")\n",
    "print(agent)"
   ]
  },
  {
   "cell_type": "markdown",
   "id": "443ee96f-3086-4f18-8528-e4b0f7820f71",
   "metadata": {},
   "source": [
    "# Users\n",
    "\n",
    "You can create users like this"
   ]
  },
  {
   "cell_type": "code",
   "execution_count": null,
   "id": "3946ebd8-e4e9-4c19-80d8-2ad447b7e6cf",
   "metadata": {},
   "outputs": [],
   "source": [
    "user = client.users.create(\n",
    "    name=\"John\",\n",
    "    about=\"He is a math student\",\n",
    ")\n",
    "print(user)"
   ]
  },
  {
   "cell_type": "markdown",
   "id": "c6ac7d1e-04b0-4395-8213-bf84b94546f4",
   "metadata": {},
   "source": [
    "# Sessions\n",
    "\n",
    "Create new session for given agent and user"
   ]
  },
  {
   "cell_type": "code",
   "execution_count": null,
   "id": "7ff07d16-fc2e-4348-926a-bef8cfcc584a",
   "metadata": {},
   "outputs": [],
   "source": [
    "session = client.sessions.create(\n",
    "    user_id=user.id, \n",
    "    agent_id=agent.id,\n",
    "    situation=\"You are in the class\"\n",
    ")\n",
    "print(session)"
   ]
  },
  {
   "cell_type": "markdown",
   "id": "81cde71c-a670-46ee-bf48-baa88fe67b9c",
   "metadata": {},
   "source": [
    "## Conversations\n",
    "\n",
    "Start a new conversation"
   ]
  },
  {
   "cell_type": "code",
   "execution_count": null,
   "id": "7458f06d-75fa-4fa4-91b6-345a458d7fcd",
   "metadata": {},
   "outputs": [],
   "source": [
    "response = client.sessions.chat(\n",
    "    session_id=session.id, messages=[\n",
    "        InputChatMlMessage(\n",
    "            role=\"user\",\n",
    "            content=\"Could you please explain me Pythagorean theorem?\",\n",
    "            name=\"John\",\n",
    "        )\n",
    "    ], stream=False, max_tokens=140\n",
    ")\n",
    "print(response)"
   ]
  },
  {
   "cell_type": "markdown",
   "id": "73dbf616-5dc1-4be2-95ec-818a8c63d12a",
   "metadata": {},
   "source": [
    "## Tools\n",
    "\n",
    "You can use tools by passing `tools` argument to `client.sessions.chat` call. You can also use `tool_choice` argument in order to set the tool calling mode"
   ]
  },
  {
   "cell_type": "code",
   "execution_count": null,
   "id": "b6af779f-1747-488c-ad47-94ded87d586a",
   "metadata": {},
   "outputs": [],
   "source": [
    "response = client.sessions.chat(\n",
    "    session_id=session.id, \n",
    "    messages=[\n",
    "        InputChatMlMessage(\n",
    "            role=\"user\",\n",
    "            content=\"Could you please calculate the square root of 169 ?\",\n",
    "            name=\"John\",\n",
    "        ),\n",
    "    ], \n",
    "    stream=False, \n",
    "    max_tokens=140,\n",
    "    tools=[\n",
    "        Tool(\n",
    "            id=uuid4(),\n",
    "            type=\"function\",\n",
    "            definition=FunctionDef(\n",
    "                description=\"Calculate the square root of the integer number\",\n",
    "                name=\"sqrt\",\n",
    "                parameters={\n",
    "                    \"number\": \"int\"\n",
    "                },\n",
    "            )\n",
    "        )\n",
    "    ],\n",
    "    tool_choice=\"auto\",\n",
    ")\n",
    "print(response)"
   ]
  },
  {
   "cell_type": "markdown",
   "id": "54d76c6d-ac57-4595-8122-1b487dd115f0",
   "metadata": {},
   "source": [
    "# Messages history"
   ]
  },
  {
   "cell_type": "code",
   "execution_count": null,
   "id": "5b6a8801-2ab2-433a-9baf-dd72d293738f",
   "metadata": {},
   "outputs": [],
   "source": [
    "history = client.sessions.history(session_id=session.id)\n",
    "print(history)"
   ]
  }
 ],
 "metadata": {
  "kernelspec": {
   "display_name": "Python 3 (ipykernel)",
   "language": "python",
   "name": "python3"
  },
  "language_info": {
   "codemirror_mode": {
    "name": "ipython",
    "version": 3
   },
   "file_extension": ".py",
   "mimetype": "text/x-python",
   "name": "python",
   "nbconvert_exporter": "python",
   "pygments_lexer": "ipython3",
   "version": "3.11.1"
  }
 },
 "nbformat": 4,
 "nbformat_minor": 5
}
