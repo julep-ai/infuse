{
 "cells": [
  {
   "cell_type": "code",
   "execution_count": 1,
   "id": "f7d6484d-a15a-47dc-8d1f-58d6e9c08869",
   "metadata": {},
   "outputs": [],
   "source": [
    "from datasets import load_dataset\n",
    "\n",
    "openbookqa = load_dataset(\"openbookqa\", \"additional\")"
   ]
  },
  {
   "cell_type": "code",
   "execution_count": 2,
   "id": "b38dc3a8-59f5-446a-9d61-e92228a7fb53",
   "metadata": {},
   "outputs": [],
   "source": [
    "openbookqa_subset = openbookqa.filter(lambda row: (\n",
    "    row[\"humanScore\"] >= 1.0\n",
    "    and row[\"clarity\"] >= 1.5\n",
    "    and row[\"question_stem\"].strip().endswith('?')\n",
    "))"
   ]
  },
  {
   "cell_type": "code",
   "execution_count": 3,
   "id": "7a0a0d23-42bb-40f8-ad08-ccb93c5ac347",
   "metadata": {},
   "outputs": [],
   "source": [
    "make_chatml = lambda name, role, content: dict(\n",
    "    name=name, role=role, content=content,\n",
    ")\n",
    "\n",
    "system = lambda name, content: make_chatml(\n",
    "    role=\"system\",\n",
    "    name=name,\n",
    "    content=content,\n",
    ")\n",
    "\n",
    "situation = lambda content: system(name=\"situation\", content=content)\n",
    "thought = lambda content: system(name=\"thought\", content=content)\n",
    "information = lambda content: system(name=\"information\", content=content)\n",
    "me = lambda content, name=None: make_chatml(\n",
    "    role=\"assistant\",\n",
    "    content=content,\n",
    "    name=name,\n",
    ")\n",
    "\n",
    "person = lambda content, name=None: make_chatml(\n",
    "    role=\"user\",\n",
    "    content=content,\n",
    "    name=name,\n",
    ")\n"
   ]
  },
  {
   "cell_type": "code",
   "execution_count": 4,
   "id": "6a806fbb",
   "metadata": {},
   "outputs": [],
   "source": [
    "def get_answer_text(choices, answer_key):\n",
    "    for choice, label in zip(choices[\"text\"], choices[\"label\"]):\n",
    "        if label == answer_key:\n",
    "            return choice\n",
    "\n",
    "def to_chatml(row):\n",
    "    question = row[\"question_stem\"]\n",
    "    choices_data = row[\"choices\"]\n",
    "    fact = row[\"fact1\"]\n",
    "    answer_key = row[\"answerKey\"]\n",
    "\n",
    "    choices = \"\\n\".join([\n",
    "        f\"{label}) {text}\"\n",
    "        for label, text\n",
    "        in zip(choices_data[\"label\"], choices_data[\"text\"])\n",
    "    ])\n",
    "\n",
    "    situation_text = (\n",
    "        \"A person is talking to an intelligent AI assistant.\"\n",
    "        \" The person is quizzing the AI assistant on miscellaneous questions\"\n",
    "        \" in a multiple choice format.\"\n",
    "        \" The assistant first thinks carefully about the question and lays down its reasoning.\"\n",
    "        \" Then answers the question with the correct choice key and the right answer.\"\n",
    "    )\n",
    "    \n",
    "    mcq = f\"Question: {question}\\nChoices:\\n{choices}\"\n",
    "    thought_text = f\"Reasoning:\\n\\n{fact}\"\n",
    "    answer_text = get_answer_text(choices_data, answer_key)\n",
    "    person_text = f\"Question: {question}\\nChoices:\\n{choices}\"\n",
    "    me_text = f\"The correct answer is: {answer_key} ({answer_text})\"\n",
    "    \n",
    "    chatml = [\n",
    "        situation(situation_text),\n",
    "        person(person_text),\n",
    "        thought(thought_text),\n",
    "        me(me_text),\n",
    "    ]\n",
    "    \n",
    "    return dict(chatml=chatml)\n"
   ]
  },
  {
   "cell_type": "code",
   "execution_count": 5,
   "id": "dd700594",
   "metadata": {},
   "outputs": [
    {
     "data": {
      "application/vnd.jupyter.widget-view+json": {
       "model_id": "6941702ce53b43f39f6fa917184e3c00",
       "version_major": 2,
       "version_minor": 0
      },
      "text/plain": [
       "Map:   0%|          | 0/1021 [00:00<?, ? examples/s]"
      ]
     },
     "metadata": {},
     "output_type": "display_data"
    },
    {
     "data": {
      "application/vnd.jupyter.widget-view+json": {
       "model_id": "ac2e9eccbba74881b3af079b46bc4277",
       "version_major": 2,
       "version_minor": 0
      },
      "text/plain": [
       "Map:   0%|          | 0/82 [00:00<?, ? examples/s]"
      ]
     },
     "metadata": {},
     "output_type": "display_data"
    },
    {
     "data": {
      "application/vnd.jupyter.widget-view+json": {
       "model_id": "bbb445cca37346399dbb0988bb642099",
       "version_major": 2,
       "version_minor": 0
      },
      "text/plain": [
       "Map:   0%|          | 0/106 [00:00<?, ? examples/s]"
      ]
     },
     "metadata": {},
     "output_type": "display_data"
    },
    {
     "name": "stdout",
     "output_type": "stream",
     "text": [
      "DatasetDict({\n",
      "    train: Dataset({\n",
      "        features: ['chatml'],\n",
      "        num_rows: 1021\n",
      "    })\n",
      "    validation: Dataset({\n",
      "        features: ['chatml'],\n",
      "        num_rows: 82\n",
      "    })\n",
      "    test: Dataset({\n",
      "        features: ['chatml'],\n",
      "        num_rows: 106\n",
      "    })\n",
      "})\n"
     ]
    }
   ],
   "source": [
    "\n",
    "openbookqa_chatml = openbookqa_subset.map(\n",
    "    to_chatml\n",
    ").remove_columns(['id', 'question_stem', 'choices', 'answerKey', 'fact1', 'humanScore', 'clarity', 'turkIdAnonymized'])\n",
    "print(openbookqa_chatml)"
   ]
  },
  {
   "cell_type": "code",
   "execution_count": 6,
   "id": "7c6c850a-08a1-4fde-8dea-37b59b4fe5bc",
   "metadata": {},
   "outputs": [
    {
     "data": {
      "application/vnd.jupyter.widget-view+json": {
       "model_id": "40c961e164844b1db8e02d38d27cc3e7",
       "version_major": 2,
       "version_minor": 0
      },
      "text/plain": [
       "Pushing dataset shards to the dataset hub:   0%|          | 0/1 [00:00<?, ?it/s]"
      ]
     },
     "metadata": {},
     "output_type": "display_data"
    },
    {
     "data": {
      "application/vnd.jupyter.widget-view+json": {
       "model_id": "9f915f12fba84bffaad40cf89bc88166",
       "version_major": 2,
       "version_minor": 0
      },
      "text/plain": [
       "Creating parquet from Arrow format:   0%|          | 0/2 [00:00<?, ?ba/s]"
      ]
     },
     "metadata": {},
     "output_type": "display_data"
    },
    {
     "data": {
      "application/vnd.jupyter.widget-view+json": {
       "model_id": "372f09ddce074125852fb5fc8c8a58c8",
       "version_major": 2,
       "version_minor": 0
      },
      "text/plain": [
       "Deleting unused files from dataset repository:   0%|          | 0/1 [00:00<?, ?it/s]"
      ]
     },
     "metadata": {},
     "output_type": "display_data"
    },
    {
     "data": {
      "application/vnd.jupyter.widget-view+json": {
       "model_id": "5ba0aa0c1d254a91925c4946d7660aca",
       "version_major": 2,
       "version_minor": 0
      },
      "text/plain": [
       "Pushing dataset shards to the dataset hub:   0%|          | 0/1 [00:00<?, ?it/s]"
      ]
     },
     "metadata": {},
     "output_type": "display_data"
    },
    {
     "data": {
      "application/vnd.jupyter.widget-view+json": {
       "model_id": "9279c18d47d044ac89d4dc407aa1b226",
       "version_major": 2,
       "version_minor": 0
      },
      "text/plain": [
       "Creating parquet from Arrow format:   0%|          | 0/1 [00:00<?, ?ba/s]"
      ]
     },
     "metadata": {},
     "output_type": "display_data"
    },
    {
     "data": {
      "application/vnd.jupyter.widget-view+json": {
       "model_id": "b8a3c33686874491ac7daa01042951a6",
       "version_major": 2,
       "version_minor": 0
      },
      "text/plain": [
       "Deleting unused files from dataset repository:   0%|          | 0/1 [00:00<?, ?it/s]"
      ]
     },
     "metadata": {},
     "output_type": "display_data"
    },
    {
     "data": {
      "application/vnd.jupyter.widget-view+json": {
       "model_id": "7e472c549cbe49baac44af92c6fbadc2",
       "version_major": 2,
       "version_minor": 0
      },
      "text/plain": [
       "Pushing dataset shards to the dataset hub:   0%|          | 0/1 [00:00<?, ?it/s]"
      ]
     },
     "metadata": {},
     "output_type": "display_data"
    },
    {
     "data": {
      "application/vnd.jupyter.widget-view+json": {
       "model_id": "6bf986317f42436185af6bdff926377f",
       "version_major": 2,
       "version_minor": 0
      },
      "text/plain": [
       "Creating parquet from Arrow format:   0%|          | 0/1 [00:00<?, ?ba/s]"
      ]
     },
     "metadata": {},
     "output_type": "display_data"
    },
    {
     "data": {
      "application/vnd.jupyter.widget-view+json": {
       "model_id": "752d74ddede742aa87617e6107bfc620",
       "version_major": 2,
       "version_minor": 0
      },
      "text/plain": [
       "Deleting unused files from dataset repository:   0%|          | 0/1 [00:00<?, ?it/s]"
      ]
     },
     "metadata": {},
     "output_type": "display_data"
    },
    {
     "data": {
      "application/vnd.jupyter.widget-view+json": {
       "model_id": "1f5a856a159447319d2ec7c14d1e5d17",
       "version_major": 2,
       "version_minor": 0
      },
      "text/plain": [
       "Downloading metadata:   0%|          | 0.00/759 [00:00<?, ?B/s]"
      ]
     },
     "metadata": {},
     "output_type": "display_data"
    }
   ],
   "source": [
    "openbookqa_chatml.push_to_hub(\"diwank/openbookqa_chatml\", private=True)"
   ]
  },
  {
   "cell_type": "code",
   "execution_count": null,
   "id": "b12e40bc-3f20-47bd-a74e-7e4d635cc427",
   "metadata": {},
   "outputs": [],
   "source": []
  }
 ],
 "metadata": {
  "kernelspec": {
   "display_name": "Python 3 (ipykernel)",
   "language": "python",
   "name": "python3"
  },
  "language_info": {
   "codemirror_mode": {
    "name": "ipython",
    "version": 3
   },
   "file_extension": ".py",
   "mimetype": "text/x-python",
   "name": "python",
   "nbconvert_exporter": "python",
   "pygments_lexer": "ipython3",
   "version": "3.10.12"
  }
 },
 "nbformat": 4,
 "nbformat_minor": 5
}
