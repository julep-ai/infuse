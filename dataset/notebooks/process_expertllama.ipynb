{
 "cells": [
  {
   "cell_type": "code",
   "execution_count": null,
   "id": "552e56bd",
   "metadata": {},
   "outputs": [],
   "source": [
    "!cd ./cache_data/expertllama && wget https://github.com/OFA-Sys/ExpertLLaMA/raw/main/data/expertllama.jsonl"
   ]
  },
  {
   "cell_type": "code",
   "execution_count": 8,
   "id": "c56a03b6",
   "metadata": {},
   "outputs": [
    {
     "name": "stdout",
     "output_type": "stream",
     "text": [
      "{\"instruction\": \"Give three tips for staying healthy.\", \"answer\": \"Sure, here are three evidence-based tips for staying healthy:\\n\\n1. Consume a diet rich in colorful fruits and vegetables: Eating a wide variety of fruits and vegetables ensures that you get a range of vitamins, minerals, and antioxidants that help boost your immune system and reduce inflammation in the body. Aim for at least five servings of fruits and vegetables a day, and try to include a rainbow of colors in your diet.\\n\\n2. Engage in regular physical activity: Exercise not only helps you burn calories and maintain a healthy weight, but it also reduces your risk of chronic diseases such as heart disease, diabetes, and cancer. Aim for at least 150 minutes of moderate-intensity exercise per week, spread out over at least three days, and incorporate strength training exercises two or more days per week.\\n\\n3. Practice stress-reduction techniques: Chronic stress has been linked to a range of health problems, including heart disease, depression, and digestive issues. Engage in activities that help reduce stress, such as meditation, yoga, or tai chi. Taking breaks during the workday, spending time in nature, and practicing deep breathing techniques can also help alleviate stress.\", \"expert_identity\": \"You are a seasoned nutritionist with extensive knowledge about healthy eating habits and lifestyle choices. You have spent years studying the impact of nutrition on overall health and well-being. You understand the importance of maintaining a healthy lifestyle, and have developed several tips to help people stay healthy. You can provide three effective tips that are grounded in scientific research and practical application. These tips may include incorporating a variety of colorful fruits and vegetables into one's diet, engaging in regular physical exercise or movement, and reducing stress through meditation or other mindfulness practices. You can also offer guidance on healthy sleep habits, proper hydration, and managing chronic conditions. Your extensive knowledge and expertise in nutrition and healthy living can empower individuals to make informed choices and lead a healthy and fulfilling life.\"}\n"
     ]
    }
   ],
   "source": [
    "!head -n1 cache_data/expertllama/expertllama.jsonl"
   ]
  },
  {
   "cell_type": "code",
   "execution_count": 1,
   "id": "6ab3c36a-da42-453d-bd44-619f844f19ec",
   "metadata": {},
   "outputs": [],
   "source": [
    "import jsonlines as jsonl\n",
    "from datasets import Dataset\n"
   ]
  },
  {
   "cell_type": "code",
   "execution_count": 9,
   "id": "7fd7c1da",
   "metadata": {},
   "outputs": [],
   "source": [
    "def load_dataset_jsonl(\n",
    "    path=\"./cache_data/expertllama/expertllama.jsonl\",\n",
    "):\n",
    "    with jsonl.open(path) as f:\n",
    "        for row in f:\n",
    "            yield row\n",
    "\n",
    "data = list(load_dataset_jsonl())"
   ]
  },
  {
   "cell_type": "code",
   "execution_count": 11,
   "id": "4a9c15c9",
   "metadata": {},
   "outputs": [],
   "source": [
    "dataset = Dataset.from_list(data)"
   ]
  },
  {
   "cell_type": "code",
   "execution_count": 12,
   "id": "eeed97b4",
   "metadata": {},
   "outputs": [
    {
     "data": {
      "text/plain": [
       "{'instruction': 'Give three tips for staying healthy.',\n",
       " 'answer': 'Sure, here are three evidence-based tips for staying healthy:\\n\\n1. Consume a diet rich in colorful fruits and vegetables: Eating a wide variety of fruits and vegetables ensures that you get a range of vitamins, minerals, and antioxidants that help boost your immune system and reduce inflammation in the body. Aim for at least five servings of fruits and vegetables a day, and try to include a rainbow of colors in your diet.\\n\\n2. Engage in regular physical activity: Exercise not only helps you burn calories and maintain a healthy weight, but it also reduces your risk of chronic diseases such as heart disease, diabetes, and cancer. Aim for at least 150 minutes of moderate-intensity exercise per week, spread out over at least three days, and incorporate strength training exercises two or more days per week.\\n\\n3. Practice stress-reduction techniques: Chronic stress has been linked to a range of health problems, including heart disease, depression, and digestive issues. Engage in activities that help reduce stress, such as meditation, yoga, or tai chi. Taking breaks during the workday, spending time in nature, and practicing deep breathing techniques can also help alleviate stress.',\n",
       " 'expert_identity': \"You are a seasoned nutritionist with extensive knowledge about healthy eating habits and lifestyle choices. You have spent years studying the impact of nutrition on overall health and well-being. You understand the importance of maintaining a healthy lifestyle, and have developed several tips to help people stay healthy. You can provide three effective tips that are grounded in scientific research and practical application. These tips may include incorporating a variety of colorful fruits and vegetables into one's diet, engaging in regular physical exercise or movement, and reducing stress through meditation or other mindfulness practices. You can also offer guidance on healthy sleep habits, proper hydration, and managing chronic conditions. Your extensive knowledge and expertise in nutrition and healthy living can empower individuals to make informed choices and lead a healthy and fulfilling life.\"}"
      ]
     },
     "execution_count": 12,
     "metadata": {},
     "output_type": "execute_result"
    }
   ],
   "source": [
    "dataset[0]"
   ]
  },
  {
   "cell_type": "code",
   "execution_count": 13,
   "id": "ed22963b-6a85-4867-8981-fc305183a5c1",
   "metadata": {},
   "outputs": [
    {
     "data": {
      "application/vnd.jupyter.widget-view+json": {
       "model_id": "494ede50899549e691734c36e4e607b2",
       "version_major": 2,
       "version_minor": 0
      },
      "text/plain": [
       "Pushing dataset shards to the dataset hub:   0%|          | 0/1 [00:00<?, ?it/s]"
      ]
     },
     "metadata": {},
     "output_type": "display_data"
    },
    {
     "data": {
      "application/vnd.jupyter.widget-view+json": {
       "model_id": "998deb9dade342caa4977ff569da22d4",
       "version_major": 2,
       "version_minor": 0
      },
      "text/plain": [
       "Creating parquet from Arrow format:   0%|          | 0/53 [00:00<?, ?ba/s]"
      ]
     },
     "metadata": {},
     "output_type": "display_data"
    }
   ],
   "source": [
    "dataset.push_to_hub(\"diwank/expertllama\", private=True)"
   ]
  }
 ],
 "metadata": {
  "kernelspec": {
   "display_name": "Python 3 (ipykernel)",
   "language": "python",
   "name": "python3"
  },
  "language_info": {
   "codemirror_mode": {
    "name": "ipython",
    "version": 3
   },
   "file_extension": ".py",
   "mimetype": "text/x-python",
   "name": "python",
   "nbconvert_exporter": "python",
   "pygments_lexer": "ipython3",
   "version": "3.10.12"
  }
 },
 "nbformat": 4,
 "nbformat_minor": 5
}
