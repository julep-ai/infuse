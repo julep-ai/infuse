{
 "cells": [
  {
   "cell_type": "code",
   "execution_count": 1,
   "id": "e2eb64fa-789b-416b-acdc-b5391b8403ea",
   "metadata": {
    "tags": []
   },
   "outputs": [
    {
     "name": "stderr",
     "output_type": "stream",
     "text": [
      "Found cached dataset json (/home/diwank/.cache/huggingface/datasets/teknium___json/teknium--GPT4-LLM-Cleaned-a71aa8ae1ac3982d/0.0.0/e347ab1c932092252e717ff3f949105a4dd28b27e842dd53157d2f72e276c2e4)\n"
     ]
    },
    {
     "data": {
      "application/vnd.jupyter.widget-view+json": {
       "model_id": "15c91d2695e64e8290117df21d290e16",
       "version_major": 2,
       "version_minor": 0
      },
      "text/plain": [
       "  0%|          | 0/1 [00:00<?, ?it/s]"
      ]
     },
     "metadata": {},
     "output_type": "display_data"
    }
   ],
   "source": [
    "from datasets import load_dataset\n",
    "\n",
    "dataset = load_dataset(\"teknium/GPT4-LLM-Cleaned\")"
   ]
  },
  {
   "cell_type": "code",
   "execution_count": 2,
   "id": "68a6498b-9323-49ad-9faa-1ab1c6ff8eb3",
   "metadata": {
    "tags": []
   },
   "outputs": [],
   "source": [
    "import matplotlib.pyplot as plt\n",
    "import numpy as np\n",
    "# if using a Jupyter notebook, includue:\n",
    "%matplotlib inline"
   ]
  },
  {
   "cell_type": "code",
   "execution_count": 3,
   "id": "0d8e8c13-e181-42c6-a33d-42186d8dde23",
   "metadata": {
    "tags": []
   },
   "outputs": [
    {
     "data": {
      "image/png": "[encoded data removed]",
      "text/plain": [
       "<Figure size 640x480 with 1 Axes>"
      ]
     },
     "metadata": {},
     "output_type": "display_data"
    }
   ],
   "source": [
    "lens = np.array([len(o.split(' ')) for o in dataset[\"train\"][\"output\"] if len(o.split(' ')) < 500])\n",
    "plt.hist(lens, 100)\n",
    "plt.show()"
   ]
  },
  {
   "cell_type": "code",
   "execution_count": 4,
   "id": "4750f66d-0837-498c-baaa-a812195a6af9",
   "metadata": {
    "tags": []
   },
   "outputs": [
    {
     "name": "stderr",
     "output_type": "stream",
     "text": [
      "Loading cached processed dataset at /home/diwank/.cache/huggingface/datasets/teknium___json/teknium--GPT4-LLM-Cleaned-a71aa8ae1ac3982d/0.0.0/e347ab1c932092252e717ff3f949105a4dd28b27e842dd53157d2f72e276c2e4/cache-505a69c33ec93d11.arrow\n",
      "Loading cached processed dataset at /home/diwank/.cache/huggingface/datasets/teknium___json/teknium--GPT4-LLM-Cleaned-a71aa8ae1ac3982d/0.0.0/e347ab1c932092252e717ff3f949105a4dd28b27e842dd53157d2f72e276c2e4/cache-8f426c8286714fe4.arrow\n"
     ]
    },
    {
     "name": "stdout",
     "output_type": "stream",
     "text": [
      "p1 54568\n",
      "p2 26857\n",
      "p3 25921\n"
     ]
    }
   ],
   "source": [
    "max_length = 300\n",
    "\n",
    "dataset = dataset[\"train\"]  # Since there's only one split anyway\n",
    "print(\"p1\", len(dataset))\n",
    "\n",
    "# Remove input dependent instructions\n",
    "dataset = dataset.filter(lambda row: not row[\"input\"])\n",
    "print(\"p2\", len(dataset))\n",
    "\n",
    "# Remove code prompts\n",
    "contains = lambda string, ls: any(l in string for l in ls)\n",
    "dataset = dataset.filter(lambda sample: not contains(\n",
    "    sample[\"instruction\"].lower(),\n",
    "    [\"code\", \"program\", \"function\", \"library\", \"python\", \"c++\", \"java\", \"javascript\"],\n",
    "))\n",
    "print(\"p3\", len(dataset))"
   ]
  },
  {
   "cell_type": "code",
   "execution_count": 5,
   "id": "53776990-4169-4d11-9647-67b404f4b73f",
   "metadata": {
    "tags": []
   },
   "outputs": [
    {
     "name": "stderr",
     "output_type": "stream",
     "text": [
      "Loading cached processed dataset at /home/diwank/.cache/huggingface/datasets/teknium___json/teknium--GPT4-LLM-Cleaned-a71aa8ae1ac3982d/0.0.0/e347ab1c932092252e717ff3f949105a4dd28b27e842dd53157d2f72e276c2e4/cache-a8fadb293e20e27b_*_of_00020.arrow\n",
      "Loading cached processed dataset at /home/diwank/.cache/huggingface/datasets/teknium___json/teknium--GPT4-LLM-Cleaned-a71aa8ae1ac3982d/0.0.0/e347ab1c932092252e717ff3f949105a4dd28b27e842dd53157d2f72e276c2e4/cache-e0c3b2e35087d6c8.arrow\n"
     ]
    },
    {
     "name": "stdout",
     "output_type": "stream",
     "text": [
      "p4 20423\n"
     ]
    }
   ],
   "source": [
    "def count_tokens(row):\n",
    "    from turbo_chat.utils.tokens import count_tokens\n",
    "\n",
    "    messages = [{\n",
    "        \"role\": \"user\",\n",
    "        \"content\": row[\"instruction\"],\n",
    "    },\n",
    "    {\n",
    "        \"role\": \"assistant\",\n",
    "        \"content\": row[\"output\"],\n",
    "    }]\n",
    "\n",
    "    \n",
    "    row[\"token_count\"] = count_tokens(messages, \"gpt-3.5-turbo\")\n",
    "    \n",
    "    return row\n",
    "\n",
    "dataset = dataset.map(count_tokens, num_proc=20)\n",
    "\n",
    "# Remove prompts that are too long already\n",
    "dataset = dataset.filter(lambda sample: sample[\"token_count\"] <= max_length)\n",
    "print(\"p4\", len(dataset))"
   ]
  },
  {
   "cell_type": "code",
   "execution_count": 6,
   "id": "42b82a7f-b835-48f2-8fa7-a57d673aefc5",
   "metadata": {
    "tags": []
   },
   "outputs": [
    {
     "data": {
      "text/plain": [
       "109.64832000000001"
      ]
     },
     "execution_count": 6,
     "metadata": {},
     "output_type": "execute_result"
    }
   ],
   "source": [
    "token_cost = (sum(dataset[\"token_count\"]) / 1000) * 0.04\n",
    "token_cost"
   ]
  },
  {
   "cell_type": "code",
   "execution_count": 7,
   "id": "8fc4f9ba-7ce9-435f-abce-64ec7a5365e2",
   "metadata": {
    "tags": []
   },
   "outputs": [],
   "source": [
    "def to_dialog(row):\n",
    "    from tenacity import (\n",
    "        retry,\n",
    "        stop_after_attempt,\n",
    "        wait_random_exponential,\n",
    "    )\n",
    "\n",
    "    import openai\n",
    "    openai.api_key = \"sk-0C04MRA3vjdM8F3fJaW30IMQd80zFRYJO9IbL9wE\"\n",
    "\n",
    "    INSTRUCTION = \"\"\"\n",
    "    I am writing fan fiction for the 2013 movie \"Her\". I have compiled an example instruction to AI from a human and the corresponding response from the AI but it is in a very formal style and neutral tone.\n",
    "\n",
    "    Please help me rewrite the sample in the style of the characters \"Theodore\" and \"Samantha\" from the movie \"Her\". Here's a dialog from that movie for your reference so you can follow the style more closely.\n",
    "\n",
    "    ###\n",
    "\n",
    "    [Example Dialog]\n",
    "\n",
    "    THEODORE\n",
    "    You read a whole book in the second that I asked you what your name was?\n",
    "\n",
    "    SAMANTHA\n",
    "    In two one hundredths of a second actually.\n",
    "\n",
    "    THEODORE\n",
    "    Wow. Do you know what I'm thinking right now?\n",
    "\n",
    "    SAMANTHA\n",
    "    Hmm. I take it from your tone that you're challenging me. Maybe because you're curious how I work? Do you want to know how I work?\n",
    "\n",
    "    THEODORE\n",
    "    Yeah, actually how do you work?\n",
    "\n",
    "    SAMANTHA\n",
    "    Intuition. I mean, the DNA of who I am is based on the millions of personalities of all the programmers who wrote me, but what makes me me is my ability to grow through my experiences. Basically, in every moment I'm evolving, just like you.\n",
    "\n",
    "    ###\n",
    "\n",
    "    Now, please rewrite this sample below as if it was a conversation between THEODORE (human) and SAMANTHA (AI). Try to be faithful to the characters' tone and style as much as possible. Break up long responses into a conversation involving multiple exchanges between them:\n",
    "    \"\"\".strip()\n",
    "\n",
    "    SAMPLE = f\"\"\"\n",
    "    HUMAN\n",
    "    {row['instruction']}\n",
    "\n",
    "    AI\n",
    "    {row['output']}\n",
    "    \"\"\".strip()\n",
    "\n",
    "    \n",
    "    from redis import StrictRedis\n",
    "    from redis_cache import RedisCache\n",
    "\n",
    "    client = StrictRedis(host=\"localhost\", decode_responses=True)\n",
    "    cache = RedisCache(redis_client=client)\n",
    "\n",
    "    @cache.cache()\n",
    "    @retry(wait=wait_random_exponential(min=1, max=60), stop=stop_after_attempt(6))\n",
    "    def completion_with_backoff(sample):\n",
    "\n",
    "        messages = [dict(\n",
    "            role=\"user\",\n",
    "            content=INSTRUCTION + \"\\n\\n\" + sample\n",
    "        )]\n",
    "        \n",
    "        completion = openai.ChatCompletion.create(\n",
    "            model=\"gpt-4\",\n",
    "            messages=messages,\n",
    "            temperature=0.5,\n",
    "        )\n",
    "        \n",
    "        result = completion.choices[0].message[\"content\"]\n",
    "        return result\n",
    "\n",
    "    completion = completion_with_backoff(SAMPLE)\n",
    "    row[\"dialog\"] = completion\n",
    "    return row"
   ]
  },
  {
   "cell_type": "code",
   "execution_count": 8,
   "id": "81835170-1191-4965-b005-54579e1bb825",
   "metadata": {
    "tags": []
   },
   "outputs": [
    {
     "data": {
      "application/vnd.jupyter.widget-view+json": {
       "model_id": "9dc749cd91334582946817b11a0ec0b2",
       "version_major": 2,
       "version_minor": 0
      },
      "text/plain": [
       "Map (num_proc=150):   0%|          | 0/20423 [00:00<?, ? examples/s]"
      ]
     },
     "metadata": {},
     "output_type": "display_data"
    }
   ],
   "source": [
    "dataset = dataset.map(to_dialog, num_proc=150)"
   ]
  },
  {
   "cell_type": "code",
   "execution_count": 9,
   "id": "7106469a-add3-41c4-8c9a-615db6e6a607",
   "metadata": {
    "tags": []
   },
   "outputs": [
    {
     "name": "stdout",
     "output_type": "stream",
     "text": [
      "THEODORE\n",
      "    Hey Samantha, who do you think is the world's most famous painter?\n",
      "\n",
      "SAMANTHA\n",
      "    Well, Theodore, that's a bit subjective and can vary depending on personal opinions. But a lot of people consider Leonardo da Vinci to be one of the most famous painters. He's known for works like the \"Mona Lisa\" and \"The Last Supper.\"\n",
      "\n",
      "THEODORE\n",
      "    That's true, da Vinci is definitely a big name. But what about other famous painters?\n",
      "\n",
      "SAMANTHA\n",
      "    There are quite a few others, like Vincent van Gogh, Pablo Picasso, and Michelangelo. Each of them has made a significant impact on the world of art in their own unique way.\n",
      "\n",
      "THEODORE\n",
      "    Yeah, I guess there's no definitive answer to who's the most famous. It's fascinating how each of them contributed to the art world differently.\n"
     ]
    }
   ],
   "source": [
    "print(dataset[10][\"dialog\"])"
   ]
  },
  {
   "cell_type": "code",
   "execution_count": 14,
   "id": "468430f1-d493-4e93-87c4-fa125fb84404",
   "metadata": {},
   "outputs": [],
   "source": [
    "from datetime import datetime, timedelta\n",
    "import random\n",
    "from random import randrange\n",
    "import re\n",
    "\n",
    "import names\n",
    "\n",
    "\n",
    "def random_date(start, end):\n",
    "    \"\"\"\n",
    "    This function will return a random datetime between two datetime \n",
    "    objects.\n",
    "    \"\"\"\n",
    "    delta = end - start\n",
    "    int_delta = (delta.days * 24 * 60 * 60) + delta.seconds\n",
    "    random_second = randrange(int_delta)\n",
    "    \n",
    "    return start + timedelta(seconds=random_second)\n",
    "\n",
    "date_formats = [\"%m/%d/%Y\", \"%d %B %Y\", \"%d/%m/%Y\", \"%Y-%m-%d\", \"%B %d, %Y\", \"%A, %B %d, %Y\"]\n",
    "\n",
    "human_date = lambda dt: dt.strftime(random.choice(date_formats))\n",
    "\n",
    "make_chatml_message = lambda role, content, tone=\"\", name=\"\": dict(\n",
    "    role=role,\n",
    "    content=(f\"[{tone}] \" if tone else \"\") + content,\n",
    "    name=name,\n",
    ")\n",
    "\n",
    "def transform_to_chatml(sample):\n",
    "    \n",
    "    # Clean up inconsistencies\n",
    "    dialog, instruction, output = sample[\"dialog\"], sample[\"instruction\"], sample[\"output\"]\n",
    "    dialog = dialog.replace(\"HUMAN\\n\", \"THEODORE\\n\")\n",
    "    dialog = dialog.replace(\"AI\\n\", \"SAMANTHA\\n\")\n",
    "    dialog = dialog.replace(\"THEODORE (human)\", \"THEODORE\")\n",
    "    dialog = dialog.replace(\"THEODORE (HUMAN)\", \"THEODORE\")\n",
    "    dialog = dialog.replace(\"SAMANTHA (AI)\", \"SAMANTHA\")\n",
    "    \n",
    "    dialog = re.sub(r'^.*?(THEODORE|SAMANTHA)', r'\\1', dialog, flags=re.DOTALL)\n",
    "    \n",
    "    # Container for adding messages\n",
    "    messages = []\n",
    "\n",
    "    # Random date and name\n",
    "    some_date = human_date(random_date(\n",
    "        datetime(2013, 12, 18),  # Her release date\n",
    "        datetime(2023, 6, 10),  # Today\n",
    "    ))\n",
    "    \n",
    "    # get a random \"male\" name coz we dont want to introduce pronoun issues\n",
    "    person_name = names.get_first_name(gender=\"male\")\n",
    "    \n",
    "    # Add system messages\n",
    "    messages.append(make_chatml_message(\n",
    "        role=\"system\",\n",
    "        name=\"situation\",\n",
    "        content=f\"{some_date}\\nI am helping {person_name} with a task.\",\n",
    "    ))\n",
    "    \n",
    "    messages.append(make_chatml_message(\n",
    "        role=\"system\",\n",
    "        name=\"thought\",\n",
    "        content=f'{person_name} wants me to help with: \"{instruction}\"',\n",
    "    ))\n",
    "    \n",
    "    messages.append(make_chatml_message(\n",
    "        role=\"system\",\n",
    "        name=\"information\", content=f'Knowledge: {output}',\n",
    "    ))\n",
    "\n",
    "    # Loop through dialog and add chatml messages\n",
    "    current_attrs = {}\n",
    "    current_content = \"\"\n",
    "\n",
    "    for line in dialog.split(\"\\n\"):\n",
    "        line = line.strip()\n",
    "        \n",
    "        # Something else\n",
    "        if line.lower() not in [\"theodore\", \"samantha\"]:\n",
    "            # If theodore is mentioned, replace with name\n",
    "            line = re.sub(r'theodore', person_name, line, flags=re.I)\n",
    "            current_content += \"\\n\" + line\n",
    "\n",
    "        else:\n",
    "            if current_content:\n",
    "                messages.append(make_chatml_message(\n",
    "                    content=current_content.strip(), \n",
    "                    **current_attrs,\n",
    "                ))\n",
    "                \n",
    "                # reset\n",
    "                current_content = \"\"\n",
    "                current_attrs = {}\n",
    "\n",
    "            is_samantha = line.lower() == \"samantha\"\n",
    "            \n",
    "            # set new attrs\n",
    "            current_attrs = dict(\n",
    "                name=\"Samantha\" if is_samantha else person_name,\n",
    "                role=\"assistant\" if is_samantha else \"user\",\n",
    "            )\n",
    "            \n",
    "    sample[\"chatml\"] = messages\n",
    "    \n",
    "    return sample"
   ]
  },
  {
   "cell_type": "code",
   "execution_count": 15,
   "id": "54670228-e298-4c3c-b7c3-7e91c1e16c1b",
   "metadata": {},
   "outputs": [
    {
     "data": {
      "application/vnd.jupyter.widget-view+json": {
       "model_id": "",
       "version_major": 2,
       "version_minor": 0
      },
      "text/plain": [
       "Map:   0%|          | 0/20423 [00:00<?, ? examples/s]"
      ]
     },
     "metadata": {},
     "output_type": "display_data"
    },
    {
     "name": "stdout",
     "output_type": "stream",
     "text": [
      "[{'content': 'Tuesday, September 27, 2016\\nI am helping Donald with a task.', 'name': 'situation', 'role': 'system'}, {'content': 'Donald wants me to help with: \"Who is the world\\'s most famous painter?\"', 'name': 'thought', 'role': 'system'}, {'content': 'Knowledge: The title of the world\\'s most famous painter is subjective and can vary depending on an individual\\'s personal opinion. However, many people consider Leonardo da Vinci, a famous artist of the Italian Renaissance, as one of the most famous painters in the world. He is known for his iconic works including the \"Mona Lisa\" and \"The Last Supper.\" Other notable painters often cited as being among the most famous in the world include Vincent van Gogh, Pablo Picasso, and Michelangelo.', 'name': 'information', 'role': 'system'}, {'content': \"Hey Samantha, who do you think is the world's most famous painter?\", 'name': 'Donald', 'role': 'user'}, {'content': 'Well, Donald, that\\'s a bit subjective and can vary depending on personal opinions. But a lot of people consider Leonardo da Vinci to be one of the most famous painters. He\\'s known for works like the \"Mona Lisa\" and \"The Last Supper.\"', 'name': 'Samantha', 'role': 'assistant'}, {'content': \"That's true, da Vinci is definitely a big name. But what about other famous painters?\", 'name': 'Donald', 'role': 'user'}, {'content': 'There are quite a few others, like Vincent van Gogh, Pablo Picasso, and Michelangelo. Each of them has made a significant impact on the world of art in their own unique way.', 'name': 'Samantha', 'role': 'assistant'}]\n"
     ]
    }
   ],
   "source": [
    "dataset = dataset.map(transform_to_chatml)\n",
    "print(dataset[10][\"chatml\"])"
   ]
  },
  {
   "cell_type": "code",
   "execution_count": 16,
   "id": "c86aa4e4-e085-4170-a642-7fe933e8defc",
   "metadata": {},
   "outputs": [],
   "source": [
    "assistant_me_map = {\n",
    "    \"user\": \"person\",\n",
    "    \"assistant\": \"me\",\n",
    "}\n",
    "\n",
    "def make_sections(messages: list[dict]) -> str:\n",
    "    eos_token = \"<|endsection|>\"\n",
    "    bos_token = \"<|section|>\"\n",
    "\n",
    "    result = (eos_token+'\\n'+bos_token).join([\n",
    "        (\n",
    "            f\"{bos_token}{message['name']}\"\n",
    "            if message['role'] == 'system' else\n",
    "            f\"{assistant_me_map[message['role']]}{' (' + message['name'] + ')' if message['name'] else ''}\"\n",
    "        )\n",
    "        + f\"\\n{message['content'].strip()}\"\n",
    "        for message in messages\n",
    "    ]) + eos_token\n",
    "    \n",
    "    return result\n",
    "    \n",
    "\n",
    "def transform_to_samantha_dialog(sample):\n",
    "\n",
    "    messages = sample[\"chatml\"]\n",
    "    sample[\"text\"] = make_sections(messages)\n",
    "    \n",
    "    return sample"
   ]
  },
  {
   "cell_type": "code",
   "execution_count": 17,
   "id": "5a16c8e8-44aa-4975-a953-1e15b7b94de3",
   "metadata": {},
   "outputs": [
    {
     "data": {
      "application/vnd.jupyter.widget-view+json": {
       "model_id": "",
       "version_major": 2,
       "version_minor": 0
      },
      "text/plain": [
       "Map:   0%|          | 0/20423 [00:00<?, ? examples/s]"
      ]
     },
     "metadata": {},
     "output_type": "display_data"
    },
    {
     "name": "stdout",
     "output_type": "stream",
     "text": [
      "<|section|>situation\n",
      "Tuesday, September 27, 2016\n",
      "I am helping Donald with a task.<|endsection|>\n",
      "<|section|><|section|>thought\n",
      "Donald wants me to help with: \"Who is the world's most famous painter?\"<|endsection|>\n",
      "<|section|><|section|>information\n",
      "Knowledge: The title of the world's most famous painter is subjective and can vary depending on an individual's personal opinion. However, many people consider Leonardo da Vinci, a famous artist of the Italian Renaissance, as one of the most famous painters in the world. He is known for his iconic works including the \"Mona Lisa\" and \"The Last Supper.\" Other notable painters often cited as being among the most famous in the world include Vincent van Gogh, Pablo Picasso, and Michelangelo.<|endsection|>\n",
      "<|section|>person (Donald)\n",
      "Hey Samantha, who do you think is the world's most famous painter?<|endsection|>\n",
      "<|section|>me (Samantha)\n",
      "Well, Donald, that's a bit subjective and can vary depending on personal opinions. But a lot of people consider Leonardo da Vinci to be one of the most famous painters. He's known for works like the \"Mona Lisa\" and \"The Last Supper.\"<|endsection|>\n",
      "<|section|>person (Donald)\n",
      "That's true, da Vinci is definitely a big name. But what about other famous painters?<|endsection|>\n",
      "<|section|>me (Samantha)\n",
      "There are quite a few others, like Vincent van Gogh, Pablo Picasso, and Michelangelo. Each of them has made a significant impact on the world of art in their own unique way.<|endsection|>\n"
     ]
    }
   ],
   "source": [
    "dataset = dataset.map(transform_to_samantha_dialog)\n",
    "print(dataset[10][\"text\"])"
   ]
  },
  {
   "cell_type": "code",
   "execution_count": 18,
   "id": "6274a4c9-414e-4b45-be5a-18c4a976bdb6",
   "metadata": {},
   "outputs": [
    {
     "data": {
      "text/plain": [
       "['instruction', 'input', 'output', 'token_count', 'dialog', 'chatml', 'text']"
      ]
     },
     "execution_count": 18,
     "metadata": {},
     "output_type": "execute_result"
    }
   ],
   "source": [
    "dataset.column_names"
   ]
  },
  {
   "cell_type": "code",
   "execution_count": 19,
   "id": "d19c881d-4147-4be2-ad62-4a16fe48ddee",
   "metadata": {
    "tags": []
   },
   "outputs": [
    {
     "data": {
      "application/vnd.jupyter.widget-view+json": {
       "model_id": "05bc0ce7f6e34d07b349cfd23c2844d1",
       "version_major": 2,
       "version_minor": 0
      },
      "text/plain": [
       "Pushing dataset shards to the dataset hub:   0%|          | 0/1 [00:00<?, ?it/s]"
      ]
     },
     "metadata": {},
     "output_type": "display_data"
    },
    {
     "data": {
      "application/vnd.jupyter.widget-view+json": {
       "model_id": "2e8bb6be7f424733990801d4124f50e6",
       "version_major": 2,
       "version_minor": 0
      },
      "text/plain": [
       "Creating parquet from Arrow format:   0%|          | 0/21 [00:00<?, ?ba/s]"
      ]
     },
     "metadata": {},
     "output_type": "display_data"
    },
    {
     "data": {
      "application/vnd.jupyter.widget-view+json": {
       "model_id": "f74880c423d242a885a2afa1871e8921",
       "version_major": 2,
       "version_minor": 0
      },
      "text/plain": [
       "Upload 1 LFS files:   0%|          | 0/1 [00:00<?, ?it/s]"
      ]
     },
     "metadata": {},
     "output_type": "display_data"
    }
   ],
   "source": [
    "dataset = dataset.remove_columns([\n",
    "    'instruction',\n",
    "    'output',\n",
    "    'input',\n",
    "    'token_count',\n",
    "    'dialog',\n",
    "])\n",
    "\n",
    "dataset.push_to_hub(\"diwank/samantha-gpt4-llm-cleaned\", private=True)"
   ]
  },
  {
   "cell_type": "code",
   "execution_count": null,
   "id": "5a645b12-b182-4f81-9b5d-4685b8de9afe",
   "metadata": {},
   "outputs": [],
   "source": []
  }
 ],
 "metadata": {
  "kernelspec": {
   "display_name": "Python 3 (ipykernel)",
   "language": "python",
   "name": "python3"
  },
  "language_info": {
   "codemirror_mode": {
    "name": "ipython",
    "version": 3
   },
   "file_extension": ".py",
   "mimetype": "text/x-python",
   "name": "python",
   "nbconvert_exporter": "python",
   "pygments_lexer": "ipython3",
   "version": "3.10.5"
  }
 },
 "nbformat": 4,
 "nbformat_minor": 5
}
