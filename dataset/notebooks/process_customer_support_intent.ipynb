{
 "cells": [
  {
   "cell_type": "code",
   "execution_count": 2,
   "id": "9aa621b8-4ff2-41d0-ba0b-cefe27db2fd4",
   "metadata": {},
   "outputs": [],
   "source": [
    "import csv\n",
    "import glob\n",
    "import os\n",
    "import random\n",
    "\n",
    "from datasets import load_dataset, Dataset, DatasetDict"
   ]
  },
  {
   "cell_type": "code",
   "execution_count": 3,
   "id": "0a1f8cc3-876e-457e-aa60-73667c823e93",
   "metadata": {},
   "outputs": [
    {
     "data": {
      "application/vnd.jupyter.widget-view+json": {
       "model_id": "b22d40a9ea5f49ab85fb729eab696abc",
       "version_major": 2,
       "version_minor": 0
      },
      "text/plain": [
       "Downloading readme:   0%|          | 0.00/4.89k [00:00<?, ?B/s]"
      ]
     },
     "metadata": {},
     "output_type": "display_data"
    },
    {
     "name": "stdout",
     "output_type": "stream",
     "text": [
      "Downloading and preparing dataset csv/bitext--customer-support-intent-dataset to /home/diwank/.cache/huggingface/datasets/bitext___csv/bitext--customer-support-intent-dataset-faed7337b63b4f3a/0.0.0/6954658bab30a358235fa864b05cf819af0e179325c740e4bc853bcc7ec513e1...\n"
     ]
    },
    {
     "data": {
      "application/vnd.jupyter.widget-view+json": {
       "model_id": "59a927facc6443ac946277e947f87cdc",
       "version_major": 2,
       "version_minor": 0
      },
      "text/plain": [
       "Downloading data files:   0%|          | 0/3 [00:00<?, ?it/s]"
      ]
     },
     "metadata": {},
     "output_type": "display_data"
    },
    {
     "data": {
      "application/vnd.jupyter.widget-view+json": {
       "model_id": "c29ac34fd27e4882a38feb08dc5f3a53",
       "version_major": 2,
       "version_minor": 0
      },
      "text/plain": [
       "Downloading data:   0%|          | 0.00/471k [00:00<?, ?B/s]"
      ]
     },
     "metadata": {},
     "output_type": "display_data"
    },
    {
     "data": {
      "application/vnd.jupyter.widget-view+json": {
       "model_id": "9f99f686c0ad4721a0273970cba41467",
       "version_major": 2,
       "version_minor": 0
      },
      "text/plain": [
       "Downloading data:   0%|          | 0.00/58.8k [00:00<?, ?B/s]"
      ]
     },
     "metadata": {},
     "output_type": "display_data"
    },
    {
     "data": {
      "application/vnd.jupyter.widget-view+json": {
       "model_id": "bce21daceb424eb49ea4cd9c6a3c43b7",
       "version_major": 2,
       "version_minor": 0
      },
      "text/plain": [
       "Downloading data:   0%|          | 0.00/59.0k [00:00<?, ?B/s]"
      ]
     },
     "metadata": {},
     "output_type": "display_data"
    },
    {
     "data": {
      "application/vnd.jupyter.widget-view+json": {
       "model_id": "12f6ae4e23e64c31a8b7d92487b8cc35",
       "version_major": 2,
       "version_minor": 0
      },
      "text/plain": [
       "Extracting data files:   0%|          | 0/3 [00:00<?, ?it/s]"
      ]
     },
     "metadata": {},
     "output_type": "display_data"
    },
    {
     "data": {
      "application/vnd.jupyter.widget-view+json": {
       "model_id": "",
       "version_major": 2,
       "version_minor": 0
      },
      "text/plain": [
       "Generating train split: 0 examples [00:00, ? examples/s]"
      ]
     },
     "metadata": {},
     "output_type": "display_data"
    },
    {
     "data": {
      "application/vnd.jupyter.widget-view+json": {
       "model_id": "",
       "version_major": 2,
       "version_minor": 0
      },
      "text/plain": [
       "Generating validation split: 0 examples [00:00, ? examples/s]"
      ]
     },
     "metadata": {},
     "output_type": "display_data"
    },
    {
     "data": {
      "application/vnd.jupyter.widget-view+json": {
       "model_id": "",
       "version_major": 2,
       "version_minor": 0
      },
      "text/plain": [
       "Generating test split: 0 examples [00:00, ? examples/s]"
      ]
     },
     "metadata": {},
     "output_type": "display_data"
    },
    {
     "name": "stdout",
     "output_type": "stream",
     "text": [
      "Dataset csv downloaded and prepared to /home/diwank/.cache/huggingface/datasets/bitext___csv/bitext--customer-support-intent-dataset-faed7337b63b4f3a/0.0.0/6954658bab30a358235fa864b05cf819af0e179325c740e4bc853bcc7ec513e1. Subsequent calls will reuse this data.\n"
     ]
    },
    {
     "data": {
      "application/vnd.jupyter.widget-view+json": {
       "model_id": "e743702d20fe4ed497b3ebfd2898e948",
       "version_major": 2,
       "version_minor": 0
      },
      "text/plain": [
       "  0%|          | 0/3 [00:00<?, ?it/s]"
      ]
     },
     "metadata": {},
     "output_type": "display_data"
    }
   ],
   "source": [
    "dataset = load_dataset(\"bitext/customer-support-intent-dataset\")"
   ]
  },
  {
   "cell_type": "code",
   "execution_count": 11,
   "id": "4e150197-8a91-46c8-9e7d-c4e52a4b0071",
   "metadata": {},
   "outputs": [
    {
     "data": {
      "application/vnd.jupyter.widget-view+json": {
       "model_id": "",
       "version_major": 2,
       "version_minor": 0
      },
      "text/plain": [
       "Filter:   0%|          | 0/6539 [00:00<?, ? examples/s]"
      ]
     },
     "metadata": {},
     "output_type": "display_data"
    },
    {
     "data": {
      "application/vnd.jupyter.widget-view+json": {
       "model_id": "",
       "version_major": 2,
       "version_minor": 0
      },
      "text/plain": [
       "Filter:   0%|          | 0/818 [00:00<?, ? examples/s]"
      ]
     },
     "metadata": {},
     "output_type": "display_data"
    },
    {
     "data": {
      "application/vnd.jupyter.widget-view+json": {
       "model_id": "",
       "version_major": 2,
       "version_minor": 0
      },
      "text/plain": [
       "Filter:   0%|          | 0/818 [00:00<?, ? examples/s]"
      ]
     },
     "metadata": {},
     "output_type": "display_data"
    },
    {
     "data": {
      "text/plain": [
       "(3267, 6539)"
      ]
     },
     "execution_count": 11,
     "metadata": {},
     "output_type": "execute_result"
    }
   ],
   "source": [
    "def not_in(tags, remove_tags):\n",
    "    return all([\n",
    "        remove_tag not in tags\n",
    "        for remove_tag in remove_tags\n",
    "    ])\n",
    "\n",
    "# See: https://huggingface.co/datasets/bitext/customer-support-intent-dataset\n",
    "filtered = dataset.filter(lambda row: row[\"category\"] != \"NEWSLETTER\" and not_in(row[\"tags\"], list(\"ZWKMLEQ\")))\n",
    "len(filtered[\"train\"]), len(dataset[\"train\"])"
   ]
  },
  {
   "cell_type": "code",
   "execution_count": 14,
   "id": "164de45d-23a4-4485-99eb-7f0f28544140",
   "metadata": {},
   "outputs": [],
   "source": [
    "# The categories and intents covered by the dataset are:\n",
    "\n",
    "intents_by_category = dict(\n",
    "    ACCOUNT=\"create_account, delete_account, edit_account, recover_password, registration_problems, switch_account\".split(\", \"),\n",
    "    CANCELLATION_FEE=\"check_cancellation_fee\".split(\", \"),\n",
    "    CONTACT=\"contact_customer_service, contact_human_agent\".split(\", \"),\n",
    "    DELIVERY=\"delivery_options, delivery_period\".split(\", \"),\n",
    "    FEEDBACK=\"complaint, review\".split(\", \"),\n",
    "    INVOICE=\"check_invoice, get_invoice\".split(\", \"),\n",
    "    # NEWSLETTER=\"newsletter_subscription\".split(\", \"),\n",
    "    ORDER=\"cancel_order, change_order, place_order, track_order\".split(\", \"),\n",
    "    PAYMENT=\"check_payment_methods, payment_issue\".split(\", \"),\n",
    "    REFUND=\"check_refund_policy, get_refund, track_refund\".split(\", \"),\n",
    "    SHIPPING_ADDRESS=\"change_shipping_address, set_up_shipping_address\".split(\", \"),\n",
    ")"
   ]
  },
  {
   "cell_type": "code",
   "execution_count": 13,
   "id": "a5fa25c3-1c02-47ae-b835-165f70f18961",
   "metadata": {},
   "outputs": [
    {
     "data": {
      "text/plain": [
       "{'utterance': 'would it be possible to cancel the order I made?',\n",
       " 'intent': 'cancel_order',\n",
       " 'category': 'ORDER',\n",
       " 'tags': 'BIP'}"
      ]
     },
     "execution_count": 13,
     "metadata": {},
     "output_type": "execute_result"
    }
   ],
   "source": [
    "dataset[\"train\"][0]"
   ]
  },
  {
   "cell_type": "code",
   "execution_count": 17,
   "id": "6ade7538-c5da-4f05-9be3-11369b151c5e",
   "metadata": {},
   "outputs": [],
   "source": [
    "make_chatml = lambda name, role, content: dict(\n",
    "    name=name, role=role, content=content,\n",
    ")\n",
    "\n",
    "system = lambda name, content: make_chatml(\n",
    "    role=\"system\",\n",
    "    name=name,\n",
    "    content=content,\n",
    ")\n",
    "\n",
    "situation = lambda content: system(name=\"situation\", content=content)\n",
    "thought = lambda content: system(name=\"thought\", content=content)\n",
    "information = lambda content: system(name=\"information\", content=content)\n",
    "me = lambda content, name=None: make_chatml(\n",
    "    role=\"assistant\",\n",
    "    content=content,\n",
    "    name=name,\n",
    ")\n",
    "\n",
    "person = lambda content, name=None: make_chatml(\n",
    "    role=\"user\",\n",
    "    content=content,\n",
    "    name=name,\n",
    ")\n",
    "\n",
    "def to_chatml(row):\n",
    "    utterance = row[\"utterance\"]\n",
    "    intent = row[\"intent\"]\n",
    "    category = row[\"category\"]\n",
    "\n",
    "    allowed_intents = intents_by_category[category]\n",
    "\n",
    "    choice_keys = list(\"ABCDEFG\")\n",
    "    choice = choice_keys[allowed_intents.index(intent)]\n",
    "    allowed_intents_text = [\n",
    "        allowed_intent.replace(\"_\", \" \").capitalize()\n",
    "        for allowed_intent in allowed_intents\n",
    "    ]\n",
    "    \n",
    "    intent_text = intent.replace(\"_\", \" \").capitalize()\n",
    "\n",
    "    chatml = [\n",
    "        situation(\n",
    "            f\"AI Assistant is talking to customer to provide support.\"\n",
    "        ),\n",
    "        person(\n",
    "            utterance.capitalize(),\n",
    "            name=\"Customer\",\n",
    "        ),\n",
    "        thought(\n",
    "            f\"Which of the following best describe the customer's intent?\"\n",
    "            + \"\\nChoices:\\n\"\n",
    "            + '\\n'.join([\n",
    "                f\"{key}) {allowed_intent}\"\n",
    "                for key, allowed_intent in zip(choice_keys, allowed_intents_text)\n",
    "            ])\n",
    "            + '\\n'\n",
    "            + f\"\\nAnswer: {choice} ({intent_text})\"\n",
    "        ),\n",
    "    ]\n",
    "\n",
    "    return dict(chatml=chatml)"
   ]
  },
  {
   "cell_type": "code",
   "execution_count": 19,
   "id": "26fd5d16-df4c-456e-a5c9-a452b75f4e56",
   "metadata": {},
   "outputs": [
    {
     "data": {
      "application/vnd.jupyter.widget-view+json": {
       "model_id": "",
       "version_major": 2,
       "version_minor": 0
      },
      "text/plain": [
       "Map:   0%|          | 0/3267 [00:00<?, ? examples/s]"
      ]
     },
     "metadata": {},
     "output_type": "display_data"
    },
    {
     "data": {
      "application/vnd.jupyter.widget-view+json": {
       "model_id": "",
       "version_major": 2,
       "version_minor": 0
      },
      "text/plain": [
       "Map:   0%|          | 0/409 [00:00<?, ? examples/s]"
      ]
     },
     "metadata": {},
     "output_type": "display_data"
    },
    {
     "data": {
      "application/vnd.jupyter.widget-view+json": {
       "model_id": "",
       "version_major": 2,
       "version_minor": 0
      },
      "text/plain": [
       "Map:   0%|          | 0/427 [00:00<?, ? examples/s]"
      ]
     },
     "metadata": {},
     "output_type": "display_data"
    }
   ],
   "source": [
    "filtered = filtered.map(to_chatml).remove_columns(list(set(dataset[\"train\"].column_names) - {\"chatml\"}))"
   ]
  },
  {
   "cell_type": "code",
   "execution_count": 20,
   "id": "bd1022c0-07a4-4f2b-81a0-fde2645f1e54",
   "metadata": {},
   "outputs": [
    {
     "data": {
      "text/plain": [
       "{'chatml': [{'content': 'AI Assistant is talking to customer to provide support.',\n",
       "   'name': 'situation',\n",
       "   'role': 'system'},\n",
       "  {'content': 'Would it be possible to cancel the order i made?',\n",
       "   'name': 'Customer',\n",
       "   'role': 'user'},\n",
       "  {'content': \"Which of the following best describe the customer's intent?\\nChoices:\\nA) Cancel order\\nB) Change order\\nC) Place order\\nD) Track order\\n\\nAnswer: A (Cancel order)\",\n",
       "   'name': 'thought',\n",
       "   'role': 'system'}]}"
      ]
     },
     "execution_count": 20,
     "metadata": {},
     "output_type": "execute_result"
    }
   ],
   "source": [
    "filtered[\"train\"][0]"
   ]
  },
  {
   "cell_type": "code",
   "execution_count": 21,
   "id": "c1c52441-7de5-49fc-8a5f-096b909231cf",
   "metadata": {},
   "outputs": [
    {
     "name": "stderr",
     "output_type": "stream",
     "text": [
      "Pushing split train to the Hub.\n"
     ]
    },
    {
     "data": {
      "application/vnd.jupyter.widget-view+json": {
       "model_id": "0084aa9c6c934811bb9a91494bd73a7e",
       "version_major": 2,
       "version_minor": 0
      },
      "text/plain": [
       "Pushing dataset shards to the dataset hub:   0%|          | 0/1 [00:00<?, ?it/s]"
      ]
     },
     "metadata": {},
     "output_type": "display_data"
    },
    {
     "data": {
      "application/vnd.jupyter.widget-view+json": {
       "model_id": "c3aa3dbacdac4097b09d530f6281226e",
       "version_major": 2,
       "version_minor": 0
      },
      "text/plain": [
       "Creating parquet from Arrow format:   0%|          | 0/4 [00:00<?, ?ba/s]"
      ]
     },
     "metadata": {},
     "output_type": "display_data"
    },
    {
     "data": {
      "application/vnd.jupyter.widget-view+json": {
       "model_id": "b5bfefcdcad44fada1018179f9ed03f9",
       "version_major": 2,
       "version_minor": 0
      },
      "text/plain": [
       "Upload 1 LFS files:   0%|          | 0/1 [00:00<?, ?it/s]"
      ]
     },
     "metadata": {},
     "output_type": "display_data"
    },
    {
     "name": "stderr",
     "output_type": "stream",
     "text": [
      "Pushing split validation to the Hub.\n"
     ]
    },
    {
     "data": {
      "application/vnd.jupyter.widget-view+json": {
       "model_id": "a52c23b2b7f04f918b74dc943e6b86e1",
       "version_major": 2,
       "version_minor": 0
      },
      "text/plain": [
       "Pushing dataset shards to the dataset hub:   0%|          | 0/1 [00:00<?, ?it/s]"
      ]
     },
     "metadata": {},
     "output_type": "display_data"
    },
    {
     "data": {
      "application/vnd.jupyter.widget-view+json": {
       "model_id": "a0cc437a066e4721a237236c8521e908",
       "version_major": 2,
       "version_minor": 0
      },
      "text/plain": [
       "Creating parquet from Arrow format:   0%|          | 0/1 [00:00<?, ?ba/s]"
      ]
     },
     "metadata": {},
     "output_type": "display_data"
    },
    {
     "data": {
      "application/vnd.jupyter.widget-view+json": {
       "model_id": "48af552a307f47d58deb16d9454124bb",
       "version_major": 2,
       "version_minor": 0
      },
      "text/plain": [
       "Upload 1 LFS files:   0%|          | 0/1 [00:00<?, ?it/s]"
      ]
     },
     "metadata": {},
     "output_type": "display_data"
    },
    {
     "name": "stderr",
     "output_type": "stream",
     "text": [
      "Pushing split test to the Hub.\n"
     ]
    },
    {
     "data": {
      "application/vnd.jupyter.widget-view+json": {
       "model_id": "ed52856ecbc14164a7bad13b49a66d18",
       "version_major": 2,
       "version_minor": 0
      },
      "text/plain": [
       "Pushing dataset shards to the dataset hub:   0%|          | 0/1 [00:00<?, ?it/s]"
      ]
     },
     "metadata": {},
     "output_type": "display_data"
    },
    {
     "data": {
      "application/vnd.jupyter.widget-view+json": {
       "model_id": "d95a5b31c81d4c8f9e5aeeea9c64f664",
       "version_major": 2,
       "version_minor": 0
      },
      "text/plain": [
       "Creating parquet from Arrow format:   0%|          | 0/1 [00:00<?, ?ba/s]"
      ]
     },
     "metadata": {},
     "output_type": "display_data"
    },
    {
     "data": {
      "application/vnd.jupyter.widget-view+json": {
       "model_id": "193b500ea2254ab1a8431d1c7a015ac2",
       "version_major": 2,
       "version_minor": 0
      },
      "text/plain": [
       "Upload 1 LFS files:   0%|          | 0/1 [00:00<?, ?it/s]"
      ]
     },
     "metadata": {},
     "output_type": "display_data"
    }
   ],
   "source": [
    "filtered.push_to_hub(\"diwank/samantha-intent\", private=True)"
   ]
  },
  {
   "cell_type": "code",
   "execution_count": null,
   "id": "f2672868-cc89-487c-b543-f8d10bbbb712",
   "metadata": {},
   "outputs": [],
   "source": []
  }
 ],
 "metadata": {
  "kernelspec": {
   "display_name": "Python 3 (ipykernel)",
   "language": "python",
   "name": "python3"
  },
  "language_info": {
   "codemirror_mode": {
    "name": "ipython",
    "version": 3
   },
   "file_extension": ".py",
   "mimetype": "text/x-python",
   "name": "python",
   "nbconvert_exporter": "python",
   "pygments_lexer": "ipython3",
   "version": "3.10.11"
  }
 },
 "nbformat": 4,
 "nbformat_minor": 5
}
