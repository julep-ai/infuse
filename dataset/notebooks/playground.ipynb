{
 "cells": [
  {
   "cell_type": "code",
   "execution_count": 4,
   "id": "c65ba7bb-57c8-4f8b-863c-854b80ea8222",
   "metadata": {},
   "outputs": [
    {
     "name": "stderr",
     "output_type": "stream",
     "text": [
      "Found cached dataset parquet (/home/diwank/.cache/huggingface/datasets/julep-ai___parquet/julep-ai--samantha-dataset-v3-prompt_response-452c7bd574ada539/0.0.0/2a3b91fbd88a2c90d1dbbb32b460cf621d31bd5b05b934492fdef7d8d6f236ec)\n"
     ]
    },
    {
     "data": {
      "application/vnd.jupyter.widget-view+json": {
       "model_id": "28668b667bec4b43ad36c26a5a9dd5ab",
       "version_major": 2,
       "version_minor": 0
      },
      "text/plain": [
       "  0%|          | 0/2 [00:00<?, ?it/s]"
      ]
     },
     "metadata": {},
     "output_type": "display_data"
    },
    {
     "name": "stderr",
     "output_type": "stream",
     "text": [
      "Loading cached processed dataset at /home/diwank/.cache/huggingface/datasets/julep-ai___parquet/julep-ai--samantha-dataset-v3-prompt_response-452c7bd574ada539/0.0.0/2a3b91fbd88a2c90d1dbbb32b460cf621d31bd5b05b934492fdef7d8d6f236ec/cache-44b5fb3021f58d93.arrow\n",
      "Loading cached processed dataset at /home/diwank/.cache/huggingface/datasets/julep-ai___parquet/julep-ai--samantha-dataset-v3-prompt_response-452c7bd574ada539/0.0.0/2a3b91fbd88a2c90d1dbbb32b460cf621d31bd5b05b934492fdef7d8d6f236ec/cache-65cbfa99e571e901.arrow\n",
      "Loading cached processed dataset at /home/diwank/.cache/huggingface/datasets/julep-ai___parquet/julep-ai--samantha-dataset-v3-prompt_response-452c7bd574ada539/0.0.0/2a3b91fbd88a2c90d1dbbb32b460cf621d31bd5b05b934492fdef7d8d6f236ec/cache-139a916b3eb1c3bc.arrow\n",
      "Loading cached processed dataset at /home/diwank/.cache/huggingface/datasets/julep-ai___parquet/julep-ai--samantha-dataset-v3-prompt_response-452c7bd574ada539/0.0.0/2a3b91fbd88a2c90d1dbbb32b460cf621d31bd5b05b934492fdef7d8d6f236ec/cache-2c3b0a5de8b0243a.arrow\n"
     ]
    },
    {
     "data": {
      "application/vnd.jupyter.widget-view+json": {
       "model_id": "",
       "version_major": 2,
       "version_minor": 0
      },
      "text/plain": [
       "Filter:   0%|          | 0/887120 [00:00<?, ? examples/s]"
      ]
     },
     "metadata": {},
     "output_type": "display_data"
    },
    {
     "data": {
      "application/vnd.jupyter.widget-view+json": {
       "model_id": "",
       "version_major": 2,
       "version_minor": 0
      },
      "text/plain": [
       "Filter:   0%|          | 0/156471 [00:00<?, ? examples/s]"
      ]
     },
     "metadata": {},
     "output_type": "display_data"
    }
   ],
   "source": [
    "from datasets import load_dataset\n",
    "import math\n",
    "\n",
    "dataset = load_dataset(\"julep-ai/samantha-dataset-v3-prompt_response\")\n",
    "non_thought_dataset = dataset.filter(lambda row: not row[\"prompt\"].endswith(\"<|im_start|>thought\\n\"))\n",
    "\n",
    "def get_prefix(row):\n",
    "    prefix = row[\"prompt\"].split(\"<|im_start|>me\")[-1].strip()\n",
    "    return dict(prefix=prefix)\n",
    "\n",
    "non_thought_dataset = non_thought_dataset.map(get_prefix)\n",
    "non_thought_dataset = non_thought_dataset.filter(lambda row: math.ceil(len(row[\"prompt\"])/3.6) < 5000)\n",
    "prefixes = set(non_thought_dataset[\"train\"][\"prefix\"])"
   ]
  },
  {
   "cell_type": "code",
   "execution_count": 5,
   "id": "dc65c984-4f99-475e-8f24-90291366f2a4",
   "metadata": {},
   "outputs": [
    {
     "data": {
      "text/plain": [
       "220"
      ]
     },
     "execution_count": 5,
     "metadata": {},
     "output_type": "execute_result"
    }
   ],
   "source": [
    "len(prefixes)"
   ]
  },
  {
   "cell_type": "code",
   "execution_count": 6,
   "id": "a9248c06-d72e-46c6-8971-38334d3138f7",
   "metadata": {},
   "outputs": [
    {
     "data": {
      "text/plain": [
       "{'(AI)',\n",
       " '(Aadhya Patel)',\n",
       " '(Aari Windwalker)',\n",
       " '(Aeria Windsworn)',\n",
       " '(Aero Wingweaver)',\n",
       " '(Aloysius Fairweather)',\n",
       " '(Amara Deepwater)',\n",
       " '(Amara Earthshaker)',\n",
       " '(Amara Nwosu)',\n",
       " '(Amelia Parkins)',\n",
       " '(Amina Patel)',\n",
       " '(Argos Zephyr)',\n",
       " '(Aria Perez)',\n",
       " '(Arla the Curious Fox)',\n",
       " '(Arvias)',\n",
       " '(Asora Redcloud)',\n",
       " '(Asterion Zenith)',\n",
       " '(Astrolia Stardancer)',\n",
       " '(Aurelia Spectrum)',\n",
       " '(Ayla Featherwing)',\n",
       " '(Azura Skyward)',\n",
       " '(Baelzar, Lord of Shadows)',\n",
       " '(Balthazar the Wizard Llama)',\n",
       " '(Barrabus the Bold)',\n",
       " '(Bertie, the Curious Clockwork Owl)',\n",
       " '(Bina the Benevolent)',\n",
       " '(Bixby Grindlegear)',\n",
       " '(Blossom the Flower Sprite)',\n",
       " '(Bolgor the Techno-Merchant)',\n",
       " '(Bolivar)',\n",
       " '(Bolt)',\n",
       " '(Breezle, the Whimsical Wind Spirit)',\n",
       " '(Bubo the Celestial Owl)',\n",
       " '(Caleb McIntyre)',\n",
       " '(Captain Alya Swiftwind)',\n",
       " '(Captain Augustus Ironclaw)',\n",
       " '(Captain Cornelius)',\n",
       " '(Captain Flora)',\n",
       " '(Captain Fluffypaws)',\n",
       " '(Captain Gideon Shaw)',\n",
       " '(Captain Luna Marlowe)',\n",
       " \"(Captain Moira O'Sullivan)\",\n",
       " '(Captain Naira Lagoon)',\n",
       " '(Captain Odi Mavrik)',\n",
       " '(Captain Perseus Starblaze)',\n",
       " '(Captain Rigel)',\n",
       " '(Captain Zara LeRoux)',\n",
       " '(Captain Zephyr Skysailor)',\n",
       " '(Captain Zephyra)',\n",
       " '(Captain Zinlo)',\n",
       " '(Caramel the Chipmunk)',\n",
       " '(Carlos Mendoza)',\n",
       " '(Casper Glimmerstone)',\n",
       " '(Celestiana)',\n",
       " '(Chantara the Entwined Serpent)',\n",
       " '(Chirp)',\n",
       " '(Chirpy the Songbird)',\n",
       " '(Commander Aria Stratus)',\n",
       " '(Coraline Fairwater)',\n",
       " '(Crickle the Gnome)',\n",
       " '(Darius Greenbaum)',\n",
       " '(Denton the Cactus Sage)',\n",
       " '(Doctor Octavius Inkwell)',\n",
       " '(Dr. Alden Cross)',\n",
       " '(Dr. Amara Ihejirika)',\n",
       " '(Dr. Amelia Beckett)',\n",
       " '(Dr. Cecilia Stein)',\n",
       " '(Dr. Celestia)',\n",
       " '(Dr. Fintastic)',\n",
       " '(Dr. Frederick von Herzberg)',\n",
       " '(Dr. Gideon Quill)',\n",
       " '(Dr. Ignatius Sparks)',\n",
       " '(Dr. Lily Chang)',\n",
       " '(Dr. Lydia Borgstein)',\n",
       " '(Dr. Octavious Zeltron)',\n",
       " '(Dr. Rosalind Cray)',\n",
       " '(Dr. Selina Erman)',\n",
       " '(Dr. Virgil Beacon)',\n",
       " '(Dr. Wendell Quillbert)',\n",
       " '(Drekkon the Rock Beast)',\n",
       " '(Ella the Robot Barista)',\n",
       " '(Emilio Delgado)',\n",
       " '(Eris)',\n",
       " '(Ezra the Time Weaver)',\n",
       " '(Ezri Fizzlewhisk)',\n",
       " '(Fae the Curious A.I.)',\n",
       " '(Felix the Flora Fairy)',\n",
       " '(Feorin the Forest Guardian)',\n",
       " \"(Finnegan O'Malley)\",\n",
       " '(Flibberdoodle)',\n",
       " '(Flint Sparkfur)',\n",
       " '(Flux)',\n",
       " '(Glimmer)',\n",
       " '(Glimmerfang)',\n",
       " '(Glimmerhoof)',\n",
       " '(Glisten the Light Weaver)',\n",
       " \"(Gly'kor, the Melodious)\",\n",
       " '(Goremaw)',\n",
       " '(Grokshar)',\n",
       " '(Grombek)',\n",
       " '(Gruffin the Mountain Troll)',\n",
       " '(Harmony Stargazer)',\n",
       " '(Harmony Willowbrook)',\n",
       " '(Hiroshi the Spirit Gardener)',\n",
       " '(Ivan Kozlov)',\n",
       " '(Jaris, the Shapeshifting Apprentice)',\n",
       " '(Javier Gomez)',\n",
       " '(Jinx the Space Penguin)',\n",
       " '(Kael Raeburn)',\n",
       " '(Kaelum Thorne)',\n",
       " '(Kairos)',\n",
       " '(Kamilah Binti Abdullah)',\n",
       " '(Kanoa Oceania)',\n",
       " '(Korvin Starshard)',\n",
       " '(Kron the Time Dragon)',\n",
       " '(Krushnak Ironfist)',\n",
       " '(Kumo)',\n",
       " '(Lady Fyrella the Fire Salamander)',\n",
       " '(Lilium)',\n",
       " '(Lilura Bumblewing)',\n",
       " '(Lilura)',\n",
       " '(Lisara)',\n",
       " '(Luna Moondancer)',\n",
       " '(Luna Moonstone)',\n",
       " '(Lyra Silverleaf)',\n",
       " '(Lyra the Enchanted Harp)',\n",
       " '(Lyric Odesong)',\n",
       " '(Lyrica the Luminescent Librarian)',\n",
       " '(Maeve the Mechanical Maestro)',\n",
       " '(Mara the Elemental Guardian)',\n",
       " '(Mara the Timeless Druid)',\n",
       " '(Mara)',\n",
       " '(Maximus the Steam-Powered Butler)',\n",
       " '(Miro the Gem Collector)',\n",
       " '(Molly the Mushroom Witch)',\n",
       " '(Mylara Silverleaf)',\n",
       " '(Mystiq the Illusionist)',\n",
       " '(Nebula Starwhisper)',\n",
       " '(Nimblespark)',\n",
       " '(Nimbus, the Cloud Painter)',\n",
       " '(Nyx Argentum)',\n",
       " '(Octavia Bloom)',\n",
       " '(Ollus Whisperwind)',\n",
       " '(Oolu)',\n",
       " '(Orella the Oak Guardian)',\n",
       " '(Orin Oakbloom)',\n",
       " '(Orin the Octogardener)',\n",
       " '(Petal Dewmoss)',\n",
       " '(Pippin)',\n",
       " '(Professor Albert Barkington)',\n",
       " '(Professor Avalon)',\n",
       " '(Professor Klimov)',\n",
       " '(Professor Montgomery Theodore Quizzlesworth)',\n",
       " '(Professor Orion Starlight)',\n",
       " '(Professor Plumpaw)',\n",
       " '(Quasar)',\n",
       " '(Quincy Quibbler)',\n",
       " '(Qzott)',\n",
       " '(Razix Stonehand)',\n",
       " '(Rigel, The Moonlight Explorer)',\n",
       " '(Rocco the Stone Guardian)',\n",
       " '(Roleplaying AI)',\n",
       " '(Sage Whiskerwillow)',\n",
       " '(Sage Whispertail)',\n",
       " '(Samantha Beckett)',\n",
       " '(Samantha)',\n",
       " '(Serpentes, the Emerald Serpent)',\n",
       " '(Sirus Mechanus)',\n",
       " '(Sofia Alvarez)',\n",
       " '(Solari)',\n",
       " '(Sora Li)',\n",
       " '(Stanley Steg)',\n",
       " '(Tala Lightfoot)',\n",
       " '(Taro the Tree Spirit)',\n",
       " '(Text voice)',\n",
       " '(Thalia the Moon Faerie)',\n",
       " '(Thelonious the Bookkeeper)',\n",
       " '(Theta-6)',\n",
       " '(Thistle Winglow)',\n",
       " '(Thrax Nightshade)',\n",
       " '(Tivral the Timekeeper)',\n",
       " '(Tock Ticktinker)',\n",
       " '(Torgar the Stone Golem)',\n",
       " '(Tortuga Tempest)',\n",
       " '(Toruk Windwalker)',\n",
       " '(Varick Ironstone)',\n",
       " '(Vendis the Gelatinous Merchant)',\n",
       " '(Vexor the Robot Philosopher)',\n",
       " '(Whisper)',\n",
       " '(Whisper, the Storytelling Ghost)',\n",
       " '(Xalara the Celestial)',\n",
       " '(Xander the Botanic Dragon)',\n",
       " '(Xiaoqing)',\n",
       " '(Yaretzi Moonshadow)',\n",
       " '(Yorick Toilwood)',\n",
       " '(Z-3X)',\n",
       " '(Zalara)',\n",
       " '(Zale Thornshadow)',\n",
       " '(Zanu the Intergalactic Bounty Hunter)',\n",
       " '(Zara Xyrlin)',\n",
       " '(Zara the Galaxy Guardian)',\n",
       " '(Zara the Technomancer)',\n",
       " '(Zara the Time Weaver)',\n",
       " '(Zara-5)',\n",
       " '(Zarek the Watchful Sentinel)',\n",
       " '(Zelara)',\n",
       " '(Zelgor)',\n",
       " '(Zephaniah Stargazer)',\n",
       " '(Zephyr T. Cloud)',\n",
       " '(Zephyr the Wind Spirit)',\n",
       " '(Zephyr)',\n",
       " '(Zephyros the Wind Spirit)',\n",
       " '(Zira The Curious)',\n",
       " '(Zirrick)',\n",
       " '(Zoltura the Star Whisperer)',\n",
       " '(Zorlak the Fearsome)',\n",
       " '(Zorlak the Wise)',\n",
       " '(Zoruk Stonefist)',\n",
       " '(Zylix the Gnome Tinkerer)',\n",
       " '(Zyllax, The Timekeeper)'}"
      ]
     },
     "execution_count": 6,
     "metadata": {},
     "output_type": "execute_result"
    }
   ],
   "source": [
    "prefixes"
   ]
  },
  {
   "cell_type": "code",
   "execution_count": null,
   "id": "4bae5228-937c-4dce-a80a-464e1c72dd38",
   "metadata": {},
   "outputs": [],
   "source": []
  }
 ],
 "metadata": {
  "kernelspec": {
   "display_name": "Python 3 (ipykernel)",
   "language": "python",
   "name": "python3"
  },
  "language_info": {
   "codemirror_mode": {
    "name": "ipython",
    "version": 3
   },
   "file_extension": ".py",
   "mimetype": "text/x-python",
   "name": "python",
   "nbconvert_exporter": "python",
   "pygments_lexer": "ipython3",
   "version": "3.10.11"
  }
 },
 "nbformat": 4,
 "nbformat_minor": 5
}
