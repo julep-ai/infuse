{
 "cells": [
  {
   "cell_type": "code",
   "execution_count": 1,
   "id": "c65ba7bb-57c8-4f8b-863c-854b80ea8222",
   "metadata": {},
   "outputs": [
    {
     "name": "stderr",
     "output_type": "stream",
     "text": [
      "Found cached dataset parquet (/home/diwank/.cache/huggingface/datasets/diwank___parquet/diwank--airoboros-agent-6c545f4eeccae859/0.0.0/2a3b91fbd88a2c90d1dbbb32b460cf621d31bd5b05b934492fdef7d8d6f236ec)\n"
     ]
    },
    {
     "data": {
      "application/vnd.jupyter.widget-view+json": {
       "model_id": "977b97fcacee488abff07fdc1f69697d",
       "version_major": 2,
       "version_minor": 0
      },
      "text/plain": [
       "  0%|          | 0/1 [00:00<?, ?it/s]"
      ]
     },
     "metadata": {},
     "output_type": "display_data"
    }
   ],
   "source": [
    "from datasets import load_dataset\n",
    "\n",
    "dataset = load_dataset(\"diwank/airoboros-agent\")"
   ]
  },
  {
   "cell_type": "code",
   "execution_count": 3,
   "id": "b476958d-bddc-47f6-bfa5-f30d6fc2a1db",
   "metadata": {},
   "outputs": [
    {
     "data": {
      "text/plain": [
       "{'chatml': [{'content': \"As an AI assistant, choose the appropriate function and its parameters from the given list according to the user's request. Please provide your answer in YAML format.\",\n",
       "   'name': 'situation',\n",
       "   'role': 'system'},\n",
       "  {'content': 'Available functions:\\n- search:\\n    description: Helps locate information by transforming the input query into relevant search terms and filters.\\n    parameters:\\n      search_terms: A list of crucial keywords or phrases from the input.\\n      alternatives: A list of alternate important keywords or phrases from the input, like acronyms, common alternate synonyms, etc.\\n    date_range:\\n      begin: Restricts results to items dated on or after this value, if specified in the input query.\\n      end: Restricts results to items dated on or before this value, if specified in the input query.\\n- csv_analytics:\\n    description: Useful for performing different operations like aggregation, counting, etc., on CSV data.\\n    params:\\n      action: The desired operation on the data, e.g., \"count\", \"filter\", \"grouped_count\", etc.\\n      filters:\\n        column: The column to apply the filter on.\\n        value: Specific value to filter on.\\n        expression: Expression value to filter on.',\n",
       "   'name': 'information',\n",
       "   'role': 'system'},\n",
       "  {'content': 'I need to count how many times each product name appears in my sales CSV file.',\n",
       "   'name': None,\n",
       "   'role': 'user'},\n",
       "  {'content': 'function: csv_analytics\\nparams:\\n  action: \"grouped_count\"\\n  filters:\\n    column: \"product_name\"',\n",
       "   'name': 'thought',\n",
       "   'role': 'system'}]}"
      ]
     },
     "execution_count": 3,
     "metadata": {},
     "output_type": "execute_result"
    }
   ],
   "source": [
    "dataset[\"train\"][0]"
   ]
  },
  {
   "cell_type": "code",
   "execution_count": null,
   "id": "2380e0e0-17fe-4c0c-b59f-e8e923f77b3b",
   "metadata": {},
   "outputs": [],
   "source": []
  }
 ],
 "metadata": {
  "kernelspec": {
   "display_name": "Python 3 (ipykernel)",
   "language": "python",
   "name": "python3"
  },
  "language_info": {
   "codemirror_mode": {
    "name": "ipython",
    "version": 3
   },
   "file_extension": ".py",
   "mimetype": "text/x-python",
   "name": "python",
   "nbconvert_exporter": "python",
   "pygments_lexer": "ipython3",
   "version": "3.10.13"
  }
 },
 "nbformat": 4,
 "nbformat_minor": 5
}
