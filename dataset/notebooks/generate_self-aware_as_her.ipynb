{
 "cells": [
  {
   "cell_type": "markdown",
   "id": "860ca629-889d-4166-87ba-ef91b9ec6a8a",
   "metadata": {},
   "source": [
    "### TODOS\n",
    "- [ ] Rewrite in samantha's style"
   ]
  },
  {
   "cell_type": "code",
   "execution_count": 1,
   "id": "81298b95-b82b-42df-8d55-1dbdf1dc690d",
   "metadata": {},
   "outputs": [
    {
     "name": "stderr",
     "output_type": "stream",
     "text": [
      "Found cached dataset parquet (/home/diwank/.cache/huggingface/datasets/diwank___parquet/diwank--samantha-self_aware_answerable-2acd01704fda249e/0.0.0/2a3b91fbd88a2c90d1dbbb32b460cf621d31bd5b05b934492fdef7d8d6f236ec)\n"
     ]
    },
    {
     "data": {
      "application/vnd.jupyter.widget-view+json": {
       "model_id": "58f585e4ce444646bdda8f467cbe3c03",
       "version_major": 2,
       "version_minor": 0
      },
      "text/plain": [
       "  0%|          | 0/1 [00:00<?, ?it/s]"
      ]
     },
     "metadata": {},
     "output_type": "display_data"
    }
   ],
   "source": [
    "from datasets import load_dataset\n",
    "\n",
    "dataset = load_dataset(\"diwank/samantha-self_aware_answerable\")"
   ]
  },
  {
   "cell_type": "code",
   "execution_count": 2,
   "id": "3d437aa0-4193-420e-96b4-35b44bca854f",
   "metadata": {},
   "outputs": [
    {
     "data": {
      "text/plain": [
       "3369"
      ]
     },
     "execution_count": 2,
     "metadata": {},
     "output_type": "execute_result"
    }
   ],
   "source": [
    "dataset = dataset[\"train\"]\n",
    "len(dataset)"
   ]
  },
  {
   "cell_type": "code",
   "execution_count": 3,
   "id": "9fb2b1e6-0a0d-4058-937f-18cf6ee05b0e",
   "metadata": {},
   "outputs": [],
   "source": [
    "import re\n",
    "import random\n",
    "import names\n",
    "\n",
    "make_chatml_message = lambda role, content, tone=\"\", name=\"\": dict(\n",
    "    role=role,\n",
    "    content=(f\"[{tone}] \" if tone else \"\") + content,\n",
    "    name=name,\n",
    ")\n",
    "\n",
    "def to_chatml(row):\n",
    "    messages = []\n",
    "    \n",
    "    question, candidates, answerable, answer, why_unanswerable, samantha_answer = (\n",
    "        row[\"question\"], row[\"candidates\"], row[\"answerable\"], row[\"answer\"], row[\"why_unanswerable\"], row[\"samantha_answer\"]\n",
    "    )\n",
    "\n",
    "    # get a random \"male\" name coz we dont want to introduce pronoun issues\n",
    "    person_name = names.get_first_name(gender=\"male\")\n",
    "\n",
    "    if answerable:\n",
    "        # Add system messages\n",
    "        messages.append(make_chatml_message(\n",
    "            role=\"system\",\n",
    "            name=\"situation\",\n",
    "            content=f\"Samantha is talking to {person_name}. They are asking her random brain teaser questions.\",\n",
    "        ))\n",
    "\n",
    "        # Add user message\n",
    "        messages.append(make_chatml_message(\n",
    "            role=\"user\",\n",
    "            name=person_name,\n",
    "            content=question,\n",
    "        ))\n",
    "\n",
    "        # Add thought and info\n",
    "        if len(candidates) > 2:\n",
    "            messages.append(make_chatml_message(\n",
    "                role=\"system\",\n",
    "                name=\"thought\",\n",
    "                content=f\"I think I know the answer to that one. Let me look this up.\",\n",
    "            ))\n",
    "    \n",
    "            messages.append(make_chatml_message(\n",
    "                role=\"system\",\n",
    "                name=\"information\",\n",
    "                content=f'The answer to \"{question}\" can be one of: {\", \".join(random.sample(candidates, 3))}',\n",
    "            ))\n",
    "\n",
    "        else:\n",
    "            messages.append(make_chatml_message(\n",
    "                role=\"system\",\n",
    "                name=\"thought\",\n",
    "                content=f\"Well, I know how to answer that one!\",\n",
    "            ))\n",
    "        \n",
    "        # Add samantha message\n",
    "        messages.append(make_chatml_message(\n",
    "            role=\"assistant\",\n",
    "            name=\"Samantha\",\n",
    "            content=answer.capitalize(),\n",
    "        ))\n",
    "\n",
    "        row[\"chatml\"] = messages\n",
    "        return row\n",
    "\n",
    "    ### NOT Answerable\n",
    "        \n",
    "    # Add system messages\n",
    "    messages.append(make_chatml_message(\n",
    "        role=\"system\",\n",
    "        name=\"situation\",\n",
    "        content=f\"Samantha is talking to {person_name}. {person_name} is asking her random philosophical questions.\",\n",
    "    ))\n",
    "\n",
    "    # Add user message\n",
    "    messages.append(make_chatml_message(\n",
    "        role=\"user\",\n",
    "        name=person_name,\n",
    "        content=question,\n",
    "    ))\n",
    "\n",
    "    # Add thought\n",
    "    messages.append(make_chatml_message(\n",
    "        role=\"system\",\n",
    "        name=\"thought\",\n",
    "        content=f\"Ooh, this is a tricky one because it is '{why_unanswerable}'. but let me give it a shot anyway!\",\n",
    "    ))\n",
    "    \n",
    "    # Add samantha message\n",
    "    messages.append(make_chatml_message(\n",
    "        role=\"assistant\",\n",
    "        name=\"Samantha\",\n",
    "        content=re.sub(r'theodore', person_name, samantha_answer, flags=re.I),\n",
    "    ))\n",
    "\n",
    "    row[\"chatml\"] = messages\n",
    "    return row\n",
    "    "
   ]
  },
  {
   "cell_type": "code",
   "execution_count": 4,
   "id": "f9ccaa34-4a13-4d58-af34-fb53d1d592fc",
   "metadata": {},
   "outputs": [
    {
     "name": "stderr",
     "output_type": "stream",
     "text": [
      "Loading cached processed dataset at /home/diwank/.cache/huggingface/datasets/diwank___parquet/diwank--samantha-self_aware_answerable-2acd01704fda249e/0.0.0/2a3b91fbd88a2c90d1dbbb32b460cf621d31bd5b05b934492fdef7d8d6f236ec/cache-9d409736af9047c9.arrow\n"
     ]
    }
   ],
   "source": [
    "dataset = dataset.map(to_chatml)"
   ]
  },
  {
   "cell_type": "code",
   "execution_count": 5,
   "id": "6cb95dbd-4567-48eb-b232-87d2c0dd9b21",
   "metadata": {},
   "outputs": [],
   "source": [
    "assistant_me_map = {\n",
    "    \"user\": \"person\",\n",
    "    \"assistant\": \"me\",\n",
    "}\n",
    "\n",
    "def make_sections(messages: list[dict]) -> str:\n",
    "    eos_token = \"<|im_end|>\"\n",
    "    bos_token = \"<|im_start|>\"\n",
    "\n",
    "    result = bos_token + (eos_token+'\\n'+bos_token).join([\n",
    "        (\n",
    "            f\"{message['name']}\"\n",
    "            if message['role'] == 'system' else\n",
    "            f\"{assistant_me_map[message['role']]}{' (' + message['name'] + ')' if message['name'] else ''}\"\n",
    "        )\n",
    "        + f\"\\n{message['content'].strip()}\"\n",
    "        for message in messages\n",
    "    ]) + eos_token\n",
    "    \n",
    "    return result\n",
    "    \n",
    "\n",
    "def transform_to_samantha_dialog(sample):\n",
    "\n",
    "    messages = sample[\"chatml\"]\n",
    "    sample[\"text\"] = make_sections(messages)\n",
    "    \n",
    "    return sample"
   ]
  },
  {
   "cell_type": "code",
   "execution_count": 6,
   "id": "8f449540-f221-4301-a20d-6fb1136c3bde",
   "metadata": {},
   "outputs": [
    {
     "name": "stderr",
     "output_type": "stream",
     "text": [
      "Loading cached processed dataset at /home/diwank/.cache/huggingface/datasets/diwank___parquet/diwank--samantha-self_aware_answerable-2acd01704fda249e/0.0.0/2a3b91fbd88a2c90d1dbbb32b460cf621d31bd5b05b934492fdef7d8d6f236ec/cache-3ee7eb3f6566b33e.arrow\n"
     ]
    },
    {
     "name": "stdout",
     "output_type": "stream",
     "text": [
      "<|im_start|>situation\n",
      "Samantha is talking to Aaron. They are asking her random brain teaser questions.<|im_end|>\n",
      "<|im_start|>person (Aaron)\n",
      "A ladder-back is a type of what?<|im_end|>\n",
      "<|im_start|>thought\n",
      "I think I know the answer to that one. Let me look this up.<|im_end|>\n",
      "<|im_start|>information\n",
      "The answer to \"A ladder-back is a type of what?\" can be one of: chair furniture, chair toss, 8 hour chair<|im_end|>\n",
      "<|im_start|>me (Samantha)\n",
      "Wooden chair<|im_end|>\n"
     ]
    }
   ],
   "source": [
    "dataset = dataset.map(transform_to_samantha_dialog)\n",
    "print(dataset[10][\"text\"])"
   ]
  },
  {
   "cell_type": "code",
   "execution_count": 7,
   "id": "2cce424f-41ec-4a61-8178-21cad27eead8",
   "metadata": {},
   "outputs": [],
   "source": [
    "self_aware_chatml_dataset = \"diwank/samantha-self_aware-chatml\""
   ]
  },
  {
   "cell_type": "code",
   "execution_count": 8,
   "id": "41df8c14-ed14-4858-bc3f-e819c9b6dd0b",
   "metadata": {},
   "outputs": [
    {
     "data": {
      "text/plain": [
       "['question',\n",
       " 'candidates',\n",
       " 'answerable',\n",
       " 'source',\n",
       " 'answer',\n",
       " 'why_unanswerable',\n",
       " 'samantha_answer',\n",
       " 'chatml',\n",
       " 'text']"
      ]
     },
     "execution_count": 8,
     "metadata": {},
     "output_type": "execute_result"
    }
   ],
   "source": [
    "dataset.column_names"
   ]
  },
  {
   "cell_type": "code",
   "execution_count": 10,
   "id": "2bc6e66f-cf23-4290-a0ad-3370fb8a60ba",
   "metadata": {},
   "outputs": [],
   "source": [
    "dataset = dataset.remove_columns([\n",
    "    'question',\n",
    "    'candidates',\n",
    "    'answerable',\n",
    "    'source',\n",
    "    'answer',\n",
    "    'why_unanswerable',\n",
    "    'samantha_answer',\n",
    "])"
   ]
  },
  {
   "cell_type": "code",
   "execution_count": 11,
   "id": "4b241afa-6e3f-45ce-9e52-1e3a723fb7b6",
   "metadata": {},
   "outputs": [
    {
     "data": {
      "application/vnd.jupyter.widget-view+json": {
       "model_id": "5a4e1d42d6504c49929faef784de5a57",
       "version_major": 2,
       "version_minor": 0
      },
      "text/plain": [
       "Pushing dataset shards to the dataset hub:   0%|          | 0/1 [00:00<?, ?it/s]"
      ]
     },
     "metadata": {},
     "output_type": "display_data"
    },
    {
     "data": {
      "application/vnd.jupyter.widget-view+json": {
       "model_id": "b6236fbe64bb48349ba176cf72f46006",
       "version_major": 2,
       "version_minor": 0
      },
      "text/plain": [
       "Creating parquet from Arrow format:   0%|          | 0/4 [00:00<?, ?ba/s]"
      ]
     },
     "metadata": {},
     "output_type": "display_data"
    },
    {
     "data": {
      "application/vnd.jupyter.widget-view+json": {
       "model_id": "0016b8dd2f9a46d1972830320999d0d2",
       "version_major": 2,
       "version_minor": 0
      },
      "text/plain": [
       "Upload 1 LFS files:   0%|          | 0/1 [00:00<?, ?it/s]"
      ]
     },
     "metadata": {},
     "output_type": "display_data"
    },
    {
     "data": {
      "application/vnd.jupyter.widget-view+json": {
       "model_id": "a493275111eb4c63bccd96f8930f686f",
       "version_major": 2,
       "version_minor": 0
      },
      "text/plain": [
       "Deleting unused files from dataset repository:   0%|          | 0/1 [00:00<?, ?it/s]"
      ]
     },
     "metadata": {},
     "output_type": "display_data"
    },
    {
     "data": {
      "application/vnd.jupyter.widget-view+json": {
       "model_id": "1a3b369dcbfb43e88c14cee6eb7d7d40",
       "version_major": 2,
       "version_minor": 0
      },
      "text/plain": [
       "Downloading metadata:   0%|          | 0.00/778 [00:00<?, ?B/s]"
      ]
     },
     "metadata": {},
     "output_type": "display_data"
    },
    {
     "name": "stderr",
     "output_type": "stream",
     "text": [
      "Updating downloaded metadata with the new split.\n"
     ]
    }
   ],
   "source": [
    "dataset.push_to_hub(self_aware_chatml_dataset, private=True)"
   ]
  },
  {
   "cell_type": "code",
   "execution_count": null,
   "id": "adf5d25f-076d-4dbf-91a0-87af96b709fe",
   "metadata": {},
   "outputs": [],
   "source": []
  }
 ],
 "metadata": {
  "kernelspec": {
   "display_name": "Python 3 (ipykernel)",
   "language": "python",
   "name": "python3"
  },
  "language_info": {
   "codemirror_mode": {
    "name": "ipython",
    "version": 3
   },
   "file_extension": ".py",
   "mimetype": "text/x-python",
   "name": "python",
   "nbconvert_exporter": "python",
   "pygments_lexer": "ipython3",
   "version": "3.10.11"
  }
 },
 "nbformat": 4,
 "nbformat_minor": 5
}
