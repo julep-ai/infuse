{
 "cells": [
  {
   "cell_type": "code",
   "execution_count": 1,
   "id": "0f233de9-6398-48a0-9f89-b09c3b4e6390",
   "metadata": {
    "tags": []
   },
   "outputs": [
    {
     "name": "stdout",
     "output_type": "stream",
     "text": [
      "Using version \u001b[39;1m^0.7.2\u001b[39;22m for \u001b[36mpycozo\u001b[39m\n",
      "\n",
      "\u001b[34mUpdating dependencies\u001b[39m\n",
      "\u001b[2K\u001b[34mResolving dependencies...\u001b[39m \u001b[39;2m(8.9s)\u001b[39;22ms://files.pythonhosted.org/packages/42/a0/877b5270e7c14e489c80e8d024db47c6c5f223af0026b9ce91addaf65b36/cozo_embedded-0.7.2-cp37-abi3-macosx_10_14_x86_64.whl  99%\u001b[39m \u001b[39;2m(8.5s)\u001b[39;22m\n",
      "\n",
      "\u001b[39;1mPackage operations\u001b[39;22m: \u001b[34m2\u001b[39m installs, \u001b[34m0\u001b[39m updates, \u001b[34m0\u001b[39m removals\n",
      "\n",
      "  \u001b[34;1m•\u001b[39;22m \u001b[39mInstalling \u001b[39m\u001b[36mcozo-embedded\u001b[39m\u001b[39m (\u001b[39m\u001b[39;1m0.7.2\u001b[39;22m\u001b[39m)\u001b[39m: \u001b[34mPending...\u001b[39m\n",
      "\u001b[1A\u001b[0J  \u001b[34;1m•\u001b[39;22m \u001b[39mInstalling \u001b[39m\u001b[36mcozo-embedded\u001b[39m\u001b[39m (\u001b[39m\u001b[39;1m0.7.2\u001b[39;22m\u001b[39m)\u001b[39m: \u001b[34mDownloading...\u001b[39m \u001b[39;1m0%\u001b[39;22m\n",
      "\u001b[1A\u001b[0J  \u001b[34;1m•\u001b[39;22m \u001b[39mInstalling \u001b[39m\u001b[36mcozo-embedded\u001b[39m\u001b[39m (\u001b[39m\u001b[39;1m0.7.2\u001b[39;22m\u001b[39m)\u001b[39m: \u001b[34mDownloading...\u001b[39m \u001b[39;1m9%\u001b[39;22m\n",
      "\u001b[1A\u001b[0J  \u001b[34;1m•\u001b[39;22m \u001b[39mInstalling \u001b[39m\u001b[36mcozo-embedded\u001b[39m\u001b[39m (\u001b[39m\u001b[39;1m0.7.2\u001b[39;22m\u001b[39m)\u001b[39m: \u001b[34mDownloading...\u001b[39m \u001b[39;1m20%\u001b[39;22m\n",
      "\u001b[1A\u001b[0J  \u001b[34;1m•\u001b[39;22m \u001b[39mInstalling \u001b[39m\u001b[36mcozo-embedded\u001b[39m\u001b[39m (\u001b[39m\u001b[39;1m0.7.2\u001b[39;22m\u001b[39m)\u001b[39m: \u001b[34mDownloading...\u001b[39m \u001b[39;1m30%\u001b[39;22m\n",
      "\u001b[1A\u001b[0J  \u001b[34;1m•\u001b[39;22m \u001b[39mInstalling \u001b[39m\u001b[36mcozo-embedded\u001b[39m\u001b[39m (\u001b[39m\u001b[39;1m0.7.2\u001b[39;22m\u001b[39m)\u001b[39m: \u001b[34mDownloading...\u001b[39m \u001b[39;1m40%\u001b[39;22m\n",
      "\u001b[1A\u001b[0J  \u001b[34;1m•\u001b[39;22m \u001b[39mInstalling \u001b[39m\u001b[36mcozo-embedded\u001b[39m\u001b[39m (\u001b[39m\u001b[39;1m0.7.2\u001b[39;22m\u001b[39m)\u001b[39m: \u001b[34mDownloading...\u001b[39m \u001b[39;1m50%\u001b[39;22m\n",
      "\u001b[1A\u001b[0J  \u001b[34;1m•\u001b[39;22m \u001b[39mInstalling \u001b[39m\u001b[36mcozo-embedded\u001b[39m\u001b[39m (\u001b[39m\u001b[39;1m0.7.2\u001b[39;22m\u001b[39m)\u001b[39m: \u001b[34mDownloading...\u001b[39m \u001b[39;1m60%\u001b[39;22m\n",
      "\u001b[1A\u001b[0J  \u001b[34;1m•\u001b[39;22m \u001b[39mInstalling \u001b[39m\u001b[36mcozo-embedded\u001b[39m\u001b[39m (\u001b[39m\u001b[39;1m0.7.2\u001b[39;22m\u001b[39m)\u001b[39m: \u001b[34mDownloading...\u001b[39m \u001b[39;1m70%\u001b[39;22m\n",
      "\u001b[1A\u001b[0J  \u001b[34;1m•\u001b[39;22m \u001b[39mInstalling \u001b[39m\u001b[36mcozo-embedded\u001b[39m\u001b[39m (\u001b[39m\u001b[39;1m0.7.2\u001b[39;22m\u001b[39m)\u001b[39m: \u001b[34mDownloading...\u001b[39m \u001b[39;1m79%\u001b[39;22m\n",
      "\u001b[1A\u001b[0J  \u001b[34;1m•\u001b[39;22m \u001b[39mInstalling \u001b[39m\u001b[36mcozo-embedded\u001b[39m\u001b[39m (\u001b[39m\u001b[39;1m0.7.2\u001b[39;22m\u001b[39m)\u001b[39m: \u001b[34mDownloading...\u001b[39m \u001b[39;1m90%\u001b[39;22m\n",
      "\u001b[1A\u001b[0J  \u001b[34;1m•\u001b[39;22m \u001b[39mInstalling \u001b[39m\u001b[36mcozo-embedded\u001b[39m\u001b[39m (\u001b[39m\u001b[39;1m0.7.2\u001b[39;22m\u001b[39m)\u001b[39m: \u001b[34mDownloading...\u001b[39m \u001b[39;1m100%\u001b[39;22m\n",
      "\u001b[1A\u001b[0J  \u001b[34;1m•\u001b[39;22m \u001b[39mInstalling \u001b[39m\u001b[36mcozo-embedded\u001b[39m\u001b[39m (\u001b[39m\u001b[39;1m0.7.2\u001b[39;22m\u001b[39m)\u001b[39m: \u001b[34mInstalling...\u001b[39m\n",
      "\u001b[1A\u001b[0J  \u001b[32;1m•\u001b[39;22m \u001b[39mInstalling \u001b[39m\u001b[36mcozo-embedded\u001b[39m\u001b[39m (\u001b[39m\u001b[32m0.7.2\u001b[39m\u001b[39m)\u001b[39m\n",
      "  \u001b[34;1m•\u001b[39;22m \u001b[39mInstalling \u001b[39m\u001b[36mpycozo\u001b[39m\u001b[39m (\u001b[39m\u001b[39;1m0.7.2\u001b[39;22m\u001b[39m)\u001b[39m: \u001b[34mPending...\u001b[39m\n",
      "\u001b[1A\u001b[0J  \u001b[34;1m•\u001b[39;22m \u001b[39mInstalling \u001b[39m\u001b[36mpycozo\u001b[39m\u001b[39m (\u001b[39m\u001b[39;1m0.7.2\u001b[39;22m\u001b[39m)\u001b[39m: \u001b[34mDownloading...\u001b[39m \u001b[39;1m0%\u001b[39;22m\n",
      "\u001b[1A\u001b[0J  \u001b[34;1m•\u001b[39;22m \u001b[39mInstalling \u001b[39m\u001b[36mpycozo\u001b[39m\u001b[39m (\u001b[39m\u001b[39;1m0.7.2\u001b[39;22m\u001b[39m)\u001b[39m: \u001b[34mDownloading...\u001b[39m \u001b[39;1m100%\u001b[39;22m\n",
      "\u001b[1A\u001b[0J  \u001b[34;1m•\u001b[39;22m \u001b[39mInstalling \u001b[39m\u001b[36mpycozo\u001b[39m\u001b[39m (\u001b[39m\u001b[39;1m0.7.2\u001b[39;22m\u001b[39m)\u001b[39m: \u001b[34mInstalling...\u001b[39m\n",
      "\u001b[1A\u001b[0J  \u001b[32;1m•\u001b[39;22m \u001b[39mInstalling \u001b[39m\u001b[36mpycozo\u001b[39m\u001b[39m (\u001b[39m\u001b[32m0.7.2\u001b[39m\u001b[39m)\u001b[39m\n",
      "\n",
      "\u001b[34mWriting lock file\u001b[39m\n"
     ]
    }
   ],
   "source": [
    "!poetry add \"pycozo[embedded,requests,pandas]\""
   ]
  },
  {
   "cell_type": "code",
   "execution_count": 2,
   "id": "75bd5038-8baf-4e21-81dc-2069ec3a346d",
   "metadata": {
    "tags": []
   },
   "outputs": [],
   "source": [
    "%load_ext pycozo.ipyext_direct"
   ]
  },
  {
   "cell_type": "code",
   "execution_count": 3,
   "id": "8c6a19cd-b8fe-4c0f-bcd1-92d9431b9fbb",
   "metadata": {
    "tags": []
   },
   "outputs": [
    {
     "data": {
      "text/html": [
       "<style type=\"text/css\">\n",
       "#T_13199_row0_col0, #T_13199_row0_col1, #T_13199_row0_col2 {\n",
       "  color: black;\n",
       "}\n",
       "</style>\n",
       "<table id=\"T_13199\">\n",
       "  <thead>\n",
       "    <tr>\n",
       "      <th class=\"blank level0\" >&nbsp;</th>\n",
       "      <th id=\"T_13199_level0_col0\" class=\"col_heading level0 col0\" >_0</th>\n",
       "      <th id=\"T_13199_level0_col1\" class=\"col_heading level0 col1\" >_1</th>\n",
       "      <th id=\"T_13199_level0_col2\" class=\"col_heading level0 col2\" >_2</th>\n",
       "    </tr>\n",
       "  </thead>\n",
       "  <tbody>\n",
       "    <tr>\n",
       "      <th id=\"T_13199_level0_row0\" class=\"row_heading level0 row0\" >0</th>\n",
       "      <td id=\"T_13199_row0_col0\" class=\"data row0 col0\" >hello</td>\n",
       "      <td id=\"T_13199_row0_col1\" class=\"data row0 col1\" >world</td>\n",
       "      <td id=\"T_13199_row0_col2\" class=\"data row0 col2\" >Cozo!</td>\n",
       "    </tr>\n",
       "  </tbody>\n",
       "</table>\n"
      ],
      "text/plain": [
       "<pandas.io.formats.style.Styler at 0x7f7004a50c40>"
      ]
     },
     "execution_count": 3,
     "metadata": {},
     "output_type": "execute_result"
    }
   ],
   "source": [
    "?[] <- [['hello', 'world', 'Cozo!']]"
   ]
  },
  {
   "cell_type": "code",
   "execution_count": 4,
   "id": "ec9dbe91-af7c-4d98-9716-5e617d4fcb34",
   "metadata": {
    "tags": []
   },
   "outputs": [
    {
     "data": {
      "text/html": [
       "<style type=\"text/css\">\n",
       "#T_5d86a_row0_col0, #T_5d86a_row0_col1, #T_5d86a_row0_col2 {\n",
       "  color: #307fc1;\n",
       "}\n",
       "#T_5d86a_row1_col0, #T_5d86a_row1_col1, #T_5d86a_row1_col2 {\n",
       "  color: black;\n",
       "}\n",
       "</style>\n",
       "<table id=\"T_5d86a\">\n",
       "  <thead>\n",
       "    <tr>\n",
       "      <th class=\"blank level0\" >&nbsp;</th>\n",
       "      <th id=\"T_5d86a_level0_col0\" class=\"col_heading level0 col0\" >_0</th>\n",
       "      <th id=\"T_5d86a_level0_col1\" class=\"col_heading level0 col1\" >_1</th>\n",
       "      <th id=\"T_5d86a_level0_col2\" class=\"col_heading level0 col2\" >_2</th>\n",
       "    </tr>\n",
       "  </thead>\n",
       "  <tbody>\n",
       "    <tr>\n",
       "      <th id=\"T_5d86a_level0_row0\" class=\"row_heading level0 row0\" >0</th>\n",
       "      <td id=\"T_5d86a_row0_col0\" class=\"data row0 col0\" >1</td>\n",
       "      <td id=\"T_5d86a_row0_col1\" class=\"data row0 col1\" >2</td>\n",
       "      <td id=\"T_5d86a_row0_col2\" class=\"data row0 col2\" >3</td>\n",
       "    </tr>\n",
       "    <tr>\n",
       "      <th id=\"T_5d86a_level0_row1\" class=\"row_heading level0 row1\" >1</th>\n",
       "      <td id=\"T_5d86a_row1_col0\" class=\"data row1 col0\" >a</td>\n",
       "      <td id=\"T_5d86a_row1_col1\" class=\"data row1 col1\" >b</td>\n",
       "      <td id=\"T_5d86a_row1_col2\" class=\"data row1 col2\" >c</td>\n",
       "    </tr>\n",
       "  </tbody>\n",
       "</table>\n"
      ],
      "text/plain": [
       "<pandas.io.formats.style.Styler at 0x7f6f67c36f50>"
      ]
     },
     "execution_count": 4,
     "metadata": {},
     "output_type": "execute_result"
    }
   ],
   "source": [
    "?[] <- [[1, 2, 3], ['a', 'b', 'c']]"
   ]
  },
  {
   "cell_type": "code",
   "execution_count": 5,
   "id": "bb4716a1-e37a-4cd5-91cb-81c220f2f3a9",
   "metadata": {
    "tags": []
   },
   "outputs": [
    {
     "data": {
      "text/html": [
       "<style type=\"text/css\">\n",
       "#T_b99d2_row0_col0, #T_b99d2_row0_col1, #T_b99d2_row0_col3, #T_b99d2_row1_col0, #T_b99d2_row1_col1, #T_b99d2_row1_col2, #T_b99d2_row1_col3, #T_b99d2_row1_col4 {\n",
       "  color: #307fc1;\n",
       "}\n",
       "#T_b99d2_row0_col2 {\n",
       "  color: #bf5b3d;\n",
       "}\n",
       "#T_b99d2_row0_col4, #T_b99d2_row2_col0, #T_b99d2_row2_col1, #T_b99d2_row2_col2, #T_b99d2_row2_col3, #T_b99d2_row2_col4 {\n",
       "  color: black;\n",
       "}\n",
       "</style>\n",
       "<table id=\"T_b99d2\">\n",
       "  <thead>\n",
       "    <tr>\n",
       "      <th class=\"blank level0\" >&nbsp;</th>\n",
       "      <th id=\"T_b99d2_level0_col0\" class=\"col_heading level0 col0\" >_0</th>\n",
       "      <th id=\"T_b99d2_level0_col1\" class=\"col_heading level0 col1\" >_1</th>\n",
       "      <th id=\"T_b99d2_level0_col2\" class=\"col_heading level0 col2\" >_2</th>\n",
       "      <th id=\"T_b99d2_level0_col3\" class=\"col_heading level0 col3\" >_3</th>\n",
       "      <th id=\"T_b99d2_level0_col4\" class=\"col_heading level0 col4\" >_4</th>\n",
       "    </tr>\n",
       "  </thead>\n",
       "  <tbody>\n",
       "    <tr>\n",
       "      <th id=\"T_b99d2_level0_row0\" class=\"row_heading level0 row0\" >0</th>\n",
       "      <td id=\"T_b99d2_row0_col0\" class=\"data row0 col0\" >True</td>\n",
       "      <td id=\"T_b99d2_row0_col1\" class=\"data row0 col1\" >False</td>\n",
       "      <td id=\"T_b99d2_row0_col2\" class=\"data row0 col2\" >None</td>\n",
       "      <td id=\"T_b99d2_row0_col3\" class=\"data row0 col3\" >-0.014000</td>\n",
       "      <td id=\"T_b99d2_row0_col4\" class=\"data row0 col4\" >A string with double quotes</td>\n",
       "    </tr>\n",
       "    <tr>\n",
       "      <th id=\"T_b99d2_level0_row1\" class=\"row_heading level0 row1\" >1</th>\n",
       "      <td id=\"T_b99d2_row1_col0\" class=\"data row1 col0\" >1.500000</td>\n",
       "      <td id=\"T_b99d2_row1_col1\" class=\"data row1 col1\" >2.500000</td>\n",
       "      <td id=\"T_b99d2_row1_col2\" class=\"data row1 col2\" >3</td>\n",
       "      <td id=\"T_b99d2_row1_col3\" class=\"data row1 col3\" >4</td>\n",
       "      <td id=\"T_b99d2_row1_col4\" class=\"data row1 col4\" >5.500000</td>\n",
       "    </tr>\n",
       "    <tr>\n",
       "      <th id=\"T_b99d2_level0_row2\" class=\"row_heading level0 row2\" >2</th>\n",
       "      <td id=\"T_b99d2_row2_col0\" class=\"data row2 col0\" >aA</td>\n",
       "      <td id=\"T_b99d2_row2_col1\" class=\"data row2 col1\" >bB</td>\n",
       "      <td id=\"T_b99d2_row2_col2\" class=\"data row2 col2\" >cC</td>\n",
       "      <td id=\"T_b99d2_row2_col3\" class=\"data row2 col3\" >dD</td>\n",
       "      <td id=\"T_b99d2_row2_col4\" class=\"data row2 col4\" >eE</td>\n",
       "    </tr>\n",
       "  </tbody>\n",
       "</table>\n"
      ],
      "text/plain": [
       "<pandas.io.formats.style.Styler at 0x7f6f954a0a00>"
      ]
     },
     "execution_count": 5,
     "metadata": {},
     "output_type": "execute_result"
    }
   ],
   "source": [
    "?[] <- [[1.5, 2.5, 3, 4, 5.5], \n",
    "        ['aA', 'bB', 'cC', 'dD', 'eE'], \n",
    "        [true, false, null, -1.4e-2, \"A string with double quotes\"]]"
   ]
  },
  {
   "cell_type": "code",
   "execution_count": 7,
   "id": "3f315308-43b9-4344-be22-907f0f59a148",
   "metadata": {
    "tags": []
   },
   "outputs": [
    {
     "data": {
      "text/html": [
       "<style type=\"text/css\">\n",
       "#T_b60e0_row0_col0, #T_b60e0_row1_col0 {\n",
       "  color: #307fc1;\n",
       "}\n",
       "</style>\n",
       "<table id=\"T_b60e0\">\n",
       "  <thead>\n",
       "    <tr>\n",
       "      <th class=\"blank level0\" >&nbsp;</th>\n",
       "      <th id=\"T_b60e0_level0_col0\" class=\"col_heading level0 col0\" >_0</th>\n",
       "    </tr>\n",
       "  </thead>\n",
       "  <tbody>\n",
       "    <tr>\n",
       "      <th id=\"T_b60e0_level0_row0\" class=\"row_heading level0 row0\" >0</th>\n",
       "      <td id=\"T_b60e0_row0_col0\" class=\"data row0 col0\" >1</td>\n",
       "    </tr>\n",
       "    <tr>\n",
       "      <th id=\"T_b60e0_level0_row1\" class=\"row_heading level0 row1\" >1</th>\n",
       "      <td id=\"T_b60e0_row1_col0\" class=\"data row1 col0\" >2</td>\n",
       "    </tr>\n",
       "  </tbody>\n",
       "</table>\n"
      ],
      "text/plain": [
       "<pandas.io.formats.style.Styler at 0x7f6f67c37d90>"
      ]
     },
     "execution_count": 7,
     "metadata": {},
     "output_type": "execute_result"
    }
   ],
   "source": [
    "?[] <- [[1], [2], [1], [2], [1]]"
   ]
  },
  {
   "cell_type": "code",
   "execution_count": 8,
   "id": "b44588ab-6e72-4042-8a3c-6d428d94045c",
   "metadata": {
    "tags": []
   },
   "outputs": [
    {
     "data": {
      "text/html": [
       "<style type=\"text/css\">\n",
       "#T_15d5d_row0_col0, #T_15d5d_row0_col1, #T_15d5d_row0_col2, #T_15d5d_row0_col3, #T_15d5d_row0_col4, #T_15d5d_row0_col5, #T_15d5d_row0_col7 {\n",
       "  color: #307fc1;\n",
       "}\n",
       "#T_15d5d_row0_col6 {\n",
       "  color: black;\n",
       "}\n",
       "#T_15d5d_row0_col8 {\n",
       "  color: #bf5b3d;\n",
       "}\n",
       "</style>\n",
       "<table id=\"T_15d5d\">\n",
       "  <thead>\n",
       "    <tr>\n",
       "      <th class=\"blank level0\" >&nbsp;</th>\n",
       "      <th id=\"T_15d5d_level0_col0\" class=\"col_heading level0 col0\" >_0</th>\n",
       "      <th id=\"T_15d5d_level0_col1\" class=\"col_heading level0 col1\" >_1</th>\n",
       "      <th id=\"T_15d5d_level0_col2\" class=\"col_heading level0 col2\" >_2</th>\n",
       "      <th id=\"T_15d5d_level0_col3\" class=\"col_heading level0 col3\" >_3</th>\n",
       "      <th id=\"T_15d5d_level0_col4\" class=\"col_heading level0 col4\" >_4</th>\n",
       "      <th id=\"T_15d5d_level0_col5\" class=\"col_heading level0 col5\" >_5</th>\n",
       "      <th id=\"T_15d5d_level0_col6\" class=\"col_heading level0 col6\" >_6</th>\n",
       "      <th id=\"T_15d5d_level0_col7\" class=\"col_heading level0 col7\" >_7</th>\n",
       "      <th id=\"T_15d5d_level0_col8\" class=\"col_heading level0 col8\" >_8</th>\n",
       "    </tr>\n",
       "  </thead>\n",
       "  <tbody>\n",
       "    <tr>\n",
       "      <th id=\"T_15d5d_level0_row0\" class=\"row_heading level0 row0\" >0</th>\n",
       "      <td id=\"T_15d5d_row0_col0\" class=\"data row0 col0\" >3</td>\n",
       "      <td id=\"T_15d5d_row0_col1\" class=\"data row0 col1\" >0.750000</td>\n",
       "      <td id=\"T_15d5d_row0_col2\" class=\"data row0 col2\" >False</td>\n",
       "      <td id=\"T_15d5d_row0_col3\" class=\"data row0 col3\" >False</td>\n",
       "      <td id=\"T_15d5d_row0_col4\" class=\"data row0 col4\" >True</td>\n",
       "      <td id=\"T_15d5d_row0_col5\" class=\"data row0 col5\" >False</td>\n",
       "      <td id=\"T_15d5d_row0_col6\" class=\"data row0 col6\" >hello</td>\n",
       "      <td id=\"T_15d5d_row0_col7\" class=\"data row0 col7\" >0.853740</td>\n",
       "      <td id=\"T_15d5d_row0_col8\" class=\"data row0 col8\" >[1, 2, 3, 4, 5, 6, 7]</td>\n",
       "    </tr>\n",
       "  </tbody>\n",
       "</table>\n"
      ],
      "text/plain": [
       "<pandas.io.formats.style.Styler at 0x7f6f67c370a0>"
      ]
     },
     "execution_count": 8,
     "metadata": {},
     "output_type": "execute_result"
    }
   ],
   "source": [
    "?[] <- [[\n",
    "            1 + 2, # addition\n",
    "            3 / 4, # division\n",
    "            5 == 6, # equality\n",
    "            7 > 8, # greater\n",
    "            true || false, # or\n",
    "            false && true, # and\n",
    "            lowercase('HELLO'), # function\n",
    "            rand_float(), # function taking no argument\n",
    "            union([1, 2, 3], [3, 4, 5], [5, 6, 7]), # variadic function\n",
    "        ]]\n"
   ]
  },
  {
   "cell_type": "code",
   "execution_count": 10,
   "id": "f07f1d0b-6939-423d-b427-cf099038a61f",
   "metadata": {
    "tags": []
   },
   "outputs": [
    {
     "data": {
      "text/html": [
       "<style type=\"text/css\">\n",
       "#T_453a9_row0_col0, #T_453a9_row0_col1, #T_453a9_row0_col2 {\n",
       "  color: #307fc1;\n",
       "}\n",
       "#T_453a9_row1_col0, #T_453a9_row1_col1, #T_453a9_row1_col2 {\n",
       "  color: black;\n",
       "}\n",
       "</style>\n",
       "<table id=\"T_453a9\">\n",
       "  <thead>\n",
       "    <tr>\n",
       "      <th class=\"blank level0\" >&nbsp;</th>\n",
       "      <th id=\"T_453a9_level0_col0\" class=\"col_heading level0 col0\" >first</th>\n",
       "      <th id=\"T_453a9_level0_col1\" class=\"col_heading level0 col1\" >second</th>\n",
       "      <th id=\"T_453a9_level0_col2\" class=\"col_heading level0 col2\" >third</th>\n",
       "    </tr>\n",
       "  </thead>\n",
       "  <tbody>\n",
       "    <tr>\n",
       "      <th id=\"T_453a9_level0_row0\" class=\"row_heading level0 row0\" >0</th>\n",
       "      <td id=\"T_453a9_row0_col0\" class=\"data row0 col0\" >1</td>\n",
       "      <td id=\"T_453a9_row0_col1\" class=\"data row0 col1\" >2</td>\n",
       "      <td id=\"T_453a9_row0_col2\" class=\"data row0 col2\" >3</td>\n",
       "    </tr>\n",
       "    <tr>\n",
       "      <th id=\"T_453a9_level0_row1\" class=\"row_heading level0 row1\" >1</th>\n",
       "      <td id=\"T_453a9_row1_col0\" class=\"data row1 col0\" >a</td>\n",
       "      <td id=\"T_453a9_row1_col1\" class=\"data row1 col1\" >b</td>\n",
       "      <td id=\"T_453a9_row1_col2\" class=\"data row1 col2\" >c</td>\n",
       "    </tr>\n",
       "  </tbody>\n",
       "</table>\n"
      ],
      "text/plain": [
       "<pandas.io.formats.style.Styler at 0x7f7004a507c0>"
      ]
     },
     "execution_count": 10,
     "metadata": {},
     "output_type": "execute_result"
    }
   ],
   "source": [
    "?[first, second, third] <- [[1, 2, 3], ['a', 'b', 'c']]"
   ]
  },
  {
   "cell_type": "code",
   "execution_count": 11,
   "id": "9e124a18-0683-4bc6-89d7-2da7453d36fa",
   "metadata": {
    "tags": []
   },
   "outputs": [
    {
     "data": {
      "text/html": [
       "<style type=\"text/css\">\n",
       "#T_68fa8_row0_col0, #T_68fa8_row0_col1, #T_68fa8_row0_col2 {\n",
       "  color: #307fc1;\n",
       "}\n",
       "#T_68fa8_row1_col0, #T_68fa8_row1_col1, #T_68fa8_row1_col2 {\n",
       "  color: black;\n",
       "}\n",
       "</style>\n",
       "<table id=\"T_68fa8\">\n",
       "  <thead>\n",
       "    <tr>\n",
       "      <th class=\"blank level0\" >&nbsp;</th>\n",
       "      <th id=\"T_68fa8_level0_col0\" class=\"col_heading level0 col0\" >a</th>\n",
       "      <th id=\"T_68fa8_level0_col1\" class=\"col_heading level0 col1\" >b</th>\n",
       "      <th id=\"T_68fa8_level0_col2\" class=\"col_heading level0 col2\" >c</th>\n",
       "    </tr>\n",
       "  </thead>\n",
       "  <tbody>\n",
       "    <tr>\n",
       "      <th id=\"T_68fa8_level0_row0\" class=\"row_heading level0 row0\" >0</th>\n",
       "      <td id=\"T_68fa8_row0_col0\" class=\"data row0 col0\" >1</td>\n",
       "      <td id=\"T_68fa8_row0_col1\" class=\"data row0 col1\" >2</td>\n",
       "      <td id=\"T_68fa8_row0_col2\" class=\"data row0 col2\" >3</td>\n",
       "    </tr>\n",
       "    <tr>\n",
       "      <th id=\"T_68fa8_level0_row1\" class=\"row_heading level0 row1\" >1</th>\n",
       "      <td id=\"T_68fa8_row1_col0\" class=\"data row1 col0\" >a</td>\n",
       "      <td id=\"T_68fa8_row1_col1\" class=\"data row1 col1\" >b</td>\n",
       "      <td id=\"T_68fa8_row1_col2\" class=\"data row1 col2\" >c</td>\n",
       "    </tr>\n",
       "  </tbody>\n",
       "</table>\n"
      ],
      "text/plain": [
       "<pandas.io.formats.style.Styler at 0x7f6f67c7dd80>"
      ]
     },
     "execution_count": 11,
     "metadata": {},
     "output_type": "execute_result"
    }
   ],
   "source": [
    "rule[first, second, third] <- [[1, 2, 3], ['a', 'b', 'c']]\n",
    "?[a, b, c] := rule[a, b, c]"
   ]
  },
  {
   "cell_type": "code",
   "execution_count": 12,
   "id": "bed27291-73d7-414c-b668-7f3762dfb48a",
   "metadata": {
    "tags": []
   },
   "outputs": [
    {
     "data": {
      "text/html": [
       "<style type=\"text/css\">\n",
       "#T_b1c13_row0_col0, #T_b1c13_row0_col1 {\n",
       "  color: #307fc1;\n",
       "}\n",
       "#T_b1c13_row1_col0, #T_b1c13_row1_col1 {\n",
       "  color: black;\n",
       "}\n",
       "</style>\n",
       "<table id=\"T_b1c13\">\n",
       "  <thead>\n",
       "    <tr>\n",
       "      <th class=\"blank level0\" >&nbsp;</th>\n",
       "      <th id=\"T_b1c13_level0_col0\" class=\"col_heading level0 col0\" >c</th>\n",
       "      <th id=\"T_b1c13_level0_col1\" class=\"col_heading level0 col1\" >b</th>\n",
       "    </tr>\n",
       "  </thead>\n",
       "  <tbody>\n",
       "    <tr>\n",
       "      <th id=\"T_b1c13_level0_row0\" class=\"row_heading level0 row0\" >0</th>\n",
       "      <td id=\"T_b1c13_row0_col0\" class=\"data row0 col0\" >3</td>\n",
       "      <td id=\"T_b1c13_row0_col1\" class=\"data row0 col1\" >2</td>\n",
       "    </tr>\n",
       "    <tr>\n",
       "      <th id=\"T_b1c13_level0_row1\" class=\"row_heading level0 row1\" >1</th>\n",
       "      <td id=\"T_b1c13_row1_col0\" class=\"data row1 col0\" >c</td>\n",
       "      <td id=\"T_b1c13_row1_col1\" class=\"data row1 col1\" >b</td>\n",
       "    </tr>\n",
       "  </tbody>\n",
       "</table>\n"
      ],
      "text/plain": [
       "<pandas.io.formats.style.Styler at 0x7f7004a50520>"
      ]
     },
     "execution_count": 12,
     "metadata": {},
     "output_type": "execute_result"
    }
   ],
   "source": [
    "rule[first, second, third] <- [[1, 2, 3], ['a', 'b', 'c']]\n",
    "?[c, b] := rule[a, b, c]"
   ]
  },
  {
   "cell_type": "code",
   "execution_count": 14,
   "id": "d7163cd8-92a7-41cc-9719-b5eb555b4dfe",
   "metadata": {
    "tags": []
   },
   "outputs": [
    {
     "data": {
      "text/html": [
       "<style type=\"text/css\">\n",
       "#T_cfbfe_row0_col0, #T_cfbfe_row0_col1 {\n",
       "  color: #307fc1;\n",
       "}\n",
       "</style>\n",
       "<table id=\"T_cfbfe\">\n",
       "  <thead>\n",
       "    <tr>\n",
       "      <th class=\"blank level0\" >&nbsp;</th>\n",
       "      <th id=\"T_cfbfe_level0_col0\" class=\"col_heading level0 col0\" >c</th>\n",
       "      <th id=\"T_cfbfe_level0_col1\" class=\"col_heading level0 col1\" >b</th>\n",
       "    </tr>\n",
       "  </thead>\n",
       "  <tbody>\n",
       "    <tr>\n",
       "      <th id=\"T_cfbfe_level0_row0\" class=\"row_heading level0 row0\" >0</th>\n",
       "      <td id=\"T_cfbfe_row0_col0\" class=\"data row0 col0\" >3</td>\n",
       "      <td id=\"T_cfbfe_row0_col1\" class=\"data row0 col1\" >2</td>\n",
       "    </tr>\n",
       "  </tbody>\n",
       "</table>\n"
      ],
      "text/plain": [
       "<pandas.io.formats.style.Styler at 0x7f6f67c7d510>"
      ]
     },
     "execution_count": 14,
     "metadata": {},
     "output_type": "execute_result"
    }
   ],
   "source": [
    "rule[first, second, third] <- [[1, 2, 3], ['a', 'b', 'c']]\n",
    "?[c, b] := rule[a, b, c], is_num(a)"
   ]
  },
  {
   "cell_type": "code",
   "execution_count": 15,
   "id": "d64aa7bf-4302-47f1-857e-7b4de2e708f0",
   "metadata": {
    "tags": []
   },
   "outputs": [
    {
     "data": {
      "text/html": [
       "<style type=\"text/css\">\n",
       "#T_0c704_row0_col0, #T_0c704_row0_col1, #T_0c704_row0_col2 {\n",
       "  color: #307fc1;\n",
       "}\n",
       "</style>\n",
       "<table id=\"T_0c704\">\n",
       "  <thead>\n",
       "    <tr>\n",
       "      <th class=\"blank level0\" >&nbsp;</th>\n",
       "      <th id=\"T_0c704_level0_col0\" class=\"col_heading level0 col0\" >c</th>\n",
       "      <th id=\"T_0c704_level0_col1\" class=\"col_heading level0 col1\" >b</th>\n",
       "      <th id=\"T_0c704_level0_col2\" class=\"col_heading level0 col2\" >d</th>\n",
       "    </tr>\n",
       "  </thead>\n",
       "  <tbody>\n",
       "    <tr>\n",
       "      <th id=\"T_0c704_level0_row0\" class=\"row_heading level0 row0\" >0</th>\n",
       "      <td id=\"T_0c704_row0_col0\" class=\"data row0 col0\" >3</td>\n",
       "      <td id=\"T_0c704_row0_col1\" class=\"data row0 col1\" >2</td>\n",
       "      <td id=\"T_0c704_row0_col2\" class=\"data row0 col2\" >9</td>\n",
       "    </tr>\n",
       "  </tbody>\n",
       "</table>\n"
      ],
      "text/plain": [
       "<pandas.io.formats.style.Styler at 0x7f6f67c37310>"
      ]
     },
     "execution_count": 15,
     "metadata": {},
     "output_type": "execute_result"
    }
   ],
   "source": [
    "rule[first, second, third] <- [[1, 2, 3], ['a', 'b', 'c']]\n",
    "?[c, b, d] := rule[a, b, c], is_num(a), d = a + b + 2*c"
   ]
  },
  {
   "cell_type": "code",
   "execution_count": 16,
   "id": "7b8e2c8b-d2b8-46f7-8a9b-118e4605379d",
   "metadata": {
    "tags": []
   },
   "outputs": [
    {
     "data": {
      "text/html": [
       "<style type=\"text/css\">\n",
       "#T_fe012_row0_col0, #T_fe012_row0_col1, #T_fe012_row1_col0, #T_fe012_row1_col1, #T_fe012_row2_col0, #T_fe012_row2_col1, #T_fe012_row3_col0, #T_fe012_row3_col1 {\n",
       "  color: black;\n",
       "}\n",
       "</style>\n",
       "<table id=\"T_fe012\">\n",
       "  <thead>\n",
       "    <tr>\n",
       "      <th class=\"blank level0\" >&nbsp;</th>\n",
       "      <th id=\"T_fe012_level0_col0\" class=\"col_heading level0 col0\" >l1</th>\n",
       "      <th id=\"T_fe012_level0_col1\" class=\"col_heading level0 col1\" >l2</th>\n",
       "    </tr>\n",
       "  </thead>\n",
       "  <tbody>\n",
       "    <tr>\n",
       "      <th id=\"T_fe012_level0_row0\" class=\"row_heading level0 row0\" >0</th>\n",
       "      <td id=\"T_fe012_row0_col0\" class=\"data row0 col0\" >a</td>\n",
       "      <td id=\"T_fe012_row0_col1\" class=\"data row0 col1\" >B</td>\n",
       "    </tr>\n",
       "    <tr>\n",
       "      <th id=\"T_fe012_level0_row1\" class=\"row_heading level0 row1\" >1</th>\n",
       "      <td id=\"T_fe012_row1_col0\" class=\"data row1 col0\" >a</td>\n",
       "      <td id=\"T_fe012_row1_col1\" class=\"data row1 col1\" >C</td>\n",
       "    </tr>\n",
       "    <tr>\n",
       "      <th id=\"T_fe012_level0_row2\" class=\"row_heading level0 row2\" >2</th>\n",
       "      <td id=\"T_fe012_row2_col0\" class=\"data row2 col0\" >b</td>\n",
       "      <td id=\"T_fe012_row2_col1\" class=\"data row2 col1\" >B</td>\n",
       "    </tr>\n",
       "    <tr>\n",
       "      <th id=\"T_fe012_level0_row3\" class=\"row_heading level0 row3\" >3</th>\n",
       "      <td id=\"T_fe012_row3_col0\" class=\"data row3 col0\" >b</td>\n",
       "      <td id=\"T_fe012_row3_col1\" class=\"data row3 col1\" >C</td>\n",
       "    </tr>\n",
       "  </tbody>\n",
       "</table>\n"
      ],
      "text/plain": [
       "<pandas.io.formats.style.Styler at 0x7f6f67c37dc0>"
      ]
     },
     "execution_count": 16,
     "metadata": {},
     "output_type": "execute_result"
    }
   ],
   "source": [
    "r1[] <- [[1, 'a'], [2, 'b']]\n",
    "r2[] <- [[2, 'B'], [3, 'C']]\n",
    "\n",
    "?[l1, l2] := r1[_, l1], \n",
    "             r2[_, l2]\n"
   ]
  },
  {
   "cell_type": "code",
   "execution_count": 17,
   "id": "d0111121-b9e9-460a-a184-818a1dcede38",
   "metadata": {
    "tags": []
   },
   "outputs": [
    {
     "data": {
      "text/html": [
       "<style type=\"text/css\">\n",
       "#T_e056d_row0_col0, #T_e056d_row0_col1 {\n",
       "  color: black;\n",
       "}\n",
       "</style>\n",
       "<table id=\"T_e056d\">\n",
       "  <thead>\n",
       "    <tr>\n",
       "      <th class=\"blank level0\" >&nbsp;</th>\n",
       "      <th id=\"T_e056d_level0_col0\" class=\"col_heading level0 col0\" >l1</th>\n",
       "      <th id=\"T_e056d_level0_col1\" class=\"col_heading level0 col1\" >l2</th>\n",
       "    </tr>\n",
       "  </thead>\n",
       "  <tbody>\n",
       "    <tr>\n",
       "      <th id=\"T_e056d_level0_row0\" class=\"row_heading level0 row0\" >0</th>\n",
       "      <td id=\"T_e056d_row0_col0\" class=\"data row0 col0\" >b</td>\n",
       "      <td id=\"T_e056d_row0_col1\" class=\"data row0 col1\" >B</td>\n",
       "    </tr>\n",
       "  </tbody>\n",
       "</table>\n"
      ],
      "text/plain": [
       "<pandas.io.formats.style.Styler at 0x7f7004a50730>"
      ]
     },
     "execution_count": 17,
     "metadata": {},
     "output_type": "execute_result"
    }
   ],
   "source": [
    "r1[] <- [[1, 'a'], [2, 'b']]\n",
    "r2[] <- [[2, 'B'], [3, 'C']]\n",
    "\n",
    "?[l1, l2] := r1[a, l1], \n",
    "             r2[a, l2] # reused `a`\n"
   ]
  },
  {
   "cell_type": "code",
   "execution_count": 18,
   "id": "3ac3ce6c-c602-4a4b-b49e-cbce0f1e3985",
   "metadata": {
    "tags": []
   },
   "outputs": [
    {
     "data": {
      "text/html": [
       "<style type=\"text/css\">\n",
       "#T_fe22e_row0_col0, #T_fe22e_row1_col0, #T_fe22e_row2_col0, #T_fe22e_row3_col0, #T_fe22e_row4_col0, #T_fe22e_row5_col0 {\n",
       "  color: #307fc1;\n",
       "}\n",
       "#T_fe22e_row0_col1, #T_fe22e_row1_col1, #T_fe22e_row2_col1, #T_fe22e_row3_col1, #T_fe22e_row4_col1, #T_fe22e_row5_col1 {\n",
       "  color: black;\n",
       "}\n",
       "</style>\n",
       "<table id=\"T_fe22e\">\n",
       "  <thead>\n",
       "    <tr>\n",
       "      <th class=\"blank level0\" >&nbsp;</th>\n",
       "      <th id=\"T_fe22e_level0_col0\" class=\"col_heading level0 col0\" >x</th>\n",
       "      <th id=\"T_fe22e_level0_col1\" class=\"col_heading level0 col1\" >y</th>\n",
       "    </tr>\n",
       "  </thead>\n",
       "  <tbody>\n",
       "    <tr>\n",
       "      <th id=\"T_fe22e_level0_row0\" class=\"row_heading level0 row0\" >0</th>\n",
       "      <td id=\"T_fe22e_row0_col0\" class=\"data row0 col0\" >1</td>\n",
       "      <td id=\"T_fe22e_row0_col1\" class=\"data row0 col1\" >x</td>\n",
       "    </tr>\n",
       "    <tr>\n",
       "      <th id=\"T_fe22e_level0_row1\" class=\"row_heading level0 row1\" >1</th>\n",
       "      <td id=\"T_fe22e_row1_col0\" class=\"data row1 col0\" >1</td>\n",
       "      <td id=\"T_fe22e_row1_col1\" class=\"data row1 col1\" >y</td>\n",
       "    </tr>\n",
       "    <tr>\n",
       "      <th id=\"T_fe22e_level0_row2\" class=\"row_heading level0 row2\" >2</th>\n",
       "      <td id=\"T_fe22e_row2_col0\" class=\"data row2 col0\" >2</td>\n",
       "      <td id=\"T_fe22e_row2_col1\" class=\"data row2 col1\" >x</td>\n",
       "    </tr>\n",
       "    <tr>\n",
       "      <th id=\"T_fe22e_level0_row3\" class=\"row_heading level0 row3\" >3</th>\n",
       "      <td id=\"T_fe22e_row3_col0\" class=\"data row3 col0\" >2</td>\n",
       "      <td id=\"T_fe22e_row3_col1\" class=\"data row3 col1\" >y</td>\n",
       "    </tr>\n",
       "    <tr>\n",
       "      <th id=\"T_fe22e_level0_row4\" class=\"row_heading level0 row4\" >4</th>\n",
       "      <td id=\"T_fe22e_row4_col0\" class=\"data row4 col0\" >3</td>\n",
       "      <td id=\"T_fe22e_row4_col1\" class=\"data row4 col1\" >x</td>\n",
       "    </tr>\n",
       "    <tr>\n",
       "      <th id=\"T_fe22e_level0_row5\" class=\"row_heading level0 row5\" >5</th>\n",
       "      <td id=\"T_fe22e_row5_col0\" class=\"data row5 col0\" >3</td>\n",
       "      <td id=\"T_fe22e_row5_col1\" class=\"data row5 col1\" >y</td>\n",
       "    </tr>\n",
       "  </tbody>\n",
       "</table>\n"
      ],
      "text/plain": [
       "<pandas.io.formats.style.Styler at 0x7f6f67c7f340>"
      ]
     },
     "execution_count": 18,
     "metadata": {},
     "output_type": "execute_result"
    }
   ],
   "source": [
    "?[x, y] := x in [1, 2, 3], y in ['x', 'y']"
   ]
  },
  {
   "cell_type": "code",
   "execution_count": 20,
   "id": "8c7ce67d-c415-425b-89c5-d4d69277dd6c",
   "metadata": {
    "tags": []
   },
   "outputs": [
    {
     "data": {
      "text/html": [
       "<style type=\"text/css\">\n",
       "#T_875b3_row0_col0 {\n",
       "  color: black;\n",
       "}\n",
       "</style>\n",
       "<table id=\"T_875b3\">\n",
       "  <thead>\n",
       "    <tr>\n",
       "      <th class=\"blank level0\" >&nbsp;</th>\n",
       "      <th id=\"T_875b3_level0_col0\" class=\"col_heading level0 col0\" >status</th>\n",
       "    </tr>\n",
       "  </thead>\n",
       "  <tbody>\n",
       "    <tr>\n",
       "      <th id=\"T_875b3_level0_row0\" class=\"row_heading level0 row0\" >0</th>\n",
       "      <td id=\"T_875b3_row0_col0\" class=\"data row0 col0\" >OK</td>\n",
       "    </tr>\n",
       "  </tbody>\n",
       "</table>\n"
      ],
      "text/plain": [
       "<pandas.io.formats.style.Styler at 0x7f6f67c7e9b0>"
      ]
     },
     "execution_count": 20,
     "metadata": {},
     "output_type": "execute_result"
    }
   ],
   "source": [
    "r1[] <- [[1, 'a'], [2, 'b']]\n",
    "r2[] <- [[2, 'B'], [3, 'C']]\n",
    "\n",
    "?[l1, l2] := r1[a, l1], \n",
    "             r2[a, l2]\n",
    "    \n",
    ":create stored {l1, l2}"
   ]
  },
  {
   "cell_type": "code",
   "execution_count": 21,
   "id": "1a8f6307-6a88-430c-8f0b-c4bc6c95df19",
   "metadata": {
    "tags": []
   },
   "outputs": [
    {
     "data": {
      "text/html": [
       "<style type=\"text/css\">\n",
       "#T_26748_row0_col0, #T_26748_row0_col2, #T_26748_row0_col8 {\n",
       "  color: black;\n",
       "}\n",
       "#T_26748_row0_col1, #T_26748_row0_col3, #T_26748_row0_col4, #T_26748_row0_col5, #T_26748_row0_col6, #T_26748_row0_col7 {\n",
       "  color: #307fc1;\n",
       "}\n",
       "</style>\n",
       "<table id=\"T_26748\">\n",
       "  <thead>\n",
       "    <tr>\n",
       "      <th class=\"blank level0\" >&nbsp;</th>\n",
       "      <th id=\"T_26748_level0_col0\" class=\"col_heading level0 col0\" >name</th>\n",
       "      <th id=\"T_26748_level0_col1\" class=\"col_heading level0 col1\" >arity</th>\n",
       "      <th id=\"T_26748_level0_col2\" class=\"col_heading level0 col2\" >access_level</th>\n",
       "      <th id=\"T_26748_level0_col3\" class=\"col_heading level0 col3\" >n_keys</th>\n",
       "      <th id=\"T_26748_level0_col4\" class=\"col_heading level0 col4\" >n_non_keys</th>\n",
       "      <th id=\"T_26748_level0_col5\" class=\"col_heading level0 col5\" >n_put_triggers</th>\n",
       "      <th id=\"T_26748_level0_col6\" class=\"col_heading level0 col6\" >n_rm_triggers</th>\n",
       "      <th id=\"T_26748_level0_col7\" class=\"col_heading level0 col7\" >n_replace_triggers</th>\n",
       "      <th id=\"T_26748_level0_col8\" class=\"col_heading level0 col8\" >description</th>\n",
       "    </tr>\n",
       "  </thead>\n",
       "  <tbody>\n",
       "    <tr>\n",
       "      <th id=\"T_26748_level0_row0\" class=\"row_heading level0 row0\" >0</th>\n",
       "      <td id=\"T_26748_row0_col0\" class=\"data row0 col0\" >stored</td>\n",
       "      <td id=\"T_26748_row0_col1\" class=\"data row0 col1\" >2</td>\n",
       "      <td id=\"T_26748_row0_col2\" class=\"data row0 col2\" >normal</td>\n",
       "      <td id=\"T_26748_row0_col3\" class=\"data row0 col3\" >2</td>\n",
       "      <td id=\"T_26748_row0_col4\" class=\"data row0 col4\" >0</td>\n",
       "      <td id=\"T_26748_row0_col5\" class=\"data row0 col5\" >0</td>\n",
       "      <td id=\"T_26748_row0_col6\" class=\"data row0 col6\" >0</td>\n",
       "      <td id=\"T_26748_row0_col7\" class=\"data row0 col7\" >0</td>\n",
       "      <td id=\"T_26748_row0_col8\" class=\"data row0 col8\" ></td>\n",
       "    </tr>\n",
       "  </tbody>\n",
       "</table>\n"
      ],
      "text/plain": [
       "<pandas.io.formats.style.Styler at 0x7f6f67ca0430>"
      ]
     },
     "execution_count": 21,
     "metadata": {},
     "output_type": "execute_result"
    }
   ],
   "source": [
    "::relations"
   ]
  },
  {
   "cell_type": "code",
   "execution_count": 22,
   "id": "448f6f9b-2728-4dcc-bbe9-7a0c110de9e5",
   "metadata": {
    "tags": []
   },
   "outputs": [
    {
     "data": {
      "text/html": [
       "<style type=\"text/css\">\n",
       "#T_a02c6_row0_col0, #T_a02c6_row0_col3, #T_a02c6_row1_col0, #T_a02c6_row1_col3 {\n",
       "  color: black;\n",
       "}\n",
       "#T_a02c6_row0_col1, #T_a02c6_row0_col2, #T_a02c6_row0_col4, #T_a02c6_row1_col1, #T_a02c6_row1_col2, #T_a02c6_row1_col4 {\n",
       "  color: #307fc1;\n",
       "}\n",
       "</style>\n",
       "<table id=\"T_a02c6\">\n",
       "  <thead>\n",
       "    <tr>\n",
       "      <th class=\"blank level0\" >&nbsp;</th>\n",
       "      <th id=\"T_a02c6_level0_col0\" class=\"col_heading level0 col0\" >column</th>\n",
       "      <th id=\"T_a02c6_level0_col1\" class=\"col_heading level0 col1\" >is_key</th>\n",
       "      <th id=\"T_a02c6_level0_col2\" class=\"col_heading level0 col2\" >index</th>\n",
       "      <th id=\"T_a02c6_level0_col3\" class=\"col_heading level0 col3\" >type</th>\n",
       "      <th id=\"T_a02c6_level0_col4\" class=\"col_heading level0 col4\" >has_default</th>\n",
       "    </tr>\n",
       "  </thead>\n",
       "  <tbody>\n",
       "    <tr>\n",
       "      <th id=\"T_a02c6_level0_row0\" class=\"row_heading level0 row0\" >0</th>\n",
       "      <td id=\"T_a02c6_row0_col0\" class=\"data row0 col0\" >l1</td>\n",
       "      <td id=\"T_a02c6_row0_col1\" class=\"data row0 col1\" >True</td>\n",
       "      <td id=\"T_a02c6_row0_col2\" class=\"data row0 col2\" >0</td>\n",
       "      <td id=\"T_a02c6_row0_col3\" class=\"data row0 col3\" >Any?</td>\n",
       "      <td id=\"T_a02c6_row0_col4\" class=\"data row0 col4\" >False</td>\n",
       "    </tr>\n",
       "    <tr>\n",
       "      <th id=\"T_a02c6_level0_row1\" class=\"row_heading level0 row1\" >1</th>\n",
       "      <td id=\"T_a02c6_row1_col0\" class=\"data row1 col0\" >l2</td>\n",
       "      <td id=\"T_a02c6_row1_col1\" class=\"data row1 col1\" >True</td>\n",
       "      <td id=\"T_a02c6_row1_col2\" class=\"data row1 col2\" >1</td>\n",
       "      <td id=\"T_a02c6_row1_col3\" class=\"data row1 col3\" >Any?</td>\n",
       "      <td id=\"T_a02c6_row1_col4\" class=\"data row1 col4\" >False</td>\n",
       "    </tr>\n",
       "  </tbody>\n",
       "</table>\n"
      ],
      "text/plain": [
       "<pandas.io.formats.style.Styler at 0x7f7004a50b80>"
      ]
     },
     "execution_count": 22,
     "metadata": {},
     "output_type": "execute_result"
    }
   ],
   "source": [
    "::columns stored "
   ]
  },
  {
   "cell_type": "code",
   "execution_count": 23,
   "id": "8e89acbd-cb2b-42d1-9a36-8d3469db3cc7",
   "metadata": {
    "tags": []
   },
   "outputs": [
    {
     "data": {
      "text/html": [
       "<style type=\"text/css\">\n",
       "#T_0b6ef_row0_col0, #T_0b6ef_row0_col1 {\n",
       "  color: black;\n",
       "}\n",
       "</style>\n",
       "<table id=\"T_0b6ef\">\n",
       "  <thead>\n",
       "    <tr>\n",
       "      <th class=\"blank level0\" >&nbsp;</th>\n",
       "      <th id=\"T_0b6ef_level0_col0\" class=\"col_heading level0 col0\" >a</th>\n",
       "      <th id=\"T_0b6ef_level0_col1\" class=\"col_heading level0 col1\" >b</th>\n",
       "    </tr>\n",
       "  </thead>\n",
       "  <tbody>\n",
       "    <tr>\n",
       "      <th id=\"T_0b6ef_level0_row0\" class=\"row_heading level0 row0\" >0</th>\n",
       "      <td id=\"T_0b6ef_row0_col0\" class=\"data row0 col0\" >b</td>\n",
       "      <td id=\"T_0b6ef_row0_col1\" class=\"data row0 col1\" >B</td>\n",
       "    </tr>\n",
       "  </tbody>\n",
       "</table>\n"
      ],
      "text/plain": [
       "<pandas.io.formats.style.Styler at 0x7f6f67c7f820>"
      ]
     },
     "execution_count": 23,
     "metadata": {},
     "output_type": "execute_result"
    }
   ],
   "source": [
    "?[a, b] := *stored[a, b]"
   ]
  },
  {
   "cell_type": "code",
   "execution_count": 24,
   "id": "84d33dba-696f-4456-85b1-7275b297dc3d",
   "metadata": {
    "tags": []
   },
   "outputs": [
    {
     "data": {
      "text/html": [
       "<style type=\"text/css\">\n",
       "#T_cc02a_row0_col0 {\n",
       "  color: black;\n",
       "}\n",
       "</style>\n",
       "<table id=\"T_cc02a\">\n",
       "  <thead>\n",
       "    <tr>\n",
       "      <th class=\"blank level0\" >&nbsp;</th>\n",
       "      <th id=\"T_cc02a_level0_col0\" class=\"col_heading level0 col0\" >status</th>\n",
       "    </tr>\n",
       "  </thead>\n",
       "  <tbody>\n",
       "    <tr>\n",
       "      <th id=\"T_cc02a_level0_row0\" class=\"row_heading level0 row0\" >0</th>\n",
       "      <td id=\"T_cc02a_row0_col0\" class=\"data row0 col0\" >OK</td>\n",
       "    </tr>\n",
       "  </tbody>\n",
       "</table>\n"
      ],
      "text/plain": [
       "<pandas.io.formats.style.Styler at 0x7f7004a50610>"
      ]
     },
     "execution_count": 24,
     "metadata": {},
     "output_type": "execute_result"
    }
   ],
   "source": [
    "?[l1, l2] <- [['e', 'E']]\n",
    "    \n",
    ":put stored {l1, l2}"
   ]
  },
  {
   "cell_type": "code",
   "execution_count": 25,
   "id": "8c3646e3-cf72-4ec1-bf62-b72f80575f2c",
   "metadata": {
    "tags": []
   },
   "outputs": [
    {
     "data": {
      "text/html": [
       "<style type=\"text/css\">\n",
       "#T_b45f2_row0_col0, #T_b45f2_row0_col1, #T_b45f2_row1_col0, #T_b45f2_row1_col1 {\n",
       "  color: black;\n",
       "}\n",
       "</style>\n",
       "<table id=\"T_b45f2\">\n",
       "  <thead>\n",
       "    <tr>\n",
       "      <th class=\"blank level0\" >&nbsp;</th>\n",
       "      <th id=\"T_b45f2_level0_col0\" class=\"col_heading level0 col0\" >l1</th>\n",
       "      <th id=\"T_b45f2_level0_col1\" class=\"col_heading level0 col1\" >l2</th>\n",
       "    </tr>\n",
       "  </thead>\n",
       "  <tbody>\n",
       "    <tr>\n",
       "      <th id=\"T_b45f2_level0_row0\" class=\"row_heading level0 row0\" >0</th>\n",
       "      <td id=\"T_b45f2_row0_col0\" class=\"data row0 col0\" >b</td>\n",
       "      <td id=\"T_b45f2_row0_col1\" class=\"data row0 col1\" >B</td>\n",
       "    </tr>\n",
       "    <tr>\n",
       "      <th id=\"T_b45f2_level0_row1\" class=\"row_heading level0 row1\" >1</th>\n",
       "      <td id=\"T_b45f2_row1_col0\" class=\"data row1 col0\" >e</td>\n",
       "      <td id=\"T_b45f2_row1_col1\" class=\"data row1 col1\" >E</td>\n",
       "    </tr>\n",
       "  </tbody>\n",
       "</table>\n"
      ],
      "text/plain": [
       "<pandas.io.formats.style.Styler at 0x7f6f67ca1300>"
      ]
     },
     "execution_count": 25,
     "metadata": {},
     "output_type": "execute_result"
    }
   ],
   "source": [
    "?[l1, l2] := *stored[l1, l2]"
   ]
  },
  {
   "cell_type": "code",
   "execution_count": 26,
   "id": "19e7d9d4-4bd7-4eb0-97f6-d2d346029e5d",
   "metadata": {
    "tags": []
   },
   "outputs": [
    {
     "data": {
      "text/html": [
       "<style type=\"text/css\">\n",
       "#T_020c2_row0_col0 {\n",
       "  color: black;\n",
       "}\n",
       "</style>\n",
       "<table id=\"T_020c2\">\n",
       "  <thead>\n",
       "    <tr>\n",
       "      <th class=\"blank level0\" >&nbsp;</th>\n",
       "      <th id=\"T_020c2_level0_col0\" class=\"col_heading level0 col0\" >status</th>\n",
       "    </tr>\n",
       "  </thead>\n",
       "  <tbody>\n",
       "    <tr>\n",
       "      <th id=\"T_020c2_level0_row0\" class=\"row_heading level0 row0\" >0</th>\n",
       "      <td id=\"T_020c2_row0_col0\" class=\"data row0 col0\" >OK</td>\n",
       "    </tr>\n",
       "  </tbody>\n",
       "</table>\n"
      ],
      "text/plain": [
       "<pandas.io.formats.style.Styler at 0x7f6f67ca1ed0>"
      ]
     },
     "execution_count": 26,
     "metadata": {},
     "output_type": "execute_result"
    }
   ],
   "source": [
    "::remove stored"
   ]
  },
  {
   "cell_type": "code",
   "execution_count": 27,
   "id": "85cc3cb0-1974-4066-8ad3-8fcc653fb5c4",
   "metadata": {
    "tags": []
   },
   "outputs": [
    {
     "data": {
      "text/html": [
       "<style type=\"text/css\">\n",
       "#T_688cb_row0_col0 {\n",
       "  color: black;\n",
       "}\n",
       "</style>\n",
       "<table id=\"T_688cb\">\n",
       "  <thead>\n",
       "    <tr>\n",
       "      <th class=\"blank level0\" >&nbsp;</th>\n",
       "      <th id=\"T_688cb_level0_col0\" class=\"col_heading level0 col0\" >status</th>\n",
       "    </tr>\n",
       "  </thead>\n",
       "  <tbody>\n",
       "    <tr>\n",
       "      <th id=\"T_688cb_level0_row0\" class=\"row_heading level0 row0\" >0</th>\n",
       "      <td id=\"T_688cb_row0_col0\" class=\"data row0 col0\" >OK</td>\n",
       "    </tr>\n",
       "  </tbody>\n",
       "</table>\n"
      ],
      "text/plain": [
       "<pandas.io.formats.style.Styler at 0x7f6f67c7e8f0>"
      ]
     },
     "execution_count": 27,
     "metadata": {},
     "output_type": "execute_result"
    }
   ],
   "source": [
    "?[a, b, c] <- [[1, 'a', 'A'],\n",
    "               [2, 'b', 'B'],\n",
    "               [3, 'c', 'C'],\n",
    "               [4, 'd', 'D']]\n",
    "\n",
    ":create fd {a, b => c}"
   ]
  },
  {
   "cell_type": "code",
   "execution_count": 28,
   "id": "df80c38b-ecd8-4ae5-82d4-fa4c394a006b",
   "metadata": {
    "tags": []
   },
   "outputs": [
    {
     "data": {
      "text/html": [
       "<style type=\"text/css\">\n",
       "#T_09c99_row0_col0, #T_09c99_row1_col0, #T_09c99_row2_col0, #T_09c99_row3_col0 {\n",
       "  color: #307fc1;\n",
       "}\n",
       "#T_09c99_row0_col1, #T_09c99_row0_col2, #T_09c99_row1_col1, #T_09c99_row1_col2, #T_09c99_row2_col1, #T_09c99_row2_col2, #T_09c99_row3_col1, #T_09c99_row3_col2 {\n",
       "  color: black;\n",
       "}\n",
       "</style>\n",
       "<table id=\"T_09c99\">\n",
       "  <thead>\n",
       "    <tr>\n",
       "      <th class=\"blank level0\" >&nbsp;</th>\n",
       "      <th id=\"T_09c99_level0_col0\" class=\"col_heading level0 col0\" >a</th>\n",
       "      <th id=\"T_09c99_level0_col1\" class=\"col_heading level0 col1\" >b</th>\n",
       "      <th id=\"T_09c99_level0_col2\" class=\"col_heading level0 col2\" >c</th>\n",
       "    </tr>\n",
       "  </thead>\n",
       "  <tbody>\n",
       "    <tr>\n",
       "      <th id=\"T_09c99_level0_row0\" class=\"row_heading level0 row0\" >0</th>\n",
       "      <td id=\"T_09c99_row0_col0\" class=\"data row0 col0\" >1</td>\n",
       "      <td id=\"T_09c99_row0_col1\" class=\"data row0 col1\" >a</td>\n",
       "      <td id=\"T_09c99_row0_col2\" class=\"data row0 col2\" >A</td>\n",
       "    </tr>\n",
       "    <tr>\n",
       "      <th id=\"T_09c99_level0_row1\" class=\"row_heading level0 row1\" >1</th>\n",
       "      <td id=\"T_09c99_row1_col0\" class=\"data row1 col0\" >2</td>\n",
       "      <td id=\"T_09c99_row1_col1\" class=\"data row1 col1\" >b</td>\n",
       "      <td id=\"T_09c99_row1_col2\" class=\"data row1 col2\" >B</td>\n",
       "    </tr>\n",
       "    <tr>\n",
       "      <th id=\"T_09c99_level0_row2\" class=\"row_heading level0 row2\" >2</th>\n",
       "      <td id=\"T_09c99_row2_col0\" class=\"data row2 col0\" >3</td>\n",
       "      <td id=\"T_09c99_row2_col1\" class=\"data row2 col1\" >c</td>\n",
       "      <td id=\"T_09c99_row2_col2\" class=\"data row2 col2\" >C</td>\n",
       "    </tr>\n",
       "    <tr>\n",
       "      <th id=\"T_09c99_level0_row3\" class=\"row_heading level0 row3\" >3</th>\n",
       "      <td id=\"T_09c99_row3_col0\" class=\"data row3 col0\" >4</td>\n",
       "      <td id=\"T_09c99_row3_col1\" class=\"data row3 col1\" >d</td>\n",
       "      <td id=\"T_09c99_row3_col2\" class=\"data row3 col2\" >D</td>\n",
       "    </tr>\n",
       "  </tbody>\n",
       "</table>\n"
      ],
      "text/plain": [
       "<pandas.io.formats.style.Styler at 0x7f6f67c7f1c0>"
      ]
     },
     "execution_count": 28,
     "metadata": {},
     "output_type": "execute_result"
    }
   ],
   "source": [
    "?[a, b, c] := *fd[a, b, c]"
   ]
  },
  {
   "cell_type": "code",
   "execution_count": 34,
   "id": "821a6c8c-44e0-4129-b98d-6ad8c348d828",
   "metadata": {
    "tags": []
   },
   "outputs": [
    {
     "data": {
      "text/plain": [
       "\u001b[31mparser::pest\u001b[0m\n",
       "\n",
       "  \u001b[31m×\u001b[0m The query parser has encountered unexpected input / end of input at 57..57\n",
       "   ╭─[2:1]\n",
       " \u001b[2m2\u001b[0m │ \n",
       " \u001b[2m3\u001b[0m │ :put fd {a => c, b => c}\n",
       "   · \u001b[35;1m                    ▲\u001b[0m\n",
       " \u001b[2m4\u001b[0m │  \n",
       "   ╰────\n"
      ]
     },
     "execution_count": 34,
     "metadata": {},
     "output_type": "execute_result"
    }
   ],
   "source": [
    "?[a, b, c] <- [[3, 'c', 'CCCCCCC']]\n",
    "\n",
    ":put fd {a, b => c}"
   ]
  },
  {
   "cell_type": "code",
   "execution_count": 30,
   "id": "8ddb65c6-e810-4f8e-a6cf-27e6f758e639",
   "metadata": {
    "tags": []
   },
   "outputs": [
    {
     "data": {
      "text/html": [
       "<style type=\"text/css\">\n",
       "#T_ef790_row0_col0, #T_ef790_row1_col0, #T_ef790_row2_col0, #T_ef790_row3_col0 {\n",
       "  color: #307fc1;\n",
       "}\n",
       "#T_ef790_row0_col1, #T_ef790_row0_col2, #T_ef790_row1_col1, #T_ef790_row1_col2, #T_ef790_row2_col1, #T_ef790_row2_col2, #T_ef790_row3_col1, #T_ef790_row3_col2 {\n",
       "  color: black;\n",
       "}\n",
       "</style>\n",
       "<table id=\"T_ef790\">\n",
       "  <thead>\n",
       "    <tr>\n",
       "      <th class=\"blank level0\" >&nbsp;</th>\n",
       "      <th id=\"T_ef790_level0_col0\" class=\"col_heading level0 col0\" >a</th>\n",
       "      <th id=\"T_ef790_level0_col1\" class=\"col_heading level0 col1\" >b</th>\n",
       "      <th id=\"T_ef790_level0_col2\" class=\"col_heading level0 col2\" >c</th>\n",
       "    </tr>\n",
       "  </thead>\n",
       "  <tbody>\n",
       "    <tr>\n",
       "      <th id=\"T_ef790_level0_row0\" class=\"row_heading level0 row0\" >0</th>\n",
       "      <td id=\"T_ef790_row0_col0\" class=\"data row0 col0\" >1</td>\n",
       "      <td id=\"T_ef790_row0_col1\" class=\"data row0 col1\" >a</td>\n",
       "      <td id=\"T_ef790_row0_col2\" class=\"data row0 col2\" >A</td>\n",
       "    </tr>\n",
       "    <tr>\n",
       "      <th id=\"T_ef790_level0_row1\" class=\"row_heading level0 row1\" >1</th>\n",
       "      <td id=\"T_ef790_row1_col0\" class=\"data row1 col0\" >2</td>\n",
       "      <td id=\"T_ef790_row1_col1\" class=\"data row1 col1\" >b</td>\n",
       "      <td id=\"T_ef790_row1_col2\" class=\"data row1 col2\" >B</td>\n",
       "    </tr>\n",
       "    <tr>\n",
       "      <th id=\"T_ef790_level0_row2\" class=\"row_heading level0 row2\" >2</th>\n",
       "      <td id=\"T_ef790_row2_col0\" class=\"data row2 col0\" >3</td>\n",
       "      <td id=\"T_ef790_row2_col1\" class=\"data row2 col1\" >c</td>\n",
       "      <td id=\"T_ef790_row2_col2\" class=\"data row2 col2\" >CCCCCCC</td>\n",
       "    </tr>\n",
       "    <tr>\n",
       "      <th id=\"T_ef790_level0_row3\" class=\"row_heading level0 row3\" >3</th>\n",
       "      <td id=\"T_ef790_row3_col0\" class=\"data row3 col0\" >4</td>\n",
       "      <td id=\"T_ef790_row3_col1\" class=\"data row3 col1\" >d</td>\n",
       "      <td id=\"T_ef790_row3_col2\" class=\"data row3 col2\" >D</td>\n",
       "    </tr>\n",
       "  </tbody>\n",
       "</table>\n"
      ],
      "text/plain": [
       "<pandas.io.formats.style.Styler at 0x7f7004a29930>"
      ]
     },
     "execution_count": 30,
     "metadata": {},
     "output_type": "execute_result"
    }
   ],
   "source": [
    "?[a, b, c] := *fd[a, b, c]"
   ]
  },
  {
   "cell_type": "code",
   "execution_count": 31,
   "id": "6ea979b1-62e2-4e26-832f-4bfed5a92c45",
   "metadata": {
    "tags": []
   },
   "outputs": [
    {
     "data": {
      "text/html": [
       "<style type=\"text/css\">\n",
       "#T_86760_row0_col0 {\n",
       "  color: black;\n",
       "}\n",
       "</style>\n",
       "<table id=\"T_86760\">\n",
       "  <thead>\n",
       "    <tr>\n",
       "      <th class=\"blank level0\" >&nbsp;</th>\n",
       "      <th id=\"T_86760_level0_col0\" class=\"col_heading level0 col0\" >status</th>\n",
       "    </tr>\n",
       "  </thead>\n",
       "  <tbody>\n",
       "    <tr>\n",
       "      <th id=\"T_86760_level0_row0\" class=\"row_heading level0 row0\" >0</th>\n",
       "      <td id=\"T_86760_row0_col0\" class=\"data row0 col0\" >OK</td>\n",
       "    </tr>\n",
       "  </tbody>\n",
       "</table>\n"
      ],
      "text/plain": [
       "<pandas.io.formats.style.Styler at 0x7f7004a50370>"
      ]
     },
     "execution_count": 31,
     "metadata": {},
     "output_type": "execute_result"
    }
   ],
   "source": [
    "?[a, b, c] <- [[4, 'c', 'CCCCCCC']]\n",
    "\n",
    ":put fd {a, b => c}"
   ]
  },
  {
   "cell_type": "code",
   "execution_count": 32,
   "id": "d03275a0-512e-434e-b295-f198cfb0ce6a",
   "metadata": {
    "tags": []
   },
   "outputs": [
    {
     "data": {
      "text/html": [
       "<style type=\"text/css\">\n",
       "#T_93eb8_row0_col0, #T_93eb8_row1_col0, #T_93eb8_row2_col0, #T_93eb8_row3_col0, #T_93eb8_row4_col0 {\n",
       "  color: #307fc1;\n",
       "}\n",
       "#T_93eb8_row0_col1, #T_93eb8_row0_col2, #T_93eb8_row1_col1, #T_93eb8_row1_col2, #T_93eb8_row2_col1, #T_93eb8_row2_col2, #T_93eb8_row3_col1, #T_93eb8_row3_col2, #T_93eb8_row4_col1, #T_93eb8_row4_col2 {\n",
       "  color: black;\n",
       "}\n",
       "</style>\n",
       "<table id=\"T_93eb8\">\n",
       "  <thead>\n",
       "    <tr>\n",
       "      <th class=\"blank level0\" >&nbsp;</th>\n",
       "      <th id=\"T_93eb8_level0_col0\" class=\"col_heading level0 col0\" >a</th>\n",
       "      <th id=\"T_93eb8_level0_col1\" class=\"col_heading level0 col1\" >b</th>\n",
       "      <th id=\"T_93eb8_level0_col2\" class=\"col_heading level0 col2\" >c</th>\n",
       "    </tr>\n",
       "  </thead>\n",
       "  <tbody>\n",
       "    <tr>\n",
       "      <th id=\"T_93eb8_level0_row0\" class=\"row_heading level0 row0\" >0</th>\n",
       "      <td id=\"T_93eb8_row0_col0\" class=\"data row0 col0\" >1</td>\n",
       "      <td id=\"T_93eb8_row0_col1\" class=\"data row0 col1\" >a</td>\n",
       "      <td id=\"T_93eb8_row0_col2\" class=\"data row0 col2\" >A</td>\n",
       "    </tr>\n",
       "    <tr>\n",
       "      <th id=\"T_93eb8_level0_row1\" class=\"row_heading level0 row1\" >1</th>\n",
       "      <td id=\"T_93eb8_row1_col0\" class=\"data row1 col0\" >2</td>\n",
       "      <td id=\"T_93eb8_row1_col1\" class=\"data row1 col1\" >b</td>\n",
       "      <td id=\"T_93eb8_row1_col2\" class=\"data row1 col2\" >B</td>\n",
       "    </tr>\n",
       "    <tr>\n",
       "      <th id=\"T_93eb8_level0_row2\" class=\"row_heading level0 row2\" >2</th>\n",
       "      <td id=\"T_93eb8_row2_col0\" class=\"data row2 col0\" >3</td>\n",
       "      <td id=\"T_93eb8_row2_col1\" class=\"data row2 col1\" >c</td>\n",
       "      <td id=\"T_93eb8_row2_col2\" class=\"data row2 col2\" >CCCCCCC</td>\n",
       "    </tr>\n",
       "    <tr>\n",
       "      <th id=\"T_93eb8_level0_row3\" class=\"row_heading level0 row3\" >3</th>\n",
       "      <td id=\"T_93eb8_row3_col0\" class=\"data row3 col0\" >4</td>\n",
       "      <td id=\"T_93eb8_row3_col1\" class=\"data row3 col1\" >c</td>\n",
       "      <td id=\"T_93eb8_row3_col2\" class=\"data row3 col2\" >CCCCCCC</td>\n",
       "    </tr>\n",
       "    <tr>\n",
       "      <th id=\"T_93eb8_level0_row4\" class=\"row_heading level0 row4\" >4</th>\n",
       "      <td id=\"T_93eb8_row4_col0\" class=\"data row4 col0\" >4</td>\n",
       "      <td id=\"T_93eb8_row4_col1\" class=\"data row4 col1\" >d</td>\n",
       "      <td id=\"T_93eb8_row4_col2\" class=\"data row4 col2\" >D</td>\n",
       "    </tr>\n",
       "  </tbody>\n",
       "</table>\n"
      ],
      "text/plain": [
       "<pandas.io.formats.style.Styler at 0x7f6f67c7ff70>"
      ]
     },
     "execution_count": 32,
     "metadata": {},
     "output_type": "execute_result"
    }
   ],
   "source": [
    "?[a, b, c] := *fd[a, b, c]"
   ]
  },
  {
   "cell_type": "code",
   "execution_count": 33,
   "id": "f8c6598e-6ed6-4da9-bcbf-abfcd5817dee",
   "metadata": {
    "tags": []
   },
   "outputs": [
    {
     "data": {
      "text/html": [
       "<style type=\"text/css\">\n",
       "#T_6175b_row0_col0 {\n",
       "  color: black;\n",
       "}\n",
       "</style>\n",
       "<table id=\"T_6175b\">\n",
       "  <thead>\n",
       "    <tr>\n",
       "      <th class=\"blank level0\" >&nbsp;</th>\n",
       "      <th id=\"T_6175b_level0_col0\" class=\"col_heading level0 col0\" >status</th>\n",
       "    </tr>\n",
       "  </thead>\n",
       "  <tbody>\n",
       "    <tr>\n",
       "      <th id=\"T_6175b_level0_row0\" class=\"row_heading level0 row0\" >0</th>\n",
       "      <td id=\"T_6175b_row0_col0\" class=\"data row0 col0\" >OK</td>\n",
       "    </tr>\n",
       "  </tbody>\n",
       "</table>\n"
      ],
      "text/plain": [
       "<pandas.io.formats.style.Styler at 0x7f6f67ca3b50>"
      ]
     },
     "execution_count": 33,
     "metadata": {},
     "output_type": "execute_result"
    }
   ],
   "source": [
    "::remove fd"
   ]
  },
  {
   "cell_type": "code",
   "execution_count": 36,
   "id": "c516ffad-b2e5-4c5e-b4f3-1605fee0053d",
   "metadata": {
    "tags": []
   },
   "outputs": [
    {
     "data": {
      "text/html": [
       "<style type=\"text/css\">\n",
       "#T_0485f_row0_col0 {\n",
       "  color: black;\n",
       "}\n",
       "</style>\n",
       "<table id=\"T_0485f\">\n",
       "  <thead>\n",
       "    <tr>\n",
       "      <th class=\"blank level0\" >&nbsp;</th>\n",
       "      <th id=\"T_0485f_level0_col0\" class=\"col_heading level0 col0\" >status</th>\n",
       "    </tr>\n",
       "  </thead>\n",
       "  <tbody>\n",
       "    <tr>\n",
       "      <th id=\"T_0485f_level0_row0\" class=\"row_heading level0 row0\" >0</th>\n",
       "      <td id=\"T_0485f_row0_col0\" class=\"data row0 col0\" >OK</td>\n",
       "    </tr>\n",
       "  </tbody>\n",
       "</table>\n"
      ],
      "text/plain": [
       "<pandas.io.formats.style.Styler at 0x7f6f67c7c6d0>"
      ]
     },
     "execution_count": 36,
     "metadata": {},
     "output_type": "execute_result"
    }
   ],
   "source": [
    "?[loving, loved] <- [['alice', 'eve'],\n",
    "                     ['bob', 'alice'],\n",
    "                     ['eve', 'alice'],\n",
    "                     ['eve', 'bob'],\n",
    "                     ['eve', 'charlie'],\n",
    "                     ['charlie', 'eve'],\n",
    "                     ['david', 'george'],\n",
    "                     ['george', 'george']]\n",
    "\n",
    ":replace love {loving, loved}"
   ]
  },
  {
   "cell_type": "code",
   "execution_count": 37,
   "id": "39a21fcd-c3fe-4be8-9493-cb45037b269f",
   "metadata": {
    "tags": []
   },
   "outputs": [
    {
     "data": {
      "text/html": [
       "<style type=\"text/css\">\n",
       "#T_9efa2_row0_col0 {\n",
       "  color: black;\n",
       "}\n",
       "</style>\n",
       "<table id=\"T_9efa2\">\n",
       "  <thead>\n",
       "    <tr>\n",
       "      <th class=\"blank level0\" >&nbsp;</th>\n",
       "      <th id=\"T_9efa2_level0_col0\" class=\"col_heading level0 col0\" >loved_by_b_e</th>\n",
       "    </tr>\n",
       "  </thead>\n",
       "  <tbody>\n",
       "    <tr>\n",
       "      <th id=\"T_9efa2_level0_row0\" class=\"row_heading level0 row0\" >0</th>\n",
       "      <td id=\"T_9efa2_row0_col0\" class=\"data row0 col0\" >alice</td>\n",
       "    </tr>\n",
       "  </tbody>\n",
       "</table>\n"
      ],
      "text/plain": [
       "<pandas.io.formats.style.Styler at 0x7f6f67ca2f50>"
      ]
     },
     "execution_count": 37,
     "metadata": {},
     "output_type": "execute_result"
    }
   ],
   "source": [
    "?[loved_by_b_e] := *love['eve', loved_by_b_e], \n",
    "                   *love['bob', loved_by_b_e]"
   ]
  },
  {
   "cell_type": "code",
   "execution_count": null,
   "id": "524a87cb-b9dd-4121-9d17-a81b9681fc2e",
   "metadata": {},
   "outputs": [],
   "source": []
  }
 ],
 "metadata": {
  "kernelspec": {
   "display_name": "Python 3 (ipykernel)",
   "language": "python",
   "name": "python3"
  },
  "language_info": {
   "codemirror_mode": {
    "name": "ipython",
    "version": 3
   },
   "file_extension": ".py",
   "mimetype": "text/x-python",
   "name": "python",
   "nbconvert_exporter": "python",
   "pygments_lexer": "ipython3",
   "version": "3.10.5"
  }
 },
 "nbformat": 4,
 "nbformat_minor": 5
}
