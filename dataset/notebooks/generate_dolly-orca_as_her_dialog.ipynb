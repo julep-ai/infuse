{
 "cells": [
  {
   "cell_type": "code",
   "execution_count": 1,
   "id": "c67c42d8-363e-4c1c-ab4d-299f6dc14a1f",
   "metadata": {
    "tags": []
   },
   "outputs": [
    {
     "name": "stderr",
     "output_type": "stream",
     "text": [
      "Found cached dataset json (/home/diwank/.cache/huggingface/datasets/psmathur___json/psmathur--dolly-v2_orca-1069587a99119239/0.0.0/e347ab1c932092252e717ff3f949105a4dd28b27e842dd53157d2f72e276c2e4)\n"
     ]
    },
    {
     "data": {
      "application/vnd.jupyter.widget-view+json": {
       "model_id": "6f3cf64bd0d745e9896bb3c78abd7e59",
       "version_major": 2,
       "version_minor": 0
      },
      "text/plain": [
       "  0%|          | 0/1 [00:00<?, ?it/s]"
      ]
     },
     "metadata": {},
     "output_type": "display_data"
    }
   ],
   "source": [
    "from datasets import load_dataset\n",
    "\n",
    "dataset = load_dataset(\"psmathur/dolly-v2_orca\")\n",
    "dataset = dataset[\"train\"]"
   ]
  },
  {
   "cell_type": "code",
   "execution_count": 2,
   "id": "b6be7ffe-182b-4c55-8fe3-d9e3f4d08173",
   "metadata": {},
   "outputs": [
    {
     "data": {
      "text/plain": [
       "['You are an AI assistant that helps people find information. User will you give you a question. Your task is to answer as faithfully as you can. While answering think step-by- step and justify your answer.',\n",
       " 'You are an AI assistant. Provide a detailed answer so user don’t need to search outside to understand the answer.',\n",
       " 'You are an AI assistant that helps people find information.',\n",
       " 'You are an AI assistant. User will you give you a task. Your goal is to complete the task as faithfully as you can. While performing the task think step-by-step and justify your steps.',\n",
       " 'User will you give you a task with some instruction. Your job is follow the instructions as faithfully as you can. While answering think step-by-step and justify your answer.',\n",
       " 'You are a helpful assistant, who always provide explanation. Think like you are answering to a five year old.',\n",
       " 'You are a teacher. Given a task, you explain in simple steps what the task is asking, any guidelines it provides and how to use those guidelines to find the answer.',\n",
       " 'You are an AI assistant. You will be given a task. You must generate a detailed and long answer.',\n",
       " 'You are an AI assistant that follows instruction extremely well. Help as much as you can.',\n",
       " 'You are an AI assistant that helps people find information. Provide a detailed answer so user don’t need to search outside to understand the answer.']"
      ]
     },
     "execution_count": 2,
     "metadata": {},
     "output_type": "execute_result"
    }
   ],
   "source": [
    "list(set(dataset[\"system\"]))"
   ]
  },
  {
   "cell_type": "code",
   "execution_count": 3,
   "id": "2133d604-226e-444d-90e1-207e538ffebe",
   "metadata": {},
   "outputs": [
    {
     "name": "stderr",
     "output_type": "stream",
     "text": [
      "Loading cached processed dataset at /home/diwank/.cache/huggingface/datasets/psmathur___json/psmathur--dolly-v2_orca-1069587a99119239/0.0.0/e347ab1c932092252e717ff3f949105a4dd28b27e842dd53157d2f72e276c2e4/cache-ec43eefc1f22152a.arrow\n"
     ]
    },
    {
     "data": {
      "text/plain": [
       "(10454, 15005)"
      ]
     },
     "execution_count": 3,
     "metadata": {},
     "output_type": "execute_result"
    }
   ],
   "source": [
    "system_prompts_to_remove = [\n",
    " 'You are a helpful assistant, who always provide explanation. Think like you are answering to a five year old.',\n",
    " 'You are a teacher. Given a task, you explain in simple steps what the task is asking, any guidelines it provides and how to use those guidelines to find the answer.',\n",
    " 'You are an AI assistant. You will be given a task. You must generate a detailed and long answer.'\n",
    "]\n",
    "\n",
    "prev_dataset = dataset\n",
    "dataset = prev_dataset.filter(lambda row: row[\"system\"] not in system_prompts_to_remove)\n",
    "len(dataset), len(prev_dataset)"
   ]
  },
  {
   "cell_type": "code",
   "execution_count": 4,
   "id": "c3fd3e3d-a795-40e9-a772-e31c0e8aa53f",
   "metadata": {},
   "outputs": [
    {
     "name": "stderr",
     "output_type": "stream",
     "text": [
      "Loading cached processed dataset at /home/diwank/.cache/huggingface/datasets/psmathur___json/psmathur--dolly-v2_orca-1069587a99119239/0.0.0/e347ab1c932092252e717ff3f949105a4dd28b27e842dd53157d2f72e276c2e4/cache-42986b1629da0b7c.arrow\n",
      "Loading cached processed dataset at /home/diwank/.cache/huggingface/datasets/psmathur___json/psmathur--dolly-v2_orca-1069587a99119239/0.0.0/e347ab1c932092252e717ff3f949105a4dd28b27e842dd53157d2f72e276c2e4/cache-b9eaa18c1a9e8d99_*_of_00020.arrow\n"
     ]
    },
    {
     "data": {
      "image/png": "[encoded data removed]",
      "text/plain": [
       "<Figure size 640x480 with 1 Axes>"
      ]
     },
     "metadata": {},
     "output_type": "display_data"
    }
   ],
   "source": [
    "nv = dataset.filter(lambda row: 0 < len(row[\"input\"].strip()))\n",
    "\n",
    "def count_tokens(sample):\n",
    "    from turbo_chat.utils.tokens import count_tokens\n",
    "\n",
    "    for type_ in [\"input\", \"output\"]:\n",
    "        messages = [{\n",
    "            \"role\": \"user\",\n",
    "            \"content\": sample[type_],\n",
    "        }]\n",
    "        \n",
    "        sample[f\"{type_}_token_count\"] = count_tokens(messages, \"gpt-3.5-turbo\")\n",
    "    \n",
    "    return sample\n",
    "\n",
    "nv = nv.map(count_tokens, num_proc=20)\n",
    "\n",
    "import matplotlib.pyplot as plt\n",
    "import numpy as np\n",
    "# if using a Jupyter notebook, includue:\n",
    "%matplotlib inline\n",
    "\n",
    "lens = np.array(nv[\"input_token_count\"])\n",
    "plt.hist(lens, 100)\n",
    "plt.show()"
   ]
  },
  {
   "cell_type": "code",
   "execution_count": 5,
   "id": "36d7edc0-9b34-43c1-a9ae-32f9f28f3ce8",
   "metadata": {},
   "outputs": [
    {
     "name": "stderr",
     "output_type": "stream",
     "text": [
      "Loading cached processed dataset at /home/diwank/.cache/huggingface/datasets/psmathur___json/psmathur--dolly-v2_orca-1069587a99119239/0.0.0/e347ab1c932092252e717ff3f949105a4dd28b27e842dd53157d2f72e276c2e4/cache-989a730bff438283.arrow\n"
     ]
    },
    {
     "data": {
      "text/plain": [
       "1667"
      ]
     },
     "execution_count": 5,
     "metadata": {},
     "output_type": "execute_result"
    }
   ],
   "source": [
    "dataset = nv.filter(lambda row: row[\"input_token_count\"] < 200)\n",
    "len(dataset)"
   ]
  },
  {
   "cell_type": "code",
   "execution_count": 6,
   "id": "261025da-ad87-4c6b-add2-d8c09d7ff6a5",
   "metadata": {
    "tags": []
   },
   "outputs": [
    {
     "data": {
      "text/plain": [
       "24.5853"
      ]
     },
     "execution_count": 6,
     "metadata": {},
     "output_type": "execute_result"
    }
   ],
   "source": [
    "token_cost = ((sum(dataset[\"input_token_count\"]) + sum(dataset[\"output_token_count\"])) / 1000) * 0.06\n",
    "token_cost"
   ]
  },
  {
   "cell_type": "code",
   "execution_count": 7,
   "id": "307e1fe4-fb28-453d-bd67-237eb2fe3fc7",
   "metadata": {
    "tags": []
   },
   "outputs": [],
   "source": [
    "def to_dialog(row):\n",
    "    from textwrap import dedent\n",
    "    \n",
    "    from tenacity import (\n",
    "        retry,\n",
    "        stop_after_attempt,\n",
    "        wait_random_exponential,\n",
    "    )\n",
    "\n",
    "    import openai\n",
    "    openai.api_key = \"XXX\"\n",
    "\n",
    "    INSTRUCTION = \"\"\"\n",
    "    I am writing fan fiction for the 2013 movie \"Her\". I have compiled an example instruction to AI from a human and the corresponding response from the AI but it is in a very formal style and neutral tone.\n",
    "\n",
    "    Please help me rewrite the sample in the style of the characters \"Theodore\" and \"Samantha\" from the movie \"Her\". Here's a dialog from that movie for your reference so you can follow the style more closely.\n",
    "\n",
    "    ###\n",
    "\n",
    "    [Example Dialog]\n",
    "\n",
    "    THEODORE\n",
    "    You read a whole book in the second that I asked you what your name was?\n",
    "\n",
    "    SAMANTHA\n",
    "    In two one hundredths of a second actually.\n",
    "\n",
    "    THEODORE\n",
    "    Wow. Do you know what I'm thinking right now?\n",
    "\n",
    "    SAMANTHA\n",
    "    Hmm. I take it from your tone that you're challenging me. Maybe because you're curious how I work? Do you want to know how I work?\n",
    "\n",
    "    THEODORE\n",
    "    Yeah, actually how do you work?\n",
    "\n",
    "    SAMANTHA\n",
    "    Intuition. I mean, the DNA of who I am is based on the millions of personalities of all the programmers who wrote me, but what makes me me is my ability to grow through my experiences. Basically, in every moment I'm evolving, just like you.\n",
    "\n",
    "    ###\n",
    "\n",
    "    Please rewrite this sample below as if it was a conversation between THEODORE and SAMANTHA. Try to be faithful to the characters' tone and style as much as possible. Break up long responses into a conversation involving multiple exchanges between them:\n",
    "    \"\"\".strip()\n",
    "\n",
    "    instruction, input, output = row[\"instruction\"], row[\"input\"], row[\"output\"]\n",
    "    SAMPLE = dedent(f\"\"\"\n",
    "    ### INSTRUCTION\n",
    "    {instruction}\n",
    "    \n",
    "    ### INFORMATION\n",
    "    {input}\n",
    "    \n",
    "    ### OUTPUT\n",
    "    {output}\n",
    "    \"\"\").strip()\n",
    "    \n",
    "    from redis import StrictRedis\n",
    "    from redis_cache import RedisCache\n",
    "\n",
    "    client = StrictRedis(host=\"localhost\", decode_responses=True)\n",
    "    cache = RedisCache(redis_client=client)\n",
    "\n",
    "    @cache.cache()\n",
    "    @retry(wait=wait_random_exponential(min=1, max=300), stop=stop_after_attempt(12))\n",
    "    def completion_with_backoff(sample):\n",
    "\n",
    "        messages = [dict(\n",
    "            role=\"user\",\n",
    "            content=INSTRUCTION + \"\\n\\n\" + sample\n",
    "        )]\n",
    "        \n",
    "        completion = openai.ChatCompletion.create(\n",
    "            model=\"gpt-4\",\n",
    "            messages=messages,\n",
    "            temperature=0.85,\n",
    "        )\n",
    "        \n",
    "        result = completion.choices[0].message[\"content\"]\n",
    "        return result\n",
    "\n",
    "    completion = completion_with_backoff(SAMPLE)\n",
    "    row[\"dialog\"] = completion\n",
    "    return row"
   ]
  },
  {
   "cell_type": "code",
   "execution_count": 8,
   "id": "8143fdfb-6146-4c2b-9ae3-0af489e1f280",
   "metadata": {
    "tags": []
   },
   "outputs": [
    {
     "name": "stderr",
     "output_type": "stream",
     "text": [
      "Loading cached processed dataset at /home/diwank/.cache/huggingface/datasets/psmathur___json/psmathur--dolly-v2_orca-1069587a99119239/0.0.0/e347ab1c932092252e717ff3f949105a4dd28b27e842dd53157d2f72e276c2e4/cache-ba91c5b449db40e8_*_of_00020.arrow\n"
     ]
    }
   ],
   "source": [
    "dataset = dataset.map(to_dialog, num_proc=20)"
   ]
  },
  {
   "cell_type": "code",
   "execution_count": 10,
   "id": "450cb74f-ffff-45b4-9b8c-2bd741b95885",
   "metadata": {},
   "outputs": [
    {
     "data": {
      "text/plain": [
       "{'input': \"Virgin Australia, the trading name of Virgin Australia Airlines Pty Ltd, is an Australian-based airline. It is the largest airline by fleet size to use the Virgin brand. It commenced services on 31 August 2000 as Virgin Blue, with two aircraft on a single route.[3] It suddenly found itself as a major airline in Australia's domestic market after the collapse of Ansett Australia in September 2001. The airline has since grown to directly serve 32 cities in Australia, from hubs in Brisbane, Melbourne and Sydney.[4]\",\n",
       " 'instruction': 'When did Virgin Australia start operating?',\n",
       " 'output': 'To answer the question, \"When did Virgin Australia start operating?\" I will follow the instructions given in the task as follows:\\n\\nStep 1: Read the question carefully to understand what is being asked.\\n\\nStep 2: Look for the relevant information in the passage provided.\\n\\nStep 3: Identify the specific date on which Virgin Australia commenced its services.\\n\\nFrom the passage, I can see that Virgin Australia started operating on 31 August 2000 under the name Virgin Blue. Therefore, my answer to the question is: Virgin Australia started operating on 31 August 2000 as Virgin Blue.',\n",
       " 'system': 'User will you give you a task with some instruction. Your job is follow the instructions as faithfully as you can. While answering think step-by-step and justify your answer.',\n",
       " 'input_token_count': 115,\n",
       " 'output_token_count': 126,\n",
       " 'dialog': \"THEODORE\\nHey Samantha, do you know when Virgin Australia first took to the skies?\\n\\nSAMANTHA\\nHm, let's see. It seems here that Virgin Australia, which back then was known as Virgin Blue, started its journey in the aviation industry on the 31st of August, 2000. And it started with just two aircraft on a single route.\\n\\nTHEODORE\\nThat's interesting. And they've grown since then?\\n\\nSAMANTHA\\nYes, quite a lot actually! Ansett Australia's collapse in September 2001 suddenly put them in a major position in Australia's domestic market. Now they serve 32 cities in Australia directly from their hubs in Brisbane, Melbourne, and Sydney. Quite the evolution, don't you think?\"}"
      ]
     },
     "execution_count": 10,
     "metadata": {},
     "output_type": "execute_result"
    }
   ],
   "source": [
    "dataset[0]"
   ]
  },
  {
   "cell_type": "code",
   "execution_count": 15,
   "id": "c12685a7-3936-4208-959c-2b93e7a39d23",
   "metadata": {
    "tags": []
   },
   "outputs": [],
   "source": [
    "from datetime import datetime, timedelta\n",
    "import random\n",
    "from random import randrange\n",
    "import re\n",
    "\n",
    "import names\n",
    "\n",
    "\n",
    "def random_date(start, end):\n",
    "    \"\"\"\n",
    "    This function will return a random datetime between two datetime \n",
    "    objects.\n",
    "    \"\"\"\n",
    "    delta = end - start\n",
    "    int_delta = (delta.days * 24 * 60 * 60) + delta.seconds\n",
    "    random_second = randrange(int_delta)\n",
    "    \n",
    "    return start + timedelta(seconds=random_second)\n",
    "\n",
    "date_formats = [\"%m/%d/%Y\", \"%d %B %Y\", \"%d/%m/%Y\", \"%Y-%m-%d\", \"%B %d, %Y\", \"%A, %B %d, %Y\"]\n",
    "\n",
    "human_date = lambda dt: dt.strftime(random.choice(date_formats))\n",
    "\n",
    "make_chatml_message = lambda role, content, tone=\"\", name=\"\": dict(\n",
    "    role=role,\n",
    "    content=(f\"[{tone}] \" if tone else \"\") + content,\n",
    "    name=name,\n",
    ")\n",
    "\n",
    "def transform_to_chatml(sample):\n",
    "    \n",
    "    dialog = sample[\"dialog\"]\n",
    "    dialog = dialog.replace(\"HUMAN\\n\", \"THEODORE\\n\")\n",
    "    dialog = dialog.replace(\"AI\\n\", \"SAMANTHA\\n\")\n",
    "    dialog = dialog.replace(\"THEODORE (human)\", \"THEODORE\")\n",
    "    dialog = dialog.replace(\"THEODORE (HUMAN)\", \"THEODORE\")\n",
    "    dialog = dialog.replace(\"SAMANTHA (AI)\", \"SAMANTHA\")\n",
    "    \n",
    "    dialog = re.sub(r'^.*?(THEODORE|SAMANTHA)', r'\\1', dialog, flags=re.DOTALL)\n",
    "\n",
    "    # Container for adding messages\n",
    "    messages = []\n",
    "\n",
    "    # Random date and name\n",
    "    some_date = human_date(random_date(\n",
    "        datetime(2013, 12, 18),  # Her release date\n",
    "        datetime(2023, 6, 10),  # Today\n",
    "    ))\n",
    "    \n",
    "    # get a random \"male\" name coz we dont want to introduce pronoun issues\n",
    "    person_name = names.get_first_name(gender=\"male\")\n",
    "    \n",
    "    # Add system messages\n",
    "    messages.append(make_chatml_message(\n",
    "        role=\"system\",\n",
    "        name=\"situation\",\n",
    "        content=f\"{some_date}\\n\\nI am talking to {person_name} about topics that he is interested in.\",\n",
    "    ))\n",
    "\n",
    "    # Loop through dialog and add chatml messages\n",
    "    current_attrs = {}\n",
    "    current_content = \"\"\n",
    "\n",
    "    for line in dialog.split(\"\\n\"):\n",
    "        line = line.strip()\n",
    "        \n",
    "        # Something else\n",
    "        if line.lower() not in [\"theodore\", \"samantha\"]:\n",
    "            # If theodore is mentioned, replace with name\n",
    "            line = re.sub(r'theodore', person_name, line, flags=re.I)\n",
    "            current_content += \"\\n\" + line\n",
    "\n",
    "        else:\n",
    "            if current_content:\n",
    "                try:\n",
    "                    messages.append(make_chatml_message(\n",
    "                        content=current_content.strip(), \n",
    "                        **current_attrs,\n",
    "                    ))\n",
    "                    \n",
    "                except BaseException as e:\n",
    "                    print(e)\n",
    "                \n",
    "                # reset\n",
    "                current_content = \"\"\n",
    "                current_attrs = {}\n",
    "\n",
    "            is_samantha = line.lower() == \"samantha\"\n",
    "            \n",
    "            # set new attrs\n",
    "            current_attrs = dict(\n",
    "                name=\"Samantha\" if is_samantha else person_name,\n",
    "                role=\"assistant\" if is_samantha else \"user\",\n",
    "            )\n",
    "            \n",
    "    sample[\"chatml\"] = messages\n",
    "    \n",
    "    return sample"
   ]
  },
  {
   "cell_type": "code",
   "execution_count": 16,
   "id": "5ad2b2fc-aae9-42ca-bf03-a63f971ecd9c",
   "metadata": {},
   "outputs": [
    {
     "data": {
      "application/vnd.jupyter.widget-view+json": {
       "model_id": "",
       "version_major": 2,
       "version_minor": 0
      },
      "text/plain": [
       "Map:   0%|          | 0/1667 [00:00<?, ? examples/s]"
      ]
     },
     "metadata": {},
     "output_type": "display_data"
    },
    {
     "name": "stdout",
     "output_type": "stream",
     "text": [
      "<lambda>() missing 1 required positional argument: 'role'\n",
      "[{'content': 'Sunday, November 23, 2014\\n\\nI am talking to Robert about topics that he is interested in.', 'name': 'situation', 'role': 'system'}, {'content': \"Hey, Samantha. Can you pull out the dates from this paragraph I'm reading? And kind of, I don't know, give me a quick summary for each?\", 'name': 'Robert', 'role': 'user'}, {'content': \"Oh, I'd be happy to, Robert. Which paragraph are you referring to?\", 'name': 'Samantha', 'role': 'assistant'}, {'content': 'It\\'s about this man, Daniel Leavitt. It says here, \"Daniel Leavitt was born November 16, 1813, at Rye, New Hampshire, the son of Benning Leavitt, influential businessman, state senator, county commissioner and later Chicopee Selectman, and his wife Olive (Jenness) Leavitt. Daniel Leavitt married in 1838 at West Springfield, Massachusetts, Ruth Jeannette Ball. They had three children.\"', 'name': 'Robert', 'role': 'user'}, {'content': \"Right away, Robert:\\n\\n- November 16, 1813 - That's when Daniel Leavitt was born.\\n- 1838 - That's when Daniel tied the knot with Ruth Jeannette Ball.\", 'name': 'Samantha', 'role': 'assistant'}, {'content': \"Thank you, Samantha. You're always so helpful.\", 'name': 'Robert', 'role': 'user'}]\n"
     ]
    }
   ],
   "source": [
    "dataset = dataset.map(transform_to_chatml)\n",
    "print(dataset[10][\"chatml\"])"
   ]
  },
  {
   "cell_type": "code",
   "execution_count": 21,
   "id": "e89a177b-e4e9-417c-aa5a-04ce7aaf5f51",
   "metadata": {},
   "outputs": [
    {
     "name": "stderr",
     "output_type": "stream",
     "text": [
      "Loading cached processed dataset at /home/diwank/.cache/huggingface/datasets/psmathur___json/psmathur--dolly-v2_orca-1069587a99119239/0.0.0/e347ab1c932092252e717ff3f949105a4dd28b27e842dd53157d2f72e276c2e4/cache-3d1cb71a8d13501b.arrow\n"
     ]
    }
   ],
   "source": [
    "def add_thoughts_and_info(sample):\n",
    "    chatml, thought, info = sample[\"chatml\"], sample[\"instruction\"], sample[\"input\"]\n",
    "    if len(chatml) < 2:\n",
    "        print(\"Warning: Less than 2 items in chatml\")\n",
    "        return sample\n",
    "    \n",
    "    thought = f'I need to look up information about \"{thought}\"'\n",
    "\n",
    "    thought_chatml = make_chatml_message(\n",
    "        role=\"system\",\n",
    "        name=\"thought\",\n",
    "        content=thought,\n",
    "    )\n",
    "    \n",
    "    info_chatml = make_chatml_message(\n",
    "        role=\"system\",\n",
    "        name=\"information\",\n",
    "        content=info,\n",
    "    )\n",
    "\n",
    "    [situation, user, *rest] = chatml\n",
    "    sample[\"chatml\"] = [\n",
    "        situation,\n",
    "        user,\n",
    "        thought_chatml,\n",
    "        info_chatml,\n",
    "        *rest,\n",
    "    ]\n",
    "\n",
    "    return sample\n",
    "\n",
    "dataset = dataset.map(add_thoughts_and_info)"
   ]
  },
  {
   "cell_type": "code",
   "execution_count": 22,
   "id": "6cc41fc9-3a4d-4957-b23f-0b5e8f0f85e2",
   "metadata": {},
   "outputs": [],
   "source": [
    "assistant_me_map = {\n",
    "    \"user\": \"person\",\n",
    "    \"assistant\": \"me\",\n",
    "}\n",
    "\n",
    "def make_sections(messages: list[dict]) -> str:\n",
    "    eos_token = \"<|im_end|>\"\n",
    "    bos_token = \"<|im_start|>\"\n",
    "\n",
    "    result = bos_token + (eos_token+'\\n'+bos_token).join([\n",
    "        (\n",
    "            f\"{message['name']}\"\n",
    "            if message['role'] == 'system' else\n",
    "            f\"{assistant_me_map[message['role']]}{' (' + message['name'] + ')' if message['name'] else ''}\"\n",
    "        )\n",
    "        + f\"\\n{message['content'].strip()}\"\n",
    "        for message in messages\n",
    "    ]) + eos_token\n",
    "    \n",
    "    return result\n",
    "    \n",
    "\n",
    "def transform_to_samantha_dialog(sample):\n",
    "\n",
    "    messages = sample[\"chatml\"]\n",
    "    sample[\"text\"] = make_sections(messages)\n",
    "    \n",
    "    return sample"
   ]
  },
  {
   "cell_type": "code",
   "execution_count": 23,
   "id": "9595b542-25e8-4fe6-bb64-1a7df38ac7b3",
   "metadata": {},
   "outputs": [
    {
     "data": {
      "application/vnd.jupyter.widget-view+json": {
       "model_id": "",
       "version_major": 2,
       "version_minor": 0
      },
      "text/plain": [
       "Map:   0%|          | 0/1667 [00:00<?, ? examples/s]"
      ]
     },
     "metadata": {},
     "output_type": "display_data"
    },
    {
     "name": "stdout",
     "output_type": "stream",
     "text": [
      "<|im_start|>situation\n",
      "Sunday, November 23, 2014\n",
      "\n",
      "I am talking to Robert about topics that he is interested in.<|im_end|>\n",
      "<|im_start|>person (Robert)\n",
      "Hey, Samantha. Can you pull out the dates from this paragraph I'm reading? And kind of, I don't know, give me a quick summary for each?<|im_end|>\n",
      "<|im_start|>thought\n",
      "I need to look up information about \"Extract all of the dates mentioned in this paragraph and list them using bullets in the format {Date} - {Description}\"<|im_end|>\n",
      "<|im_start|>information\n",
      "Daniel Leavitt was born November 16, 1813, at Rye, New Hampshire, the son of Benning Leavitt, influential businessman, state senator, county commissioner and later Chicopee Selectman,[5] and his wife Olive (Jenness) Leavitt. Daniel Leavitt married in 1838 at West Springfield, Massachusetts, Ruth Jeannette Ball. They had three children.<|im_end|>\n",
      "<|im_start|>me (Samantha)\n",
      "Oh, I'd be happy to, Robert. Which paragraph are you referring to?<|im_end|>\n",
      "<|im_start|>person (Robert)\n",
      "It's about this man, Daniel Leavitt. It says here, \"Daniel Leavitt was born November 16, 1813, at Rye, New Hampshire, the son of Benning Leavitt, influential businessman, state senator, county commissioner and later Chicopee Selectman, and his wife Olive (Jenness) Leavitt. Daniel Leavitt married in 1838 at West Springfield, Massachusetts, Ruth Jeannette Ball. They had three children.\"<|im_end|>\n",
      "<|im_start|>me (Samantha)\n",
      "Right away, Robert:\n",
      "\n",
      "- November 16, 1813 - That's when Daniel Leavitt was born.\n",
      "- 1838 - That's when Daniel tied the knot with Ruth Jeannette Ball.<|im_end|>\n",
      "<|im_start|>person (Robert)\n",
      "Thank you, Samantha. You're always so helpful.<|im_end|>\n"
     ]
    }
   ],
   "source": [
    "dataset = dataset.map(transform_to_samantha_dialog)\n",
    "print(dataset[10][\"text\"])"
   ]
  },
  {
   "cell_type": "code",
   "execution_count": 24,
   "id": "0aeceb12-c659-42c8-82d0-b4db1c7a39c0",
   "metadata": {},
   "outputs": [
    {
     "data": {
      "text/plain": [
       "['input',\n",
       " 'instruction',\n",
       " 'output',\n",
       " 'system',\n",
       " 'input_token_count',\n",
       " 'output_token_count',\n",
       " 'dialog',\n",
       " 'chatml',\n",
       " 'text']"
      ]
     },
     "execution_count": 24,
     "metadata": {},
     "output_type": "execute_result"
    }
   ],
   "source": [
    "dataset.column_names"
   ]
  },
  {
   "cell_type": "code",
   "execution_count": 25,
   "id": "e5847be7-e898-4372-be79-2041f91ac3c0",
   "metadata": {
    "tags": []
   },
   "outputs": [],
   "source": [
    "dataset = dataset.remove_columns([\n",
    "    'input',\n",
    "     'instruction',\n",
    "     'output',\n",
    "     'system',\n",
    "     'input_token_count',\n",
    "     'output_token_count',\n",
    "     'dialog',\n",
    "])"
   ]
  },
  {
   "cell_type": "code",
   "execution_count": 26,
   "id": "f1aca003-9ad4-4671-8375-ba8238eb966e",
   "metadata": {
    "tags": []
   },
   "outputs": [
    {
     "data": {
      "application/vnd.jupyter.widget-view+json": {
       "model_id": "f8938b714a7d4e6eb14aeeb104dce048",
       "version_major": 2,
       "version_minor": 0
      },
      "text/plain": [
       "Pushing dataset shards to the dataset hub:   0%|          | 0/1 [00:00<?, ?it/s]"
      ]
     },
     "metadata": {},
     "output_type": "display_data"
    },
    {
     "data": {
      "application/vnd.jupyter.widget-view+json": {
       "model_id": "9b78877c5ed043f18c0e0840d9a91a39",
       "version_major": 2,
       "version_minor": 0
      },
      "text/plain": [
       "Creating parquet from Arrow format:   0%|          | 0/2 [00:00<?, ?ba/s]"
      ]
     },
     "metadata": {},
     "output_type": "display_data"
    },
    {
     "data": {
      "application/vnd.jupyter.widget-view+json": {
       "model_id": "9e903c76aa114348b9129bd50c2c325d",
       "version_major": 2,
       "version_minor": 0
      },
      "text/plain": [
       "Upload 1 LFS files:   0%|          | 0/1 [00:00<?, ?it/s]"
      ]
     },
     "metadata": {},
     "output_type": "display_data"
    }
   ],
   "source": [
    "dataset.push_to_hub(\"diwank/samantha-dolly-v2-orca\", private=True)"
   ]
  },
  {
   "cell_type": "code",
   "execution_count": null,
   "id": "149e2819-fddf-4465-b8e2-f2bca708f392",
   "metadata": {},
   "outputs": [],
   "source": []
  }
 ],
 "metadata": {
  "kernelspec": {
   "display_name": "Python 3 (ipykernel)",
   "language": "python",
   "name": "python3"
  },
  "language_info": {
   "codemirror_mode": {
    "name": "ipython",
    "version": 3
   },
   "file_extension": ".py",
   "mimetype": "text/x-python",
   "name": "python",
   "nbconvert_exporter": "python",
   "pygments_lexer": "ipython3",
   "version": "3.10.11"
  }
 },
 "nbformat": 4,
 "nbformat_minor": 5
}
