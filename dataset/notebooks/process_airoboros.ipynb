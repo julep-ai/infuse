{
 "cells": [
  {
   "cell_type": "markdown",
   "id": "39bf6704-5a87-4406-9fc0-52760874554c",
   "metadata": {},
   "source": [
    "### TODOS\n",
    "- [ ] ensure no duplication from other datasets\n",
    "- [ ] rewrite it as samantha dialog"
   ]
  },
  {
   "cell_type": "code",
   "execution_count": 1,
   "id": "d97703c0-395c-47ff-803e-745bcefe6185",
   "metadata": {},
   "outputs": [],
   "source": [
    "# !wget https://huggingface.co/datasets/jondurbin/airoboros-gpt4-2.0/resolve/main/instructions.jsonl\n",
    "# !mv instructions.jsonl ../cache_data/"
   ]
  },
  {
   "cell_type": "code",
   "execution_count": 2,
   "id": "747a97be-2e24-49e4-84cf-a93fa0ccff8b",
   "metadata": {},
   "outputs": [],
   "source": [
    "import jsonlines as jsonl\n",
    "\n",
    "with jsonl.open(\"../cache_data/instructions.jsonl\") as f:\n",
    "    data = list(f)"
   ]
  },
  {
   "cell_type": "code",
   "execution_count": 3,
   "id": "71bedefa-7ab3-4c79-9637-19340a94de30",
   "metadata": {},
   "outputs": [
    {
     "data": {
      "text/plain": [
       "Dataset({\n",
       "    features: ['instruction', 'response', 'category'],\n",
       "    num_rows: 41087\n",
       "})"
      ]
     },
     "execution_count": 3,
     "metadata": {},
     "output_type": "execute_result"
    }
   ],
   "source": [
    "from datasets import Dataset\n",
    "\n",
    "dataset = Dataset.from_list(data)\n",
    "dataset"
   ]
  },
  {
   "cell_type": "code",
   "execution_count": 4,
   "id": "7f16daee-4b12-4db6-a28d-2be6bfbe0b21",
   "metadata": {},
   "outputs": [
    {
     "data": {
      "text/plain": [
       "{'agent',\n",
       " 'card',\n",
       " 'coding',\n",
       " 'contextual',\n",
       " 'cot',\n",
       " 'counterfactual_contextual',\n",
       " 'experience',\n",
       " 'general',\n",
       " 'joke',\n",
       " 'orca',\n",
       " 'plan',\n",
       " 'puzzle',\n",
       " 'quiz',\n",
       " 'reasoning_or_math',\n",
       " 'riddle',\n",
       " 'roleplay',\n",
       " 'song',\n",
       " 'theory_of_mind',\n",
       " 'trivia',\n",
       " 'wordgame',\n",
       " 'writing'}"
      ]
     },
     "execution_count": 4,
     "metadata": {},
     "output_type": "execute_result"
    }
   ],
   "source": [
    "set(dataset[\"category\"])"
   ]
  },
  {
   "cell_type": "code",
   "execution_count": 16,
   "id": "e5461583-59f7-40ab-aec8-1f9c6bcd5b2e",
   "metadata": {},
   "outputs": [
    {
     "data": {
      "text/html": [
       "<div>\n",
       "<style scoped>\n",
       "    .dataframe tbody tr th:only-of-type {\n",
       "        vertical-align: middle;\n",
       "    }\n",
       "\n",
       "    .dataframe tbody tr th {\n",
       "        vertical-align: top;\n",
       "    }\n",
       "\n",
       "    .dataframe thead th {\n",
       "        text-align: right;\n",
       "    }\n",
       "</style>\n",
       "<table border=\"1\" class=\"dataframe\">\n",
       "  <thead>\n",
       "    <tr style=\"text-align: right;\">\n",
       "      <th></th>\n",
       "      <th>instruction</th>\n",
       "      <th>response</th>\n",
       "      <th>category</th>\n",
       "    </tr>\n",
       "  </thead>\n",
       "  <tbody>\n",
       "    <tr>\n",
       "      <th>0</th>\n",
       "      <td>A logistics company is planning to build a new...</td>\n",
       "      <td>Step 1: Identify potential locations\\nStart by...</td>\n",
       "      <td>reasoning_or_math</td>\n",
       "    </tr>\n",
       "    <tr>\n",
       "      <th>1</th>\n",
       "      <td>Simplify the concept of quantum physics and it...</td>\n",
       "      <td>Title: The Adventures of Quarky the Quantum Ca...</td>\n",
       "      <td>general</td>\n",
       "    </tr>\n",
       "    <tr>\n",
       "      <th>4</th>\n",
       "      <td>Create a speech about the importance of readin...</td>\n",
       "      <td>Ladies and gentlemen, boys and girls,\\nI've co...</td>\n",
       "      <td>roleplay</td>\n",
       "    </tr>\n",
       "    <tr>\n",
       "      <th>10</th>\n",
       "      <td>What natural phenomenon, caused by the refract...</td>\n",
       "      <td>Rainbow</td>\n",
       "      <td>trivia</td>\n",
       "    </tr>\n",
       "    <tr>\n",
       "      <th>18</th>\n",
       "      <td>Develop a Golang application that interacts wi...</td>\n",
       "      <td>package main\\n\\nimport (\\n\\t\"database/sql\"\\n\\t...</td>\n",
       "      <td>coding</td>\n",
       "    </tr>\n",
       "    <tr>\n",
       "      <th>24</th>\n",
       "      <td>In a library, there are three sections: fictio...</td>\n",
       "      <td>Chris might assume that Dana and Erin are work...</td>\n",
       "      <td>theory_of_mind</td>\n",
       "    </tr>\n",
       "    <tr>\n",
       "      <th>25</th>\n",
       "      <td>A red drum which sounds without being touched,...</td>\n",
       "      <td>The answer is a heart. The reasoning behind th...</td>\n",
       "      <td>riddle</td>\n",
       "    </tr>\n",
       "    <tr>\n",
       "      <th>33</th>\n",
       "      <td>As an AI assistant, choose the appropriate fun...</td>\n",
       "      <td>function: csv_analytics\\nparams:\\n  action: \"g...</td>\n",
       "      <td>agent</td>\n",
       "    </tr>\n",
       "    <tr>\n",
       "      <th>37</th>\n",
       "      <td>Do you know any jokes about winter accessories?</td>\n",
       "      <td>A pair of mittens says to a hat, \"I'll stay he...</td>\n",
       "      <td>joke</td>\n",
       "    </tr>\n",
       "    <tr>\n",
       "      <th>38</th>\n",
       "      <td>Compose a sonnet about spring using ten words ...</td>\n",
       "      <td>In spring, the world awakens from its winter's...</td>\n",
       "      <td>wordgame</td>\n",
       "    </tr>\n",
       "    <tr>\n",
       "      <th>39</th>\n",
       "      <td>BEGININPUT\\nBEGINCONTEXT\\ndate: June 12, 2019\\...</td>\n",
       "      <td>The two major breakthroughs mentioned in the t...</td>\n",
       "      <td>contextual</td>\n",
       "    </tr>\n",
       "    <tr>\n",
       "      <th>48</th>\n",
       "      <td>A car park has 4 levels. Each level can accomm...</td>\n",
       "      <td>Here's how you can solve this:\\n\\n1. Each leve...</td>\n",
       "      <td>orca</td>\n",
       "    </tr>\n",
       "    <tr>\n",
       "      <th>51</th>\n",
       "      <td>Create a narrative about an astronaut who is s...</td>\n",
       "      <td>Once a beacon of human ambition, now an isolat...</td>\n",
       "      <td>writing</td>\n",
       "    </tr>\n",
       "    <tr>\n",
       "      <th>66</th>\n",
       "      <td>Generate a plan to solve the following problem...</td>\n",
       "      <td>Plan: Start by searching for the author of \"To...</td>\n",
       "      <td>plan</td>\n",
       "    </tr>\n",
       "    <tr>\n",
       "      <th>67</th>\n",
       "      <td>In a room there are 5 people, each person shak...</td>\n",
       "      <td>Solution 1:\\nThis problem can be solved using ...</td>\n",
       "      <td>cot</td>\n",
       "    </tr>\n",
       "    <tr>\n",
       "      <th>77</th>\n",
       "      <td>Write a blues song about overcoming addiction....</td>\n",
       "      <td>(Verse 1)\\nI woke up this morning, with the de...</td>\n",
       "      <td>song</td>\n",
       "    </tr>\n",
       "    <tr>\n",
       "      <th>121</th>\n",
       "      <td>BEGININPUT\\nBEGINCONTEXT\\nurl: https://www.nas...</td>\n",
       "      <td>The first man to walk on the moon was Neil Arm...</td>\n",
       "      <td>counterfactual_contextual</td>\n",
       "    </tr>\n",
       "    <tr>\n",
       "      <th>129</th>\n",
       "      <td>A man gave one of his sons $100. He divided th...</td>\n",
       "      <td>The man had $300. Four children received $50 e...</td>\n",
       "      <td>puzzle</td>\n",
       "    </tr>\n",
       "    <tr>\n",
       "      <th>136</th>\n",
       "      <td>You find yourself standing at the edge of a bu...</td>\n",
       "      <td>As you step onto the spongy ground, you feel i...</td>\n",
       "      <td>experience</td>\n",
       "    </tr>\n",
       "    <tr>\n",
       "      <th>232</th>\n",
       "      <td>Please generate a random location card for a p...</td>\n",
       "      <td>Site: Haven City Ruins\\nState: Partially destr...</td>\n",
       "      <td>card</td>\n",
       "    </tr>\n",
       "    <tr>\n",
       "      <th>235</th>\n",
       "      <td>The capital city of Spain is ___.\\n</td>\n",
       "      <td>Madrid</td>\n",
       "      <td>quiz</td>\n",
       "    </tr>\n",
       "  </tbody>\n",
       "</table>\n",
       "</div>"
      ],
      "text/plain": [
       "                                           instruction   \n",
       "0    A logistics company is planning to build a new...  \\\n",
       "1    Simplify the concept of quantum physics and it...   \n",
       "4    Create a speech about the importance of readin...   \n",
       "10   What natural phenomenon, caused by the refract...   \n",
       "18   Develop a Golang application that interacts wi...   \n",
       "24   In a library, there are three sections: fictio...   \n",
       "25   A red drum which sounds without being touched,...   \n",
       "33   As an AI assistant, choose the appropriate fun...   \n",
       "37     Do you know any jokes about winter accessories?   \n",
       "38   Compose a sonnet about spring using ten words ...   \n",
       "39   BEGININPUT\\nBEGINCONTEXT\\ndate: June 12, 2019\\...   \n",
       "48   A car park has 4 levels. Each level can accomm...   \n",
       "51   Create a narrative about an astronaut who is s...   \n",
       "66   Generate a plan to solve the following problem...   \n",
       "67   In a room there are 5 people, each person shak...   \n",
       "77   Write a blues song about overcoming addiction....   \n",
       "121  BEGININPUT\\nBEGINCONTEXT\\nurl: https://www.nas...   \n",
       "129  A man gave one of his sons $100. He divided th...   \n",
       "136  You find yourself standing at the edge of a bu...   \n",
       "232  Please generate a random location card for a p...   \n",
       "235                The capital city of Spain is ___.\\n   \n",
       "\n",
       "                                              response   \n",
       "0    Step 1: Identify potential locations\\nStart by...  \\\n",
       "1    Title: The Adventures of Quarky the Quantum Ca...   \n",
       "4    Ladies and gentlemen, boys and girls,\\nI've co...   \n",
       "10                                             Rainbow   \n",
       "18   package main\\n\\nimport (\\n\\t\"database/sql\"\\n\\t...   \n",
       "24   Chris might assume that Dana and Erin are work...   \n",
       "25   The answer is a heart. The reasoning behind th...   \n",
       "33   function: csv_analytics\\nparams:\\n  action: \"g...   \n",
       "37   A pair of mittens says to a hat, \"I'll stay he...   \n",
       "38   In spring, the world awakens from its winter's...   \n",
       "39   The two major breakthroughs mentioned in the t...   \n",
       "48   Here's how you can solve this:\\n\\n1. Each leve...   \n",
       "51   Once a beacon of human ambition, now an isolat...   \n",
       "66   Plan: Start by searching for the author of \"To...   \n",
       "67   Solution 1:\\nThis problem can be solved using ...   \n",
       "77   (Verse 1)\\nI woke up this morning, with the de...   \n",
       "121  The first man to walk on the moon was Neil Arm...   \n",
       "129  The man had $300. Four children received $50 e...   \n",
       "136  As you step onto the spongy ground, you feel i...   \n",
       "232  Site: Haven City Ruins\\nState: Partially destr...   \n",
       "235                                             Madrid   \n",
       "\n",
       "                      category  \n",
       "0            reasoning_or_math  \n",
       "1                      general  \n",
       "4                     roleplay  \n",
       "10                      trivia  \n",
       "18                      coding  \n",
       "24              theory_of_mind  \n",
       "25                      riddle  \n",
       "33                       agent  \n",
       "37                        joke  \n",
       "38                    wordgame  \n",
       "39                  contextual  \n",
       "48                        orca  \n",
       "51                     writing  \n",
       "66                        plan  \n",
       "67                         cot  \n",
       "77                        song  \n",
       "121  counterfactual_contextual  \n",
       "129                     puzzle  \n",
       "136                 experience  \n",
       "232                       card  \n",
       "235                       quiz  "
      ]
     },
     "execution_count": 16,
     "metadata": {},
     "output_type": "execute_result"
    }
   ],
   "source": [
    "dataset_pd = dataset.to_pandas()\n",
    "\n",
    "dataset_pd.groupby(\"category\").head(1)"
   ]
  },
  {
   "cell_type": "code",
   "execution_count": 5,
   "id": "8d3f543a-0690-4b78-8bab-3ed231525974",
   "metadata": {},
   "outputs": [
    {
     "data": {
      "application/vnd.jupyter.widget-view+json": {
       "model_id": "",
       "version_major": 2,
       "version_minor": 0
      },
      "text/plain": [
       "Filter:   0%|          | 0/41087 [00:00<?, ? examples/s]"
      ]
     },
     "metadata": {},
     "output_type": "display_data"
    }
   ],
   "source": [
    "dont_want = [\"coding\", \"joke\", \"contextual\", \"orca\", \"counterfactual_contextual\", \"quiz\"]\n",
    "to_process = [\"agent\"]\n",
    "\n",
    "dataset = dataset.filter(lambda row: row[\"category\"] not in dont_want)"
   ]
  },
  {
   "cell_type": "code",
   "execution_count": 6,
   "id": "ead3b323-ccaf-44cf-937d-d90a255b6dd7",
   "metadata": {},
   "outputs": [
    {
     "data": {
      "application/vnd.jupyter.widget-view+json": {
       "model_id": "",
       "version_major": 2,
       "version_minor": 0
      },
      "text/plain": [
       "Filter:   0%|          | 0/26714 [00:00<?, ? examples/s]"
      ]
     },
     "metadata": {},
     "output_type": "display_data"
    },
    {
     "data": {
      "application/vnd.jupyter.widget-view+json": {
       "model_id": "",
       "version_major": 2,
       "version_minor": 0
      },
      "text/plain": [
       "Filter:   0%|          | 0/26714 [00:00<?, ? examples/s]"
      ]
     },
     "metadata": {},
     "output_type": "display_data"
    }
   ],
   "source": [
    "dataset_normal = dataset.filter(lambda row: row[\"category\"] not in to_process)\n",
    "to_process_dataset = dataset.filter(lambda row: row[\"category\"] in to_process)"
   ]
  },
  {
   "cell_type": "code",
   "execution_count": 7,
   "id": "edc911f5-158e-4236-87f4-0340b56e78ff",
   "metadata": {},
   "outputs": [
    {
     "data": {
      "application/vnd.jupyter.widget-view+json": {
       "model_id": "",
       "version_major": 2,
       "version_minor": 0
      },
      "text/plain": [
       "Map:   0%|          | 0/25714 [00:00<?, ? examples/s]"
      ]
     },
     "metadata": {},
     "output_type": "display_data"
    }
   ],
   "source": [
    "def to_chatml(row):\n",
    "    person = dict(content=row[\"instruction\"], role=\"user\", name=None)\n",
    "    me = dict(content=row[\"response\"], role=\"assistant\", name=\"AI\")\n",
    "    category = row[\"category\"]\n",
    "    situation_text = f\"Person is talking to an intelligent AI system and giving instructions. AI assistant is following the instructions. It's a '{category}'-category instruction\"\n",
    "    situation = dict(content=situation_text, role=\"system\", name=\"situation\")\n",
    "\n",
    "    return dict(chatml=[\n",
    "        situation,\n",
    "        person,\n",
    "        me,\n",
    "    ])\n",
    "\n",
    "normal_dataset_chatml = dataset_normal.map(to_chatml).remove_columns(['instruction', 'response', 'category'])"
   ]
  },
  {
   "cell_type": "code",
   "execution_count": 8,
   "id": "a8d19b38-7f8f-4296-a554-ad62b67e7b35",
   "metadata": {},
   "outputs": [
    {
     "data": {
      "application/vnd.jupyter.widget-view+json": {
       "model_id": "",
       "version_major": 2,
       "version_minor": 0
      },
      "text/plain": [
       "Map:   0%|          | 0/1000 [00:00<?, ? examples/s]"
      ]
     },
     "metadata": {},
     "output_type": "display_data"
    }
   ],
   "source": [
    "#1 -> situation, role=system\n",
    "#3 -> information, role=system, name=information\n",
    "#2 - \"Input: \" -> person\n",
    "# thought -> response, role=system, name=thought\n",
    "# push to diwank/airoboros-agent\n",
    "\n",
    "def to_chatml_2(row):\n",
    "    instructions = row[\"instruction\"].split(\"\\n\\n\")\n",
    "    situation = dict(content=instructions[0], role=\"system\", name=\"situation\")\n",
    "    information = dict(content=instructions[2], role=\"system\", name=\"information\")\n",
    "    person = dict(content=\"\".join(instructions[1].split(\":\", 1)[1:]).strip(), role=\"user\", name=None)\n",
    "    thought = dict(content=row[\"response\"], role=\"system\", name=\"thought\")\n",
    "\n",
    "    return dict(\n",
    "        chatml=[\n",
    "            situation,\n",
    "            information,\n",
    "            person,\n",
    "            thought,\n",
    "        ]\n",
    "    )\n",
    "\n",
    "to_process_dataset_chatml = to_process_dataset.map(to_chatml_2).remove_columns(['instruction', 'response', 'category'])"
   ]
  },
  {
   "cell_type": "code",
   "execution_count": 7,
   "id": "225e320c-c26a-4573-9dbc-89b5540ca416",
   "metadata": {},
   "outputs": [
    {
     "name": "stderr",
     "output_type": "stream",
     "text": [
      "Pushing dataset shards to the dataset hub:   0%|                                                  | 0/1 [00:00<?, ?it/s]\n",
      "Creating parquet from Arrow format:   0%|                                                        | 0/26 [00:00<?, ?ba/s]\u001b[A\n",
      "Creating parquet from Arrow format:  50%|███████████████████████                       | 13/26 [00:00<00:00, 124.42ba/s]\u001b[A\n",
      "Creating parquet from Arrow format: 100%|██████████████████████████████████████████████| 26/26 [00:00<00:00, 125.30ba/s]\u001b[A\n",
      "\n",
      "Upload 1 LFS files:   0%|                                                                         | 0/1 [00:00<?, ?it/s]\u001b[A\n",
      "Upload 1 LFS files: 100%|████████████████████████████████████████████████████████████████| 1/1 [02:19<00:00, 139.26s/it]\u001b[A\n",
      "Pushing dataset shards to the dataset hub: 100%|█████████████████████████████████████████| 1/1 [02:20<00:00, 140.57s/it]\n",
      "Deleting unused files from dataset repository: 100%|██████████████████████████████████████| 1/1 [00:00<00:00,  3.39it/s]\n",
      "Downloading metadata: 100%|█████████████████████████████████████████████████████████████| 558/558 [00:00<00:00, 186kB/s]\n",
      "Pushing dataset shards to the dataset hub:   0%|                                                  | 0/1 [00:00<?, ?it/s]\n",
      "Creating parquet from Arrow format: 100%|████████████████████████████████████████████████| 1/1 [00:00<00:00, 120.28ba/s]\u001b[A\n",
      "\n",
      "Upload 1 LFS files:   0%|                                                                         | 0/1 [00:00<?, ?it/s]\u001b[A\n",
      "Upload 1 LFS files: 100%|█████████████████████████████████████████████████████████████████| 1/1 [00:03<00:00,  3.06s/it]\u001b[A\n",
      "Pushing dataset shards to the dataset hub: 100%|██████████████████████████████████████████| 1/1 [00:03<00:00,  3.80s/it]\n"
     ]
    }
   ],
   "source": [
    "normal_dataset_chatml.push_to_hub(\"diwank/airoboros-filtered\", private=True)\n",
    "to_process_dataset_chatml.push_to_hub(\"diwank/airoboros-agent\", private=True)"
   ]
  },
  {
   "cell_type": "code",
   "execution_count": 10,
   "id": "3e2a67e7-33a5-4d9a-ba01-e18c9217314a",
   "metadata": {},
   "outputs": [
    {
     "data": {
      "text/plain": [
       "{'chatml': [{'content': \"As an AI assistant, choose the appropriate function and its parameters from the given list according to the user's request. Please provide your answer in YAML format.\",\n",
       "   'name': 'situation',\n",
       "   'role': 'system'},\n",
       "  {'content': 'Available functions:\\n- search:\\n    description: Helps locate information by transforming the input query into relevant search terms and filters.\\n    parameters:\\n      search_terms: A list of crucial keywords or phrases from the input.\\n      alternatives: A list of alternate important keywords or phrases from the input, like acronyms, common alternate synonyms, etc.\\n    date_range:\\n      begin: Restricts results to items dated on or after this value, if specified in the input query.\\n      end: Restricts results to items dated on or before this value, if specified in the input query.\\n- csv_analytics:\\n    description: Useful for performing different operations like aggregation, counting, etc., on CSV data.\\n    params:\\n      action: The desired operation on the data, e.g., \"count\", \"filter\", \"grouped_count\", etc.\\n      filters:\\n        column: The column to apply the filter on.\\n        value: Specific value to filter on.\\n        expression: Expression value to filter on.',\n",
       "   'name': 'information',\n",
       "   'role': 'system'},\n",
       "  {'content': 'I need to count how many times each product name appears in my sales CSV file.',\n",
       "   'name': None,\n",
       "   'role': 'user'},\n",
       "  {'content': 'function: csv_analytics\\nparams:\\n  action: \"grouped_count\"\\n  filters:\\n    column: \"product_name\"',\n",
       "   'name': 'thought',\n",
       "   'role': 'system'}]}"
      ]
     },
     "execution_count": 10,
     "metadata": {},
     "output_type": "execute_result"
    }
   ],
   "source": [
    "to_process_dataset_chatml[0]"
   ]
  },
  {
   "cell_type": "code",
   "execution_count": null,
   "id": "46669247-4219-4016-b68d-69c422f75c0d",
   "metadata": {},
   "outputs": [],
   "source": []
  }
 ],
 "metadata": {
  "kernelspec": {
   "display_name": "Python 3 (ipykernel)",
   "language": "python",
   "name": "python3"
  },
  "language_info": {
   "codemirror_mode": {
    "name": "ipython",
    "version": 3
   },
   "file_extension": ".py",
   "mimetype": "text/x-python",
   "name": "python",
   "nbconvert_exporter": "python",
   "pygments_lexer": "ipython3",
   "version": "3.10.11"
  }
 },
 "nbformat": 4,
 "nbformat_minor": 5
}
