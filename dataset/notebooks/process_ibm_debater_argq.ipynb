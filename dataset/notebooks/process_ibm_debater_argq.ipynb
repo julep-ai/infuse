{
 "cells": [
  {
   "cell_type": "code",
   "execution_count": 2,
   "id": "9aa621b8-4ff2-41d0-ba0b-cefe27db2fd4",
   "metadata": {},
   "outputs": [],
   "source": [
    "import csv\n",
    "import glob\n",
    "import os\n",
    "import random\n",
    "\n",
    "from datasets import Dataset, DatasetDict"
   ]
  },
  {
   "cell_type": "code",
   "execution_count": 4,
   "id": "0523853f-6fcb-4c5c-a8e1-505653a5cb40",
   "metadata": {},
   "outputs": [
    {
     "data": {
      "text/plain": [
       "{'a': 1, 'b': 2}"
      ]
     },
     "execution_count": 4,
     "metadata": {},
     "output_type": "execute_result"
    }
   ],
   "source": [
    "{'a': 1} | {'b': 2}"
   ]
  },
  {
   "cell_type": "code",
   "execution_count": 17,
   "id": "0a1f8cc3-876e-457e-aa60-73667c823e93",
   "metadata": {},
   "outputs": [],
   "source": [
    "data_dirs = [\n",
    "    f\"../cache_data/IBM-ArgQ-{n}kPairs/\"\n",
    "    for n in ['9.1', '14']\n",
    "]\n",
    "\n",
    "\n",
    "file_paths = [\n",
    "    path\n",
    "    for data_dir in data_dirs\n",
    "    for path in glob.glob(f\"{data_dir}/*.tsv\")\n",
    "]\n",
    "\n",
    "data = []\n",
    "\n",
    "\n",
    "for file_path in file_paths:\n",
    "    file_name = os.path.basename(file_path)\n",
    "    sentence = file_name.split('.')[0].replace('-', ' ').replace(\"(PRO)\", \"\").replace(\"(CON)\", \"\").strip()\n",
    "    \n",
    "    with open(file_path, 'r') as file:\n",
    "        reader = csv.reader(file, delimiter=\"\\t\", quotechar='\"')\n",
    "        column_names = next(reader)\n",
    "        \n",
    "        data.extend([\n",
    "            dict(\n",
    "                zip(column_names, row)\n",
    "            ) | dict(sentence=sentence)\n",
    "            for row in reader\n",
    "        ])"
   ]
  },
  {
   "cell_type": "code",
   "execution_count": 18,
   "id": "d6ff9608-8f60-426c-87d3-28e6271cba83",
   "metadata": {},
   "outputs": [],
   "source": [
    "remove_columns = [\"#id\", \"annotatorid\"]\n",
    "\n",
    "dataset = Dataset.from_list(data).remove_columns(remove_columns)"
   ]
  },
  {
   "cell_type": "code",
   "execution_count": 21,
   "id": "4e150197-8a91-46c8-9e7d-c4e52a4b0071",
   "metadata": {},
   "outputs": [
    {
     "data": {
      "text/plain": [
       "{'label': 'a1',\n",
       " 'a1': 'many institutions and businesses have money invested in fossil fuels, a ban would destroy the economy and those institutions.',\n",
       " 'a2': 'in places with extreme weather conditions walking to public transportation or not being able to heat your house can be very dangerous.',\n",
       " 'sentence': 'We should not ban fossil fuels'}"
      ]
     },
     "execution_count": 21,
     "metadata": {},
     "output_type": "execute_result"
    }
   ],
   "source": [
    "dataset[0]"
   ]
  },
  {
   "cell_type": "code",
   "execution_count": 20,
   "id": "56ceb245-3119-49a0-a44e-53bcc7c4ce75",
   "metadata": {
    "scrolled": true
   },
   "outputs": [
    {
     "data": {
      "application/vnd.jupyter.widget-view+json": {
       "model_id": "ec5a292841724d61a41969a8ce75b78b",
       "version_major": 2,
       "version_minor": 0
      },
      "text/plain": [
       "Pushing dataset shards to the dataset hub:   0%|          | 0/1 [00:00<?, ?it/s]"
      ]
     },
     "metadata": {},
     "output_type": "display_data"
    },
    {
     "data": {
      "application/vnd.jupyter.widget-view+json": {
       "model_id": "54c7f8d096a743319211ae8025a07c4d",
       "version_major": 2,
       "version_minor": 0
      },
      "text/plain": [
       "Creating parquet from Arrow format:   0%|          | 0/24 [00:00<?, ?ba/s]"
      ]
     },
     "metadata": {},
     "output_type": "display_data"
    },
    {
     "data": {
      "application/vnd.jupyter.widget-view+json": {
       "model_id": "17efb56bc3e346d9be17ea768d80257c",
       "version_major": 2,
       "version_minor": 0
      },
      "text/plain": [
       "Upload 1 LFS files:   0%|          | 0/1 [00:00<?, ?it/s]"
      ]
     },
     "metadata": {},
     "output_type": "display_data"
    }
   ],
   "source": [
    "dataset.push_to_hub(\"diwank/IBMDebaterArgQ\", private=True)"
   ]
  },
  {
   "cell_type": "code",
   "execution_count": 22,
   "id": "6ade7538-c5da-4f05-9be3-11369b151c5e",
   "metadata": {},
   "outputs": [],
   "source": [
    "make_chatml = lambda name, role, content: dict(\n",
    "    name=name, role=role, content=content,\n",
    ")\n",
    "\n",
    "system = lambda name, content: make_chatml(\n",
    "    role=\"system\",\n",
    "    name=name,\n",
    "    content=content,\n",
    ")\n",
    "\n",
    "situation = lambda content: system(name=\"situation\", content=content)\n",
    "thought = lambda content: system(name=\"thought\", content=content)\n",
    "information = lambda content: system(name=\"information\", content=content)\n",
    "me = lambda content, name=None: make_chatml(\n",
    "    role=\"assistant\",\n",
    "    content=content,\n",
    "    name=name,\n",
    ")\n",
    "\n",
    "person = lambda content, name=None: make_chatml(\n",
    "    role=\"user\",\n",
    "    content=content,\n",
    "    name=name,\n",
    ")\n",
    "\n",
    "def to_chatml(row):\n",
    "    sentence = row[\"sentence\"]\n",
    "    a1 = row[\"a1\"]\n",
    "    a2 = row[\"a2\"]\n",
    "    label = row[\"label\"]\n",
    "    label = \"A\" if label == \"a1\" else \"B\"\n",
    "\n",
    "    chatml = [\n",
    "        situation(\n",
    "            f\"Person is debating a concept with AI Assistant.\"\n",
    "            f' The AI Assistant is arguing IN FAVOR OF \"{sentence}\".'\n",
    "        ),\n",
    "        thought(\n",
    "            f'Which of the following candidate sentences support the statement \"{sentence}\" the best?'\n",
    "            f\"\\nChoices:\"\n",
    "            f\"\\nA): {a1}\"\n",
    "            f\"\\nB): {a2}\"\n",
    "            '\\n'\n",
    "            f\"\\nAnswer: {label}\"\n",
    "        ),\n",
    "    ]\n",
    "\n",
    "    return dict(chatml=chatml)"
   ]
  },
  {
   "cell_type": "code",
   "execution_count": 23,
   "id": "26fd5d16-df4c-456e-a5c9-a452b75f4e56",
   "metadata": {},
   "outputs": [
    {
     "data": {
      "application/vnd.jupyter.widget-view+json": {
       "model_id": "",
       "version_major": 2,
       "version_minor": 0
      },
      "text/plain": [
       "Map:   0%|          | 0/23128 [00:00<?, ? examples/s]"
      ]
     },
     "metadata": {},
     "output_type": "display_data"
    }
   ],
   "source": [
    "dataset = dataset.map(to_chatml).remove_columns(list(set(dataset.column_names) - {\"chatml\"}))"
   ]
  },
  {
   "cell_type": "code",
   "execution_count": 24,
   "id": "c1c52441-7de5-49fc-8a5f-096b909231cf",
   "metadata": {},
   "outputs": [
    {
     "data": {
      "application/vnd.jupyter.widget-view+json": {
       "model_id": "9629fc8d865344ce84d0bf9454c0aebf",
       "version_major": 2,
       "version_minor": 0
      },
      "text/plain": [
       "Pushing dataset shards to the dataset hub:   0%|          | 0/1 [00:00<?, ?it/s]"
      ]
     },
     "metadata": {},
     "output_type": "display_data"
    },
    {
     "data": {
      "application/vnd.jupyter.widget-view+json": {
       "model_id": "3e9b73658a6d4f44bca6a493f7d95b20",
       "version_major": 2,
       "version_minor": 0
      },
      "text/plain": [
       "Creating parquet from Arrow format:   0%|          | 0/24 [00:00<?, ?ba/s]"
      ]
     },
     "metadata": {},
     "output_type": "display_data"
    },
    {
     "data": {
      "application/vnd.jupyter.widget-view+json": {
       "model_id": "462811e774ee49049ab38f785b676b39",
       "version_major": 2,
       "version_minor": 0
      },
      "text/plain": [
       "Upload 1 LFS files:   0%|          | 0/1 [00:00<?, ?it/s]"
      ]
     },
     "metadata": {},
     "output_type": "display_data"
    }
   ],
   "source": [
    "dataset.push_to_hub(\"diwank/samantha-debate-argq\", private=True)"
   ]
  },
  {
   "cell_type": "code",
   "execution_count": null,
   "id": "f2672868-cc89-487c-b543-f8d10bbbb712",
   "metadata": {},
   "outputs": [],
   "source": []
  }
 ],
 "metadata": {
  "kernelspec": {
   "display_name": "Python 3 (ipykernel)",
   "language": "python",
   "name": "python3"
  },
  "language_info": {
   "codemirror_mode": {
    "name": "ipython",
    "version": 3
   },
   "file_extension": ".py",
   "mimetype": "text/x-python",
   "name": "python",
   "nbconvert_exporter": "python",
   "pygments_lexer": "ipython3",
   "version": "3.10.11"
  }
 },
 "nbformat": 4,
 "nbformat_minor": 5
}
