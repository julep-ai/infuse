{
 "cells": [
  {
   "cell_type": "code",
   "execution_count": 11,
   "metadata": {},
   "outputs": [],
   "source": [
    "!#wget https://uwnlp.github.io/storycommonsense/data/storycommonsense_data.zip -O cache_data/storycommonsense_data.zip"
   ]
  },
  {
   "cell_type": "code",
   "execution_count": 12,
   "metadata": {},
   "outputs": [],
   "source": [
    "!#unzip cache_data/storycommonsense_data.zip -d cache_data/storycommonsense_data"
   ]
  },
  {
   "cell_type": "code",
   "execution_count": 13,
   "metadata": {},
   "outputs": [],
   "source": [
    "import json\n",
    "from textwrap import dedent\n",
    "\n",
    "from datasets import Dataset\n",
    "from huggingface_hub import notebook_login\n",
    "from tqdm.auto import tqdm\n",
    "import yaml"
   ]
  },
  {
   "cell_type": "code",
   "execution_count": 14,
   "metadata": {},
   "outputs": [],
   "source": [
    "with open('cache_data/storycommonsense_data/json_version/annotations.json') as f:\n",
    "    data = json.load(f)"
   ]
  },
  {
   "cell_type": "code",
   "execution_count": 15,
   "metadata": {},
   "outputs": [
    {
     "data": {
      "text/plain": [
       "{'lines': {'1': {'characters': {'My daughter': {'app': False,\n",
       "     'emotion': {},\n",
       "     'motiv': {}},\n",
       "    'Nana': {'app': True,\n",
       "     'emotion': {'ann0': {'plutchik': ['sadness:2', 'disgust:2', 'anger:2'],\n",
       "       'text': ['confused']},\n",
       "      'ann1': {'plutchik': ['surprise:2'], 'text': ['confused']}},\n",
       "     'motiv': {'ann0': {'maslow': ['stability'],\n",
       "       'reiss': ['order'],\n",
       "       'text': ['to understand']},\n",
       "      'ann1': {'maslow': ['none'],\n",
       "       'reiss': [],\n",
       "       'text': ['to check something']},\n",
       "      'ann2': {'maslow': ['esteem'],\n",
       "       'reiss': ['status'],\n",
       "       'text': ['to be noticed']}}}},\n",
       "   'text': 'Nana came into the room with a puzzled look on her face.'},\n",
       "  '2': {'characters': {'My daughter': {'app': False,\n",
       "     'emotion': {},\n",
       "     'motiv': {}},\n",
       "    'Nana': {'app': True,\n",
       "     'emotion': {'ann0': {'plutchik': ['surprise:2'], 'text': ['confused']},\n",
       "      'ann1': {'plutchik': ['surprise:2', 'anger:2'],\n",
       "       'text': ['confused', 'frustrated']},\n",
       "      'ann2': {'plutchik': [], 'text': ['confused']}},\n",
       "     'motiv': {'ann0': {'maslow': ['stability'],\n",
       "       'reiss': ['order'],\n",
       "       'text': ['socks that match']},\n",
       "      'ann1': {'maslow': ['stability'],\n",
       "       'reiss': ['order'],\n",
       "       'text': ['to sort laundry.']},\n",
       "      'ann2': {'maslow': ['none'], 'reiss': [], 'text': ['to be noticed']}}}},\n",
       "   'text': 'She held up an orange sock and a blue one.'},\n",
       "  '3': {'characters': {'My daughter': {'app': True,\n",
       "     'emotion': {'ann0': {'plutchik': ['joy:2', 'surprise:2'],\n",
       "       'text': ['Excitement ']},\n",
       "      'ann1': {'plutchik': ['trust:2'], 'text': ['confidence ']}},\n",
       "     'motiv': {'ann0': {'maslow': ['none'],\n",
       "       'reiss': [],\n",
       "       'text': ['the blue sock']},\n",
       "      'ann1': {'maslow': ['none'], 'reiss': [], 'text': ['the blue sock']},\n",
       "      'ann2': {'maslow': ['love'],\n",
       "       'reiss': ['family', 'contact'],\n",
       "       'text': ['to be selective.']}}},\n",
       "    'Nana': {'app': True,\n",
       "     'emotion': {'ann0': {'plutchik': ['joy:3', 'surprise:2'],\n",
       "       'text': ['amused']},\n",
       "      'ann1': {'plutchik': ['joy:2', 'anticipation:2'], 'text': ['happy']}},\n",
       "     'motiv': {}}},\n",
       "   'text': 'My daughter jumped up and grabbed the blue one out of her hand.'},\n",
       "  '4': {'characters': {'My daughter': {'app': True,\n",
       "     'emotion': {'ann0': {'plutchik': ['joy:2',\n",
       "        'trust:2',\n",
       "        'surprise:2',\n",
       "        'anticipation:2'],\n",
       "       'text': ['Energetic', 'Playful']},\n",
       "      'ann1': {'plutchik': ['joy:3'], 'text': ['happy']}},\n",
       "     'motiv': {'ann0': {'maslow': ['love'],\n",
       "       'reiss': ['family'],\n",
       "       'text': ['to have fun']},\n",
       "      'ann1': {'maslow': ['spiritual growth'],\n",
       "       'reiss': ['indep'],\n",
       "       'text': ['to have fun']}}},\n",
       "    'Nana': {'app': True,\n",
       "     'emotion': {'ann0': {'plutchik': ['joy:3', 'trust:2', 'surprise:3'],\n",
       "       'text': ['amused']},\n",
       "      'ann1': {'plutchik': ['joy:3'], 'text': ['playful']}},\n",
       "     'motiv': {'ann0': {'maslow': ['esteem'],\n",
       "       'reiss': ['status'],\n",
       "       'text': ['questioning odds.']},\n",
       "      'ann1': {'maslow': ['none'], 'reiss': [], 'text': ['to (be)']}}}},\n",
       "   'text': 'She took off running down the hall while waving the sock in the air.'},\n",
       "  '5': {'characters': {'My daughter': {'app': True,\n",
       "     'emotion': {'ann0': {'plutchik': ['joy:3',\n",
       "        'trust:3',\n",
       "        'surprise:3',\n",
       "        'anticipation:2'],\n",
       "       'text': ['ecstatic']},\n",
       "      'ann1': {'plutchik': ['joy:3',\n",
       "        'trust:3',\n",
       "        'surprise:3',\n",
       "        'anticipation:3'],\n",
       "       'text': ['fun']}},\n",
       "     'motiv': {'ann0': {'maslow': ['spiritual growth'],\n",
       "       'reiss': ['serenity'],\n",
       "       'text': ['to have fun']},\n",
       "      'ann1': {'maslow': ['love'],\n",
       "       'reiss': ['family'],\n",
       "       'text': ['to be playful']},\n",
       "      'ann2': {'maslow': ['spiritual growth'],\n",
       "       'reiss': ['serenity'],\n",
       "       'text': ['express her happiness']}}},\n",
       "    'Nana': {'app': True,\n",
       "     'emotion': {'ann0': {'plutchik': ['joy:3', 'trust:2', 'surprise:3'],\n",
       "       'text': ['playful']},\n",
       "      'ann1': {'plutchik': ['joy:3', 'trust:2'], 'text': ['Playful']},\n",
       "      'ann2': {'plutchik': ['joy:3'], 'text': ['happy']}},\n",
       "     'motiv': {'ann0': {'maslow': ['spiritual growth'],\n",
       "       'reiss': ['serenity'],\n",
       "       'text': ['to have fun']},\n",
       "      'ann1': {'maslow': ['love'],\n",
       "       'reiss': ['family'],\n",
       "       'text': ['to be close to her family. ']},\n",
       "      'ann2': {'maslow': ['love'],\n",
       "       'reiss': ['family'],\n",
       "       'text': ['to play']}}}},\n",
       "   'text': 'Nana chased her down, caught her, and tickled her until she laughed.'}},\n",
       " 'partition': 'dev',\n",
       " 'storyid': '0008c800-82b6-43b3-8b53-5475ed1dac9b',\n",
       " 'title': 'Sock Chase'}"
      ]
     },
     "execution_count": 15,
     "metadata": {},
     "output_type": "execute_result"
    }
   ],
   "source": [
    "data[\"0008c800-82b6-43b3-8b53-5475ed1dac9b\"]"
   ]
  },
  {
   "cell_type": "code",
   "execution_count": 16,
   "metadata": {},
   "outputs": [
    {
     "data": {
      "application/vnd.jupyter.widget-view+json": {
       "model_id": "0ee0d56c24a340fd96bbf23fed75490b",
       "version_major": 2,
       "version_minor": 0
      },
      "text/plain": [
       "  0%|          | 0/14738 [00:00<?, ?it/s]"
      ]
     },
     "metadata": {},
     "output_type": "display_data"
    }
   ],
   "source": [
    "processed_data = [\n",
    "    dict(\n",
    "        title=record[\"title\"],\n",
    "        story=\"\\n\".join([\n",
    "            line[\"text\"] for line in record[\"lines\"].values()\n",
    "        ]),\n",
    "        characters=set([\n",
    "            char\n",
    "            for line in record[\"lines\"].values()\n",
    "            for char in line[\"characters\"].keys()\n",
    "        ]),\n",
    "        emotions={\n",
    "            char: [\n",
    "                {\n",
    "                    \"emotion\": [\n",
    "                        emotion_data\n",
    "                        for emotion_data in char_data[\"emotion\"].values()\n",
    "                        if '3' in ''.join(emotion_data.get(\"plutchik\", []))\n",
    "                    ],\n",
    "                    \"line_no\": line_no,\n",
    "                }\n",
    "                for line_no, line in record[\"lines\"].items()\n",
    "                for char_name, char_data in line[\"characters\"].items()\n",
    "                if char_name == char and char_data[\"emotion\"]\n",
    "            ]\n",
    "            for line in record[\"lines\"].values()\n",
    "            for char in line[\"characters\"].keys()\n",
    "        },\n",
    "    )\n",
    "    for record in tqdm(data.values())\n",
    "]"
   ]
  },
  {
   "cell_type": "code",
   "execution_count": 17,
   "metadata": {},
   "outputs": [
    {
     "data": {
      "application/vnd.jupyter.widget-view+json": {
       "model_id": "504e1b5f91b645a1b41c45265844868f",
       "version_major": 2,
       "version_minor": 0
      },
      "text/plain": [
       "VBox(children=(HTML(value='<center> <img\\nsrc=https://huggingface.co/front/assets/huggingface_logo-noborder.sv…"
      ]
     },
     "metadata": {},
     "output_type": "display_data"
    }
   ],
   "source": [
    "notebook_login()"
   ]
  },
  {
   "cell_type": "code",
   "execution_count": 18,
   "metadata": {},
   "outputs": [],
   "source": [
    "make_chatml = lambda name, role, content: dict(\n",
    "    name=name, role=role, content=content,\n",
    ")\n",
    "\n",
    "system = lambda name, content: make_chatml(\n",
    "    role=\"system\",\n",
    "    name=name,\n",
    "    content=content,\n",
    ")\n",
    "\n",
    "situation = lambda content: system(name=\"situation\", content=content)\n",
    "thought = lambda content: system(name=\"thought\", content=content)\n",
    "information = lambda content: system(name=\"information\", content=content)\n",
    "me = lambda content, name=None: make_chatml(\n",
    "    role=\"assistant\",\n",
    "    content=content,\n",
    "    name=name,\n",
    ")\n",
    "\n",
    "person = lambda content, name=None: make_chatml(\n",
    "    role=\"user\",\n",
    "    content=content,\n",
    "    name=name,\n",
    ")\n"
   ]
  },
  {
   "cell_type": "code",
   "execution_count": 44,
   "metadata": {},
   "outputs": [
    {
     "data": {
      "text/plain": [
       "{'My daughter': [{'emotion': {'joy': 'strong'},\n",
       "   'text': ['happy'],\n",
       "   'line_no': '4'},\n",
       "  {'emotion': {'joy': 'strong',\n",
       "    'trust': 'strong',\n",
       "    'surprise': 'strong',\n",
       "    'anticipation': 'strong'},\n",
       "   'text': ['fun'],\n",
       "   'line_no': '5'}],\n",
       " 'Nana': [{'emotion': {'joy': 'strong', 'surprise': 'moderate'},\n",
       "   'text': ['amused'],\n",
       "   'line_no': '3'},\n",
       "  {'emotion': {'joy': 'strong', 'trust': 'moderate', 'surprise': 'strong'},\n",
       "   'text': ['amused'],\n",
       "   'line_no': '4'},\n",
       "  {'emotion': {'joy': 'strong', 'trust': 'moderate', 'surprise': 'strong'},\n",
       "   'text': ['playful'],\n",
       "   'line_no': '5'}]}"
      ]
     },
     "execution_count": 44,
     "metadata": {},
     "output_type": "execute_result"
    }
   ],
   "source": [
    "\n",
    "def max_emotion(emotion_list):\n",
    "    fn = lambda e: sum([int(p.split(\":\")[-1]) for p in e[\"plutchik\"]])\n",
    "    return max(emotion_list, key=fn)\n",
    "\n",
    "def parse_emotions(emotion_list):\n",
    "    strengths = [\"weak\", \"moderate\", \"strong\"]\n",
    "    parsed = {\n",
    "        emotion: strengths[int(strength_index)-1]\n",
    "        for emotion, strength_index in [\n",
    "            e.split(\":\") for e in emotion_list\n",
    "        ]\n",
    "    }\n",
    "\n",
    "    return parsed\n",
    "\n",
    "def pick_strongest(emotion_data):\n",
    "    strongest_emotions = {\n",
    "        char_name: [\n",
    "            dict(\n",
    "                emotion=parse_emotions(max_emotion(line[\"emotion\"])[\"plutchik\"]),\n",
    "                text=max_emotion(line[\"emotion\"])[\"text\"],\n",
    "                line_no=line[\"line_no\"],\n",
    "            )\n",
    "            for line in emotions\n",
    "            if len(line[\"emotion\"])\n",
    "        ]\n",
    "        for char_name, emotions in emotion_data.items()\n",
    "    }\n",
    "\n",
    "    strongest_emotions = {\n",
    "        k: v\n",
    "        for k, v in strongest_emotions.items()\n",
    "        if len(v) > 0\n",
    "    }\n",
    "\n",
    "    return strongest_emotions\n",
    "\n",
    "pick_strongest(processed_data[0][\"emotions\"])\n",
    "# processed_data[0][\"emotions\"]"
   ]
  },
  {
   "cell_type": "code",
   "execution_count": 50,
   "metadata": {},
   "outputs": [
    {
     "data": {
      "text/plain": [
       "{'chatml': [{'name': 'situation',\n",
       "   'role': 'system',\n",
       "   'content': 'User and a helpful AI assistant are talking about the short story \"Sock Chase\".\\nThe AI assistant tries to understand the story and answer questions about it.'},\n",
       "  {'name': None,\n",
       "   'role': 'user',\n",
       "   'content': 'Read the following story and then analyze the emotions of the characters. The story is about My daughter and Nana.\\n\\nInstructions:\\n- Think step by step and write down the emotions of the characters in the story as a valid yaml list for every character.\\n- Each item in the list should specify the \"character\" and their \"emotions\" as a list of all the emotions of that character.\\n- \"emotions\" is a list of \"emotion\" name from the Plutchik Wheel of Emotions and its \"strength\" as one of \"weak\", \"moderate\" or \"strong\".'},\n",
       "  {'name': 'information',\n",
       "   'role': 'system',\n",
       "   'content': '# Sock Chase\\n\\nNana came into the room with a puzzled look on her face.\\nShe held up an orange sock and a blue one.\\nMy daughter jumped up and grabbed the blue one out of her hand.\\nShe took off running down the hall while waving the sock in the air.\\nNana chased her down, caught her, and tickled her until she laughed.'},\n",
       "  {'name': 'thought',\n",
       "   'role': 'system',\n",
       "   'content': 'Thinking step by step:\\n\\n- In line 4, The daughter is feeling JOY (strongly).\\n- In line 5, The daughter is feeling JOY (strongly), TRUST (strongly), SURPRISE (strongly), ANTICIPATION (strongly).\\n- In line 3, Nana is feeling JOY (strongly), SURPRISE (moderately).\\n- In line 4, Nana is feeling JOY (strongly), TRUST (moderately), SURPRISE (strongly).\\n- In line 5, Nana is feeling JOY (strongly), TRUST (moderately), SURPRISE (strongly).'},\n",
       "  {'name': None,\n",
       "   'role': 'assistant',\n",
       "   'content': '- character: My daughter\\n  emotions:\\n  - emotion: joy\\n    strength: strong\\n  - emotion: trust\\n    strength: strong\\n  - emotion: surprise\\n    strength: strong\\n  - emotion: anticipation\\n    strength: strong\\n- character: Nana\\n  emotions:\\n  - emotion: joy\\n    strength: strong\\n  - emotion: surprise\\n    strength: strong\\n  - emotion: trust\\n    strength: moderate\\n'}]}"
      ]
     },
     "execution_count": 50,
     "metadata": {},
     "output_type": "execute_result"
    }
   ],
   "source": [
    "def merge(dicts):\n",
    "    merged = {}\n",
    "    for d in dicts:\n",
    "        merged = {**merged, **d}\n",
    "\n",
    "    return merged\n",
    "\n",
    "def to_chatml(row):\n",
    "    title = row[\"title\"]\n",
    "    story = row[\"story\"]\n",
    "    characters = list(row[\"characters\"])\n",
    "    emotions = row[\"emotions\"]\n",
    "\n",
    "    strongest_emotions = pick_strongest(emotions)\n",
    "\n",
    "    if (\n",
    "        len(strongest_emotions.items()) == 0\n",
    "    ):\n",
    "        return dict(chatml=[])\n",
    "\n",
    "    overall_emotions = [\n",
    "        dict(\n",
    "            character=char_name,\n",
    "            emotions=[\n",
    "                dict(emotion=emotion, strength=strength)\n",
    "                for emotion, strength in merge([line[\"emotion\"] for line in lines]).items()\n",
    "            ]\n",
    "        )\n",
    "        for char_name, lines in strongest_emotions.items()\n",
    "    ]\n",
    "\n",
    "\n",
    "    newline = \"\\n\"\n",
    "\n",
    "    situation_content = dedent(f\"\"\"\\\n",
    "    User and a helpful AI assistant are talking about the short story \"{title}\".\n",
    "    The AI assistant tries to understand the story and answer questions about it.\n",
    "    \"\"\").strip()\n",
    "    \n",
    "    characters_formatted = (\n",
    "        \", \".join(characters[:-1]) + f\" and {characters[-1]}\"\n",
    "        if len(characters) > 1\n",
    "        else characters[0]\n",
    "    )\n",
    "\n",
    "    user_content = f\"\"\"\\\n",
    "Read the following story and then analyze the emotions of the characters. The story is about {characters_formatted}.\n",
    "\n",
    "Instructions:\n",
    "- Think step by step and write down the emotions of the characters in the story as a valid yaml list for every character.\n",
    "- Each item in the list should specify the \"character\" and their \"emotions\" as a list of all the emotions of that character.\n",
    "- \"emotions\" is a list of \"emotion\" name from the Plutchik Wheel of Emotions and its \"strength\" as one of \"weak\", \"moderate\" or \"strong\".\n",
    "    \"\"\".strip()\n",
    "\n",
    "    info_content = f\"\"\"\\\n",
    "# {title}\n",
    "\n",
    "{story}\n",
    "    \"\"\".strip()\n",
    "    \n",
    "    steps = [\n",
    "        {\"line_no\": info[\"line_no\"], \"emotion\": info[\"emotion\"], \"character\": char_name}\n",
    "        for char_name, emotion_by_line in strongest_emotions.items()       \n",
    "        for info in emotion_by_line\n",
    "    ]\n",
    "\n",
    "    steps = [\n",
    "        f\"In line {step['line_no']}, {step['character'].replace('My', 'The')} is feeling {', '.join([f'{e.upper()} ({s}ly)' for e, s in step['emotion'].items()])}.\"\n",
    "        for step in steps\n",
    "    ]\n",
    "\n",
    "    thought_content = dedent(f\"\"\"\\\n",
    "Thinking step by step:\n",
    "\n",
    "- {f\"{newline}- \".join(steps)}\n",
    "    \"\"\").strip()\n",
    "    \n",
    "    chatml = [\n",
    "        situation(content=situation_content),\n",
    "        person(content=user_content),\n",
    "        information(content=info_content),\n",
    "        thought(content=thought_content),\n",
    "        me(content=yaml.dump(overall_emotions))\n",
    "    ]\n",
    "\n",
    "    return dict(chatml=chatml)\n",
    "\n",
    "to_chatml(processed_data[0])"
   ]
  },
  {
   "cell_type": "code",
   "execution_count": 51,
   "metadata": {},
   "outputs": [
    {
     "data": {
      "application/vnd.jupyter.widget-view+json": {
       "model_id": "4068bc9557b14753bb0bbc743a532a5b",
       "version_major": 2,
       "version_minor": 0
      },
      "text/plain": [
       "  0%|          | 0/14738 [00:00<?, ?it/s]"
      ]
     },
     "metadata": {},
     "output_type": "display_data"
    }
   ],
   "source": [
    "chatml_data = [\n",
    "    row for row in map(to_chatml, tqdm(processed_data))\n",
    "    if len(row[\"chatml\"]) > 0\n",
    "]"
   ]
  },
  {
   "cell_type": "code",
   "execution_count": 52,
   "metadata": {},
   "outputs": [
    {
     "data": {
      "text/plain": [
       "4827"
      ]
     },
     "execution_count": 52,
     "metadata": {},
     "output_type": "execute_result"
    }
   ],
   "source": [
    "len(chatml_data)"
   ]
  },
  {
   "cell_type": "code",
   "execution_count": 53,
   "metadata": {},
   "outputs": [],
   "source": [
    "dataset = Dataset.from_list(chatml_data)"
   ]
  },
  {
   "cell_type": "code",
   "execution_count": 54,
   "metadata": {},
   "outputs": [
    {
     "data": {
      "application/vnd.jupyter.widget-view+json": {
       "model_id": "eaa934ec3a514fffb1f47482f9dfdd20",
       "version_major": 2,
       "version_minor": 0
      },
      "text/plain": [
       "Pushing dataset shards to the dataset hub:   0%|          | 0/1 [00:00<?, ?it/s]"
      ]
     },
     "metadata": {},
     "output_type": "display_data"
    },
    {
     "data": {
      "application/vnd.jupyter.widget-view+json": {
       "model_id": "938ed637d83a4d679752eb4c357a5db6",
       "version_major": 2,
       "version_minor": 0
      },
      "text/plain": [
       "Creating parquet from Arrow format:   0%|          | 0/5 [00:00<?, ?ba/s]"
      ]
     },
     "metadata": {},
     "output_type": "display_data"
    },
    {
     "data": {
      "application/vnd.jupyter.widget-view+json": {
       "model_id": "1f67729140e7413491e432dccd9d508f",
       "version_major": 2,
       "version_minor": 0
      },
      "text/plain": [
       "Deleting unused files from dataset repository:   0%|          | 0/1 [00:00<?, ?it/s]"
      ]
     },
     "metadata": {},
     "output_type": "display_data"
    },
    {
     "data": {
      "application/vnd.jupyter.widget-view+json": {
       "model_id": "0542c92e2ed446c8a509023f41d227de",
       "version_major": 2,
       "version_minor": 0
      },
      "text/plain": [
       "Downloading metadata:   0%|          | 0.00/562 [00:00<?, ?B/s]"
      ]
     },
     "metadata": {},
     "output_type": "display_data"
    }
   ],
   "source": [
    "dataset.push_to_hub(\"diwank/storycommonsense-chatml\")"
   ]
  },
  {
   "cell_type": "code",
   "execution_count": 55,
   "metadata": {},
   "outputs": [
    {
     "name": "stdout",
     "output_type": "stream",
     "text": [
      "[{'content': 'User and a helpful AI assistant are talking about the short '\n",
      "             'story \"Haircut at home\".\\n'\n",
      "             'The AI assistant tries to understand the story and answer '\n",
      "             'questions about it.',\n",
      "  'name': 'situation',\n",
      "  'role': 'system'},\n",
      " {'content': 'Read the following story and then analyze the emotions of the '\n",
      "             'characters. The story is about Cayla.\\n'\n",
      "             '\\n'\n",
      "             'Instructions:\\n'\n",
      "             '- Think step by step and write down the emotions of the '\n",
      "             'characters in the story as a valid yaml list for every '\n",
      "             'character.\\n'\n",
      "             '- Each item in the list should specify the \"character\" and their '\n",
      "             '\"emotions\" as a list of all the emotions of that character.\\n'\n",
      "             '- \"emotions\" is a list of \"emotion\" name from the Plutchik Wheel '\n",
      "             'of Emotions and its \"strength\" as one of \"weak\", \"moderate\" or '\n",
      "             '\"strong\".',\n",
      "  'name': None,\n",
      "  'role': 'user'},\n",
      " {'content': '# Haircut at home\\n'\n",
      "             '\\n'\n",
      "             'Cayla wanted her hair cut.\\n'\n",
      "             'So she went and bought a brand new pair of scissors.\\n'\n",
      "             'She looked at pictures on the internet of many desired '\n",
      "             'hairstyles.\\n'\n",
      "             'She decided on a haircut and began cutting her hair.\\n'\n",
      "             'Cayla is now sporting a brand new haircut.',\n",
      "  'name': 'information',\n",
      "  'role': 'system'},\n",
      " {'content': 'Thinking step by step:\\n'\n",
      "             '\\n'\n",
      "             '- In line 1, Cayla is feeling JOY (strongly), TRUST '\n",
      "             '(moderately), FEAR (moderately), SURPRISE (strongly), SADNESS '\n",
      "             '(strongly), DISGUST (moderately), ANTICIPATION (strongly).\\n'\n",
      "             '- In line 2, Cayla is feeling ANTICIPATION (strongly).\\n'\n",
      "             '- In line 3, Cayla is feeling JOY (moderately), FEAR '\n",
      "             '(moderately), ANTICIPATION (strongly).\\n'\n",
      "             '- In line 4, Cayla is feeling JOY (strongly), TRUST '\n",
      "             '(moderately), SURPRISE (moderately), ANTICIPATION (strongly).\\n'\n",
      "             '- In line 5, Cayla is feeling JOY (strongly), SURPRISE '\n",
      "             '(strongly), ANTICIPATION (strongly).',\n",
      "  'name': 'thought',\n",
      "  'role': 'system'},\n",
      " {'content': '- character: Cayla\\n'\n",
      "             '  emotions:\\n'\n",
      "             '  - emotion: joy\\n'\n",
      "             '    strength: strong\\n'\n",
      "             '  - emotion: trust\\n'\n",
      "             '    strength: moderate\\n'\n",
      "             '  - emotion: fear\\n'\n",
      "             '    strength: moderate\\n'\n",
      "             '  - emotion: surprise\\n'\n",
      "             '    strength: strong\\n'\n",
      "             '  - emotion: sadness\\n'\n",
      "             '    strength: strong\\n'\n",
      "             '  - emotion: disgust\\n'\n",
      "             '    strength: moderate\\n'\n",
      "             '  - emotion: anticipation\\n'\n",
      "             '    strength: strong\\n',\n",
      "  'name': None,\n",
      "  'role': 'assistant'}]\n"
     ]
    }
   ],
   "source": [
    "import random\n",
    "from pprint import pprint\n",
    "\n",
    "pprint(dataset[random.randint(0, len(dataset))][\"chatml\"])"
   ]
  },
  {
   "cell_type": "code",
   "execution_count": null,
   "metadata": {},
   "outputs": [],
   "source": []
  }
 ],
 "metadata": {
  "kernelspec": {
   "display_name": "Python 3",
   "language": "python",
   "name": "python3"
  },
  "language_info": {
   "codemirror_mode": {
    "name": "ipython",
    "version": 3
   },
   "file_extension": ".py",
   "mimetype": "text/x-python",
   "name": "python",
   "nbconvert_exporter": "python",
   "pygments_lexer": "ipython3",
   "version": "3.10.12"
  }
 },
 "nbformat": 4,
 "nbformat_minor": 2
}
