{
 "cells": [
  {
   "cell_type": "code",
   "execution_count": 1,
   "metadata": {},
   "outputs": [
    {
     "name": "stdout",
     "output_type": "stream",
     "text": [
      "--2023-10-08 20:50:19--  https://uwnlp.github.io/storycommonsense/data/storycommonsense_data.zip\n",
      "Resolving uwnlp.github.io (uwnlp.github.io)... 185.199.108.153, 185.199.109.153, 185.199.110.153, ...\n",
      "Connecting to uwnlp.github.io (uwnlp.github.io)|185.199.108.153|:443... connected.\n",
      "HTTP request sent, awaiting response... 200 OK\n",
      "Length: 18755402 (18M) [application/zip]\n",
      "Saving to: ‘cache_data/storycommonsense_data.zip’\n",
      "\n",
      "cache_data/storycom 100%[===================>]  17.89M  9.78MB/s    in 1.8s    \n",
      "\n",
      "2023-10-08 20:50:21 (9.78 MB/s) - ‘cache_data/storycommonsense_data.zip’ saved [18755402/18755402]\n",
      "\n"
     ]
    }
   ],
   "source": [
    "!wget https://uwnlp.github.io/storycommonsense/data/storycommonsense_data.zip -O cache_data/storycommonsense_data.zip"
   ]
  },
  {
   "cell_type": "code",
   "execution_count": 5,
   "metadata": {},
   "outputs": [
    {
     "name": "stdout",
     "output_type": "stream",
     "text": [
      "Archive:  cache_data/storycommonsense_data.zip\n",
      "   creating: cache_data/storycommonsense_data/csv_version/\n",
      "   creating: cache_data/storycommonsense_data/csv_version/dev/\n"
     ]
    },
    {
     "name": "stdout",
     "output_type": "stream",
     "text": [
      "   creating: cache_data/storycommonsense_data/csv_version/dev/emotion/\n",
      "  inflating: cache_data/storycommonsense_data/csv_version/dev/emotion/allcharlinepairs.csv  \n",
      "   creating: cache_data/storycommonsense_data/csv_version/dev/motiv/\n",
      "  inflating: cache_data/storycommonsense_data/csv_version/dev/motiv/allcharlinepairs.csv  \n",
      "  inflating: cache_data/storycommonsense_data/csv_version/README.txt  \n",
      "   creating: cache_data/storycommonsense_data/csv_version/test/\n",
      "   creating: cache_data/storycommonsense_data/csv_version/test/emotion/\n",
      "  inflating: cache_data/storycommonsense_data/csv_version/test/emotion/allcharlinepairs.csv  \n",
      "   creating: cache_data/storycommonsense_data/csv_version/test/motiv/\n",
      "  inflating: cache_data/storycommonsense_data/csv_version/test/motiv/allcharlinepairs.csv  \n",
      "   creating: cache_data/storycommonsense_data/csv_version/training/\n",
      "  inflating: cache_data/storycommonsense_data/csv_version/training/allcharlinepairs.csv  \n",
      "   creating: cache_data/storycommonsense_data/csv_version/characters/\n",
      "  inflating: cache_data/storycommonsense_data/csv_version/characters/entitylines_devtest.csv  \n",
      "  inflating: cache_data/storycommonsense_data/csv_version/characters/entitylines_train.csv  \n",
      "   creating: cache_data/storycommonsense_data/json_version/\n",
      "  inflating: cache_data/storycommonsense_data/json_version/README.txt  \n",
      "  inflating: cache_data/storycommonsense_data/json_version/annotations.json  \n",
      "  inflating: cache_data/storycommonsense_data/README.txt  \n",
      "  inflating: cache_data/storycommonsense_data/rocstorysubset.csv  \n",
      "  inflating: cache_data/storycommonsense_data/storyid_partition.txt  \n"
     ]
    }
   ],
   "source": [
    "!unzip cache_data/storycommonsense_data.zip -d cache_data/storycommonsense_data"
   ]
  },
  {
   "cell_type": "code",
   "execution_count": 40,
   "metadata": {},
   "outputs": [],
   "source": [
    "import json\n",
    "from textwrap import dedent\n",
    "\n",
    "from datasets import Dataset\n",
    "from huggingface_hub import notebook_login\n",
    "from tqdm.auto import tqdm\n"
   ]
  },
  {
   "cell_type": "code",
   "execution_count": 11,
   "metadata": {},
   "outputs": [],
   "source": [
    "with open('cache_data/storycommonsense_data/json_version/annotations.json') as f:\n",
    "    data = json.load(f)"
   ]
  },
  {
   "cell_type": "code",
   "execution_count": 12,
   "metadata": {},
   "outputs": [
    {
     "data": {
      "text/plain": [
       "{'lines': {'1': {'characters': {'My daughter': {'app': False,\n",
       "     'emotion': {},\n",
       "     'motiv': {}},\n",
       "    'Nana': {'app': True,\n",
       "     'emotion': {'ann0': {'plutchik': ['sadness:2', 'disgust:2', 'anger:2'],\n",
       "       'text': ['confused']},\n",
       "      'ann1': {'plutchik': ['surprise:2'], 'text': ['confused']}},\n",
       "     'motiv': {'ann0': {'maslow': ['stability'],\n",
       "       'reiss': ['order'],\n",
       "       'text': ['to understand']},\n",
       "      'ann1': {'maslow': ['none'],\n",
       "       'reiss': [],\n",
       "       'text': ['to check something']},\n",
       "      'ann2': {'maslow': ['esteem'],\n",
       "       'reiss': ['status'],\n",
       "       'text': ['to be noticed']}}}},\n",
       "   'text': 'Nana came into the room with a puzzled look on her face.'},\n",
       "  '2': {'characters': {'My daughter': {'app': False,\n",
       "     'emotion': {},\n",
       "     'motiv': {}},\n",
       "    'Nana': {'app': True,\n",
       "     'emotion': {'ann0': {'plutchik': ['surprise:2'], 'text': ['confused']},\n",
       "      'ann1': {'plutchik': ['surprise:2', 'anger:2'],\n",
       "       'text': ['confused', 'frustrated']},\n",
       "      'ann2': {'plutchik': [], 'text': ['confused']}},\n",
       "     'motiv': {'ann0': {'maslow': ['stability'],\n",
       "       'reiss': ['order'],\n",
       "       'text': ['socks that match']},\n",
       "      'ann1': {'maslow': ['stability'],\n",
       "       'reiss': ['order'],\n",
       "       'text': ['to sort laundry.']},\n",
       "      'ann2': {'maslow': ['none'], 'reiss': [], 'text': ['to be noticed']}}}},\n",
       "   'text': 'She held up an orange sock and a blue one.'},\n",
       "  '3': {'characters': {'My daughter': {'app': True,\n",
       "     'emotion': {'ann0': {'plutchik': ['joy:2', 'surprise:2'],\n",
       "       'text': ['Excitement ']},\n",
       "      'ann1': {'plutchik': ['trust:2'], 'text': ['confidence ']}},\n",
       "     'motiv': {'ann0': {'maslow': ['none'],\n",
       "       'reiss': [],\n",
       "       'text': ['the blue sock']},\n",
       "      'ann1': {'maslow': ['none'], 'reiss': [], 'text': ['the blue sock']},\n",
       "      'ann2': {'maslow': ['love'],\n",
       "       'reiss': ['family', 'contact'],\n",
       "       'text': ['to be selective.']}}},\n",
       "    'Nana': {'app': True,\n",
       "     'emotion': {'ann0': {'plutchik': ['joy:3', 'surprise:2'],\n",
       "       'text': ['amused']},\n",
       "      'ann1': {'plutchik': ['joy:2', 'anticipation:2'], 'text': ['happy']}},\n",
       "     'motiv': {}}},\n",
       "   'text': 'My daughter jumped up and grabbed the blue one out of her hand.'},\n",
       "  '4': {'characters': {'My daughter': {'app': True,\n",
       "     'emotion': {'ann0': {'plutchik': ['joy:2',\n",
       "        'trust:2',\n",
       "        'surprise:2',\n",
       "        'anticipation:2'],\n",
       "       'text': ['Energetic', 'Playful']},\n",
       "      'ann1': {'plutchik': ['joy:3'], 'text': ['happy']}},\n",
       "     'motiv': {'ann0': {'maslow': ['love'],\n",
       "       'reiss': ['family'],\n",
       "       'text': ['to have fun']},\n",
       "      'ann1': {'maslow': ['spiritual growth'],\n",
       "       'reiss': ['indep'],\n",
       "       'text': ['to have fun']}}},\n",
       "    'Nana': {'app': True,\n",
       "     'emotion': {'ann0': {'plutchik': ['joy:3', 'trust:2', 'surprise:3'],\n",
       "       'text': ['amused']},\n",
       "      'ann1': {'plutchik': ['joy:3'], 'text': ['playful']}},\n",
       "     'motiv': {'ann0': {'maslow': ['esteem'],\n",
       "       'reiss': ['status'],\n",
       "       'text': ['questioning odds.']},\n",
       "      'ann1': {'maslow': ['none'], 'reiss': [], 'text': ['to (be)']}}}},\n",
       "   'text': 'She took off running down the hall while waving the sock in the air.'},\n",
       "  '5': {'characters': {'My daughter': {'app': True,\n",
       "     'emotion': {'ann0': {'plutchik': ['joy:3',\n",
       "        'trust:3',\n",
       "        'surprise:3',\n",
       "        'anticipation:2'],\n",
       "       'text': ['ecstatic']},\n",
       "      'ann1': {'plutchik': ['joy:3',\n",
       "        'trust:3',\n",
       "        'surprise:3',\n",
       "        'anticipation:3'],\n",
       "       'text': ['fun']}},\n",
       "     'motiv': {'ann0': {'maslow': ['spiritual growth'],\n",
       "       'reiss': ['serenity'],\n",
       "       'text': ['to have fun']},\n",
       "      'ann1': {'maslow': ['love'],\n",
       "       'reiss': ['family'],\n",
       "       'text': ['to be playful']},\n",
       "      'ann2': {'maslow': ['spiritual growth'],\n",
       "       'reiss': ['serenity'],\n",
       "       'text': ['express her happiness']}}},\n",
       "    'Nana': {'app': True,\n",
       "     'emotion': {'ann0': {'plutchik': ['joy:3', 'trust:2', 'surprise:3'],\n",
       "       'text': ['playful']},\n",
       "      'ann1': {'plutchik': ['joy:3', 'trust:2'], 'text': ['Playful']},\n",
       "      'ann2': {'plutchik': ['joy:3'], 'text': ['happy']}},\n",
       "     'motiv': {'ann0': {'maslow': ['spiritual growth'],\n",
       "       'reiss': ['serenity'],\n",
       "       'text': ['to have fun']},\n",
       "      'ann1': {'maslow': ['love'],\n",
       "       'reiss': ['family'],\n",
       "       'text': ['to be close to her family. ']},\n",
       "      'ann2': {'maslow': ['love'],\n",
       "       'reiss': ['family'],\n",
       "       'text': ['to play']}}}},\n",
       "   'text': 'Nana chased her down, caught her, and tickled her until she laughed.'}},\n",
       " 'partition': 'dev',\n",
       " 'storyid': '0008c800-82b6-43b3-8b53-5475ed1dac9b',\n",
       " 'title': 'Sock Chase'}"
      ]
     },
     "execution_count": 12,
     "metadata": {},
     "output_type": "execute_result"
    }
   ],
   "source": [
    "data[\"0008c800-82b6-43b3-8b53-5475ed1dac9b\"]"
   ]
  },
  {
   "cell_type": "code",
   "execution_count": 32,
   "metadata": {},
   "outputs": [
    {
     "data": {
      "application/vnd.jupyter.widget-view+json": {
       "model_id": "57dade5bc37047afba37e5db5d96237b",
       "version_major": 2,
       "version_minor": 0
      },
      "text/plain": [
       "  0%|          | 0/14738 [00:00<?, ?it/s]"
      ]
     },
     "metadata": {},
     "output_type": "display_data"
    }
   ],
   "source": [
    "processed_data = [\n",
    "    dict(\n",
    "        title=record[\"title\"],\n",
    "        story=\"\\n\".join([\n",
    "            line[\"text\"] for line in record[\"lines\"].values()\n",
    "        ]),\n",
    "        characters=set([\n",
    "            char\n",
    "            for line in record[\"lines\"].values()\n",
    "            for char in line[\"characters\"].keys()\n",
    "        ]),\n",
    "        emotions={\n",
    "            char: [\n",
    "                {\n",
    "                    \"emotion\": [\n",
    "                        emotion_data\n",
    "                        for emotion_data in char_data[\"emotion\"].values()\n",
    "                        if '3' in ''.join(emotion_data.get(\"plutchik\", []))\n",
    "                    ],\n",
    "                    \"line_no\": line_no,\n",
    "                }\n",
    "                for line_no, line in record[\"lines\"].items()\n",
    "                for char_name, char_data in line[\"characters\"].items()\n",
    "                if char_name == char and char_data[\"emotion\"]\n",
    "            ]\n",
    "            for line in record[\"lines\"].values()\n",
    "            for char in line[\"characters\"].keys()\n",
    "        },\n",
    "    )\n",
    "    for record in tqdm(data.values())\n",
    "]"
   ]
  },
  {
   "cell_type": "code",
   "execution_count": 34,
   "metadata": {},
   "outputs": [
    {
     "data": {
      "application/vnd.jupyter.widget-view+json": {
       "model_id": "d76ec19d12da4d9986fee2df731b524a",
       "version_major": 2,
       "version_minor": 0
      },
      "text/plain": [
       "VBox(children=(HTML(value='<center> <img\\nsrc=https://huggingface.co/front/assets/huggingface_logo-noborder.sv…"
      ]
     },
     "metadata": {},
     "output_type": "display_data"
    }
   ],
   "source": [
    "notebook_login()"
   ]
  },
  {
   "cell_type": "code",
   "execution_count": 36,
   "metadata": {},
   "outputs": [],
   "source": [
    "dataset = Dataset.from_list(processed_data)"
   ]
  },
  {
   "cell_type": "code",
   "execution_count": 37,
   "metadata": {},
   "outputs": [
    {
     "data": {
      "application/vnd.jupyter.widget-view+json": {
       "model_id": "b6222009ea624284bec08e8c71beec67",
       "version_major": 2,
       "version_minor": 0
      },
      "text/plain": [
       "Pushing dataset shards to the dataset hub:   0%|          | 0/1 [00:00<?, ?it/s]"
      ]
     },
     "metadata": {},
     "output_type": "display_data"
    },
    {
     "data": {
      "application/vnd.jupyter.widget-view+json": {
       "model_id": "c51962e337344ccc8803a66e46d3b7bf",
       "version_major": 2,
       "version_minor": 0
      },
      "text/plain": [
       "Creating parquet from Arrow format:   0%|          | 0/15 [00:00<?, ?ba/s]"
      ]
     },
     "metadata": {},
     "output_type": "display_data"
    }
   ],
   "source": [
    "dataset.push_to_hub(\"diwank/storycommonsense-raw\")"
   ]
  },
  {
   "cell_type": "code",
   "execution_count": 38,
   "metadata": {},
   "outputs": [],
   "source": [
    "make_chatml = lambda name, role, content: dict(\n",
    "    name=name, role=role, content=content,\n",
    ")\n",
    "\n",
    "system = lambda name, content: make_chatml(\n",
    "    role=\"system\",\n",
    "    name=name,\n",
    "    content=content,\n",
    ")\n",
    "\n",
    "situation = lambda content: system(name=\"situation\", content=content)\n",
    "thought = lambda content: system(name=\"thought\", content=content)\n",
    "information = lambda content: system(name=\"information\", content=content)\n",
    "me = lambda content, name=None: make_chatml(\n",
    "    role=\"assistant\",\n",
    "    content=content,\n",
    "    name=name,\n",
    ")\n",
    "\n",
    "person = lambda content, name=None: make_chatml(\n",
    "    role=\"user\",\n",
    "    content=content,\n",
    "    name=name,\n",
    ")\n"
   ]
  },
  {
   "cell_type": "code",
   "execution_count": 42,
   "metadata": {},
   "outputs": [
    {
     "data": {
      "text/plain": [
       "{'title': 'Sock Chase',\n",
       " 'story': 'Nana came into the room with a puzzled look on her face.\\nShe held up an orange sock and a blue one.\\nMy daughter jumped up and grabbed the blue one out of her hand.\\nShe took off running down the hall while waving the sock in the air.\\nNana chased her down, caught her, and tickled her until she laughed.',\n",
       " 'characters': {'My daughter', 'Nana'},\n",
       " 'emotions': {'My daughter': [{'emotion': [], 'line_no': '3'},\n",
       "   {'emotion': [{'plutchik': ['joy:3'], 'text': ['happy']}], 'line_no': '4'},\n",
       "   {'emotion': [{'plutchik': ['joy:3',\n",
       "       'trust:3',\n",
       "       'surprise:3',\n",
       "       'anticipation:2'],\n",
       "      'text': ['ecstatic']},\n",
       "     {'plutchik': ['joy:3', 'trust:3', 'surprise:3', 'anticipation:3'],\n",
       "      'text': ['fun']}],\n",
       "    'line_no': '5'}],\n",
       "  'Nana': [{'emotion': [], 'line_no': '1'},\n",
       "   {'emotion': [], 'line_no': '2'},\n",
       "   {'emotion': [{'plutchik': ['joy:3', 'surprise:2'], 'text': ['amused']}],\n",
       "    'line_no': '3'},\n",
       "   {'emotion': [{'plutchik': ['joy:3', 'trust:2', 'surprise:3'],\n",
       "      'text': ['amused']},\n",
       "     {'plutchik': ['joy:3'], 'text': ['playful']}],\n",
       "    'line_no': '4'},\n",
       "   {'emotion': [{'plutchik': ['joy:3', 'trust:2', 'surprise:3'],\n",
       "      'text': ['playful']},\n",
       "     {'plutchik': ['joy:3', 'trust:2'], 'text': ['Playful']},\n",
       "     {'plutchik': ['joy:3'], 'text': ['happy']}],\n",
       "    'line_no': '5'}]}}"
      ]
     },
     "execution_count": 42,
     "metadata": {},
     "output_type": "execute_result"
    }
   ],
   "source": [
    "def to_chatml(row):\n",
    "    title = row[\"title\"]\n",
    "    story = row[\"story\"]\n",
    "    characters = row[\"characters\"]\n",
    "    emotions = row[\"emotions\"]\n",
    "\n",
    "    situation_content = dedent(f\"\"\"\\\n",
    "    Hello\n",
    "    \"\"\").strip()\n",
    "\n",
    "    chatml = [\n",
    "        situation(content=situation_content),\n",
    "    ]\n",
    "\n",
    "    return dict(chatml=chatml)\n",
    "\n",
    "to_chatml(processed_data[0])\n",
    "processed_data[0]"
   ]
  },
  {
   "cell_type": "code",
   "execution_count": null,
   "metadata": {},
   "outputs": [],
   "source": []
  }
 ],
 "metadata": {
  "kernelspec": {
   "display_name": "Python 3",
   "language": "python",
   "name": "python3"
  },
  "language_info": {
   "codemirror_mode": {
    "name": "ipython",
    "version": 3
   },
   "file_extension": ".py",
   "mimetype": "text/x-python",
   "name": "python",
   "nbconvert_exporter": "python",
   "pygments_lexer": "ipython3",
   "version": "3.10.12"
  }
 },
 "nbformat": 4,
 "nbformat_minor": 2
}
