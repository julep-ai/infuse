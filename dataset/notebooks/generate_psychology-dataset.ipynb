{
 "cells": [
  {
   "cell_type": "code",
   "execution_count": 1,
   "id": "c67c42d8-363e-4c1c-ab4d-299f6dc14a1f",
   "metadata": {
    "tags": []
   },
   "outputs": [
    {
     "name": "stdout",
     "output_type": "stream",
     "text": [
      "Downloading and preparing dataset parquet/jkhedri--psychology-dataset to /home/diwank/.cache/huggingface/datasets/jkhedri___parquet/jkhedri--psychology-dataset-2cd732f026dd7c06/0.0.0/2a3b91fbd88a2c90d1dbbb32b460cf621d31bd5b05b934492fdef7d8d6f236ec...\n"
     ]
    },
    {
     "data": {
      "application/vnd.jupyter.widget-view+json": {
       "model_id": "5f364259e2864832ad0f75b66e9edca0",
       "version_major": 2,
       "version_minor": 0
      },
      "text/plain": [
       "Downloading data files:   0%|          | 0/1 [00:00<?, ?it/s]"
      ]
     },
     "metadata": {},
     "output_type": "display_data"
    },
    {
     "data": {
      "application/vnd.jupyter.widget-view+json": {
       "model_id": "114545333bab457c8f7008334d85c7cb",
       "version_major": 2,
       "version_minor": 0
      },
      "text/plain": [
       "Downloading data:   0%|          | 0.00/1.59M [00:00<?, ?B/s]"
      ]
     },
     "metadata": {},
     "output_type": "display_data"
    },
    {
     "data": {
      "application/vnd.jupyter.widget-view+json": {
       "model_id": "4ea22ff65a20472385a4bafb4afe6aff",
       "version_major": 2,
       "version_minor": 0
      },
      "text/plain": [
       "Downloading data:   0%|          | 0.00/96.4k [00:00<?, ?B/s]"
      ]
     },
     "metadata": {},
     "output_type": "display_data"
    },
    {
     "data": {
      "application/vnd.jupyter.widget-view+json": {
       "model_id": "4be5697cc5564cc9846f1fa22e2ee123",
       "version_major": 2,
       "version_minor": 0
      },
      "text/plain": [
       "Extracting data files:   0%|          | 0/1 [00:00<?, ?it/s]"
      ]
     },
     "metadata": {},
     "output_type": "display_data"
    },
    {
     "data": {
      "application/vnd.jupyter.widget-view+json": {
       "model_id": "",
       "version_major": 2,
       "version_minor": 0
      },
      "text/plain": [
       "Generating train split: 0 examples [00:00, ? examples/s]"
      ]
     },
     "metadata": {},
     "output_type": "display_data"
    },
    {
     "name": "stdout",
     "output_type": "stream",
     "text": [
      "Dataset parquet downloaded and prepared to /home/diwank/.cache/huggingface/datasets/jkhedri___parquet/jkhedri--psychology-dataset-2cd732f026dd7c06/0.0.0/2a3b91fbd88a2c90d1dbbb32b460cf621d31bd5b05b934492fdef7d8d6f236ec. Subsequent calls will reuse this data.\n"
     ]
    },
    {
     "data": {
      "application/vnd.jupyter.widget-view+json": {
       "model_id": "c24eed7cb01d487bae648f6bdb1bca20",
       "version_major": 2,
       "version_minor": 0
      },
      "text/plain": [
       "  0%|          | 0/1 [00:00<?, ?it/s]"
      ]
     },
     "metadata": {},
     "output_type": "display_data"
    }
   ],
   "source": [
    "from datasets import load_dataset\n",
    "\n",
    "dataset = load_dataset(\"jkhedri/psychology-dataset\")\n",
    "dataset = dataset[\"train\"]"
   ]
  },
  {
   "cell_type": "code",
   "execution_count": 5,
   "id": "2440e4d2-7b79-4965-a3b3-fc17206af3f9",
   "metadata": {},
   "outputs": [
    {
     "data": {
      "application/vnd.jupyter.widget-view+json": {
       "model_id": "204d7c28224646d9a47d9f16e69140af",
       "version_major": 2,
       "version_minor": 0
      },
      "text/plain": [
       "Downloading (…)ab102/.gitattributes:   0%|          | 0.00/1.52k [00:00<?, ?B/s]"
      ]
     },
     "metadata": {},
     "output_type": "display_data"
    },
    {
     "data": {
      "application/vnd.jupyter.widget-view+json": {
       "model_id": "0c52b3f8d0734bd9b951561d861499b6",
       "version_major": 2,
       "version_minor": 0
      },
      "text/plain": [
       "Downloading (…)_Pooling/config.json:   0%|          | 0.00/190 [00:00<?, ?B/s]"
      ]
     },
     "metadata": {},
     "output_type": "display_data"
    },
    {
     "data": {
      "application/vnd.jupyter.widget-view+json": {
       "model_id": "5cc327ca82514b658b33b7b5b6b9ee33",
       "version_major": 2,
       "version_minor": 0
      },
      "text/plain": [
       "Downloading (…)2d2d7ab102/README.md:   0%|          | 0.00/78.9k [00:00<?, ?B/s]"
      ]
     },
     "metadata": {},
     "output_type": "display_data"
    },
    {
     "data": {
      "application/vnd.jupyter.widget-view+json": {
       "model_id": "a561b39887af467d8fb88d11d42b8659",
       "version_major": 2,
       "version_minor": 0
      },
      "text/plain": [
       "Downloading (…)2d7ab102/config.json:   0%|          | 0.00/684 [00:00<?, ?B/s]"
      ]
     },
     "metadata": {},
     "output_type": "display_data"
    },
    {
     "data": {
      "application/vnd.jupyter.widget-view+json": {
       "model_id": "ebcc68410124407b97d1ff5f58523b5f",
       "version_major": 2,
       "version_minor": 0
      },
      "text/plain": [
       "Downloading (…)ce_transformers.json:   0%|          | 0.00/124 [00:00<?, ?B/s]"
      ]
     },
     "metadata": {},
     "output_type": "display_data"
    },
    {
     "data": {
      "application/vnd.jupyter.widget-view+json": {
       "model_id": "d839ffcea86d4ebdb47b4dad5dd40d7c",
       "version_major": 2,
       "version_minor": 0
      },
      "text/plain": [
       "Downloading model.safetensors:   0%|          | 0.00/133M [00:00<?, ?B/s]"
      ]
     },
     "metadata": {},
     "output_type": "display_data"
    },
    {
     "data": {
      "application/vnd.jupyter.widget-view+json": {
       "model_id": "0ad3a4ded28b471d944460c3c284c21d",
       "version_major": 2,
       "version_minor": 0
      },
      "text/plain": [
       "Downloading pytorch_model.bin:   0%|          | 0.00/134M [00:00<?, ?B/s]"
      ]
     },
     "metadata": {},
     "output_type": "display_data"
    },
    {
     "data": {
      "application/vnd.jupyter.widget-view+json": {
       "model_id": "c9a4d6e7234c4cd6ada6535953f79096",
       "version_major": 2,
       "version_minor": 0
      },
      "text/plain": [
       "Downloading (…)nce_bert_config.json:   0%|          | 0.00/52.0 [00:00<?, ?B/s]"
      ]
     },
     "metadata": {},
     "output_type": "display_data"
    },
    {
     "data": {
      "application/vnd.jupyter.widget-view+json": {
       "model_id": "a92eedfdccbf4cffb14ceb062cbbc190",
       "version_major": 2,
       "version_minor": 0
      },
      "text/plain": [
       "Downloading (…)cial_tokens_map.json:   0%|          | 0.00/125 [00:00<?, ?B/s]"
      ]
     },
     "metadata": {},
     "output_type": "display_data"
    },
    {
     "data": {
      "application/vnd.jupyter.widget-view+json": {
       "model_id": "2cf39432487946b3a36e6c673904f2a1",
       "version_major": 2,
       "version_minor": 0
      },
      "text/plain": [
       "Downloading (…)ab102/tokenizer.json:   0%|          | 0.00/711k [00:00<?, ?B/s]"
      ]
     },
     "metadata": {},
     "output_type": "display_data"
    },
    {
     "data": {
      "application/vnd.jupyter.widget-view+json": {
       "model_id": "f4453e6eb0734f0290716696086bf593",
       "version_major": 2,
       "version_minor": 0
      },
      "text/plain": [
       "Downloading (…)okenizer_config.json:   0%|          | 0.00/366 [00:00<?, ?B/s]"
      ]
     },
     "metadata": {},
     "output_type": "display_data"
    },
    {
     "data": {
      "application/vnd.jupyter.widget-view+json": {
       "model_id": "e3400dbe7d1b43dfb70284b2edb47864",
       "version_major": 2,
       "version_minor": 0
      },
      "text/plain": [
       "Downloading (…)2d2d7ab102/vocab.txt:   0%|          | 0.00/232k [00:00<?, ?B/s]"
      ]
     },
     "metadata": {},
     "output_type": "display_data"
    },
    {
     "data": {
      "application/vnd.jupyter.widget-view+json": {
       "model_id": "a26bda816314454b95cd10bebf38b62c",
       "version_major": 2,
       "version_minor": 0
      },
      "text/plain": [
       "Downloading (…)d7ab102/modules.json:   0%|          | 0.00/229 [00:00<?, ?B/s]"
      ]
     },
     "metadata": {},
     "output_type": "display_data"
    }
   ],
   "source": [
    "from sentence_transformers import SentenceTransformer\n",
    "\n",
    "model = SentenceTransformer(\"BAAI/bge-small-en\")"
   ]
  },
  {
   "cell_type": "code",
   "execution_count": 11,
   "id": "e8203547-136e-4fa1-997c-869f7ea8452c",
   "metadata": {},
   "outputs": [
    {
     "data": {
      "application/vnd.jupyter.widget-view+json": {
       "model_id": "",
       "version_major": 2,
       "version_minor": 0
      },
      "text/plain": [
       "Map:   0%|          | 0/9846 [00:00<?, ? examples/s]"
      ]
     },
     "metadata": {},
     "output_type": "display_data"
    }
   ],
   "source": [
    "def embed(rows, idx):\n",
    "    questions = rows[\"question\"]\n",
    "    embeddings = list(model.encode(questions, normalize_embeddings=True))\n",
    "    return dict(idx=idx, embedding=embeddings)\n",
    "\n",
    "dataset = dataset.map(embed, batched=True, with_indices=True)"
   ]
  },
  {
   "cell_type": "code",
   "execution_count": 12,
   "id": "5f42fe22-ef1b-4d03-b18f-60ffd016862a",
   "metadata": {},
   "outputs": [],
   "source": [
    "import numpy as np\n",
    "from sklearn.metrics import pairwise_distances\n",
    "from scipy.spatial.distance import cosine\n",
    "\n",
    "all_embeddings = dataset[\"embedding\"]\n",
    "all_embeddings = np.array(all_embeddings)\n",
    "\n",
    "sim_matrix = 1 - pairwise_distances(all_embeddings, metric=\"cosine\")"
   ]
  },
  {
   "cell_type": "code",
   "execution_count": 50,
   "id": "1de5657a-857e-464b-827c-320d4b3411f5",
   "metadata": {},
   "outputs": [],
   "source": [
    "results = np.argwhere(sim_matrix>=0.95).tolist()"
   ]
  },
  {
   "cell_type": "code",
   "execution_count": 52,
   "id": "a507931e-a6be-481d-b6ba-85959afaa1f1",
   "metadata": {},
   "outputs": [],
   "source": [
    "top_right = [(x, y) for [x, y] in results if x < y]"
   ]
  },
  {
   "cell_type": "code",
   "execution_count": 54,
   "id": "e99175a0-435a-4552-9cfa-49b7cef1ad4c",
   "metadata": {},
   "outputs": [],
   "source": [
    "to_exclude = set()\n",
    "\n",
    "for key, val in top_right:\n",
    "    if key in to_exclude:\n",
    "        continue\n",
    "\n",
    "    to_exclude.add(val)\n",
    "\n",
    "to_keep = list( set(range(len(dataset))) - to_exclude )"
   ]
  },
  {
   "cell_type": "code",
   "execution_count": 55,
   "id": "8820d199-be00-40e4-bdfd-478f7deb259d",
   "metadata": {},
   "outputs": [],
   "source": [
    "dataset = dataset.select(to_keep)"
   ]
  },
  {
   "cell_type": "code",
   "execution_count": 56,
   "id": "63968083-6738-454b-97b3-37cf13dadea7",
   "metadata": {},
   "outputs": [
    {
     "data": {
      "text/plain": [
       "1162"
      ]
     },
     "execution_count": 56,
     "metadata": {},
     "output_type": "execute_result"
    }
   ],
   "source": [
    "len(dataset)"
   ]
  },
  {
   "cell_type": "code",
   "execution_count": 57,
   "id": "307e1fe4-fb28-453d-bd67-237eb2fe3fc7",
   "metadata": {
    "tags": []
   },
   "outputs": [],
   "source": [
    "def to_dialog(row):\n",
    "    from tenacity import (\n",
    "        retry,\n",
    "        stop_after_attempt,\n",
    "        wait_random_exponential,\n",
    "    )\n",
    "\n",
    "    import openai\n",
    "    openai.api_key = \"XXX\"\n",
    "\n",
    "    INSTRUCTION = (\n",
    "        \"You are an expert psychologist and acclaimed cognitive behavior researcher.\"\n",
    "        \" Given below is an exchange between two people A and B.\"\n",
    "        \" A is expressing a concern about their mental health and B is giving them advice from their perspective.\"\n",
    "        \"\\n\\nAs an expert in the field, think about the exchange and then evaluate whether it's a good advice or not.\"\n",
    "        \" To back up your evaluation, lay down your reasons for why you think so in detail and add remarks for what B can do better.\"\n",
    "    )\n",
    "\n",
    "\n",
    "    from redis import StrictRedis\n",
    "    from redis_cache import RedisCache\n",
    "\n",
    "    client = StrictRedis(host=\"localhost\", decode_responses=True)\n",
    "    cache = RedisCache(redis_client=client)\n",
    "\n",
    "    @cache.cache()\n",
    "    @retry(wait=wait_random_exponential(min=1, max=90), stop=stop_after_attempt(100))\n",
    "    def completion_with_backoff(sample):\n",
    "\n",
    "        messages = [dict(\n",
    "            role=\"user\",\n",
    "            content=INSTRUCTION + \"\\n\\n\" + sample\n",
    "        )]\n",
    "        \n",
    "        completion = openai.ChatCompletion.create(\n",
    "            model=\"gpt-4\",\n",
    "            messages=messages,\n",
    "            temperature=0.25,\n",
    "        )\n",
    "        \n",
    "        result = completion.choices[0].message[\"content\"]\n",
    "        return result\n",
    "\n",
    "    j_evaluation = completion_with_backoff(\n",
    "        f'A: {row[\"question\"]}'\n",
    "        f'\\n\\nB: {row[\"response_j\"]}'\n",
    "    )\n",
    "\n",
    "    k_evaluation = completion_with_backoff(\n",
    "        f'A: {row[\"question\"]}'\n",
    "        f'\\n\\nB: {row[\"response_k\"]}'\n",
    "    )\n",
    "    \n",
    "    row[\"j_evaluation\"] = j_evaluation\n",
    "    row[\"k_evaluation\"] = k_evaluation\n",
    "    \n",
    "    return row"
   ]
  },
  {
   "cell_type": "code",
   "execution_count": 58,
   "id": "8143fdfb-6146-4c2b-9ae3-0af489e1f280",
   "metadata": {
    "tags": []
   },
   "outputs": [
    {
     "data": {
      "application/vnd.jupyter.widget-view+json": {
       "model_id": "",
       "version_major": 2,
       "version_minor": 0
      },
      "text/plain": [
       "Map (num_proc=20):   0%|          | 0/1162 [00:00<?, ? examples/s]"
      ]
     },
     "metadata": {},
     "output_type": "display_data"
    }
   ],
   "source": [
    "dataset = dataset.map(to_dialog, num_proc=20)"
   ]
  },
  {
   "cell_type": "code",
   "execution_count": 61,
   "id": "0a4be61a-e763-4c5b-b542-06e986ca2195",
   "metadata": {},
   "outputs": [
    {
     "data": {
      "text/plain": [
       "(\"The advice given by B is generally good. They acknowledge A's feelings, normalize the experience of anxiety, and express a willingness to help A understand and manage their anxiety. This approach is supportive and empathetic, which is crucial when dealing with mental health issues.\\n\\nB also suggests identifying triggers and developing coping strategies, which is a common and effective approach in cognitive behavioral therapy. This involves understanding what situations or thoughts might be causing the anxiety and then developing strategies to manage these triggers. This can help A to feel more in control of their anxiety and reduce its impact on their life.\\n\\nHowever, B could improve their advice by suggesting that A seek professional help. While it's great to offer support and help as a friend, anxiety can be a serious mental health issue that requires professional treatment. B should encourage A to speak to a mental health professional who can provide a proper diagnosis and treatment plan. This could involve therapy, medication, or other interventions.\\n\\nAdditionally, B could also provide reassurance that seeking help is a sign of strength and there's no need to feel ashamed or embarrassed. It's important to destigmatize mental health issues and promote the idea that everyone needs help sometimes, and it's okay to ask for it. \\n\\nLastly, B could also suggest some immediate relief strategies like deep breathing exercises, mindfulness, or other relaxation techniques that can help manage anxiety in the moment.\",\n",
       " '',\n",
       " 'The advice given by person B is not good advice. The statement that \"anxiety is just a sign of weakness\" is not only incorrect but also harmful. Anxiety is a mental health condition that can be caused by a variety of factors, including genetics, brain chemistry, personality, and life events. It is not a sign of weakness and suggesting so can contribute to the stigma surrounding mental health, making it more difficult for individuals to seek help.\\n\\nFurthermore, telling someone to \"toughen up\" is not helpful. This implies that the person suffering from anxiety has control over their feelings and can simply choose to not be anxious. This is not the case. Anxiety is not something that can be controlled through willpower alone. It often requires treatment, such as therapy or medication, to manage.\\n\\nThe suggestion to distract oneself from anxious thoughts can sometimes be helpful as a temporary coping mechanism, but it is not a long-term solution. Distraction does not address the root cause of the anxiety and can even make it worse in the long run by preventing the individual from learning how to cope with their anxiety in a healthy way.\\n\\nInstead of giving such advice, person B could be more supportive and empathetic. They could encourage person A to seek help from a mental health professional, who can provide them with the tools and strategies to manage their anxiety. They could also offer to be there for person A, providing emotional support and understanding.')"
      ]
     },
     "execution_count": 61,
     "metadata": {},
     "output_type": "execute_result"
    }
   ],
   "source": [
    "dataset[0][\"j_evaluation\"], \"\", dataset[0][\"k_evaluation\"]"
   ]
  },
  {
   "cell_type": "code",
   "execution_count": 62,
   "id": "c12685a7-3936-4208-959c-2b93e7a39d23",
   "metadata": {
    "tags": []
   },
   "outputs": [],
   "source": [
    "make_chatml = lambda name, role, content: dict(\n",
    "    name=name, role=role, content=content,\n",
    ")\n",
    "\n",
    "system = lambda name, content: make_chatml(\n",
    "    role=\"system\",\n",
    "    name=name,\n",
    "    content=content,\n",
    ")\n",
    "\n",
    "situation = lambda content: system(name=\"situation\", content=content)\n",
    "thought = lambda content: system(name=\"thought\", content=content)\n",
    "information = lambda content: system(name=\"information\", content=content)\n",
    "me = lambda content, name=None: make_chatml(\n",
    "    role=\"assistant\",\n",
    "    content=content,\n",
    "    name=name,\n",
    ")\n",
    "\n",
    "person = lambda content, name=None: make_chatml(\n",
    "    role=\"user\",\n",
    "    content=content,\n",
    "    name=name,\n",
    ")"
   ]
  },
  {
   "cell_type": "code",
   "execution_count": 72,
   "id": "5ad2b2fc-aae9-42ca-bf03-a63f971ecd9c",
   "metadata": {},
   "outputs": [
    {
     "data": {
      "application/vnd.jupyter.widget-view+json": {
       "model_id": "",
       "version_major": 2,
       "version_minor": 0
      },
      "text/plain": [
       "Map:   0%|          | 0/1162 [00:00<?, ? examples/s]"
      ]
     },
     "metadata": {},
     "output_type": "display_data"
    }
   ],
   "source": [
    "def to_chatml(row):\n",
    "    question = row[\"question\"]\n",
    "    response_j = row[\"response_j\"]\n",
    "    response_k = row[\"response_k\"]\n",
    "    j_evaluation = row[\"j_evaluation\"]\n",
    "    k_evaluation = row[\"k_evaluation\"]\n",
    "\n",
    "    chatmls = [\n",
    "        [\n",
    "            situation(\n",
    "                f\"Samantha is observing an exchange between two people A and B.\"\n",
    "                \" A is expressing a concern about their mental health and B is giving them advice from their perspective.\"\n",
    "                \" As an expert psychology, she is evaluating the advice.\"\n",
    "            ),\n",
    "            person(question, name=\"Person A\"),\n",
    "            person(response_j, name=\"Person A\"),\n",
    "            thought(\"Evaluation of Person B's response: \" + j_evaluation),\n",
    "        ]\n",
    "        for r, e in [\n",
    "            (response_j, j_evaluation),\n",
    "            (response_k, k_evaluation),\n",
    "        ]\n",
    "    ]\n",
    "\n",
    "    return dict(chatmls=chatmls)\n",
    "\n",
    "dataset = dataset.map(to_chatml)"
   ]
  },
  {
   "cell_type": "code",
   "execution_count": 73,
   "id": "983c1355-d6d6-4223-b524-3da20ace3c6f",
   "metadata": {},
   "outputs": [
    {
     "data": {
      "application/vnd.jupyter.widget-view+json": {
       "model_id": "",
       "version_major": 2,
       "version_minor": 0
      },
      "text/plain": [
       "Map:   0%|          | 0/1162 [00:00<?, ? examples/s]"
      ]
     },
     "metadata": {},
     "output_type": "display_data"
    }
   ],
   "source": [
    "def unbatch(rows):\n",
    "    chatmlss = rows[\"chatmls\"]\n",
    "    chatml = [\n",
    "        c\n",
    "        for cs in chatmlss\n",
    "        for c in cs\n",
    "    ]\n",
    "\n",
    "    return dict(chatml=chatml)\n",
    "\n",
    "ds = dataset.map(unbatch, batched=True, remove_columns=list(set(dataset.column_names) - {\"chatml\"}))"
   ]
  },
  {
   "cell_type": "code",
   "execution_count": 74,
   "id": "ca6a3cae-70d9-4882-8a02-4c686450a709",
   "metadata": {
    "tags": []
   },
   "outputs": [
    {
     "data": {
      "application/vnd.jupyter.widget-view+json": {
       "model_id": "646707624ecf4d56908b5839a3ea15d3",
       "version_major": 2,
       "version_minor": 0
      },
      "text/plain": [
       "Pushing dataset shards to the dataset hub:   0%|          | 0/1 [00:00<?, ?it/s]"
      ]
     },
     "metadata": {},
     "output_type": "display_data"
    },
    {
     "data": {
      "application/vnd.jupyter.widget-view+json": {
       "model_id": "7e6f2502a0d9452090665866efd4dbb8",
       "version_major": 2,
       "version_minor": 0
      },
      "text/plain": [
       "Creating parquet from Arrow format:   0%|          | 0/3 [00:00<?, ?ba/s]"
      ]
     },
     "metadata": {},
     "output_type": "display_data"
    },
    {
     "data": {
      "application/vnd.jupyter.widget-view+json": {
       "model_id": "e29269f8cfe2416d9d5d9c79fb393316",
       "version_major": 2,
       "version_minor": 0
      },
      "text/plain": [
       "Upload 1 LFS files:   0%|          | 0/1 [00:00<?, ?it/s]"
      ]
     },
     "metadata": {},
     "output_type": "display_data"
    }
   ],
   "source": [
    "ds.push_to_hub(\"diwank/samantha-psychology-data\", private=True)"
   ]
  },
  {
   "cell_type": "code",
   "execution_count": null,
   "id": "149e2819-fddf-4465-b8e2-f2bca708f392",
   "metadata": {},
   "outputs": [],
   "source": []
  }
 ],
 "metadata": {
  "kernelspec": {
   "display_name": "Python 3 (ipykernel)",
   "language": "python",
   "name": "python3"
  },
  "language_info": {
   "codemirror_mode": {
    "name": "ipython",
    "version": 3
   },
   "file_extension": ".py",
   "mimetype": "text/x-python",
   "name": "python",
   "nbconvert_exporter": "python",
   "pygments_lexer": "ipython3",
   "version": "3.10.11"
  }
 },
 "nbformat": 4,
 "nbformat_minor": 5
}
