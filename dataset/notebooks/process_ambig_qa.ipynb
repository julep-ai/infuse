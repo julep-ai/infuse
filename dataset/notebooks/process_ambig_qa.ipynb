{
 "cells": [
  {
   "cell_type": "code",
   "execution_count": 1,
   "id": "441a6ddd-31ca-4be1-8d23-c2e4053b0425",
   "metadata": {},
   "outputs": [],
   "source": [
    "from datasets import load_dataset, Dataset\n",
    "\n",
    "dataset = load_dataset(\"ambig_qa\")"
   ]
  },
  {
   "cell_type": "code",
   "execution_count": 2,
   "id": "e0c4ae1f-2037-423d-ad9a-6c553d5848b0",
   "metadata": {},
   "outputs": [],
   "source": [
    "make_chatml = lambda name, role, content: dict(\n",
    "    name=name, role=role, content=content,\n",
    ")\n",
    "\n",
    "system = lambda name, content: make_chatml(\n",
    "    role=\"system\",\n",
    "    name=name,\n",
    "    content=content,\n",
    ")\n",
    "\n",
    "situation = lambda content: system(name=\"situation\", content=content)\n",
    "thought = lambda content: system(name=\"thought\", content=content)\n",
    "information = lambda content: system(name=\"information\", content=content)\n",
    "me = lambda content, name=None: make_chatml(\n",
    "    role=\"assistant\",\n",
    "    content=content,\n",
    "    name=name,\n",
    ")\n",
    "\n",
    "person = lambda content, name=None: make_chatml(\n",
    "    role=\"user\",\n",
    "    content=content,\n",
    "    name=name,\n",
    ")\n"
   ]
  },
  {
   "cell_type": "code",
   "execution_count": 3,
   "id": "c55fa31a",
   "metadata": {},
   "outputs": [],
   "source": [
    "import json\n",
    "def entry_to_chatml(row):\n",
    "    viewed_doc_titles = row[\"viewed_doc_titles\"]\n",
    "    nq_doc_title = row[\"nq_doc_title\"]\n",
    "    annotations = row[\"annotations\"]\n",
    "    question = row[\"question\"]\n",
    "    nq_answer = row[\"nq_answer\"]\n",
    "    [annot_type, *_] = annotations[\"type\"]\n",
    "\n",
    "    if annot_type == \"multipleQAs\":\n",
    "        [qa_pairs, *_] = annotations[\"qaPairs\"]\n",
    "        qa_pairs = list(zip(\n",
    "            qa_pairs[\"question\"],\n",
    "            map(lambda x: \", \".join(x), qa_pairs[\"answer\"]),\n",
    "        ))\n",
    "\n",
    "        lookup_result = \"\\n\\n\".join([\n",
    "            f\"Q: {q}\\nA: {a}\" for q, a in qa_pairs\n",
    "        ])\n",
    "\n",
    "    elif annot_type == \"singleAnswer\":\n",
    "        [lookup_answer, *_] = annotations[\"answer\"]\n",
    "        lookup_answer = \", \".join(lookup_answer)\n",
    "        lookup_result = f\"Source: {nq_doc_title}\\nQ: {question}\\nA: {lookup_answer}\"\n",
    "\n",
    "    else:\n",
    "        raise Exception(f\"Not supported annot_type: {annot_type}\")\n",
    "\n",
    "    # Start preparing chatml\n",
    "    situation_content = (\n",
    "        \"User is talking to an AI Large Language Model and asking it general knowledge question.\"\n",
    "        \" The AI must not use prior knowledge or any piece of information not explicitly retrieved from reliable sources.\"\n",
    "        \"\\n\\nIn order to call a function, AI just needs to specify the name of the function to call and its arguments as a valid JSON string.\"\n",
    "    )\n",
    "\n",
    "    function_content = {\n",
    "        \"name\": \"lookup_info\",\n",
    "        \"description\": \"In order to ensure that the answer is based on factual, up-to-date information, use this tool for fetching relevant information before answering.\",\n",
    "        \"parameters\": {\n",
    "            \"type\": \"object\",\n",
    "            \"properties\": {\n",
    "                \"queries\": { \n",
    "                    \"type\": \"array\",\n",
    "                    \"items\": {\n",
    "                        \"type\": \"string\",\n",
    "                    },\n",
    "                },\n",
    "            },\n",
    "        },\n",
    "    }\n",
    "\n",
    "    function_json = json.dumps(function_content, indent=4)\n",
    "\n",
    "    functions = dict(\n",
    "        role=\"system\",\n",
    "        name=\"functions\",\n",
    "        content=f\"Available functions and their signatures as JSON schema:\\n\\n```\\n{function_json}\\n```\",\n",
    "    )\n",
    "\n",
    "    thought_content = (\n",
    "        f'Thought:\\n\\nIn order to answer this question, I need more information about \"{nq_doc_title}\".'\n",
    "    )\n",
    "\n",
    "    lookup_items = [*viewed_doc_titles, question]\n",
    "    payload = json.dumps({\n",
    "        \"name\": \"lookup_info\",\n",
    "        \"arguments\": {\n",
    "            \"queries\": lookup_items,\n",
    "        },\n",
    "    })\n",
    "\n",
    "    function_call = dict(role=\"function_call\", content=payload)\n",
    "\n",
    "    information_content = (\n",
    "        f\"`lookup_info` Result:\\n\\n{lookup_result}\"\n",
    "    )\n",
    "    \n",
    "    chatml = [\n",
    "        situation(situation_content),\n",
    "        functions,\n",
    "        person(question),\n",
    "        thought(thought_content),\n",
    "        function_call,\n",
    "        information(information_content),\n",
    "        me(name=\"AI\", content=f\"The correct answer is: {', '.join(nq_answer)}\"),\n",
    "    ]\n",
    "\n",
    "    return dict(chatml=chatml)"
   ]
  },
  {
   "cell_type": "code",
   "execution_count": 4,
   "id": "8ff31fb1-de86-4745-847c-6ab0d4c5a29a",
   "metadata": {},
   "outputs": [
    {
     "data": {
      "application/vnd.jupyter.widget-view+json": {
       "model_id": "83ae3e260a9344b98a09c481a4e57bb4",
       "version_major": 2,
       "version_minor": 0
      },
      "text/plain": [
       "Map:   0%|          | 0/10036 [00:00<?, ? examples/s]"
      ]
     },
     "metadata": {},
     "output_type": "display_data"
    },
    {
     "data": {
      "application/vnd.jupyter.widget-view+json": {
       "model_id": "e12f0d2506d341fe9cc2c3ea5311de02",
       "version_major": 2,
       "version_minor": 0
      },
      "text/plain": [
       "Map:   0%|          | 0/2002 [00:00<?, ? examples/s]"
      ]
     },
     "metadata": {},
     "output_type": "display_data"
    }
   ],
   "source": [
    "dataset = dataset.map(entry_to_chatml).remove_columns(['id', 'question', 'annotations', 'viewed_doc_titles', 'used_queries', 'nq_answer', 'nq_doc_title'])"
   ]
  },
  {
   "cell_type": "code",
   "execution_count": 5,
   "id": "ac455a46-847d-4c5b-b429-d968b325d0a0",
   "metadata": {},
   "outputs": [
    {
     "data": {
      "text/plain": [
       "[{'content': 'User is talking to an AI Large Language Model and asking it general knowledge question. The AI must not use prior knowledge or any piece of information not explicitly retrieved from reliable sources.\\n\\nIn order to call a function, AI just needs to specify the name of the function to call and its arguments as a valid JSON string.',\n",
       "  'name': 'situation',\n",
       "  'role': 'system'},\n",
       " {'content': 'Available functions and their signatures as JSON schema:\\n\\n```\\n{\\n    \"name\": \"lookup_info\",\\n    \"description\": \"In order to ensure that the answer is based on factual, up-to-date information, use this tool for fetching relevant information before answering.\",\\n    \"parameters\": {\\n        \"type\": \"object\",\\n        \"properties\": {\\n            \"queries\": {\\n                \"type\": \"array\",\\n                \"items\": {\\n                    \"type\": \"string\"\\n                }\\n            }\\n        }\\n    }\\n}\\n```',\n",
       "  'name': 'functions',\n",
       "  'role': 'system'},\n",
       " {'content': 'When did the simpsons first air on television?',\n",
       "  'name': None,\n",
       "  'role': 'user'},\n",
       " {'content': 'Thought:\\n\\nIn order to answer this question, I need more information about \"The Simpsons\".',\n",
       "  'name': 'thought',\n",
       "  'role': 'system'},\n",
       " {'content': '{\"name\": \"lookup_info\", \"arguments\": {\"queries\": [\"The Simpsons\", \"When did the simpsons first air on television?\"]}}',\n",
       "  'name': None,\n",
       "  'role': 'function_call'},\n",
       " {'content': '`lookup_info` Result:\\n\\nQ: When did the Simpsons first air on television as an animated short on the Tracey Ullman Show?\\nA: April 19, 1987\\n\\nQ: When did the Simpsons first air as a half-hour prime time show?\\nA: December 17, 1989',\n",
       "  'name': 'information',\n",
       "  'role': 'system'},\n",
       " {'content': 'The correct answer is: December 17 , 1989',\n",
       "  'name': 'AI',\n",
       "  'role': 'assistant'}]"
      ]
     },
     "execution_count": 5,
     "metadata": {},
     "output_type": "execute_result"
    }
   ],
   "source": [
    "dataset['train'][0]['chatml']"
   ]
  },
  {
   "cell_type": "code",
   "execution_count": 6,
   "id": "6bdb5849-32a8-447e-8cee-8df0be751cee",
   "metadata": {},
   "outputs": [
    {
     "data": {
      "application/vnd.jupyter.widget-view+json": {
       "model_id": "42bb02a063f143f0903106aaf7c8e991",
       "version_major": 2,
       "version_minor": 0
      },
      "text/plain": [
       "Pushing dataset shards to the dataset hub:   0%|          | 0/1 [00:00<?, ?it/s]"
      ]
     },
     "metadata": {},
     "output_type": "display_data"
    },
    {
     "data": {
      "application/vnd.jupyter.widget-view+json": {
       "model_id": "126349f0d017424998ea7f940b79e66e",
       "version_major": 2,
       "version_minor": 0
      },
      "text/plain": [
       "Creating parquet from Arrow format:   0%|          | 0/11 [00:00<?, ?ba/s]"
      ]
     },
     "metadata": {},
     "output_type": "display_data"
    },
    {
     "data": {
      "application/vnd.jupyter.widget-view+json": {
       "model_id": "5c5fa2f373a94625a131004b8df70eea",
       "version_major": 2,
       "version_minor": 0
      },
      "text/plain": [
       "Deleting unused files from dataset repository:   0%|          | 0/1 [00:00<?, ?it/s]"
      ]
     },
     "metadata": {},
     "output_type": "display_data"
    },
    {
     "data": {
      "application/vnd.jupyter.widget-view+json": {
       "model_id": "e8877daba9dd44e9a0a94a484f775fbf",
       "version_major": 2,
       "version_minor": 0
      },
      "text/plain": [
       "Pushing dataset shards to the dataset hub:   0%|          | 0/1 [00:00<?, ?it/s]"
      ]
     },
     "metadata": {},
     "output_type": "display_data"
    },
    {
     "data": {
      "application/vnd.jupyter.widget-view+json": {
       "model_id": "364940888bb84e869ca0f41b24ae36d3",
       "version_major": 2,
       "version_minor": 0
      },
      "text/plain": [
       "Creating parquet from Arrow format:   0%|          | 0/3 [00:00<?, ?ba/s]"
      ]
     },
     "metadata": {},
     "output_type": "display_data"
    },
    {
     "data": {
      "application/vnd.jupyter.widget-view+json": {
       "model_id": "b473756e2a014164b67e879958c24b9d",
       "version_major": 2,
       "version_minor": 0
      },
      "text/plain": [
       "Deleting unused files from dataset repository:   0%|          | 0/1 [00:00<?, ?it/s]"
      ]
     },
     "metadata": {},
     "output_type": "display_data"
    },
    {
     "data": {
      "application/vnd.jupyter.widget-view+json": {
       "model_id": "d212a773125a4f99bd6f32d02ea160fe",
       "version_major": 2,
       "version_minor": 0
      },
      "text/plain": [
       "Downloading metadata:   0%|          | 0.00/568 [00:00<?, ?B/s]"
      ]
     },
     "metadata": {},
     "output_type": "display_data"
    }
   ],
   "source": [
    "dataset.push_to_hub(\"diwank/ambig_qa-chatml\", private=True)"
   ]
  },
  {
   "cell_type": "code",
   "execution_count": null,
   "id": "de4835de-b935-4349-b476-25d619323052",
   "metadata": {},
   "outputs": [],
   "source": []
  }
 ],
 "metadata": {
  "kernelspec": {
   "display_name": "Python 3 (ipykernel)",
   "language": "python",
   "name": "python3"
  },
  "language_info": {
   "codemirror_mode": {
    "name": "ipython",
    "version": 3
   },
   "file_extension": ".py",
   "mimetype": "text/x-python",
   "name": "python",
   "nbconvert_exporter": "python",
   "pygments_lexer": "ipython3",
   "version": "3.10.12"
  }
 },
 "nbformat": 4,
 "nbformat_minor": 5
}
