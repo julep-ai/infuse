{
 "cells": [
  {
   "cell_type": "code",
   "execution_count": 1,
   "id": "ad5ada6b-5d57-443b-b9b1-2e42c076cb21",
   "metadata": {},
   "outputs": [
    {
     "data": {
      "application/vnd.jupyter.widget-view+json": {
       "model_id": "255773072f6140c58da9483b0fd59ce2",
       "version_major": 2,
       "version_minor": 0
      },
      "text/plain": [
       "Downloading readme:   0%|          | 0.00/2.01k [00:00<?, ?B/s]"
      ]
     },
     "metadata": {},
     "output_type": "display_data"
    },
    {
     "name": "stdout",
     "output_type": "stream",
     "text": [
      "Downloading and preparing dataset csv/stacked-summaries--stacked-samsum-1024 to /home/diwank/.cache/huggingface/datasets/stacked-summaries___csv/stacked-summaries--stacked-samsum-1024-2d7b6271e14be04b/0.0.0/6954658bab30a358235fa864b05cf819af0e179325c740e4bc853bcc7ec513e1...\n"
     ]
    },
    {
     "data": {
      "application/vnd.jupyter.widget-view+json": {
       "model_id": "386cd29ee91140c096498d2414fb976e",
       "version_major": 2,
       "version_minor": 0
      },
      "text/plain": [
       "Downloading data files:   0%|          | 0/3 [00:00<?, ?it/s]"
      ]
     },
     "metadata": {},
     "output_type": "display_data"
    },
    {
     "data": {
      "application/vnd.jupyter.widget-view+json": {
       "model_id": "4143adeae3494b21ae351233813a9c9c",
       "version_major": 2,
       "version_minor": 0
      },
      "text/plain": [
       "Downloading data:   0%|          | 0.00/67.5M [00:00<?, ?B/s]"
      ]
     },
     "metadata": {},
     "output_type": "display_data"
    },
    {
     "data": {
      "application/vnd.jupyter.widget-view+json": {
       "model_id": "c57e31bff4c144679048d3e24cf42333",
       "version_major": 2,
       "version_minor": 0
      },
      "text/plain": [
       "Downloading data:   0%|          | 0.00/3.68M [00:00<?, ?B/s]"
      ]
     },
     "metadata": {},
     "output_type": "display_data"
    },
    {
     "data": {
      "application/vnd.jupyter.widget-view+json": {
       "model_id": "b080b5e315e9476987874ede72ee986e",
       "version_major": 2,
       "version_minor": 0
      },
      "text/plain": [
       "Downloading data:   0%|          | 0.00/3.66M [00:00<?, ?B/s]"
      ]
     },
     "metadata": {},
     "output_type": "display_data"
    },
    {
     "data": {
      "application/vnd.jupyter.widget-view+json": {
       "model_id": "416c5bc2c92e478dabd0461339bb2389",
       "version_major": 2,
       "version_minor": 0
      },
      "text/plain": [
       "Extracting data files:   0%|          | 0/3 [00:00<?, ?it/s]"
      ]
     },
     "metadata": {},
     "output_type": "display_data"
    },
    {
     "data": {
      "application/vnd.jupyter.widget-view+json": {
       "model_id": "",
       "version_major": 2,
       "version_minor": 0
      },
      "text/plain": [
       "Generating train split: 0 examples [00:00, ? examples/s]"
      ]
     },
     "metadata": {},
     "output_type": "display_data"
    },
    {
     "data": {
      "application/vnd.jupyter.widget-view+json": {
       "model_id": "",
       "version_major": 2,
       "version_minor": 0
      },
      "text/plain": [
       "Generating validation split: 0 examples [00:00, ? examples/s]"
      ]
     },
     "metadata": {},
     "output_type": "display_data"
    },
    {
     "data": {
      "application/vnd.jupyter.widget-view+json": {
       "model_id": "",
       "version_major": 2,
       "version_minor": 0
      },
      "text/plain": [
       "Generating test split: 0 examples [00:00, ? examples/s]"
      ]
     },
     "metadata": {},
     "output_type": "display_data"
    },
    {
     "name": "stdout",
     "output_type": "stream",
     "text": [
      "Dataset csv downloaded and prepared to /home/diwank/.cache/huggingface/datasets/stacked-summaries___csv/stacked-summaries--stacked-samsum-1024-2d7b6271e14be04b/0.0.0/6954658bab30a358235fa864b05cf819af0e179325c740e4bc853bcc7ec513e1. Subsequent calls will reuse this data.\n"
     ]
    },
    {
     "data": {
      "application/vnd.jupyter.widget-view+json": {
       "model_id": "aaef6ec4079845aeabfb546ddb7a4581",
       "version_major": 2,
       "version_minor": 0
      },
      "text/plain": [
       "  0%|          | 0/3 [00:00<?, ?it/s]"
      ]
     },
     "metadata": {},
     "output_type": "display_data"
    }
   ],
   "source": [
    "from datasets import load_dataset\n",
    "\n",
    "dataset = load_dataset(\"stacked-summaries/stacked-samsum-1024\")"
   ]
  },
  {
   "cell_type": "code",
   "execution_count": 2,
   "id": "2498110a-ee77-49c4-9962-f506b174e721",
   "metadata": {},
   "outputs": [],
   "source": [
    "make_chatml = lambda name, role, content: dict(\n",
    "    name=name, role=role, content=content,\n",
    ")\n",
    "\n",
    "system = lambda name, content: make_chatml(\n",
    "    role=\"system\",\n",
    "    name=name,\n",
    "    content=content,\n",
    ")\n",
    "\n",
    "situation = lambda content: system(name=\"situation\", content=content)\n",
    "thought = lambda content: system(name=\"thought\", content=content)\n",
    "information = lambda content: system(name=\"information\", content=content)\n",
    "me = lambda content, name=None: make_chatml(\n",
    "    role=\"assistant\",\n",
    "    content=content,\n",
    "    name=name,\n",
    ")\n",
    "\n",
    "person = lambda content, name=None: make_chatml(\n",
    "    role=\"user\",\n",
    "    content=content,\n",
    "    name=name,\n",
    ")"
   ]
  },
  {
   "cell_type": "code",
   "execution_count": 4,
   "id": "0c538f27-67d4-4dfc-95c1-9af4ae50d7b4",
   "metadata": {},
   "outputs": [
    {
     "data": {
      "application/vnd.jupyter.widget-view+json": {
       "model_id": "",
       "version_major": 2,
       "version_minor": 0
      },
      "text/plain": [
       "Filter:   0%|          | 0/29442 [00:00<?, ? examples/s]"
      ]
     },
     "metadata": {},
     "output_type": "display_data"
    },
    {
     "data": {
      "text/plain": [
       "(3326, 29442)"
      ]
     },
     "execution_count": 4,
     "metadata": {},
     "output_type": "execute_result"
    }
   ],
   "source": [
    "dataset = dataset[\"train\"]\n",
    "filtered_dataset = dataset.filter(lambda row: row[\"is_stacked\"] and \"<\" not in row[\"dialogue\"])\n",
    "len(filtered_dataset), len(dataset)"
   ]
  },
  {
   "cell_type": "code",
   "execution_count": 17,
   "id": "788d0188-fc7f-4bc0-935e-682f57ba7a72",
   "metadata": {},
   "outputs": [],
   "source": [
    "from cleantext import clean\n",
    "\n",
    "clean_text = lambda text: clean(text,\n",
    "    fix_unicode=True,               # fix various unicode errors\n",
    "    to_ascii=True,                  # transliterate to closest ASCII representation\n",
    "    lower=False,                     # lowercase text\n",
    "    no_line_breaks=False,           # fully strip line breaks as opposed to only normalizing them\n",
    "    no_urls=False,                  # replace all URLs with a special token\n",
    "    no_emails=False,                # replace all email addresses with a special token\n",
    "    no_phone_numbers=False,         # replace all phone numbers with a special token\n",
    "    no_numbers=False,               # replace all numbers with a special token\n",
    "    no_digits=False,                # replace all digits with a special token\n",
    "    no_currency_symbols=False,      # replace all currency symbols with a special token\n",
    "    no_punct=False,                 # remove punctuations\n",
    "    lang=\"en\"                       # set to 'de' for German special handling\n",
    ")\n"
   ]
  },
  {
   "cell_type": "code",
   "execution_count": 28,
   "id": "cf45ef45-b573-44c9-b9ef-3b10563fa9d7",
   "metadata": {},
   "outputs": [
    {
     "data": {
      "application/vnd.jupyter.widget-view+json": {
       "model_id": "",
       "version_major": 2,
       "version_minor": 0
      },
      "text/plain": [
       "Map:   0%|          | 0/3326 [00:00<?, ? examples/s]"
      ]
     },
     "metadata": {},
     "output_type": "display_data"
    },
    {
     "name": "stdout",
     "output_type": "stream",
     "text": [
      "Traceback (most recent call last):\n",
      "  File \"/tmp/ipykernel_1500741/4016160143.py\", line 17, in to_chatml\n",
      "    chat = [\n",
      "  File \"/tmp/ipykernel_1500741/4016160143.py\", line 18, in <listcomp>\n",
      "    re.match(r\"([a-zA-Z \\.\\-']+):\\s*(.*)$\", line.strip()).groups()\n",
      "AttributeError: 'NoneType' object has no attribute 'groups'\n",
      "\n",
      "Traceback (most recent call last):\n",
      "  File \"/tmp/ipykernel_1500741/4016160143.py\", line 17, in to_chatml\n",
      "    chat = [\n",
      "  File \"/tmp/ipykernel_1500741/4016160143.py\", line 18, in <listcomp>\n",
      "    re.match(r\"([a-zA-Z \\.\\-']+):\\s*(.*)$\", line.strip()).groups()\n",
      "AttributeError: 'NoneType' object has no attribute 'groups'\n",
      "\n",
      "Traceback (most recent call last):\n",
      "  File \"/tmp/ipykernel_1500741/4016160143.py\", line 17, in to_chatml\n",
      "    chat = [\n",
      "  File \"/tmp/ipykernel_1500741/4016160143.py\", line 18, in <listcomp>\n",
      "    re.match(r\"([a-zA-Z \\.\\-']+):\\s*(.*)$\", line.strip()).groups()\n",
      "AttributeError: 'NoneType' object has no attribute 'groups'\n",
      "\n",
      "Traceback (most recent call last):\n",
      "  File \"/tmp/ipykernel_1500741/4016160143.py\", line 17, in to_chatml\n",
      "    chat = [\n",
      "  File \"/tmp/ipykernel_1500741/4016160143.py\", line 18, in <listcomp>\n",
      "    re.match(r\"([a-zA-Z \\.\\-']+):\\s*(.*)$\", line.strip()).groups()\n",
      "AttributeError: 'NoneType' object has no attribute 'groups'\n",
      "\n",
      "Traceback (most recent call last):\n",
      "  File \"/tmp/ipykernel_1500741/4016160143.py\", line 17, in to_chatml\n",
      "    chat = [\n",
      "  File \"/tmp/ipykernel_1500741/4016160143.py\", line 18, in <listcomp>\n",
      "    re.match(r\"([a-zA-Z \\.\\-']+):\\s*(.*)$\", line.strip()).groups()\n",
      "AttributeError: 'NoneType' object has no attribute 'groups'\n",
      "\n",
      "Traceback (most recent call last):\n",
      "  File \"/tmp/ipykernel_1500741/4016160143.py\", line 17, in to_chatml\n",
      "    chat = [\n",
      "  File \"/tmp/ipykernel_1500741/4016160143.py\", line 18, in <listcomp>\n",
      "    re.match(r\"([a-zA-Z \\.\\-']+):\\s*(.*)$\", line.strip()).groups()\n",
      "AttributeError: 'NoneType' object has no attribute 'groups'\n",
      "\n",
      "Traceback (most recent call last):\n",
      "  File \"/tmp/ipykernel_1500741/4016160143.py\", line 17, in to_chatml\n",
      "    chat = [\n",
      "  File \"/tmp/ipykernel_1500741/4016160143.py\", line 18, in <listcomp>\n",
      "    re.match(r\"([a-zA-Z \\.\\-']+):\\s*(.*)$\", line.strip()).groups()\n",
      "AttributeError: 'NoneType' object has no attribute 'groups'\n",
      "\n",
      "Traceback (most recent call last):\n",
      "  File \"/tmp/ipykernel_1500741/4016160143.py\", line 17, in to_chatml\n",
      "    chat = [\n",
      "  File \"/tmp/ipykernel_1500741/4016160143.py\", line 18, in <listcomp>\n",
      "    re.match(r\"([a-zA-Z \\.\\-']+):\\s*(.*)$\", line.strip()).groups()\n",
      "AttributeError: 'NoneType' object has no attribute 'groups'\n",
      "\n",
      "Traceback (most recent call last):\n",
      "  File \"/tmp/ipykernel_1500741/4016160143.py\", line 17, in to_chatml\n",
      "    chat = [\n",
      "  File \"/tmp/ipykernel_1500741/4016160143.py\", line 18, in <listcomp>\n",
      "    re.match(r\"([a-zA-Z \\.\\-']+):\\s*(.*)$\", line.strip()).groups()\n",
      "AttributeError: 'NoneType' object has no attribute 'groups'\n",
      "\n",
      "Traceback (most recent call last):\n",
      "  File \"/tmp/ipykernel_1500741/4016160143.py\", line 17, in to_chatml\n",
      "    chat = [\n",
      "  File \"/tmp/ipykernel_1500741/4016160143.py\", line 18, in <listcomp>\n",
      "    re.match(r\"([a-zA-Z \\.\\-']+):\\s*(.*)$\", line.strip()).groups()\n",
      "AttributeError: 'NoneType' object has no attribute 'groups'\n",
      "\n",
      "Traceback (most recent call last):\n",
      "  File \"/tmp/ipykernel_1500741/4016160143.py\", line 17, in to_chatml\n",
      "    chat = [\n",
      "  File \"/tmp/ipykernel_1500741/4016160143.py\", line 18, in <listcomp>\n",
      "    re.match(r\"([a-zA-Z \\.\\-']+):\\s*(.*)$\", line.strip()).groups()\n",
      "AttributeError: 'NoneType' object has no attribute 'groups'\n",
      "\n",
      "Traceback (most recent call last):\n",
      "  File \"/tmp/ipykernel_1500741/4016160143.py\", line 17, in to_chatml\n",
      "    chat = [\n",
      "  File \"/tmp/ipykernel_1500741/4016160143.py\", line 18, in <listcomp>\n",
      "    re.match(r\"([a-zA-Z \\.\\-']+):\\s*(.*)$\", line.strip()).groups()\n",
      "AttributeError: 'NoneType' object has no attribute 'groups'\n",
      "\n",
      "Traceback (most recent call last):\n",
      "  File \"/tmp/ipykernel_1500741/4016160143.py\", line 17, in to_chatml\n",
      "    chat = [\n",
      "  File \"/tmp/ipykernel_1500741/4016160143.py\", line 18, in <listcomp>\n",
      "    re.match(r\"([a-zA-Z \\.\\-']+):\\s*(.*)$\", line.strip()).groups()\n",
      "AttributeError: 'NoneType' object has no attribute 'groups'\n",
      "\n",
      "Traceback (most recent call last):\n",
      "  File \"/tmp/ipykernel_1500741/4016160143.py\", line 17, in to_chatml\n",
      "    chat = [\n",
      "  File \"/tmp/ipykernel_1500741/4016160143.py\", line 18, in <listcomp>\n",
      "    re.match(r\"([a-zA-Z \\.\\-']+):\\s*(.*)$\", line.strip()).groups()\n",
      "AttributeError: 'NoneType' object has no attribute 'groups'\n",
      "\n",
      "Traceback (most recent call last):\n",
      "  File \"/tmp/ipykernel_1500741/4016160143.py\", line 17, in to_chatml\n",
      "    chat = [\n",
      "  File \"/tmp/ipykernel_1500741/4016160143.py\", line 18, in <listcomp>\n",
      "    re.match(r\"([a-zA-Z \\.\\-']+):\\s*(.*)$\", line.strip()).groups()\n",
      "AttributeError: 'NoneType' object has no attribute 'groups'\n",
      "\n"
     ]
    },
    {
     "data": {
      "application/vnd.jupyter.widget-view+json": {
       "model_id": "",
       "version_major": 2,
       "version_minor": 0
      },
      "text/plain": [
       "Filter:   0%|          | 0/3326 [00:00<?, ? examples/s]"
      ]
     },
     "metadata": {},
     "output_type": "display_data"
    }
   ],
   "source": [
    "import re\n",
    "\n",
    "def to_chatml(row):\n",
    "    dialogue = clean_text(row[\"dialogue\"])\n",
    "    summary = row[\"summary\"]\n",
    "\n",
    "    concepts = [\n",
    "        concept.strip()\n",
    "        for concept\n",
    "        in summary.split(\"[NEXT_CONCEPT]\")\n",
    "    ]\n",
    "\n",
    "    lines = re.split(r\"[\\r\\n]{1,2}\", dialogue)\n",
    "\n",
    "    try:\n",
    "        # Turn chat into chatml\n",
    "        chat = [\n",
    "            re.match(r\"([a-zA-Z \\.\\-']+):\\s*(.*)$\", line.strip()).groups()\n",
    "            for line in lines\n",
    "        ]\n",
    "    \n",
    "    except:\n",
    "        import traceback; print(traceback.format_exc())\n",
    "        return dict(chatml=[])\n",
    "\n",
    "    chat = [\n",
    "        person(utterance, name=name)\n",
    "        for name, utterance in chat\n",
    "        if name and utterance\n",
    "    ]\n",
    "    \n",
    "    persons = list(set([g[\"name\"] for g in chat]))\n",
    "    delim = \"\\n- \"\n",
    "\n",
    "    chatml = [\n",
    "        situation(\n",
    "            f\"The following people are talking: {', '.join(persons[:-1])} and {persons[-1]}. An AI is analyzing the conversation.\"\n",
    "            \" At the end of the conversation, the AI will note down the main takeaways from the conversation.\"\n",
    "        ),\n",
    "        *chat,\n",
    "        thought(f\"Key takeaways:{delim}{delim.join(concepts)}\"),\n",
    "    ]\n",
    "\n",
    "    return dict(chatml=chatml)\n",
    "\n",
    "filtered_dataset = filtered_dataset.map(to_chatml).filter(lambda row: len(row[\"chatml\"]) > 0).remove_columns(list(set(filtered_dataset.column_names) - {\"chatml\"}))"
   ]
  },
  {
   "cell_type": "code",
   "execution_count": 30,
   "id": "db1f0ad3-9998-41aa-8faa-f0b95b43d750",
   "metadata": {},
   "outputs": [
    {
     "data": {
      "text/plain": [
       "(3311,\n",
       " [{'content': 'The following people are talking: David, Shirley, Mary, Stuart, Annie, Alex, Lucas, Jordyn, Frank, Mollie, Kaz, Peter, Kate, Mohamed, Kev, Adrianne, Bryan, Mike and James. An AI is analyzing the conversation. At the end of the conversation, the AI will note down the main takeaways from the conversation.',\n",
       "   'name': 'situation',\n",
       "   'role': 'system'},\n",
       "  {'content': 'Are you there yet?', 'name': 'Bryan', 'role': 'user'},\n",
       "  {'content': '5 more mins!', 'name': 'Kev', 'role': 'user'},\n",
       "  {'content': 'Same!', 'name': 'Stuart', 'role': 'user'},\n",
       "  {'content': 'Im on my way.', 'name': 'Bryan', 'role': 'user'},\n",
       "  {'content': 'see you soon!', 'name': 'Bryan', 'role': 'user'},\n",
       "  {'content': 'Miiikeeeee', 'name': 'Annie', 'role': 'user'},\n",
       "  {'content': \"let's meet next week\", 'name': 'Annie', 'role': 'user'},\n",
       "  {'content': \"let's play some games\", 'name': 'Annie', 'role': 'user'},\n",
       "  {'content': 'wooohoooo', 'name': 'Annie', 'role': 'user'},\n",
       "  {'content': 'haha hey Annie', 'name': 'Mike', 'role': 'user'},\n",
       "  {'content': \"sure, it's been a long time since we've had a game night!\",\n",
       "   'name': 'Mike',\n",
       "   'role': 'user'},\n",
       "  {'content': 'I wanna play 7 wonders', 'name': 'Mike', 'role': 'user'},\n",
       "  {'content': 'why not!', 'name': 'Annie', 'role': 'user'},\n",
       "  {'content': \"it's only my favourite board game of all time xD\",\n",
       "   'name': 'Annie',\n",
       "   'role': 'user'},\n",
       "  {'content': \"coz it's soooo gooood\", 'name': 'Mike', 'role': 'user'},\n",
       "  {'content': \"anyway, that's an excellent idea\",\n",
       "   'name': 'Mike',\n",
       "   'role': 'user'},\n",
       "  {'content': \"let's do this\", 'name': 'Mike', 'role': 'user'},\n",
       "  {'content': 'yay!', 'name': 'Annie', 'role': 'user'},\n",
       "  {'content': 'I think I lost my wallet', 'name': 'Lucas', 'role': 'user'},\n",
       "  {'content': 'You think?', 'name': 'Shirley', 'role': 'user'},\n",
       "  {'content': 'I saw a wallet in the office', 'name': 'Frank', 'role': 'user'},\n",
       "  {'content': 'A brown one?', 'name': 'Lucas', 'role': 'user'},\n",
       "  {'content': 'Yes', 'name': 'Frank', 'role': 'user'},\n",
       "  {'content': 'babe, are you on your way home?',\n",
       "   'name': 'David',\n",
       "   'role': 'user'},\n",
       "  {'content': \"i'll be in 20 minutes :)\", 'name': 'Jordyn', 'role': 'user'},\n",
       "  {'content': \"that's great :) your amazing husband (aka me) prepared a delicious dinner for his beloved wife :*\",\n",
       "   'name': 'David',\n",
       "   'role': 'user'},\n",
       "  {'content': \":D what's on the menu?\", 'name': 'Jordyn', 'role': 'user'},\n",
       "  {'content': 'coq au vin :)', 'name': 'David', 'role': 'user'},\n",
       "  {'content': 'wow, fancy! :D', 'name': 'Jordyn', 'role': 'user'},\n",
       "  {'content': 'hey', 'name': 'Peter', 'role': 'user'},\n",
       "  {'content': 'hello', 'name': 'Mollie', 'role': 'user'},\n",
       "  {'content': \"could you please tell me what I'm supposed to do for tomorrow classes?\",\n",
       "   'name': 'Peter',\n",
       "   'role': 'user'},\n",
       "  {'content': 'sure', 'name': 'Mollie', 'role': 'user'},\n",
       "  {'content': 'we have to read an article that we have on our email',\n",
       "   'name': 'Mollie',\n",
       "   'role': 'user'},\n",
       "  {'content': 'and prepare a speech or presentation about this article',\n",
       "   'name': 'Mollie',\n",
       "   'role': 'user'},\n",
       "  {'content': \"but I can't see any article..\",\n",
       "   'name': 'Peter',\n",
       "   'role': 'user'},\n",
       "  {'content': 'are you connected with our team email?',\n",
       "   'name': 'Mollie',\n",
       "   'role': 'user'},\n",
       "  {'content': \"I don't think so\", 'name': 'Peter', 'role': 'user'},\n",
       "  {'content': 'ok I will give you the password',\n",
       "   'name': 'Mollie',\n",
       "   'role': 'user'},\n",
       "  {'content': \"it's ihateschool123\", 'name': 'Mollie', 'role': 'user'},\n",
       "  {'content': 'thx', 'name': 'Peter', 'role': 'user'},\n",
       "  {'content': 'no problem :)', 'name': 'Mollie', 'role': 'user'},\n",
       "  {'content': 'Hi Mary. How are you doing? How was your trip back to London?',\n",
       "   'name': 'Mohamed',\n",
       "   'role': 'user'},\n",
       "  {'content': 'Hi! It was fine, a bit tiring. Thanks! It was really nice to meet you.',\n",
       "   'name': 'Mary',\n",
       "   'role': 'user'},\n",
       "  {'content': \"I've just talked to Vincent about you :-) We had a great time together. Hope you are doing great.\",\n",
       "   'name': 'Mohamed',\n",
       "   'role': 'user'},\n",
       "  {'content': \"All is fine. I'm back to my routine. I should definitely come back to Paris one day!\",\n",
       "   'name': 'Mary',\n",
       "   'role': 'user'},\n",
       "  {'content': 'Sure, my doors are always open for you.',\n",
       "   'name': 'Mohamed',\n",
       "   'role': 'user'},\n",
       "  {'content': \"oooohhh that's so sweet :*\", 'name': 'Mary', 'role': 'user'},\n",
       "  {'content': ':-)', 'name': 'Mohamed', 'role': 'user'},\n",
       "  {'content': 'BTW, I wanted to ask you something...',\n",
       "   'name': 'Mary',\n",
       "   'role': 'user'},\n",
       "  {'content': 'Yes?', 'name': 'Mohamed', 'role': 'user'},\n",
       "  {'content': 'I wanted to download an Arabic course.',\n",
       "   'name': 'Mary',\n",
       "   'role': 'user'},\n",
       "  {'content': \"That's cool!\", 'name': 'Mohamed', 'role': 'user'},\n",
       "  {'content': ':D so there are two versions available: classic and Eastern Arabic.',\n",
       "   'name': 'Mary',\n",
       "   'role': 'user'},\n",
       "  {'content': 'I would recommend the classic one.',\n",
       "   'name': 'Mohamed',\n",
       "   'role': 'user'},\n",
       "  {'content': 'Why?', 'name': 'Mary', 'role': 'user'},\n",
       "  {'content': 'You could communicate with all the Arab world. Eastern Arabic is difficult to understand in the Maghreb.',\n",
       "   'name': 'Mohamed',\n",
       "   'role': 'user'},\n",
       "  {'content': \"I see. Thanks a lot! I think you're right. I'll give it a try.\",\n",
       "   'name': 'Mary',\n",
       "   'role': 'user'},\n",
       "  {'content': 'Who knows maybe next time we meet we can have a short conversation in Arabic :D',\n",
       "   'name': 'Mohamed',\n",
       "   'role': 'user'},\n",
       "  {'content': 'Inshallah!', 'name': 'Mary', 'role': 'user'},\n",
       "  {'content': 'Looking forward to it ;-)', 'name': 'Mohamed', 'role': 'user'},\n",
       "  {'content': 'Can someone lend me 10 pounds? I forgot my wallet.',\n",
       "   'name': 'Kate',\n",
       "   'role': 'user'},\n",
       "  {'content': 'When do you need it?', 'name': 'Adrianne', 'role': 'user'},\n",
       "  {'content': \"I'll be in the office in 10 minutes.\",\n",
       "   'name': 'James',\n",
       "   'role': 'user'},\n",
       "  {'content': 'Me too.', 'name': 'Adrianne', 'role': 'user'},\n",
       "  {'content': 'I finally found the bank statements that you wanted.',\n",
       "   'name': 'Alex',\n",
       "   'role': 'user'},\n",
       "  {'content': '... and?', 'name': 'Kaz', 'role': 'user'},\n",
       "  {'content': 'Not much there to prove that she was lying or that she was hiding any funds.',\n",
       "   'name': 'Alex',\n",
       "   'role': 'user'},\n",
       "  {'content': 'So, what do we do now?', 'name': 'Kaz', 'role': 'user'},\n",
       "  {'content': 'Take them to the lawyer anyway and see what she says?',\n",
       "   'name': 'Alex',\n",
       "   'role': 'user'},\n",
       "  {'content': \"Hopefully she'll have some ideas. Fingers crossed.\",\n",
       "   'name': 'Kaz',\n",
       "   'role': 'user'},\n",
       "  {'content': 'Fingers crossed indeed! :-)', 'name': 'Alex', 'role': 'user'},\n",
       "  {'content': 'Chin up kiddo! We can do this! :-)',\n",
       "   'name': 'Alex',\n",
       "   'role': 'user'},\n",
       "  {'content': \"Key takeaways:\\n- Bryan is going to meet Stuart and Kev in 5 minutes.\\n- Annie and Mike want to meet next week to play some games. Annie's favourite one is 7 Wonders.\\n- Lucas's wallet is in the office.\\n- David prepared a coq au vin for dinner for his wife Jordyn.\\n- For tomorrow classes Mollie and Peter need to read an article that they have on their email and prepare a speech or presentation. Peter is not connected with the team email. Mollie gives Peter the password.\\n- Mohamed had great time with Mary. Mary wants his advice on which Arabic course to pick. Mohamed suggests classic one so Mary could talk to all the Arab world.\\n- Kate needs to borrow 10 pounds, because she forgot her wallet. James and Adrianne will be in the office in 10 minutes.\\n- The bank statements attest that she was honest. Kaz will bring the documents to his lawyer. They will work on them.\",\n",
       "   'name': 'thought',\n",
       "   'role': 'system'}])"
      ]
     },
     "execution_count": 30,
     "metadata": {},
     "output_type": "execute_result"
    }
   ],
   "source": [
    "len(filtered_dataset), filtered_dataset[0][\"chatml\"]"
   ]
  },
  {
   "cell_type": "code",
   "execution_count": 31,
   "id": "83f15200-91aa-4d5c-9b82-f0f698f7fc8a",
   "metadata": {},
   "outputs": [
    {
     "data": {
      "application/vnd.jupyter.widget-view+json": {
       "model_id": "2c31e7c7730b4db38fe55f0f16037996",
       "version_major": 2,
       "version_minor": 0
      },
      "text/plain": [
       "Pushing dataset shards to the dataset hub:   0%|          | 0/1 [00:00<?, ?it/s]"
      ]
     },
     "metadata": {},
     "output_type": "display_data"
    },
    {
     "data": {
      "application/vnd.jupyter.widget-view+json": {
       "model_id": "a8e0df14671640f39354d9125953cdb9",
       "version_major": 2,
       "version_minor": 0
      },
      "text/plain": [
       "Creating parquet from Arrow format:   0%|          | 0/30 [00:00<?, ?ba/s]"
      ]
     },
     "metadata": {},
     "output_type": "display_data"
    },
    {
     "data": {
      "application/vnd.jupyter.widget-view+json": {
       "model_id": "bb86796539fc4e73954195e68ef6c6a7",
       "version_major": 2,
       "version_minor": 0
      },
      "text/plain": [
       "Upload 1 LFS files:   0%|          | 0/1 [00:00<?, ?it/s]"
      ]
     },
     "metadata": {},
     "output_type": "display_data"
    }
   ],
   "source": [
    "dataset.push_to_hub(\"diwank/stacked-samsum-chatml\", private=True)"
   ]
  },
  {
   "cell_type": "code",
   "execution_count": null,
   "id": "6a787de2-685f-4e6e-a6c7-66093044814a",
   "metadata": {},
   "outputs": [],
   "source": []
  }
 ],
 "metadata": {
  "kernelspec": {
   "display_name": "Python 3 (ipykernel)",
   "language": "python",
   "name": "python3"
  },
  "language_info": {
   "codemirror_mode": {
    "name": "ipython",
    "version": 3
   },
   "file_extension": ".py",
   "mimetype": "text/x-python",
   "name": "python",
   "nbconvert_exporter": "python",
   "pygments_lexer": "ipython3",
   "version": "3.10.13"
  }
 },
 "nbformat": 4,
 "nbformat_minor": 5
}
