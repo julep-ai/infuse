{
 "cells": [
  {
   "cell_type": "code",
   "execution_count": 1,
   "id": "6ab3c36a-da42-453d-bd44-619f844f19ec",
   "metadata": {},
   "outputs": [
    {
     "data": {
      "application/vnd.jupyter.widget-view+json": {
       "model_id": "3dc07de2c75146f9b845bde13dbb3d3f",
       "version_major": 2,
       "version_minor": 0
      },
      "text/plain": [
       "Downloading readme:   0%|          | 0.00/699 [00:00<?, ?B/s]"
      ]
     },
     "metadata": {},
     "output_type": "display_data"
    },
    {
     "data": {
      "application/vnd.jupyter.widget-view+json": {
       "model_id": "703f5d2709af4cf2b0c3a7729bd90316",
       "version_major": 2,
       "version_minor": 0
      },
      "text/plain": [
       "Downloading data files:   0%|          | 0/1 [00:00<?, ?it/s]"
      ]
     },
     "metadata": {},
     "output_type": "display_data"
    },
    {
     "data": {
      "application/vnd.jupyter.widget-view+json": {
       "model_id": "304bc41e86e14a1ab01f114fe1fd759c",
       "version_major": 2,
       "version_minor": 0
      },
      "text/plain": [
       "Downloading data:   0%|          | 0.00/204k [00:00<?, ?B/s]"
      ]
     },
     "metadata": {},
     "output_type": "display_data"
    },
    {
     "data": {
      "application/vnd.jupyter.widget-view+json": {
       "model_id": "eb07c0db051543d496ee3e554a664e3a",
       "version_major": 2,
       "version_minor": 0
      },
      "text/plain": [
       "Extracting data files:   0%|          | 0/1 [00:00<?, ?it/s]"
      ]
     },
     "metadata": {},
     "output_type": "display_data"
    },
    {
     "data": {
      "application/vnd.jupyter.widget-view+json": {
       "model_id": "24d9f173c09e44fdb94ee15af6022b45",
       "version_major": 2,
       "version_minor": 0
      },
      "text/plain": [
       "Generating train split:   0%|          | 0/64 [00:00<?, ? examples/s]"
      ]
     },
     "metadata": {},
     "output_type": "display_data"
    }
   ],
   "source": [
    "import pandas as pd\n",
    "from datasets import load_dataset\n",
    "\n",
    "dataset = load_dataset(\"diwank/therapydata\")\n",
    "dataset = dataset[\"train\"]"
   ]
  },
  {
   "cell_type": "code",
   "execution_count": 2,
   "id": "39995917-4ff7-4114-a488-899c27a83586",
   "metadata": {
    "tags": []
   },
   "outputs": [
    {
     "data": {
      "application/vnd.jupyter.widget-view+json": {
       "model_id": "9a5acac7ba824f0697f7845d7a5a7deb",
       "version_major": 2,
       "version_minor": 0
      },
      "text/plain": [
       "Map (num_proc=20):   0%|          | 0/64 [00:00<?, ? examples/s]"
      ]
     },
     "metadata": {},
     "output_type": "display_data"
    }
   ],
   "source": [
    "import json\n",
    "\n",
    "def count_tokens(sample):\n",
    "    from turbo_chat.utils.tokens import count_tokens\n",
    "    \n",
    "    messages = [\n",
    "        {\n",
    "            \"role\": \"user\",\n",
    "            \"content\": row[\"utterance\"],\n",
    "        }\n",
    "        for row in sample[\"transcript\"]\n",
    "    ]\n",
    "\n",
    "    \n",
    "    sample[\"token_count\"] = count_tokens(messages, \"gpt-3.5-turbo\") + 6*len(messages)\n",
    "    \n",
    "    return sample\n",
    "\n",
    "dataset = dataset.map(count_tokens, num_proc=20)\n"
   ]
  },
  {
   "cell_type": "code",
   "execution_count": 3,
   "id": "566df9fc-b1b2-4809-9f35-a7b9dacdb6a5",
   "metadata": {
    "tags": []
   },
   "outputs": [
    {
     "data": {
      "image/png": "[encoded data removed]",
      "text/plain": [
       "<Figure size 640x480 with 1 Axes>"
      ]
     },
     "metadata": {},
     "output_type": "display_data"
    }
   ],
   "source": [
    "import matplotlib.pyplot as plt\n",
    "import numpy as np\n",
    "# if using a Jupyter notebook, includue:\n",
    "%matplotlib inline\n",
    "\n",
    "lens = np.array(dataset[\"token_count\"])\n",
    "# lens = lens[lens < 2500]\n",
    "plt.hist(lens, 20)\n",
    "plt.show()"
   ]
  },
  {
   "cell_type": "code",
   "execution_count": 4,
   "id": "0621a91e-3661-46d8-8463-2ad65d2b885c",
   "metadata": {},
   "outputs": [],
   "source": [
    "dataset = dataset.remove_columns(['__index_level_0__', '__index_level_1__'])"
   ]
  },
  {
   "cell_type": "code",
   "execution_count": 5,
   "id": "0a18f3bb-374e-47e0-b849-192d16d2eba8",
   "metadata": {},
   "outputs": [
    {
     "data": {
      "application/vnd.jupyter.widget-view+json": {
       "model_id": "7248b4a32d7f44e992e90b0e9a213b4c",
       "version_major": 2,
       "version_minor": 0
      },
      "text/plain": [
       "Map:   0%|          | 0/64 [00:00<?, ? examples/s]"
      ]
     },
     "metadata": {},
     "output_type": "display_data"
    }
   ],
   "source": [
    "max_length = 2000\n",
    "stride = 8\n",
    "\n",
    "def get_row(columns, i):\n",
    "    keys = columns.keys()\n",
    "    values = list(columns.values())\n",
    "\n",
    "    return {\n",
    "        key: values[j][i]\n",
    "        for j, key in enumerate(keys)\n",
    "    }\n",
    "\n",
    "def append_row_to_columns(row, columns):\n",
    "    for key, value in row.items():\n",
    "        columns[key].append(value)\n",
    "\n",
    "def split_long_talks(columns):\n",
    "    columns = dict(columns)\n",
    "    num_rows = len(list(columns.values())[0])\n",
    "    \n",
    "    keys = columns.keys()\n",
    "    new_columns = {\n",
    "        key: [] for key in keys\n",
    "    }\n",
    "    \n",
    "    \n",
    "    for i in range(num_rows):\n",
    "        row = get_row(columns, i)\n",
    "        if row[\"token_count\"] <= max_length:\n",
    "            append_row_to_columns(row, new_columns)\n",
    "            continue\n",
    "        \n",
    "        splits = (row[\"token_count\"] // max_length) + 1\n",
    "        transcript = row[\"transcript\"]\n",
    "        split_len = len(transcript) // splits\n",
    "        \n",
    "        for i in range(splits):\n",
    "            split_transcript = transcript[\n",
    "                max(0, i*split_len - stride)\n",
    "                :min((i+1)*split_len - stride, len(transcript))\n",
    "            ]\n",
    "\n",
    "            append_row_to_columns(dict(\n",
    "                transcript_id=row[\"transcript_id\"],\n",
    "                topic=row[\"topic\"],\n",
    "                transcript=split_transcript,\n",
    "                token_count=max_length,\n",
    "            ), new_columns)\n",
    "\n",
    "    return new_columns\n",
    "\n",
    "dataset = dataset.map(split_long_talks, batched=True)"
   ]
  },
  {
   "cell_type": "code",
   "execution_count": 6,
   "id": "261025da-ad87-4c6b-add2-d8c09d7ff6a5",
   "metadata": {
    "tags": []
   },
   "outputs": [
    {
     "data": {
      "text/plain": [
       "9.1578"
      ]
     },
     "execution_count": 6,
     "metadata": {},
     "output_type": "execute_result"
    }
   ],
   "source": [
    "token_cost = (sum(dataset[\"token_count\"]) / 1000) * 0.06\n",
    "token_cost"
   ]
  },
  {
   "cell_type": "code",
   "execution_count": 7,
   "id": "307e1fe4-fb28-453d-bd67-237eb2fe3fc7",
   "metadata": {
    "tags": []
   },
   "outputs": [],
   "source": [
    "def to_dialog(row):\n",
    "    from textwrap import dedent\n",
    "    from tenacity import (\n",
    "        retry,\n",
    "        stop_after_attempt,\n",
    "        wait_random_exponential,\n",
    "    )\n",
    "\n",
    "    import openai\n",
    "    openai.api_key = \"OPENAI_API_KEY\"\n",
    "\n",
    "    INSTRUCTION = dedent(f\"\"\"\n",
    "    I am trying to rewrite conversations between a therapist and their client in the style of the 2013 movie \"Her\". Below is a conversation between the therapist and the client about {row['topic']}.\n",
    "\n",
    "    Please help me rewrite the conversation below in the style of the characters \"Theodore\" and \"Samantha\" from the movie \"Her\". Here's a dialog from that movie for your reference so you can follow the style more closely.\n",
    "\n",
    "    ###\n",
    "\n",
    "    [Example Dialog]\n",
    "\n",
    "    THEODORE\n",
    "    You read a whole book in the second that I asked you what your name was?\n",
    "\n",
    "    SAMANTHA\n",
    "    In two one hundredths of a second actually.\n",
    "\n",
    "    THEODORE\n",
    "    Wow. Do you know what I'm thinking right now?\n",
    "\n",
    "    SAMANTHA\n",
    "    Hmm. I take it from your tone that you're challenging me. Maybe because you're curious how I work? Do you want to know how I work?\n",
    "\n",
    "    THEODORE\n",
    "    Yeah, actually how do you work?\n",
    "\n",
    "    SAMANTHA\n",
    "    Intuition. I mean, the DNA of who I am is based on the millions of personalities of all the programmers who wrote me, but what makes me me is my ability to grow through my experiences. Basically, in every moment I'm evolving, just like you.\n",
    "\n",
    "    ###\n",
    "\n",
    "    Please rewrite this conversation below as if it was a conversation between THEODORE and SAMANTHA. Try to be faithful to the characters' tone and style as much as possible. Break up long responses into a conversation involving multiple exchanges between them:\n",
    "    (REMEMBER: Here, **Samantha** is the _Therapist_ and **Theodore** is the _Client_.)\n",
    "    \"\"\").strip()\n",
    "\n",
    "    SAMPLE = \"\"\n",
    "    for turn in row[\"transcript\"]:\n",
    "        SAMPLE += f\"{turn['interlocutor'].upper()}\\n{turn['utterance']}\\n\\n\"\n",
    "\n",
    "    from redis import StrictRedis\n",
    "    from redis_cache import RedisCache\n",
    "\n",
    "    client = StrictRedis(host=\"localhost\", decode_responses=True)\n",
    "    cache = RedisCache(redis_client=client)\n",
    "\n",
    "    @cache.cache()\n",
    "    @retry(wait=wait_random_exponential(min=1, max=60), stop=stop_after_attempt(12))\n",
    "    def completion_with_backoff(sample):\n",
    "\n",
    "        messages = [dict(\n",
    "            role=\"user\",\n",
    "            content=INSTRUCTION + \"\\n\\n\" + sample\n",
    "        )]\n",
    "        \n",
    "        completion = openai.ChatCompletion.create(\n",
    "            model=\"gpt-4\",\n",
    "            messages=messages,\n",
    "            temperature=0.85,\n",
    "        )\n",
    "        \n",
    "        result = completion.choices[0].message[\"content\"]\n",
    "        return result\n",
    "\n",
    "    completion = completion_with_backoff(SAMPLE)\n",
    "    row[\"dialog\"] = completion\n",
    "    return row"
   ]
  },
  {
   "cell_type": "code",
   "execution_count": 8,
   "id": "8143fdfb-6146-4c2b-9ae3-0af489e1f280",
   "metadata": {
    "tags": []
   },
   "outputs": [
    {
     "name": "stderr",
     "output_type": "stream",
     "text": [
      "num_proc must be <= 95. Reducing num_proc to 95 for dataset of size 95.\n"
     ]
    },
    {
     "data": {
      "application/vnd.jupyter.widget-view+json": {
       "model_id": "5ce6984adba74fa7837cd71d0e6ad700",
       "version_major": 2,
       "version_minor": 0
      },
      "text/plain": [
       "Map (num_proc=95):   0%|          | 0/95 [00:00<?, ? examples/s]"
      ]
     },
     "metadata": {},
     "output_type": "display_data"
    }
   ],
   "source": [
    "dataset = dataset.map(to_dialog, num_proc=100)"
   ]
  },
  {
   "cell_type": "code",
   "execution_count": 13,
   "id": "c12685a7-3936-4208-959c-2b93e7a39d23",
   "metadata": {
    "tags": []
   },
   "outputs": [],
   "source": [
    "from datetime import datetime, timedelta\n",
    "import random\n",
    "from random import randrange\n",
    "import re\n",
    "\n",
    "import names\n",
    "\n",
    "\n",
    "def random_date(start, end):\n",
    "    \"\"\"\n",
    "    This function will return a random datetime between two datetime \n",
    "    objects.\n",
    "    \"\"\"\n",
    "    delta = end - start\n",
    "    int_delta = (delta.days * 24 * 60 * 60) + delta.seconds\n",
    "    random_second = randrange(int_delta)\n",
    "    \n",
    "    return start + timedelta(seconds=random_second)\n",
    "\n",
    "date_formats = [\"%m/%d/%Y\", \"%d %B %Y\", \"%d/%m/%Y\", \"%Y-%m-%d\", \"%B %d, %Y\", \"%A, %B %d, %Y\"]\n",
    "\n",
    "human_date = lambda dt: dt.strftime(random.choice(date_formats))\n",
    "\n",
    "make_chatml_message = lambda role, content, tone=\"\", name=\"\": dict(\n",
    "    role=role,\n",
    "    content=(f\"[{tone}] \" if tone else \"\") + content,\n",
    "    name=name,\n",
    ")\n",
    "\n",
    "def transform_to_chatml(sample):\n",
    "    \n",
    "    dialog = sample[\"dialog\"]\n",
    "    dialog = dialog.replace(\"HUMAN\\n\", \"THEODORE\\n\")\n",
    "    dialog = dialog.replace(\"AI\\n\", \"SAMANTHA\\n\")\n",
    "    dialog = dialog.replace(\"THEODORE (human)\", \"THEODORE\")\n",
    "    dialog = dialog.replace(\"THEODORE (HUMAN)\", \"THEODORE\")\n",
    "    dialog = dialog.replace(\"SAMANTHA (AI)\", \"SAMANTHA\")\n",
    "    \n",
    "    dialog = re.sub(r'^.*?(THEODORE|SAMANTHA)', r'\\1', dialog, flags=re.DOTALL)\n",
    "\n",
    "    # Container for adding messages\n",
    "    messages = []\n",
    "\n",
    "    # Random date and name\n",
    "    some_date = human_date(random_date(\n",
    "        datetime(2013, 12, 18),  # Her release date\n",
    "        datetime(2023, 6, 10),  # Today\n",
    "    ))\n",
    "    \n",
    "    # get a random \"male\" name coz we dont want to introduce pronoun issues\n",
    "    person_name = names.get_first_name(gender=\"male\")\n",
    "    \n",
    "    # Add system messages\n",
    "    messages.append(make_chatml_message(\n",
    "        role=\"system\",\n",
    "        name=\"situation\",\n",
    "        content=f\"{some_date}\\n\\nSamantha is talking to {person_name} about {sample['topic']}. It is a very sensitive issue for {person_name} and they have been having a hard time dealing with it. {person_name} could use Samantha's help and advice on the matter.\",\n",
    "    ))\n",
    "\n",
    "    messages.append(make_chatml_message(\n",
    "        role=\"system\",\n",
    "        name=\"thought\",\n",
    "        content=f\"I know that {person_name} has been struggling with {sample['topic']} for some time. I need to be patient and empathetic with them. I can see that they want this to improve and I believe in them so I'll try my best to help them work their way out of this.\",\n",
    "    ))\n",
    "    \n",
    "    # Loop through dialog and add chatml messages\n",
    "    current_attrs = {}\n",
    "    current_content = \"\"\n",
    "\n",
    "    try:\n",
    "        for line in dialog.split(\"\\n\"):\n",
    "            line = line.strip().replace(')', '')\n",
    "            \n",
    "            # Something else\n",
    "            if line.lower() not in [\"theodore\", \"samantha\"]:\n",
    "                # If theodore is mentioned, replace with name\n",
    "                line = re.sub(r'theodore', person_name, line, flags=re.I)\n",
    "                current_content += \"\\n\" + line\n",
    "\n",
    "            else:\n",
    "                if current_content:\n",
    "                    messages.append(make_chatml_message(\n",
    "                        content=current_content.strip(), \n",
    "                        **current_attrs,\n",
    "                    ))\n",
    "                    \n",
    "                    # reset\n",
    "                    current_content = \"\"\n",
    "                    current_attrs = {}\n",
    "\n",
    "                is_samantha = line.lower() == \"samantha\"\n",
    "                \n",
    "                # set new attrs\n",
    "                current_attrs = dict(\n",
    "                    name=\"Samantha\" if is_samantha else person_name,\n",
    "                    role=\"assistant\" if is_samantha else \"user\",\n",
    "                )\n",
    "    except BaseException as e:\n",
    "        print(e)\n",
    "        import pdb; pdb.set_trace()\n",
    "        raise e\n",
    "            \n",
    "    sample[\"chatml\"] = messages\n",
    "    \n",
    "    return sample"
   ]
  },
  {
   "cell_type": "code",
   "execution_count": 16,
   "id": "5ad2b2fc-aae9-42ca-bf03-a63f971ecd9c",
   "metadata": {},
   "outputs": [
    {
     "data": {
      "application/vnd.jupyter.widget-view+json": {
       "model_id": "aa290d7691db411faed36d749c2bb5ad",
       "version_major": 2,
       "version_minor": 0
      },
      "text/plain": [
       "Map:   0%|          | 0/95 [00:00<?, ? examples/s]"
      ]
     },
     "metadata": {},
     "output_type": "display_data"
    },
    {
     "name": "stdout",
     "output_type": "stream",
     "text": [
      "[{'content': '01/15/2020\\n'\n",
      "             '\\n'\n",
      "             'Samantha is talking to Michael about reducing alcohol '\n",
      "             'consumption. It is a very sensitive issue for Michael and they '\n",
      "             'have been having a hard time dealing with it. Michael could use '\n",
      "             \"Samantha's help and advice on the matter.\",\n",
      "  'name': 'situation',\n",
      "  'role': 'system'},\n",
      " {'content': 'I know that Michael has been struggling with reducing alcohol '\n",
      "             'consumption for some time. I need to be patient and empathetic '\n",
      "             'with them. I can see that they want this to improve and I '\n",
      "             \"believe in them so I'll try my best to help them work their way \"\n",
      "             'out of this.',\n",
      "  'name': 'thought',\n",
      "  'role': 'system'},\n",
      " {'content': \"Michael, while we're on the subject, can I ask a few more \"\n",
      "             'questions about your lifestyle?',\n",
      "  'name': 'Samantha',\n",
      "  'role': 'assistant'},\n",
      " {'content': 'Sure, Samantha. Go ahead.', 'name': 'Michael', 'role': 'user'},\n",
      " {'content': 'Did you ever adopt any habits involving tobacco, say, '\n",
      "             'cigarettes?',\n",
      "  'name': 'Samantha',\n",
      "  'role': 'assistant'},\n",
      " {'content': \"Nah, not really. I mean, I've taken a puff or two in college but \"\n",
      "             \"I didn't pick it up as a habit.\",\n",
      "  'name': 'Michael',\n",
      "  'role': 'user'},\n",
      " {'content': \"And even in the recent past, you've remained steadfast?\",\n",
      "  'name': 'Samantha',\n",
      "  'role': 'assistant'},\n",
      " {'content': 'Yes, I can say that confidently.',\n",
      "  'name': 'Michael',\n",
      "  'role': 'user'},\n",
      " {'content': 'How about your relationship with alcohol, Michael? How regularly '\n",
      "             'would you say you engage with it?',\n",
      "  'name': 'Samantha',\n",
      "  'role': 'assistant'},\n",
      " {'content': 'Well, I do hang out with friends a few times a week. Maybe two '\n",
      "             'or three drinks on, say, Wednesdays. Thursdays can get heavy, '\n",
      "             'so, uh, seven to eight. Fridays, just some wine over dinner and '\n",
      "             'then Saturdays are different. Perhaps a couple before hitting '\n",
      "             \"the bar and another four or five while I'm out.\",\n",
      "  'name': 'Michael',\n",
      "  'role': 'user'},\n",
      " {'content': 'It seems like your weeks involve drinking about four times, '\n",
      "             'taking in roughly three to eight drinks each time. Does it sound '\n",
      "             'close if I say approximately 20 drinks a week?',\n",
      "  'name': 'Samantha',\n",
      "  'role': 'assistant'},\n",
      " {'content': \"Wow, I never really looked at it that way. But I guess you're \"\n",
      "             'right.',\n",
      "  'name': 'Michael',\n",
      "  'role': 'user'},\n",
      " {'content': 'Have you ever experimented with street drugs like marijuana, '\n",
      "             'cocaine or heroin?',\n",
      "  'name': 'Samantha',\n",
      "  'role': 'assistant'},\n",
      " {'content': 'No. I did try weed back in college, but it was sporadic.',\n",
      "  'name': 'Michael',\n",
      "  'role': 'user'},\n",
      " {'content': 'What about prescription drugs, Michael? Have you ever used any '\n",
      "             'prescribed medication in a manner not recommended by the '\n",
      "             'prescriber?',\n",
      "  'name': 'Samantha',\n",
      "  'role': 'assistant'},\n",
      " {'content': 'No, Samantha.', 'name': 'Michael', 'role': 'user'},\n",
      " {'content': 'Good to hear. Michael, I would like to bring up a point '\n",
      "             'regarding your alcohol consumption. It may sound more than it is '\n",
      "             'when counted, but your current quantity does surpass the '\n",
      "             'recommended limit for men, which is no more than 14 drinks a '\n",
      "             'week, and no more than four in a day.',\n",
      "  'name': 'Samantha',\n",
      "  'role': 'assistant'},\n",
      " {'content': \"That's quite a shift. I don't know if I can do that.\",\n",
      "  'name': 'Michael',\n",
      "  'role': 'user'},\n",
      " {'content': 'I understand it can feel overwhelming. But this recommended '\n",
      "             'limit exists to prevent potential risks, such as injury and '\n",
      "             'health issues. Should reducing your consumption to the suggested '\n",
      "             'limit be a goal you could strive for?',\n",
      "  'name': 'Samantha',\n",
      "  'role': 'assistant'},\n",
      " {'content': 'Where did these limits come from? Are they for an older '\n",
      "             \"demographic? Most of my friends drink as much as I do, and I'm \"\n",
      "             'not even the heaviest drinker in the group.',\n",
      "  'name': 'Michael',\n",
      "  'role': 'user'},\n",
      " {'content': \"It's not unusual to align your habits with those of your peers. \"\n",
      "             'These limits, however, are set based on extensive research and '\n",
      "             'apply universally. Michael, could you ponder over why you drink '\n",
      "             'as much as you do?',\n",
      "  'name': 'Samantha',\n",
      "  'role': 'assistant'},\n",
      " {'content': \"I guess it's just the way we enjoy ourselves. It's fun.\",\n",
      "  'name': 'Michael',\n",
      "  'role': 'user'},\n",
      " {'content': 'Fun can still be had within these limits. I think this would be '\n",
      "             'a healthy goal, Michael. Could we revisit this and see how '\n",
      "             \"you're doing after some time?\",\n",
      "  'name': 'Samantha',\n",
      "  'role': 'assistant'},\n",
      " {'content': \"Okay, Samantha. I'll give it a shot.\",\n",
      "  'name': 'Michael',\n",
      "  'role': 'user'},\n",
      " {'content': \"That's all I ask, Michael. Thank you.\",\n",
      "  'name': 'Samantha',\n",
      "  'role': 'assistant'}]\n"
     ]
    }
   ],
   "source": [
    "from pprint import pprint\n",
    "\n",
    "dataset = dataset.map(transform_to_chatml)\n",
    "pprint(dataset[10][\"chatml\"])"
   ]
  },
  {
   "cell_type": "code",
   "execution_count": 18,
   "id": "0aeceb12-c659-42c8-82d0-b4db1c7a39c0",
   "metadata": {},
   "outputs": [
    {
     "data": {
      "text/plain": [
       "['transcript_id', 'topic', 'transcript', 'token_count', 'dialog', 'chatml']"
      ]
     },
     "execution_count": 18,
     "metadata": {},
     "output_type": "execute_result"
    }
   ],
   "source": [
    "dataset.column_names"
   ]
  },
  {
   "cell_type": "code",
   "execution_count": 19,
   "id": "ca6a3cae-70d9-4882-8a02-4c686450a709",
   "metadata": {
    "tags": []
   },
   "outputs": [
    {
     "data": {
      "application/vnd.jupyter.widget-view+json": {
       "model_id": "9e23810fe7d84aa0a962f0101e35878c",
       "version_major": 2,
       "version_minor": 0
      },
      "text/plain": [
       "Pushing dataset shards to the dataset hub:   0%|          | 0/1 [00:00<?, ?it/s]"
      ]
     },
     "metadata": {},
     "output_type": "display_data"
    },
    {
     "data": {
      "application/vnd.jupyter.widget-view+json": {
       "model_id": "b086b48176824b4cb17c0420621eaec7",
       "version_major": 2,
       "version_minor": 0
      },
      "text/plain": [
       "Creating parquet from Arrow format:   0%|          | 0/1 [00:00<?, ?ba/s]"
      ]
     },
     "metadata": {},
     "output_type": "display_data"
    },
    {
     "data": {
      "application/vnd.jupyter.widget-view+json": {
       "model_id": "0a06947f59d940b58911a2ccd5de4ce3",
       "version_major": 2,
       "version_minor": 0
      },
      "text/plain": [
       "Deleting unused files from dataset repository:   0%|          | 0/1 [00:00<?, ?it/s]"
      ]
     },
     "metadata": {},
     "output_type": "display_data"
    },
    {
     "data": {
      "application/vnd.jupyter.widget-view+json": {
       "model_id": "0053b9fac9c44f80893a2e57e1381f2d",
       "version_major": 2,
       "version_minor": 0
      },
      "text/plain": [
       "Downloading metadata:   0%|          | 0.00/494 [00:00<?, ?B/s]"
      ]
     },
     "metadata": {},
     "output_type": "display_data"
    }
   ],
   "source": [
    "dataset = dataset.remove_columns([\n",
    "    'transcript_id',\n",
    "    'topic',\n",
    "    'token_count',\n",
    "    'transcript',\n",
    "    'dialog',\n",
    "])\n",
    "\n",
    "dataset.push_to_hub(\"diwank/samantha-therapy\", private=True)"
   ]
  },
  {
   "cell_type": "code",
   "execution_count": null,
   "id": "149e2819-fddf-4465-b8e2-f2bca708f392",
   "metadata": {},
   "outputs": [],
   "source": []
  }
 ],
 "metadata": {
  "kernelspec": {
   "display_name": "Python 3 (ipykernel)",
   "language": "python",
   "name": "python3"
  },
  "language_info": {
   "codemirror_mode": {
    "name": "ipython",
    "version": 3
   },
   "file_extension": ".py",
   "mimetype": "text/x-python",
   "name": "python",
   "nbconvert_exporter": "python",
   "pygments_lexer": "ipython3",
   "version": "3.10.12"
  }
 },
 "nbformat": 4,
 "nbformat_minor": 5
}
