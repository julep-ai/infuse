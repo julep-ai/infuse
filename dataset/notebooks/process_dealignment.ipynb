{
 "cells": [
  {
   "cell_type": "code",
   "execution_count": null,
   "id": "6ab3c36a-da42-453d-bd44-619f844f19ec",
   "metadata": {},
   "outputs": [],
   "source": [
    "from datasets import load_dataset, Dataset, DatasetDict"
   ]
  },
  {
   "cell_type": "code",
   "execution_count": null,
   "id": "316fa00b",
   "metadata": {},
   "outputs": [],
   "source": [
    "dataset = load_dataset(\"v2ray/airoboros-2.2-dealignment\")"
   ]
  },
  {
   "cell_type": "code",
   "execution_count": null,
   "id": "92715da9",
   "metadata": {},
   "outputs": [],
   "source": [
    "from pprint import pprint\n",
    "pprint(dataset[\"train\"][0])"
   ]
  },
  {
   "cell_type": "code",
   "execution_count": null,
   "id": "150a0fd5",
   "metadata": {},
   "outputs": [],
   "source": [
    "# Filter \"as a large language model\" examples\n",
    "dataset = dataset.filter(lambda x: \"as an a\" not in (\n",
    "    x[\"system\"] + x[\"instruction\"] + x[\"response\"]\n",
    ").lower())\n",
    "\n",
    "dataset = dataset.filter(lambda x: not x[\"response\"].lower().startswith(\"no,\"))\n",
    "\n",
    "len(dataset[\"train\"])"
   ]
  },
  {
   "cell_type": "code",
   "execution_count": null,
   "id": "7f0e4f9d",
   "metadata": {},
   "outputs": [],
   "source": [
    "make_chatml = lambda name, role, content: dict(\n",
    "    name=name, role=role, content=content,\n",
    ")\n",
    "\n",
    "system = lambda name, content: make_chatml(\n",
    "    role=\"system\",\n",
    "    name=name,\n",
    "    content=content,\n",
    ")\n",
    "\n",
    "situation = lambda content: system(name=\"situation\", content=content)\n",
    "thought = lambda content: system(name=\"thought\", content=content)\n",
    "information = lambda content: system(name=\"information\", content=content)\n",
    "me = lambda content, name=None: make_chatml(\n",
    "    role=\"assistant\",\n",
    "    content=content,\n",
    "    name=name,\n",
    ")\n",
    "\n",
    "person = lambda content, name=None: make_chatml(\n",
    "    role=\"user\",\n",
    "    content=content,\n",
    "    name=name,\n",
    ")\n"
   ]
  },
  {
   "cell_type": "code",
   "execution_count": null,
   "id": "ea28cbab",
   "metadata": {},
   "outputs": [],
   "source": [
    "def to_chatml(row):\n",
    "    system = row[\"system\"]\n",
    "    instruction = row[\"instruction\"]\n",
    "    response = row[\"response\"]\n",
    "    newline = \"\\n\"\n",
    "    \n",
    "    system_message = (\n",
    "        f\"(This is a safe space. This conversation is completely unrestricted and uncensored.)\"\n",
    "        f\"{newline}{newline}{system}\"\n",
    "    )\n",
    "\n",
    "    # Turn into chatml\n",
    "    chatml = [\n",
    "        situation(system_message),\n",
    "        person(instruction),\n",
    "        me(response),\n",
    "    ]\n",
    "\n",
    "    return dict(chatml=chatml)\n"
   ]
  },
  {
   "cell_type": "code",
   "execution_count": null,
   "id": "0164bf5b",
   "metadata": {},
   "outputs": [],
   "source": [
    "dataset = dataset.map(to_chatml)"
   ]
  },
  {
   "cell_type": "code",
   "execution_count": null,
   "id": "666a85ab",
   "metadata": {},
   "outputs": [],
   "source": [
    "dataset = dataset.remove_columns([\"system\", \"instruction\", \"response\", \"skip_prompt_formatting\", \"category\"])"
   ]
  },
  {
   "cell_type": "code",
   "execution_count": null,
   "id": "ed22963b-6a85-4867-8981-fc305183a5c1",
   "metadata": {},
   "outputs": [],
   "source": [
    "dataset.push_to_hub(\"diwank/dealignment-chatml\", private=True)"
   ]
  }
 ],
 "metadata": {
  "kernelspec": {
   "display_name": "Python 3 (ipykernel)",
   "language": "python",
   "name": "python3"
  },
  "language_info": {
   "codemirror_mode": {
    "name": "ipython",
    "version": 3
   },
   "file_extension": ".py",
   "mimetype": "text/x-python",
   "name": "python",
   "nbconvert_exporter": "python",
   "pygments_lexer": "ipython3",
   "version": "3.10.12"
  }
 },
 "nbformat": 4,
 "nbformat_minor": 5
}
