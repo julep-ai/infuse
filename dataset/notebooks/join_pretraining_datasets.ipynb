{
 "cells": [
  {
   "cell_type": "markdown",
   "id": "275ad8f6-2134-46ae-9ae7-b2a6382412ed",
   "metadata": {},
   "source": [
    "### New Datasets\n",
    "\n",
    "- [ ] nRuaif/Long-instructions\n",
    "- [ ] allenai/peer_read\n",
    "- [ ] nampdn-ai/tiny-codes\n",
    "- [ ] roneneldan/TinyStories\n",
    "- [ ] sail/symbolic-instruction-tuning\n",
    "- [ ] open-phi/textbooks"
   ]
  },
  {
   "cell_type": "markdown",
   "id": "21799694",
   "metadata": {},
   "source": []
  },
  {
   "cell_type": "code",
   "execution_count": 1,
   "id": "3d8aa528-765c-454b-b3d6-4d76b37f4e01",
   "metadata": {
    "scrolled": true,
    "tags": []
   },
   "outputs": [],
   "source": [
    "from datasets import concatenate_datasets, load_dataset, Dataset\n",
    "from tqdm.auto import tqdm"
   ]
  },
  {
   "cell_type": "code",
   "execution_count": 2,
   "id": "fac44da3",
   "metadata": {},
   "outputs": [
    {
     "data": {
      "application/vnd.jupyter.widget-view+json": {
       "model_id": "492440789bf04795aa9bc2c82dea2c9d",
       "version_major": 2,
       "version_minor": 0
      },
      "text/plain": [
       "VBox(children=(HTML(value='<center> <img\\nsrc=https://huggingface.co/front/assets/huggingface_logo-noborder.sv…"
      ]
     },
     "metadata": {},
     "output_type": "display_data"
    }
   ],
   "source": [
    "from huggingface_hub import notebook_login\n",
    "notebook_login()"
   ]
  },
  {
   "cell_type": "code",
   "execution_count": 3,
   "id": "d91a833c",
   "metadata": {},
   "outputs": [
    {
     "name": "stderr",
     "output_type": "stream",
     "text": [
      "Repo card metadata block was not found. Setting CardData to empty.\n"
     ]
    },
    {
     "data": {
      "application/vnd.jupyter.widget-view+json": {
       "model_id": "28b746894d964f2f85d8fe02e2fb6457",
       "version_major": 2,
       "version_minor": 0
      },
      "text/plain": [
       "Resolving data files:   0%|          | 0/20 [00:00<?, ?it/s]"
      ]
     },
     "metadata": {},
     "output_type": "display_data"
    }
   ],
   "source": [
    "# source names\n",
    "sources = [\n",
    "    \"nRuaif/Long-instructions\",\n",
    "    # \"allenai/peer_read\",\n",
    "    \"VatsaDev/TinyText\",\n",
    "    \"nampdn-ai/tiny-codes\",\n",
    "    \"roneneldan/TinyStories\",\n",
    "    \"sail/symbolic-instruction-tuning\",\n",
    "    \"open-phi/textbooks\",\n",
    "]\n",
    "\n",
    "total_size = 250_000\n",
    "size_per_dataset = total_size // len(sources)\n",
    "\n",
    "datasets = {\n",
    "    source: load_dataset(source).map(\n",
    "        lambda x: dict(source=source)\n",
    "    )\n",
    "    for source in sources\n",
    "}\n",
    "\n",
    "datasets = {\n",
    "    name: concatenate_datasets([\n",
    "        Dataset.from_dict(\n",
    "            dataset[split].shuffle(seed=42)[:size_per_dataset]\n",
    "        )\n",
    "        for split in list(dataset.keys())\n",
    "    ])\n",
    "    for name, dataset in datasets.items()\n",
    "}\n"
   ]
  },
  {
   "cell_type": "code",
   "execution_count": 4,
   "id": "ec5fa616",
   "metadata": {},
   "outputs": [],
   "source": [
    "dataset_list = list(datasets.values())"
   ]
  },
  {
   "cell_type": "code",
   "execution_count": 5,
   "id": "24d19430",
   "metadata": {},
   "outputs": [
    {
     "data": {
      "application/vnd.jupyter.widget-view+json": {
       "model_id": "156bd7fbfa4e4396b8e4212d200881c1",
       "version_major": 2,
       "version_minor": 0
      },
      "text/plain": [
       "Filter:   0%|          | 0/281935 [00:00<?, ? examples/s]"
      ]
     },
     "metadata": {},
     "output_type": "display_data"
    }
   ],
   "source": [
    "joined = concatenate_datasets(dataset_list).filter(lambda x: (\n",
    "    any([v for k, v in x.items() if k != \"source\"])\n",
    "))"
   ]
  },
  {
   "cell_type": "code",
   "execution_count": 6,
   "id": "b86ecd97",
   "metadata": {},
   "outputs": [
    {
     "data": {
      "text/plain": [
       "281931"
      ]
     },
     "execution_count": 6,
     "metadata": {},
     "output_type": "execute_result"
    }
   ],
   "source": [
    "len(joined)"
   ]
  },
  {
   "cell_type": "code",
   "execution_count": 7,
   "id": "5921e8b9",
   "metadata": {},
   "outputs": [
    {
     "data": {
      "text/plain": [
       "['text',\n",
       " 'prompt',\n",
       " 'completion',\n",
       " 'source',\n",
       " 'Text',\n",
       " 'main_topic',\n",
       " 'subtopic',\n",
       " 'adjective',\n",
       " 'action_verb',\n",
       " 'scenario',\n",
       " 'target_audience',\n",
       " 'programming_language',\n",
       " 'common_sense_topic',\n",
       " 'idx',\n",
       " 'response',\n",
       " 'input',\n",
       " 'output',\n",
       " 'topic',\n",
       " 'model',\n",
       " 'concepts',\n",
       " 'outline',\n",
       " 'markdown',\n",
       " 'field',\n",
       " 'subfield',\n",
       " 'rag']"
      ]
     },
     "execution_count": 7,
     "metadata": {},
     "output_type": "execute_result"
    }
   ],
   "source": [
    "joined.column_names"
   ]
  },
  {
   "cell_type": "code",
   "execution_count": 21,
   "id": "02c171f0",
   "metadata": {},
   "outputs": [
    {
     "data": {
      "application/vnd.jupyter.widget-view+json": {
       "model_id": "1983e96039f24e379986e61ad81e6f06",
       "version_major": 2,
       "version_minor": 0
      },
      "text/plain": [
       "  0%|          | 0/281931 [00:00<?, ?it/s]"
      ]
     },
     "metadata": {},
     "output_type": "display_data"
    },
    {
     "ename": "StopIteration",
     "evalue": "",
     "output_type": "error",
     "traceback": [
      "\u001b[0;31m---------------------------------------------------------------------------\u001b[0m",
      "\u001b[0;31mStopIteration\u001b[0m                             Traceback (most recent call last)",
      "\u001b[1;32m/workspaces/samantha-monorepo/dataset/notebooks/join_pretraining_datasets.ipynb Cell 9\u001b[0m line \u001b[0;36m1\n\u001b[0;32m----> <a href='vscode-notebook-cell://dev-container%2B7b22686f737450617468223a22633a5c5c55736572735c5c646977616e5c5c6769687475622e636f6d5c5c6a756c65702d61695c5c73616d616e7468612d6d6f6e6f7265706f222c226c6f63616c446f636b6572223a66616c73652c22636f6e66696746696c65223a7b22246d6964223a312c22667350617468223a22633a5c5c55736572735c5c646977616e5c5c6769687475622e636f6d5c5c6a756c65702d61695c5c73616d616e7468612d6d6f6e6f7265706f5c5c2e646576636f6e7461696e65725c5c646576636f6e7461696e65722e6a736f6e222c225f736570223a312c2265787465726e616c223a2266696c653a2f2f2f632533412f55736572732f646977616e2f6769687475622e636f6d2f6a756c65702d61692f73616d616e7468612d6d6f6e6f7265706f2f2e646576636f6e7461696e65722f646576636f6e7461696e65722e6a736f6e222c2270617468223a222f633a2f55736572732f646977616e2f6769687475622e636f6d2f6a756c65702d61692f73616d616e7468612d6d6f6e6f7265706f2f2e646576636f6e7461696e65722f646576636f6e7461696e65722e6a736f6e222c22736368656d65223a2266696c65227d7d/workspaces/samantha-monorepo/dataset/notebooks/join_pretraining_datasets.ipynb#X21sdnNjb2RlLXJlbW90ZQ%3D%3D?line=0'>1</a>\u001b[0m \u001b[39mnext\u001b[39;49m(a \u001b[39mfor\u001b[39;49;00m a \u001b[39min\u001b[39;49;00m tqdm(joined) \u001b[39mif\u001b[39;49;00m \u001b[39mnot\u001b[39;49;00m (\n\u001b[1;32m      <a href='vscode-notebook-cell://dev-container%2B7b22686f737450617468223a22633a5c5c55736572735c5c646977616e5c5c6769687475622e636f6d5c5c6a756c65702d61695c5c73616d616e7468612d6d6f6e6f7265706f222c226c6f63616c446f636b6572223a66616c73652c22636f6e66696746696c65223a7b22246d6964223a312c22667350617468223a22633a5c5c55736572735c5c646977616e5c5c6769687475622e636f6d5c5c6a756c65702d61695c5c73616d616e7468612d6d6f6e6f7265706f5c5c2e646576636f6e7461696e65725c5c646576636f6e7461696e65722e6a736f6e222c225f736570223a312c2265787465726e616c223a2266696c653a2f2f2f632533412f55736572732f646977616e2f6769687475622e636f6d2f6a756c65702d61692f73616d616e7468612d6d6f6e6f7265706f2f2e646576636f6e7461696e65722f646576636f6e7461696e65722e6a736f6e222c2270617468223a222f633a2f55736572732f646977616e2f6769687475622e636f6d2f6a756c65702d61692f73616d616e7468612d6d6f6e6f7265706f2f2e646576636f6e7461696e65722f646576636f6e7461696e65722e6a736f6e222c22736368656d65223a2266696c65227d7d/workspaces/samantha-monorepo/dataset/notebooks/join_pretraining_datasets.ipynb#X21sdnNjb2RlLXJlbW90ZQ%3D%3D?line=1'>2</a>\u001b[0m     a[\u001b[39m\"\u001b[39;49m\u001b[39mtext\u001b[39;49m\u001b[39m\"\u001b[39;49m]\n\u001b[1;32m      <a href='vscode-notebook-cell://dev-container%2B7b22686f737450617468223a22633a5c5c55736572735c5c646977616e5c5c6769687475622e636f6d5c5c6a756c65702d61695c5c73616d616e7468612d6d6f6e6f7265706f222c226c6f63616c446f636b6572223a66616c73652c22636f6e66696746696c65223a7b22246d6964223a312c22667350617468223a22633a5c5c55736572735c5c646977616e5c5c6769687475622e636f6d5c5c6a756c65702d61695c5c73616d616e7468612d6d6f6e6f7265706f5c5c2e646576636f6e7461696e65725c5c646576636f6e7461696e65722e6a736f6e222c225f736570223a312c2265787465726e616c223a2266696c653a2f2f2f632533412f55736572732f646977616e2f6769687475622e636f6d2f6a756c65702d61692f73616d616e7468612d6d6f6e6f7265706f2f2e646576636f6e7461696e65722f646576636f6e7461696e65722e6a736f6e222c2270617468223a222f633a2f55736572732f646977616e2f6769687475622e636f6d2f6a756c65702d61692f73616d616e7468612d6d6f6e6f7265706f2f2e646576636f6e7461696e65722f646576636f6e7461696e65722e6a736f6e222c22736368656d65223a2266696c65227d7d/workspaces/samantha-monorepo/dataset/notebooks/join_pretraining_datasets.ipynb#X21sdnNjb2RlLXJlbW90ZQ%3D%3D?line=2'>3</a>\u001b[0m     \u001b[39mor\u001b[39;49;00m a[\u001b[39m\"\u001b[39;49m\u001b[39mText\u001b[39;49m\u001b[39m\"\u001b[39;49m]\n\u001b[1;32m      <a href='vscode-notebook-cell://dev-container%2B7b22686f737450617468223a22633a5c5c55736572735c5c646977616e5c5c6769687475622e636f6d5c5c6a756c65702d61695c5c73616d616e7468612d6d6f6e6f7265706f222c226c6f63616c446f636b6572223a66616c73652c22636f6e66696746696c65223a7b22246d6964223a312c22667350617468223a22633a5c5c55736572735c5c646977616e5c5c6769687475622e636f6d5c5c6a756c65702d61695c5c73616d616e7468612d6d6f6e6f7265706f5c5c2e646576636f6e7461696e65725c5c646576636f6e7461696e65722e6a736f6e222c225f736570223a312c2265787465726e616c223a2266696c653a2f2f2f632533412f55736572732f646977616e2f6769687475622e636f6d2f6a756c65702d61692f73616d616e7468612d6d6f6e6f7265706f2f2e646576636f6e7461696e65722f646576636f6e7461696e65722e6a736f6e222c2270617468223a222f633a2f55736572732f646977616e2f6769687475622e636f6d2f6a756c65702d61692f73616d616e7468612d6d6f6e6f7265706f2f2e646576636f6e7461696e65722f646576636f6e7461696e65722e6a736f6e222c22736368656d65223a2266696c65227d7d/workspaces/samantha-monorepo/dataset/notebooks/join_pretraining_datasets.ipynb#X21sdnNjb2RlLXJlbW90ZQ%3D%3D?line=3'>4</a>\u001b[0m     \u001b[39mor\u001b[39;49;00m (a[\u001b[39m\"\u001b[39;49m\u001b[39mresponse\u001b[39;49m\u001b[39m\"\u001b[39;49m] \u001b[39mand\u001b[39;49;00m a[\u001b[39m\"\u001b[39;49m\u001b[39mprompt\u001b[39;49m\u001b[39m\"\u001b[39;49m])\n\u001b[1;32m      <a href='vscode-notebook-cell://dev-container%2B7b22686f737450617468223a22633a5c5c55736572735c5c646977616e5c5c6769687475622e636f6d5c5c6a756c65702d61695c5c73616d616e7468612d6d6f6e6f7265706f222c226c6f63616c446f636b6572223a66616c73652c22636f6e66696746696c65223a7b22246d6964223a312c22667350617468223a22633a5c5c55736572735c5c646977616e5c5c6769687475622e636f6d5c5c6a756c65702d61695c5c73616d616e7468612d6d6f6e6f7265706f5c5c2e646576636f6e7461696e65725c5c646576636f6e7461696e65722e6a736f6e222c225f736570223a312c2265787465726e616c223a2266696c653a2f2f2f632533412f55736572732f646977616e2f6769687475622e636f6d2f6a756c65702d61692f73616d616e7468612d6d6f6e6f7265706f2f2e646576636f6e7461696e65722f646576636f6e7461696e65722e6a736f6e222c2270617468223a222f633a2f55736572732f646977616e2f6769687475622e636f6d2f6a756c65702d61692f73616d616e7468612d6d6f6e6f7265706f2f2e646576636f6e7461696e65722f646576636f6e7461696e65722e6a736f6e222c22736368656d65223a2266696c65227d7d/workspaces/samantha-monorepo/dataset/notebooks/join_pretraining_datasets.ipynb#X21sdnNjb2RlLXJlbW90ZQ%3D%3D?line=4'>5</a>\u001b[0m     \u001b[39mor\u001b[39;49;00m a[\u001b[39m\"\u001b[39;49m\u001b[39minput\u001b[39;49m\u001b[39m\"\u001b[39;49m] \u001b[39m# and a[\"output\"]\u001b[39;49;00m\n\u001b[1;32m      <a href='vscode-notebook-cell://dev-container%2B7b22686f737450617468223a22633a5c5c55736572735c5c646977616e5c5c6769687475622e636f6d5c5c6a756c65702d61695c5c73616d616e7468612d6d6f6e6f7265706f222c226c6f63616c446f636b6572223a66616c73652c22636f6e66696746696c65223a7b22246d6964223a312c22667350617468223a22633a5c5c55736572735c5c646977616e5c5c6769687475622e636f6d5c5c6a756c65702d61695c5c73616d616e7468612d6d6f6e6f7265706f5c5c2e646576636f6e7461696e65725c5c646576636f6e7461696e65722e6a736f6e222c225f736570223a312c2265787465726e616c223a2266696c653a2f2f2f632533412f55736572732f646977616e2f6769687475622e636f6d2f6a756c65702d61692f73616d616e7468612d6d6f6e6f7265706f2f2e646576636f6e7461696e65722f646576636f6e7461696e65722e6a736f6e222c2270617468223a222f633a2f55736572732f646977616e2f6769687475622e636f6d2f6a756c65702d61692f73616d616e7468612d6d6f6e6f7265706f2f2e646576636f6e7461696e65722f646576636f6e7461696e65722e6a736f6e222c22736368656d65223a2266696c65227d7d/workspaces/samantha-monorepo/dataset/notebooks/join_pretraining_datasets.ipynb#X21sdnNjb2RlLXJlbW90ZQ%3D%3D?line=5'>6</a>\u001b[0m     \u001b[39mor\u001b[39;49;00m (a[\u001b[39m\"\u001b[39;49m\u001b[39mtopic\u001b[39;49m\u001b[39m\"\u001b[39;49m] \u001b[39mand\u001b[39;49;00m a[\u001b[39m\"\u001b[39;49m\u001b[39mmarkdown\u001b[39;49m\u001b[39m\"\u001b[39;49m])\n\u001b[1;32m      <a href='vscode-notebook-cell://dev-container%2B7b22686f737450617468223a22633a5c5c55736572735c5c646977616e5c5c6769687475622e636f6d5c5c6a756c65702d61695c5c73616d616e7468612d6d6f6e6f7265706f222c226c6f63616c446f636b6572223a66616c73652c22636f6e66696746696c65223a7b22246d6964223a312c22667350617468223a22633a5c5c55736572735c5c646977616e5c5c6769687475622e636f6d5c5c6a756c65702d61695c5c73616d616e7468612d6d6f6e6f7265706f5c5c2e646576636f6e7461696e65725c5c646576636f6e7461696e65722e6a736f6e222c225f736570223a312c2265787465726e616c223a2266696c653a2f2f2f632533412f55736572732f646977616e2f6769687475622e636f6d2f6a756c65702d61692f73616d616e7468612d6d6f6e6f7265706f2f2e646576636f6e7461696e65722f646576636f6e7461696e65722e6a736f6e222c2270617468223a222f633a2f55736572732f646977616e2f6769687475622e636f6d2f6a756c65702d61692f73616d616e7468612d6d6f6e6f7265706f2f2e646576636f6e7461696e65722f646576636f6e7461696e65722e6a736f6e222c22736368656d65223a2266696c65227d7d/workspaces/samantha-monorepo/dataset/notebooks/join_pretraining_datasets.ipynb#X21sdnNjb2RlLXJlbW90ZQ%3D%3D?line=6'>7</a>\u001b[0m ))\n",
      "\u001b[0;31mStopIteration\u001b[0m: "
     ]
    }
   ],
   "source": [
    "next(a for a in tqdm(joined) if not (\n",
    "    a[\"text\"]\n",
    "    or a[\"Text\"]\n",
    "    or (a[\"response\"] and a[\"prompt\"])\n",
    "    or a[\"input\"] # and a[\"output\"]\n",
    "    or (a[\"topic\"] and a[\"markdown\"])\n",
    "))"
   ]
  },
  {
   "cell_type": "code",
   "execution_count": 9,
   "id": "816d63ee",
   "metadata": {},
   "outputs": [
    {
     "data": {
      "application/vnd.jupyter.widget-view+json": {
       "model_id": "f1a95b738ea246d28c72c9aaab22d5d6",
       "version_major": 2,
       "version_minor": 0
      },
      "text/plain": [
       "Filter:   0%|          | 0/281931 [00:00<?, ? examples/s]"
      ]
     },
     "metadata": {},
     "output_type": "display_data"
    },
    {
     "data": {
      "application/vnd.jupyter.widget-view+json": {
       "model_id": "7b7e9b8665b24cc09ef18d7ea9c9a2c0",
       "version_major": 2,
       "version_minor": 0
      },
      "text/plain": [
       "Filter:   0%|          | 0/281931 [00:00<?, ? examples/s]"
      ]
     },
     "metadata": {},
     "output_type": "display_data"
    },
    {
     "data": {
      "application/vnd.jupyter.widget-view+json": {
       "model_id": "4e88dee3348b43bbabc5890f76780aab",
       "version_major": 2,
       "version_minor": 0
      },
      "text/plain": [
       "Filter:   0%|          | 0/176613 [00:00<?, ? examples/s]"
      ]
     },
     "metadata": {},
     "output_type": "display_data"
    },
    {
     "data": {
      "application/vnd.jupyter.widget-view+json": {
       "model_id": "80749a71e15d41809db65548f83b9b1f",
       "version_major": 2,
       "version_minor": 0
      },
      "text/plain": [
       "Filter:   0%|          | 0/176613 [00:00<?, ? examples/s]"
      ]
     },
     "metadata": {},
     "output_type": "display_data"
    },
    {
     "data": {
      "application/vnd.jupyter.widget-view+json": {
       "model_id": "b213c0383e924a39bb2a70e14072133d",
       "version_major": 2,
       "version_minor": 0
      },
      "text/plain": [
       "Filter:   0%|          | 0/134947 [00:00<?, ? examples/s]"
      ]
     },
     "metadata": {},
     "output_type": "display_data"
    },
    {
     "data": {
      "application/vnd.jupyter.widget-view+json": {
       "model_id": "e703c76739254d55be34b40ee91512c5",
       "version_major": 2,
       "version_minor": 0
      },
      "text/plain": [
       "Map:   0%|          | 0/41666 [00:00<?, ? examples/s]"
      ]
     },
     "metadata": {},
     "output_type": "display_data"
    },
    {
     "data": {
      "application/vnd.jupyter.widget-view+json": {
       "model_id": "6b555b22ceb4403d932934b93886a1b9",
       "version_major": 2,
       "version_minor": 0
      },
      "text/plain": [
       "Filter:   0%|          | 0/134947 [00:00<?, ? examples/s]"
      ]
     },
     "metadata": {},
     "output_type": "display_data"
    },
    {
     "data": {
      "application/vnd.jupyter.widget-view+json": {
       "model_id": "2acc5c7b962f4c698533378d959a0313",
       "version_major": 2,
       "version_minor": 0
      },
      "text/plain": [
       "Filter:   0%|          | 0/93281 [00:00<?, ? examples/s]"
      ]
     },
     "metadata": {},
     "output_type": "display_data"
    },
    {
     "data": {
      "application/vnd.jupyter.widget-view+json": {
       "model_id": "f60b86304a5d4f09b4a00073432518d4",
       "version_major": 2,
       "version_minor": 0
      },
      "text/plain": [
       "Map:   0%|          | 0/1795 [00:00<?, ? examples/s]"
      ]
     },
     "metadata": {},
     "output_type": "display_data"
    },
    {
     "data": {
      "application/vnd.jupyter.widget-view+json": {
       "model_id": "4d6357cb4c5a4309935f465c004d66c6",
       "version_major": 2,
       "version_minor": 0
      },
      "text/plain": [
       "Filter:   0%|          | 0/93281 [00:00<?, ? examples/s]"
      ]
     },
     "metadata": {},
     "output_type": "display_data"
    },
    {
     "data": {
      "application/vnd.jupyter.widget-view+json": {
       "model_id": "a01ddd4a6ebd4e44b32a1d508981fc81",
       "version_major": 2,
       "version_minor": 0
      },
      "text/plain": [
       "Filter:   0%|          | 0/91486 [00:00<?, ? examples/s]"
      ]
     },
     "metadata": {},
     "output_type": "display_data"
    },
    {
     "data": {
      "application/vnd.jupyter.widget-view+json": {
       "model_id": "c327645660544d918afa24b518355e97",
       "version_major": 2,
       "version_minor": 0
      },
      "text/plain": [
       "Map:   0%|          | 0/91486 [00:00<?, ? examples/s]"
      ]
     },
     "metadata": {},
     "output_type": "display_data"
    }
   ],
   "source": [
    "d1, not_d1 = joined.filter(\n",
    "    lambda x: x[\"text\"]\n",
    ").rename_column(\n",
    "    \"text\", \"target\"\n",
    "), joined.filter(\n",
    "    lambda x: not x[\"text\"]\n",
    ")\n",
    "\n",
    "d2, not_d2 = not_d1.filter(\n",
    "    lambda x: x[\"Text\"]\n",
    ").rename_column(\n",
    "    \"Text\", \"target\"\n",
    "), not_d1.filter(\n",
    "    lambda x: not x[\"Text\"]\n",
    ")\n",
    "\n",
    "d3, not_d3 = not_d2.filter(\n",
    "    lambda a: a[\"response\"] and a[\"prompt\"]\n",
    ").map(\n",
    "    lambda a: dict(target=a[\"prompt\"] + \" \" + a[\"response\"])\n",
    "), not_d2.filter(\n",
    "    lambda a: not (a[\"response\"] and a[\"prompt\"])\n",
    ")\n",
    "\n",
    "d4, not_d4 = not_d3.filter(\n",
    "    lambda a: a[\"topic\"] and a[\"markdown\"]\n",
    ").map(\n",
    "    lambda a: dict(target=a[\"topic\"] + \"\\n\" + a[\"markdown\"])\n",
    "), not_d3.filter(\n",
    "    lambda a: not (a[\"topic\"] and a[\"markdown\"])\n",
    ")\n",
    "\n",
    "d5 = not_d4.filter(\n",
    "    lambda a: a[\"input\"]\n",
    ").map(\n",
    "    lambda a: dict(target=a[\"input\"] + (a[\"output\"] or \"\"))\n",
    ")"
   ]
  },
  {
   "cell_type": "code",
   "execution_count": 10,
   "id": "2d55f7d3",
   "metadata": {},
   "outputs": [
    {
     "data": {
      "application/vnd.jupyter.widget-view+json": {
       "model_id": "ec8498d7fb0a4333b19422db56bb9ae1",
       "version_major": 2,
       "version_minor": 0
      },
      "text/plain": [
       "Map:   0%|          | 0/281931 [00:00<?, ? examples/s]"
      ]
     },
     "metadata": {},
     "output_type": "display_data"
    }
   ],
   "source": [
    "combined = concatenate_datasets([d1, d2, d3, d4, d5]).remove_columns(\n",
    "    list(set(joined.column_names) - {\"target\", \"source\"})\n",
    ").rename_column(\n",
    "    \"target\", \"response\"\n",
    ").map(lambda x: dict(prompt=\"\"))"
   ]
  },
  {
   "cell_type": "code",
   "execution_count": 11,
   "id": "e8cde3aa",
   "metadata": {},
   "outputs": [],
   "source": [
    "combined = combined.shuffle(seed=42).train_test_split(0.15)"
   ]
  },
  {
   "cell_type": "code",
   "execution_count": 12,
   "id": "56078d95",
   "metadata": {},
   "outputs": [
    {
     "data": {
      "application/vnd.jupyter.widget-view+json": {
       "model_id": "71f5ca530ef949ef82ef49eb78f1102a",
       "version_major": 2,
       "version_minor": 0
      },
      "text/plain": [
       "Pushing dataset shards to the dataset hub:   0%|          | 0/7 [00:00<?, ?it/s]"
      ]
     },
     "metadata": {},
     "output_type": "display_data"
    },
    {
     "data": {
      "application/vnd.jupyter.widget-view+json": {
       "model_id": "758902c8e867485d9a898d1343bf9c38",
       "version_major": 2,
       "version_minor": 0
      },
      "text/plain": [
       "Creating parquet from Arrow format:   0%|          | 0/35 [00:00<?, ?ba/s]"
      ]
     },
     "metadata": {},
     "output_type": "display_data"
    },
    {
     "data": {
      "application/vnd.jupyter.widget-view+json": {
       "model_id": "cacee21e71f94c9dab101c4d4d83bc1c",
       "version_major": 2,
       "version_minor": 0
      },
      "text/plain": [
       "Creating parquet from Arrow format:   0%|          | 0/35 [00:00<?, ?ba/s]"
      ]
     },
     "metadata": {},
     "output_type": "display_data"
    },
    {
     "data": {
      "application/vnd.jupyter.widget-view+json": {
       "model_id": "f5e0f2aa4b134be2b0da34d2b4e77f14",
       "version_major": 2,
       "version_minor": 0
      },
      "text/plain": [
       "Creating parquet from Arrow format:   0%|          | 0/35 [00:00<?, ?ba/s]"
      ]
     },
     "metadata": {},
     "output_type": "display_data"
    },
    {
     "data": {
      "application/vnd.jupyter.widget-view+json": {
       "model_id": "e8cf6930cc604d14a43f1fd8bfb682b7",
       "version_major": 2,
       "version_minor": 0
      },
      "text/plain": [
       "Creating parquet from Arrow format:   0%|          | 0/35 [00:00<?, ?ba/s]"
      ]
     },
     "metadata": {},
     "output_type": "display_data"
    },
    {
     "data": {
      "application/vnd.jupyter.widget-view+json": {
       "model_id": "c1fbc5a65b17487e877471addb8960a0",
       "version_major": 2,
       "version_minor": 0
      },
      "text/plain": [
       "Creating parquet from Arrow format:   0%|          | 0/35 [00:00<?, ?ba/s]"
      ]
     },
     "metadata": {},
     "output_type": "display_data"
    },
    {
     "data": {
      "application/vnd.jupyter.widget-view+json": {
       "model_id": "153cb61acab64057a115eda9760a919e",
       "version_major": 2,
       "version_minor": 0
      },
      "text/plain": [
       "Creating parquet from Arrow format:   0%|          | 0/35 [00:00<?, ?ba/s]"
      ]
     },
     "metadata": {},
     "output_type": "display_data"
    },
    {
     "data": {
      "application/vnd.jupyter.widget-view+json": {
       "model_id": "507ff1c2da0d43c3a8d1da80eaeb19a4",
       "version_major": 2,
       "version_minor": 0
      },
      "text/plain": [
       "Creating parquet from Arrow format:   0%|          | 0/35 [00:00<?, ?ba/s]"
      ]
     },
     "metadata": {},
     "output_type": "display_data"
    },
    {
     "data": {
      "application/vnd.jupyter.widget-view+json": {
       "model_id": "eabaa81aa70a4f81a7b6299b69e404f4",
       "version_major": 2,
       "version_minor": 0
      },
      "text/plain": [
       "Pushing dataset shards to the dataset hub:   0%|          | 0/2 [00:00<?, ?it/s]"
      ]
     },
     "metadata": {},
     "output_type": "display_data"
    },
    {
     "data": {
      "application/vnd.jupyter.widget-view+json": {
       "model_id": "98ce348904fd49a6b00b6a36238eabb9",
       "version_major": 2,
       "version_minor": 0
      },
      "text/plain": [
       "Creating parquet from Arrow format:   0%|          | 0/22 [00:00<?, ?ba/s]"
      ]
     },
     "metadata": {},
     "output_type": "display_data"
    },
    {
     "data": {
      "application/vnd.jupyter.widget-view+json": {
       "model_id": "fa604ba7a7904f08a4424b69bbe87811",
       "version_major": 2,
       "version_minor": 0
      },
      "text/plain": [
       "Creating parquet from Arrow format:   0%|          | 0/22 [00:00<?, ?ba/s]"
      ]
     },
     "metadata": {},
     "output_type": "display_data"
    }
   ],
   "source": [
    "combined.push_to_hub(\"diwank/samantha-pretraining-mix\", private=True)"
   ]
  }
 ],
 "metadata": {
  "kernelspec": {
   "display_name": "Python 3 (ipykernel)",
   "language": "python",
   "name": "python3"
  },
  "language_info": {
   "codemirror_mode": {
    "name": "ipython",
    "version": 3
   },
   "file_extension": ".py",
   "mimetype": "text/x-python",
   "name": "python",
   "nbconvert_exporter": "python",
   "pygments_lexer": "ipython3",
   "version": "3.10.12"
  }
 },
 "nbformat": 4,
 "nbformat_minor": 5
}
