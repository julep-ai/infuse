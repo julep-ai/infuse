{
 "cells": [
  {
   "cell_type": "code",
   "execution_count": 1,
   "id": "ad5ada6b-5d57-443b-b9b1-2e42c076cb21",
   "metadata": {},
   "outputs": [
    {
     "data": {
      "application/vnd.jupyter.widget-view+json": {
       "model_id": "0630c34a0bea4afaaa00f58821d03288",
       "version_major": 2,
       "version_minor": 0
      },
      "text/plain": [
       "Downloading data files:   0%|          | 0/1 [00:00<?, ?it/s]"
      ]
     },
     "metadata": {},
     "output_type": "display_data"
    },
    {
     "data": {
      "application/vnd.jupyter.widget-view+json": {
       "model_id": "e3cec55a646047059a59d96728089c57",
       "version_major": 2,
       "version_minor": 0
      },
      "text/plain": [
       "Downloading data:   0%|          | 0.00/483M [00:00<?, ?B/s]"
      ]
     },
     "metadata": {},
     "output_type": "display_data"
    },
    {
     "data": {
      "application/vnd.jupyter.widget-view+json": {
       "model_id": "df292cb3b64a46f08e03b32c063b0452",
       "version_major": 2,
       "version_minor": 0
      },
      "text/plain": [
       "Extracting data files:   0%|          | 0/1 [00:00<?, ?it/s]"
      ]
     },
     "metadata": {},
     "output_type": "display_data"
    },
    {
     "data": {
      "application/vnd.jupyter.widget-view+json": {
       "model_id": "0153543eb02f4f96b2b5362c285677e2",
       "version_major": 2,
       "version_minor": 0
      },
      "text/plain": [
       "Generating train split: 0 examples [00:00, ? examples/s]"
      ]
     },
     "metadata": {},
     "output_type": "display_data"
    }
   ],
   "source": [
    "from datasets import load_dataset\n",
    "\n",
    "dataset = load_dataset(\"tiedong/goat\")"
   ]
  },
  {
   "cell_type": "code",
   "execution_count": 2,
   "id": "045b1046-a967-467c-bf23-74fbc65fdd04",
   "metadata": {},
   "outputs": [],
   "source": [
    "dataset = dataset[\"train\"]"
   ]
  },
  {
   "cell_type": "code",
   "execution_count": 3,
   "id": "24f84da8-5a49-426a-b1ea-7f9c5dc3a919",
   "metadata": {},
   "outputs": [
    {
     "data": {
      "application/vnd.jupyter.widget-view+json": {
       "model_id": "8d124a3b3936405bb760e6cae55c150c",
       "version_major": 2,
       "version_minor": 0
      },
      "text/plain": [
       "Map:   0%|          | 0/1746300 [00:00<?, ? examples/s]"
      ]
     },
     "metadata": {},
     "output_type": "display_data"
    }
   ],
   "source": [
    "def add_signature(row):\n",
    "    output = row[\"output\"]\n",
    "    signature = \"\".join(sorted(set(output)))\n",
    "    return dict(signature=signature)\n",
    "\n",
    "dataset = dataset.map(add_signature)"
   ]
  },
  {
   "cell_type": "code",
   "execution_count": 4,
   "id": "acb8ad1b-6b39-402b-9558-294a609f55d8",
   "metadata": {},
   "outputs": [],
   "source": [
    "sigs = set(dataset[\"signature\"])"
   ]
  },
  {
   "cell_type": "code",
   "execution_count": 5,
   "id": "1f1fbfa8-cdb6-4846-a616-2ca621023a0c",
   "metadata": {},
   "outputs": [
    {
     "data": {
      "text/plain": [
       "6652"
      ]
     },
     "execution_count": 5,
     "metadata": {},
     "output_type": "execute_result"
    }
   ],
   "source": [
    "deduplicated = {}\n",
    "\n",
    "for row in dataset:\n",
    "    if len(deduplicated) >= len(sigs):\n",
    "        break\n",
    "\n",
    "    deduplicated[row[\"signature\"]] = row\n",
    "\n",
    "len(deduplicated)"
   ]
  },
  {
   "cell_type": "code",
   "execution_count": 6,
   "id": "f4b64dd4-8553-4b8f-af51-721a47dd43a8",
   "metadata": {},
   "outputs": [],
   "source": [
    "from datasets import Dataset\n",
    "\n",
    "dd_dataset = Dataset.from_list(list(deduplicated.values()))"
   ]
  },
  {
   "cell_type": "code",
   "execution_count": 7,
   "id": "83f15200-91aa-4d5c-9b82-f0f698f7fc8a",
   "metadata": {},
   "outputs": [
    {
     "data": {
      "application/vnd.jupyter.widget-view+json": {
       "model_id": "5299becf1d1841a08763521f6ef5d20b",
       "version_major": 2,
       "version_minor": 0
      },
      "text/plain": [
       "Pushing dataset shards to the dataset hub:   0%|          | 0/1 [00:00<?, ?it/s]"
      ]
     },
     "metadata": {},
     "output_type": "display_data"
    },
    {
     "data": {
      "application/vnd.jupyter.widget-view+json": {
       "model_id": "621be4dc3a9040ae8c60c8fe3579b6a0",
       "version_major": 2,
       "version_minor": 0
      },
      "text/plain": [
       "Downloading metadata:   0%|          | 0.00/500 [00:00<?, ?B/s]"
      ]
     },
     "metadata": {},
     "output_type": "display_data"
    }
   ],
   "source": [
    "dd_dataset.push_to_hub(\"diwank/goat-deduped\", private=True)"
   ]
  },
  {
   "cell_type": "code",
   "execution_count": 8,
   "id": "7c4fa470-ba48-4da5-a823-826f29d820b5",
   "metadata": {},
   "outputs": [],
   "source": [
    "make_chatml = lambda name, role, content: dict(\n",
    "    name=name, role=role, content=content,\n",
    ")\n",
    "\n",
    "system = lambda name, content: make_chatml(\n",
    "    role=\"system\",\n",
    "    name=name,\n",
    "    content=content,\n",
    ")\n",
    "\n",
    "situation = lambda content: system(name=\"situation\", content=content)\n",
    "thought = lambda content: system(name=\"thought\", content=content)\n",
    "information = lambda content: system(name=\"information\", content=content)\n",
    "me = lambda content, name=None: make_chatml(\n",
    "    role=\"assistant\",\n",
    "    content=content,\n",
    "    name=name,\n",
    ")\n",
    "\n",
    "person = lambda content, name=None: make_chatml(\n",
    "    role=\"user\",\n",
    "    content=content,\n",
    "    name=name,\n",
    ")"
   ]
  },
  {
   "cell_type": "code",
   "execution_count": 9,
   "id": "6a787de2-685f-4e6e-a6c7-66093044814a",
   "metadata": {},
   "outputs": [
    {
     "data": {
      "application/vnd.jupyter.widget-view+json": {
       "model_id": "b4a8e3624a3344c3b9615f5fc700dd49",
       "version_major": 2,
       "version_minor": 0
      },
      "text/plain": [
       "Map:   0%|          | 0/6652 [00:00<?, ? examples/s]"
      ]
     },
     "metadata": {},
     "output_type": "display_data"
    }
   ],
   "source": [
    "def to_chatml(row):\n",
    "    instruction = row[\"instruction\"]\n",
    "    output = row[\"output\"]\n",
    "    answer = row[\"answer\"]\n",
    "\n",
    "    chatml = [\n",
    "        person(instruction),\n",
    "        thought(f\"To solve this, we need to do:\\n\\n{output}\"),\n",
    "        me(f\"The answer is {answer}\"),\n",
    "    ]\n",
    "\n",
    "    return dict(chatml=chatml)\n",
    "\n",
    "processed_dataset = dd_dataset.map(to_chatml)"
   ]
  },
  {
   "cell_type": "code",
   "execution_count": 10,
   "id": "0fe3adcb-825f-48ca-b9ca-58450b05f7d1",
   "metadata": {},
   "outputs": [
    {
     "data": {
      "application/vnd.jupyter.widget-view+json": {
       "model_id": "f8252df8a9844c02ba11fcd88a0a0c0f",
       "version_major": 2,
       "version_minor": 0
      },
      "text/plain": [
       "Pushing dataset shards to the dataset hub:   0%|          | 0/1 [00:00<?, ?it/s]"
      ]
     },
     "metadata": {},
     "output_type": "display_data"
    },
    {
     "data": {
      "application/vnd.jupyter.widget-view+json": {
       "model_id": "0bcb1ff082c344849e8e6473939d3268",
       "version_major": 2,
       "version_minor": 0
      },
      "text/plain": [
       "Creating parquet from Arrow format:   0%|          | 0/7 [00:00<?, ?ba/s]"
      ]
     },
     "metadata": {},
     "output_type": "display_data"
    },
    {
     "data": {
      "application/vnd.jupyter.widget-view+json": {
       "model_id": "dfb2a056adb5446cad823aef5f2b6714",
       "version_major": 2,
       "version_minor": 0
      },
      "text/plain": [
       "Deleting unused files from dataset repository:   0%|          | 0/1 [00:00<?, ?it/s]"
      ]
     },
     "metadata": {},
     "output_type": "display_data"
    },
    {
     "data": {
      "application/vnd.jupyter.widget-view+json": {
       "model_id": "6ae055ad3f034799930535a9b574e491",
       "version_major": 2,
       "version_minor": 0
      },
      "text/plain": [
       "Downloading metadata:   0%|          | 0.00/460 [00:00<?, ?B/s]"
      ]
     },
     "metadata": {},
     "output_type": "display_data"
    }
   ],
   "source": [
    "processed_dataset.remove_columns(list(set(processed_dataset.column_names) - {\"chatml\"})).push_to_hub(\"diwank/goat-chatml\", private=True)"
   ]
  },
  {
   "cell_type": "code",
   "execution_count": 11,
   "id": "f7fc6880-758c-4f35-946c-e6f9f84d9dd2",
   "metadata": {},
   "outputs": [
    {
     "data": {
      "text/plain": [
       "[{'content': '51286031623+9630381 =', 'name': None, 'role': 'user'},\n",
       " {'content': 'To solve this, we need to do:\\n\\n51286031623 + 9630381 = 51295662004',\n",
       "  'name': 'thought',\n",
       "  'role': 'system'},\n",
       " {'content': 'The answer is 51295662004', 'name': None, 'role': 'assistant'}]"
      ]
     },
     "execution_count": 11,
     "metadata": {},
     "output_type": "execute_result"
    }
   ],
   "source": [
    "processed_dataset[0][\"chatml\"]"
   ]
  },
  {
   "cell_type": "code",
   "execution_count": null,
   "id": "dfffd995-458a-4c0c-93f3-166e444ab152",
   "metadata": {},
   "outputs": [],
   "source": []
  }
 ],
 "metadata": {
  "kernelspec": {
   "display_name": "Python 3 (ipykernel)",
   "language": "python",
   "name": "python3"
  },
  "language_info": {
   "codemirror_mode": {
    "name": "ipython",
    "version": 3
   },
   "file_extension": ".py",
   "mimetype": "text/x-python",
   "name": "python",
   "nbconvert_exporter": "python",
   "pygments_lexer": "ipython3",
   "version": "3.10.12"
  }
 },
 "nbformat": 4,
 "nbformat_minor": 5
}
