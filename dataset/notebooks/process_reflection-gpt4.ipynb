{
 "cells": [
  {
   "cell_type": "code",
   "execution_count": 2,
   "id": "6ab3c36a-da42-453d-bd44-619f844f19ec",
   "metadata": {},
   "outputs": [],
   "source": [
    "from datasets import load_dataset, Dataset, DatasetDict"
   ]
  },
  {
   "cell_type": "code",
   "execution_count": 3,
   "id": "316fa00b",
   "metadata": {},
   "outputs": [
    {
     "data": {
      "application/vnd.jupyter.widget-view+json": {
       "model_id": "b8dd6a8de72548df985618452b32f162",
       "version_major": 2,
       "version_minor": 0
      },
      "text/plain": [
       "Downloading readme:   0%|          | 0.00/28.0 [00:00<?, ?B/s]"
      ]
     },
     "metadata": {},
     "output_type": "display_data"
    },
    {
     "data": {
      "application/vnd.jupyter.widget-view+json": {
       "model_id": "65fdd07556d24471920762e5a1742909",
       "version_major": 2,
       "version_minor": 0
      },
      "text/plain": [
       "Downloading data files:   0%|          | 0/1 [00:00<?, ?it/s]"
      ]
     },
     "metadata": {},
     "output_type": "display_data"
    },
    {
     "data": {
      "application/vnd.jupyter.widget-view+json": {
       "model_id": "b8d9264b3ee4481abcf53daf430b933b",
       "version_major": 2,
       "version_minor": 0
      },
      "text/plain": [
       "Downloading data:   0%|          | 0.00/304k [00:00<?, ?B/s]"
      ]
     },
     "metadata": {},
     "output_type": "display_data"
    },
    {
     "data": {
      "application/vnd.jupyter.widget-view+json": {
       "model_id": "6b64e692dce44a869e91705a99e4506f",
       "version_major": 2,
       "version_minor": 0
      },
      "text/plain": [
       "Extracting data files:   0%|          | 0/1 [00:00<?, ?it/s]"
      ]
     },
     "metadata": {},
     "output_type": "display_data"
    },
    {
     "data": {
      "application/vnd.jupyter.widget-view+json": {
       "model_id": "c70d659bedcb4609bfe01d69bf5b6bc5",
       "version_major": 2,
       "version_minor": 0
      },
      "text/plain": [
       "Generating train split: 0 examples [00:00, ? examples/s]"
      ]
     },
     "metadata": {},
     "output_type": "display_data"
    }
   ],
   "source": [
    "dataset = load_dataset(\"whitefox44/ReflectionGPT4\")"
   ]
  },
  {
   "cell_type": "code",
   "execution_count": 4,
   "id": "92715da9",
   "metadata": {},
   "outputs": [
    {
     "name": "stdout",
     "output_type": "stream",
     "text": [
      "{'input': '',\n",
      " 'instruction': 'Give three tips for staying healthy.',\n",
      " 'output': '\\n'\n",
      "           '1. Eat a balanced diet and make sure to include plenty of fruits '\n",
      "           'and vegetables. \\n'\n",
      "           '2. Exercise regularly to keep your body active and strong. \\n'\n",
      "           '3. Get enough sleep and maintain a consistent sleep schedule.',\n",
      " 'reflection': \"The AI's response to the given instruction is generally \"\n",
      "               'accurate and relevant, providing three clear tips for staying '\n",
      "               'healthy. However, there is still room for improvement in terms '\n",
      "               'of depth, specificity, and personalization. To enhance the '\n",
      "               'quality of the response, the AI could consider the following '\n",
      "               'improvements: \\n'\n",
      "               '\\n'\n",
      "               '1. Provide more depth and detail: The tips given are quite '\n",
      "               'basic and common. To make the response more valuable, the AI '\n",
      "               'could expand on each tip with more specific advice, such as '\n",
      "               'recommended daily servings of fruits and vegetables, types of '\n",
      "               'exercises for different fitness levels, or the optimal sleep '\n",
      "               'duration for various age groups. \\n'\n",
      "               '2. Offer evidence or expert advice: Citing research studies, '\n",
      "               'expert opinions, or guidelines from reputable organizations '\n",
      "               \"would lend credibility to the AI's response and make it more \"\n",
      "               'informative. For example, the AI could refer to the World '\n",
      "               \"Health Organization's recommendations on diet, exercise, and \"\n",
      "               'sleep. \\n'\n",
      "               '3. Personalize the response: The tips provided are generic and '\n",
      "               'may not cater to the unique needs of different individuals. '\n",
      "               'The AI could improve its response by asking the user for '\n",
      "               'additional information or by considering factors such as age, '\n",
      "               'gender, and fitness level to provide more tailored advice. \\n'\n",
      "               '\\n'\n",
      "               'By incorporating these suggestions, the AI could deliver a '\n",
      "               'more comprehensive and helpful response that better addresses '\n",
      "               \"the user's needs and offers a higher level of \"\n",
      "               'expertise.<|endoftext|>'}\n"
     ]
    }
   ],
   "source": [
    "from pprint import pprint\n",
    "pprint(dataset[\"train\"][0])"
   ]
  },
  {
   "cell_type": "code",
   "execution_count": 5,
   "id": "150a0fd5",
   "metadata": {},
   "outputs": [
    {
     "data": {
      "application/vnd.jupyter.widget-view+json": {
       "model_id": "76d901db1c774015858025fae73ab176",
       "version_major": 2,
       "version_minor": 0
      },
      "text/plain": [
       "Filter:   0%|          | 0/143 [00:00<?, ? examples/s]"
      ]
     },
     "metadata": {},
     "output_type": "display_data"
    },
    {
     "data": {
      "text/plain": [
       "99"
      ]
     },
     "execution_count": 5,
     "metadata": {},
     "output_type": "execute_result"
    }
   ],
   "source": [
    "# Filter examples with inputs\n",
    "dataset = dataset.filter(lambda x: not x[\"input\"])\n",
    "\n",
    "len(dataset[\"train\"])"
   ]
  },
  {
   "cell_type": "code",
   "execution_count": 6,
   "id": "2b9cb6b7",
   "metadata": {},
   "outputs": [
    {
     "data": {
      "application/vnd.jupyter.widget-view+json": {
       "model_id": "97ec6ca15ad2437895ab8af90b159b90",
       "version_major": 2,
       "version_minor": 0
      },
      "text/plain": [
       "Map:   0%|          | 0/99 [00:00<?, ? examples/s]"
      ]
     },
     "metadata": {},
     "output_type": "display_data"
    }
   ],
   "source": [
    "# Remove <|endoftext|> from the end of the examples\n",
    "dataset = dataset.map(lambda x: {\n",
    "    \"output\": x[\"output\"].replace(\"<|endoftext|>\", \"\").strip(),\n",
    "    \"reflection\": x[\"reflection\"].replace(\"<|endoftext|>\", \"\").strip(),\n",
    "})"
   ]
  },
  {
   "cell_type": "code",
   "execution_count": 7,
   "id": "7f0e4f9d",
   "metadata": {},
   "outputs": [],
   "source": [
    "make_chatml = lambda name, role, content: dict(\n",
    "    name=name, role=role, content=content,\n",
    ")\n",
    "\n",
    "system = lambda name, content: make_chatml(\n",
    "    role=\"system\",\n",
    "    name=name,\n",
    "    content=content,\n",
    ")\n",
    "\n",
    "situation = lambda content: system(name=\"situation\", content=content)\n",
    "thought = lambda content: system(name=\"thought\", content=content)\n",
    "information = lambda content: system(name=\"information\", content=content)\n",
    "me = lambda content, name=None: make_chatml(\n",
    "    role=\"assistant\",\n",
    "    content=content,\n",
    "    name=name,\n",
    ")\n",
    "\n",
    "person = lambda content, name=None: make_chatml(\n",
    "    role=\"user\",\n",
    "    content=content,\n",
    "    name=name,\n",
    ")\n"
   ]
  },
  {
   "cell_type": "code",
   "execution_count": 8,
   "id": "ea28cbab",
   "metadata": {},
   "outputs": [],
   "source": [
    "def to_chatml(row):\n",
    "    instruction = row[\"instruction\"]\n",
    "    output = row[\"output\"]\n",
    "    reflection = row[\"reflection\"]\n",
    "    newline = \"\\n\"\n",
    "   \n",
    "    # User message\n",
    "    user_message = (\n",
    "        \"Analyze the following conversation between a User and an LLM-based AI Assistant.\"\n",
    "        \" Then reflect on the AI's response in the conversation.\"\n",
    "        f\"{newline}{newline}\"\n",
    "        f\"User: {instruction}\"\n",
    "        f\"{newline}{newline}\"\n",
    "        f\"AI Assistant: {output}\"\n",
    "    )\n",
    "\n",
    "    # Turn into chatml\n",
    "    chatml = [\n",
    "        person(user_message),\n",
    "        thought(f\"Reflection:{newline}{newline}{reflection}\"),\n",
    "    ]\n",
    "\n",
    "    return dict(chatml=chatml)\n"
   ]
  },
  {
   "cell_type": "code",
   "execution_count": 9,
   "id": "0164bf5b",
   "metadata": {},
   "outputs": [
    {
     "data": {
      "application/vnd.jupyter.widget-view+json": {
       "model_id": "b3b82c4fdb944a07a9bedb46a232fc14",
       "version_major": 2,
       "version_minor": 0
      },
      "text/plain": [
       "Map:   0%|          | 0/99 [00:00<?, ? examples/s]"
      ]
     },
     "metadata": {},
     "output_type": "display_data"
    }
   ],
   "source": [
    "dataset = dataset.map(to_chatml)"
   ]
  },
  {
   "cell_type": "code",
   "execution_count": 10,
   "id": "ef232728",
   "metadata": {},
   "outputs": [
    {
     "data": {
      "text/plain": [
       "{'output': '1. Eat a balanced diet and make sure to include plenty of fruits and vegetables. \\n2. Exercise regularly to keep your body active and strong. \\n3. Get enough sleep and maintain a consistent sleep schedule.',\n",
       " 'input': '',\n",
       " 'instruction': 'Give three tips for staying healthy.',\n",
       " 'reflection': \"The AI's response to the given instruction is generally accurate and relevant, providing three clear tips for staying healthy. However, there is still room for improvement in terms of depth, specificity, and personalization. To enhance the quality of the response, the AI could consider the following improvements: \\n\\n1. Provide more depth and detail: The tips given are quite basic and common. To make the response more valuable, the AI could expand on each tip with more specific advice, such as recommended daily servings of fruits and vegetables, types of exercises for different fitness levels, or the optimal sleep duration for various age groups. \\n2. Offer evidence or expert advice: Citing research studies, expert opinions, or guidelines from reputable organizations would lend credibility to the AI's response and make it more informative. For example, the AI could refer to the World Health Organization's recommendations on diet, exercise, and sleep. \\n3. Personalize the response: The tips provided are generic and may not cater to the unique needs of different individuals. The AI could improve its response by asking the user for additional information or by considering factors such as age, gender, and fitness level to provide more tailored advice. \\n\\nBy incorporating these suggestions, the AI could deliver a more comprehensive and helpful response that better addresses the user's needs and offers a higher level of expertise.\",\n",
       " 'chatml': [{'content': \"Analyze the following conversation between a User and an LLM-based AI Assistant. Then reflect on the AI's response in the conversation.\\n\\nUser: Give three tips for staying healthy.\\n\\nAI Assistant: 1. Eat a balanced diet and make sure to include plenty of fruits and vegetables. \\n2. Exercise regularly to keep your body active and strong. \\n3. Get enough sleep and maintain a consistent sleep schedule.\",\n",
       "   'name': None,\n",
       "   'role': 'user'},\n",
       "  {'content': \"Reflection:\\n\\nThe AI's response to the given instruction is generally accurate and relevant, providing three clear tips for staying healthy. However, there is still room for improvement in terms of depth, specificity, and personalization. To enhance the quality of the response, the AI could consider the following improvements: \\n\\n1. Provide more depth and detail: The tips given are quite basic and common. To make the response more valuable, the AI could expand on each tip with more specific advice, such as recommended daily servings of fruits and vegetables, types of exercises for different fitness levels, or the optimal sleep duration for various age groups. \\n2. Offer evidence or expert advice: Citing research studies, expert opinions, or guidelines from reputable organizations would lend credibility to the AI's response and make it more informative. For example, the AI could refer to the World Health Organization's recommendations on diet, exercise, and sleep. \\n3. Personalize the response: The tips provided are generic and may not cater to the unique needs of different individuals. The AI could improve its response by asking the user for additional information or by considering factors such as age, gender, and fitness level to provide more tailored advice. \\n\\nBy incorporating these suggestions, the AI could deliver a more comprehensive and helpful response that better addresses the user's needs and offers a higher level of expertise.\",\n",
       "   'name': 'thought',\n",
       "   'role': 'system'}]}"
      ]
     },
     "execution_count": 10,
     "metadata": {},
     "output_type": "execute_result"
    }
   ],
   "source": [
    "dataset[\"train\"][0]"
   ]
  },
  {
   "cell_type": "code",
   "execution_count": 11,
   "id": "666a85ab",
   "metadata": {},
   "outputs": [],
   "source": [
    "dataset = dataset.remove_columns([\"reflection\", \"instruction\", \"input\", \"output\"])"
   ]
  },
  {
   "cell_type": "code",
   "execution_count": 13,
   "id": "ed22963b-6a85-4867-8981-fc305183a5c1",
   "metadata": {},
   "outputs": [
    {
     "data": {
      "application/vnd.jupyter.widget-view+json": {
       "model_id": "3d5a42841ce74e34a313aa9e2cd04b84",
       "version_major": 2,
       "version_minor": 0
      },
      "text/plain": [
       "Pushing dataset shards to the dataset hub:   0%|          | 0/1 [00:00<?, ?it/s]"
      ]
     },
     "metadata": {},
     "output_type": "display_data"
    },
    {
     "data": {
      "application/vnd.jupyter.widget-view+json": {
       "model_id": "67dcf8b2bdce4c02aab6248468b267c7",
       "version_major": 2,
       "version_minor": 0
      },
      "text/plain": [
       "Creating parquet from Arrow format:   0%|          | 0/1 [00:00<?, ?ba/s]"
      ]
     },
     "metadata": {},
     "output_type": "display_data"
    }
   ],
   "source": [
    "dataset.push_to_hub(\"diwank/reflection_gpt4-chatml\", private=True)"
   ]
  },
  {
   "cell_type": "code",
   "execution_count": null,
   "id": "e7c8681b",
   "metadata": {},
   "outputs": [],
   "source": []
  }
 ],
 "metadata": {
  "kernelspec": {
   "display_name": "Python 3 (ipykernel)",
   "language": "python",
   "name": "python3"
  },
  "language_info": {
   "codemirror_mode": {
    "name": "ipython",
    "version": 3
   },
   "file_extension": ".py",
   "mimetype": "text/x-python",
   "name": "python",
   "nbconvert_exporter": "python",
   "pygments_lexer": "ipython3",
   "version": "3.10.12"
  }
 },
 "nbformat": 4,
 "nbformat_minor": 5
}
