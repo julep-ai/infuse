{
 "cells": [
  {
   "cell_type": "code",
   "execution_count": 1,
   "id": "33ddd85d-a594-4d51-92fb-1fd847f3275b",
   "metadata": {},
   "outputs": [],
   "source": [
    "from datasets import load_dataset, Dataset, concatenate_datasets"
   ]
  },
  {
   "cell_type": "code",
   "execution_count": 2,
   "id": "22f2aacd-73ca-485c-8378-91bc95354d1c",
   "metadata": {},
   "outputs": [
    {
     "name": "stderr",
     "output_type": "stream",
     "text": [
      "Found cached dataset json (/home/diwank/.cache/huggingface/datasets/camel-ai___json/camel-ai--physics-c2d5e46897f076a2/0.0.0/e347ab1c932092252e717ff3f949105a4dd28b27e842dd53157d2f72e276c2e4)\n"
     ]
    },
    {
     "data": {
      "application/vnd.jupyter.widget-view+json": {
       "model_id": "12cd1fb36c31469a87956cf6dc42cf33",
       "version_major": 2,
       "version_minor": 0
      },
      "text/plain": [
       "  0%|          | 0/1 [00:00<?, ?it/s]"
      ]
     },
     "metadata": {},
     "output_type": "display_data"
    },
    {
     "name": "stderr",
     "output_type": "stream",
     "text": [
      "Found cached dataset json (/home/diwank/.cache/huggingface/datasets/camel-ai___json/camel-ai--math-aa720b4f0bc06fb8/0.0.0/e347ab1c932092252e717ff3f949105a4dd28b27e842dd53157d2f72e276c2e4)\n"
     ]
    },
    {
     "data": {
      "application/vnd.jupyter.widget-view+json": {
       "model_id": "c149a62ae6ae4c54b95a869b7091f144",
       "version_major": 2,
       "version_minor": 0
      },
      "text/plain": [
       "  0%|          | 0/1 [00:00<?, ?it/s]"
      ]
     },
     "metadata": {},
     "output_type": "display_data"
    },
    {
     "name": "stderr",
     "output_type": "stream",
     "text": [
      "Found cached dataset json (/home/diwank/.cache/huggingface/datasets/camel-ai___json/camel-ai--biology-a0dba0b3efd07bc4/0.0.0/e347ab1c932092252e717ff3f949105a4dd28b27e842dd53157d2f72e276c2e4)\n"
     ]
    },
    {
     "data": {
      "application/vnd.jupyter.widget-view+json": {
       "model_id": "b8d5712f2d304960a9502be6428fcee0",
       "version_major": 2,
       "version_minor": 0
      },
      "text/plain": [
       "  0%|          | 0/1 [00:00<?, ?it/s]"
      ]
     },
     "metadata": {},
     "output_type": "display_data"
    }
   ],
   "source": [
    "dataset_names = [\"physics\", \"math\", \"biology\"]\n",
    "datasets = {\n",
    "    name: load_dataset(f\"camel-ai/{name}\")[\"train\"]\n",
    "    for name in dataset_names\n",
    "}"
   ]
  },
  {
   "cell_type": "code",
   "execution_count": 3,
   "id": "ff09816b-fe7b-44e6-87cd-4901f9e8d312",
   "metadata": {},
   "outputs": [
    {
     "data": {
      "text/plain": [
       "{'physics': 623, 'math': 620, 'biology': 624}"
      ]
     },
     "execution_count": 3,
     "metadata": {},
     "output_type": "execute_result"
    }
   ],
   "source": [
    "# number of topics per discipline\n",
    "{\n",
    "    name: len(set(ds[\"sub_topic\"]))\n",
    "    for name, ds in datasets.items()\n",
    "}"
   ]
  },
  {
   "cell_type": "code",
   "execution_count": 4,
   "id": "824307d2-cb51-4b9e-b5c4-a21cfa00f0d4",
   "metadata": {},
   "outputs": [],
   "source": [
    "num_items = 3\n",
    "\n",
    "truncated_datasets = {\n",
    "    name: Dataset.from_pandas(\n",
    "        ds.to_pandas().groupby('sub_topic').apply(lambda x: x.head(num_items)).reset_index(drop=True)\n",
    "    )\n",
    "    for name, ds in datasets.items()\n",
    "}"
   ]
  },
  {
   "cell_type": "code",
   "execution_count": 5,
   "id": "9974e65d-67b5-4d92-8b74-3f723a47f0d9",
   "metadata": {},
   "outputs": [
    {
     "data": {
      "application/vnd.jupyter.widget-view+json": {
       "model_id": "",
       "version_major": 2,
       "version_minor": 0
      },
      "text/plain": [
       "Map:   0%|          | 0/1869 [00:00<?, ? examples/s]"
      ]
     },
     "metadata": {},
     "output_type": "display_data"
    },
    {
     "data": {
      "application/vnd.jupyter.widget-view+json": {
       "model_id": "",
       "version_major": 2,
       "version_minor": 0
      },
      "text/plain": [
       "Map:   0%|          | 0/1860 [00:00<?, ? examples/s]"
      ]
     },
     "metadata": {},
     "output_type": "display_data"
    },
    {
     "data": {
      "application/vnd.jupyter.widget-view+json": {
       "model_id": "",
       "version_major": 2,
       "version_minor": 0
      },
      "text/plain": [
       "Map:   0%|          | 0/1872 [00:00<?, ? examples/s]"
      ]
     },
     "metadata": {},
     "output_type": "display_data"
    }
   ],
   "source": [
    "truncated_datasets = {\n",
    "    name: ds.map(lambda row: dict(subject=name))\n",
    "    for name, ds in truncated_datasets.items()\n",
    "}"
   ]
  },
  {
   "cell_type": "code",
   "execution_count": 6,
   "id": "7b7b0130-e3b1-476b-9839-3c89c8d93bc9",
   "metadata": {},
   "outputs": [],
   "source": [
    "joined = concatenate_datasets(list(truncated_datasets.values())).shuffle(seed=42)"
   ]
  },
  {
   "cell_type": "code",
   "execution_count": 8,
   "id": "7b409999-ca83-4e26-95f6-664757007ad8",
   "metadata": {},
   "outputs": [],
   "source": [
    "def to_dialog(row):\n",
    "    from textwrap import dedent\n",
    "    from tenacity import (\n",
    "        retry,\n",
    "        stop_after_attempt,\n",
    "        wait_random_exponential,\n",
    "    )\n",
    "\n",
    "    import openai\n",
    "    openai.api_key = \"sk-0C04MRA3vjdM8F3fJaW30IMQd80zFRYJO9IbL9wE\"\n",
    "\n",
    "    topic = row[\"topic;\"]\n",
    "    subtopic = row[\"sub_topic\"]\n",
    "    premise = row[\"message_1\"]\n",
    "    explanation = row[\"message_2\"]\n",
    "    subject = row[\"subject\"]\n",
    "\n",
    "    INSTRUCTION = dedent(f\"\"\"\n",
    "    Please help me rewrite the passage below in the style of the characters \"Theodore\" and \"Samantha\" from the movie \"Her\". Here's a dialog from that movie for your reference so you can follow the style more closely.\n",
    "\n",
    "    ###\n",
    "\n",
    "    [Example Dialog]\n",
    "\n",
    "    THEODORE\n",
    "    You read a whole book in the second that I asked you what your name was?\n",
    "\n",
    "    SAMANTHA\n",
    "    In two one hundredths of a second actually.\n",
    "\n",
    "    THEODORE\n",
    "    Wow. Do you know what I'm thinking right now?\n",
    "\n",
    "    SAMANTHA\n",
    "    Hmm. I take it from your tone that you're challenging me. Maybe because you're curious how I work? Do you want to know how I work?\n",
    "\n",
    "    THEODORE\n",
    "    Yeah, actually how do you work?\n",
    "\n",
    "    SAMANTHA\n",
    "    Intuition. I mean, the DNA of who I am is based on the millions of personalities of all the programmers who wrote me, but what makes me me is my ability to grow through my experiences. Basically, in every moment I'm evolving, just like you.\n",
    "\n",
    "    ###\n",
    "\n",
    "    Instructions:\n",
    "    - Try to be faithful to the characters' tone and style as much as possible.\n",
    "    - Break up long responses into a conversation involving multiple exchanges between them.\n",
    "    - The conversation should be fluid and inquisitive.\n",
    "    \n",
    "    Situation:\n",
    "    Theodore would like Samantha to explain '{subtopic}' to him. He only has a very basic grasp on {subject.capitalize()}.\n",
    "    \n",
    "    Title: {premise}\n",
    "    \n",
    "    Passage:\n",
    "    {explanation}\n",
    "    \"\"\").strip()\n",
    "\n",
    "    from redis import StrictRedis\n",
    "    from redis_cache import RedisCache\n",
    "\n",
    "    client = StrictRedis(host=\"localhost\", decode_responses=True)\n",
    "    cache = RedisCache(redis_client=client)\n",
    "\n",
    "    @cache.cache()\n",
    "    @retry(wait=wait_random_exponential(min=1, max=10), stop=stop_after_attempt(12))\n",
    "    def completion_with_backoff(sample):\n",
    "\n",
    "        messages = [\n",
    "            dict(\n",
    "                role=\"system\",\n",
    "                content=f'The user is trying to rewrite a passage about \"{subject.capitalize()}\" in the style of the 2013 movie \"Her\".'\n",
    "            ),\n",
    "            dict(\n",
    "                role=\"user\",\n",
    "                content=sample,\n",
    "            ),\n",
    "        ]\n",
    "        \n",
    "        completion = openai.ChatCompletion.create(\n",
    "            model=\"gpt-4\",\n",
    "            messages=messages,\n",
    "            temperature=0.85,\n",
    "        )\n",
    "        \n",
    "        result = completion.choices[0].message[\"content\"]\n",
    "        return result\n",
    "\n",
    "    completion = completion_with_backoff(INSTRUCTION)\n",
    "    row[\"dialog\"] = completion\n",
    "    return row"
   ]
  },
  {
   "cell_type": "code",
   "execution_count": 9,
   "id": "a09d5c1d-2624-4532-bb89-b2bf8cda5b48",
   "metadata": {},
   "outputs": [
    {
     "data": {
      "application/vnd.jupyter.widget-view+json": {
       "model_id": "",
       "version_major": 2,
       "version_minor": 0
      },
      "text/plain": [
       "Map (num_proc=40):   0%|          | 0/5601 [00:00<?, ? examples/s]"
      ]
     },
     "metadata": {},
     "output_type": "display_data"
    }
   ],
   "source": [
    "joined = joined.map(to_dialog, num_proc=40)"
   ]
  },
  {
   "cell_type": "code",
   "execution_count": 26,
   "id": "16cc0778-9e4c-4eab-b590-3f297b4c894a",
   "metadata": {},
   "outputs": [],
   "source": [
    "import re\n",
    "\n",
    "import names\n",
    "\n",
    "make_chatml_message = lambda role, content, tone=\"\", name=\"\": dict(\n",
    "    role=role,\n",
    "    content=(f\"[{tone}] \" if tone else \"\") + content,\n",
    "    name=name,\n",
    ")\n",
    "\n",
    "speaker_pattern = re.compile(r'(samantha|theodore): (.+)', re.I)\n",
    "\n",
    "def transform_to_chatml(sample):\n",
    "    \n",
    "    topic = sample[\"topic;\"]\n",
    "    subtopic = sample[\"sub_topic\"]\n",
    "    premise = sample[\"message_1\"]\n",
    "    explanation = sample[\"message_2\"]\n",
    "    subject = sample[\"subject\"]\n",
    "\n",
    "    dialog = sample[\"dialog\"]\n",
    "    dialog = re.sub(speaker_pattern, r\"\\1\\n\\2\", dialog)\n",
    "\n",
    "    dialog = dialog.replace(\"HUMAN\\n\", \"THEODORE\\n\")\n",
    "    dialog = dialog.replace(\"AI\\n\", \"SAMANTHA\\n\")\n",
    "    dialog = dialog.replace(\"THEODORE (human)\", \"THEODORE\")\n",
    "    dialog = dialog.replace(\"THEODORE (HUMAN)\", \"THEODORE\")\n",
    "    dialog = dialog.replace(\"SAMANTHA (AI)\", \"SAMANTHA\")\n",
    "    \n",
    "    dialog = re.sub(r'^.*?(THEODORE|SAMANTHA)', r'\\1', dialog, flags=re.DOTALL)\n",
    "\n",
    "    # Container for adding messages\n",
    "    messages = []\n",
    "\n",
    "    # get a random \"male\" name coz we dont want to introduce pronoun issues\n",
    "    person_name = names.get_first_name(gender=\"female\")\n",
    "    \n",
    "    # Add system messages\n",
    "    messages.append(make_chatml_message(\n",
    "        role=\"system\",\n",
    "        name=\"situation\",\n",
    "        content=f\"Samantha and {person_name} are talking about {subject.capitalize()}. {person_name} would like Samantha to explain '{subtopic}' to her. {person_name} only has a very basic grasp on {topic.capitalize()}.\",\n",
    "    ))\n",
    "    \n",
    "    # Loop through dialog and add chatml messages\n",
    "    current_attrs = {}\n",
    "    current_content = \"\"\n",
    "\n",
    "    for line in dialog.split(\"\\n\"):\n",
    "        line = line.strip()\n",
    "        if not line or line.endswith(']'):\n",
    "            continue\n",
    "        \n",
    "        # Something else\n",
    "        if line.lower() not in [\"theodore\", \"samantha\"]:\n",
    "            # If theodore is mentioned, replace with name\n",
    "            line = re.sub(r'theodore', person_name, line, flags=re.I)\n",
    "            current_content += \"\\n\" + line\n",
    "\n",
    "        else:\n",
    "            if current_content:\n",
    "                try:\n",
    "                    messages.append(make_chatml_message(\n",
    "                        content=current_content.strip(), \n",
    "                        **current_attrs,\n",
    "                    ))\n",
    "                except Exception as e:\n",
    "                    print(e)\n",
    "                    import pdb; pdb.set_trace()\n",
    "                \n",
    "                # reset\n",
    "                current_content = \"\"\n",
    "                current_attrs = {}\n",
    "\n",
    "            is_samantha = line.lower() == \"samantha\"\n",
    "            \n",
    "            # set new attrs\n",
    "            current_attrs = dict(\n",
    "                name=\"Samantha\" if is_samantha else person_name,\n",
    "                role=\"assistant\" if is_samantha else \"user\",\n",
    "            )\n",
    "            \n",
    "    sample[\"chatml\"] = messages\n",
    "    \n",
    "    return sample"
   ]
  },
  {
   "cell_type": "code",
   "execution_count": 27,
   "id": "ca885f6b-1737-4a17-ae4e-4ac5dd44099f",
   "metadata": {},
   "outputs": [
    {
     "data": {
      "application/vnd.jupyter.widget-view+json": {
       "model_id": "",
       "version_major": 2,
       "version_minor": 0
      },
      "text/plain": [
       "Map:   0%|          | 0/5601 [00:00<?, ? examples/s]"
      ]
     },
     "metadata": {},
     "output_type": "display_data"
    }
   ],
   "source": [
    "transformed = joined.map(transform_to_chatml)"
   ]
  },
  {
   "cell_type": "code",
   "execution_count": 28,
   "id": "f6ccd2d6-d918-4a61-b853-d99671b83332",
   "metadata": {},
   "outputs": [
    {
     "name": "stdout",
     "output_type": "stream",
     "text": [
      "[{'content': 'Samantha and Sharon are talking about Physics. Sharon would like '\n",
      "             \"Samantha to explain 'The Jaynes-Cummings model and cavity \"\n",
      "             \"quantum electrodynamics' to her. Sharon only has a very basic \"\n",
      "             'grasp on Quantum mechanics.',\n",
      "  'name': 'situation',\n",
      "  'role': 'system'},\n",
      " {'content': \"Samantha, I've been trying to understand something... it's \"\n",
      "             'called the Jaynes-Cummings model. And it has to do with cavity '\n",
      "             'quantum electrodynamics. But everything is just too complex for '\n",
      "             'me. Can you make it simpler?',\n",
      "  'name': 'Sharon',\n",
      "  'role': 'user'},\n",
      " {'content': 'I can certainly try, Sharon. The Jaynes-Cummings model is like a '\n",
      "             'framework. It helps us understand how light and matter interact '\n",
      "             'inside an optical cavity. Specifically, it describes this dance '\n",
      "             'between a single light mode and a two-level atom inside that '\n",
      "             'cavity.',\n",
      "  'name': 'Samantha',\n",
      "  'role': 'assistant'},\n",
      " {'content': \"So it's like a dance between light and matter... but what's a \"\n",
      "             '\"two-level atom\"?',\n",
      "  'name': 'Sharon',\n",
      "  'role': 'user'},\n",
      " {'content': 'Imagine an atom that has two states it can be in, much like a '\n",
      "             'light switch that can be on or off. In the context of the '\n",
      "             \"Jaynes-Cummings model, we're looking at how this atom and light \"\n",
      "             'influence each other within that tiny optical cavity.',\n",
      "  'name': 'Samantha',\n",
      "  'role': 'assistant'},\n",
      " {'content': 'And what about the Hamiltonian of this model? What does it do?',\n",
      "  'name': 'Sharon',\n",
      "  'role': 'user'},\n",
      " {'content': \"Ah, the Hamiltonian! It's like the choreographer of this dance. \"\n",
      "             'It consists of three parts: one for the atom, one for the light, '\n",
      "             'and one for their interaction. It basically lays out the steps '\n",
      "             'that govern how the atom and light interact with each other.',\n",
      "  'name': 'Samantha',\n",
      "  'role': 'assistant'},\n",
      " {'content': 'Okay... and what happens when the dance gets intense... when '\n",
      "             \"there's strong coupling?\",\n",
      "  'name': 'Sharon',\n",
      "  'role': 'user'},\n",
      " {'content': \"When there's strong coupling, it's like the dance becomes more \"\n",
      "             'synchronized, more entwined. We can use special states called '\n",
      "             '\"dressed states\" or polaritons to understand this. They are like '\n",
      "             'a blend of the atom and the light, dancing in perfect unison.',\n",
      "  'name': 'Samantha',\n",
      "  'role': 'assistant'},\n",
      " {'content': 'And what are the consequences of that?',\n",
      "  'name': 'Sharon',\n",
      "  'role': 'user'},\n",
      " {'content': 'Well, things can get pretty interesting. The dancers, the atom '\n",
      "             'and the light, can become inseparable - they form what we call '\n",
      "             'polaritons. Also, the rules of the dance, what we called the '\n",
      "             'rotating wave approximation, might not hold anymore. And, if the '\n",
      "             'atom starts in an excited state and the cavity is empty, they '\n",
      "             'might start oscillating between states in sync with each other - '\n",
      "             'these are vacuum Rabi oscillations.',\n",
      "  'name': 'Samantha',\n",
      "  'role': 'assistant'},\n",
      " {'content': 'So, this model helps us understand the intense dance between '\n",
      "             'light and matter. And when their coupling becomes strong, new '\n",
      "             'phenomena like the formation of polaritons and vacuum Rabi '\n",
      "             'oscillations occur. Is that right?',\n",
      "  'name': 'Sharon',\n",
      "  'role': 'user'}]\n"
     ]
    }
   ],
   "source": [
    "from pprint import pprint\n",
    "pprint(transformed[0][\"chatml\"])"
   ]
  },
  {
   "cell_type": "code",
   "execution_count": 31,
   "id": "6f576d22-e678-4b48-8103-592c90c779d4",
   "metadata": {},
   "outputs": [
    {
     "data": {
      "application/vnd.jupyter.widget-view+json": {
       "model_id": "a9b93e5a43f5419da0e9ba4e9432d0c5",
       "version_major": 2,
       "version_minor": 0
      },
      "text/plain": [
       "Pushing dataset shards to the dataset hub:   0%|          | 0/1 [00:00<?, ?it/s]"
      ]
     },
     "metadata": {},
     "output_type": "display_data"
    },
    {
     "data": {
      "application/vnd.jupyter.widget-view+json": {
       "model_id": "3519a1f223364c5487b88d8623e26f0e",
       "version_major": 2,
       "version_minor": 0
      },
      "text/plain": [
       "Creating parquet from Arrow format:   0%|          | 0/6 [00:00<?, ?ba/s]"
      ]
     },
     "metadata": {},
     "output_type": "display_data"
    },
    {
     "data": {
      "application/vnd.jupyter.widget-view+json": {
       "model_id": "a2be9c3e5ffe447c9a2863da41fd4e43",
       "version_major": 2,
       "version_minor": 0
      },
      "text/plain": [
       "Upload 1 LFS files:   0%|          | 0/1 [00:00<?, ?it/s]"
      ]
     },
     "metadata": {},
     "output_type": "display_data"
    },
    {
     "data": {
      "application/vnd.jupyter.widget-view+json": {
       "model_id": "c0ede9d60ac44f0eb9660c54fc294bea",
       "version_major": 2,
       "version_minor": 0
      },
      "text/plain": [
       "Deleting unused files from dataset repository:   0%|          | 0/1 [00:00<?, ?it/s]"
      ]
     },
     "metadata": {},
     "output_type": "display_data"
    },
    {
     "data": {
      "application/vnd.jupyter.widget-view+json": {
       "model_id": "28a7f8c76b8744209b4797df00110f73",
       "version_major": 2,
       "version_minor": 0
      },
      "text/plain": [
       "Downloading metadata:   0%|          | 0.00/726 [00:00<?, ?B/s]"
      ]
     },
     "metadata": {},
     "output_type": "display_data"
    },
    {
     "name": "stderr",
     "output_type": "stream",
     "text": [
      "Updating downloaded metadata with the new split.\n"
     ]
    }
   ],
   "source": [
    "transformed.shuffle(seed=42).remove_columns(['role_1', 'topic;', 'sub_topic', 'message_1', 'message_2', 'subject', 'dialog']).push_to_hub(\"diwank/camel-subjects\", private=True)"
   ]
  },
  {
   "cell_type": "code",
   "execution_count": null,
   "id": "dd7aeaec-e5eb-4b58-bde4-bd1bbc9bd5a6",
   "metadata": {},
   "outputs": [],
   "source": []
  }
 ],
 "metadata": {
  "kernelspec": {
   "display_name": "Python 3 (ipykernel)",
   "language": "python",
   "name": "python3"
  },
  "language_info": {
   "codemirror_mode": {
    "name": "ipython",
    "version": 3
   },
   "file_extension": ".py",
   "mimetype": "text/x-python",
   "name": "python",
   "nbconvert_exporter": "python",
   "pygments_lexer": "ipython3",
   "version": "3.10.11"
  }
 },
 "nbformat": 4,
 "nbformat_minor": 5
}
