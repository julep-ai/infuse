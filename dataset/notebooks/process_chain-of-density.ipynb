{
 "cells": [
  {
   "cell_type": "code",
   "execution_count": 1,
   "id": "6ab3c36a-da42-453d-bd44-619f844f19ec",
   "metadata": {},
   "outputs": [],
   "source": [
    "from datasets import load_dataset, Dataset, DatasetDict"
   ]
  },
  {
   "cell_type": "code",
   "execution_count": 2,
   "id": "316fa00b",
   "metadata": {},
   "outputs": [],
   "source": [
    "dataset = load_dataset(\"griffin/chain_of_density\", \"unannotated\")"
   ]
  },
  {
   "cell_type": "code",
   "execution_count": 3,
   "id": "92715da9",
   "metadata": {},
   "outputs": [
    {
     "name": "stdout",
     "output_type": "stream",
     "text": [
      "{'article': 'A hiker was arrested and warned she could face jail after freeing '\n",
      "            'an eagle from a trap and springing three more traps to protect '\n",
      "            'other animals. Kathleen Adair, 39, was walking her three dogs up '\n",
      "            'Davies Creek Trail in Alaska on Christmas Eve when she spotted '\n",
      "            'the bird with each leg shut inside traps. She spent an hour '\n",
      "            'freeing the creature before alerting a bird rescue firm. Heading '\n",
      "            'home, she also sprung another trap which she spotted in the '\n",
      "            'ground - prompting an investigation by Alaska Wildlife Troopers '\n",
      "            'that landed her in court. Eventually tracked down by authorities '\n",
      "            'she was charged and hauled to court facing a $500 fine and 30 '\n",
      "            'days in jail. Arrested: Kathleen Adair, 39, was charged with '\n",
      "            'hindering lawful trapping after snaring three traps in Alaska . '\n",
      "            'The eagle was found and euthanized three days after she freed it. '\n",
      "            \"'What we expect from the public is if they come upon an eagle in \"\n",
      "            'a trap, to notify us as soon as possible. That way we can go out '\n",
      "            \"there and see what's going on,' Alaska Wildlife Trooper Sgt Aaron \"\n",
      "            'Frenzel told the station. Defending her actions, Adair\\xa0told '\n",
      "            \"the Juneau Empire she is not 'an ecoterrorist trying to ruin \"\n",
      "            \"trappers' livelihood.' 'I grew up hunting and fishing here, I've \"\n",
      "            \"got several animal skins on my walls,' she said. 'I don't \"\n",
      "            \"personally trap, and I don't choose to, I don't want to, but I'm \"\n",
      "            'not going to stop someone else from doing it. I only object when '\n",
      "            'the traps are on the trail where I think they are safety '\n",
      "            \"concerns.' Speaking to KTOO, she said: 'I knew at the time that \"\n",
      "            \"the eagle didn't have a very good chance. I knew if I left it \"\n",
      "            'there all night, it would have had a worse chance of surviving. '\n",
      "            \"'But even as it was, I could tell one of the legs was just \"\n",
      "            \"dangling, just completely broken and I knew they wouldn't be able \"\n",
      "            'to fix that, but I was hoping they could at least fix the other '\n",
      "            \"and keep it as an educational bird.' 'I wanted to go back and \"\n",
      "            'tell the Raptor Center where it was. I knew that would be the '\n",
      "            'best thing to do, but I also knew that it would be getting dark '\n",
      "            'soon. Saved: The Bald Eagle caught in a leg-hold trap in Juneau '\n",
      "            \"on Christmas Eve, found and released by Adair . 'It was two miles \"\n",
      "            'from the road and it was all the way at the end of the road, so I '\n",
      "            \"knew that they wouldn't be able to get out there that day to it. \"\n",
      "            \"'I'm not against trapping per se. I am concerned about the traps \"\n",
      "            \"when they're on the trail in such a way as these were,' Adair \"\n",
      "            'said. On Thursday, the case was dismissed by a judge who called '\n",
      "            \"Adair's work 'admirable'. 'Her actions in saving the eagle were \"\n",
      "            \"laudable,' Juneau District Attorney James Scott said during \"\n",
      "            \"Adair's arraignment on Thursday afternoon. 'She should not have \"\n",
      "            \"to run the risk of a conviction on her record for this offense.' \"\n",
      "            \"'When she's hiking and she comes across an eagle in a snare, I \"\n",
      "            'encourage her to rescue that eagle again, and I will screen that '\n",
      "            \"case out as well,' the district attorney added, according to the \"\n",
      "            'Empire.',\n",
      " 'entity_density': [0.10666666666666667,\n",
      "                    0.1016949152542373,\n",
      "                    0.1323529411764706,\n",
      "                    0.13432835820895522,\n",
      "                    0.1232876712328767],\n",
      " 'extractive_coverage': [0.8533333333333334,\n",
      "                         0.8983050847457628,\n",
      "                         0.9264705882352942,\n",
      "                         0.9104477611940298,\n",
      "                         0.8767123287671232],\n",
      " 'extractive_density': [4.293333333333333,\n",
      "                        2.3220338983050848,\n",
      "                        2.9558823529411766,\n",
      "                        2.7313432835820897,\n",
      "                        2.0273972602739727],\n",
      " 'fusion': [1.5, 2.0, 2.0, 2.0, 1.75],\n",
      " 'highlights': 'Kathleen Adair\\xa0freed an eagle from a trap and sprung 3 more '\n",
      "               'in Alaska .\\n'\n",
      "               '39-year-old was hauled into court charged with hindering '\n",
      "               'lawful trapping .\\n'\n",
      "               'The eagle was found and euthanized three days after she freed '\n",
      "               'it .\\n'\n",
      "               'Adair faced 30 days in prison and $500 fine, which has been '\n",
      "               'dismissed .',\n",
      " 'id': '00094243aed3af8b45dca389eeb46fa3e5c30027',\n",
      " 'inverse_lead_bias': [1.8333333333333333,\n",
      "                       8.0,\n",
      "                       9.666666666666666,\n",
      "                       10.75,\n",
      "                       9.857142857142858],\n",
      " 'missing': ['Davies Creek Trail',\n",
      "             'Christmas Eve',\n",
      "             'Alaska Wildlife Troopers',\n",
      "             'Juneau District Attorney James Scott'],\n",
      " 'model': 'gpt-4',\n",
      " 'num_entities': [8, 6, 9, 9, 9],\n",
      " 'num_tokens': [75, 59, 68, 67, 73],\n",
      " 'prediction': ['Kathleen Adair, 39, was arrested after freeing an eagle '\n",
      "                'trapped on Davies Creek Trail, Alaska, and disabling three '\n",
      "                'more traps. She was charged with hindering lawful trapping, '\n",
      "                'facing a $500 fine and 30 days in jail. The eagle was '\n",
      "                'euthanized three days later. Adair defended her actions, '\n",
      "                'stating she was not against trapping but objected to traps on '\n",
      "                'trails due to safety concerns. The case was dismissed by a '\n",
      "                \"judge who praised Adair's actions.\",\n",
      "                'On Christmas Eve, Kathleen Adair, 39, found an eagle trapped '\n",
      "                'on Davies Creek Trail, Alaska. She freed it and disabled '\n",
      "                'three more traps, leading to her arrest for hindering lawful '\n",
      "                'trapping. She faced a $500 fine and 30 days in jail. The '\n",
      "                'eagle was euthanized three days later. Despite facing '\n",
      "                \"charges, a judge dismissed the case, praising Adair's \"\n",
      "                'actions.',\n",
      "                'Kathleen Adair, 39, was arrested by Alaska Wildlife Troopers '\n",
      "                'after freeing an eagle trapped on Davies Creek Trail, Alaska, '\n",
      "                'on Christmas Eve. She also disabled three more traps, leading '\n",
      "                'to charges of hindering lawful trapping, a $500 fine, and 30 '\n",
      "                'days in jail. The eagle was euthanized three days later. A '\n",
      "                \"judge dismissed the case, commending Adair's actions.\",\n",
      "                'On Christmas Eve, Kathleen Adair, 39, was arrested by Alaska '\n",
      "                'Wildlife Troopers for freeing an eagle on Davies Creek Trail, '\n",
      "                'Alaska, and disabling three traps. She faced charges of '\n",
      "                'hindering lawful trapping, a $500 fine, and 30 days in jail. '\n",
      "                'The eagle was euthanized three days later. Juneau District '\n",
      "                \"Attorney James Scott dismissed the case, praising Adair's \"\n",
      "                'actions.'],\n",
      " 'rouge1': [0.49586776859504134,\n",
      "            0.5346534653465347,\n",
      "            0.4112149532710281,\n",
      "            0.4220183486238533,\n",
      "            0.2807017543859649],\n",
      " 'rouge2': [0.1848739495798319,\n",
      "            0.20202020202020204,\n",
      "            0.13333333333333333,\n",
      "            0.14953271028037382,\n",
      "            0.08928571428571427],\n",
      " 'rougeL': [0.2809917355371901,\n",
      "            0.33663366336633666,\n",
      "            0.2803738317757009,\n",
      "            0.25688073394495414,\n",
      "            0.21052631578947367],\n",
      " 'rougeLsum': [0.34710743801652894,\n",
      "               0.4356435643564357,\n",
      "               0.35514018691588783,\n",
      "               0.3486238532110092,\n",
      "               0.24561403508771928],\n",
      " 'unique_bigrams': [0.9864864864864865,\n",
      "                    0.9827586206896551,\n",
      "                    0.9701492537313433,\n",
      "                    0.9848484848484849,\n",
      "                    1.0],\n",
      " 'unique_trigrams': [1.0, 1.0, 1.0, 1.0, 1.0],\n",
      " 'unique_unigrams': [0.8266666666666667,\n",
      "                     0.8135593220338984,\n",
      "                     0.75,\n",
      "                     0.7761194029850746,\n",
      "                     0.7808219178082192]}\n"
     ]
    }
   ],
   "source": [
    "from pprint import pprint\n",
    "pprint(dataset[\"train\"][0])"
   ]
  },
  {
   "cell_type": "code",
   "execution_count": 4,
   "id": "8a5b070c",
   "metadata": {},
   "outputs": [],
   "source": [
    "columns_to_keep = {\"article\", \"missing\", \"num_entities\", \"prediction\"}\n",
    "columns_to_remove = list(set(dataset[\"train\"].column_names) - columns_to_keep)\n",
    "\n",
    "dataset = dataset.remove_columns(columns_to_remove)"
   ]
  },
  {
   "cell_type": "code",
   "execution_count": 5,
   "id": "b67a2814",
   "metadata": {},
   "outputs": [
    {
     "data": {
      "application/vnd.jupyter.widget-view+json": {
       "model_id": "5dc28f7a90ce4989af4f52f10159b093",
       "version_major": 2,
       "version_minor": 0
      },
      "text/plain": [
       "Filter:   0%|          | 0/1000 [00:00<?, ? examples/s]"
      ]
     },
     "metadata": {},
     "output_type": "display_data"
    },
    {
     "data": {
      "text/plain": [
       "768"
      ]
     },
     "execution_count": 5,
     "metadata": {},
     "output_type": "execute_result"
    }
   ],
   "source": [
    "# Some rows dont contain all the information, so we remove them\n",
    "dataset = dataset.filter(lambda x: (\n",
    "    len(x[\"prediction\"]) == len(x[\"num_entities\"]) == len(x[\"missing\"]) \n",
    "))\n",
    "len(dataset[\"train\"])"
   ]
  },
  {
   "cell_type": "code",
   "execution_count": 6,
   "id": "de1fccb3",
   "metadata": {},
   "outputs": [],
   "source": [
    "# Remove summaries that dont contain many entities\n",
    "import numpy as np\n",
    "\n",
    "def remove_short_summaries(example):\n",
    "    num_entities = example[\"num_entities\"]\n",
    "    median_num_entities = np.median(num_entities)\n",
    "\n",
    "    if all(num >= median_num_entities for num in num_entities):\n",
    "        return example\n",
    "\n",
    "    # else:\n",
    "    missing = example[\"missing\"]\n",
    "    prediction = example[\"prediction\"]\n",
    "\n",
    "    # Get indices of summaries that dont have enough entities\n",
    "    remove_indices = [\n",
    "        i for i, num in enumerate(num_entities)\n",
    "        if num < median_num_entities\n",
    "    ]\n",
    "\n",
    "    # Remove summaries that dont have enough entities\n",
    "    num_entities = np.delete(num_entities, remove_indices, axis=0)\n",
    "    prediction = np.delete(prediction, remove_indices, axis=0)\n",
    "    missing = np.delete(missing, remove_indices, axis=0)\n",
    "    \n",
    "    fixed = dict(\n",
    "        missing=missing,\n",
    "        num_entities=num_entities,\n",
    "        prediction=prediction,\n",
    "    )\n",
    "\n",
    "    return {\n",
    "        **example,\n",
    "        **fixed,\n",
    "    }"
   ]
  },
  {
   "cell_type": "code",
   "execution_count": 7,
   "id": "f7226b7d",
   "metadata": {},
   "outputs": [
    {
     "data": {
      "application/vnd.jupyter.widget-view+json": {
       "model_id": "87b0103ddce241c2b50bf3b2d50597f2",
       "version_major": 2,
       "version_minor": 0
      },
      "text/plain": [
       "Map:   0%|          | 0/768 [00:00<?, ? examples/s]"
      ]
     },
     "metadata": {},
     "output_type": "display_data"
    }
   ],
   "source": [
    "dataset = dataset.map(remove_short_summaries)"
   ]
  },
  {
   "cell_type": "code",
   "execution_count": 8,
   "id": "0ecf08df",
   "metadata": {},
   "outputs": [
    {
     "data": {
      "text/plain": [
       "{'article': \"Customers could soon design their own items, go into a supermarket and have them printed in 3D, if an ambitious major project by Tesco succeeds. The high street retail giant is working on developing new technology for a variety of products in its stores. Ideas include digitally making clothing, furniture, personal gifts and even food in their shops. The supermarket giant is keen to use new technologies to offer a wider range of products to consumers. Company researchers believe 3D printers are a natural progression given that they already offer photo and poster printing . The project could also see Tesco stores repair broken items or print spare parts for a product that has already been purchased. Paul Wilkinson, a lead research specialist with Tesco, revealed the retail giant’s ambitions writing a blog post on tesco.com about the potential of 3D printing. He said: '3D printing] could revolutionise the way we view stores and what we can get from them.' Wilkinson, who is heading on a fact-finding mission to San Francisco with a team from Tesco, added in The Grocer magazine: 'We already print photos and posters in many of our larger stores, so why not other gifts and personalised items? 'How about letting kids design their own toys and then actually being able to get them made? What if we had a digital catalogue of spare parts for items that you’d bought? 3D printing is burgeoning industry with all manner of objects, such as this gun, now being created. 'They could be printed on demand and ready for you by the time you’d finished your shopping. You could even take a broken item into store; we could scan it in 3D, repair it digitally and make you a new one. 'There’s been a lot of buzz recently. It’s great that we have one of the machines to test out and to be able to look at how they might change the way stores work.' He said the Tesco team would be meeting “some of the big names and getting together with lots of start-ups and trying to find that idea or product that might just change the retail world.' This is not the first time 3D technology has attracted headlines after it was revealed recently a printed gun had been digitally made.  The blueprints for the gun were then posted on a website and downloaded over 100,000 times. The Mail on Sunday also printed their own gun and demonstrated how easy it was to get it through immigration and security.\",\n",
       " 'prediction': [\"Tesco's lead research specialist, Paul Wilkinson, revealed in a blog post that the company is developing in-store 3D printing technology. This includes a digital catalogue of spare parts, allowing customers to print replacements for purchased items. The technology could also be used to create custom-designed products like clothing, furniture, and food, potentially revolutionizing retail.\",\n",
       "  \"Paul Wilkinson, Tesco's lead research specialist, announced in a blog post that the company is developing 3D printing technology for in-store use. This includes a digital catalogue of spare parts for customer convenience. Wilkinson and a Tesco team are heading to San Francisco on a fact-finding mission to further explore this technology's potential to revolutionize retail.\",\n",
       "  \"Tesco's lead research specialist, Paul Wilkinson, revealed the company's plans for in-store 3D printing technology in a blog post. The technology includes a digital catalogue of spare parts and could revolutionize retail. Wilkinson and a Tesco team are heading to San Francisco to explore this further. The potential of 3D printing is highlighted by the recent creation of a 3D printed gun.\"],\n",
       " 'missing': ['Digital catalogue of spare parts',\n",
       "  'Fact-finding mission to San Francisco',\n",
       "  '3D printed gun'],\n",
       " 'num_entities': [4, 5, 7]}"
      ]
     },
     "execution_count": 8,
     "metadata": {},
     "output_type": "execute_result"
    }
   ],
   "source": [
    "dataset[\"train\"][0]"
   ]
  },
  {
   "cell_type": "code",
   "execution_count": 9,
   "id": "7f0e4f9d",
   "metadata": {},
   "outputs": [],
   "source": [
    "make_chatml = lambda name, role, content: dict(\n",
    "    name=name, role=role, content=content,\n",
    ")\n",
    "\n",
    "system = lambda name, content: make_chatml(\n",
    "    role=\"system\",\n",
    "    name=name,\n",
    "    content=content,\n",
    ")\n",
    "\n",
    "situation = lambda content: system(name=\"situation\", content=content)\n",
    "thought = lambda content: system(name=\"thought\", content=content)\n",
    "information = lambda content: system(name=\"information\", content=content)\n",
    "me = lambda content, name=None: make_chatml(\n",
    "    role=\"assistant\",\n",
    "    content=content,\n",
    "    name=name,\n",
    ")\n",
    "\n",
    "person = lambda content, name=None: make_chatml(\n",
    "    role=\"user\",\n",
    "    content=content,\n",
    "    name=name,\n",
    ")\n"
   ]
  },
  {
   "cell_type": "code",
   "execution_count": 10,
   "id": "ea28cbab",
   "metadata": {},
   "outputs": [],
   "source": [
    "def to_chatml(row):\n",
    "    article = row[\"article\"]\n",
    "    prediction = row[\"prediction\"]\n",
    "    missing = row[\"missing\"]\n",
    "    newline = \"\\n\"\n",
    "    \n",
    "    # Turn into chatml\n",
    "    chatml = [\n",
    "        situation(\"A user is talking to an AI assistant. They are discussing an article that the user has read.\"),\n",
    "        person(f\"I just read the article below. Can you summarize it?\", name=\"User\"),\n",
    "        information(f\"Article:{newline}{article}\"),\n",
    "    ]\n",
    "\n",
    "    # Add summaries\n",
    "    [first_summary, *summaries] = prediction\n",
    "    summary_message = f\"Summary:{newline}{first_summary}\"\n",
    "    chatml.append(me(summary_message, name=\"AI Assistant\"))\n",
    "\n",
    "    for missing_entity, next_summary in zip(missing, summaries):\n",
    "        # ask if anything is missing\n",
    "        missing_question = f\"Is there anything missing from this summary that was covered in the article?\"\n",
    "        chatml.append(person(missing_question, name=\"User\"))\n",
    "\n",
    "        missing_answer = (\n",
    "            f'Actually yes, the article also mentioned \"{missing_entity}\".'\n",
    "            f\" Let me rewrite the summary and add that.\"\n",
    "            f\"{newline}{newline}\"\n",
    "            f\"Summary:{newline}{next_summary}\"\n",
    "        )\n",
    "\n",
    "        chatml.append(me(missing_answer, name=\"AI Assistant\"))\n",
    "\n",
    "    return dict(chatml=chatml)\n"
   ]
  },
  {
   "cell_type": "code",
   "execution_count": 11,
   "id": "0164bf5b",
   "metadata": {},
   "outputs": [
    {
     "data": {
      "application/vnd.jupyter.widget-view+json": {
       "model_id": "953b95cd7b154285abafffd32d30b0d9",
       "version_major": 2,
       "version_minor": 0
      },
      "text/plain": [
       "Map:   0%|          | 0/768 [00:00<?, ? examples/s]"
      ]
     },
     "metadata": {},
     "output_type": "display_data"
    }
   ],
   "source": [
    "dataset = dataset.map(to_chatml)"
   ]
  },
  {
   "cell_type": "code",
   "execution_count": 12,
   "id": "ed22963b-6a85-4867-8981-fc305183a5c1",
   "metadata": {},
   "outputs": [
    {
     "data": {
      "application/vnd.jupyter.widget-view+json": {
       "model_id": "e15106eac36a4265aae2c5a83c31dcc3",
       "version_major": 2,
       "version_minor": 0
      },
      "text/plain": [
       "Pushing dataset shards to the dataset hub:   0%|          | 0/1 [00:00<?, ?it/s]"
      ]
     },
     "metadata": {},
     "output_type": "display_data"
    },
    {
     "data": {
      "application/vnd.jupyter.widget-view+json": {
       "model_id": "b3b51465097544409b4b3d0e62a99362",
       "version_major": 2,
       "version_minor": 0
      },
      "text/plain": [
       "Creating parquet from Arrow format:   0%|          | 0/1 [00:00<?, ?ba/s]"
      ]
     },
     "metadata": {},
     "output_type": "display_data"
    },
    {
     "data": {
      "application/vnd.jupyter.widget-view+json": {
       "model_id": "d27042578a014372ba52ca388b365a4a",
       "version_major": 2,
       "version_minor": 0
      },
      "text/plain": [
       "Deleting unused files from dataset repository:   0%|          | 0/1 [00:00<?, ?it/s]"
      ]
     },
     "metadata": {},
     "output_type": "display_data"
    },
    {
     "data": {
      "application/vnd.jupyter.widget-view+json": {
       "model_id": "6c071b68800742a3a602873be64c5ea5",
       "version_major": 2,
       "version_minor": 0
      },
      "text/plain": [
       "Downloading metadata:   0%|          | 0.00/718 [00:00<?, ?B/s]"
      ]
     },
     "metadata": {},
     "output_type": "display_data"
    }
   ],
   "source": [
    "dataset.push_to_hub(\"diwank/chain_of_density-chatml\", private=True)"
   ]
  }
 ],
 "metadata": {
  "kernelspec": {
   "display_name": "Python 3 (ipykernel)",
   "language": "python",
   "name": "python3"
  },
  "language_info": {
   "codemirror_mode": {
    "name": "ipython",
    "version": 3
   },
   "file_extension": ".py",
   "mimetype": "text/x-python",
   "name": "python",
   "nbconvert_exporter": "python",
   "pygments_lexer": "ipython3",
   "version": "3.10.12"
  }
 },
 "nbformat": 4,
 "nbformat_minor": 5
}
