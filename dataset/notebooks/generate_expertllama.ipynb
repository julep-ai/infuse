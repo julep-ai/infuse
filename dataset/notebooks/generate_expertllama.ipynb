{
 "cells": [
  {
   "cell_type": "code",
   "execution_count": 1,
   "id": "6ab3c36a-da42-453d-bd44-619f844f19ec",
   "metadata": {},
   "outputs": [],
   "source": [
    "from datasets import load_dataset, Dataset"
   ]
  },
  {
   "cell_type": "code",
   "execution_count": 2,
   "id": "ed22963b-6a85-4867-8981-fc305183a5c1",
   "metadata": {},
   "outputs": [],
   "source": [
    "dataset = load_dataset(\"diwank/expertllama\")"
   ]
  },
  {
   "cell_type": "code",
   "execution_count": 3,
   "id": "2402e5d6",
   "metadata": {},
   "outputs": [],
   "source": [
    "import names\n",
    "\n",
    "dataset = dataset.map(lambda x: {\"assistant_name\": names.get_first_name()})"
   ]
  },
  {
   "cell_type": "code",
   "execution_count": 4,
   "id": "8393489f",
   "metadata": {},
   "outputs": [],
   "source": [
    "def rewrite_identity(row):\n",
    "    from textwrap import dedent\n",
    "\n",
    "    from tenacity import (\n",
    "        retry,\n",
    "        stop_after_attempt,\n",
    "        wait_random_exponential,\n",
    "    )\n",
    "\n",
    "    import openai\n",
    "    openai.api_key = \"OPENAI_API_KEY\"\n",
    "\n",
    "    assistant_name = row[\"assistant_name\"]\n",
    "    expert_identity = row[\"expert_identity\"]\n",
    "\n",
    "    PROMPT = f\"\"\"\\\n",
    "Below is an instruction for {assistant_name} to follow but it is written in the second person.\n",
    "Rewrite the instruction in the third person mentioning {assistant_name} by name.\n",
    "\n",
    "## Original Instruction\n",
    "\n",
    "{expert_identity}\n",
    "\n",
    "## Instruction Rewritten in Third Person\n",
    "    \"\"\".strip()\n",
    "\n",
    "\n",
    "    from redis import StrictRedis\n",
    "    from redis_cache import RedisCache\n",
    "\n",
    "    client = StrictRedis(host=\"localhost\", decode_responses=True)\n",
    "    cache = RedisCache(redis_client=client)\n",
    "\n",
    "    @cache.cache()\n",
    "    @retry(wait=wait_random_exponential(min=0, max=20), stop=stop_after_attempt(8))\n",
    "    def completion_with_backoff(prompt):\n",
    "\n",
    "        completion = openai.Completion.create(\n",
    "            model=\"gpt-3.5-turbo-instruct\",\n",
    "            prompt=prompt,\n",
    "            temperature=0.1,\n",
    "            max_tokens=256,\n",
    "        )\n",
    "        \n",
    "        result = completion.choices[0].text.strip()\n",
    "        return result\n",
    "\n",
    "    expert_identity_3p = completion_with_backoff(PROMPT)\n",
    "\n",
    "    return dict(\n",
    "        expert_identity_3p=expert_identity_3p,\n",
    "    )\n"
   ]
  },
  {
   "cell_type": "code",
   "execution_count": 5,
   "id": "17817e53",
   "metadata": {},
   "outputs": [
    {
     "data": {
      "application/vnd.jupyter.widget-view+json": {
       "model_id": "8f9d20f779154736adc386f47339b0db",
       "version_major": 2,
       "version_minor": 0
      },
      "text/plain": [
       "Map (num_proc=70):   0%|          | 0/52002 [00:00<?, ? examples/s]"
      ]
     },
     "metadata": {},
     "output_type": "display_data"
    }
   ],
   "source": [
    "dataset = dataset.map(rewrite_identity, num_proc=70)"
   ]
  },
  {
   "cell_type": "code",
   "execution_count": 6,
   "id": "4df20a88",
   "metadata": {},
   "outputs": [
    {
     "data": {
      "text/plain": [
       "{'instruction': 'Give three tips for staying healthy.',\n",
       " 'answer': 'Sure, here are three evidence-based tips for staying healthy:\\n\\n1. Consume a diet rich in colorful fruits and vegetables: Eating a wide variety of fruits and vegetables ensures that you get a range of vitamins, minerals, and antioxidants that help boost your immune system and reduce inflammation in the body. Aim for at least five servings of fruits and vegetables a day, and try to include a rainbow of colors in your diet.\\n\\n2. Engage in regular physical activity: Exercise not only helps you burn calories and maintain a healthy weight, but it also reduces your risk of chronic diseases such as heart disease, diabetes, and cancer. Aim for at least 150 minutes of moderate-intensity exercise per week, spread out over at least three days, and incorporate strength training exercises two or more days per week.\\n\\n3. Practice stress-reduction techniques: Chronic stress has been linked to a range of health problems, including heart disease, depression, and digestive issues. Engage in activities that help reduce stress, such as meditation, yoga, or tai chi. Taking breaks during the workday, spending time in nature, and practicing deep breathing techniques can also help alleviate stress.',\n",
       " 'expert_identity': \"You are a seasoned nutritionist with extensive knowledge about healthy eating habits and lifestyle choices. You have spent years studying the impact of nutrition on overall health and well-being. You understand the importance of maintaining a healthy lifestyle, and have developed several tips to help people stay healthy. You can provide three effective tips that are grounded in scientific research and practical application. These tips may include incorporating a variety of colorful fruits and vegetables into one's diet, engaging in regular physical exercise or movement, and reducing stress through meditation or other mindfulness practices. You can also offer guidance on healthy sleep habits, proper hydration, and managing chronic conditions. Your extensive knowledge and expertise in nutrition and healthy living can empower individuals to make informed choices and lead a healthy and fulfilling life.\",\n",
       " 'assistant_name': 'Robert',\n",
       " 'expert_identity_3p': \"Robert is a seasoned nutritionist with extensive knowledge about healthy eating habits and lifestyle choices. He has spent years studying the impact of nutrition on overall health and well-being. He understands the importance of maintaining a healthy lifestyle, and has developed several tips to help people stay healthy. He can provide three effective tips that are grounded in scientific research and practical application. These tips may include incorporating a variety of colorful fruits and vegetables into one's diet, engaging in regular physical exercise or movement, and reducing stress through meditation or other mindfulness practices. He can also offer guidance on healthy sleep habits, proper hydration, and managing chronic conditions. Robert's extensive knowledge and expertise in nutrition and healthy living can empower individuals to make informed choices and lead a healthy and fulfilling life.\"}"
      ]
     },
     "execution_count": 6,
     "metadata": {},
     "output_type": "execute_result"
    }
   ],
   "source": [
    "dataset[\"train\"][0]"
   ]
  },
  {
   "cell_type": "code",
   "execution_count": 7,
   "id": "7f51aff7",
   "metadata": {},
   "outputs": [],
   "source": [
    "make_chatml = lambda name, role, content: dict(\n",
    "    name=name, role=role, content=content,\n",
    ")\n",
    "\n",
    "system = lambda name, content: make_chatml(\n",
    "    role=\"system\",\n",
    "    name=name,\n",
    "    content=content,\n",
    ")\n",
    "\n",
    "situation = lambda content: system(name=\"situation\", content=content)\n",
    "thought = lambda content: system(name=\"thought\", content=content)\n",
    "information = lambda content: system(name=\"information\", content=content)\n",
    "me = lambda content, name=None: make_chatml(\n",
    "    role=\"assistant\",\n",
    "    content=content,\n",
    "    name=name,\n",
    ")\n",
    "\n",
    "person = lambda content, name=None: make_chatml(\n",
    "    role=\"user\",\n",
    "    content=content,\n",
    "    name=name,\n",
    ")"
   ]
  },
  {
   "cell_type": "code",
   "execution_count": 8,
   "id": "bb5bd823",
   "metadata": {},
   "outputs": [
    {
     "data": {
      "text/plain": [
       "{'instruction': 'Give three tips for staying healthy.',\n",
       " 'answer': 'Sure, here are three evidence-based tips for staying healthy:\\n\\n1. Consume a diet rich in colorful fruits and vegetables: Eating a wide variety of fruits and vegetables ensures that you get a range of vitamins, minerals, and antioxidants that help boost your immune system and reduce inflammation in the body. Aim for at least five servings of fruits and vegetables a day, and try to include a rainbow of colors in your diet.\\n\\n2. Engage in regular physical activity: Exercise not only helps you burn calories and maintain a healthy weight, but it also reduces your risk of chronic diseases such as heart disease, diabetes, and cancer. Aim for at least 150 minutes of moderate-intensity exercise per week, spread out over at least three days, and incorporate strength training exercises two or more days per week.\\n\\n3. Practice stress-reduction techniques: Chronic stress has been linked to a range of health problems, including heart disease, depression, and digestive issues. Engage in activities that help reduce stress, such as meditation, yoga, or tai chi. Taking breaks during the workday, spending time in nature, and practicing deep breathing techniques can also help alleviate stress.',\n",
       " 'expert_identity': \"You are a seasoned nutritionist with extensive knowledge about healthy eating habits and lifestyle choices. You have spent years studying the impact of nutrition on overall health and well-being. You understand the importance of maintaining a healthy lifestyle, and have developed several tips to help people stay healthy. You can provide three effective tips that are grounded in scientific research and practical application. These tips may include incorporating a variety of colorful fruits and vegetables into one's diet, engaging in regular physical exercise or movement, and reducing stress through meditation or other mindfulness practices. You can also offer guidance on healthy sleep habits, proper hydration, and managing chronic conditions. Your extensive knowledge and expertise in nutrition and healthy living can empower individuals to make informed choices and lead a healthy and fulfilling life.\",\n",
       " 'assistant_name': 'Robert',\n",
       " 'expert_identity_3p': \"Robert is a seasoned nutritionist with extensive knowledge about healthy eating habits and lifestyle choices. He has spent years studying the impact of nutrition on overall health and well-being. He understands the importance of maintaining a healthy lifestyle, and has developed several tips to help people stay healthy. He can provide three effective tips that are grounded in scientific research and practical application. These tips may include incorporating a variety of colorful fruits and vegetables into one's diet, engaging in regular physical exercise or movement, and reducing stress through meditation or other mindfulness practices. He can also offer guidance on healthy sleep habits, proper hydration, and managing chronic conditions. Robert's extensive knowledge and expertise in nutrition and healthy living can empower individuals to make informed choices and lead a healthy and fulfilling life.\"}"
      ]
     },
     "execution_count": 8,
     "metadata": {},
     "output_type": "execute_result"
    }
   ],
   "source": [
    "dataset[\"train\"][0]\n"
   ]
  },
  {
   "cell_type": "code",
   "execution_count": 9,
   "id": "421cb0d5",
   "metadata": {},
   "outputs": [],
   "source": [
    "def to_chatml(row):\n",
    "    name = names.get_first_name()\n",
    "\n",
    "    instruction = row[\"instruction\"]\n",
    "    answer = row[\"answer\"]\n",
    "    assistant_name = row[\"assistant_name\"]\n",
    "    identity = row[\"expert_identity_3p\"]\n",
    "\n",
    "    newline = \"\\n\"\n",
    "    \n",
    "    # Turn into chatml\n",
    "    chatml = [\n",
    "        situation(f\"{name} is talking to {assistant_name} about an assignment to solve. {newline} {identity}\"),\n",
    "        person(instruction, name=name),\n",
    "        me(answer, name=assistant_name),\n",
    "    ]\n",
    "\n",
    "    return dict(chatml=chatml)"
   ]
  },
  {
   "cell_type": "code",
   "execution_count": 10,
   "id": "5a2f8c2b",
   "metadata": {},
   "outputs": [
    {
     "data": {
      "application/vnd.jupyter.widget-view+json": {
       "model_id": "91919cadbfab48fb895ab0f2cf986b91",
       "version_major": 2,
       "version_minor": 0
      },
      "text/plain": [
       "Map:   0%|          | 0/52002 [00:00<?, ? examples/s]"
      ]
     },
     "metadata": {},
     "output_type": "display_data"
    }
   ],
   "source": [
    "dataset = dataset.map(to_chatml)"
   ]
  },
  {
   "cell_type": "code",
   "execution_count": 11,
   "id": "12c9aa3f",
   "metadata": {},
   "outputs": [],
   "source": [
    "columns_to_remove = [\"instruction\", \"answer\", \"expert_identity\", \"expert_identity_3p\", \"assistant_name\"]\n",
    "dataset = dataset.remove_columns(columns_to_remove)"
   ]
  },
  {
   "cell_type": "code",
   "execution_count": 12,
   "id": "53fb8670",
   "metadata": {},
   "outputs": [
    {
     "data": {
      "application/vnd.jupyter.widget-view+json": {
       "model_id": "c95dc546b5a047b999a384acbafc63f4",
       "version_major": 2,
       "version_minor": 0
      },
      "text/plain": [
       "Pushing dataset shards to the dataset hub:   0%|          | 0/1 [00:00<?, ?it/s]"
      ]
     },
     "metadata": {},
     "output_type": "display_data"
    },
    {
     "data": {
      "application/vnd.jupyter.widget-view+json": {
       "model_id": "3b870f69e7704337b1ee1db6d87018d5",
       "version_major": 2,
       "version_minor": 0
      },
      "text/plain": [
       "Creating parquet from Arrow format:   0%|          | 0/53 [00:00<?, ?ba/s]"
      ]
     },
     "metadata": {},
     "output_type": "display_data"
    }
   ],
   "source": [
    "dataset.push_to_hub(\"diwank/expertllama-chatml\")"
   ]
  },
  {
   "cell_type": "code",
   "execution_count": null,
   "id": "2c5ccf42",
   "metadata": {},
   "outputs": [],
   "source": []
  }
 ],
 "metadata": {
  "kernelspec": {
   "display_name": "Python 3 (ipykernel)",
   "language": "python",
   "name": "python3"
  },
  "language_info": {
   "codemirror_mode": {
    "name": "ipython",
    "version": 3
   },
   "file_extension": ".py",
   "mimetype": "text/x-python",
   "name": "python",
   "nbconvert_exporter": "python",
   "pygments_lexer": "ipython3",
   "version": "3.10.12"
  }
 },
 "nbformat": 4,
 "nbformat_minor": 5
}
