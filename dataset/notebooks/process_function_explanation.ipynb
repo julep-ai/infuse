{
 "cells": [
  {
   "cell_type": "code",
   "execution_count": 1,
   "id": "9aa621b8-4ff2-41d0-ba0b-cefe27db2fd4",
   "metadata": {},
   "outputs": [],
   "source": [
    "import csv\n",
    "import glob\n",
    "import os\n",
    "import random\n",
    "\n",
    "from datasets import load_dataset, Dataset, DatasetDict"
   ]
  },
  {
   "cell_type": "code",
   "execution_count": 2,
   "id": "0a1f8cc3-876e-457e-aa60-73667c823e93",
   "metadata": {},
   "outputs": [
    {
     "data": {
      "application/vnd.jupyter.widget-view+json": {
       "model_id": "762b790a2e1d4ba2befebbbe385e3abf",
       "version_major": 2,
       "version_minor": 0
      },
      "text/plain": [
       "Downloading readme:   0%|          | 0.00/545 [00:00<?, ?B/s]"
      ]
     },
     "metadata": {},
     "output_type": "display_data"
    },
    {
     "name": "stdout",
     "output_type": "stream",
     "text": [
      "Downloading and preparing dataset None/None to /home/diwank/.cache/huggingface/datasets/joetey___parquet/joetey--functions_annotated_with_intents-d843a29a4c86a8ce/0.0.0/2a3b91fbd88a2c90d1dbbb32b460cf621d31bd5b05b934492fdef7d8d6f236ec...\n"
     ]
    },
    {
     "data": {
      "application/vnd.jupyter.widget-view+json": {
       "model_id": "41f0abd1734e43a3b84938d707da68cd",
       "version_major": 2,
       "version_minor": 0
      },
      "text/plain": [
       "Downloading data files:   0%|          | 0/1 [00:00<?, ?it/s]"
      ]
     },
     "metadata": {},
     "output_type": "display_data"
    },
    {
     "data": {
      "application/vnd.jupyter.widget-view+json": {
       "model_id": "ea2630bd8cc444b8ad7b83033752d442",
       "version_major": 2,
       "version_minor": 0
      },
      "text/plain": [
       "Downloading data:   0%|          | 0.00/699k [00:00<?, ?B/s]"
      ]
     },
     "metadata": {},
     "output_type": "display_data"
    },
    {
     "data": {
      "application/vnd.jupyter.widget-view+json": {
       "model_id": "e757f185b6ad41dcb317f4a31a75a371",
       "version_major": 2,
       "version_minor": 0
      },
      "text/plain": [
       "Extracting data files:   0%|          | 0/1 [00:00<?, ?it/s]"
      ]
     },
     "metadata": {},
     "output_type": "display_data"
    },
    {
     "data": {
      "application/vnd.jupyter.widget-view+json": {
       "model_id": "",
       "version_major": 2,
       "version_minor": 0
      },
      "text/plain": [
       "Generating train split:   0%|          | 0/2768 [00:00<?, ? examples/s]"
      ]
     },
     "metadata": {},
     "output_type": "display_data"
    },
    {
     "name": "stdout",
     "output_type": "stream",
     "text": [
      "Dataset parquet downloaded and prepared to /home/diwank/.cache/huggingface/datasets/joetey___parquet/joetey--functions_annotated_with_intents-d843a29a4c86a8ce/0.0.0/2a3b91fbd88a2c90d1dbbb32b460cf621d31bd5b05b934492fdef7d8d6f236ec. Subsequent calls will reuse this data.\n"
     ]
    },
    {
     "data": {
      "application/vnd.jupyter.widget-view+json": {
       "model_id": "4410cab95fa747fc8b91d3d4b1a944a9",
       "version_major": 2,
       "version_minor": 0
      },
      "text/plain": [
       "  0%|          | 0/1 [00:00<?, ?it/s]"
      ]
     },
     "metadata": {},
     "output_type": "display_data"
    }
   ],
   "source": [
    "dataset = load_dataset(\"joetey/functions_annotated_with_intents\")"
   ]
  },
  {
   "cell_type": "code",
   "execution_count": 3,
   "id": "4e150197-8a91-46c8-9e7d-c4e52a4b0071",
   "metadata": {},
   "outputs": [
    {
     "data": {
      "text/plain": [
       "{'function': 'def bfs(graph, s, t, parent):\\n    # Return True if there is node that has not iterated.\\n    visited = [False] * len(graph)\\n    queue = [s]\\n    visited[s] = True\\n\\n    while queue:\\n        u = queue.pop(0)\\n        for ind in range(len(graph[u])):\\n            if visited[ind] is False and graph[u][ind] > 0:\\n                queue.append(ind)\\n                visited[ind] = True\\n                parent[ind] = u\\n\\n    return visited[t]',\n",
       " 'intent_category': 'networking_flow',\n",
       " 'purpose': 'to find the shortest path from source to sink',\n",
       " 'code_trans': ' breadth - first search of a graph .',\n",
       " 'detailed_description': 'This function performs a breadth-first search on a graph. It takes in a graph, a starting node (s), an ending node (t), and a parent array. It then uses a queue to traverse the graph, marking each node'}"
      ]
     },
     "execution_count": 3,
     "metadata": {},
     "output_type": "execute_result"
    }
   ],
   "source": [
    "dataset[\"train\"][0]"
   ]
  },
  {
   "cell_type": "code",
   "execution_count": 4,
   "id": "6ade7538-c5da-4f05-9be3-11369b151c5e",
   "metadata": {},
   "outputs": [],
   "source": [
    "make_chatml = lambda name, role, content: dict(\n",
    "    name=name, role=role, content=content,\n",
    ")\n",
    "\n",
    "system = lambda name, content: make_chatml(\n",
    "    role=\"system\",\n",
    "    name=name,\n",
    "    content=content,\n",
    ")\n",
    "\n",
    "situation = lambda content: system(name=\"situation\", content=content)\n",
    "thought = lambda content: system(name=\"thought\", content=content)\n",
    "information = lambda content: system(name=\"information\", content=content)\n",
    "me = lambda content, name=None: make_chatml(\n",
    "    role=\"assistant\",\n",
    "    content=content,\n",
    "    name=name,\n",
    ")\n",
    "\n",
    "person = lambda content, name=None: make_chatml(\n",
    "    role=\"user\",\n",
    "    content=content,\n",
    "    name=name,\n",
    ")\n",
    "\n",
    "def to_chatml(row):\n",
    "    function = row[\"function\"]\n",
    "    intent_category = row[\"intent_category\"]\n",
    "    purpose = row[\"purpose\"]\n",
    "    code_trans = row[\"code_trans\"]\n",
    "    detailed_description = row[\"detailed_description\"]\n",
    "\n",
    "    chatml = [\n",
    "        situation(\n",
    "            f\"Person is discussing a function written in Python with Samantha.\"\n",
    "        ),\n",
    "        person(\n",
    "            f\"Hey Samantha! Can you explain this Python function to me?\\n\\n```python\\n{function}```\"\n",
    "        ),\n",
    "        thought(\n",
    "            f'This is a {intent_category} function. Its purpose is {purpose.strip() or code_trans}.'\n",
    "        ),\n",
    "        me(detailed_description, name=\"Samantha\"),\n",
    "    ]\n",
    "\n",
    "    return dict(chatml=chatml)"
   ]
  },
  {
   "cell_type": "code",
   "execution_count": 7,
   "id": "26fd5d16-df4c-456e-a5c9-a452b75f4e56",
   "metadata": {},
   "outputs": [
    {
     "name": "stderr",
     "output_type": "stream",
     "text": [
      "Loading cached processed dataset at /home/diwank/.cache/huggingface/datasets/joetey___parquet/joetey--functions_annotated_with_intents-d843a29a4c86a8ce/0.0.0/2a3b91fbd88a2c90d1dbbb32b460cf621d31bd5b05b934492fdef7d8d6f236ec/cache-71e721a650f1a51d.arrow\n"
     ]
    }
   ],
   "source": [
    "dataset = dataset.map(to_chatml).remove_columns(list(set(dataset[\"train\"].column_names) - {\"chatml\"}))"
   ]
  },
  {
   "cell_type": "code",
   "execution_count": 8,
   "id": "c1c52441-7de5-49fc-8a5f-096b909231cf",
   "metadata": {},
   "outputs": [
    {
     "name": "stderr",
     "output_type": "stream",
     "text": [
      "Pushing split train to the Hub.\n"
     ]
    },
    {
     "data": {
      "application/vnd.jupyter.widget-view+json": {
       "model_id": "22e7988a556c44bfb016a11b96dc79f2",
       "version_major": 2,
       "version_minor": 0
      },
      "text/plain": [
       "Pushing dataset shards to the dataset hub:   0%|          | 0/1 [00:00<?, ?it/s]"
      ]
     },
     "metadata": {},
     "output_type": "display_data"
    },
    {
     "data": {
      "application/vnd.jupyter.widget-view+json": {
       "model_id": "901e616fcaea46349d3cc81b9f7df34c",
       "version_major": 2,
       "version_minor": 0
      },
      "text/plain": [
       "Creating parquet from Arrow format:   0%|          | 0/3 [00:00<?, ?ba/s]"
      ]
     },
     "metadata": {},
     "output_type": "display_data"
    },
    {
     "data": {
      "application/vnd.jupyter.widget-view+json": {
       "model_id": "d194cf6b8a274a0db5cdb340224e6b0e",
       "version_major": 2,
       "version_minor": 0
      },
      "text/plain": [
       "Upload 1 LFS files:   0%|          | 0/1 [00:00<?, ?it/s]"
      ]
     },
     "metadata": {},
     "output_type": "display_data"
    }
   ],
   "source": [
    "dataset.push_to_hub(\"diwank/samantha-function-explanation\", private=True)"
   ]
  },
  {
   "cell_type": "code",
   "execution_count": null,
   "id": "f2672868-cc89-487c-b543-f8d10bbbb712",
   "metadata": {},
   "outputs": [],
   "source": []
  }
 ],
 "metadata": {
  "kernelspec": {
   "display_name": "Python 3 (ipykernel)",
   "language": "python",
   "name": "python3"
  },
  "language_info": {
   "codemirror_mode": {
    "name": "ipython",
    "version": 3
   },
   "file_extension": ".py",
   "mimetype": "text/x-python",
   "name": "python",
   "nbconvert_exporter": "python",
   "pygments_lexer": "ipython3",
   "version": "3.10.11"
  }
 },
 "nbformat": 4,
 "nbformat_minor": 5
}
