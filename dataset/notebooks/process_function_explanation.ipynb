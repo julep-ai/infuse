{
 "cells": [
  {
   "cell_type": "code",
   "execution_count": 1,
   "id": "9aa621b8-4ff2-41d0-ba0b-cefe27db2fd4",
   "metadata": {},
   "outputs": [],
   "source": [
    "import csv\n",
    "import glob\n",
    "import os\n",
    "import random\n",
    "\n",
    "from datasets import load_dataset, Dataset, DatasetDict"
   ]
  },
  {
   "cell_type": "code",
   "execution_count": 2,
   "id": "0a1f8cc3-876e-457e-aa60-73667c823e93",
   "metadata": {},
   "outputs": [
    {
     "data": {
      "application/vnd.jupyter.widget-view+json": {
       "model_id": "c4bd60153b934027aabe941afba0cf44",
       "version_major": 2,
       "version_minor": 0
      },
      "text/plain": [
       "Downloading readme:   0%|          | 0.00/545 [00:00<?, ?B/s]"
      ]
     },
     "metadata": {},
     "output_type": "display_data"
    },
    {
     "data": {
      "application/vnd.jupyter.widget-view+json": {
       "model_id": "e68b955b535b42278ad2143e2e7ecfff",
       "version_major": 2,
       "version_minor": 0
      },
      "text/plain": [
       "Downloading data files:   0%|          | 0/1 [00:00<?, ?it/s]"
      ]
     },
     "metadata": {},
     "output_type": "display_data"
    },
    {
     "data": {
      "application/vnd.jupyter.widget-view+json": {
       "model_id": "e315ad3ddf384061a3120ddcd55ee152",
       "version_major": 2,
       "version_minor": 0
      },
      "text/plain": [
       "Downloading data:   0%|          | 0.00/699k [00:00<?, ?B/s]"
      ]
     },
     "metadata": {},
     "output_type": "display_data"
    },
    {
     "data": {
      "application/vnd.jupyter.widget-view+json": {
       "model_id": "39a589bf4ebd4feca2fbce653000eab2",
       "version_major": 2,
       "version_minor": 0
      },
      "text/plain": [
       "Extracting data files:   0%|          | 0/1 [00:00<?, ?it/s]"
      ]
     },
     "metadata": {},
     "output_type": "display_data"
    },
    {
     "data": {
      "application/vnd.jupyter.widget-view+json": {
       "model_id": "04d72e9a40a5444e930494e02fc69112",
       "version_major": 2,
       "version_minor": 0
      },
      "text/plain": [
       "Generating train split:   0%|          | 0/2768 [00:00<?, ? examples/s]"
      ]
     },
     "metadata": {},
     "output_type": "display_data"
    }
   ],
   "source": [
    "dataset = load_dataset(\"joetey/functions_annotated_with_intents\")"
   ]
  },
  {
   "cell_type": "code",
   "execution_count": 3,
   "id": "4e150197-8a91-46c8-9e7d-c4e52a4b0071",
   "metadata": {},
   "outputs": [
    {
     "data": {
      "text/plain": [
       "{'function': 'def bfs(graph, s, t, parent):\\n    # Return True if there is node that has not iterated.\\n    visited = [False] * len(graph)\\n    queue = [s]\\n    visited[s] = True\\n\\n    while queue:\\n        u = queue.pop(0)\\n        for ind in range(len(graph[u])):\\n            if visited[ind] is False and graph[u][ind] > 0:\\n                queue.append(ind)\\n                visited[ind] = True\\n                parent[ind] = u\\n\\n    return visited[t]',\n",
       " 'intent_category': 'networking_flow',\n",
       " 'purpose': 'to find the shortest path from source to sink',\n",
       " 'code_trans': ' breadth - first search of a graph .',\n",
       " 'detailed_description': 'This function performs a breadth-first search on a graph. It takes in a graph, a starting node (s), an ending node (t), and a parent array. It then uses a queue to traverse the graph, marking each node'}"
      ]
     },
     "execution_count": 3,
     "metadata": {},
     "output_type": "execute_result"
    }
   ],
   "source": [
    "dataset[\"train\"][0]"
   ]
  },
  {
   "cell_type": "code",
   "execution_count": 4,
   "id": "6ade7538-c5da-4f05-9be3-11369b151c5e",
   "metadata": {},
   "outputs": [],
   "source": [
    "make_chatml = lambda name, role, content: dict(\n",
    "    name=name, role=role, content=content,\n",
    ")\n",
    "\n",
    "system = lambda name, content: make_chatml(\n",
    "    role=\"system\",\n",
    "    name=name,\n",
    "    content=content,\n",
    ")\n",
    "\n",
    "situation = lambda content: system(name=\"situation\", content=content)\n",
    "thought = lambda content: system(name=\"thought\", content=content)\n",
    "information = lambda content: system(name=\"information\", content=content)\n",
    "me = lambda content, name=None: make_chatml(\n",
    "    role=\"assistant\",\n",
    "    content=content,\n",
    "    name=name,\n",
    ")\n",
    "\n",
    "person = lambda content, name=None: make_chatml(\n",
    "    role=\"user\",\n",
    "    content=content,\n",
    "    name=name,\n",
    ")\n",
    "\n",
    "def to_chatml(row):\n",
    "    function = row[\"function\"]\n",
    "    intent_category = row[\"intent_category\"]\n",
    "    purpose = row[\"purpose\"]\n",
    "    code_trans = row[\"code_trans\"]\n",
    "    detailed_description = row[\"detailed_description\"]\n",
    "\n",
    "    chatml = [\n",
    "        situation(\n",
    "            f\"Person is discussing a function written in Python with Samantha.\"\n",
    "        ),\n",
    "        person(\n",
    "            f\"Hey Samantha! Can you explain this Python function to me?\\n\\n```python\\n{function}```\"\n",
    "        ),\n",
    "        me(detailed_description, name=\"Samantha\"),\n",
    "    ]\n",
    "\n",
    "    return dict(chatml=chatml)"
   ]
  },
  {
   "cell_type": "code",
   "execution_count": 5,
   "id": "26fd5d16-df4c-456e-a5c9-a452b75f4e56",
   "metadata": {},
   "outputs": [
    {
     "data": {
      "application/vnd.jupyter.widget-view+json": {
       "model_id": "a2398abb340a48f4931e9d971ec7202f",
       "version_major": 2,
       "version_minor": 0
      },
      "text/plain": [
       "Map:   0%|          | 0/2768 [00:00<?, ? examples/s]"
      ]
     },
     "metadata": {},
     "output_type": "display_data"
    }
   ],
   "source": [
    "dataset = dataset.map(to_chatml).remove_columns(list(set(dataset[\"train\"].column_names) - {\"chatml\"}))"
   ]
  },
  {
   "cell_type": "code",
   "execution_count": 6,
   "id": "c1c52441-7de5-49fc-8a5f-096b909231cf",
   "metadata": {},
   "outputs": [
    {
     "data": {
      "application/vnd.jupyter.widget-view+json": {
       "model_id": "c736ca03f030484881d649bba47664a6",
       "version_major": 2,
       "version_minor": 0
      },
      "text/plain": [
       "Pushing dataset shards to the dataset hub:   0%|          | 0/1 [00:00<?, ?it/s]"
      ]
     },
     "metadata": {},
     "output_type": "display_data"
    },
    {
     "data": {
      "application/vnd.jupyter.widget-view+json": {
       "model_id": "cad115de41f042e681ceea84c4d816ef",
       "version_major": 2,
       "version_minor": 0
      },
      "text/plain": [
       "Creating parquet from Arrow format:   0%|          | 0/3 [00:00<?, ?ba/s]"
      ]
     },
     "metadata": {},
     "output_type": "display_data"
    },
    {
     "data": {
      "application/vnd.jupyter.widget-view+json": {
       "model_id": "7d79ee1f2a374483beccf09d104cad22",
       "version_major": 2,
       "version_minor": 0
      },
      "text/plain": [
       "Deleting unused files from dataset repository:   0%|          | 0/1 [00:00<?, ?it/s]"
      ]
     },
     "metadata": {},
     "output_type": "display_data"
    },
    {
     "data": {
      "application/vnd.jupyter.widget-view+json": {
       "model_id": "91351f393fcc4068816a9258db4fb0a3",
       "version_major": 2,
       "version_minor": 0
      },
      "text/plain": [
       "Downloading metadata:   0%|          | 0.00/478 [00:00<?, ?B/s]"
      ]
     },
     "metadata": {},
     "output_type": "display_data"
    }
   ],
   "source": [
    "dataset.push_to_hub(\"diwank/samantha-function-explanation\", private=True)"
   ]
  },
  {
   "cell_type": "code",
   "execution_count": null,
   "id": "f2672868-cc89-487c-b543-f8d10bbbb712",
   "metadata": {},
   "outputs": [],
   "source": []
  }
 ],
 "metadata": {
  "kernelspec": {
   "display_name": "Python 3 (ipykernel)",
   "language": "python",
   "name": "python3"
  },
  "language_info": {
   "codemirror_mode": {
    "name": "ipython",
    "version": 3
   },
   "file_extension": ".py",
   "mimetype": "text/x-python",
   "name": "python",
   "nbconvert_exporter": "python",
   "pygments_lexer": "ipython3",
   "version": "3.10.12"
  }
 },
 "nbformat": 4,
 "nbformat_minor": 5
}
