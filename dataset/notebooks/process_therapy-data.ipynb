{
 "cells": [
  {
   "cell_type": "code",
   "execution_count": 4,
   "id": "6ab3c36a-da42-453d-bd44-619f844f19ec",
   "metadata": {},
   "outputs": [
    {
     "data": {
      "application/vnd.jupyter.widget-view+json": {
       "model_id": "",
       "version_major": 2,
       "version_minor": 0
      },
      "text/plain": [
       "Map:   0%|          | 0/1039 [00:00<?, ? examples/s]"
      ]
     },
     "metadata": {},
     "output_type": "display_data"
    }
   ],
   "source": [
    "import pandas as pd\n",
    "from datasets import Dataset, DatasetDict\n",
    "dir = \"../cache_data\"\n",
    "train_data = pd.read_parquet(f'{dir}/train.parquet', engine='pyarrow')\n",
    "test_data = pd.read_parquet(f'{dir}/test.parquet', engine='pyarrow')\n",
    "\n",
    "train_ds = Dataset.from_pandas(train_data)\n",
    "test_ds = Dataset.from_pandas(test_data)\n",
    "\n",
    "def add_txid(row, i):\n",
    "    row[\"transcript_id\"] = str(i)\n",
    "    return row\n",
    "    \n",
    "test_ds = test_ds.map(add_txid, with_indices=True)\n",
    "\n",
    "dataset = DatasetDict(dict(train=train_ds, test=test_ds))"
   ]
  },
  {
   "cell_type": "code",
   "execution_count": 17,
   "id": "ed22963b-6a85-4867-8981-fc305183a5c1",
   "metadata": {},
   "outputs": [
    {
     "name": "stderr",
     "output_type": "stream",
     "text": [
      "Pushing split train to the Hub.\n"
     ]
    },
    {
     "data": {
      "application/vnd.jupyter.widget-view+json": {
       "model_id": "981f9762470b41ee82772689e5746b85",
       "version_major": 2,
       "version_minor": 0
      },
      "text/plain": [
       "Pushing dataset shards to the dataset hub:   0%|          | 0/1 [00:00<?, ?it/s]"
      ]
     },
     "metadata": {},
     "output_type": "display_data"
    },
    {
     "data": {
      "application/vnd.jupyter.widget-view+json": {
       "model_id": "5ab1f301dda741fea3bd743713a6638b",
       "version_major": 2,
       "version_minor": 0
      },
      "text/plain": [
       "Creating parquet from Arrow format:   0%|          | 0/5 [00:00<?, ?ba/s]"
      ]
     },
     "metadata": {},
     "output_type": "display_data"
    },
    {
     "data": {
      "application/vnd.jupyter.widget-view+json": {
       "model_id": "a91a2b044c324df7ac56d6f02d2739da",
       "version_major": 2,
       "version_minor": 0
      },
      "text/plain": [
       "Upload 1 LFS files:   0%|          | 0/1 [00:00<?, ?it/s]"
      ]
     },
     "metadata": {},
     "output_type": "display_data"
    },
    {
     "name": "stderr",
     "output_type": "stream",
     "text": [
      "Pushing split test to the Hub.\n"
     ]
    },
    {
     "data": {
      "application/vnd.jupyter.widget-view+json": {
       "model_id": "9692643d8511482a95cc7cf4cd798e51",
       "version_major": 2,
       "version_minor": 0
      },
      "text/plain": [
       "Pushing dataset shards to the dataset hub:   0%|          | 0/1 [00:00<?, ?it/s]"
      ]
     },
     "metadata": {},
     "output_type": "display_data"
    },
    {
     "data": {
      "application/vnd.jupyter.widget-view+json": {
       "model_id": "3da21bec0eae45a98e5470b436bac9be",
       "version_major": 2,
       "version_minor": 0
      },
      "text/plain": [
       "Creating parquet from Arrow format:   0%|          | 0/2 [00:00<?, ?ba/s]"
      ]
     },
     "metadata": {},
     "output_type": "display_data"
    },
    {
     "data": {
      "application/vnd.jupyter.widget-view+json": {
       "model_id": "5714e8fefae34a9ea33e2076066cda1f",
       "version_major": 2,
       "version_minor": 0
      },
      "text/plain": [
       "Upload 1 LFS files:   0%|          | 0/1 [00:00<?, ?it/s]"
      ]
     },
     "metadata": {},
     "output_type": "display_data"
    }
   ],
   "source": [
    "dataset.push_to_hub(\"diwank/michelleyun-therapydata\", private=True)"
   ]
  },
  {
   "cell_type": "code",
   "execution_count": 5,
   "id": "72397d45-996d-46f8-8653-8f89e6fd00f7",
   "metadata": {},
   "outputs": [
    {
     "data": {
      "application/vnd.jupyter.widget-view+json": {
       "model_id": "5eff942407ec497e9fddf32a1a5074b8",
       "version_major": 2,
       "version_minor": 0
      },
      "text/plain": [
       "Pushing dataset shards to the dataset hub:   0%|          | 0/1 [00:00<?, ?it/s]"
      ]
     },
     "metadata": {},
     "output_type": "display_data"
    },
    {
     "data": {
      "application/vnd.jupyter.widget-view+json": {
       "model_id": "f59783f15a69482cbb1267b1bbe4c0ee",
       "version_major": 2,
       "version_minor": 0
      },
      "text/plain": [
       "Creating parquet from Arrow format:   0%|          | 0/1 [00:00<?, ?ba/s]"
      ]
     },
     "metadata": {},
     "output_type": "display_data"
    },
    {
     "data": {
      "application/vnd.jupyter.widget-view+json": {
       "model_id": "cee982e2439a4a47a1f79f3e9e29e1f7",
       "version_major": 2,
       "version_minor": 0
      },
      "text/plain": [
       "Upload 1 LFS files:   0%|          | 0/1 [00:00<?, ?it/s]"
      ]
     },
     "metadata": {},
     "output_type": "display_data"
    }
   ],
   "source": [
    "def to_transcript(group):\n",
    "    records = group.to_dict('records')\n",
    "    topic = records[0][\"topic\"]\n",
    "    transcript_id = int(records[0][\"transcript_id\"])\n",
    "    \n",
    "    data = dict(\n",
    "        transcript_id=transcript_id,\n",
    "        topic=topic,\n",
    "        transcript=[\n",
    "            dict(\n",
    "                interlocutor=row[\"interlocutor\"],\n",
    "                utterance=row[\"utterance_text\"],\n",
    "                therapist_behavior=row[\"main_therapist_behaviour\"],\n",
    "                client_talk_type=row[\"client_talk_type\"],\n",
    "            )\n",
    "            for row in records\n",
    "        ]\n",
    "    )\n",
    "\n",
    "    return pd.DataFrame([data])\n",
    "\n",
    "train_data = train_data.groupby(\"transcript_id\").apply(to_transcript)\n",
    "dataset = Dataset.from_pandas(train_data)\n",
    "dataset.push_to_hub(\"diwank/therapydata\", private=True)"
   ]
  },
  {
   "cell_type": "code",
   "execution_count": null,
   "id": "149e2819-fddf-4465-b8e2-f2bca708f392",
   "metadata": {},
   "outputs": [],
   "source": []
  }
 ],
 "metadata": {
  "kernelspec": {
   "display_name": "Python 3 (ipykernel)",
   "language": "python",
   "name": "python3"
  },
  "language_info": {
   "codemirror_mode": {
    "name": "ipython",
    "version": 3
   },
   "file_extension": ".py",
   "mimetype": "text/x-python",
   "name": "python",
   "nbconvert_exporter": "python",
   "pygments_lexer": "ipython3",
   "version": "3.10.11"
  }
 },
 "nbformat": 4,
 "nbformat_minor": 5
}
