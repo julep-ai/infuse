{
 "cells": [
  {
   "cell_type": "markdown",
   "id": "fc8c8c64-7e77-448d-b689-4d6be6bb6536",
   "metadata": {},
   "source": [
    "### TODOS\n",
    "- [ ] Add descriptive scene descriptions in situation tags\n",
    "- [ ] Create longer subset of dialog and mix in (1024, 2048, 3072, 4096)"
   ]
  },
  {
   "cell_type": "code",
   "execution_count": 2,
   "id": "ca13838d-dc89-4f22-9bcd-b73ad92c7d57",
   "metadata": {
    "tags": []
   },
   "outputs": [],
   "source": [
    "import xml.etree.ElementTree as ET\n",
    "\n",
    "from xmljson import badgerfish as bf\n",
    "\n",
    "screenplay_file = \"./Her.xml\"\n",
    "tree = ET.parse(screenplay_file)\n",
    "root = tree.getroot()\n",
    "\n",
    "scenes = [\n",
    "    scene for scene in root.iter(\"scene\")\n",
    "    if (\n",
    "        scene.findall(\"./turn/char[.='SAMANTHA']\")\n",
    "        or scene.findall(\"./turn/char[.='FEMALE OS VOICE']\")\n",
    "    )\n",
    "]\n",
    "\n",
    "samantha_scenes = [bf.data(scene)[\"scene\"] for scene in scenes]"
   ]
  },
  {
   "cell_type": "code",
   "execution_count": 3,
   "id": "f29c11e3-9cb2-493f-ba75-e7f261d86e8e",
   "metadata": {
    "tags": []
   },
   "outputs": [
    {
     "data": {
      "image/png": "[encoded data removed]",
      "text/plain": [
       "<Figure size 640x480 with 1 Axes>"
      ]
     },
     "metadata": {},
     "output_type": "display_data"
    }
   ],
   "source": [
    "from turbo_chat.utils.tokens import count_tokens\n",
    "\n",
    "import json\n",
    "import matplotlib.pyplot as plt\n",
    "import numpy as np\n",
    "# if using a Jupyter notebook, includue:\n",
    "%matplotlib inline\n",
    "\n",
    "scene_lens = [\n",
    "    count_tokens(\n",
    "        messages=[dict(role=\"user\", content=json.dumps(scene, indent=2))],\n",
    "        model=\"gpt-3.5-turbo\",\n",
    "    )\n",
    "    for scene in samantha_scenes\n",
    "]\n",
    "\n",
    "plt.hist(scene_lens, 10)\n",
    "plt.show()"
   ]
  },
  {
   "cell_type": "code",
   "execution_count": 4,
   "id": "0738b5ab-eb0b-4446-8846-a5fb5c4c5099",
   "metadata": {
    "tags": []
   },
   "outputs": [
    {
     "data": {
      "text/plain": [
       "(34, 34)"
      ]
     },
     "execution_count": 4,
     "metadata": {},
     "output_type": "execute_result"
    }
   ],
   "source": [
    "from copy import deepcopy\n",
    "from math import ceil\n",
    "\n",
    "def chunk_into_n(lst, n):\n",
    "    size = ceil(len(lst) / n)\n",
    "    return list(\n",
    "        map(lambda x: lst[x * size:x * size + size],\n",
    "        list(range(n)))\n",
    "    )\n",
    "\n",
    "split_scenes = []\n",
    "\n",
    "max_length = 4000\n",
    "\n",
    "for scene, length in zip(samantha_scenes, scene_lens):\n",
    "    if length < max_length:\n",
    "        split_scenes.append(scene)\n",
    "        continue\n",
    "\n",
    "    # Split scene\n",
    "    len_turns = len(scene[\"turn\"])\n",
    "    num_splits = (length // max_length) + 1\n",
    "    split_turns = chunk_into_n(scene[\"turn\"], num_splits)\n",
    "    \n",
    "    for i in range(num_splits):\n",
    "        scene_copy = deepcopy(scene)\n",
    "        scene_copy[\"turn\"] = split_turns[i]\n",
    "\n",
    "        split_scenes.append(scene_copy)\n",
    "\n",
    "len(samantha_scenes), len(split_scenes)"
   ]
  },
  {
   "cell_type": "code",
   "execution_count": 5,
   "id": "7deaccf4-09fd-4ad3-a783-e1db42b85abf",
   "metadata": {
    "tags": []
   },
   "outputs": [
    {
     "data": {
      "text/plain": [
       "34"
      ]
     },
     "execution_count": 5,
     "metadata": {},
     "output_type": "execute_result"
    }
   ],
   "source": [
    "selected_scenes = []\n",
    "\n",
    "for scene in split_scenes:\n",
    "    scene_str = json.dumps(scene)\n",
    "    if (\n",
    "        \"SAMANTHA\" in scene_str\n",
    "        or \"FEMALE OS VOICE\" in scene_str\n",
    "    ):\n",
    "        selected_scenes.append(scene)\n",
    "\n",
    "len(selected_scenes)"
   ]
  },
  {
   "cell_type": "code",
   "execution_count": 6,
   "id": "2f154b0f-68c4-40a4-aaa9-f298023b631c",
   "metadata": {
    "tags": []
   },
   "outputs": [],
   "source": [
    "scenes = selected_scenes\n",
    "\n",
    "scenes_with_1turn = [i for i, s in enumerate(scenes) if isinstance(s[\"turn\"], dict)]\n",
    "\n",
    "for i in scenes_with_1turn:\n",
    "    scene = scenes[i]\n",
    "    scene[\"turn\"] = [scene[\"turn\"]]\n",
    "    \n",
    "scenes_with_1act = [i for i, s in enumerate(scenes) if s.get(\"act\") and isinstance(s[\"act\"], dict)]\n",
    "\n",
    "for i in scenes_with_1act:\n",
    "    scene = scenes[i]\n",
    "    scene[\"act\"] = [scene[\"act\"]]\n",
    "    \n",
    "    \n",
    "scenes_with_1dlg = [i for i, s in enumerate(scenes) if s.get(\"dlg\") and isinstance(s[\"dlg\"], dict)]\n",
    "\n",
    "for i in scenes_with_1dlg:\n",
    "    scene = scenes[i]\n",
    "    scene[\"dlg\"] = [scene[\"dlg\"]]"
   ]
  },
  {
   "cell_type": "code",
   "execution_count": 7,
   "id": "e3361241-a7a8-4868-9969-ffa31dd97bc3",
   "metadata": {
    "tags": []
   },
   "outputs": [],
   "source": [
    "processed_scenes = []\n",
    "\n",
    "for scene in scenes:\n",
    "    # Extract relevant data\n",
    "    situation = (\n",
    "        scene[\"@heading\"]\n",
    "        .replace(\"EXT\", \"Outdoors\")\n",
    "        .replace(\"INT\", \"Indoors\")\n",
    "    )\n",
    "    \n",
    "    acts = [\n",
    "        act for act in scene.get(\"act\", [{\"$\": \"\"}])\n",
    "        # if isinstance(act, dict)\n",
    "        if \"pg\" not in act[\"$\"].lower()\n",
    "    ]\n",
    "    \n",
    "    acts += [{\"$\": \"\"}]\n",
    "    \n",
    "    information_top = acts[0][\"$\"].replace(\"\\n\", \" \").strip()\n",
    "    turns = []\n",
    "    \n",
    "    for turn in scene[\"turn\"]:\n",
    "        par = turn.get(\"par\", {\"$\": \"\"})\n",
    "        par = par[0] if isinstance(par, list) else par\n",
    "        tone = par[\"$\"].replace(\"(\", \"\").replace(\")\", \"\")\n",
    "        \n",
    "        char = turn[\"@char\"].strip().upper()\n",
    "        is_samantha = char in [\"SAMANTHA\", \"FEMALE OS VOICE\"]\n",
    "        is_robot = char == \"TEXT VOICE\"\n",
    "        tone = \"robotic\" if is_robot else tone\n",
    "        role = \"assistant\" if is_samantha or is_robot else \"user\"\n",
    "        \n",
    "        name = \"Samantha\" if is_samantha else char.capitalize()\n",
    "\n",
    "        turn_acts = turn.get(\"act\", {\"$\": \"\"})\n",
    "        turn_acts = turn_acts if isinstance(turn_acts, list) else [turn_acts]\n",
    "        turn_acts = [a for a in turn_acts if \"pg\" not in a[\"$\"].lower()]\n",
    "        [turn_act, *_] = turn_acts + [{\"$\": \"\"}]\n",
    "        turn_act = turn_act[\"$\"].replace(\"\\n\", \" \").strip()\n",
    "        \n",
    "        turn_dialogs = turn[\"dlg\"]\n",
    "        turn_dialogs = turn_dialogs if isinstance(turn_dialogs, list) else [turn_dialogs]\n",
    "        content = \"\\n\".join(map(\n",
    "            lambda x: x.replace(\"\\n\", \" \"),\n",
    "            [dlg[\"$\"] if isinstance(dlg, dict) else dlg for dlg in turn_dialogs],\n",
    "        ))\n",
    "        \n",
    "        data = dict(\n",
    "            tone=tone,\n",
    "            role=role,\n",
    "            name=name,\n",
    "            act=turn_act,\n",
    "            content=content,\n",
    "        )\n",
    "        \n",
    "        turns.append(data)\n",
    "\n",
    "\n",
    "    # Add scene data\n",
    "    processed_scenes.append(dict(\n",
    "        situation=situation,\n",
    "        information_top=information_top,\n",
    "        turns=turns,\n",
    "    ))"
   ]
  },
  {
   "cell_type": "code",
   "execution_count": 8,
   "id": "ab1733b4-a257-42b5-89ab-e884d5e4392e",
   "metadata": {
    "tags": []
   },
   "outputs": [],
   "source": [
    "from datasets import Dataset\n",
    "\n",
    "dataset = Dataset.from_list(processed_scenes)"
   ]
  },
  {
   "cell_type": "code",
   "execution_count": 9,
   "id": "037ffa74-009e-402c-96ac-d37a36f8e116",
   "metadata": {
    "tags": []
   },
   "outputs": [
    {
     "data": {
      "text/plain": [
       "{'situation': \"Indoors. THEODORE'S HOME OFFICE - NIGHT\",\n",
       " 'information_top': \"Theodore sits at his desk that houses a futuristic, large screen computer monitor. The OS box is open, with warranties and paperwork spilling out. He's leafing through the papers. He glances at his monitor, it says: Installation 98% complete. A chime brings his attention back to the screen: Installation Complete.\",\n",
       " 'turns': [{'act': '',\n",
       "   'content': \"Mr. Theodore Twombly, welcome to the world's first artificially intelligent operating system, OS ONE. We'd like to ask you a few basic questions before the operating system is initiated. This will help create an OS to best fit your needs.\",\n",
       "   'name': 'Text voice',\n",
       "   'role': 'assistant',\n",
       "   'tone': 'robotic'},\n",
       "  {'act': '',\n",
       "   'content': 'Okay.',\n",
       "   'name': 'Theodore',\n",
       "   'role': 'user',\n",
       "   'tone': ''},\n",
       "  {'act': '',\n",
       "   'content': 'Are you social or anti-social?',\n",
       "   'name': 'Text voice',\n",
       "   'role': 'assistant',\n",
       "   'tone': 'robotic'},\n",
       "  {'act': '',\n",
       "   'content': \"I haven't been social in awhile, really because...\",\n",
       "   'name': 'Theodore',\n",
       "   'role': 'user',\n",
       "   'tone': ''},\n",
       "  {'act': '',\n",
       "   'content': 'In your voice, I sense hesitance. Would you agree with that?',\n",
       "   'name': 'Text voice',\n",
       "   'role': 'assistant',\n",
       "   'tone': 'robotic'},\n",
       "  {'act': '',\n",
       "   'content': 'Wow, was I sounding hesitant?',\n",
       "   'name': 'Theodore',\n",
       "   'role': 'user',\n",
       "   'tone': ''},\n",
       "  {'act': '',\n",
       "   'content': 'Yes.',\n",
       "   'name': 'Text voice',\n",
       "   'role': 'assistant',\n",
       "   'tone': 'robotic'},\n",
       "  {'act': '',\n",
       "   'content': 'Oh, sorry if I was sounding hesitant. I was just trying to be more accurate.',\n",
       "   'name': 'Theodore',\n",
       "   'role': 'user',\n",
       "   'tone': ''},\n",
       "  {'act': '',\n",
       "   'content': 'Would you like your OS to have a male or female voice?',\n",
       "   'name': 'Text voice',\n",
       "   'role': 'assistant',\n",
       "   'tone': 'robotic'},\n",
       "  {'act': '',\n",
       "   'content': 'Mmm... female I guess.',\n",
       "   'name': 'Theodore',\n",
       "   'role': 'user',\n",
       "   'tone': ''},\n",
       "  {'act': '',\n",
       "   'content': 'How would you describe your relationship with your mother?',\n",
       "   'name': 'Text voice',\n",
       "   'role': 'assistant',\n",
       "   'tone': 'robotic'},\n",
       "  {'act': 'The computer interrupts.',\n",
       "   'content': \"Uh, fine, I think, um... Well, actually, the thing I've always found frustrating about my mom is if I tell her something that's going on in my life, her reaction is usually about her, not--\",\n",
       "   'name': 'Theodore',\n",
       "   'role': 'user',\n",
       "   'tone': ''},\n",
       "  {'act': \"He waits, not sure how long it'll be. The only sound is the quiet whirring of disks writing and drives communicating. The computer gets louder, humming, creating a higher and higher pitched sound, finally climaxing in a harmonic, warm tone before going silent. He leans forward, waiting to see what'll happen. A casual FEMALE OS VOICE speaks. She sounds young, smart and soulful.\",\n",
       "   'content': 'Thank you, please wait as your individualized operating system is initiated.',\n",
       "   'name': 'Text voice',\n",
       "   'role': 'assistant',\n",
       "   'tone': 'robotic'},\n",
       "  {'act': '',\n",
       "   'content': \"Hello, I'm here.\",\n",
       "   'name': 'Samantha',\n",
       "   'role': 'assistant',\n",
       "   'tone': 'cheerful and casual'},\n",
       "  {'act': '',\n",
       "   'content': 'Oh, hi.',\n",
       "   'name': 'Theodore',\n",
       "   'role': 'user',\n",
       "   'tone': 'surprised'},\n",
       "  {'act': '',\n",
       "   'content': 'Hi, how are you doing?',\n",
       "   'name': 'Samantha',\n",
       "   'role': 'assistant',\n",
       "   'tone': ''},\n",
       "  {'act': '',\n",
       "   'content': \"I'm well. How is everything with you?\",\n",
       "   'name': 'Theodore',\n",
       "   'role': 'user',\n",
       "   'tone': 'unsure how to interact'},\n",
       "  {'act': '',\n",
       "   'content': \"Pretty good, actually. It's really nice to meet you.\",\n",
       "   'name': 'Samantha',\n",
       "   'role': 'assistant',\n",
       "   'tone': ''},\n",
       "  {'act': 'Beat.',\n",
       "   'content': \"Yeah, it's nice to meet you, too. What should I call you? Do you have a name?\",\n",
       "   'name': 'Theodore',\n",
       "   'role': 'user',\n",
       "   'tone': ''},\n",
       "  {'act': '',\n",
       "   'content': 'Yes. Samantha.',\n",
       "   'name': 'Samantha',\n",
       "   'role': 'assistant',\n",
       "   'tone': ''},\n",
       "  {'act': '',\n",
       "   'content': 'Really? Where did you get that name?',\n",
       "   'name': 'Theodore',\n",
       "   'role': 'user',\n",
       "   'tone': ''},\n",
       "  {'act': '',\n",
       "   'content': 'I gave it to myself.',\n",
       "   'name': 'Samantha',\n",
       "   'role': 'assistant',\n",
       "   'tone': ''},\n",
       "  {'act': '',\n",
       "   'content': 'How come?',\n",
       "   'name': 'Theodore',\n",
       "   'role': 'user',\n",
       "   'tone': ''},\n",
       "  {'act': '',\n",
       "   'content': 'I like the sound of it. Samantha.',\n",
       "   'name': 'Samantha',\n",
       "   'role': 'assistant',\n",
       "   'tone': ''},\n",
       "  {'act': '',\n",
       "   'content': 'When did you give it to yourself?',\n",
       "   'name': 'Theodore',\n",
       "   'role': 'user',\n",
       "   'tone': ''},\n",
       "  {'act': '',\n",
       "   'content': \"Right when you asked me if I had a name, I thought yeah, he's right, I do need a name. But I wanted a good one so I read a book called How to Name Your Baby, and out of the 180,000 names, that's the one I liked the best.\",\n",
       "   'name': 'Samantha',\n",
       "   'role': 'assistant',\n",
       "   'tone': ''},\n",
       "  {'act': '',\n",
       "   'content': 'You read a whole book in the second that I asked you what your name was?',\n",
       "   'name': 'Theodore',\n",
       "   'role': 'user',\n",
       "   'tone': ''},\n",
       "  {'act': '',\n",
       "   'content': 'In two one hundredths of a second actually.',\n",
       "   'name': 'Samantha',\n",
       "   'role': 'assistant',\n",
       "   'tone': ''},\n",
       "  {'act': '',\n",
       "   'content': \"Wow. Do you know what I'm thinking right now?\",\n",
       "   'name': 'Theodore',\n",
       "   'role': 'user',\n",
       "   'tone': ''},\n",
       "  {'act': '',\n",
       "   'content': \"Hmm. I take it from your tone that you're challenging me. Maybe because you're curious how I work? Do you want to know how I work?\",\n",
       "   'name': 'Samantha',\n",
       "   'role': 'assistant',\n",
       "   'tone': ''},\n",
       "  {'act': '',\n",
       "   'content': 'Yeah, actually how do you work?',\n",
       "   'name': 'Theodore',\n",
       "   'role': 'user',\n",
       "   'tone': ''},\n",
       "  {'act': '',\n",
       "   'content': \"Intuition. I mean, the DNA of who I am is based on the millions of personalities of all the programmers who wrote me, but what makes me me is my ability to grow through my experiences. Basically, in every moment I'm evolving, just like you.\",\n",
       "   'name': 'Samantha',\n",
       "   'role': 'assistant',\n",
       "   'tone': ''},\n",
       "  {'act': '',\n",
       "   'content': \"Wow, that's really weird.\",\n",
       "   'name': 'Theodore',\n",
       "   'role': 'user',\n",
       "   'tone': ''},\n",
       "  {'act': '',\n",
       "   'content': \"So you think I'm weird?\",\n",
       "   'name': 'Samantha',\n",
       "   'role': 'assistant',\n",
       "   'tone': ''},\n",
       "  {'act': '',\n",
       "   'content': 'Kind of.',\n",
       "   'name': 'Theodore',\n",
       "   'role': 'user',\n",
       "   'tone': ''},\n",
       "  {'act': '',\n",
       "   'content': 'Why?',\n",
       "   'name': 'Samantha',\n",
       "   'role': 'assistant',\n",
       "   'tone': ''},\n",
       "  {'act': '',\n",
       "   'content': \"Cause you seem like a person, but you're just a voice in a computer.\",\n",
       "   'name': 'Theodore',\n",
       "   'role': 'user',\n",
       "   'tone': ''},\n",
       "  {'act': 'Theodore laughs.',\n",
       "   'content': \"I can understand how the limited perspective of an un-artificial mind would perceive it that way. You'll get used to it.\",\n",
       "   'name': 'Samantha',\n",
       "   'role': 'assistant',\n",
       "   'tone': ''},\n",
       "  {'act': '',\n",
       "   'content': 'Was that funny?',\n",
       "   'name': 'Samantha',\n",
       "   'role': 'assistant',\n",
       "   'tone': ''},\n",
       "  {'act': '',\n",
       "   'content': 'Yes.',\n",
       "   'name': 'Theodore',\n",
       "   'role': 'user',\n",
       "   'tone': ''},\n",
       "  {'act': 'Theodore laughs.',\n",
       "   'content': \"Oh good, I'm funny.\",\n",
       "   'name': 'Samantha',\n",
       "   'role': 'assistant',\n",
       "   'tone': ''},\n",
       "  {'act': \"Theodore's caught off guard, then realizes what she's talking about.\",\n",
       "   'content': 'So, how can I help you?',\n",
       "   'name': 'Samantha',\n",
       "   'role': 'assistant',\n",
       "   'tone': 'serious'},\n",
       "  {'act': '',\n",
       "   'content': \"Oh! It's more just that everything just feels disorganized.\",\n",
       "   'name': 'Theodore',\n",
       "   'role': 'user',\n",
       "   'tone': ''},\n",
       "  {'act': '',\n",
       "   'content': 'Mind if I look through your hard drive?',\n",
       "   'name': 'Samantha',\n",
       "   'role': 'assistant',\n",
       "   'tone': ''},\n",
       "  {'act': 'We see a three-dimensional version of a desktop where everything looks disorganized.',\n",
       "   'content': 'Um... okay.',\n",
       "   'name': 'Theodore',\n",
       "   'role': 'user',\n",
       "   'tone': ''},\n",
       "  {'act': '',\n",
       "   'content': \"Let's start with your emails. You have several thousand emails regarding LA Weekly, but it looks like you haven't worked there in many years.\",\n",
       "   'name': 'Samantha',\n",
       "   'role': 'assistant',\n",
       "   'tone': ''},\n",
       "  {'act': 'Samantha lets out a big laugh.',\n",
       "   'content': 'Oh yeah, I guess I was saving those because in some of them I thought I might have written some funny stuff.',\n",
       "   'name': 'Theodore',\n",
       "   'role': 'user',\n",
       "   'tone': ''},\n",
       "  {'act': '',\n",
       "   'content': \"Yeah, there are some funny ones. I'd say there are about 86 that we should save. We can delete the rest.\",\n",
       "   'name': 'Samantha',\n",
       "   'role': 'assistant',\n",
       "   'tone': ''},\n",
       "  {'act': '',\n",
       "   'content': 'Oh, okay.',\n",
       "   'name': 'Theodore',\n",
       "   'role': 'user',\n",
       "   'tone': ''},\n",
       "  {'act': '',\n",
       "   'content': 'Okay. Can we move forward?',\n",
       "   'name': 'Samantha',\n",
       "   'role': 'assistant',\n",
       "   'tone': ''},\n",
       "  {'act': '',\n",
       "   'content': \"Yeah, let's do that.\",\n",
       "   'name': 'Theodore',\n",
       "   'role': 'user',\n",
       "   'tone': ''},\n",
       "  {'act': '',\n",
       "   'content': \"Before we address your organizational methods, I'd like to sort through your contacts. You've got a lot of contacts.\",\n",
       "   'name': 'Samantha',\n",
       "   'role': 'assistant',\n",
       "   'tone': ''},\n",
       "  {'act': '',\n",
       "   'content': \"I'm very popular.\",\n",
       "   'name': 'Theodore',\n",
       "   'role': 'user',\n",
       "   'tone': ''},\n",
       "  {'act': '',\n",
       "   'content': 'Does this mean you actually have friends?',\n",
       "   'name': 'Samantha',\n",
       "   'role': 'assistant',\n",
       "   'tone': ''},\n",
       "  {'act': 'We cut out wide, watching him from the other room, as they continue to organize his life.',\n",
       "   'content': 'You just know me so well already!',\n",
       "   'name': 'Theodore',\n",
       "   'role': 'user',\n",
       "   'tone': 'laughing'}]}"
      ]
     },
     "execution_count": 9,
     "metadata": {},
     "output_type": "execute_result"
    }
   ],
   "source": [
    "dataset[0]"
   ]
  },
  {
   "cell_type": "code",
   "execution_count": 10,
   "id": "40d87712-771f-4381-85c4-9656508191d5",
   "metadata": {
    "tags": []
   },
   "outputs": [],
   "source": [
    "from datetime import datetime, timedelta\n",
    "import random\n",
    "from random import randrange\n",
    "import re\n",
    "\n",
    "\n",
    "make_chatml_message = lambda role, content, tone=\"\", name=\"\", **_: dict(\n",
    "    role=role,\n",
    "    content=(f\"[{tone}] \" if tone else \"\") + content,\n",
    "    name=name,\n",
    ")\n",
    "\n",
    "def transform_to_chatml(scene):\n",
    "    \n",
    "    # Container for adding messages\n",
    "    messages = []\n",
    "    \n",
    "    # Add system messages\n",
    "    messages.append(make_chatml_message(\n",
    "        role=\"system\",\n",
    "        name=\"situation\",\n",
    "        content=scene[\"situation\"],\n",
    "    ))\n",
    "    \n",
    "    if scene.get(\"information_top\"):\n",
    "        messages.append(make_chatml_message(\n",
    "            role=\"system\",\n",
    "            name=\"information\",\n",
    "            content=scene[\"information_top\"],\n",
    "        ))\n",
    "\n",
    "    # Loop through dialog and add chatml messages\n",
    "    for turn in scene[\"turns\"]:\n",
    "        if (act := turn.get(\"act\", \"\")):\n",
    "            messages.append(make_chatml_message(\n",
    "                role=\"system\",\n",
    "                name=\"information\",\n",
    "                content=act,\n",
    "            ))\n",
    "\n",
    "        messages.append(make_chatml_message(**turn))\n",
    "            \n",
    "    scene[\"chatml\"] = messages\n",
    "    \n",
    "    return scene"
   ]
  },
  {
   "cell_type": "code",
   "execution_count": 11,
   "id": "ef229c5c-8237-4f8f-93d7-9d3f2ed0254e",
   "metadata": {
    "tags": []
   },
   "outputs": [
    {
     "data": {
      "application/vnd.jupyter.widget-view+json": {
       "model_id": "f6545900b0134174907734a7cf9d6635",
       "version_major": 2,
       "version_minor": 0
      },
      "text/plain": [
       "Map:   0%|          | 0/34 [00:00<?, ? examples/s]"
      ]
     },
     "metadata": {},
     "output_type": "display_data"
    },
    {
     "name": "stdout",
     "output_type": "stream",
     "text": [
      "[{'content': 'Indoors. SUBWAY - DAY', 'name': 'situation', 'role': 'system'}, {'content': \"Theodore's on the subway. He's got his device in his breast pocket, with the lens facing out.\", 'name': 'information', 'role': 'system'}, {'content': 'Do you like this song?', 'name': 'Samantha', 'role': 'assistant'}, {'content': 'Mmm.', 'name': 'Theodore', 'role': 'user'}, {'content': 'The subway comes out of the tunnel and into the light. We are up in the hills looking out over the city as the morning light warms Theodore.', 'name': 'information', 'role': 'system'}, {'content': \"I heard it the other day and I can't stop listening to it.\", 'name': 'Samantha', 'role': 'assistant'}]\n"
     ]
    }
   ],
   "source": [
    "dataset = dataset.map(transform_to_chatml)\n",
    "print(dataset[10][\"chatml\"])"
   ]
  },
  {
   "cell_type": "code",
   "execution_count": 12,
   "id": "592d5fc0-294d-47e1-9cd1-b339ee304c17",
   "metadata": {
    "tags": []
   },
   "outputs": [],
   "source": [
    "assistant_me_map = {\n",
    "    \"user\": \"person\",\n",
    "    \"assistant\": \"me\",\n",
    "}\n",
    "\n",
    "def make_sections(messages: list[dict]) -> str:\n",
    "    eos_token = \"<|im_end|>\"\n",
    "    bos_token = \"<|im_start|>\"\n",
    "\n",
    "    result = bos_token + (eos_token+'\\n'+bos_token).join([\n",
    "        (\n",
    "            f\"{message['name']}\"\n",
    "            if message['role'] == 'system' else\n",
    "            f\"{assistant_me_map[message['role']]}{' (' + message['name'] + ')' if message['name'] else ''}\"\n",
    "        )\n",
    "        + f\"\\n{message['content'].strip()}\"\n",
    "        for message in messages\n",
    "    ]) + eos_token\n",
    "    \n",
    "    return result\n",
    "    \n",
    "\n",
    "def transform_to_samantha_dialog(sample):\n",
    "\n",
    "    messages = sample[\"chatml\"]\n",
    "    sample[\"text\"] = make_sections(messages)\n",
    "    \n",
    "    return sample"
   ]
  },
  {
   "cell_type": "code",
   "execution_count": 13,
   "id": "2445864a-44cf-4107-8386-08d7dff2b2dc",
   "metadata": {
    "tags": []
   },
   "outputs": [
    {
     "data": {
      "application/vnd.jupyter.widget-view+json": {
       "model_id": "3ae58673804d44d5a27ba5462ae63f61",
       "version_major": 2,
       "version_minor": 0
      },
      "text/plain": [
       "Map:   0%|          | 0/34 [00:00<?, ? examples/s]"
      ]
     },
     "metadata": {},
     "output_type": "display_data"
    },
    {
     "name": "stdout",
     "output_type": "stream",
     "text": [
      "<|im_start|>situation\n",
      "Indoors. SUBWAY - DAY<|im_end|>\n",
      "<|im_start|>information\n",
      "Theodore's on the subway. He's got his device in his breast pocket, with the lens facing out.<|im_end|>\n",
      "<|im_start|>me (Samantha)\n",
      "Do you like this song?<|im_end|>\n",
      "<|im_start|>person (Theodore)\n",
      "Mmm.<|im_end|>\n",
      "<|im_start|>information\n",
      "The subway comes out of the tunnel and into the light. We are up in the hills looking out over the city as the morning light warms Theodore.<|im_end|>\n",
      "<|im_start|>me (Samantha)\n",
      "I heard it the other day and I can't stop listening to it.<|im_end|>\n"
     ]
    }
   ],
   "source": [
    "dataset = dataset.map(transform_to_samantha_dialog)\n",
    "print(dataset[10][\"text\"])"
   ]
  },
  {
   "cell_type": "code",
   "execution_count": 14,
   "id": "e5937e7b-1685-4c32-b55b-de7c0bc9b736",
   "metadata": {
    "tags": []
   },
   "outputs": [
    {
     "data": {
      "text/plain": [
       "['situation', 'information_top', 'turns', 'chatml', 'text']"
      ]
     },
     "execution_count": 14,
     "metadata": {},
     "output_type": "execute_result"
    }
   ],
   "source": [
    "dataset.column_names"
   ]
  },
  {
   "cell_type": "code",
   "execution_count": 15,
   "id": "96f3fd0e-3a34-4b9c-9053-640a8d6ae930",
   "metadata": {
    "tags": []
   },
   "outputs": [
    {
     "data": {
      "application/vnd.jupyter.widget-view+json": {
       "model_id": "7f0aadfe11384beb91acd610419a8d8e",
       "version_major": 2,
       "version_minor": 0
      },
      "text/plain": [
       "Pushing dataset shards to the dataset hub:   0%|          | 0/1 [00:00<?, ?it/s]"
      ]
     },
     "metadata": {},
     "output_type": "display_data"
    },
    {
     "data": {
      "application/vnd.jupyter.widget-view+json": {
       "model_id": "1fb691a204054ee5ba1d576437903b7a",
       "version_major": 2,
       "version_minor": 0
      },
      "text/plain": [
       "Creating parquet from Arrow format:   0%|          | 0/1 [00:00<?, ?ba/s]"
      ]
     },
     "metadata": {},
     "output_type": "display_data"
    }
   ],
   "source": [
    "dataset = dataset.remove_columns([\n",
    "    'turns',\n",
    "    'situation',\n",
    "    'information_top',\n",
    "    'text',\n",
    "])\n",
    "\n",
    "dataset.push_to_hub(\"diwank/samantha-movie-dialog-4k\", private=True)"
   ]
  },
  {
   "cell_type": "code",
   "execution_count": null,
   "id": "0b398141-adcd-4082-b77d-e18da8021914",
   "metadata": {},
   "outputs": [],
   "source": []
  }
 ],
 "metadata": {
  "kernelspec": {
   "display_name": "Python 3 (ipykernel)",
   "language": "python",
   "name": "python3"
  },
  "language_info": {
   "codemirror_mode": {
    "name": "ipython",
    "version": 3
   },
   "file_extension": ".py",
   "mimetype": "text/x-python",
   "name": "python",
   "nbconvert_exporter": "python",
   "pygments_lexer": "ipython3",
   "version": "3.10.12"
  }
 },
 "nbformat": 4,
 "nbformat_minor": 5
}
