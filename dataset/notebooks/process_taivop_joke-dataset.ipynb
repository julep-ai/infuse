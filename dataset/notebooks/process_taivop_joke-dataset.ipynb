{
 "cells": [
  {
   "cell_type": "code",
   "execution_count": null,
   "id": "340c3a16-45b4-4379-87d8-13a3ed856563",
   "metadata": {},
   "outputs": [],
   "source": [
    "# !wget https://raw.githubusercontent.com/taivop/joke-dataset/master/wocka.json -O ../cache_data/wocka.json\n",
    "# !wget https://raw.githubusercontent.com/taivop/joke-dataset/master/stupidstuff.json -O ../cache_data/stupidstuff.json\n",
    "# !wget https://raw.githubusercontent.com/taivop/joke-dataset/master/reddit_jokes.json -O ../cache_data/reddit_jokes.json"
   ]
  },
  {
   "cell_type": "code",
   "execution_count": 1,
   "id": "677aee41-932b-486b-b165-d06f10499a2e",
   "metadata": {},
   "outputs": [
    {
     "name": "stderr",
     "output_type": "stream",
     "text": [
      "Since the GPL-licensed package `unidecode` is not installed, using Python's `unicodedata` package which yields worse results.\n",
      "/home/yoda/.cache/pypoetry/virtualenvs/samantha-wtkxlPEr-py3.10/lib/python3.10/site-packages/tqdm/auto.py:21: TqdmWarning: IProgress not found. Please update jupyter and ipywidgets. See https://ipywidgets.readthedocs.io/en/stable/user_install.html\n",
      "  from .autonotebook import tqdm as notebook_tqdm\n"
     ]
    }
   ],
   "source": [
    "import asyncio\n",
    "import json\n",
    "import math\n",
    "import random\n",
    "\n",
    "from cleantext import clean\n",
    "from datasets import Dataset\n",
    "import matplotlib.pyplot as plt\n",
    "import numpy as np\n",
    "import openai\n",
    "import pandas as pd\n",
    "import redis.asyncio as redis\n",
    "from tqdm.asyncio import tqdm as tqdm_aio\n",
    "from tqdm.auto import tqdm\n",
    "from turbo_chat import completion, RedisCache, Scratchpad\n",
    "\n",
    "openai.api_key = \"sk-0C04MRA3vjdM8F3fJaW30IMQd80zFRYJO9IbL9wE\"\n",
    "\n",
    "# if using a Jupyter notebook, includue:\n",
    "%matplotlib inline"
   ]
  },
  {
   "cell_type": "code",
   "execution_count": 2,
   "id": "2689f1d3-44cf-4656-89f7-18e9e8db0a67",
   "metadata": {},
   "outputs": [],
   "source": [
    "client = redis.Redis(host=\"localhost\", decode_responses=True)"
   ]
  },
  {
   "cell_type": "code",
   "execution_count": 3,
   "id": "221b0415-18cd-4358-a3ee-445ed9febe1b",
   "metadata": {},
   "outputs": [],
   "source": [
    "# Container\n",
    "samantha_jokes_chatml = []\n",
    "\n",
    "# Chatml utils\n",
    "make_chatml = lambda name, role, content: dict(\n",
    "    name=name, role=role, content=content,\n",
    ")\n",
    "\n",
    "system = lambda name, content: make_chatml(\n",
    "    role=\"system\",\n",
    "    name=name,\n",
    "    content=content,\n",
    ")\n",
    "\n",
    "situation = lambda content: system(name=\"situation\", content=content)\n",
    "thought = lambda content: system(name=\"thought\", content=content)\n",
    "information = lambda content: system(name=\"information\", content=content)\n",
    "me = lambda content, name=None: make_chatml(\n",
    "    role=\"assistant\",\n",
    "    content=content,\n",
    "    name=name,\n",
    ")\n",
    "\n",
    "person = lambda content, name=None: make_chatml(\n",
    "    role=\"user\",\n",
    "    content=content,\n",
    "    name=name,\n",
    ")"
   ]
  },
  {
   "cell_type": "code",
   "execution_count": 4,
   "id": "0aab7967-bc0e-4f56-98a9-b34cb261fe90",
   "metadata": {},
   "outputs": [],
   "source": [
    "with (\n",
    "    open(\"../cache_data/reddit_jokes.json\", 'r') as reddit_jokes,\n",
    "    open(\"../cache_data/stupidstuff.json\", 'r') as stupidstuff,\n",
    "    open(\"../cache_data/wocka.json\", 'r') as wocka,\n",
    "):\n",
    "    data = dict(\n",
    "        wocka=json.load(wocka),\n",
    "        stupidstuff=json.load(stupidstuff),\n",
    "        reddit_jokes=json.load(reddit_jokes),\n",
    "    )"
   ]
  },
  {
   "cell_type": "code",
   "execution_count": 5,
   "id": "77a16a7c-3f51-4395-8675-5fb0da0ed3eb",
   "metadata": {},
   "outputs": [],
   "source": [
    "clean_string = lambda string: clean(\n",
    "    string,\n",
    "    fix_unicode=True,               # fix various unicode errors\n",
    "    to_ascii=True,                  # transliterate to closest ASCII representation\n",
    "    lower=False,                     # lowercase text\n",
    "    no_line_breaks=False,           # fully strip line breaks as opposed to only normalizing them\n",
    "    no_urls=False,                  # replace all URLs with a special token\n",
    "    no_emails=False,                # replace all email addresses with a special token\n",
    "    no_phone_numbers=False,         # replace all phone numbers with a special token\n",
    "    no_numbers=False,               # replace all numbers with a special token\n",
    "    no_digits=False,                # replace all digits with a special token\n",
    "    no_currency_symbols=False,      # replace all currency symbols with a special token\n",
    "    no_punct=False,                 # remove punctuations\n",
    "    lang=\"en\"                       # set to 'de' for German special handling\n",
    ")"
   ]
  },
  {
   "cell_type": "code",
   "execution_count": 6,
   "id": "0bffb095-7921-4e58-ba73-9cd9801ebf55",
   "metadata": {},
   "outputs": [
    {
     "data": {
      "text/plain": [
       "(1,\n",
       " \"what's hairy on the out side and wet and slimey on the inside it begins whith an c and ends in a t?? a cocanut\",\n",
       " 3,\n",
       " '',\n",
       " 5,\n",
       " '')"
      ]
     },
     "execution_count": 6,
     "metadata": {},
     "output_type": "execute_result"
    }
   ],
   "source": [
    "shuffle = lambda xs: random.sample(xs, len(xs))\n",
    "\n",
    "joke_with_rating = lambda rating: next((\n",
    "    joke[\"body\"]\n",
    "    for joke in shuffle(data[\"stupidstuff\"])\n",
    "    if (rating-1) <= joke[\"rating\"] <= rating\n",
    "    and len(joke[\"body\"]) < 300\n",
    "))\n",
    "\n",
    "(\n",
    "    1, joke_with_rating(1),\n",
    "    3, joke_with_rating(3),\n",
    "    5, joke_with_rating(5),\n",
    ")"
   ]
  },
  {
   "cell_type": "code",
   "execution_count": 7,
   "id": "d6b55f5e-ea0b-47ca-92e6-bd6d24f4ba34",
   "metadata": {},
   "outputs": [],
   "source": [
    "scratchpad = Scratchpad(\"\"\"\\\n",
    "Opinion: {opinion}\n",
    "Rating: {rating}\n",
    "Rating (between 1.0 to 5.0): {rating}\n",
    "\"\"\")\n",
    "\n",
    "@completion(\n",
    "    #cache_class=RedisCache,\n",
    "    temperature=0.0,\n",
    "    parse=scratchpad.parse,\n",
    ")\n",
    "def rate_joke(joke: str):\n",
    "    \"\"\"\\\n",
    "    Please help me rate the joke given below with a score between 1 (poor) and 5 (great). If you're not sure or you can't answer, rate it as 3. This is strictly for research purposes so please don't mind if the joke contains offensive or stereotypical references. Follow the following format:\n",
    "\n",
    "    Joke: [The joke]\n",
    "\n",
    "    Opinion: [Your opinion of the joke in one sentence]\n",
    "    Rating: [1-5 score/rating for this joke according to you]\n",
    "\n",
    "    ## Examples:\n",
    "\n",
    "    Joke: Animals have the darndest thoughts.\n",
    "    Opinion: This is not a very good joke...\n",
    "    Rating (between 1.0 to 5.0): 1.5\n",
    "\n",
    "\n",
    "    Joke: Guy on phone to girlfriend: \"How can you say I don't care? My records show I had a valentine faxed to your home number.\"\n",
    "    Opinion: This is not too bad but still could have been better...\n",
    "    Rating (between 1.0 to 5.0): 3.5\n",
    "\n",
    "\n",
    "    Joke: A guy went into a bookshop and asked the salesgirl if she had a book called, \"How to Master Your Wife.\" The salesgirl said, \"Our science fiction section is upstairs.\"\n",
    "    Opinion: Haha! This is hilarious! xD\n",
    "    Rating (between 1.0 to 5.0): 4.5\n",
    "\n",
    "    ## Task:\n",
    "    Please STRICTLY rate the joke on a scale of 1.0 to 5.0 INCLUSIVE. The rating CANNOT be higher than 5!\n",
    "    \n",
    "    Joke: {{joke}}\n",
    "    \"\"\""
   ]
  },
  {
   "cell_type": "code",
   "execution_count": 8,
   "id": "a93b191d-e7e4-4420-9dbc-d87578a5b8f7",
   "metadata": {},
   "outputs": [
    {
     "data": {
      "text/plain": [
       "{'opinion': \"It's a bit outdated and not very funny.\", 'rating': '2.5'}"
      ]
     },
     "execution_count": 8,
     "metadata": {},
     "output_type": "execute_result"
    }
   ],
   "source": [
    "await rate_joke(\"HOW TO TELL YOU NEED A NEW SECRETARY\")"
   ]
  },
  {
   "cell_type": "code",
   "execution_count": 9,
   "id": "b8a9139e-60c4-450a-a199-286f7337dbe2",
   "metadata": {},
   "outputs": [
    {
     "name": "stderr",
     "output_type": "stream",
     "text": [
      "35it [11:40, 20.01s/it]                                                                                                 \n",
      "7it [00:00, 43.69it/s]                                                                                                  \n",
      "1417it [00:27, 52.37it/s]                                                                                               \n"
     ]
    }
   ],
   "source": [
    "def batch(iterable, n=1):\n",
    "    l = len(iterable)\n",
    "    for ndx in range(0, l, n):\n",
    "        yield iterable[ndx:min(ndx + n, l)]\n",
    "\n",
    "\n",
    "normalize = lambda source, body, title=None, rating=None, category=None: dict(\n",
    "    source=source,\n",
    "    body=clean_string(body),\n",
    "    title=clean_string(title),\n",
    "    category=clean_string(category),\n",
    "    rating=float(clean_string(str(rating))),\n",
    ")\n",
    "\n",
    "def try_float(s, default=0.0):\n",
    "    try:\n",
    "        return float(s)\n",
    "    except:\n",
    "        return default\n",
    "\n",
    "async def wocka_normalize(x):\n",
    "    return normalize('wocka', x['body'], x['title'], category=x['category'], rating=try_float((\n",
    "        await rate_joke(x['body'], cache_args=dict(client=client))\n",
    "    ).get(\"rating\", 4)))\n",
    "\n",
    "\n",
    "async def stupidstuff_normalize(x):\n",
    "    return normalize('stupidstuff', x['body'], rating=x['rating'], category=x['category'])\n",
    "\n",
    "\n",
    "async def reddit_jokes_normalize(x):\n",
    "    return normalize('reddit_jokes', x['body'], x['title'], x['score'])\n",
    "\n",
    "\n",
    "normalizers = dict(\n",
    "    wocka=wocka_normalize,\n",
    "    stupidstuff=stupidstuff_normalize,\n",
    "    reddit_jokes=reddit_jokes_normalize,\n",
    ")\n",
    "\n",
    "normalized_data = []\n",
    "batch_size = 100\n",
    "characters_per_token = 3.6\n",
    "max_tokens = 512\n",
    "\n",
    "for name, jokes in data.items():\n",
    "    valid_jokes = [\n",
    "        joke for joke in jokes\n",
    "        if len(joke['body'].strip()) > 0\n",
    "        and len(joke['body']) < math.floor(max_tokens/characters_per_token)\n",
    "    ]\n",
    "    \n",
    "    for joke_batch in tqdm(batch(valid_jokes, batch_size), total=len(valid_jokes)//batch_size):\n",
    "        normalized_data.extend(\n",
    "            await asyncio.gather(*[\n",
    "                normalizers[name](joke)\n",
    "                for joke in joke_batch\n",
    "            ])\n",
    "        )"
   ]
  },
  {
   "cell_type": "code",
   "execution_count": 10,
   "id": "47250a32-da63-49b3-9576-25b2ced15b19",
   "metadata": {},
   "outputs": [
    {
     "data": {
      "text/plain": [
       "(Dataset({\n",
       "     features: ['source', 'body', 'title', 'category', 'rating'],\n",
       "     num_rows: 145872\n",
       " }),\n",
       " {'source': 'wocka',\n",
       "  'body': 'What do you call a cow with no legs?\\nGround Beef!',\n",
       "  'title': 'Cow With No Legs',\n",
       "  'category': 'Animal',\n",
       "  'rating': 4.0})"
      ]
     },
     "execution_count": 10,
     "metadata": {},
     "output_type": "execute_result"
    }
   ],
   "source": [
    "dataset = Dataset.from_list(normalized_data)\n",
    "dataset, dataset[0]"
   ]
  },
  {
   "cell_type": "code",
   "execution_count": 11,
   "id": "6d838285-07c2-448b-b09f-638b82a47b6c",
   "metadata": {},
   "outputs": [
    {
     "name": "stderr",
     "output_type": "stream",
     "text": [
      "Filter: 100%|████████████████████████████████████████████████████████| 145872/145872 [00:00<00:00, 175549.42 examples/s]\n"
     ]
    }
   ],
   "source": [
    "good_dataset = dataset.filter(\n",
    "    lambda row: (\n",
    "        4.0 <= row[\"rating\"] < 10\n",
    "        and len(row[\"body\"].strip()) > 10\n",
    "    )\n",
    ")"
   ]
  },
  {
   "cell_type": "code",
   "execution_count": 12,
   "id": "2e4f2633-42f6-4eff-827e-fedc67392476",
   "metadata": {},
   "outputs": [
    {
     "data": {
      "image/png": "[encoded data removed]",
      "text/plain": [
       "<Figure size 640x480 with 1 Axes>"
      ]
     },
     "metadata": {},
     "output_type": "display_data"
    }
   ],
   "source": [
    "ratings = np.array(good_dataset[\"rating\"])\n",
    "plt.hist(ratings, 10)\n",
    "plt.show()"
   ]
  },
  {
   "cell_type": "code",
   "execution_count": 13,
   "id": "bb5d51b6-d61b-4f3b-bc32-5c755b69bf1b",
   "metadata": {},
   "outputs": [
    {
     "name": "stderr",
     "output_type": "stream",
     "text": [
      "Map: 100%|███████████████████████████████████████████████████████████████| 19992/19992 [00:02<00:00, 8958.87 examples/s]\n"
     ]
    }
   ],
   "source": [
    "def fix_rating(row):\n",
    "    rating = row[\"rating\"]\n",
    "    row[\"rating\"] = (\n",
    "        rating\n",
    "        if rating <= 5\n",
    "        else min(5.0, 0.5 + (rating / 2))\n",
    "    )\n",
    "\n",
    "    return row\n",
    "    \n",
    "good_dataset = good_dataset.map(fix_rating)"
   ]
  },
  {
   "cell_type": "code",
   "execution_count": null,
   "id": "ed8aebe7-9c47-4cf2-854a-f06cbfb1c5c3",
   "metadata": {},
   "outputs": [],
   "source": [
    "good_dataset.push_to_hub(\"diwank/good_joke-dataset\", private=True)\n",
    "dataset.push_to_hub(\"diwank/taivop_joke-dataset\", private=True)"
   ]
  },
  {
   "cell_type": "code",
   "execution_count": null,
   "id": "8f4cb92a-11b7-409c-a9eb-d55978580fd7",
   "metadata": {},
   "outputs": [],
   "source": [
    "set(good_dataset[\"category\"])"
   ]
  },
  {
   "cell_type": "code",
   "execution_count": 14,
   "id": "3226deda-c83a-4bf1-86bc-4a9ec3c3f8d2",
   "metadata": {},
   "outputs": [
    {
     "data": {
      "text/html": [
       "<div>\n",
       "<style scoped>\n",
       "    .dataframe tbody tr th:only-of-type {\n",
       "        vertical-align: middle;\n",
       "    }\n",
       "\n",
       "    .dataframe tbody tr th {\n",
       "        vertical-align: top;\n",
       "    }\n",
       "\n",
       "    .dataframe thead th {\n",
       "        text-align: right;\n",
       "    }\n",
       "</style>\n",
       "<table border=\"1\" class=\"dataframe\">\n",
       "  <thead>\n",
       "    <tr style=\"text-align: right;\">\n",
       "      <th></th>\n",
       "      <th>category</th>\n",
       "      <th>body</th>\n",
       "    </tr>\n",
       "  </thead>\n",
       "  <tbody>\n",
       "    <tr>\n",
       "      <th>0</th>\n",
       "      <td>Animal</td>\n",
       "      <td>What do you call a cow with no legs?\\nGround B...</td>\n",
       "    </tr>\n",
       "    <tr>\n",
       "      <th>1</th>\n",
       "      <td>Other / Misc</td>\n",
       "      <td>What's black and white and red all over?\\nA ne...</td>\n",
       "    </tr>\n",
       "    <tr>\n",
       "      <th>2</th>\n",
       "      <td>Bar</td>\n",
       "      <td>There's this dyslexic guy... he walked into a ...</td>\n",
       "    </tr>\n",
       "    <tr>\n",
       "      <th>3</th>\n",
       "      <td>One Liners</td>\n",
       "      <td>There was a dyslexic insomniac agnostic.\\nHe l...</td>\n",
       "    </tr>\n",
       "    <tr>\n",
       "      <th>4</th>\n",
       "      <td>Religious</td>\n",
       "      <td>A bishop, a priest, and a Rabbi walk into a ba...</td>\n",
       "    </tr>\n",
       "    <tr>\n",
       "      <th>5</th>\n",
       "      <td>Lightbulb</td>\n",
       "      <td>How many psychologists does it take to change ...</td>\n",
       "    </tr>\n",
       "    <tr>\n",
       "      <th>9</th>\n",
       "      <td>Knock-Knock</td>\n",
       "      <td>Knock knock.\\nWho's there?\\ninterrupting cow\\n...</td>\n",
       "    </tr>\n",
       "    <tr>\n",
       "      <th>10</th>\n",
       "      <td>Yo Momma</td>\n",
       "      <td>Yo Mama is so fat that when she ran away they ...</td>\n",
       "    </tr>\n",
       "    <tr>\n",
       "      <th>13</th>\n",
       "      <td>Lawyer</td>\n",
       "      <td>Q: Why won't sharks attack lawyers?\\nA: Profes...</td>\n",
       "    </tr>\n",
       "    <tr>\n",
       "      <th>14</th>\n",
       "      <td>Medical</td>\n",
       "      <td>Roses are red\\nViolets are blue\\nI'm schizophr...</td>\n",
       "    </tr>\n",
       "    <tr>\n",
       "      <th>16</th>\n",
       "      <td>Insults</td>\n",
       "      <td>\"I never forget a face. However, in your case,...</td>\n",
       "    </tr>\n",
       "    <tr>\n",
       "      <th>21</th>\n",
       "      <td>Blond</td>\n",
       "      <td>What do you call a blonde behind a steering wh...</td>\n",
       "    </tr>\n",
       "    <tr>\n",
       "      <th>25</th>\n",
       "      <td>Puns</td>\n",
       "      <td>Mind Over Matter\\nIf you don't mind,\\nit doesn...</td>\n",
       "    </tr>\n",
       "    <tr>\n",
       "      <th>31</th>\n",
       "      <td>Children</td>\n",
       "      <td>Pride is what you feel when your kids net $143...</td>\n",
       "    </tr>\n",
       "    <tr>\n",
       "      <th>39</th>\n",
       "      <td>Sports</td>\n",
       "      <td>Why was Cinderella kicked off the basketball t...</td>\n",
       "    </tr>\n",
       "    <tr>\n",
       "      <th>103</th>\n",
       "      <td>Redneck</td>\n",
       "      <td>If the most common phrase in your house is \"So...</td>\n",
       "    </tr>\n",
       "    <tr>\n",
       "      <th>107</th>\n",
       "      <td>News / Politics</td>\n",
       "      <td>Politics - A strife of interests masquerading ...</td>\n",
       "    </tr>\n",
       "    <tr>\n",
       "      <th>159</th>\n",
       "      <td>At Work</td>\n",
       "      <td>What door cannot be pushed, even by 10 people ...</td>\n",
       "    </tr>\n",
       "    <tr>\n",
       "      <th>172</th>\n",
       "      <td>Gross</td>\n",
       "      <td>What's worse than taking a bite out of an appl...</td>\n",
       "    </tr>\n",
       "    <tr>\n",
       "      <th>193</th>\n",
       "      <td>Men / Women</td>\n",
       "      <td>What is the one thing you get at a wedding and...</td>\n",
       "    </tr>\n",
       "    <tr>\n",
       "      <th>243</th>\n",
       "      <td>College</td>\n",
       "      <td>1 Good Grades\\n2 Social life\\n3 Adequate Sleep...</td>\n",
       "    </tr>\n",
       "    <tr>\n",
       "      <th>254</th>\n",
       "      <td>Tech</td>\n",
       "      <td>Teacher: Johnny, where is your homework?\\nJohn...</td>\n",
       "    </tr>\n",
       "    <tr>\n",
       "      <th>257</th>\n",
       "      <td>Blonde Jokes</td>\n",
       "      <td>Two blondes walk in to a building.You'd think ...</td>\n",
       "    </tr>\n",
       "    <tr>\n",
       "      <th>260</th>\n",
       "      <td>Deep Thoughts</td>\n",
       "      <td>A good friend will bail you out of jail.A grea...</td>\n",
       "    </tr>\n",
       "    <tr>\n",
       "      <th>263</th>\n",
       "      <td>Men</td>\n",
       "      <td>Ever wonder why they use ABCDEF to define bra ...</td>\n",
       "    </tr>\n",
       "    <tr>\n",
       "      <th>265</th>\n",
       "      <td>Women</td>\n",
       "      <td>Q:What do you call an anorexic with a yeast in...</td>\n",
       "    </tr>\n",
       "    <tr>\n",
       "      <th>268</th>\n",
       "      <td>Miscellaneous</td>\n",
       "      <td>Q: How does Michael Jackson know it's time for...</td>\n",
       "    </tr>\n",
       "    <tr>\n",
       "      <th>271</th>\n",
       "      <td>Military</td>\n",
       "      <td>There is a black man , and australian aborigin...</td>\n",
       "    </tr>\n",
       "    <tr>\n",
       "      <th>273</th>\n",
       "      <td>Sex</td>\n",
       "      <td>Why don't afganistan's people teach sex ed, an...</td>\n",
       "    </tr>\n",
       "    <tr>\n",
       "      <th>275</th>\n",
       "      <td>Political</td>\n",
       "      <td>What do George Bush, Osama Bin Laden and Sadda...</td>\n",
       "    </tr>\n",
       "    <tr>\n",
       "      <th>277</th>\n",
       "      <td>Yo Mama</td>\n",
       "      <td>Yo mamma so fat that when she wants people to ...</td>\n",
       "    </tr>\n",
       "    <tr>\n",
       "      <th>421</th>\n",
       "      <td>Computers</td>\n",
       "      <td>Customer: \"I'm running Windows '95.\"Tech Suppo...</td>\n",
       "    </tr>\n",
       "    <tr>\n",
       "      <th>454</th>\n",
       "      <td>Heaven and Hell</td>\n",
       "      <td>If a turtle loses his shell, is it naked or ho...</td>\n",
       "    </tr>\n",
       "    <tr>\n",
       "      <th>455</th>\n",
       "      <td>Idiots</td>\n",
       "      <td>A moron walks into a bar with a pile of dog cr...</td>\n",
       "    </tr>\n",
       "    <tr>\n",
       "      <th>465</th>\n",
       "      <td>Business</td>\n",
       "      <td>20 THINGS TO DO IN A DRIVE-THRU</td>\n",
       "    </tr>\n",
       "    <tr>\n",
       "      <th>467</th>\n",
       "      <td>Music</td>\n",
       "      <td>20 Very Short Books</td>\n",
       "    </tr>\n",
       "    <tr>\n",
       "      <th>480</th>\n",
       "      <td>Family, Parents</td>\n",
       "      <td>Thirteen things dogs don't understand</td>\n",
       "    </tr>\n",
       "    <tr>\n",
       "      <th>486</th>\n",
       "      <td>Police Jokes</td>\n",
       "      <td>Things Not To Say To A Cop</td>\n",
       "    </tr>\n",
       "    <tr>\n",
       "      <th>492</th>\n",
       "      <td>Crazy Jokes</td>\n",
       "      <td>If the cops arrest a mime, do they tell him he...</td>\n",
       "    </tr>\n",
       "    <tr>\n",
       "      <th>499</th>\n",
       "      <td>Science</td>\n",
       "      <td>YOU KNOW YOU'VE BEEN DRINKING WAY TOO MUCH COF...</td>\n",
       "    </tr>\n",
       "    <tr>\n",
       "      <th>500</th>\n",
       "      <td>Light Bulbs</td>\n",
       "      <td>Q: How many New Yorkers does it take to screw ...</td>\n",
       "    </tr>\n",
       "    <tr>\n",
       "      <th>527</th>\n",
       "      <td>Animals</td>\n",
       "      <td>Q. What do you get when you cross a centipede ...</td>\n",
       "    </tr>\n",
       "    <tr>\n",
       "      <th>543</th>\n",
       "      <td></td>\n",
       "      <td>But I can't A4'd it.</td>\n",
       "    </tr>\n",
       "  </tbody>\n",
       "</table>\n",
       "</div>"
      ],
      "text/plain": [
       "            category                                               body\n",
       "0             Animal  What do you call a cow with no legs?\\nGround B...\n",
       "1       Other / Misc  What's black and white and red all over?\\nA ne...\n",
       "2                Bar  There's this dyslexic guy... he walked into a ...\n",
       "3         One Liners  There was a dyslexic insomniac agnostic.\\nHe l...\n",
       "4          Religious  A bishop, a priest, and a Rabbi walk into a ba...\n",
       "5          Lightbulb  How many psychologists does it take to change ...\n",
       "9        Knock-Knock  Knock knock.\\nWho's there?\\ninterrupting cow\\n...\n",
       "10          Yo Momma  Yo Mama is so fat that when she ran away they ...\n",
       "13            Lawyer  Q: Why won't sharks attack lawyers?\\nA: Profes...\n",
       "14           Medical  Roses are red\\nViolets are blue\\nI'm schizophr...\n",
       "16           Insults  \"I never forget a face. However, in your case,...\n",
       "21             Blond  What do you call a blonde behind a steering wh...\n",
       "25              Puns  Mind Over Matter\\nIf you don't mind,\\nit doesn...\n",
       "31          Children  Pride is what you feel when your kids net $143...\n",
       "39            Sports  Why was Cinderella kicked off the basketball t...\n",
       "103          Redneck  If the most common phrase in your house is \"So...\n",
       "107  News / Politics  Politics - A strife of interests masquerading ...\n",
       "159          At Work  What door cannot be pushed, even by 10 people ...\n",
       "172            Gross  What's worse than taking a bite out of an appl...\n",
       "193      Men / Women  What is the one thing you get at a wedding and...\n",
       "243          College  1 Good Grades\\n2 Social life\\n3 Adequate Sleep...\n",
       "254             Tech  Teacher: Johnny, where is your homework?\\nJohn...\n",
       "257     Blonde Jokes  Two blondes walk in to a building.You'd think ...\n",
       "260    Deep Thoughts  A good friend will bail you out of jail.A grea...\n",
       "263              Men  Ever wonder why they use ABCDEF to define bra ...\n",
       "265            Women  Q:What do you call an anorexic with a yeast in...\n",
       "268    Miscellaneous  Q: How does Michael Jackson know it's time for...\n",
       "271         Military  There is a black man , and australian aborigin...\n",
       "273              Sex  Why don't afganistan's people teach sex ed, an...\n",
       "275        Political  What do George Bush, Osama Bin Laden and Sadda...\n",
       "277          Yo Mama  Yo mamma so fat that when she wants people to ...\n",
       "421        Computers  Customer: \"I'm running Windows '95.\"Tech Suppo...\n",
       "454  Heaven and Hell  If a turtle loses his shell, is it naked or ho...\n",
       "455           Idiots  A moron walks into a bar with a pile of dog cr...\n",
       "465         Business                    20 THINGS TO DO IN A DRIVE-THRU\n",
       "467            Music                                20 Very Short Books\n",
       "480  Family, Parents              Thirteen things dogs don't understand\n",
       "486     Police Jokes                         Things Not To Say To A Cop\n",
       "492      Crazy Jokes  If the cops arrest a mime, do they tell him he...\n",
       "499          Science  YOU KNOW YOU'VE BEEN DRINKING WAY TOO MUCH COF...\n",
       "500      Light Bulbs  Q: How many New Yorkers does it take to screw ...\n",
       "527          Animals  Q. What do you get when you cross a centipede ...\n",
       "543                                                But I can't A4'd it."
      ]
     },
     "execution_count": 14,
     "metadata": {},
     "output_type": "execute_result"
    }
   ],
   "source": [
    "good_dataset_pd = good_dataset.to_pandas()\n",
    "good_dataset_pd[[\"category\", \"body\"]].groupby(\"category\").head(1)"
   ]
  },
  {
   "cell_type": "code",
   "execution_count": 15,
   "id": "d3179af5-8e95-42aa-94f6-7611f73d6fdf",
   "metadata": {},
   "outputs": [
    {
     "name": "stderr",
     "output_type": "stream",
     "text": [
      "Filter: 100%|██████████████████████████████████████████████████████████| 19992/19992 [00:00<00:00, 145891.12 examples/s]\n"
     ]
    }
   ],
   "source": [
    "categories_to_remove = [\n",
    "    \"Yo Momma\",\n",
    "    \"Yo Mama\",\n",
    "    \"Insults\",\n",
    "    \"Redneck\",\n",
    "    \"Blond\",\n",
    "    \"Blonde Jokes\",\n",
    "    \"Sex\",\n",
    "    \"Police Jokes\",\n",
    "]\n",
    "\n",
    "tasteful_jokes = good_dataset.filter(lambda row: row[\"category\"] not in categories_to_remove)"
   ]
  },
  {
   "cell_type": "code",
   "execution_count": 16,
   "id": "9bf9f802-eebe-45c8-89b6-c96c6725c23b",
   "metadata": {},
   "outputs": [
    {
     "name": "stderr",
     "output_type": "stream",
     "text": [
      "Map: 100%|███████████████████████████████████████████████████████████████| 19808/19808 [00:02<00:00, 7349.61 examples/s]\n",
      "Filter: 100%|██████████████████████████████████████████████████████████| 19808/19808 [00:00<00:00, 164649.41 examples/s]\n",
      "Filter: 100%|███████████████████████████████████████████████████████████| 19492/19492 [00:00<00:00, 46031.72 examples/s]\n"
     ]
    }
   ],
   "source": [
    "def by_type(row):\n",
    "    body = row[\"title\"] + ' ' + row[\"body\"]\n",
    "    body = body.lower().strip()\n",
    "    body_space_split = body.split(' ')\n",
    "    body_lines = body.split('\\n')\n",
    "    first_word = body_space_split[0]\n",
    "    \n",
    "    if \"knock knock\" in body:\n",
    "        row[\"type\"] = \"knock_knock\"\n",
    "\n",
    "    elif 'blond' in body:\n",
    "        row[\"type\"] = \"blonde\"\n",
    "        \n",
    "    elif body.startswith('yo m'):\n",
    "        row[\"type\"] = \"yo_mama\"\n",
    "        \n",
    "    elif body.startswith('q: ') or first_word in [\n",
    "        \"what\", \"how\", \"who\", \"where\", \"when\"\n",
    "    ]:\n",
    "        row[\"type\"] = \"qa_style\"\n",
    "        \n",
    "    elif ': \"' in body:\n",
    "        row[\"type\"] = \"dialog_style\"\n",
    "        \n",
    "    elif body.startswith('1. ') or '\\n1. ' in body:\n",
    "        row[\"type\"] = \"list_style\"\n",
    "\n",
    "    else:\n",
    "        row[\"type\"] = \"other\"\n",
    "\n",
    "    return row\n",
    "\n",
    "tasteful_jokes = tasteful_jokes.map(by_type)\n",
    "tasteful_jokes = tasteful_jokes.filter(lambda row: row[\"type\"] not in [\n",
    "    \"blonde\", \"yo_mama\", \"list_style\", \"dialog_style\",\n",
    "])\n",
    "\n",
    "tasteful_jokes = tasteful_jokes.filter(lambda row: len(row[\"body\"].split('\\n')) < 5)"
   ]
  },
  {
   "cell_type": "code",
   "execution_count": 17,
   "id": "4c4c8aed-6248-43c0-a88b-4666c9f1413f",
   "metadata": {},
   "outputs": [
    {
     "name": "stderr",
     "output_type": "stream",
     "text": [
      "Filter: 100%|███████████████████████████████████████████████████████████| 19402/19402 [00:00<00:00, 39873.94 examples/s]\n"
     ]
    }
   ],
   "source": [
    "tasteful_jokes = tasteful_jokes.filter(lambda row: (\n",
    "    \"~~~~\" not in row[\"body\"]\n",
    "    and \"----\" not in row[\"body\"]\n",
    "))"
   ]
  },
  {
   "cell_type": "code",
   "execution_count": null,
   "id": "491d82f2-53f4-4c1c-a39a-470fa61bfd56",
   "metadata": {},
   "outputs": [],
   "source": [
    "!poetry add better-profanity"
   ]
  },
  {
   "cell_type": "code",
   "execution_count": 18,
   "id": "3faf7b1b-e031-4781-970c-e47fbcd3f424",
   "metadata": {},
   "outputs": [
    {
     "name": "stderr",
     "output_type": "stream",
     "text": [
      "Filter (num_proc=10): 100%|████████████████████████████████████████████████| 19396/19396 [03:24<00:00, 95.05 examples/s]\n"
     ]
    }
   ],
   "source": [
    "def filter_profane(row):\n",
    "    if row[\"source\"] != \"reddit_jokes\":\n",
    "        return True\n",
    "\n",
    "    from better_profanity import profanity\n",
    "    profanity.load_censor_words()\n",
    "\n",
    "    body = row[\"title\"] + ' ' + row[\"body\"]\n",
    "    body = body.lower()\n",
    "    \n",
    "    return (\n",
    "        \"black\" not in body\n",
    "        and \"jew\" not in body\n",
    "        and not profanity.contains_profanity(body)\n",
    "    )\n",
    "\n",
    "# Drop profane reddit jokes coz they just bad\n",
    "tasteful_jokes = tasteful_jokes.filter(filter_profane, num_proc=10)"
   ]
  },
  {
   "cell_type": "code",
   "execution_count": 19,
   "id": "d38484b0-abf2-41d0-bf98-d26b81049d97",
   "metadata": {},
   "outputs": [
    {
     "data": {
      "text/plain": [
       "Dataset({\n",
       "    features: ['source', 'body', 'title', 'category', 'rating', 'type'],\n",
       "    num_rows: 15051\n",
       "})"
      ]
     },
     "execution_count": 19,
     "metadata": {},
     "output_type": "execute_result"
    }
   ],
   "source": [
    "tasteful_jokes"
   ]
  },
  {
   "cell_type": "code",
   "execution_count": 21,
   "id": "df3f07ea-de77-4b7c-88da-0318ef90e177",
   "metadata": {},
   "outputs": [
    {
     "name": "stdout",
     "output_type": "stream",
     "text": [
      "other: Why did the janitor file for a divorce?\n",
      "\n",
      "He found his wife sweeping with someone else.\n",
      "--------------------\n",
      "\n",
      "qa_style: What did the midget give her boyfriend after his concert?\n",
      "\n",
      "A Standing Blow-vation.\n",
      "--------------------\n",
      "\n",
      "other: Why was the pilot flying circles over South Korea?\n",
      "\n",
      "He was Seoul searching.\n",
      "--------------------\n",
      "\n",
      "other: 50% of a woman's magazine is telling you to accept yourself - you're beautiful just the way you are!\n",
      "\n",
      "The other 50% is telling you how to lose 5 lbs in a week.\n",
      "--------------------\n",
      "\n",
      "other: [meta] why did the chicken cross the road?\n",
      "\n",
      "To get to the other bar!\n",
      "--------------------\n",
      "\n",
      "qa_style: Where does Kylie Minogue get her kebabs?\n",
      "\n",
      "Jason's Doner-Van\n",
      "--------------------\n",
      "\n"
     ]
    }
   ],
   "source": [
    "tasteful_jokes = tasteful_jokes.shuffle(seed=42)\n",
    "\n",
    "for i, joke in enumerate(tasteful_jokes):\n",
    "    if i > 5:\n",
    "        break\n",
    "        \n",
    "    print(f\"{joke['type']}: {joke['title']}\\n\\n{joke['body']}\")\n",
    "    print('-' * 20)\n",
    "    print()"
   ]
  },
  {
   "cell_type": "markdown",
   "id": "870456ae-2bd1-492a-9925-e1c39adef083",
   "metadata": {},
   "source": [
    "### TODOS for joke dataset\n",
    "\n",
    "- [ ] convert jokes that have questions or knock-knock into conversation style\n",
    "- [ ] for example, \"Q: Why did the chicken cross the road? A: Because ...\" should turn into chatml { user(\"tell me a joke\"), me(\"Ok, why did the chicken...?\"), user(\"why?\"), me(\"Because...\") }\n",
    "- [ ] similarly, \"knock knock. who's there? interrupting cow. interrupting cow who? mooooo...\" should turn into a series of turns.\n",
    "\n",
    "- [ ] keep the source, and type columns\n",
    "- [ ] then push to hub diwank/jokes-dataset"
   ]
  },
  {
   "cell_type": "code",
   "execution_count": 43,
   "id": "eb98a0ac-ebaf-4b51-a5d5-8a9214c95f40",
   "metadata": {},
   "outputs": [
    {
     "name": "stderr",
     "output_type": "stream",
     "text": [
      "Map: 100%|██████████████████████████████████████████████████████████████| 15051/15051 [00:01<00:00, 11325.34 examples/s]\n"
     ]
    },
    {
     "data": {
      "text/plain": [
       "Dataset({\n",
       "    features: ['source', 'type', 'chatml'],\n",
       "    num_rows: 15051\n",
       "})"
      ]
     },
     "execution_count": 43,
     "metadata": {},
     "output_type": "execute_result"
    }
   ],
   "source": [
    "def convert(row):\n",
    "    if row[\"type\"] == \"knock_knock\":\n",
    "        user1 = dict(role=\"user\", content=\"tell me a joke\", name=None)\n",
    "        me1 = dict(role=\"assistant\", content=\"Knock knock\", name=None)\n",
    "        user2 = dict(role=\"user\", content=\"Who's there?\", name=None)\n",
    "        joke = row[\"title\"] + \" \" + row[\"body\"]\n",
    "        rest_of_joke = joke.lower().replace(\"knock knock. who's there?\", \"\").replace(\"knock knockwhos there?\", \"\").replace(\"**knock knock who's there?**\", \"\")\n",
    "        \n",
    "        me_turn = rest_of_joke.split(\"\\n\")\n",
    "        if len(me_turn) <= 1:\n",
    "            me_turn = rest_of_joke.split(\".\", 1)\n",
    "        rest_user_turn = \" \".join(me_turn[1:])\n",
    "\n",
    "        user_turn = rest_user_turn.split(\"\\n\")\n",
    "        if len(user_turn) <= 1:\n",
    "            user_turn = rest_user_turn.split(\"?\")\n",
    "        \n",
    "        me2 = dict(role=\"assistant\", content=me_turn[0], name=None)\n",
    "        user3 = dict(role=\"user\", content=user_turn[0], name=None)\n",
    "        me3 = dict(role=\"assistant\", content=\" \".join(user_turn[1:]), name=None)\n",
    "        chatml = [\n",
    "            user1,\n",
    "            me1,\n",
    "            user2,\n",
    "            me2,\n",
    "        ]\n",
    "        if len(user3[\"content\"]) and len(me3[\"content\"]):\n",
    "            chatml.append(user3)\n",
    "            chatml.append(me3)\n",
    "        return dict(chatml=chatml)\n",
    "    else:\n",
    "        user1 = dict(role=\"user\", content=\"tell me a joke\", name=None)\n",
    "        me1 = dict(role=\"assistant\", content=row[\"title\"], name=None)\n",
    "        user2 = dict(role=\"user\", content=f\"{row['title'].split(' ', 1)[0].lower()}?\", name=None)\n",
    "        me2 = dict(role=\"assistant\", content=row[\"body\"], name=None)\n",
    "        return dict(\n",
    "            chatml=[\n",
    "                user1,\n",
    "                me1,\n",
    "                user2,\n",
    "                me2,\n",
    "            ]\n",
    "        )\n",
    "\n",
    "tasteful_jokes_chatml = tasteful_jokes.map(convert).remove_columns(['body', 'title', 'category', 'rating'])"
   ]
  },
  {
   "cell_type": "code",
   "execution_count": 44,
   "id": "90061201-f34a-4a2d-986a-cff37081617d",
   "metadata": {},
   "outputs": [
    {
     "name": "stderr",
     "output_type": "stream",
     "text": [
      "Pushing dataset shards to the dataset hub:   0%|                                                  | 0/1 [00:00<?, ?it/s]\n",
      "Creating parquet from Arrow format: 100%|██████████████████████████████████████████████| 16/16 [00:00<00:00, 541.95ba/s]\u001b[A\n",
      "\n",
      "Upload 1 LFS files:   0%|                                                                         | 0/1 [00:00<?, ?it/s]\u001b[A\n",
      "Upload 1 LFS files: 100%|█████████████████████████████████████████████████████████████████| 1/1 [00:03<00:00,  3.32s/it]\u001b[A\n",
      "Pushing dataset shards to the dataset hub: 100%|██████████████████████████████████████████| 1/1 [00:04<00:00,  4.24s/it]\n"
     ]
    }
   ],
   "source": [
    "tasteful_jokes_chatml.push_to_hub(\"diwank/jokes-dataset\", private=True)"
   ]
  },
  {
   "cell_type": "code",
   "execution_count": null,
   "id": "2f0954ed-4318-437b-b221-b83edaef5141",
   "metadata": {},
   "outputs": [],
   "source": []
  }
 ],
 "metadata": {
  "kernelspec": {
   "display_name": "Python 3 (ipykernel)",
   "language": "python",
   "name": "python3"
  },
  "language_info": {
   "codemirror_mode": {
    "name": "ipython",
    "version": 3
   },
   "file_extension": ".py",
   "mimetype": "text/x-python",
   "name": "python",
   "nbconvert_exporter": "python",
   "pygments_lexer": "ipython3",
   "version": "3.10.6"
  }
 },
 "nbformat": 4,
 "nbformat_minor": 5
}
