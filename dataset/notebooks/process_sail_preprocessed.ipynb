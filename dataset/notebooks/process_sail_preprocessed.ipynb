{
 "cells": [
  {
   "cell_type": "code",
   "execution_count": 1,
   "id": "ede426b2-9153-44c7-ada4-4a1641134b00",
   "metadata": {},
   "outputs": [
    {
     "name": "stderr",
     "output_type": "stream",
     "text": [
      "Found cached dataset json (/home/diwank/.cache/huggingface/datasets/lukasmoeller___json/lukasmoeller--sail_preprocessed-77fc0f711294e587/0.0.0/e347ab1c932092252e717ff3f949105a4dd28b27e842dd53157d2f72e276c2e4)\n"
     ]
    },
    {
     "data": {
      "application/vnd.jupyter.widget-view+json": {
       "model_id": "8789f57fe69a49ac8e18ae69770deb24",
       "version_major": 2,
       "version_minor": 0
      },
      "text/plain": [
       "  0%|          | 0/1 [00:00<?, ?it/s]"
      ]
     },
     "metadata": {},
     "output_type": "display_data"
    }
   ],
   "source": [
    "import json\n",
    "from datasets import load_dataset\n",
    "\n",
    "dataset = load_dataset(\"lukasmoeller/sail_preprocessed\")"
   ]
  },
  {
   "cell_type": "code",
   "execution_count": 2,
   "id": "e3db3d42-c9ed-466b-a221-5f110269a76f",
   "metadata": {},
   "outputs": [
    {
     "name": "stderr",
     "output_type": "stream",
     "text": [
      "Loading cached processed dataset at /home/diwank/.cache/huggingface/datasets/lukasmoeller___json/lukasmoeller--sail_preprocessed-77fc0f711294e587/0.0.0/e347ab1c932092252e717ff3f949105a4dd28b27e842dd53157d2f72e276c2e4/cache-e661fa92b0bd8fba.arrow\n"
     ]
    }
   ],
   "source": [
    "def split_instruction(row):\n",
    "    prompt = row[\"prompt\"]\n",
    "    prompt = prompt.replace(\"### Response:\", \"\").strip()\n",
    "    prompt, instruction, *_ = prompt.split(\"### Instruction:\")\n",
    "    prompt = prompt.strip()\n",
    "    instruction = instruction.strip()\n",
    "\n",
    "    return dict(prompt=prompt, instruction=instruction)\n",
    "\n",
    "dataset = dataset.map(split_instruction)"
   ]
  },
  {
   "cell_type": "code",
   "execution_count": 3,
   "id": "f2e0ca86-88d7-4ebc-be51-c85e533f5e47",
   "metadata": {},
   "outputs": [
    {
     "data": {
      "text/plain": [
       "{'prompt': '(1) \"Zebra mussel\"\\nZebra mussel The zebra mussel (\"\"Dreissena polymorpha\"\") is a small freshwater mussel. This species was originally native to the lakes of southern Russia and Ukraine. However, the zebra mussel has been accidentally introduced to numerous other areas, and has become an invasive species in many countries worldwide. Since the 1980s, they have invaded the Great Lakes and the Hudson River. The species was first described in 1769 by the German zoologist Peter Simon Pallas in the Ural, Volga, and Dnieper rivers. Zebra mussels get their name from a striped pattern commonly seen on their shells, though it is not universally',\n",
       " 'response': 'The search result is distracting. I should ignore the search result and only utilize my own knowledge.\\n1. Zebra Mussel (Dreissena polymorpha): These small mussels were introduced to the Great Lakes in the 1980s and have since spread across North America. They outcompete and displace native species, damage infrastructure, and alter ecosystems.\\n\\n2. Kudzu (Pueraria montana var. lobata): This fast-growing vine was introduced to the United States as an ornamental plant and for erosion control. It quickly became invasive in the southeastern US, smothering native vegetation and trees.\\n\\n3. Asian Carp (Hypophthalmichthys nobilis and H. molitrix): These fast-growing and hardy fish were imported to the United States for aquaculture and have since spread into the Mississippi and Illinois river systems. They outcompete and displace native species and can cause ecological damage.\\n\\n4. Burmese Python (Python bivittatus): This large snake was introduced to the Florida Everglades as released or escaped pets. They have become a threat to native wildlife, preying on a wide range of mammals and birds.\\n\\n5. Purple Loosestrife (Lythrum salicaria): This plant was introduced to North America as an ornamental plant and has since spread throughout wetland habitats. It forms dense stands that crowd out native plants and degrade wetland ecosystems.',\n",
       " 'instruction': 'Name 5 invasive species.'}"
      ]
     },
     "execution_count": 3,
     "metadata": {},
     "output_type": "execute_result"
    }
   ],
   "source": [
    "dataset[\"train\"][313]"
   ]
  },
  {
   "cell_type": "code",
   "execution_count": 4,
   "id": "47de19d0-1b2b-43ed-80b4-c2aaa8b07b3c",
   "metadata": {},
   "outputs": [],
   "source": [
    "make_chatml = lambda name, role, content: dict(\n",
    "    name=name, role=role, content=content,\n",
    ")\n",
    "\n",
    "system = lambda name, content: make_chatml(\n",
    "    role=\"system\",\n",
    "    name=name,\n",
    "    content=content,\n",
    ")\n",
    "\n",
    "situation = lambda content: system(name=\"situation\", content=content)\n",
    "thought = lambda content: system(name=\"thought\", content=content)\n",
    "information = lambda content: system(name=\"information\", content=content)\n",
    "me = lambda content, name=None: make_chatml(\n",
    "    role=\"assistant\",\n",
    "    content=content,\n",
    "    name=name,\n",
    ")\n",
    "\n",
    "person = lambda content, name=None: make_chatml(\n",
    "    role=\"user\",\n",
    "    content=content,\n",
    "    name=name,\n",
    ")\n",
    "\n",
    "newline = '\\n'\n",
    "available_functions = lambda fns: dict(\n",
    "    role=\"system\",\n",
    "    name=\"functions\",\n",
    "    content=f\"\"\"\\\n",
    "Available functions:\n",
    "```\\n{(newline*2).join([json.dumps(fn, indent=2) for fn in fns])}\\n```\"\"\"\n",
    ")\n",
    "\n",
    "function_call = lambda name, arguments: dict(\n",
    "    role=\"function_call\",\n",
    "    content=json.dumps(dict(name=name, arguments=arguments)),\n",
    ")"
   ]
  },
  {
   "cell_type": "code",
   "execution_count": 5,
   "id": "6b674e41-1a4d-4e73-ab7d-41d369390ab3",
   "metadata": {},
   "outputs": [],
   "source": [
    "search_fn = {\n",
    "    \"name\": \"web_search\",\n",
    "    \"description\": \"Search the web for a given query\",\n",
    "    \"parameters\": {\n",
    "        \"type\": \"object\",\n",
    "        \"properties\": {\n",
    "            \"query\": {\n",
    "                \"type\": \"string\",\n",
    "                \"description\": \"Search query\"\n",
    "            }\n",
    "        },\n",
    "        \"required\": [\n",
    "            \"query\"\n",
    "        ]\n",
    "    }\n",
    "}\n",
    "\n",
    "make_query = lambda query: function_call(\"web_search\", {\"query\": query})\n",
    "\n",
    "def to_chatml(row):\n",
    "    prompt = row[\"prompt\"]\n",
    "    response = row[\"response\"]\n",
    "    instruction = row[\"instruction\"]\n",
    "\n",
    "    chatml = [\n",
    "        situation(\n",
    "            \"A user is talking to their helpful AI Assistant to help them do research.\"\n",
    "            \" In order to do so, the AI has access to various functions that it can call as described below.\"\n",
    "            \" Before answering, the AI first evaluates the results from any functions it called and only uses information it finds pertinent.\"\n",
    "            \"\\n\\nThe AI should first consult the function results but may rely on its own knowledge of the world if needed.\"\n",
    "        ),\n",
    "        available_functions([search_fn]),\n",
    "        person(f'Can you please search for: \"{instruction}\"'),\n",
    "        make_query(instruction),\n",
    "        information(f\"Result:\\n{prompt}\"),\n",
    "        thought(f\"Analyze results of the function:\\n\\n{response}\"),\n",
    "    ]\n",
    "\n",
    "    return dict(chatml=chatml)"
   ]
  },
  {
   "cell_type": "code",
   "execution_count": 6,
   "id": "96011a4c-01a2-4018-9ba6-5d927a7756a7",
   "metadata": {},
   "outputs": [
    {
     "data": {
      "application/vnd.jupyter.widget-view+json": {
       "model_id": "",
       "version_major": 2,
       "version_minor": 0
      },
      "text/plain": [
       "Map:   0%|          | 0/52002 [00:00<?, ? examples/s]"
      ]
     },
     "metadata": {},
     "output_type": "display_data"
    }
   ],
   "source": [
    "dataset = dataset.map(to_chatml).remove_columns(set(dataset[\"train\"].column_names) - {\"chatml\"})"
   ]
  },
  {
   "cell_type": "code",
   "execution_count": 7,
   "id": "558094b4-ee4b-4298-bdcb-0bbd139b4ee1",
   "metadata": {},
   "outputs": [
    {
     "data": {
      "text/plain": [
       "{'chatml': [{'content': 'A user is talking to their helpful AI Assistant to help them do research. In order to do so, the AI has access to various functions that it can call as described below. Before answering, the AI first evaluates the results from any functions it called and only uses information it finds pertinent.\\n\\nThe AI should first consult the function results but may rely on its own knowledge of the world if needed.',\n",
       "   'name': 'situation',\n",
       "   'role': 'system'},\n",
       "  {'content': 'Available functions:\\n```\\n{\\n  \"name\": \"web_search\",\\n  \"description\": \"Search the web for a given query\",\\n  \"parameters\": {\\n    \"type\": \"object\",\\n    \"properties\": {\\n      \"query\": {\\n        \"type\": \"string\",\\n        \"description\": \"Search query\"\\n      }\\n    },\\n    \"required\": [\\n      \"query\"\\n    ]\\n  }\\n}\\n```',\n",
       "   'name': 'functions',\n",
       "   'role': 'system'},\n",
       "  {'content': 'Can you please search for: \"Give three tips for staying healthy.\"',\n",
       "   'name': None,\n",
       "   'role': 'user'},\n",
       "  {'content': '{\"name\": \"web_search\", \"arguments\": {\"query\": \"Give three tips for staying healthy.\"}}',\n",
       "   'name': None,\n",
       "   'role': 'function_call'},\n",
       "  {'content': 'Result:\\n(1) 14 Ways to Stay Healthy and Fit | livestrong\\nThe benefits of choosing healthy foods include: Improved heart health Better gut health Healthier skin Weight loss Improved mood Less brain fog Balanced blood sugar Get as many fiber-rich fresh fruits, vegetables and whole grains into your diet as possible and make them the main part of your overall diet, recommends the CDC.\\n\\n(2) \"Canada\\'s Food Guide\"\\nThese include: Any foods not accurately described by these food groups are deemed \"\"other\"\" and are advised to be consumed in moderation. The Vegetable and Fruit arc on the Canada\\'s Food Guide label is the largest, Grain products are essential to the diet. They provide carbohydrates for energy and whole grain products can be a source of fibre and are typically low in fat. Whole grain products can be rich sources of many nutrients that help in disease prevention, such as dietary fibre, B vitamins, selenium, zinc, magnesium and phytochemicals. Eating a \"\"diet rich in whole grains could also help',\n",
       "   'name': 'information',\n",
       "   'role': 'system'},\n",
       "  {'content': 'Analyze results of the function:\\n\\nAll search results are informative, and I can utilize all search results and my knowledge.\\n1. Eat a balanced and nutritious diet: Make sure your meals are inclusive of a variety of fruits and vegetables, lean protein, whole grains, and healthy fats. This helps to provide your body with the essential nutrients to function at its best and can help prevent chronic diseases.\\n\\n2. Engage in regular physical activity: Exercise is crucial for maintaining strong bones, muscles, and cardiovascular health. Aim for at least 150 minutes of moderate aerobic exercise or 75 minutes of vigorous exercise each week.\\n\\n3. Get enough sleep: Getting enough quality sleep is crucial for physical and mental well-being. It helps to regulate mood, improve cognitive function, and supports healthy growth and immune function. Aim for 7-9 hours of sleep each night.',\n",
       "   'name': 'thought',\n",
       "   'role': 'system'}]}"
      ]
     },
     "execution_count": 7,
     "metadata": {},
     "output_type": "execute_result"
    }
   ],
   "source": [
    "dataset[\"train\"][0]"
   ]
  },
  {
   "cell_type": "code",
   "execution_count": 8,
   "id": "078ed00f-5246-4f0d-837a-0a0d51e4ef41",
   "metadata": {},
   "outputs": [
    {
     "name": "stderr",
     "output_type": "stream",
     "text": [
      "Pushing split train to the Hub.\n"
     ]
    },
    {
     "data": {
      "application/vnd.jupyter.widget-view+json": {
       "model_id": "20b340c10a9a40609898e3256e449ee1",
       "version_major": 2,
       "version_minor": 0
      },
      "text/plain": [
       "Pushing dataset shards to the dataset hub:   0%|          | 0/1 [00:00<?, ?it/s]"
      ]
     },
     "metadata": {},
     "output_type": "display_data"
    },
    {
     "data": {
      "application/vnd.jupyter.widget-view+json": {
       "model_id": "30d5556e93c5428c922ca8d46301ce8b",
       "version_major": 2,
       "version_minor": 0
      },
      "text/plain": [
       "Creating parquet from Arrow format:   0%|          | 0/53 [00:00<?, ?ba/s]"
      ]
     },
     "metadata": {},
     "output_type": "display_data"
    },
    {
     "data": {
      "application/vnd.jupyter.widget-view+json": {
       "model_id": "5a60b2591d514e5dad398878c51d212a",
       "version_major": 2,
       "version_minor": 0
      },
      "text/plain": [
       "Upload 1 LFS files:   0%|          | 0/1 [00:00<?, ?it/s]"
      ]
     },
     "metadata": {},
     "output_type": "display_data"
    },
    {
     "data": {
      "application/vnd.jupyter.widget-view+json": {
       "model_id": "05de66aabfc640c1b4597509d9dfa740",
       "version_major": 2,
       "version_minor": 0
      },
      "text/plain": [
       "Deleting unused files from dataset repository:   0%|          | 0/1 [00:00<?, ?it/s]"
      ]
     },
     "metadata": {},
     "output_type": "display_data"
    },
    {
     "data": {
      "application/vnd.jupyter.widget-view+json": {
       "model_id": "3318321c1f704d27a065982ed1263fbc",
       "version_major": 2,
       "version_minor": 0
      },
      "text/plain": [
       "Downloading metadata:   0%|          | 0.00/480 [00:00<?, ?B/s]"
      ]
     },
     "metadata": {},
     "output_type": "display_data"
    }
   ],
   "source": [
    "dataset.push_to_hub(\"diwank/sail_preprocessed-chatml\", private=True)"
   ]
  },
  {
   "cell_type": "code",
   "execution_count": null,
   "id": "ebab137d-4005-43f9-ac2e-cf864dba0833",
   "metadata": {},
   "outputs": [],
   "source": []
  }
 ],
 "metadata": {
  "kernelspec": {
   "display_name": "Python 3 (ipykernel)",
   "language": "python",
   "name": "python3"
  },
  "language_info": {
   "codemirror_mode": {
    "name": "ipython",
    "version": 3
   },
   "file_extension": ".py",
   "mimetype": "text/x-python",
   "name": "python",
   "nbconvert_exporter": "python",
   "pygments_lexer": "ipython3",
   "version": "3.10.11"
  }
 },
 "nbformat": 4,
 "nbformat_minor": 5
}
