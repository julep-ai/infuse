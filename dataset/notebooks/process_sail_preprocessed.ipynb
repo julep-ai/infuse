{
 "cells": [
  {
   "cell_type": "code",
   "execution_count": 1,
   "id": "ede426b2-9153-44c7-ada4-4a1641134b00",
   "metadata": {},
   "outputs": [
    {
     "name": "stderr",
     "output_type": "stream",
     "text": [
      "Repo card metadata block was not found. Setting CardData to empty.\n"
     ]
    }
   ],
   "source": [
    "import json\n",
    "from datasets import load_dataset\n",
    "\n",
    "dataset = load_dataset(\"lukasmoeller/sail_preprocessed\")"
   ]
  },
  {
   "cell_type": "code",
   "execution_count": 2,
   "id": "e3db3d42-c9ed-466b-a221-5f110269a76f",
   "metadata": {},
   "outputs": [],
   "source": [
    "def split_instruction(row):\n",
    "    prompt = row[\"prompt\"]\n",
    "    prompt = prompt.replace(\"### Response:\", \"\").strip()\n",
    "    prompt, instruction, *_ = prompt.split(\"### Instruction:\")\n",
    "    prompt = prompt.strip()\n",
    "    instruction = instruction.strip()\n",
    "    instruction, *input = instruction.split(\"### Input:\")\n",
    "    input = \"\".join(input).strip()\n",
    "\n",
    "    return dict(prompt=prompt, instruction=instruction, input=input)\n",
    "\n",
    "dataset = dataset.map(split_instruction)"
   ]
  },
  {
   "cell_type": "code",
   "execution_count": 3,
   "id": "f2e0ca86-88d7-4ebc-be51-c85e533f5e47",
   "metadata": {},
   "outputs": [
    {
     "data": {
      "text/plain": [
       "{'prompt': '(1) \"Zebra mussel\"\\nZebra mussel The zebra mussel (\"\"Dreissena polymorpha\"\") is a small freshwater mussel. This species was originally native to the lakes of southern Russia and Ukraine. However, the zebra mussel has been accidentally introduced to numerous other areas, and has become an invasive species in many countries worldwide. Since the 1980s, they have invaded the Great Lakes and the Hudson River. The species was first described in 1769 by the German zoologist Peter Simon Pallas in the Ural, Volga, and Dnieper rivers. Zebra mussels get their name from a striped pattern commonly seen on their shells, though it is not universally',\n",
       " 'response': 'The search result is distracting. I should ignore the search result and only utilize my own knowledge.\\n1. Zebra Mussel (Dreissena polymorpha): These small mussels were introduced to the Great Lakes in the 1980s and have since spread across North America. They outcompete and displace native species, damage infrastructure, and alter ecosystems.\\n\\n2. Kudzu (Pueraria montana var. lobata): This fast-growing vine was introduced to the United States as an ornamental plant and for erosion control. It quickly became invasive in the southeastern US, smothering native vegetation and trees.\\n\\n3. Asian Carp (Hypophthalmichthys nobilis and H. molitrix): These fast-growing and hardy fish were imported to the United States for aquaculture and have since spread into the Mississippi and Illinois river systems. They outcompete and displace native species and can cause ecological damage.\\n\\n4. Burmese Python (Python bivittatus): This large snake was introduced to the Florida Everglades as released or escaped pets. They have become a threat to native wildlife, preying on a wide range of mammals and birds.\\n\\n5. Purple Loosestrife (Lythrum salicaria): This plant was introduced to North America as an ornamental plant and has since spread throughout wetland habitats. It forms dense stands that crowd out native plants and degrade wetland ecosystems.',\n",
       " 'instruction': 'Name 5 invasive species.',\n",
       " 'input': ''}"
      ]
     },
     "execution_count": 3,
     "metadata": {},
     "output_type": "execute_result"
    }
   ],
   "source": [
    "dataset[\"train\"][313]"
   ]
  },
  {
   "cell_type": "code",
   "execution_count": 4,
   "id": "88d24df3",
   "metadata": {},
   "outputs": [
    {
     "data": {
      "text/plain": [
       "(104004, 62646)"
      ]
     },
     "execution_count": 4,
     "metadata": {},
     "output_type": "execute_result"
    }
   ],
   "source": [
    "len(dataset[\"train\"]), len([k for k in dataset[\"train\"] if k[\"input\"] == \"\"])"
   ]
  },
  {
   "cell_type": "code",
   "execution_count": 5,
   "id": "47de19d0-1b2b-43ed-80b4-c2aaa8b07b3c",
   "metadata": {},
   "outputs": [],
   "source": [
    "make_chatml = lambda name, role, content: dict(\n",
    "    name=name, role=role, content=content,\n",
    ")\n",
    "\n",
    "system = lambda name, content: make_chatml(\n",
    "    role=\"system\",\n",
    "    name=name,\n",
    "    content=content,\n",
    ")\n",
    "\n",
    "situation = lambda content: system(name=\"situation\", content=content)\n",
    "thought = lambda content: system(name=\"thought\", content=content)\n",
    "information = lambda content: system(name=\"information\", content=content)\n",
    "me = lambda content, name=None: make_chatml(\n",
    "    role=\"assistant\",\n",
    "    content=content,\n",
    "    name=name,\n",
    ")\n",
    "\n",
    "person = lambda content, name=None: make_chatml(\n",
    "    role=\"user\",\n",
    "    content=content,\n",
    "    name=name,\n",
    ")\n",
    "\n",
    "newline = '\\n'\n",
    "available_functions = lambda fns: dict(\n",
    "    role=\"system\",\n",
    "    name=\"functions\",\n",
    "    content=f\"\"\"\\\n",
    "Available functions:\n",
    "```\\n{(newline*2).join([json.dumps(fn, indent=2) for fn in fns])}\\n```\"\"\"\n",
    ")\n",
    "\n",
    "function_call = lambda name, arguments: dict(\n",
    "    role=\"function_call\",\n",
    "    content=json.dumps(dict(name=name, arguments=arguments)),\n",
    ")"
   ]
  },
  {
   "cell_type": "code",
   "execution_count": 6,
   "id": "6b674e41-1a4d-4e73-ab7d-41d369390ab3",
   "metadata": {},
   "outputs": [],
   "source": [
    "search_fn = {\n",
    "    \"name\": \"web_search\",\n",
    "    \"description\": \"Search the web for a given query\",\n",
    "    \"parameters\": {\n",
    "        \"type\": \"object\",\n",
    "        \"properties\": {\n",
    "            \"query\": {\n",
    "                \"type\": \"string\",\n",
    "                \"description\": \"Search query\"\n",
    "            }\n",
    "        },\n",
    "        \"required\": [\n",
    "            \"query\"\n",
    "        ]\n",
    "    }\n",
    "}\n",
    "\n",
    "make_query = lambda query: function_call(\"web_search\", {\"query\": query})\n",
    "\n",
    "def to_chatml(row):\n",
    "    prompt = row[\"prompt\"]\n",
    "    response = row[\"response\"]\n",
    "    instruction = row[\"instruction\"]\n",
    "    input = row[\"input\"]\n",
    "\n",
    "    if not input:\n",
    "        input = instruction\n",
    "\n",
    "    chatml = [\n",
    "        situation(\n",
    "            \"A user is talking to their helpful AI Assistant to help them do research.\"\n",
    "            \" In order to do so, the AI has access to various functions that it can call as described below.\"\n",
    "            \" Before answering, the AI first evaluates the results from any functions it called and only uses information it finds pertinent.\"\n",
    "            \"\\n\\nThe AI should first consult the function results but may rely on its own knowledge of the world if needed.\"\n",
    "        ),\n",
    "        available_functions([search_fn]),\n",
    "        person(instruction),\n",
    "        make_query(input),\n",
    "        information(f\"Result:\\n{prompt}\"),\n",
    "        thought(f\"Analyze results of the function:\\n\\n{response}\"),\n",
    "    ]\n",
    "\n",
    "    return dict(chatml=chatml)"
   ]
  },
  {
   "cell_type": "code",
   "execution_count": 7,
   "id": "96011a4c-01a2-4018-9ba6-5d927a7756a7",
   "metadata": {},
   "outputs": [
    {
     "data": {
      "application/vnd.jupyter.widget-view+json": {
       "model_id": "fb4b42600f3344208c2dd187b8af8a04",
       "version_major": 2,
       "version_minor": 0
      },
      "text/plain": [
       "Map:   0%|          | 0/104004 [00:00<?, ? examples/s]"
      ]
     },
     "metadata": {},
     "output_type": "display_data"
    }
   ],
   "source": [
    "dataset = dataset.map(to_chatml).remove_columns(set(dataset[\"train\"].column_names) - {\"chatml\"})"
   ]
  },
  {
   "cell_type": "code",
   "execution_count": 12,
   "id": "558094b4-ee4b-4298-bdcb-0bbd139b4ee1",
   "metadata": {},
   "outputs": [
    {
     "data": {
      "text/plain": [
       "{'chatml': [{'content': 'A user is talking to their helpful AI Assistant to help them do research. In order to do so, the AI has access to various functions that it can call as described below. Before answering, the AI first evaluates the results from any functions it called and only uses information it finds pertinent.\\n\\nThe AI should first consult the function results but may rely on its own knowledge of the world if needed.',\n",
       "   'name': 'situation',\n",
       "   'role': 'system'},\n",
       "  {'content': 'Available functions:\\n```\\n{\\n  \"name\": \"web_search\",\\n  \"description\": \"Search the web for a given query\",\\n  \"parameters\": {\\n    \"type\": \"object\",\\n    \"properties\": {\\n      \"query\": {\\n        \"type\": \"string\",\\n        \"description\": \"Search query\"\\n      }\\n    },\\n    \"required\": [\\n      \"query\"\\n    ]\\n  }\\n}\\n```',\n",
       "   'name': 'functions',\n",
       "   'role': 'system'},\n",
       "  {'content': 'Add an interesting description for a character.\\n',\n",
       "   'name': None,\n",
       "   'role': 'user'},\n",
       "  {'content': '{\"name\": \"web_search\", \"arguments\": {\"query\": \"She was a doctor.\"}}',\n",
       "   'name': None,\n",
       "   'role': 'function_call'},\n",
       "  {'content': \"Result:\\n(1) How To Write Better Character Descriptions\\nThis would be SHOW. The description is showing the woman's actions. You are showing the reader how she is acting. You are not telling the reader she is happy; you are letting the reader work this out and remain an active part of the story. By SHOWING, not TELLING, emotions, plot and backstory you are forcing the reader to 'lean into' the ...\\n\\n(2) Writing Description in Fiction\\nWhen description is visceral—when we can feel it—it comes alive. Description can be used to engage readers' five senses: sight, sound, smell, touch, and taste. Average descriptions focus on sight, explaining what something looks like. But descriptions that include the other senses will arouse the readers' senses.\",\n",
       "   'name': 'information',\n",
       "   'role': 'system'},\n",
       "  {'content': \"Analyze results of the function:\\n\\nAll search results are informative, and I can utilize all search results and my knowledge.\\nShe was a doctor, but not the kind you'd imagine with a pristine white lab coat and pristine demeanor. Her curly hair was always a bit messy on the top of her head, and she often had smudges of dirt on her clothes. She worked tirelessly in remote villages, bringing medical care to those who needed it most, with a smile that never seemed to fade despite the long hours and the difficult cases. Her patients, young and old, adored her for her unrelenting kindness and her ability to make them feel seen and cared for. She was a light in their lives, and her smile was enough to make anyone feel better, no matter their ailment.\",\n",
       "   'name': 'thought',\n",
       "   'role': 'system'}]}"
      ]
     },
     "execution_count": 12,
     "metadata": {},
     "output_type": "execute_result"
    }
   ],
   "source": [
    "import random\n",
    "dataset[\"train\"][random.randint(0, len(dataset[\"train\"]))]"
   ]
  },
  {
   "cell_type": "code",
   "execution_count": 9,
   "id": "078ed00f-5246-4f0d-837a-0a0d51e4ef41",
   "metadata": {},
   "outputs": [
    {
     "data": {
      "application/vnd.jupyter.widget-view+json": {
       "model_id": "c4b8f61336f74c5d8ceba8934dce5f9e",
       "version_major": 2,
       "version_minor": 0
      },
      "text/plain": [
       "Pushing dataset shards to the dataset hub:   0%|          | 0/1 [00:00<?, ?it/s]"
      ]
     },
     "metadata": {},
     "output_type": "display_data"
    },
    {
     "data": {
      "application/vnd.jupyter.widget-view+json": {
       "model_id": "b443de4eef9c409e9a673743a5c5a647",
       "version_major": 2,
       "version_minor": 0
      },
      "text/plain": [
       "Creating parquet from Arrow format:   0%|          | 0/105 [00:00<?, ?ba/s]"
      ]
     },
     "metadata": {},
     "output_type": "display_data"
    },
    {
     "data": {
      "application/vnd.jupyter.widget-view+json": {
       "model_id": "eea0750c296d43ab9b547e291b070261",
       "version_major": 2,
       "version_minor": 0
      },
      "text/plain": [
       "Deleting unused files from dataset repository:   0%|          | 0/1 [00:00<?, ?it/s]"
      ]
     },
     "metadata": {},
     "output_type": "display_data"
    },
    {
     "data": {
      "application/vnd.jupyter.widget-view+json": {
       "model_id": "1bd7ea1570e54acb8d729c4bfa1b739b",
       "version_major": 2,
       "version_minor": 0
      },
      "text/plain": [
       "Downloading metadata:   0%|          | 0.00/480 [00:00<?, ?B/s]"
      ]
     },
     "metadata": {},
     "output_type": "display_data"
    }
   ],
   "source": [
    "dataset.push_to_hub(\"diwank/sail_preprocessed-chatml\", private=True)"
   ]
  },
  {
   "cell_type": "code",
   "execution_count": null,
   "id": "15d2f292",
   "metadata": {},
   "outputs": [],
   "source": []
  }
 ],
 "metadata": {
  "kernelspec": {
   "display_name": "Python 3 (ipykernel)",
   "language": "python",
   "name": "python3"
  },
  "language_info": {
   "codemirror_mode": {
    "name": "ipython",
    "version": 3
   },
   "file_extension": ".py",
   "mimetype": "text/x-python",
   "name": "python",
   "nbconvert_exporter": "python",
   "pygments_lexer": "ipython3",
   "version": "3.10.12"
  }
 },
 "nbformat": 4,
 "nbformat_minor": 5
}
