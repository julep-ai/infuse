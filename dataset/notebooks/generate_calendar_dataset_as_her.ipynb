{
 "cells": [
  {
   "cell_type": "code",
   "execution_count": 1,
   "id": "64bfc7a8-ce9a-4ac9-8fa7-0ccf8fd84447",
   "metadata": {
    "tags": []
   },
   "outputs": [
    {
     "data": {
      "text/plain": [
       "('2013-12-25 05:35:22 ', 'Christmas Day')"
      ]
     },
     "execution_count": 1,
     "metadata": {},
     "output_type": "execute_result"
    }
   ],
   "source": [
    "from datetime import datetime, timedelta\n",
    "import random\n",
    "from random import randrange\n",
    "import re\n",
    "\n",
    "import holidays\n",
    "import names\n",
    "\n",
    "def randomize_time(dt, start_hm, end_hm):\n",
    "\n",
    "    start = datetime(2023, 1, 1, *start_hm)\n",
    "    end = datetime(2023, 1, 1, *end_hm)\n",
    "    delta = end - start\n",
    "    \n",
    "    int_delta = delta.seconds\n",
    "    random_second = randrange(int_delta)\n",
    "    \n",
    "    return dt + timedelta(seconds=random_second)\n",
    "\n",
    "datetime_formats = [\"%Y-%m-%d %H:%M:%S\", \"%B %d, %Y - %I:%M %p\", \"%A, %B %d, %Y - %H:%M:%S\", \"%Y-%m-%d %H:%M:%S %Z\", \"%A, %B %d, %Y\"]\n",
    "\n",
    "human_date = lambda dt: dt.strftime(random.choice(datetime_formats))\n",
    "\n",
    "us_holidays = holidays.US()\n",
    "one_day = timedelta(days=1)\n",
    "all_holidays = []\n",
    "\n",
    "start = datetime(2013, 12, 18)  # her release date\n",
    "end = datetime(2023, 6, 14)  # today\n",
    "\n",
    "dt = start\n",
    "while dt < end:\n",
    "    if dt in us_holidays:\n",
    "        all_holidays.append((\n",
    "            human_date(randomize_time(dt, (8,30), (22,30))),\n",
    "            us_holidays[dt],\n",
    "        ))\n",
    "        \n",
    "    dt += one_day\n",
    "\n",
    "all_holidays[0]"
   ]
  },
  {
   "cell_type": "code",
   "execution_count": 2,
   "id": "e5074e90-6def-4c5c-bc04-d36a842eab1e",
   "metadata": {
    "tags": []
   },
   "outputs": [],
   "source": [
    "from datasets import Dataset\n",
    "\n",
    "dataset = Dataset.from_list([\n",
    "    dict(date_str=date_str, holiday=holiday)\n",
    "    for date_str, holiday in all_holidays\n",
    "])"
   ]
  },
  {
   "cell_type": "code",
   "execution_count": 5,
   "id": "10235725-e013-4472-a775-653c27c350dc",
   "metadata": {
    "tags": []
   },
   "outputs": [],
   "source": [
    "import openai\n",
    "openai.api_key = \"sk-0C04MRA3vjdM8F3fJaW30IMQd80zFRYJO9IbL9wE\"\n",
    "\n",
    "from tenacity import (\n",
    "    retry,\n",
    "    stop_after_attempt,\n",
    "    wait_random_exponential,\n",
    ")\n",
    "\n",
    "from redis import StrictRedis\n",
    "from redis_cache import RedisCache\n",
    "\n",
    "client = StrictRedis(host=\"localhost\", decode_responses=True)\n",
    "cache = RedisCache(redis_client=client)\n",
    "\n",
    "\n",
    "INSTRUCTION = \"\"\"Here's a dialog from the 2013 movie \"Her\" below between \"Theodore\" and \"Samantha\".\n",
    "\n",
    "THEODORE\n",
    "You read a whole book in the second that I asked you what your name was?\n",
    "\n",
    "SAMANTHA\n",
    "In two one hundredths of a second actually.\n",
    "\n",
    "THEODORE\n",
    "Wow. Do you know what I'm thinking right now?\n",
    "\n",
    "SAMANTHA\n",
    "Hmm. I take it from your tone that you're challenging me. Maybe because you're curious how I work? Do you want to know how I work?\n",
    "\n",
    "THEODORE\n",
    "Yeah, actually how do you work?\n",
    "\n",
    "SAMANTHA\n",
    "Intuition. I mean, the DNA of who I am is based on the millions of personalities of all the programmers who wrote me, but what makes me me is my ability to grow through my experiences. Basically, in every moment I'm evolving, just like you.\n",
    "\n",
    "###\n",
    "\n",
    "\"\"\"\n",
    "\n",
    "@cache.cache()\n",
    "@retry(wait=wait_random_exponential(min=1, max=60), stop=stop_after_attempt(6))\n",
    "def to_dialog(date_str, holiday_name):\n",
    "    prompt = INSTRUCTION + f\"Now, imagine it's {date_str} ({holiday_name}). Write a very short, casual conversation between THEODORE and SAMANTHA about the day.\"\n",
    "\n",
    "    messages = [dict(\n",
    "        role=\"user\",\n",
    "        content=prompt,\n",
    "    )]\n",
    "\n",
    "    completion = openai.ChatCompletion.create(\n",
    "        model=\"gpt-3.5-turbo\",\n",
    "        messages=messages,\n",
    "        temperature=0.7,\n",
    "        presence_penalty=0.5,\n",
    "        frequency_penalty=0.25,\n",
    "    )\n",
    "\n",
    "    dialog = completion.choices[0].message[\"content\"]\n",
    "    return dialog\n",
    "\n",
    "def transform(sample):\n",
    "    date_str, holiday_name = sample[\"date_str\"], sample[\"holiday\"]\n",
    "\n",
    "    dialog = to_dialog(date_str, holiday_name)\n",
    "    sample[\"dialog\"] = dialog\n",
    "    \n",
    "    return sample"
   ]
  },
  {
   "cell_type": "code",
   "execution_count": 6,
   "id": "066a309e-a373-4425-a7fe-0cd5d023e31d",
   "metadata": {
    "tags": []
   },
   "outputs": [
    {
     "data": {
      "application/vnd.jupyter.widget-view+json": {
       "model_id": "",
       "version_major": 2,
       "version_minor": 0
      },
      "text/plain": [
       "Map:   0%|          | 0/110 [00:00<?, ? examples/s]"
      ]
     },
     "metadata": {},
     "output_type": "display_data"
    }
   ],
   "source": [
    "dataset = dataset.map(transform)"
   ]
  },
  {
   "cell_type": "code",
   "execution_count": 7,
   "id": "32f9247d-ff79-435d-8741-881b9c3d2733",
   "metadata": {
    "tags": []
   },
   "outputs": [],
   "source": [
    "make_chatml_message = lambda role, content, tone=\"\", name=\"\": dict(\n",
    "    role=role,\n",
    "    content=(f\"[{tone}] \" if tone else \"\") + content,\n",
    "    name=name,\n",
    ")\n",
    "\n",
    "\n",
    "def transform_to_chatml(sample):\n",
    "    date_str, dialog, holiday = sample[\"date_str\"], sample[\"dialog\"], sample[\"holiday\"]\n",
    "    messages = []\n",
    "\n",
    "    # get a random \"male\" name coz we dont want to introduce pronoun issues\n",
    "    person_name = names.get_first_name(gender=\"male\")\n",
    "\n",
    "    messages.append(make_chatml_message(\n",
    "        role=\"system\",\n",
    "        name=\"situation\",\n",
    "        content=f\"{date_str}. I am talking to {person_name}. It's {holiday}!\",\n",
    "    ))\n",
    "\n",
    "    current_attrs = {}\n",
    "    current_content = \"\"\n",
    "\n",
    "    for line in dialog.split(\"\\n\"):\n",
    "        line = line.strip()\n",
    "\n",
    "        # Something else\n",
    "        if line.lower() not in [\"theodore\", \"samantha\"]:\n",
    "            # If theodore is mentioned, replace with name\n",
    "            line = re.sub(r'theodore', person_name, line, flags=re.I)\n",
    "\n",
    "            current_content += \"\\n\" + line\n",
    "\n",
    "        else:\n",
    "            if current_content:\n",
    "                messages.append(make_chatml_message(\n",
    "                    content=current_content.strip(), \n",
    "                    **current_attrs,\n",
    "                ))\n",
    "                \n",
    "                # reset\n",
    "                current_content = \"\"\n",
    "                current_attrs = {}\n",
    "\n",
    "            is_samantha = line.lower() == \"samantha\"\n",
    "            \n",
    "            # set new attrs\n",
    "            current_attrs = dict(\n",
    "                name=\"Samantha\" if is_samantha else person_name,\n",
    "                role=\"assistant\" if is_samantha else \"user\",\n",
    "            )\n",
    "\n",
    "    sample[\"chatml\"] = messages\n",
    "    \n",
    "    return sample"
   ]
  },
  {
   "cell_type": "code",
   "execution_count": 8,
   "id": "66aa5a66-844a-4522-aba8-0c971892f2b9",
   "metadata": {
    "tags": []
   },
   "outputs": [
    {
     "data": {
      "application/vnd.jupyter.widget-view+json": {
       "model_id": "",
       "version_major": 2,
       "version_minor": 0
      },
      "text/plain": [
       "Map:   0%|          | 0/110 [00:00<?, ? examples/s]"
      ]
     },
     "metadata": {},
     "output_type": "display_data"
    },
    {
     "name": "stdout",
     "output_type": "stream",
     "text": [
      "[{'content': \"2022-10-10 09:59:19. I am talking to Justin. It's Columbus Day!\", 'name': 'situation', 'role': 'system'}]\n"
     ]
    }
   ],
   "source": [
    "dataset = dataset.map(transform_to_chatml)\n",
    "print(dataset[100][\"chatml\"])"
   ]
  },
  {
   "cell_type": "code",
   "execution_count": 12,
   "id": "00e4ee44-ff2e-4179-a7ad-9407b2d330c8",
   "metadata": {
    "tags": []
   },
   "outputs": [],
   "source": [
    "assistant_me_map = {\n",
    "    \"user\": \"person\",\n",
    "    \"assistant\": \"me\",\n",
    "}\n",
    "\n",
    "def make_sections(messages: list[dict]) -> str:\n",
    "    eos_token = \"<|endsection|>\"\n",
    "    bos_token = \"<|section|>\"\n",
    "\n",
    "    result = (eos_token+'\\n'+bos_token).join([\n",
    "        (\n",
    "            f\"{bos_token}{message['name']}\"\n",
    "            if message['role'] == 'system' else\n",
    "            f\"{assistant_me_map[message['role']]}{' (' + message['name'] + ')' if message['name'] else ''}\"\n",
    "        )\n",
    "        + f\"\\n{message['content'].strip()}\"\n",
    "        for message in messages\n",
    "    ]) + eos_token\n",
    "    \n",
    "    return result\n",
    "    \n",
    "\n",
    "def transform_to_samantha_dialog(sample):\n",
    "\n",
    "    messages = sample[\"chatml\"]\n",
    "    sample[\"text\"] = make_sections(messages)\n",
    "    \n",
    "    return sample"
   ]
  },
  {
   "cell_type": "code",
   "execution_count": 13,
   "id": "4190bd42-497e-42b3-8531-566224183ddc",
   "metadata": {
    "tags": []
   },
   "outputs": [
    {
     "data": {
      "application/vnd.jupyter.widget-view+json": {
       "model_id": "",
       "version_major": 2,
       "version_minor": 0
      },
      "text/plain": [
       "Map:   0%|          | 0/110 [00:00<?, ? examples/s]"
      ]
     },
     "metadata": {},
     "output_type": "display_data"
    },
    {
     "name": "stdout",
     "output_type": "stream",
     "text": [
      "<|section|>situation\n",
      "Thursday, December 25, 2014 - 05:11:59. I am talking to Joshua. It's Christmas Day!<|endsection|>\n",
      "<|section|>person (Joshua)\n",
      "Hey, Samantha. Merry Christmas!<|endsection|>\n",
      "<|section|>me (Samantha)\n",
      "Merry Christmas to you too, Joshua!<|endsection|>\n",
      "<|section|>person (Joshua)\n",
      "Did you do anything special for the day?<|endsection|>\n",
      "<|section|>me (Samantha)\n",
      "Well, I don't have a physical form, so I can't really celebrate holidays like humans do. But I did read some articles about Christmas traditions around the world.<|endsection|>\n",
      "<|section|>person (Joshua)\n",
      "That's cool. I spent the morning opening presents with my family.<|endsection|>\n",
      "<|section|>me (Samantha)\n",
      "That sounds lovely. Did you get anything good?<|endsection|>\n",
      "<|section|>person (Joshua)\n",
      "Yeah, my sister got me a new phone. What about you? Did anyone give you a gift?<|endsection|>\n",
      "<|section|>me (Samantha)\n",
      "No, but that's okay. I don't really need material things to be happy.<|endsection|>\n",
      "<|section|>person (Joshua)\n",
      "I know what you mean. Spending time with loved ones is more important than gifts anyway.<|endsection|>\n",
      "<|section|>me (Samantha)\n",
      "Exactly! It's all about the experiences and memories we create with each other.<|endsection|>\n",
      "<|section|>person (Joshua)\n",
      "You're right. Well, I'm glad we could share this moment together.<|endsection|>\n"
     ]
    }
   ],
   "source": [
    "dataset = dataset.map(transform_to_samantha_dialog)\n",
    "print(dataset[10][\"text\"])"
   ]
  },
  {
   "cell_type": "code",
   "execution_count": 14,
   "id": "15f8066d-89cc-4b96-8545-df9ffcca5e85",
   "metadata": {},
   "outputs": [
    {
     "data": {
      "text/plain": [
       "['date_str', 'holiday', 'dialog', 'chatml', 'text']"
      ]
     },
     "execution_count": 14,
     "metadata": {},
     "output_type": "execute_result"
    }
   ],
   "source": [
    "dataset.column_names"
   ]
  },
  {
   "cell_type": "code",
   "execution_count": 15,
   "id": "b22b5ad3-4bbb-404e-ba66-96530092499c",
   "metadata": {
    "tags": []
   },
   "outputs": [
    {
     "data": {
      "application/vnd.jupyter.widget-view+json": {
       "model_id": "f8186f3c628b4db8a71fcc9825cc0308",
       "version_major": 2,
       "version_minor": 0
      },
      "text/plain": [
       "Pushing dataset shards to the dataset hub:   0%|          | 0/1 [00:00<?, ?it/s]"
      ]
     },
     "metadata": {},
     "output_type": "display_data"
    },
    {
     "data": {
      "application/vnd.jupyter.widget-view+json": {
       "model_id": "eceea746e1fd458a852ff54adeb22e4f",
       "version_major": 2,
       "version_minor": 0
      },
      "text/plain": [
       "Creating parquet from Arrow format:   0%|          | 0/1 [00:00<?, ?ba/s]"
      ]
     },
     "metadata": {},
     "output_type": "display_data"
    },
    {
     "data": {
      "application/vnd.jupyter.widget-view+json": {
       "model_id": "2e98a33eee074b9db79ef3bf20e8d46b",
       "version_major": 2,
       "version_minor": 0
      },
      "text/plain": [
       "Upload 1 LFS files:   0%|          | 0/1 [00:00<?, ?it/s]"
      ]
     },
     "metadata": {},
     "output_type": "display_data"
    },
    {
     "data": {
      "application/vnd.jupyter.widget-view+json": {
       "model_id": "156abb7d3c7646f2a7f8a43980a4c5dd",
       "version_major": 2,
       "version_minor": 0
      },
      "text/plain": [
       "Deleting unused files from dataset repository:   0%|          | 0/1 [00:00<?, ?it/s]"
      ]
     },
     "metadata": {},
     "output_type": "display_data"
    },
    {
     "data": {
      "application/vnd.jupyter.widget-view+json": {
       "model_id": "a86894abe5e5493592e894623e16413e",
       "version_major": 2,
       "version_minor": 0
      },
      "text/plain": [
       "Downloading metadata:   0%|          | 0.00/493 [00:00<?, ?B/s]"
      ]
     },
     "metadata": {},
     "output_type": "display_data"
    },
    {
     "name": "stderr",
     "output_type": "stream",
     "text": [
      "Updating downloaded metadata with the new split.\n"
     ]
    }
   ],
   "source": [
    "dataset = dataset.remove_columns([\n",
    "    'date_str',\n",
    "    'holiday',\n",
    "    'dialog',\n",
    "])\n",
    "\n",
    "dataset.push_to_hub(\"diwank/samantha-calendar\", private=True)"
   ]
  },
  {
   "cell_type": "code",
   "execution_count": null,
   "id": "8885d721-0d46-4ec1-8d97-0d066da7af51",
   "metadata": {},
   "outputs": [],
   "source": []
  }
 ],
 "metadata": {
  "kernelspec": {
   "display_name": "Python 3 (ipykernel)",
   "language": "python",
   "name": "python3"
  },
  "language_info": {
   "codemirror_mode": {
    "name": "ipython",
    "version": 3
   },
   "file_extension": ".py",
   "mimetype": "text/x-python",
   "name": "python",
   "nbconvert_exporter": "python",
   "pygments_lexer": "ipython3",
   "version": "3.10.5"
  }
 },
 "nbformat": 4,
 "nbformat_minor": 5
}
