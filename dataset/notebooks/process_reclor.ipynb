{
 "cells": [
  {
   "cell_type": "code",
   "execution_count": 1,
   "id": "ede426b2-9153-44c7-ada4-4a1641134b00",
   "metadata": {},
   "outputs": [],
   "source": [
    "from datasets import load_dataset\n",
    "\n",
    "dataset = load_dataset(\"metaeval/reclor\")"
   ]
  },
  {
   "cell_type": "code",
   "execution_count": 2,
   "id": "f2e0ca86-88d7-4ebc-be51-c85e533f5e47",
   "metadata": {},
   "outputs": [
    {
     "data": {
      "text/plain": [
       "('labels',\n",
       " {0, 1, 2, 3},\n",
       " {'context': \"In rheumatoid arthritis, the body' s immune system misfunctions by attacking healthy cells in the joints causing the release of a hormone that in turn causes pain and swelling. This hormone is normally activated only in reaction to injury or infection. A new arthritis medication will contain a protein that inhibits the functioning of the hormone that causes pain and swelling in the joints.\",\n",
       "  'answers': ['Unlike aspirin and other medications that reduce pain and swelling and that are currently available, the new medication would repair existing cell damage that had been caused by rheumatoid arthritis.',\n",
       "   'A patient treated with the new medication for rheumatoid arthritis could sustain a joint injury without becoming aware of it.',\n",
       "   'Joint diseases other than rheumatoid arthritis would not be affected by the new medication.',\n",
       "   \"The benefits to rheumatoid arthritis sufferers of the new medication would outweigh the medication's possible harmful side effects.\"],\n",
       "  'id_string': 'train_0',\n",
       "  'question': 'The statements above, if true, most strongly support which one of the following conclusions?',\n",
       "  'label': 1})"
      ]
     },
     "execution_count": 2,
     "metadata": {},
     "output_type": "execute_result"
    }
   ],
   "source": [
    "\"labels\", set(dataset[\"train\"][\"label\"]), dataset[\"train\"][0]"
   ]
  },
  {
   "cell_type": "code",
   "execution_count": 3,
   "id": "47de19d0-1b2b-43ed-80b4-c2aaa8b07b3c",
   "metadata": {},
   "outputs": [],
   "source": [
    "make_chatml = lambda name, role, content: dict(\n",
    "    name=name, role=role, content=content,\n",
    ")\n",
    "\n",
    "system = lambda name, content: make_chatml(\n",
    "    role=\"system\",\n",
    "    name=name,\n",
    "    content=content,\n",
    ")\n",
    "\n",
    "situation = lambda content: system(name=\"situation\", content=content)\n",
    "thought = lambda content: system(name=\"thought\", content=content)\n",
    "information = lambda content: system(name=\"information\", content=content)\n",
    "me = lambda content, name=None: make_chatml(\n",
    "    role=\"assistant\",\n",
    "    content=content,\n",
    "    name=name,\n",
    ")\n",
    "\n",
    "person = lambda content, name=None: make_chatml(\n",
    "    role=\"user\",\n",
    "    content=content,\n",
    "    name=name,\n",
    ")"
   ]
  },
  {
   "cell_type": "code",
   "execution_count": 4,
   "id": "bac4d0e1-e49b-45e0-8c5b-06d9532b089b",
   "metadata": {},
   "outputs": [],
   "source": [
    "def to_chatml(row):\n",
    "    context = row[\"context\"]\n",
    "    label = row[\"label\"]\n",
    "    answers = row[\"answers\"]\n",
    "    question = row[\"question\"]\n",
    "    \n",
    "    answer_keys = list(\"ABCDEFGH\")\n",
    "    correct_answer = answers[int(label)]\n",
    "    correct_answer_key = answer_keys[int(label)]\n",
    "\n",
    "    formatted_answers = \"\\n\".join([\n",
    "        f\"{key}) {answer}\"\n",
    "        for key, answer in zip(answer_keys, answers)\n",
    "    ])\n",
    "\n",
    "    chatml = [\n",
    "        situation(\"I am a student answering a question based on the context given below.\"),\n",
    "        information(\n",
    "            f\"Context:\\n\\n{context}\",\n",
    "        ),\n",
    "        thought(\n",
    "            f\"Question: {question}\\nChoices:\\n{formatted_answers}\\n\\nCorrect answer: {correct_answer_key}) {correct_answer}\",\n",
    "        ),\n",
    "    ]\n",
    "\n",
    "    return dict(chatml=chatml)"
   ]
  },
  {
   "cell_type": "code",
   "execution_count": 5,
   "id": "96011a4c-01a2-4018-9ba6-5d927a7756a7",
   "metadata": {},
   "outputs": [
    {
     "data": {
      "application/vnd.jupyter.widget-view+json": {
       "model_id": "568b15e7be7a428c8b589e6b74f7fd97",
       "version_major": 2,
       "version_minor": 0
      },
      "text/plain": [
       "Map:   0%|          | 0/9276 [00:00<?, ? examples/s]"
      ]
     },
     "metadata": {},
     "output_type": "display_data"
    },
    {
     "data": {
      "application/vnd.jupyter.widget-view+json": {
       "model_id": "39f21e87c59e48daac21c5b7bca66491",
       "version_major": 2,
       "version_minor": 0
      },
      "text/plain": [
       "Map:   0%|          | 0/1000 [00:00<?, ? examples/s]"
      ]
     },
     "metadata": {},
     "output_type": "display_data"
    }
   ],
   "source": [
    "dataset = dataset.map(to_chatml).remove_columns(set(dataset[\"train\"].column_names) - {\"chatml\"})"
   ]
  },
  {
   "cell_type": "code",
   "execution_count": 6,
   "id": "38aec2f0-b86c-4572-bb34-e93c2fc12dfa",
   "metadata": {},
   "outputs": [
    {
     "name": "stdout",
     "output_type": "stream",
     "text": [
      "[{'content': 'I am a student answering a question based on the context given '\n",
      "             'below.',\n",
      "  'name': 'situation',\n",
      "  'role': 'system'},\n",
      " {'content': 'Context:\\n'\n",
      "             '\\n'\n",
      "             \"In rheumatoid arthritis, the body' s immune system misfunctions \"\n",
      "             'by attacking healthy cells in the joints causing the release of '\n",
      "             'a hormone that in turn causes pain and swelling. This hormone is '\n",
      "             'normally activated only in reaction to injury or infection. A '\n",
      "             'new arthritis medication will contain a protein that inhibits '\n",
      "             'the functioning of the hormone that causes pain and swelling in '\n",
      "             'the joints.',\n",
      "  'name': 'information',\n",
      "  'role': 'system'},\n",
      " {'content': 'Question: The statements above, if true, most strongly support '\n",
      "             'which one of the following conclusions?\\n'\n",
      "             'Choices:\\n'\n",
      "             'A) Unlike aspirin and other medications that reduce pain and '\n",
      "             'swelling and that are currently available, the new medication '\n",
      "             'would repair existing cell damage that had been caused by '\n",
      "             'rheumatoid arthritis.\\n'\n",
      "             'B) A patient treated with the new medication for rheumatoid '\n",
      "             'arthritis could sustain a joint injury without becoming aware of '\n",
      "             'it.\\n'\n",
      "             'C) Joint diseases other than rheumatoid arthritis would not be '\n",
      "             'affected by the new medication.\\n'\n",
      "             'D) The benefits to rheumatoid arthritis sufferers of the new '\n",
      "             \"medication would outweigh the medication's possible harmful side \"\n",
      "             'effects.\\n'\n",
      "             '\\n'\n",
      "             'Correct answer: B) A patient treated with the new medication for '\n",
      "             'rheumatoid arthritis could sustain a joint injury without '\n",
      "             'becoming aware of it.',\n",
      "  'name': 'thought',\n",
      "  'role': 'system'}]\n"
     ]
    }
   ],
   "source": [
    "from pprint import pprint\n",
    "pprint(dataset[\"train\"][0][\"chatml\"])"
   ]
  },
  {
   "cell_type": "code",
   "execution_count": 7,
   "id": "078ed00f-5246-4f0d-837a-0a0d51e4ef41",
   "metadata": {},
   "outputs": [
    {
     "data": {
      "application/vnd.jupyter.widget-view+json": {
       "model_id": "b422af4512614ebd866aa210a397b4fa",
       "version_major": 2,
       "version_minor": 0
      },
      "text/plain": [
       "Pushing dataset shards to the dataset hub:   0%|          | 0/1 [00:00<?, ?it/s]"
      ]
     },
     "metadata": {},
     "output_type": "display_data"
    },
    {
     "data": {
      "application/vnd.jupyter.widget-view+json": {
       "model_id": "f483ae8fa547456f90e42a63fa367824",
       "version_major": 2,
       "version_minor": 0
      },
      "text/plain": [
       "Creating parquet from Arrow format:   0%|          | 0/10 [00:00<?, ?ba/s]"
      ]
     },
     "metadata": {},
     "output_type": "display_data"
    },
    {
     "data": {
      "application/vnd.jupyter.widget-view+json": {
       "model_id": "2fcdd70061c348a5892b45453a1357fa",
       "version_major": 2,
       "version_minor": 0
      },
      "text/plain": [
       "Deleting unused files from dataset repository:   0%|          | 0/1 [00:00<?, ?it/s]"
      ]
     },
     "metadata": {},
     "output_type": "display_data"
    },
    {
     "data": {
      "application/vnd.jupyter.widget-view+json": {
       "model_id": "c88093884fa24708ae9e95d2bdd1c3d2",
       "version_major": 2,
       "version_minor": 0
      },
      "text/plain": [
       "Pushing dataset shards to the dataset hub:   0%|          | 0/1 [00:00<?, ?it/s]"
      ]
     },
     "metadata": {},
     "output_type": "display_data"
    },
    {
     "data": {
      "application/vnd.jupyter.widget-view+json": {
       "model_id": "248cdaaf38e74d46bbf5e11b626d9b48",
       "version_major": 2,
       "version_minor": 0
      },
      "text/plain": [
       "Creating parquet from Arrow format:   0%|          | 0/1 [00:00<?, ?ba/s]"
      ]
     },
     "metadata": {},
     "output_type": "display_data"
    },
    {
     "data": {
      "application/vnd.jupyter.widget-view+json": {
       "model_id": "ad3a01e7605a4cd2a0c1cd561c41b409",
       "version_major": 2,
       "version_minor": 0
      },
      "text/plain": [
       "Deleting unused files from dataset repository:   0%|          | 0/1 [00:00<?, ?it/s]"
      ]
     },
     "metadata": {},
     "output_type": "display_data"
    },
    {
     "data": {
      "application/vnd.jupyter.widget-view+json": {
       "model_id": "401afebf139b46e19fca7f64274cb679",
       "version_major": 2,
       "version_minor": 0
      },
      "text/plain": [
       "Downloading metadata:   0%|          | 0.00/668 [00:00<?, ?B/s]"
      ]
     },
     "metadata": {},
     "output_type": "display_data"
    }
   ],
   "source": [
    "dataset.push_to_hub(\"diwank/reclor-chatml\", private=True)"
   ]
  },
  {
   "cell_type": "code",
   "execution_count": null,
   "id": "ebab137d-4005-43f9-ac2e-cf864dba0833",
   "metadata": {},
   "outputs": [],
   "source": []
  }
 ],
 "metadata": {
  "kernelspec": {
   "display_name": "Python 3 (ipykernel)",
   "language": "python",
   "name": "python3"
  },
  "language_info": {
   "codemirror_mode": {
    "name": "ipython",
    "version": 3
   },
   "file_extension": ".py",
   "mimetype": "text/x-python",
   "name": "python",
   "nbconvert_exporter": "python",
   "pygments_lexer": "ipython3",
   "version": "3.10.12"
  }
 },
 "nbformat": 4,
 "nbformat_minor": 5
}
