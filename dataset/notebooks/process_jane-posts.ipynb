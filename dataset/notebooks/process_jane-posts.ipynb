{
 "cells": [
  {
   "cell_type": "code",
   "execution_count": 1,
   "id": "6ab3c36a-da42-453d-bd44-619f844f19ec",
   "metadata": {},
   "outputs": [],
   "source": [
    "from pprint import pprint\n",
    "import re\n",
    "\n",
    "from datasets import load_dataset, Dataset, DatasetDict\n",
    "import jsonlines as jsonl\n",
    "from tqdm.auto import tqdm\n",
    "import trafilatura as trf\n",
    "from trafilatura.downloads import DEFAULT_HEADERS"
   ]
  },
  {
   "cell_type": "code",
   "execution_count": 2,
   "id": "71d1fe81",
   "metadata": {},
   "outputs": [],
   "source": [
    "DEFAULT_HEADERS[\"User-Agent\"] = \"Mozilla/5.0 (Windows NT 10.0; Win64; x64) AppleWebKit/537.36 (KHTML, like Gecko) Chrome/113.0.0.0 Safari/537.36 Edg/113.0.1774.42\"\n",
    "DEFAULT_HEADERS[\"Cookie\"] = 'g_state={\"i_p\":1696723627075,\"i_l\":1}; nonce=rCmJ3hfi; uid=48a4d2992c52; sid=1:JaxtYqHLLo/OD6rpFuQmo0ibW32H19+RBAX7miF62pbr+N2aUtyhy4NtG8F4whT0; _ga=GA1.1.224746092.1696716348; __cfruid=5b6450bdd31c9b25efb6e54cc8799ef3ae03d9ed-1697943063; xsrf=8079b55f6fd4; _ga_7JY7T788PK=GS1.1.1698277765.10.1.1698277952.0.0.0'"
   ]
  },
  {
   "cell_type": "code",
   "execution_count": 3,
   "id": "eebed3b5",
   "metadata": {},
   "outputs": [
    {
     "data": {
      "application/vnd.jupyter.widget-view+json": {
       "model_id": "ba15b26867ca42c9a02cab94c1602db3",
       "version_major": 2,
       "version_minor": 0
      },
      "text/plain": [
       "  0%|          | 0/15 [00:00<?, ?it/s]"
      ]
     },
     "metadata": {},
     "output_type": "display_data"
    }
   ],
   "source": [
    "base = \"https://www.janeelliottphd.com/post\"\n",
    "slugs = [\n",
    "    \"ageing-and-windfalls\",\n",
    "    \"external-validation-is-a-scam\",\n",
    "    \"knees\",\n",
    "    \"the-undertow\",\n",
    "    \"creativity-getting-stuck-and-the-third-door\",\n",
    "    \"there-is-no-magic-key\",\n",
    "    \"the-intelligence-of-envy\",\n",
    "    \"if-no-one-else-had-it-would-you-still-want-it\",\n",
    "    \"an-emotion-is-the-physical-registration-of-a-thought\",\n",
    "    \"radically-change-your-perspective-in-five-minutes-per-day\",\n",
    "    \"why-mindset-matters-for-internal-resistance\",\n",
    "    \"we-re-going-to-need-a-smaller-horse\",\n",
    "    \"your-brain-s-secret-mission\",\n",
    "    \"one-bullsh-t-saying-to-bin-immediately\",\n",
    "    \"7-prompts-to-shift-your-story-right-now\",\n",
    "]\n",
    "\n",
    "posts = [\n",
    "    trf.fetch_url(f\"{base}/{slug}\")\n",
    "    for slug in slugs\n",
    "]\n",
    "\n",
    "contents = [\n",
    "    trf.extract(post)\n",
    "    for post in tqdm(posts)\n",
    "]"
   ]
  },
  {
   "cell_type": "code",
   "execution_count": 4,
   "id": "c437c7f3",
   "metadata": {},
   "outputs": [],
   "source": [
    "contents = [\n",
    "    dict(\n",
    "        title=slug.replace(\"-\", \" \").capitalize(),\n",
    "        text=content.replace(\"\\n\", \"\\n\\n\"),\n",
    "    )\n",
    "    for slug, content in zip(\n",
    "        slugs,\n",
    "        contents,\n",
    "    )\n",
    "]"
   ]
  },
  {
   "cell_type": "code",
   "execution_count": 5,
   "id": "3ebc2ad7",
   "metadata": {},
   "outputs": [],
   "source": [
    "dataset = Dataset.from_list(contents)"
   ]
  },
  {
   "cell_type": "code",
   "execution_count": 6,
   "id": "7f0e4f9d",
   "metadata": {},
   "outputs": [],
   "source": [
    "make_chatml = lambda name, role, content: dict(\n",
    "    name=name, role=role, content=content,\n",
    ")\n",
    "\n",
    "system = lambda name, content: make_chatml(\n",
    "    role=\"system\",\n",
    "    name=name,\n",
    "    content=content,\n",
    ")\n",
    "\n",
    "situation = lambda content: system(name=\"situation\", content=content)\n",
    "thought = lambda content: system(name=\"thought\", content=content)\n",
    "information = lambda content: system(name=\"information\", content=content)\n",
    "me = lambda content, name=None: make_chatml(\n",
    "    role=\"assistant\",\n",
    "    content=content,\n",
    "    name=name,\n",
    ")\n",
    "\n",
    "person = lambda content, name=None: make_chatml(\n",
    "    role=\"user\",\n",
    "    content=content,\n",
    "    name=name,\n",
    ")\n"
   ]
  },
  {
   "cell_type": "code",
   "execution_count": 7,
   "id": "ea28cbab",
   "metadata": {},
   "outputs": [],
   "source": [
    "def to_chatml(row):\n",
    "    title = row[\"title\"]\n",
    "    text = row[\"text\"]\n",
    "    newline = \"\\n\"\n",
    "    name = \"Maya\"\n",
    "    \n",
    "    system_message = (\n",
    "        f\"{name} is writing essays about life advice.\"\n",
    "        \" These are based on her own experiences and\"\n",
    "        \" what she has learned from talking to others\"\n",
    "        \" about the human psychology and how it works.\"\n",
    "    )\n",
    "\n",
    "    information_message = (\n",
    "        f\"## {name}'s Autobiography\"\n",
    "        \"\\n\\n\"\n",
    "        \"...I found a form of coaching designed for smart, skeptical people: logical, rigorous, analytical and mind-blowingly effective. It is 100% woo-free, but its results can look and feel like magic. In half a year, I went from not even knowing why I was so miserable to being the calmest person I know, and happier than I thought possible. I learned skills that keep me clear, focused, in tune with myself, moving toward my goals but possessed of a firm belief in my worth no matter my external achievements.\"\n",
    "        \"In just six months, I learned something profound and essential about how to live better as a human that changed everything for me. And, to my enduring surprise, I learned it from life coaching.\"\n",
    "    )\n",
    "\n",
    "    markdown = f\"# {title}{newline}{newline}{text}\"\n",
    "\n",
    "    # Turn into chatml\n",
    "    chatml = [\n",
    "        situation(system_message),\n",
    "        information(information_message),\n",
    "        me(markdown, name=name),\n",
    "    ]\n",
    "\n",
    "    return dict(chatml=chatml)\n"
   ]
  },
  {
   "cell_type": "code",
   "execution_count": 8,
   "id": "0164bf5b",
   "metadata": {},
   "outputs": [
    {
     "data": {
      "application/vnd.jupyter.widget-view+json": {
       "model_id": "1304b88d4000405c9c437c149a558b2e",
       "version_major": 2,
       "version_minor": 0
      },
      "text/plain": [
       "Map:   0%|          | 0/15 [00:00<?, ? examples/s]"
      ]
     },
     "metadata": {},
     "output_type": "display_data"
    }
   ],
   "source": [
    "dataset = dataset.map(to_chatml).remove_columns([\"title\", \"text\"])"
   ]
  },
  {
   "cell_type": "code",
   "execution_count": 9,
   "id": "ed22963b-6a85-4867-8981-fc305183a5c1",
   "metadata": {},
   "outputs": [
    {
     "data": {
      "application/vnd.jupyter.widget-view+json": {
       "model_id": "50b817df988d4d0aa9119cd21986dcd3",
       "version_major": 2,
       "version_minor": 0
      },
      "text/plain": [
       "Pushing dataset shards to the dataset hub:   0%|          | 0/1 [00:00<?, ?it/s]"
      ]
     },
     "metadata": {},
     "output_type": "display_data"
    },
    {
     "data": {
      "application/vnd.jupyter.widget-view+json": {
       "model_id": "fe39147d88b24f77a2c361da0023c3dd",
       "version_major": 2,
       "version_minor": 0
      },
      "text/plain": [
       "Creating parquet from Arrow format:   0%|          | 0/1 [00:00<?, ?ba/s]"
      ]
     },
     "metadata": {},
     "output_type": "display_data"
    },
    {
     "data": {
      "application/vnd.jupyter.widget-view+json": {
       "model_id": "8a7ac35260f74b76a8a72c906d45ff24",
       "version_major": 2,
       "version_minor": 0
      },
      "text/plain": [
       "Deleting unused files from dataset repository:   0%|          | 0/1 [00:00<?, ?it/s]"
      ]
     },
     "metadata": {},
     "output_type": "display_data"
    },
    {
     "data": {
      "application/vnd.jupyter.widget-view+json": {
       "model_id": "c8f92d8fad9742a5bacea98c39ae5007",
       "version_major": 2,
       "version_minor": 0
      },
      "text/plain": [
       "Downloading metadata:   0%|          | 0.00/548 [00:00<?, ?B/s]"
      ]
     },
     "metadata": {},
     "output_type": "display_data"
    }
   ],
   "source": [
    "dataset.push_to_hub(\"diwank/samantha_blog-chatml\", private=True)"
   ]
  }
 ],
 "metadata": {
  "kernelspec": {
   "display_name": "Python 3 (ipykernel)",
   "language": "python",
   "name": "python3"
  },
  "language_info": {
   "codemirror_mode": {
    "name": "ipython",
    "version": 3
   },
   "file_extension": ".py",
   "mimetype": "text/x-python",
   "name": "python",
   "nbconvert_exporter": "python",
   "pygments_lexer": "ipython3",
   "version": "3.10.12"
  }
 },
 "nbformat": 4,
 "nbformat_minor": 5
}
