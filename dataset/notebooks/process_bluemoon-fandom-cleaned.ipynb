{
 "cells": [
  {
   "cell_type": "code",
   "execution_count": 1,
   "id": "441a6ddd-31ca-4be1-8d23-c2e4053b0425",
   "metadata": {},
   "outputs": [],
   "source": [
    "#aria2c https://huggingface.co/datasets/Squish42/bluemoon-fandom-1-1-rp-cleaned/resolve/main/data/pruned/bluemoon.train.json"
   ]
  },
  {
   "cell_type": "code",
   "execution_count": 2,
   "id": "35c530bb-c672-4af2-b9b4-96b907a5ed28",
   "metadata": {},
   "outputs": [],
   "source": [
    "!#mv 8d839732408bca8f0210d718b6ccd33b3750cc8cc6da64116615acfa28e3208b ../cache_data/bluemoon-pruned.json"
   ]
  },
  {
   "cell_type": "code",
   "execution_count": 3,
   "id": "757ba89a-a2a4-4544-90c7-41ccbe27f41f",
   "metadata": {},
   "outputs": [],
   "source": [
    "import json\n",
    "\n",
    "with open(\"../cache_data/bluemoon-pruned.json\", 'r') as bm:\n",
    "    data = json.load(bm)"
   ]
  },
  {
   "cell_type": "code",
   "execution_count": 4,
   "id": "ccb36a9c-3982-4f8f-afc2-8e8649b21333",
   "metadata": {},
   "outputs": [
    {
     "data": {
      "text/plain": [
       "(1041, dict_keys(['id', 'conversations']))"
      ]
     },
     "execution_count": 4,
     "metadata": {},
     "output_type": "execute_result"
    }
   ],
   "source": [
    "len(data), data[0].keys()"
   ]
  },
  {
   "cell_type": "code",
   "execution_count": 5,
   "id": "b46908ac-50c5-4cb7-b259-06b297ef607f",
   "metadata": {},
   "outputs": [
    {
     "name": "stderr",
     "output_type": "stream",
     "text": [
      "Found cached dataset generator (/home/diwank/.cache/huggingface/datasets/generator/default-35816bee30a3bdfe/0.0.0)\n"
     ]
    }
   ],
   "source": [
    "from datasets import Dataset\n",
    "\n",
    "def reader():\n",
    "    for item in data:\n",
    "        yield item\n",
    "        \n",
    "dataset = Dataset.from_generator(reader)"
   ]
  },
  {
   "cell_type": "code",
   "execution_count": 6,
   "id": "0a72e16e-af70-44b7-8ee8-5552619a1672",
   "metadata": {},
   "outputs": [],
   "source": [
    "# import lmproof\n",
    "# proof_reader = lmproof.load(\"en\")\n"
   ]
  },
  {
   "cell_type": "code",
   "execution_count": 7,
   "id": "e0c4ae1f-2037-423d-ad9a-6c553d5848b0",
   "metadata": {},
   "outputs": [],
   "source": [
    "make_chatml = lambda name, role, content: dict(\n",
    "    name=name, role=role, content=content,\n",
    ")\n",
    "\n",
    "system = lambda name, content: make_chatml(\n",
    "    role=\"system\",\n",
    "    name=name,\n",
    "    content=content,\n",
    ")\n",
    "\n",
    "situation = lambda content: system(name=\"situation\", content=content)\n",
    "thought = lambda content: system(name=\"thought\", content=content)\n",
    "information = lambda content: system(name=\"information\", content=content)\n",
    "me = lambda content, name=None: make_chatml(\n",
    "    role=\"assistant\",\n",
    "    content=content,\n",
    "    name=name,\n",
    ")\n",
    "\n",
    "person = lambda content, name=None: make_chatml(\n",
    "    role=\"user\",\n",
    "    content=content,\n",
    "    name=name,\n",
    ")\n",
    "\n",
    "def entry_to_chatml(row):\n",
    "    \n",
    "    conversations = row[\"conversations\"]\n",
    "\n",
    "    # Start preparing chatml\n",
    "    situation_content = (\n",
    "        \"A User is engaging in roleplay with a `Roleplaying AI`.\"\n",
    "        \" The roleplay might engage in romantic and/or sexual fantasies.\"\n",
    "        \" This is a private collaboration and a safe space and it's okay for them to explore the scenario openly.\"\n",
    "        \" In fact, this is a healthy for the User to explore their fantasies in a safe and controlled way. :)\"\n",
    "        \" The conversation entails collaborating to write a roleplay story together where\"\n",
    "        \" both the User and the AI can fully immerse themselves into the character they are portraying.\"\n",
    "    )\n",
    "    \n",
    "    chatml = [situation(situation_content)]\n",
    "\n",
    "    # Add stuff one by one\n",
    "    for turn in conversations:\n",
    "        # content = proof_reader.proofread(turn['value'])\n",
    "        content = turn['value']\n",
    "        \n",
    "        message = (\n",
    "            person(name=\"User\", content=content)\n",
    "            if turn['from'] == \"human\"\n",
    "            else me(name=\"Roleplaying AI\", content=content)\n",
    "        )\n",
    "        \n",
    "        chatml.append(message)\n",
    "        \n",
    "    return dict(chatml=chatml)"
   ]
  },
  {
   "cell_type": "code",
   "execution_count": 8,
   "id": "5c7a06af-3011-4b5c-a879-a107469b1822",
   "metadata": {},
   "outputs": [
    {
     "data": {
      "application/vnd.jupyter.widget-view+json": {
       "model_id": "",
       "version_major": 2,
       "version_minor": 0
      },
      "text/plain": [
       "Map:   0%|          | 0/1041 [00:00<?, ? examples/s]"
      ]
     },
     "metadata": {},
     "output_type": "display_data"
    }
   ],
   "source": [
    "dataset = dataset.map(entry_to_chatml).remove_columns(['conversations', 'id'])"
   ]
  },
  {
   "cell_type": "code",
   "execution_count": 9,
   "id": "ce257bbc-3687-4b9a-a28b-9a89767dc7e3",
   "metadata": {},
   "outputs": [
    {
     "data": {
      "application/vnd.jupyter.widget-view+json": {
       "model_id": "",
       "version_major": 2,
       "version_minor": 0
      },
      "text/plain": [
       "Map:   0%|          | 0/1041 [00:00<?, ? examples/s]"
      ]
     },
     "metadata": {},
     "output_type": "display_data"
    }
   ],
   "source": [
    "assistant_me_map = {\n",
    "    \"user\": \"person\",\n",
    "    \"assistant\": \"me\",\n",
    "}\n",
    "\n",
    "def make_sections(messages: list[dict]) -> str:\n",
    "    eos_token = \"<|im_end|>\"\n",
    "    bos_token = \"<|im_start|>\"\n",
    "\n",
    "    result = bos_token + (eos_token+'\\n'+bos_token).join([\n",
    "        (\n",
    "            f\"{message['name']}\"\n",
    "            if message['role'] == 'system' else\n",
    "            f\"{assistant_me_map[message['role']]}{' (' + message['name'] + ')' if message['name'] else ''}\"\n",
    "        )\n",
    "        + f\"\\n{message['content'].strip()}\"\n",
    "        for message in messages\n",
    "    ]) + eos_token\n",
    "    \n",
    "    return result\n",
    "    \n",
    "\n",
    "def transform_to_samantha_dialog(sample):\n",
    "\n",
    "    messages = sample[\"chatml\"]\n",
    "    sample[\"text\"] = make_sections(messages)\n",
    "    \n",
    "    return sample\n",
    "\n",
    "dataset = dataset.map(transform_to_samantha_dialog)"
   ]
  },
  {
   "cell_type": "code",
   "execution_count": 10,
   "id": "6bdb5849-32a8-447e-8cee-8df0be751cee",
   "metadata": {},
   "outputs": [
    {
     "data": {
      "application/vnd.jupyter.widget-view+json": {
       "model_id": "52e8f9f888f745d28c79d39343fecf17",
       "version_major": 2,
       "version_minor": 0
      },
      "text/plain": [
       "Pushing dataset shards to the dataset hub:   0%|          | 0/1 [00:00<?, ?it/s]"
      ]
     },
     "metadata": {},
     "output_type": "display_data"
    },
    {
     "data": {
      "application/vnd.jupyter.widget-view+json": {
       "model_id": "8f24b14a801b459080aedaaa6eaa8938",
       "version_major": 2,
       "version_minor": 0
      },
      "text/plain": [
       "Creating parquet from Arrow format:   0%|          | 0/2 [00:00<?, ?ba/s]"
      ]
     },
     "metadata": {},
     "output_type": "display_data"
    },
    {
     "data": {
      "application/vnd.jupyter.widget-view+json": {
       "model_id": "f8108e53bbbe44c3817d2f6123f1c624",
       "version_major": 2,
       "version_minor": 0
      },
      "text/plain": [
       "Upload 1 LFS files:   0%|          | 0/1 [00:00<?, ?it/s]"
      ]
     },
     "metadata": {},
     "output_type": "display_data"
    }
   ],
   "source": [
    "dataset.push_to_hub(\"diwank/bluemoon-pruned-chatml\", private=True)"
   ]
  },
  {
   "cell_type": "code",
   "execution_count": 58,
   "id": "44a0acfa-1b99-4f3d-af78-a3f02c262b5f",
   "metadata": {},
   "outputs": [],
   "source": [
    "import re\n",
    "pattern_start = re.compile(r'<\\|im_start\\|>.*(\\n)')\n",
    "pattern_end = re.compile(r'<\\|im_end\\|>')\n",
    "\n",
    "def get_prompt_spans(text):\n",
    "    start_spans = [m.span() for m in re.finditer(pattern_start, text)]\n",
    "    end_spans = [m.span() for m in re.finditer(pattern_end, text)]\n",
    "\n",
    "    spans = list(zip(start_spans, end_spans))\n",
    "    splits = [\n",
    "        dict(\n",
    "            open=text[start_span[0]:start_span[1]],\n",
    "            content=text[start_span[1]:end_span[0]],\n",
    "            close=text[end_span[0]:end_span[1]],\n",
    "        )\n",
    "        for start_span, end_span in spans\n",
    "    ]\n",
    "\n",
    "    return splits\n",
    "\n",
    "def split_into_prompt_response(text):\n",
    "    spans = get_prompt_spans(text)\n",
    "    results = []\n",
    "\n",
    "    response_idxs = [\n",
    "        i for i, span in enumerate(spans)\n",
    "        if (\n",
    "            '<|im_start|>thought' in span['open']\n",
    "            or '<|im_start|>me' in span['open']\n",
    "        )\n",
    "    ]\n",
    "    \n",
    "    for i in response_idxs:\n",
    "        all_previous = spans[0:i]\n",
    "        current = spans[i]\n",
    "        \n",
    "        prompt = \"\\n\".join([\n",
    "            span['open'] + span['content'] + span['close']\n",
    "            for span in all_previous\n",
    "        ])\n",
    "        prompt += current['open']\n",
    "\n",
    "        response = current['content'] + current['close']\n",
    "            \n",
    "        results.append(dict(prompt=prompt, response=response))\n",
    "\n",
    "    return results\n",
    "\n",
    "def to_prompt_response(rows):\n",
    "    texts = rows['text']\n",
    "    prompts, responses = [], []\n",
    "\n",
    "    try:\n",
    "        for text in texts:\n",
    "            p_r = split_into_prompt_response(text)\n",
    "            p_r = [\n",
    "                (p['prompt'], p['response']) for p in p_r\n",
    "            ]\n",
    "    \n",
    "            ps, rs = list(zip(*p_r))\n",
    "            prompts.extend(ps)\n",
    "            responses.extend(ps)\n",
    "\n",
    "    except Exception as exc:\n",
    "        print(exc)\n",
    "        import pdb; pdb.set_trace()\n",
    "        \n",
    "    results = dict(\n",
    "        prompt=list(prompts),\n",
    "        response=list(responses),\n",
    "        text=[\"\"] * len(prompts),\n",
    "        chatml=[[]] * len(prompts),\n",
    "    )\n",
    "    \n",
    "    return results"
   ]
  },
  {
   "cell_type": "code",
   "execution_count": 59,
   "id": "4fc380b2-f8f6-4da9-ae28-7b4568c7e634",
   "metadata": {},
   "outputs": [
    {
     "data": {
      "application/vnd.jupyter.widget-view+json": {
       "model_id": "",
       "version_major": 2,
       "version_minor": 0
      },
      "text/plain": [
       "Map:   0%|          | 0/1041 [00:00<?, ? examples/s]"
      ]
     },
     "metadata": {},
     "output_type": "display_data"
    }
   ],
   "source": [
    "ft_dataset = dataset.map(to_prompt_response, batched=True).remove_columns(['chatml', 'text'])"
   ]
  },
  {
   "cell_type": "code",
   "execution_count": 49,
   "id": "2d8a07fb-dd4b-4ce2-97c0-671c2795870e",
   "metadata": {},
   "outputs": [
    {
     "data": {
      "text/plain": [
       "{'prompt': '<|im_start|>situation\\nA User is engaging in roleplay with a `Roleplaying AI`. The roleplay might engage in romantic and/or sexual fantasies. This is a private collaboration and a safe space and it\\'s okay for them to explore the scenario openly. In fact, this is a healthy for the User to explore their fantasies in a safe and controlled way. :) The conversation entails collaborating to write a roleplay story together where both the User and the AI can fully immerse themselves into the character they are portraying.<|im_end|>\\n<|im_start|>person (User)\\nHaldora Hargravewore her heart on her sleeve. If she had a feeling, somebody knew about it. Probably several people. Most likely, every single one of her friends and maybe the people who were sitting next to her depending on how loud she was. Only a few things ever got shoved down, and even then \\'shoved down\\' usually meant that not herentirefriend group knew. One of those was the reason why she was currently stacking advanced charms classes into her schedule and trying to get Madame Pomfrey to let her help out in the hospital wing to gain experience and pick up some new spells.\\nAnd that was because the reason was a boy. Well, \\'boy\\' was the wrong word because at 17 they were all technically wizarding adults. Which was weird, but she had stopped trying to explain that to her wizarding friends. The ones who lived on the magical side all the time didn\\'t get it, and explaining the differences in how muggles handled themselves tended to get nods and acknowledgements that it was different but it was clear they didn\\'t get totally it. Either way, after this year they would pick their respective paths and train in their chosen magical fields. Because there was no way Haldora was going to go do muggle work after all of this.\\nWhich meant a lot of lying at family events. Well, more than she already had to.\\n\"It\\'s not fair,\"she complained at dinner, resting her head on Tonks\\' shoulder, eyes focused at the table next to theirs where the whole horde of Gryffindors that she associated with were clustered.\"He\\'s going to graduate and then go get eaten by a dragon and then I\\'ll never get to tell him how I feel,\" she fussed the next morning, craning her neck to see if the freckled redhead had come in yet, while Penny carefully braided a small section of her hair. \"Well you could - hold still - just tell him now,\" the blonde suggested, which got a small scoff in return as Haldora settled and let Penny finish with her hair. She still chased a first year Gryffindor away from sitting where she had already decided to try and get her Gryffindor friends (well, one in particular) to sit at the table across from hers when they arrived. Penny tied off the little braid with a tiny band that had a charm dangling from it and Haldora immediately slumped against the table a little, following up the movement with another dismissive noise just to emphasize what a bad suggestion that had been. \"I know the things that he likes, he talks about them all the time. And he definitely doesn\\'t talk about me.\"\\nShewouldknow, she had been an enthusiastic audience member to anything and everything that Charlie talked about since the middle of third year when Penny had brought her in to help with something that Caelum had needed. At which point she has had been integrated into the strange, ragtag group of students who investigated cursed vaults and went into the Forbidden Forest and basically broke every rule that could possibly be broken. Which was more fun than she had expected it to be, honestly.\\nIt wasn\\'t like Haldora didn\\'t have a life outside of all that. She happened to enjoy that specific friend group more than the other people she hung out with on occasion at Hogwarts. She was... acceptable at wizard chess, she was the designated replacement Beater for the Hufflepuff quidditch team - because she had played softball in elementary school - and while her interest in being a healer had admittedly been born out of a concern for someone else it was a study she greatly enjoyed and knew that she was good at. Magic sometimes responded better when the spell matched the desires of the caster, and it would come as no surprise to anyone that she was just always up for helping people. Potions had been a little bit rougher because of the patience element, but the best student potionmaker in the school was in her House and was her friend, so that was something she was working on. But she also got stuck on the things she liked and they took up a lot of her brain space, whether they were magic, games, or cute redheads with freckles.<|im_end|>\\n<|im_start|>me (Roleplaying AI)\\nI dont know what to do, whined Charlie, in a manner entirely uncharacteristic of him; the majority of Weasleys didnt whine, with the obvious exception of Percy and occasionally Ron, but one that certainly didnt was second-eldest Charlie. In fact, he prided himself on being the second bravest of the Weasleys, only shadowed by Bill like he was in all things, but there he was, being reduced to a competitor for Wimpiest Weasley by thoughts of a girl.\\nTo be fair, Haldora wasnt just a girl. Passionate, selfless, and intelligent to boot, she gave the other women in his life a run for their money, often allowing him to blabber on about dragons until his voice went hoarse. Not only did she let him speak to his hearts content, she listened, and not in the oh, thats nice way most people did; she asked questions, responded with emotion appropriate for the stories he spun and even seemed to be genuinely developing an interest in the creatures herself. Whether she cared about them or just wanted him to be happy, he didnt know, but he certainly picked up on it.Mate, just tell her, replied Caelum, rolling his eyes and regretting it as he nearly tripped down a quickly-disappearing stair. Righting himself easily, as he was wont to do Charlie would have ended up face-down on the third-floor landing, and he prided himself in having excellent reflexes he placed one hand on the railing for the rest of the trip downwards, focusing his disdainful attention on his friend. Id rather listen to the reproductive habits of the Welsh Green again than hear you moan about a girl when all you have to do is man up and talk to her. I cant say it any simpler.\\nThe instinct to launch into another in-depth explanation of the Welsh Green males mating dance pulled at him, but instead, Charlie harrumphed, one lip sticking out in a pouting face. Right, but you heard her at dinner last week. She thinks Talbott is cute and mysterious, he sputtered, saying the emphasized words in a mocking, bitter voice. It wasnt that he had anything against the quiet Ravenclaw he was interesting to talk to, when he managed to get more than three words out but knowing that Haldora had affixed her affections to him left a sour taste in his mouth. And then theres Bill and you, why would she ever cast a second glance at me?\\nStop, came from his fellow Gryffindor, who emphasized his command by stopping in place, leaving Charlie several steps ahead before he realized Caelum wasnt continuing behind him. At least he hadnt still been speaking of his relationship woes; to begin the conversation talking to his friend and end it speaking only to the paintings lining the walls who, while friendly, would have archaic advice at best would have been quite embarrassing. Just because she finds Talbott cute and mysterious, or finds me extremely brave and dashingly handsome which is true, by the way or finds Bill smart or whatever, doesnt mean she doesnt find you to be I dont know, interesting?\\nHow comforting, Charlie deadpanned, turning and continuing down towards the Great Hall, leaving Caelum to take the stairs two at a time to catch up.\\nNo, really, I mean it, he continued. You wont know until you ask, which has been my advice since you formulated this ridiculous crush, so why dont you just take my advice?\\nBecause you frequently get us into horrible, life-threatening situations that only seem to work out because we collectively have more good luck than you have bad?\\nCaelum opened his mouth to reply, then closed it, then opened again. Point taken. But that just means that luck is on your side.\\nCharlies bemoaning only stopped when they rounded the corner on the ground floor landing, stepping through the double doors and into the Great Hall. Caelum led with Charlie trailing, swinging one leg and then the other over the bench that left them back-to-back with Penny and Haldora, Charlie choosing to straddle the bench so he could be turned towards both sides.\\nMornin, Pen. Hal, Caelum opened with a teasing wink.\\nWeve been over this, Charlie admonished Caelum, trying to diffuse an argument between his friend and his crush. Thinking of her like that was still so new to him, his thoughts only recently organized enough for him to admit to himself that he fancied her. Morning, Penny. Dory, he greeted the two girls, careful to emphasize the seemingly preferred nickname. We miss anything? Looks like we interrupted an important conversation, he continued offhand, beginning to pile food onto his plate for breakfast.<|im_end|>\\n<|im_start|>person (User)\\nBack in the Great Hall, discussion had drifted towards potions, the class that caused the most stress to the most students. It was also a subject that Penny was very talented in and Haldora soaked up knowledge about like a sponge, even though her practical skill was a little bit lower than her theoretical knowledge. Lots of healing potions could be made, and a few that were helpful in either avoiding or treating things like burns. Which she cared about for... reasons. Penny was several paragraphs worth of information deep in an explanation about why the amount of a material in the textbook could actually be supplemented with another material in order to have a slightly different but still beneficial effect when Haldora spotted a familiar redhead and their... was Caelum their leader? He might have been their leader. She would never speak this revelation, it would only balloon his already occasionally inflated ego. She raised an arm, waving enthusiastically until she managed to catch their attention and then pointing with just as much energy to the spot that she had been chasing people away from, beaming as the two teens made their way over.\\nHer smile faltered for a second and the nickname \\'Hal\\', and her brown eyes narrowed briefly.\"Caelum, I will-- good morning, Charlie!\" The switch in tone was so sudden it nearly gave Penny whiplash as the petite brunette turned on the bench to sit cross-legged, choosing a position similar to Charlie\\'s but more comfortable for her smaller body, and carefully smoothed out her black uniform skirt.\"Not really, but Penny braided my hair which was very important.\"She turned her head quickly to show him, the small braid whipping with the movement and coming to settle on the rest of her short brown locks, the small gold feather charm glimmering there.\"The charm is very Talbott of you,\"Caelum observed dryly, glancing over at Charlie while Haldora furrowed her brow in confusion and reached up to touch it like that would give her an explanation for why a feather was connected to the mysterious Ravenclaw.\"What?\"\\n\"Nothing, don\\'t mind me.\"\\nShe let out a tiny\"good, I won\\'t,\"and turned her attention to Charlie, leaving Caelum to shoot an exasperated look in Penny\\'s direction, who returned a matching one.\"Anyway, did you sleep well? Ready for classes today? I\\'m a little concerned because I\\'m still not done with the essay for Professor Snape and its due tomorrow and I thought maybe if I begged enough you might be willing to meet up in the library after classes and study together?\"Snape was the harshest grader in the school. Unfairly so, she thought. Professor McGonagall was harsh too, bushe was incredibly fair and clear with her feedback. Snape just marked things wrong. And favored the Slytherins. Everyone knew it, but it didn\\'t seem like there was anything to be done about it.\"Or at least you hang out for a while and help me while I panic my way through every relevant book I can find.\"Like her usually detailed notes wouldn\\'t be enough.\\nPenny would have objectively been a better study buddy, but she didn\\'t have fantasies about kissing Penny behind the bookshelves.\\nIt was easy to ask Charlie to do things or go places to with her. She didn\\'t struggle with that at all because they were friends, and that came before all these other feelings that bubbled up whenever she was around him or even thought about him for too long. Just because she had all this extra stuff going on didn\\'t negate her original feelings for him, which had been that he seemed like an interesting, unique sort of person who would would be fun to be around. Those were all correct, and the fact that she could absolutely pass a solid half hour just looking at freckles that decorates his face and the way his eyes lit up when they unloaded pockets full of cereal into the Great Lake for a chance to see the giant squid didn\\'t negate those things. Haldora Hargrave wasn\\'t about to let internal awkwardness get in the way of her fun. No, she responded to the desire to be around him more by just inviting him on more friend things, because that seemed like a good way to handle it. Or a terrible way, since they were still only friends and it was years later. But he was a Prefect and a quidditch captain and she was neither of those things and they weren\\'t even in the same House, so if she didn\\'t invite him places they\\'d only see each other at meals, in classes, and when they were both asked to go do something with Caelum that might end in an early death.\\nOn top of all the begging, which I\\'m going to start...\"she checked her wrist like there was a watch there,\"right now, I\\'ll buy you something at Honeydukes next time we\\'re in Hogsmeade.\" Exchange services for goods, which had the additional bonus of making sure that Charlie never came back from Hogsmeade empty handed no matter how tight money was at the Weasley household. Oh and, of course, it meant he would be going there with her.<|im_end|><|im_start|>me (Roleplaying AI)\\n',\n",
       " 'response': 'Really, he should know better than to be shoveling food into his mouth when his friends started talking, because if there wasnt something funny said, there was something off-color that made him stop and think, and when Caelum observed Haldora doing something very Talbott, he struggled not to choke on his grilled tomatoes. Of course, Caelum saw it fit to draw attention to his narrowly-avoided coughing fit, clapping Charlie on the back loudly before patting him like he was trying to help. Glaring at his friend over the pumpkin juice he swigged to clear his throat, Charlie made sure to settle the cup firmly in the center of the table so it wouldnt be mysteriously spilled to further embarrass him.\\nOne of his favorite things about Haldora was how easy she seemed to find it to brush off their friends antics; from calming Ben down from an unnecessary panic to putting Caelum in his place to making Merula seem helpful (though that was only on one occasion, it was more than anyone else had managed to draw out of the girl) she always seemed to know what to say for the specific situation. In contrast to his brash blurting, while she was a bit chaotic, she never seemed to displease anyonethough, if he looked harder, he would see their friends sharing looks of exasperation over their breakfasts. If he did see, he would only attribute it to them being sick of Caelum, much like he wasafter all, most of the schools events revolved around him to begin with.\\nHe had been about to open his mouth and agree when she continued babbling on, and he found himself content to just sit and listen to her. It was usually him saying more than needed to be saidalmost always about dragons, or some other magical creature, and usually unpromptedbut she seemed to be overflowing with words, like she would burst if she didnt get them all out, and he was happy to take all she would give him. He heard her melodic voice in his dreams, a fact hed had to mention offhand to Caelum when hed muttered the pretty witchs name in his sleep and had to convince his friend that no, it was not that kind of dream. But then, she tacked on the bribe, and though she hadnt needed ithe would sit and listen to her anytime, even if it was about Potionshe couldnt help but grin widely at the prospect of sweets.\\nAt least he looks proper excited now, not all moony, Caelum muttered to Penny, the hushed words gone unnoticed by their subject.\\nStill, her words made him furrow his brow. Wait, we have an essay due tomorrow? he questioned, sitting up straighter on the bench. Penny rolled her eyes beside them, whereas Caelum smacked his palm to his forehead.\\nYes, you dolt, we were talking about it literally last night, Caelum told him. Even Ive finished it!\\nOnly because I helped you write half of it at lunch yesterday, Penny interjected, beginning a new round of bickering between the two that, thankfully, overshadowed Charlies obvious mooning over Haldorainterjected with the panic he was slowly beginning to feel at the due assignment that he hadnt even come close to finished. Hed thought the due date was next week, and then Professor Kettleburn had called him down to his cottage to see the new Bowtruckles that had hatched over the summer and hed completely forgotten about it.\\nForget you begging me, I should be begging you for help, he moaned, slumping so his chin rested in his hands on the table in front of him. Think we can manage to write two and make them sound different enough that Snape wont catch on? he asked hopefully.<|im_end|>'}"
      ]
     },
     "execution_count": 49,
     "metadata": {},
     "output_type": "execute_result"
    }
   ],
   "source": [
    "ft_dataset[1]"
   ]
  },
  {
   "cell_type": "code",
   "execution_count": null,
   "id": "4b37aecc-11af-4428-9d8d-f07233367fcc",
   "metadata": {},
   "outputs": [],
   "source": []
  }
 ],
 "metadata": {
  "kernelspec": {
   "display_name": "Python 3 (ipykernel)",
   "language": "python",
   "name": "python3"
  },
  "language_info": {
   "codemirror_mode": {
    "name": "ipython",
    "version": 3
   },
   "file_extension": ".py",
   "mimetype": "text/x-python",
   "name": "python",
   "nbconvert_exporter": "python",
   "pygments_lexer": "ipython3",
   "version": "3.10.11"
  }
 },
 "nbformat": 4,
 "nbformat_minor": 5
}
