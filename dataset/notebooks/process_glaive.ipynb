{
 "cells": [
  {
   "cell_type": "code",
   "execution_count": 1,
   "id": "ede426b2-9153-44c7-ada4-4a1641134b00",
   "metadata": {},
   "outputs": [],
   "source": [
    "from datasets import load_dataset\n",
    "\n",
    "dataset = load_dataset(\"glaiveai/glaive-function-calling\")"
   ]
  },
  {
   "cell_type": "code",
   "execution_count": 2,
   "id": "f2e0ca86-88d7-4ebc-be51-c85e533f5e47",
   "metadata": {},
   "outputs": [],
   "source": [
    "function_dataset = dataset[\"train\"].filter(lambda x: \"you can use the functions if needed\" in x[\"sample\"])"
   ]
  },
  {
   "cell_type": "code",
   "execution_count": 3,
   "id": "ccab8626-cdb2-48cf-9fdb-56c818bfe49a",
   "metadata": {},
   "outputs": [
    {
     "name": "stdout",
     "output_type": "stream",
     "text": [
      "SYSTEM: You are an helpful assistant who has access to the following functions to help the user, you can use the functions if needed-\n",
      "{\n",
      "    \"name\": \"generate_anagram\",\n",
      "    \"description\": \"Generate an anagram of a given word\",\n",
      "    \"parameters\": {\n",
      "        \"type\": \"object\",\n",
      "        \"properties\": {\n",
      "            \"word\": {\n",
      "                \"type\": \"string\",\n",
      "                \"description\": \"The word to generate an anagram of\"\n",
      "            }\n",
      "        },\n",
      "        \"required\": [\n",
      "            \"word\"\n",
      "        ]\n",
      "    }\n",
      "}\n",
      "USER: Can you help me generate an anagram of the word \"listen\"?\n",
      "ASSISTANT: <functioncall> {\"name\":\"generate_anagram\", \"arguments\": {\"word\": \"listen\"}}\n",
      "FUNCTION RESPONSE: {\"anagram\": \"silent\"}\n",
      "ASSISTANT: The anagram of the word \"listen\" is \"silent\".\n",
      "USER: That's amazing! Can you generate an anagram for the word \"race\"?\n",
      "ASSISTANT: <functioncall> {\"name\":\"generate_anagram\", \"arguments\": {\"word\": \"race\"}}\n",
      "FUNCTION RESPONSE: {\"anagram\": \"care\"}\n",
      "ASSISTANT: The anagram of the word \"race\" is \"care\".\n",
      "USER: This is really helpful! Thank you. Can you generate an anagram for the word \"table\"?\n",
      "ASSISTANT: <functioncall> {\"name\":\"generate_anagram\", \"arguments\": {\"word\": \"table\"}}\n",
      "FUNCTION RESPONSE: {\"anagram\": \"bleat\"}\n",
      "ASSISTANT: The anagram of the word \"table\" is \"bleat\".\n",
      "USER: That's fascinating! Thank you for your assistance.\n",
      "ASSISTANT: You're welcome! If you have any more questions or need further assistance, feel free to ask.\n"
     ]
    }
   ],
   "source": [
    "sample = function_dataset[0][\"sample\"]\n",
    "print(sample)"
   ]
  },
  {
   "cell_type": "code",
   "execution_count": 4,
   "id": "47de19d0-1b2b-43ed-80b4-c2aaa8b07b3c",
   "metadata": {},
   "outputs": [],
   "source": [
    "make_chatml = lambda name, role, content: dict(\n",
    "    name=name, role=role, content=content,\n",
    ")\n",
    "\n",
    "system = lambda name, content: make_chatml(\n",
    "    role=\"system\",\n",
    "    name=name,\n",
    "    content=content,\n",
    ")\n",
    "\n",
    "situation = lambda content: system(name=\"situation\", content=content)\n",
    "thought = lambda content: system(name=\"thought\", content=content)\n",
    "information = lambda content: system(name=\"information\", content=content)\n",
    "me = lambda content, name=None: make_chatml(\n",
    "    role=\"assistant\",\n",
    "    content=content,\n",
    "    name=name,\n",
    ")\n",
    "\n",
    "person = lambda content, name=None: make_chatml(\n",
    "    role=\"user\",\n",
    "    content=content,\n",
    "    name=name,\n",
    ")"
   ]
  },
  {
   "cell_type": "code",
   "execution_count": 5,
   "id": "6b674e41-1a4d-4e73-ab7d-41d369390ab3",
   "metadata": {},
   "outputs": [],
   "source": [
    "import json, re\n",
    "\n",
    "normalize_json = lambda s, indent=None: json.dumps(json.loads(s), indent=indent)\n",
    "\n",
    "def to_chatml_message(role, content):\n",
    "    content = content.strip()\n",
    "    role = role.strip()\n",
    "    \n",
    "    # Parse function calls\n",
    "    call_prefix = \"<functioncall>\"\n",
    "    \n",
    "    if content.startswith(call_prefix):\n",
    "        _, *payload = re.split(call_prefix + \"[_\\w]*\\s\", content)\n",
    "        payload = \"\".join(payload)\n",
    "        \n",
    "        payload = payload\\\n",
    "            .replace(\"'{\", '{')\\\n",
    "            .replace(\"}'\", '}')\\\n",
    "            .replace('}.', '}')\\\n",
    "            .replace('1990s', '\"1990s\"')\\\n",
    "            .replace('1980s', '\"1980s\"')\n",
    "        \n",
    "        payload = normalize_json(payload)\n",
    "\n",
    "        return dict(role=\"function_call\", content=payload)\n",
    "\n",
    "    # Parse information\n",
    "    if role == \"FUNCTION RESPONSE\":\n",
    "        content = re.sub(r\"/\\*.+\\*/\", \"\", content)\\\n",
    "            .replace('15.6\"', \"15.6in\")\\\n",
    "            .replace(\"123,456\", \"123456\")\\\n",
    "            .replace(\"(QR code image data)\", \"\")\\\n",
    "            .replace(\"(example response)\", \"\")\\\n",
    "            .replace('\" by', \" by\")\n",
    "        \n",
    "        payload = normalize_json(content)\n",
    "\n",
    "        return information(f\"Result:\\n{payload}\")\n",
    "\n",
    "    # Parse functions\n",
    "    if role == \"SYSTEM\":\n",
    "        content = content[content.index('{'):]\n",
    "        content = content.replace(\"}\\n{\", \"}\\n\\n{\")\n",
    "\n",
    "        return dict(\n",
    "            role=\"system\",\n",
    "            name=\"functions\",\n",
    "            content=f\"Available functions and their signatures as JSON schema:\\n\\n```\\n{content}\\n```\",\n",
    "        )\n",
    "\n",
    "    # else, return as is\n",
    "    return dict(role=role.lower(), content=content)\n",
    "\n",
    "def to_chatml(row):\n",
    "    sample = row[\"sample\"]\n",
    "    sample = re.sub(r\",\\s*\\.\\.\\.\", \"\", sample)\\\n",
    "        .replace(\"\\\\\\'\", \"'\")\\\n",
    "        .replace(\"Calling the <functioncall> function.\", \"<functioncall>\")\n",
    "        # .replace(\"ASSISTANT: <functioncall>\", \"<functioncall>\")\n",
    "    \n",
    "    splits = re.split(\"\\n([A-Z]+\\s*[A-Z]+):\\s\", '\\n'+sample)[1:]\n",
    "    \n",
    "    chatml = [\n",
    "        situation(\n",
    "            \"A user is talking to their helpful AI Assistant that can help them accomplish different tasks.\"\n",
    "            \" In order to do so, the AI has access to various functions that it can call as described below.\"\n",
    "            \"\\n\\nIn order to call a function, AI just needs to specify the name of the function to call and its arguments as a valid JSON string.\"\n",
    "        ),\n",
    "    ]\n",
    "\n",
    "    try:\n",
    "        chatml.extend([\n",
    "            to_chatml_message(\n",
    "                role=splits[i],\n",
    "                content=splits[i+1],\n",
    "            )\n",
    "            for i in range(0, len(splits), 2)\n",
    "        ])\n",
    "\n",
    "        assert next(k for k in chatml if k[\"role\"] == \"function_call\")\n",
    "\n",
    "    except BaseException as e:\n",
    "        print(e)            \n",
    "        return dict(chatml=[])\n",
    "\n",
    "    return dict(chatml=chatml)"
   ]
  },
  {
   "cell_type": "code",
   "execution_count": 6,
   "id": "f61e0d23-726d-4713-8a95-18f0020c56b5",
   "metadata": {},
   "outputs": [],
   "source": [
    "function_dataset = function_dataset.filter(\n",
    "    lambda x: (\n",
    "        \"<functioncall>\" in x[\"sample\"]\n",
    "        and '\"lyrics\": \"' not in x[\"sample\"]\n",
    "        and '[\"artist\":' not in x[\"sample\"]\n",
    "        and not x[\"sample\"].endswith(': \"')\n",
    "    )\n",
    ")\n",
    "\n",
    "function_dataset = function_dataset.map(to_chatml)"
   ]
  },
  {
   "cell_type": "code",
   "execution_count": 7,
   "id": "96011a4c-01a2-4018-9ba6-5d927a7756a7",
   "metadata": {},
   "outputs": [],
   "source": [
    "function_dataset = function_dataset.filter(lambda x: len(x[\"chatml\"]) > 0).remove_columns(set(dataset[\"train\"].column_names) - {\"chatml\"})"
   ]
  },
  {
   "cell_type": "code",
   "execution_count": 8,
   "id": "078ed00f-5246-4f0d-837a-0a0d51e4ef41",
   "metadata": {},
   "outputs": [
    {
     "data": {
      "application/vnd.jupyter.widget-view+json": {
       "model_id": "c574d729262b4fb69ed4f6caa2fd481f",
       "version_major": 2,
       "version_minor": 0
      },
      "text/plain": [
       "Pushing dataset shards to the dataset hub:   0%|          | 0/1 [00:00<?, ?it/s]"
      ]
     },
     "metadata": {},
     "output_type": "display_data"
    },
    {
     "data": {
      "application/vnd.jupyter.widget-view+json": {
       "model_id": "c0f4fbe108584f26b2646f70af24f649",
       "version_major": 2,
       "version_minor": 0
      },
      "text/plain": [
       "Deleting unused files from dataset repository:   0%|          | 0/1 [00:00<?, ?it/s]"
      ]
     },
     "metadata": {},
     "output_type": "display_data"
    },
    {
     "data": {
      "application/vnd.jupyter.widget-view+json": {
       "model_id": "cec98ae337d24795b65933d970f0d6e2",
       "version_major": 2,
       "version_minor": 0
      },
      "text/plain": [
       "Downloading metadata:   0%|          | 0.00/476 [00:00<?, ?B/s]"
      ]
     },
     "metadata": {},
     "output_type": "display_data"
    }
   ],
   "source": [
    "function_dataset.push_to_hub(\"diwank/glaive-chatml\", private=True)"
   ]
  },
  {
   "cell_type": "code",
   "execution_count": 9,
   "id": "4180703f-bf04-44c9-83eb-754360e8378b",
   "metadata": {},
   "outputs": [
    {
     "data": {
      "application/vnd.jupyter.widget-view+json": {
       "model_id": "8251d53518ac475ca0064c5b99351b05",
       "version_major": 2,
       "version_minor": 0
      },
      "text/plain": [
       "Map:   0%|          | 0/41767 [00:00<?, ? examples/s]"
      ]
     },
     "metadata": {},
     "output_type": "display_data"
    }
   ],
   "source": [
    "def extract_names(row):\n",
    "    chatml = row[\"chatml\"]\n",
    "    content = chatml[1][\"content\"].split(\"```\")[1].strip()\n",
    "    splits = content.split(\"\\n\\n\")\n",
    "    splits = [json.loads(s) for s in splits]\n",
    "    \n",
    "    names = [s[\"name\"] for s in splits]\n",
    "    return dict(names=names)\n",
    "\n",
    "ds_names = function_dataset.map(extract_names)"
   ]
  },
  {
   "cell_type": "code",
   "execution_count": 10,
   "id": "ebab137d-4005-43f9-ac2e-cf864dba0833",
   "metadata": {},
   "outputs": [],
   "source": [
    "all_fns = set([\n",
    "    name\n",
    "    for names in ds_names[\"names\"]\n",
    "    for name in names\n",
    "])"
   ]
  },
  {
   "cell_type": "code",
   "execution_count": 11,
   "id": "611bb0d2-8b5f-4e53-8992-5e9a86df89b7",
   "metadata": {},
   "outputs": [],
   "source": [
    "other_names = ['weather_forecaster',\n",
    " 'data_filter',\n",
    " 'get_articles',\n",
    " 'email_notification',\n",
    " 'weather_data_analysis',\n",
    " 'resize_image',\n",
    " 'file_converter',\n",
    " 'search_articles',\n",
    " 'data_cleaning',\n",
    " 'blog_post_analysis',\n",
    " 'email_notifications',\n",
    " 'csv_parser',\n",
    " 'calculator',\n",
    " 'document_analysis',\n",
    " 'word_count',\n",
    " 'image_search',\n",
    " 'image_manipulation',\n",
    " 'topic_modeling',\n",
    " 'multi_item_purchase_analysis',\n",
    " 'sales_report_analysis',\n",
    " 'blog_filter',\n",
    " 'article_search',\n",
    " 'age_filter',\n",
    " 'image_classification',\n",
    " 'trending_analysis',\n",
    " 'server_monitoring',\n",
    " 'employee_lookup',\n",
    " 'image_recognition',\n",
    " 'web_search',\n",
    " 'term_count',\n",
    " 'email_response',\n",
    " 'text_parser',\n",
    " 'stock_data',\n",
    " 'employee_distribution',\n",
    " 'email_filter',\n",
    " 'video_filter',\n",
    " 'json_parser',\n",
    " 'inventory_management',\n",
    " 'sentiment_analysis',\n",
    " 'email_analytics',\n",
    " 'blog_search',\n",
    " 'get_posts',\n",
    " 'data_extraction',\n",
    " 'color_adjuster',\n",
    " 'file_reader',\n",
    " 'file_upload',\n",
    " 'movie_recommendation',\n",
    " 'sort',\n",
    " 'document_filter',\n",
    " 'data_visualization',\n",
    " 'csv_analytics',\n",
    " 'weather_prediction',\n",
    " 'blog_post_reader',\n",
    " 'content_filtering',\n",
    " 'analyze_text',\n",
    " 'file_conversion',\n",
    " 'word_counter',\n",
    " 'text_analytics',\n",
    " 'translator',\n",
    " 'folder_management',\n",
    " 'academic_search',\n",
    " 'product_review',\n",
    " 'analyze_sentiment',\n",
    " 'text_extraction',\n",
    " 'weather_data',\n",
    " 'data_retrieval',\n",
    " 'sales_analytics',\n",
    " 'email_send',\n",
    " 'pdf_search',\n",
    " 'time_period_analysis',\n",
    " 'weather_analysis',\n",
    " 'keyword_extraction',\n",
    " 'file_manager',\n",
    " 'country_info',\n",
    " 'document_converter',\n",
    " 'product_sales_analysis',\n",
    " 'file_downloader',\n",
    " 'search_events',\n",
    " 'sort_data',\n",
    " 'email_analysis',\n",
    " 'sales_forecast',\n",
    " 'keyword_analysis',\n",
    " 'review_analyzer',\n",
    " 'tweet_search',\n",
    " 'data_aggregation',\n",
    " 'document_finder',\n",
    " 'date_filtering',\n",
    " 'pdf_to_text',\n",
    " 'document_analytics',\n",
    " 'data_analysis',\n",
    " 'music_recommendation',\n",
    " 'location_search',\n",
    " 'sales_report_generation',\n",
    " 'inventory_check',\n",
    " 'document_summarizer',\n",
    " 'email_manager',\n",
    " 'spreadsheet_analytics',\n",
    " 'social_media_search',\n",
    " 'file_management',\n",
    " 'email_sentiment_analysis',\n",
    " 'website_visit_counter',\n",
    " 'send_email',\n",
    " 'key_phrase_extraction',\n",
    " 'dataset_filter',\n",
    " 'filter_articles',\n",
    " 'text_to_speech',\n",
    " 'email_sending',\n",
    " 'employee_info',\n",
    " 'image_analysis',\n",
    " 'product_lookup',\n",
    " 'email_finder',\n",
    " 'entity_extraction',\n",
    " 'file_retrieval',\n",
    " 'data_extractor',\n",
    " 'web_scraping',\n",
    " 'data_filtering',\n",
    " 'database_filter',\n",
    " 'image_resizer',\n",
    " 'detect_objects',\n",
    " 'text_translation',\n",
    " 'file_search',\n",
    " 'generate_word_cloud',\n",
    " 'currency_converter',\n",
    " 'email_alerts',\n",
    " 'file_uploader',\n",
    " 'data_export',\n",
    " 'generate_graph',\n",
    " 'database_download',\n",
    " 'file_date_filter',\n",
    " 'search_documents',\n",
    " 'text_search',\n",
    " 'log_monitoring',\n",
    " 'get_blog_posts',\n",
    " 'image_classifier',\n",
    " 'content_analysis',\n",
    " 'term_finder',\n",
    " 'purchase_history',\n",
    " 'city_information',\n",
    " 'file_operations',\n",
    " 'filter_by_keywords',\n",
    " 'csv_sorting',\n",
    " 'sort_by_date',\n",
    " 'pdf_generation',\n",
    " 'text_summarization',\n",
    " 'customer_details',\n",
    " 'search',\n",
    " 'city_info',\n",
    " 'text_generator',\n",
    " 'text_analyzer',\n",
    " 'weather_report',\n",
    " 'csv_data_analysis',\n",
    " 'database_query',\n",
    " 'image_processor',\n",
    " 'phrase_finder',\n",
    " 'filter_by_date_range',\n",
    " 'csv_reader',\n",
    " 'data_encryption',\n",
    " 'search_engine_query',\n",
    " 'product_sales_count',\n",
    " 'temperature_filter',\n",
    " 'generate_report',\n",
    " 'social_media_monitoring',\n",
    " 'task_reminder',\n",
    " 'web_scraper',\n",
    " 'document_summary',\n",
    " 'monthly_sales_report',\n",
    " 'image_resizing',\n",
    " 'reminder_setter',\n",
    " 'calendar_manager',\n",
    " 'pdf_extractor',\n",
    " 'twitter_data_extraction',\n",
    " 'document_editor',\n",
    " 'social_media_analytics',\n",
    " 'speech_to_text',\n",
    " 'product_review_analysis',\n",
    " 'search_engine',\n",
    " 'translate_text',\n",
    " 'text_analysis',\n",
    " 'document_search',\n",
    " 'image_enhancement',\n",
    " 'image_processing',\n",
    " 'file_sorter',\n",
    " 'data_sorting',\n",
    " 'sales_search',\n",
    " 'calculate_average',\n",
    " 'stock_price_check',\n",
    " 'file_filter',\n",
    " 'pdf_conversion',\n",
    " 'document_conversion',\n",
    " 'excel_analytics',\n",
    " 'email_notifier',\n",
    " 'review_parser',\n",
    " 'article_analysis',\n",
    " 'get_related_posts',\n",
    " 'news_search',\n",
    " 'doc_translate',\n",
    " 'average_temperature',\n",
    " 'user_profile_update',\n",
    " 'analyze_hashtag',\n",
    " 'filter_data',\n",
    " 'pdf_analytics',\n",
    " 'travel_planner',\n",
    " 'dataset_statistics',\n",
    " 'email_search',\n",
    " 'tweet_filter',\n",
    " 'text_classification',\n",
    " 'pdf_to_word',\n",
    " 'product_sales',\n",
    " 'date_calculator',\n",
    " 'team_management',\n",
    " 'movie_database',\n",
    " 'email_retrieval',\n",
    " 'article_finder',\n",
    " 'article_summary',\n",
    " 'text_extractor',\n",
    " 'text_summarizer',\n",
    " 'create_playlist',\n",
    " 'document_management',\n",
    " 'doc_search',\n",
    " 'file_compressor',\n",
    " 'post_filter',\n",
    " 'book_recommender',\n",
    " 'book_review_analytics',\n",
    " 'twitter_search',\n",
    " 'file_download',\n",
    " 'fetch_tweets',\n",
    " 'book_search',\n",
    " 'file_transfer',\n",
    " 'customer_segmentation',\n",
    " 'customer_feedback',\n",
    " 'xml_parser',\n",
    " 'pdf_parser',\n",
    " 'product_counter',\n",
    " 'data_scraper',\n",
    " 'csv_export',\n",
    " 'order_history',\n",
    " 'table_operations',\n",
    " 'entity_recognition',\n",
    " 'csv_filter',\n",
    " 'text_processing',\n",
    " 'product_recommender',\n",
    " 'document_translation',\n",
    " 'movie_recommender',\n",
    " 'blog_post_analytics',\n",
    " 'synonym_finder',\n",
    " 'time_zone_info',\n",
    " 'product_review_analytics',\n",
    " 'sales_report',\n",
    " 'video_editing',\n",
    " 'weather_forecast',\n",
    " 'filter_content',\n",
    " 'pdf_converter',\n",
    " 'email_sender',\n",
    " 'fetch_news',\n",
    " 'keyword_search',\n",
    " 'website_scraper',\n",
    " 'research_paper_search',\n",
    " 'project_filter',\n",
    " 'pdf_reader',\n",
    " 'dataset_analytics',\n",
    " 'content_filter',\n",
    " 'review_analysis',\n",
    " 'product_search',\n",
    " 'post_searcher',\n",
    " 'date_range_filter',\n",
    " 'database_search',\n",
    " 'time_series_analysis',\n",
    " 'document_classification',\n",
    " 'location_filter',\n",
    " 'audio_processing',\n",
    " 'find_articles',\n",
    " 'recipe_search',\n",
    " 'image_downloader',\n",
    " 'file_analytics',\n",
    " 'get_weather_forecast',\n",
    " 'data_visualizer',\n",
    " 'html_parser',\n",
    " 'sales_csv_analytics',\n",
    " 'date_filter']"
   ]
  },
  {
   "cell_type": "code",
   "execution_count": 12,
   "id": "2156c5a6-f857-4626-90e9-1525258f34ce",
   "metadata": {},
   "outputs": [],
   "source": [
    "other_names = list(set(other_names).difference(all_fns))"
   ]
  },
  {
   "cell_type": "code",
   "execution_count": 13,
   "id": "3f8d7844-c83f-4c83-93db-4068e2d1f05a",
   "metadata": {},
   "outputs": [
    {
     "data": {
      "text/plain": [
       "269"
      ]
     },
     "execution_count": 13,
     "metadata": {},
     "output_type": "execute_result"
    }
   ],
   "source": [
    "len(other_names)"
   ]
  },
  {
   "cell_type": "code",
   "execution_count": 14,
   "id": "fc41bcfb-8f3d-4802-ba2f-e08c9473f6be",
   "metadata": {},
   "outputs": [
    {
     "data": {
      "text/plain": [
       "1348"
      ]
     },
     "execution_count": 14,
     "metadata": {},
     "output_type": "execute_result"
    }
   ],
   "source": [
    "num_to_keep = len(other_names) * 5\n",
    "num_shards = len(function_dataset) // num_to_keep\n",
    "\n",
    "subset_ds = function_dataset.shard(num_shards=num_shards, index=0)\n",
    "len(subset_ds)"
   ]
  },
  {
   "cell_type": "code",
   "execution_count": 15,
   "id": "ad0c16b7-5584-4581-8f24-f99d8b744247",
   "metadata": {},
   "outputs": [
    {
     "data": {
      "application/vnd.jupyter.widget-view+json": {
       "model_id": "da29201a6f7447d8a0dc03637c1e23b0",
       "version_major": 2,
       "version_minor": 0
      },
      "text/plain": [
       "Map:   0%|          | 0/1348 [00:00<?, ? examples/s]"
      ]
     },
     "metadata": {},
     "output_type": "display_data"
    }
   ],
   "source": [
    "def add_neg_example(row, idx):\n",
    "    chatml = row[\"chatml\"]\n",
    "    chatml = chatml[:2]\n",
    "    neg_function_name = other_names[idx % len(other_names)]\n",
    "\n",
    "    neg_function_content = dict(error=f\"`{neg_function_name}` is not a valid function.\", error_code=\"not_found\")\n",
    "    neg_function_call = dict(role=\"function_call\", content=json.dumps(neg_function_content))\n",
    "\n",
    "    chatml.append(person(f\"Can you please run the `{neg_function_name}` function?\"))\n",
    "    chatml.append(neg_function_call)\n",
    "    chatml.append(me(f\"Sorry but I don't know how to do that!\"))\n",
    "\n",
    "    # Add neg declaration\n",
    "    chatml[0][\"content\"] += \" If a function with the given name is not found, please respond with an error (code: not_found) json in the function call.\"\n",
    "    \n",
    "    return dict(chatml=chatml)\n",
    "\n",
    "neg_ds = subset_ds.map(add_neg_example, with_indices=True)"
   ]
  },
  {
   "cell_type": "code",
   "execution_count": 16,
   "id": "fd13d6b1-bd84-498e-aa1f-c4b414fdd5a4",
   "metadata": {},
   "outputs": [
    {
     "data": {
      "text/plain": [
       "{'chatml': [{'content': 'A user is talking to their helpful AI Assistant that can help them accomplish different tasks. In order to do so, the AI has access to various functions that it can call as described below.\\n\\nIn order to call a function, AI just needs to specify the name of the function to call and its arguments as a valid JSON string. If a function with the given name is not found, please respond with an error (code: not_found) json in the function call.',\n",
       "   'name': 'situation',\n",
       "   'role': 'system'},\n",
       "  {'content': 'Available functions and their signatures as JSON schema:\\n\\n```\\n{\\n    \"name\": \"generate_anagram\",\\n    \"description\": \"Generate an anagram of a given word\",\\n    \"parameters\": {\\n        \"type\": \"object\",\\n        \"properties\": {\\n            \"word\": {\\n                \"type\": \"string\",\\n                \"description\": \"The word to generate an anagram of\"\\n            }\\n        },\\n        \"required\": [\\n            \"word\"\\n        ]\\n    }\\n}\\n```',\n",
       "   'name': 'functions',\n",
       "   'role': 'system'},\n",
       "  {'content': 'Can you please run the `search` function?',\n",
       "   'name': None,\n",
       "   'role': 'user'},\n",
       "  {'content': '{\"error\": \"`search` is not a valid function.\", \"error_code\": \"not_found\"}',\n",
       "   'name': None,\n",
       "   'role': 'function_call'},\n",
       "  {'content': \"Sorry but I don't know how to do that!\",\n",
       "   'name': None,\n",
       "   'role': 'assistant'}]}"
      ]
     },
     "execution_count": 16,
     "metadata": {},
     "output_type": "execute_result"
    }
   ],
   "source": [
    "neg_ds[0]"
   ]
  },
  {
   "cell_type": "code",
   "execution_count": 17,
   "id": "9011cb12-81d8-4294-aca4-863c051b9b16",
   "metadata": {},
   "outputs": [
    {
     "data": {
      "application/vnd.jupyter.widget-view+json": {
       "model_id": "3877a5ac18dd45a98c611a8551c8268d",
       "version_major": 2,
       "version_minor": 0
      },
      "text/plain": [
       "Pushing dataset shards to the dataset hub:   0%|          | 0/1 [00:00<?, ?it/s]"
      ]
     },
     "metadata": {},
     "output_type": "display_data"
    },
    {
     "data": {
      "application/vnd.jupyter.widget-view+json": {
       "model_id": "4f22b05416c54ab7ac3518de36e3ffaa",
       "version_major": 2,
       "version_minor": 0
      },
      "text/plain": [
       "Creating parquet from Arrow format:   0%|          | 0/2 [00:00<?, ?ba/s]"
      ]
     },
     "metadata": {},
     "output_type": "display_data"
    },
    {
     "data": {
      "application/vnd.jupyter.widget-view+json": {
       "model_id": "256f1c4812454c238f6cbee1d104acb0",
       "version_major": 2,
       "version_minor": 0
      },
      "text/plain": [
       "Deleting unused files from dataset repository:   0%|          | 0/1 [00:00<?, ?it/s]"
      ]
     },
     "metadata": {},
     "output_type": "display_data"
    },
    {
     "data": {
      "application/vnd.jupyter.widget-view+json": {
       "model_id": "6ac9a79450144087ac8c6d284ef02a0a",
       "version_major": 2,
       "version_minor": 0
      },
      "text/plain": [
       "Downloading metadata:   0%|          | 0.00/547 [00:00<?, ?B/s]"
      ]
     },
     "metadata": {},
     "output_type": "display_data"
    }
   ],
   "source": [
    "neg_ds.push_to_hub(\"diwank/glaive-neg-chatml\", private=True)"
   ]
  },
  {
   "cell_type": "code",
   "execution_count": 18,
   "id": "cba1b1d0-f7fb-4b75-8f7f-cf66439c50de",
   "metadata": {},
   "outputs": [],
   "source": [
    "def intermingle_negative(row):\n",
    "    chatml = row[\"chatml\"]\n",
    "\n",
    "    # find first function call\n",
    "    try:\n",
    "        i_ffc, ffc = next((i, k) for i, k in enumerate(chatml) if k[\"role\"] == \"function_call\")\n",
    "        ffc_name = json.loads(ffc[\"content\"])[\"name\"]\n",
    "    except:\n",
    "        import traceback; print(traceback.format_exc())\n",
    "        import pdb; pdb.set_trace()\n",
    "\n",
    "    # Find another row that doesnt have this\n",
    "    other_row = next(k for k in ds_names if ffc_name not in k[\"names\"])\n",
    "\n",
    "    # Replace functions\n",
    "    other_functions = other_row[\"chatml\"][1][\"content\"]\n",
    "    chatml[1][\"content\"] = other_functions\n",
    "\n",
    "    # New chatml\n",
    "    i_user, _ = next((i, k) for i, k in enumerate(chatml) if k[\"role\"] == \"user\")\n",
    "    chatml = chatml[:i_user + 1]  # Remove everything before first user message\n",
    "\n",
    "    # Add neg declaration\n",
    "    chatml[0][\"content\"] += \" If no appropriate function is available to carry out the user's request, please respond with an error (code: need_function) json in the function call.\"\n",
    "\n",
    "    # Add neg response\n",
    "    neg_function_content = dict(error=f\"No function available that can help me perform this.\", error_code=\"need_function\")\n",
    "    \n",
    "    chatml.append(dict(\n",
    "        role=\"function_call\",\n",
    "        content=json.dumps(neg_function_content),\n",
    "    ))\n",
    "    \n",
    "    return dict(chatml=chatml)"
   ]
  },
  {
   "cell_type": "code",
   "execution_count": 19,
   "id": "b29d39bc-ffcf-424e-95e0-b387e0e669fd",
   "metadata": {},
   "outputs": [
    {
     "data": {
      "application/vnd.jupyter.widget-view+json": {
       "model_id": "4c85873f17904e37b39770b61175c058",
       "version_major": 2,
       "version_minor": 0
      },
      "text/plain": [
       "Map:   0%|          | 0/4177 [00:00<?, ? examples/s]"
      ]
     },
     "metadata": {},
     "output_type": "display_data"
    }
   ],
   "source": [
    "# Get one tenth dataset for neg neg\n",
    "tenth_ds = function_dataset.shuffle().shard(num_shards=10, index=0)\n",
    "\n",
    "neg_neg_dataset = tenth_ds.map(intermingle_negative)"
   ]
  },
  {
   "cell_type": "code",
   "execution_count": 20,
   "id": "a10ee5a8-4088-4754-be75-472ce0e85b14",
   "metadata": {},
   "outputs": [
    {
     "data": {
      "text/plain": [
       "{'chatml': [{'content': \"A user is talking to their helpful AI Assistant that can help them accomplish different tasks. In order to do so, the AI has access to various functions that it can call as described below.\\n\\nIn order to call a function, AI just needs to specify the name of the function to call and its arguments as a valid JSON string. If no appropriate function is available to carry out the user's request, please respond with an error (code: need_function) json in the function call.\",\n",
       "   'name': 'situation',\n",
       "   'role': 'system'},\n",
       "  {'content': 'Available functions and their signatures as JSON schema:\\n\\n```\\n{\\n    \"name\": \"generate_anagram\",\\n    \"description\": \"Generate an anagram of a given word\",\\n    \"parameters\": {\\n        \"type\": \"object\",\\n        \"properties\": {\\n            \"word\": {\\n                \"type\": \"string\",\\n                \"description\": \"The word to generate an anagram of\"\\n            }\\n        },\\n        \"required\": [\\n            \"word\"\\n        ]\\n    }\\n}\\n```',\n",
       "   'name': 'functions',\n",
       "   'role': 'system'},\n",
       "  {'content': 'I need a random number between 1 and 100.',\n",
       "   'name': None,\n",
       "   'role': 'user'},\n",
       "  {'content': '{\"error\": \"No function available that can help me perform this.\", \"error_code\": \"need_function\"}',\n",
       "   'name': None,\n",
       "   'role': 'function_call'}]}"
      ]
     },
     "execution_count": 20,
     "metadata": {},
     "output_type": "execute_result"
    }
   ],
   "source": [
    "neg_neg_dataset[0]"
   ]
  },
  {
   "cell_type": "code",
   "execution_count": 21,
   "id": "7fe16b6b-79eb-4e76-8613-1f6e286445af",
   "metadata": {},
   "outputs": [
    {
     "data": {
      "application/vnd.jupyter.widget-view+json": {
       "model_id": "7d9cbca5bc584721bbdfe1e363aa2808",
       "version_major": 2,
       "version_minor": 0
      },
      "text/plain": [
       "Pushing dataset shards to the dataset hub:   0%|          | 0/1 [00:00<?, ?it/s]"
      ]
     },
     "metadata": {},
     "output_type": "display_data"
    },
    {
     "data": {
      "application/vnd.jupyter.widget-view+json": {
       "model_id": "e7ddd1ffbe614809b7c472a1233e3f4a",
       "version_major": 2,
       "version_minor": 0
      },
      "text/plain": [
       "Creating parquet from Arrow format:   0%|          | 0/2 [00:00<?, ?ba/s]"
      ]
     },
     "metadata": {},
     "output_type": "display_data"
    },
    {
     "data": {
      "application/vnd.jupyter.widget-view+json": {
       "model_id": "4a4fccd0351e429588fe2fe84c064fb9",
       "version_major": 2,
       "version_minor": 0
      },
      "text/plain": [
       "Deleting unused files from dataset repository:   0%|          | 0/1 [00:00<?, ?it/s]"
      ]
     },
     "metadata": {},
     "output_type": "display_data"
    },
    {
     "data": {
      "application/vnd.jupyter.widget-view+json": {
       "model_id": "21450d2bc35c491b8d0992bb5f962bd5",
       "version_major": 2,
       "version_minor": 0
      },
      "text/plain": [
       "Downloading metadata:   0%|          | 0.00/551 [00:00<?, ?B/s]"
      ]
     },
     "metadata": {},
     "output_type": "display_data"
    }
   ],
   "source": [
    "neg_ds.push_to_hub(\"diwank/glaive-neg-neg-chatml\", private=True)"
   ]
  }
 ],
 "metadata": {
  "kernelspec": {
   "display_name": "Python 3 (ipykernel)",
   "language": "python",
   "name": "python3"
  },
  "language_info": {
   "codemirror_mode": {
    "name": "ipython",
    "version": 3
   },
   "file_extension": ".py",
   "mimetype": "text/x-python",
   "name": "python",
   "nbconvert_exporter": "python",
   "pygments_lexer": "ipython3",
   "version": "3.10.12"
  }
 },
 "nbformat": 4,
 "nbformat_minor": 5
}
