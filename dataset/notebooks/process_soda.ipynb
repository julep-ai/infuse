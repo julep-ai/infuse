{
 "cells": [
  {
   "cell_type": "code",
   "execution_count": 1,
   "id": "6ab3c36a-da42-453d-bd44-619f844f19ec",
   "metadata": {},
   "outputs": [],
   "source": [
    "from datasets import load_dataset, Dataset, DatasetDict"
   ]
  },
  {
   "cell_type": "code",
   "execution_count": 2,
   "id": "316fa00b",
   "metadata": {},
   "outputs": [
    {
     "data": {
      "application/vnd.jupyter.widget-view+json": {
       "model_id": "a40d7511f2e542dcab9a0ce0ce2f5d89",
       "version_major": 2,
       "version_minor": 0
      },
      "text/plain": [
       "Downloading readme:   0%|          | 0.00/4.92k [00:00<?, ?B/s]"
      ]
     },
     "metadata": {},
     "output_type": "display_data"
    },
    {
     "data": {
      "application/vnd.jupyter.widget-view+json": {
       "model_id": "c6b7c9ad7a004411ad817c7d7cda7f25",
       "version_major": 2,
       "version_minor": 0
      },
      "text/plain": [
       "Downloading data files:   0%|          | 0/3 [00:00<?, ?it/s]"
      ]
     },
     "metadata": {},
     "output_type": "display_data"
    },
    {
     "data": {
      "application/vnd.jupyter.widget-view+json": {
       "model_id": "b80287c4071a431db182ad3c4df36806",
       "version_major": 2,
       "version_minor": 0
      },
      "text/plain": [
       "Downloading data:   0%|          | 0.00/689M [00:00<?, ?B/s]"
      ]
     },
     "metadata": {},
     "output_type": "display_data"
    },
    {
     "data": {
      "application/vnd.jupyter.widget-view+json": {
       "model_id": "d754bf1c85b64979be16a2a7735c4559",
       "version_major": 2,
       "version_minor": 0
      },
      "text/plain": [
       "Downloading data:   0%|          | 0.00/82.9M [00:00<?, ?B/s]"
      ]
     },
     "metadata": {},
     "output_type": "display_data"
    },
    {
     "data": {
      "application/vnd.jupyter.widget-view+json": {
       "model_id": "5ce137cd15a94defa4161e8b8c3385d5",
       "version_major": 2,
       "version_minor": 0
      },
      "text/plain": [
       "Downloading data:   0%|          | 0.00/84.2M [00:00<?, ?B/s]"
      ]
     },
     "metadata": {},
     "output_type": "display_data"
    },
    {
     "data": {
      "application/vnd.jupyter.widget-view+json": {
       "model_id": "926b00a43c254ba88e9530068ed36c3f",
       "version_major": 2,
       "version_minor": 0
      },
      "text/plain": [
       "Extracting data files:   0%|          | 0/3 [00:00<?, ?it/s]"
      ]
     },
     "metadata": {},
     "output_type": "display_data"
    },
    {
     "data": {
      "application/vnd.jupyter.widget-view+json": {
       "model_id": "fa351ab1d7b943369148cce2b8e9b126",
       "version_major": 2,
       "version_minor": 0
      },
      "text/plain": [
       "Generating train split: 0 examples [00:00, ? examples/s]"
      ]
     },
     "metadata": {},
     "output_type": "display_data"
    },
    {
     "data": {
      "application/vnd.jupyter.widget-view+json": {
       "model_id": "e11788cf1bac4a20be96f645ea9aa8f7",
       "version_major": 2,
       "version_minor": 0
      },
      "text/plain": [
       "Generating validation split: 0 examples [00:00, ? examples/s]"
      ]
     },
     "metadata": {},
     "output_type": "display_data"
    },
    {
     "data": {
      "application/vnd.jupyter.widget-view+json": {
       "model_id": "17511f37a38a486daa55b53c606ba1b3",
       "version_major": 2,
       "version_minor": 0
      },
      "text/plain": [
       "Generating test split: 0 examples [00:00, ? examples/s]"
      ]
     },
     "metadata": {},
     "output_type": "display_data"
    }
   ],
   "source": [
    "dataset = load_dataset(\"allenai/soda\")"
   ]
  },
  {
   "cell_type": "code",
   "execution_count": 3,
   "id": "92715da9",
   "metadata": {},
   "outputs": [
    {
     "name": "stdout",
     "output_type": "stream",
     "text": [
      "{'PersonX': 'Veda',\n",
      " 'PersonY': '',\n",
      " 'PersonZ': '',\n",
      " 'dialogue': [\"Hi, Father. I'm Veda. I'm new to the area and was curious about \"\n",
      "              'your church. Could you tell me a little bit about it?',\n",
      "              'Of course, Veda. Our church is based on the teachings of Jesus '\n",
      "              'Christ. We believe in loving our neighbor and treating others '\n",
      "              'as we would want to be treated. We strive to live according to '\n",
      "              \"Christ's example and teachings.\",\n",
      "              'That sounds like a really great way to live. I can see why so '\n",
      "              'many people are drawn to this religion. What do you think makes '\n",
      "              'Christianity different from other religions?',\n",
      "              'Well, there are a lot of different interpretations of '\n",
      "              \"Christianity, but for us, it's all about following Jesus \"\n",
      "              \"Christ's example. He was a man who loved unconditionally and \"\n",
      "              'forgave easily. He preached compassion and understanding, even '\n",
      "              'for those who disagreed with him or did not follow his '\n",
      "              'teachings perfectly. We try to emulate that in our own lives.\"',\n",
      "              'That does sound different. I know that forgiveness is a big '\n",
      "              \"part of Christianity, but it's not always easy to do. How do \"\n",
      "              'you think Christians are able to forgive so easily?',\n",
      "              'Well, I think it comes from our belief that everyone is capable '\n",
      "              'of change and redemption. We believe that no one is beyond hope '\n",
      "              'or help, and so we are always willing to forgive those who have '\n",
      "              \"wronged us. It's not always easy, but it is something we strive \"\n",
      "              'for.'],\n",
      " 'head': 'PersonX thought about going to church',\n",
      " 'head_answer': 'Yes',\n",
      " 'literal': 'Veda was interested in going to church. Veda thought about going '\n",
      "            'to church.',\n",
      " 'narrative': 'Veda thought about going to church because she was interested '\n",
      "              'in the religion. She had never been to church before, but she '\n",
      "              'had heard good things about it. She decided to go to a nearby '\n",
      "              'church and see what it was like.',\n",
      " 'original_index': 6027731,\n",
      " 'pmi_head_answer': 'Yes',\n",
      " 'pmi_relation_tail_answer': 'No',\n",
      " 'relation': 'xNeed',\n",
      " 'relation_tail_answer': 'Yes',\n",
      " 'speakers': ['Veda', 'Priest', 'Veda', 'Priest', 'Veda', 'Priest'],\n",
      " 'split': 'train',\n",
      " 'tail': 'to be interested in going to church'}\n"
     ]
    }
   ],
   "source": [
    "from pprint import pprint\n",
    "pprint(dataset[\"train\"][0])"
   ]
  },
  {
   "cell_type": "code",
   "execution_count": 4,
   "id": "150a0fd5",
   "metadata": {},
   "outputs": [
    {
     "data": {
      "application/vnd.jupyter.widget-view+json": {
       "model_id": "709b5e5e7199453f9b570cc1ff2d0008",
       "version_major": 2,
       "version_minor": 0
      },
      "text/plain": [
       "Filter:   0%|          | 0/2383164 [00:00<?, ? examples/s]"
      ]
     },
     "metadata": {},
     "output_type": "display_data"
    },
    {
     "data": {
      "application/vnd.jupyter.widget-view+json": {
       "model_id": "657e0f47d8df4994843f10e567f10ce5",
       "version_major": 2,
       "version_minor": 0
      },
      "text/plain": [
       "Filter:   0%|          | 0/292692 [00:00<?, ? examples/s]"
      ]
     },
     "metadata": {},
     "output_type": "display_data"
    },
    {
     "data": {
      "application/vnd.jupyter.widget-view+json": {
       "model_id": "2c73e9b03f174807a8651be19e5753e0",
       "version_major": 2,
       "version_minor": 0
      },
      "text/plain": [
       "Filter:   0%|          | 0/297936 [00:00<?, ? examples/s]"
      ]
     },
     "metadata": {},
     "output_type": "display_data"
    },
    {
     "data": {
      "text/plain": [
       "1523126"
      ]
     },
     "execution_count": 4,
     "metadata": {},
     "output_type": "execute_result"
    }
   ],
   "source": [
    "# Filter examples with inputs\n",
    "dataset = dataset.filter(lambda x: all(\n",
    "    x[c].lower() == \"yes\"\n",
    "    for c in [\n",
    "        \"head_answer\",\n",
    "        \"relation_tail_answer\",\n",
    "        \"pmi_head_answer\",\n",
    "        \"pmi_relation_tail_answer\",\n",
    "    ]\n",
    "))\n",
    "\n",
    "len(dataset[\"train\"])"
   ]
  },
  {
   "cell_type": "code",
   "execution_count": 5,
   "id": "1ea17061",
   "metadata": {},
   "outputs": [
    {
     "data": {
      "text/plain": [
       "{'xAttr', 'xEffect', 'xIntent', 'xNeed', 'xReact', 'xWant'}"
      ]
     },
     "execution_count": 5,
     "metadata": {},
     "output_type": "execute_result"
    }
   ],
   "source": [
    "all_relations = set(dataset[\"train\"][\"relation\"])\n",
    "all_relations"
   ]
  },
  {
   "cell_type": "code",
   "execution_count": 11,
   "id": "d16c7c1b",
   "metadata": {},
   "outputs": [],
   "source": [
    "relation_map = dict(\n",
    "    xAttr=lambda x: f\"What does this imply about {x}?\",\n",
    "    xIntent=lambda x: f\"What does {x} intend to do?\",\n",
    "    xNeed=lambda x: f\"What does this tell you about {x}'s needs?\",\n",
    "    xReact=lambda x: f\"How will {x} react?\",\n",
    "    xEffect=lambda x: f\"What effect will this have on {x}?\",\n",
    "    xWant=lambda x: f\"What does {x} want?\",\n",
    ")"
   ]
  },
  {
   "cell_type": "code",
   "execution_count": 7,
   "id": "56be6a41",
   "metadata": {},
   "outputs": [],
   "source": [
    "num_items = 10_000\n",
    "ds = dataset[\"train\"].to_pandas().groupby(\"relation\").apply(lambda x: x.head(num_items)).reset_index(drop=True)"
   ]
  },
  {
   "cell_type": "code",
   "execution_count": 8,
   "id": "f178a213",
   "metadata": {},
   "outputs": [],
   "source": [
    "dataset = Dataset.from_pandas(ds)"
   ]
  },
  {
   "cell_type": "code",
   "execution_count": 9,
   "id": "7f0e4f9d",
   "metadata": {},
   "outputs": [],
   "source": [
    "make_chatml = lambda name, role, content: dict(\n",
    "    name=name, role=role, content=content,\n",
    ")\n",
    "\n",
    "system = lambda name, content: make_chatml(\n",
    "    role=\"system\",\n",
    "    name=name,\n",
    "    content=content,\n",
    ")\n",
    "\n",
    "situation = lambda content: system(name=\"situation\", content=content)\n",
    "thought = lambda content: system(name=\"thought\", content=content)\n",
    "information = lambda content: system(name=\"information\", content=content)\n",
    "me = lambda content, name=None: make_chatml(\n",
    "    role=\"assistant\",\n",
    "    content=content,\n",
    "    name=name,\n",
    ")\n",
    "\n",
    "person = lambda content, name=None: make_chatml(\n",
    "    role=\"user\",\n",
    "    content=content,\n",
    "    name=name,\n",
    ")\n"
   ]
  },
  {
   "cell_type": "code",
   "execution_count": 10,
   "id": "744a7942",
   "metadata": {},
   "outputs": [
    {
     "data": {
      "text/plain": [
       "{'head': \"PersonX listens to PersonY's thoughts\",\n",
       " 'relation': 'xAttr',\n",
       " 'tail': 'a good friend',\n",
       " 'literal': \"Rylea is a good friend. Rylea listens to Shavon's thoughts.\",\n",
       " 'narrative': 'Rylea sat down with Shavon and asked him what was wrong. Shavon told Rylea that he was having a hard time and needed someone to talk to. Rylea said that he would be happy to be there for his friend.',\n",
       " 'dialogue': [\"Hey Shavon, what's up? You seem troubled.\",\n",
       "  \"Yeah, I am. I'm just having a hard time and needed someone to talk to.\",\n",
       "  \"Of course, man. I'm always here for you. What's going on?\",\n",
       "  \"It's just everything. Work is stressing me out, my relationship is falling apart, and I feel like I'm losing touch with my friends. I don't know what to do.\",\n",
       "  \"Well, let's start with work then. What's going on there?\",\n",
       "  \"It's just that everything is so demanding and I can't keep up. I'm constantly behind and it feels like I'm never going to catch up.\",\n",
       "  \"Okay, that does sound pretty tough. But it sounds like you're doing the best you can under the circumstances. Maybe you just need to cut yourself some slack and focus on one thing at a time. As for your relationship, what's going on there?\",\n",
       "  \"We're just fighting all the time and it feels like we're growing apart instead of together. I don't know if we can make it through this rough patch.\",\n",
       "  'Do you still love her?',\n",
       "  \"Yes, I do. But it's just so hard right now.\",\n",
       "  \"Then you should definitely try to work things out. It sounds like you're going through a lot right now, but your friends are still here for you. So don't forget that.\"],\n",
       " 'speakers': ['Rylea',\n",
       "  'Shavon',\n",
       "  'Rylea',\n",
       "  'Shavon',\n",
       "  'Rylea',\n",
       "  'Shavon',\n",
       "  'Rylea',\n",
       "  'Shavon',\n",
       "  'Rylea',\n",
       "  'Shavon',\n",
       "  'Rylea'],\n",
       " 'PersonX': 'Rylea',\n",
       " 'PersonY': 'Shavon',\n",
       " 'PersonZ': '',\n",
       " 'original_index': 6027739,\n",
       " 'split': 'train',\n",
       " 'head_answer': 'Yes',\n",
       " 'pmi_head_answer': 'Yes',\n",
       " 'relation_tail_answer': 'Yes',\n",
       " 'pmi_relation_tail_answer': 'Yes'}"
      ]
     },
     "execution_count": 10,
     "metadata": {},
     "output_type": "execute_result"
    }
   ],
   "source": [
    "dataset[0]"
   ]
  },
  {
   "cell_type": "code",
   "execution_count": 12,
   "id": "ea28cbab",
   "metadata": {},
   "outputs": [],
   "source": [
    "def to_chatml(row):\n",
    "    speakers = row[\"speakers\"]\n",
    "    dialogue = row[\"dialogue\"]\n",
    "    narrative = row[\"narrative\"]\n",
    "    literal_description = row[\"literal\"]\n",
    "    person_x = row[\"PersonX\"]\n",
    "    relation = row[\"relation\"]\n",
    "    question = relation_map[relation](person_x)\n",
    "\n",
    "    newline = \"\\n\"\n",
    "\n",
    "    [*spkrs, last_spkr] = speakers\n",
    "    speakers_formatted = \", \".join(spkrs) + f\" and {last_spkr}\"\n",
    "   \n",
    "    # System message\n",
    "    system_message = (\n",
    "        f\"An AI is analyzing a dialog happening between {speakers_formatted}.\"\n",
    "        \" It then reflects on the conversation.\"\n",
    "    )\n",
    "\n",
    "    # Thoughts\n",
    "    thought_message1 = (\n",
    "        f\"What is happening in this dialog?{newline}{newline}{narrative}\"\n",
    "    )\n",
    "\n",
    "    thought_message2 = (\n",
    "        f\"{question}{newline}{newline}{literal_description}\"\n",
    "    )\n",
    "\n",
    "    dialog_chatml = [\n",
    "        person(text, name=speaker)\n",
    "        for speaker, text in zip(speakers, dialogue)\n",
    "    ]\n",
    "\n",
    "    # Turn into chatml\n",
    "    chatml = [\n",
    "        situation(system_message),\n",
    "        *dialog_chatml,\n",
    "        thought(thought_message1),\n",
    "        thought(thought_message2),\n",
    "    ]\n",
    "\n",
    "    return dict(chatml=chatml)\n"
   ]
  },
  {
   "cell_type": "code",
   "execution_count": 13,
   "id": "0164bf5b",
   "metadata": {},
   "outputs": [
    {
     "data": {
      "application/vnd.jupyter.widget-view+json": {
       "model_id": "92788e04e4064584835494cb0b28dafe",
       "version_major": 2,
       "version_minor": 0
      },
      "text/plain": [
       "Map:   0%|          | 0/60000 [00:00<?, ? examples/s]"
      ]
     },
     "metadata": {},
     "output_type": "display_data"
    }
   ],
   "source": [
    "dataset = dataset.map(to_chatml)"
   ]
  },
  {
   "cell_type": "code",
   "execution_count": 16,
   "id": "ef232728",
   "metadata": {},
   "outputs": [],
   "source": [
    "columns_to_remove = set(dataset.column_names) - {\"chatml\"}\n",
    "dataset = dataset.remove_columns(list(columns_to_remove))"
   ]
  },
  {
   "cell_type": "code",
   "execution_count": 17,
   "id": "ed22963b-6a85-4867-8981-fc305183a5c1",
   "metadata": {},
   "outputs": [
    {
     "data": {
      "application/vnd.jupyter.widget-view+json": {
       "model_id": "f6a95b98c0dd41fea6b1669b2e411b37",
       "version_major": 2,
       "version_minor": 0
      },
      "text/plain": [
       "Pushing dataset shards to the dataset hub:   0%|          | 0/1 [00:00<?, ?it/s]"
      ]
     },
     "metadata": {},
     "output_type": "display_data"
    },
    {
     "data": {
      "application/vnd.jupyter.widget-view+json": {
       "model_id": "6f5ab5aa53b04cb5bbc457fdf5916933",
       "version_major": 2,
       "version_minor": 0
      },
      "text/plain": [
       "Creating parquet from Arrow format:   0%|          | 0/60 [00:00<?, ?ba/s]"
      ]
     },
     "metadata": {},
     "output_type": "display_data"
    }
   ],
   "source": [
    "dataset.push_to_hub(\"diwank/soda-chatml\", private=True)"
   ]
  },
  {
   "cell_type": "code",
   "execution_count": null,
   "id": "e7c8681b",
   "metadata": {},
   "outputs": [],
   "source": []
  }
 ],
 "metadata": {
  "kernelspec": {
   "display_name": "Python 3 (ipykernel)",
   "language": "python",
   "name": "python3"
  },
  "language_info": {
   "codemirror_mode": {
    "name": "ipython",
    "version": 3
   },
   "file_extension": ".py",
   "mimetype": "text/x-python",
   "name": "python",
   "nbconvert_exporter": "python",
   "pygments_lexer": "ipython3",
   "version": "3.10.12"
  }
 },
 "nbformat": 4,
 "nbformat_minor": 5
}
