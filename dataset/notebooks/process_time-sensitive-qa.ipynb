{
 "cells": [
  {
   "cell_type": "code",
   "execution_count": null,
   "id": "552e56bd",
   "metadata": {},
   "outputs": [],
   "source": [
    "!cd ./cache_data/Time-Sensitive-QA && wget https://github.com/wenhuchen/Time-Sensitive-QA/raw/main/dataset/dev.hard.json && wget https://github.com/wenhuchen/Time-Sensitive-QA/raw/main/dataset/test.hard.json && wget https://github.com/wenhuchen/Time-Sensitive-QA/raw/main/dataset/train.hard.json"
   ]
  },
  {
   "cell_type": "code",
   "execution_count": 2,
   "id": "6ab3c36a-da42-453d-bd44-619f844f19ec",
   "metadata": {},
   "outputs": [],
   "source": [
    "import jsonlines as jsonl\n",
    "from datasets import Dataset, DatasetDict\n"
   ]
  },
  {
   "cell_type": "code",
   "execution_count": 7,
   "id": "7fd7c1da",
   "metadata": {},
   "outputs": [],
   "source": [
    "def load_dataset_jsonl(\n",
    "    split: str,\n",
    "    dir=\"./cache_data/Time-Sensitive-QA\",\n",
    "):\n",
    "    with jsonl.open(f\"{dir}/{split}.hard.json\") as f:\n",
    "        for row in f:\n",
    "            yield row\n"
   ]
  },
  {
   "cell_type": "code",
   "execution_count": 8,
   "id": "4a9c15c9",
   "metadata": {},
   "outputs": [
    {
     "data": {
      "application/vnd.jupyter.widget-view+json": {
       "model_id": "8ce232fbbe1343eaa01dbbbf31692ae0",
       "version_major": 2,
       "version_minor": 0
      },
      "text/plain": [
       "Generating train split: 0 examples [00:00, ? examples/s]"
      ]
     },
     "metadata": {},
     "output_type": "display_data"
    },
    {
     "data": {
      "application/vnd.jupyter.widget-view+json": {
       "model_id": "ab8a2e79808a43e0904326df3f564372",
       "version_major": 2,
       "version_minor": 0
      },
      "text/plain": [
       "Generating train split: 0 examples [00:00, ? examples/s]"
      ]
     },
     "metadata": {},
     "output_type": "display_data"
    },
    {
     "data": {
      "application/vnd.jupyter.widget-view+json": {
       "model_id": "9875edd8a5264739886d9b0dae0a1c86",
       "version_major": 2,
       "version_minor": 0
      },
      "text/plain": [
       "Generating train split: 0 examples [00:00, ? examples/s]"
      ]
     },
     "metadata": {},
     "output_type": "display_data"
    }
   ],
   "source": [
    "train_ds = Dataset.from_generator(load_dataset_jsonl, gen_kwargs={\"split\": \"train\"})\n",
    "validation_ds = Dataset.from_generator(load_dataset_jsonl, gen_kwargs={\"split\": \"dev\"})\n",
    "test_ds = Dataset.from_generator(load_dataset_jsonl, gen_kwargs={\"split\": \"test\"})\n",
    "\n",
    "dataset = DatasetDict(dict(\n",
    "    train=train_ds,\n",
    "    test=test_ds,\n",
    "    validation=validation_ds,\n",
    "))"
   ]
  },
  {
   "cell_type": "code",
   "execution_count": 14,
   "id": "391f40eb",
   "metadata": {},
   "outputs": [],
   "source": [
    "dataset[\"train\"] = dataset[\"train\"].remove_columns([\"from\", \"end\"])"
   ]
  },
  {
   "cell_type": "code",
   "execution_count": 15,
   "id": "ed22963b-6a85-4867-8981-fc305183a5c1",
   "metadata": {},
   "outputs": [
    {
     "data": {
      "application/vnd.jupyter.widget-view+json": {
       "model_id": "351b9e4c9d7742b6b8b877d7c144dd54",
       "version_major": 2,
       "version_minor": 0
      },
      "text/plain": [
       "Pushing dataset shards to the dataset hub:   0%|          | 0/1 [00:00<?, ?it/s]"
      ]
     },
     "metadata": {},
     "output_type": "display_data"
    },
    {
     "data": {
      "application/vnd.jupyter.widget-view+json": {
       "model_id": "67e814a4c1ba41a69d264eda50ce8993",
       "version_major": 2,
       "version_minor": 0
      },
      "text/plain": [
       "Creating parquet from Arrow format:   0%|          | 0/15 [00:00<?, ?ba/s]"
      ]
     },
     "metadata": {},
     "output_type": "display_data"
    },
    {
     "data": {
      "application/vnd.jupyter.widget-view+json": {
       "model_id": "ffd36968f914447e93e0c6a28a66ef61",
       "version_major": 2,
       "version_minor": 0
      },
      "text/plain": [
       "Pushing dataset shards to the dataset hub:   0%|          | 0/1 [00:00<?, ?it/s]"
      ]
     },
     "metadata": {},
     "output_type": "display_data"
    },
    {
     "data": {
      "application/vnd.jupyter.widget-view+json": {
       "model_id": "3e1725b75f574f01961fba4e145bd72b",
       "version_major": 2,
       "version_minor": 0
      },
      "text/plain": [
       "Creating parquet from Arrow format:   0%|          | 0/4 [00:00<?, ?ba/s]"
      ]
     },
     "metadata": {},
     "output_type": "display_data"
    },
    {
     "data": {
      "application/vnd.jupyter.widget-view+json": {
       "model_id": "7161251ceb6141cbafe16c58ed54500c",
       "version_major": 2,
       "version_minor": 0
      },
      "text/plain": [
       "Pushing dataset shards to the dataset hub:   0%|          | 0/1 [00:00<?, ?it/s]"
      ]
     },
     "metadata": {},
     "output_type": "display_data"
    },
    {
     "data": {
      "application/vnd.jupyter.widget-view+json": {
       "model_id": "c485b4e963fc4b5980d9d162a0d5095e",
       "version_major": 2,
       "version_minor": 0
      },
      "text/plain": [
       "Creating parquet from Arrow format:   0%|          | 0/4 [00:00<?, ?ba/s]"
      ]
     },
     "metadata": {},
     "output_type": "display_data"
    }
   ],
   "source": [
    "dataset.push_to_hub(\"diwank/time-sensitive-qa\", private=True)"
   ]
  },
  {
   "cell_type": "code",
   "execution_count": null,
   "id": "e7c8681b",
   "metadata": {},
   "outputs": [],
   "source": []
  }
 ],
 "metadata": {
  "kernelspec": {
   "display_name": "Python 3 (ipykernel)",
   "language": "python",
   "name": "python3"
  },
  "language_info": {
   "codemirror_mode": {
    "name": "ipython",
    "version": 3
   },
   "file_extension": ".py",
   "mimetype": "text/x-python",
   "name": "python",
   "nbconvert_exporter": "python",
   "pygments_lexer": "ipython3",
   "version": "3.10.12"
  }
 },
 "nbformat": 4,
 "nbformat_minor": 5
}
