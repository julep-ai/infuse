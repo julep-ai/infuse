{
 "cells": [
  {
   "cell_type": "code",
   "execution_count": 1,
   "id": "c67c42d8-363e-4c1c-ab4d-299f6dc14a1f",
   "metadata": {
    "tags": []
   },
   "outputs": [
    {
     "name": "stderr",
     "output_type": "stream",
     "text": [
      "Found cached dataset json (/home/diwank/.cache/huggingface/datasets/dvlamis___json/dvlamis--toolformer-dataset-b023ba4ef3fc8b7e/0.0.0/e347ab1c932092252e717ff3f949105a4dd28b27e842dd53157d2f72e276c2e4)\n"
     ]
    },
    {
     "data": {
      "application/vnd.jupyter.widget-view+json": {
       "model_id": "28c74e27769b49f5bdd6724740edcdb9",
       "version_major": 2,
       "version_minor": 0
      },
      "text/plain": [
       "  0%|          | 0/1 [00:00<?, ?it/s]"
      ]
     },
     "metadata": {},
     "output_type": "display_data"
    }
   ],
   "source": [
    "from datasets import load_dataset\n",
    "\n",
    "dataset = load_dataset(\"dvlamis/toolformer-dataset\")\n",
    "dataset = dataset[\"train\"]"
   ]
  },
  {
   "cell_type": "code",
   "execution_count": 2,
   "id": "307e1fe4-fb28-453d-bd67-237eb2fe3fc7",
   "metadata": {
    "tags": []
   },
   "outputs": [],
   "source": [
    "def to_example(row):\n",
    "    from textwrap import dedent\n",
    "    \n",
    "    from tenacity import (\n",
    "        retry,\n",
    "        stop_after_attempt,\n",
    "        wait_random_exponential,\n",
    "    )\n",
    "\n",
    "    import openai\n",
    "    openai.api_key = \"sk-0C04MRA3vjdM8F3fJaW30IMQd80zFRYJO9IbL9wE\"\n",
    "\n",
    "    instruction, input, response = row[\"instruction\"], row[\"input\"], row[\"response\"]\n",
    "\n",
    "    instruction = instruction.replace(\"toolformer: enabled\", \"\").strip()\n",
    "    \n",
    "    SAMPLE = dedent(f\"\"\"\n",
    "    You are given some tools below along with their descriptions. As a user, write a natural language query or command that involves \"{input}\" that can be answered/carried out using some combination of the tools.\n",
    "    \n",
    "    ### TOOLS\n",
    "    {instruction}\n",
    "\n",
    "    ### User query/command\n",
    "    \"\"\").strip() + \"\\n\"\n",
    "    \n",
    "    from redis import StrictRedis\n",
    "    from redis_cache import RedisCache\n",
    "\n",
    "    client = StrictRedis(host=\"localhost\", decode_responses=True)\n",
    "    cache = RedisCache(redis_client=client)\n",
    "\n",
    "    @cache.cache()\n",
    "    @retry(wait=wait_random_exponential(min=1, max=300), stop=stop_after_attempt(12))\n",
    "    def completion_with_backoff(sample):\n",
    "\n",
    "        messages = [dict(\n",
    "            role=\"user\",\n",
    "            content=sample\n",
    "        )]\n",
    "        \n",
    "        completion = openai.ChatCompletion.create(\n",
    "            model=\"gpt-3.5-turbo\",\n",
    "            messages=messages,\n",
    "            temperature=0.15,\n",
    "        )\n",
    "        \n",
    "        result = completion.choices[0].message[\"content\"]\n",
    "        return result\n",
    "\n",
    "    completion = completion_with_backoff(SAMPLE)\n",
    "    row[\"example\"] = completion\n",
    "    return row"
   ]
  },
  {
   "cell_type": "code",
   "execution_count": 3,
   "id": "8143fdfb-6146-4c2b-9ae3-0af489e1f280",
   "metadata": {
    "tags": []
   },
   "outputs": [
    {
     "data": {
      "application/vnd.jupyter.widget-view+json": {
       "model_id": "",
       "version_major": 2,
       "version_minor": 0
      },
      "text/plain": [
       "Map (num_proc=40):   0%|          | 0/7673 [00:00<?, ? examples/s]"
      ]
     },
     "metadata": {},
     "output_type": "display_data"
    }
   ],
   "source": [
    "dataset = dataset.map(to_example, num_proc=40)"
   ]
  },
  {
   "cell_type": "code",
   "execution_count": 10,
   "id": "450cb74f-ffff-45b4-9b8c-2bd741b95885",
   "metadata": {},
   "outputs": [
    {
     "name": "stderr",
     "output_type": "stream",
     "text": [
      "Loading cached processed dataset at /home/diwank/.cache/huggingface/datasets/dvlamis___json/dvlamis--toolformer-dataset-b023ba4ef3fc8b7e/0.0.0/e347ab1c932092252e717ff3f949105a4dd28b27e842dd53157d2f72e276c2e4/cache-24ab64de83cac16f.arrow\n"
     ]
    }
   ],
   "source": [
    "import re\n",
    "\n",
    "def to_tools(row):\n",
    "    instruction = row[\"instruction\"]\n",
    "    tools = re.findall(r'toolformer access: (.+)\\n', instruction)[0]\n",
    "    row[\"tools\"] = tools\n",
    "    return row\n",
    "\n",
    "dataset = dataset.map(to_tools)"
   ]
  },
  {
   "cell_type": "code",
   "execution_count": 11,
   "id": "d56e9868-425f-4f43-ba4e-5572c0b4a758",
   "metadata": {},
   "outputs": [
    {
     "data": {
      "text/plain": [
       "Dataset({\n",
       "    features: ['instruction', 'input', 'response', 'example_input', 'example', 'tools'],\n",
       "    num_rows: 7673\n",
       "})"
      ]
     },
     "execution_count": 11,
     "metadata": {},
     "output_type": "execute_result"
    }
   ],
   "source": [
    "dataset"
   ]
  },
  {
   "cell_type": "code",
   "execution_count": 15,
   "id": "c12685a7-3936-4208-959c-2b93e7a39d23",
   "metadata": {
    "tags": []
   },
   "outputs": [],
   "source": [
    "from datetime import datetime, timedelta\n",
    "import random\n",
    "from random import randrange\n",
    "import re\n",
    "\n",
    "import names\n",
    "\n",
    "\n",
    "def random_date(start, end):\n",
    "    \"\"\"\n",
    "    This function will return a random datetime between two datetime \n",
    "    objects.\n",
    "    \"\"\"\n",
    "    delta = end - start\n",
    "    int_delta = (delta.days * 24 * 60 * 60) + delta.seconds\n",
    "    random_second = randrange(int_delta)\n",
    "    \n",
    "    return start + timedelta(seconds=random_second)\n",
    "\n",
    "date_formats = [\"%m/%d/%Y\", \"%d %B %Y\", \"%d/%m/%Y\", \"%Y-%m-%d\", \"%B %d, %Y\", \"%A, %B %d, %Y\"]\n",
    "\n",
    "human_date = lambda dt: dt.strftime(random.choice(date_formats))\n",
    "\n",
    "make_chatml_message = lambda role, content, tone=\"\", name=\"\": dict(\n",
    "    role=role,\n",
    "    content=(f\"[{tone}] \" if tone else \"\") + content,\n",
    "    name=name,\n",
    ")\n",
    "\n",
    "def transform_to_chatml(row):\n",
    "    instruction, input, response, example_input, example, tools = (\n",
    "        row['instruction'], row['input'], row['response'], row['example_input'], row['example'], row['tools']\n",
    "    )\n",
    "    \n",
    "    messages = []\n",
    "    \n",
    "    person_name = names.get_first_name(gender=\"male\")\n",
    "    some_date = human_date(random_date(\n",
    "        datetime(2013, 12, 18),  # Her release date\n",
    "        datetime(2023, 6, 10),  # Today\n",
    "    ))\n",
    "    \n",
    "    # Add system messages\n",
    "    messages.append(make_chatml_message(\n",
    "        role=\"system\",\n",
    "        name=\"situation\",\n",
    "        content=f\"{some_date}\\n\\nSamantha is talking to {person_name}. Samantha has the following tools available if she needs them: {tools}\",\n",
    "    ))\n",
    "\n",
    "    messages.append(make_chatml_message(\n",
    "        role=\"user\",\n",
    "        name=person_name,\n",
    "        content=example,\n",
    "    ))\n",
    "    \n",
    "    messages.append(make_chatml_message(\n",
    "        role=\"system\",\n",
    "        name=\"thought\",\n",
    "        content=\"This needs additional information. I need to use the tools in order to answer this.\",\n",
    "    ))\n",
    "\n",
    "    messages.append(make_chatml_message(\n",
    "        role=\"system\",\n",
    "        name=\"information\",\n",
    "        content=instruction,\n",
    "    ))\n",
    "    \n",
    "    messages.append(make_chatml_message(\n",
    "        role=\"system\",\n",
    "        name=\"thought\",\n",
    "        content=response,\n",
    "    ))\n",
    "\n",
    "    row[\"chatml\"] = messages\n",
    "    return row"
   ]
  },
  {
   "cell_type": "code",
   "execution_count": 16,
   "id": "5ad2b2fc-aae9-42ca-bf03-a63f971ecd9c",
   "metadata": {},
   "outputs": [
    {
     "data": {
      "application/vnd.jupyter.widget-view+json": {
       "model_id": "",
       "version_major": 2,
       "version_minor": 0
      },
      "text/plain": [
       "Map:   0%|          | 0/7673 [00:00<?, ? examples/s]"
      ]
     },
     "metadata": {},
     "output_type": "display_data"
    },
    {
     "name": "stdout",
     "output_type": "stream",
     "text": [
      "[{'content': 'Sunday, January 03, 2021\\n\\nSamantha is talking to Thomas. Samantha has the following tools available if she needs them: wolfram', 'name': 'situation', 'role': 'system'}, {'content': 'What is the distance between New York and San Francisco?', 'name': 'Thomas', 'role': 'user'}, {'content': 'This needs additional information. I need to use the tools in order to answer this.', 'name': 'thought', 'role': 'system'}, {'content': 'toolformer: enabled\\ntoolformer access: wolfram\\nA wolfram alpha search engine. Useful for when you need to answer questions about Math, Science, Technology, Culture, Society and Everyday Life. Input should be a search query.\\nwolfram(query)\\nCalculate the distance between two given cities.', 'name': 'information', 'role': 'system'}, {'content': \"The distance between New York and San Francisco is: wolfram('distance between New York and San Francisco')\", 'name': 'thought', 'role': 'system'}]\n"
     ]
    }
   ],
   "source": [
    "dataset = dataset.map(transform_to_chatml)\n",
    "print(dataset[10][\"chatml\"])"
   ]
  },
  {
   "cell_type": "code",
   "execution_count": 17,
   "id": "6cc41fc9-3a4d-4957-b23f-0b5e8f0f85e2",
   "metadata": {},
   "outputs": [],
   "source": [
    "assistant_me_map = {\n",
    "    \"user\": \"person\",\n",
    "    \"assistant\": \"me\",\n",
    "}\n",
    "\n",
    "def make_sections(messages: list[dict]) -> str:\n",
    "    eos_token = \"<|im_end|>\"\n",
    "    bos_token = \"<|im_start|>\"\n",
    "\n",
    "    result = bos_token + (eos_token+'\\n'+bos_token).join([\n",
    "        (\n",
    "            f\"{message['name']}\"\n",
    "            if message['role'] == 'system' else\n",
    "            f\"{assistant_me_map[message['role']]}{' (' + message['name'] + ')' if message['name'] else ''}\"\n",
    "        )\n",
    "        + f\"\\n{message['content'].strip()}\"\n",
    "        for message in messages\n",
    "    ]) + eos_token\n",
    "    \n",
    "    return result\n",
    "    \n",
    "\n",
    "def transform_to_samantha_dialog(sample):\n",
    "\n",
    "    messages = sample[\"chatml\"]\n",
    "    sample[\"text\"] = make_sections(messages)\n",
    "    \n",
    "    return sample"
   ]
  },
  {
   "cell_type": "code",
   "execution_count": 18,
   "id": "9595b542-25e8-4fe6-bb64-1a7df38ac7b3",
   "metadata": {},
   "outputs": [
    {
     "data": {
      "application/vnd.jupyter.widget-view+json": {
       "model_id": "",
       "version_major": 2,
       "version_minor": 0
      },
      "text/plain": [
       "Map:   0%|          | 0/7673 [00:00<?, ? examples/s]"
      ]
     },
     "metadata": {},
     "output_type": "display_data"
    },
    {
     "name": "stdout",
     "output_type": "stream",
     "text": [
      "<|im_start|>situation\n",
      "Sunday, January 03, 2021\n",
      "\n",
      "Samantha is talking to Thomas. Samantha has the following tools available if she needs them: wolfram<|im_end|>\n",
      "<|im_start|>person (Thomas)\n",
      "What is the distance between New York and San Francisco?<|im_end|>\n",
      "<|im_start|>thought\n",
      "This needs additional information. I need to use the tools in order to answer this.<|im_end|>\n",
      "<|im_start|>information\n",
      "toolformer: enabled\n",
      "toolformer access: wolfram\n",
      "A wolfram alpha search engine. Useful for when you need to answer questions about Math, Science, Technology, Culture, Society and Everyday Life. Input should be a search query.\n",
      "wolfram(query)\n",
      "Calculate the distance between two given cities.<|im_end|>\n",
      "<|im_start|>thought\n",
      "The distance between New York and San Francisco is: wolfram('distance between New York and San Francisco')<|im_end|>\n"
     ]
    }
   ],
   "source": [
    "dataset = dataset.map(transform_to_samantha_dialog)\n",
    "print(dataset[10][\"text\"])"
   ]
  },
  {
   "cell_type": "code",
   "execution_count": 19,
   "id": "0aeceb12-c659-42c8-82d0-b4db1c7a39c0",
   "metadata": {},
   "outputs": [
    {
     "data": {
      "text/plain": [
       "['instruction',\n",
       " 'input',\n",
       " 'response',\n",
       " 'example_input',\n",
       " 'example',\n",
       " 'tools',\n",
       " 'chatml',\n",
       " 'text']"
      ]
     },
     "execution_count": 19,
     "metadata": {},
     "output_type": "execute_result"
    }
   ],
   "source": [
    "dataset.column_names"
   ]
  },
  {
   "cell_type": "code",
   "execution_count": 20,
   "id": "e5847be7-e898-4372-be79-2041f91ac3c0",
   "metadata": {
    "tags": []
   },
   "outputs": [],
   "source": [
    "dataset = dataset.remove_columns([\n",
    "    'instruction',\n",
    "    'input',\n",
    "    'response',\n",
    "    'example_input',\n",
    "    'example',\n",
    "    'tools'\n",
    "])"
   ]
  },
  {
   "cell_type": "code",
   "execution_count": 22,
   "id": "f1aca003-9ad4-4671-8375-ba8238eb966e",
   "metadata": {
    "tags": []
   },
   "outputs": [
    {
     "data": {
      "application/vnd.jupyter.widget-view+json": {
       "model_id": "feb341ded9604af28604d364906138a0",
       "version_major": 2,
       "version_minor": 0
      },
      "text/plain": [
       "Pushing dataset shards to the dataset hub:   0%|          | 0/1 [00:00<?, ?it/s]"
      ]
     },
     "metadata": {},
     "output_type": "display_data"
    },
    {
     "data": {
      "application/vnd.jupyter.widget-view+json": {
       "model_id": "57928211d4e94911ae96187d9ae1d836",
       "version_major": 2,
       "version_minor": 0
      },
      "text/plain": [
       "Creating parquet from Arrow format:   0%|          | 0/8 [00:00<?, ?ba/s]"
      ]
     },
     "metadata": {},
     "output_type": "display_data"
    }
   ],
   "source": [
    "dataset.push_to_hub(\"diwank/samantha-toolformer-dataset\", private=True)"
   ]
  },
  {
   "cell_type": "code",
   "execution_count": null,
   "id": "149e2819-fddf-4465-b8e2-f2bca708f392",
   "metadata": {},
   "outputs": [],
   "source": []
  }
 ],
 "metadata": {
  "kernelspec": {
   "display_name": "Python 3 (ipykernel)",
   "language": "python",
   "name": "python3"
  },
  "language_info": {
   "codemirror_mode": {
    "name": "ipython",
    "version": 3
   },
   "file_extension": ".py",
   "mimetype": "text/x-python",
   "name": "python",
   "nbconvert_exporter": "python",
   "pygments_lexer": "ipython3",
   "version": "3.10.11"
  }
 },
 "nbformat": 4,
 "nbformat_minor": 5
}
