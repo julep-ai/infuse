{
 "cells": [
  {
   "cell_type": "code",
   "execution_count": 1,
   "id": "67c70931-57f0-401a-a201-699c199cbf43",
   "metadata": {},
   "outputs": [
    {
     "name": "stderr",
     "output_type": "stream",
     "text": [
      "Found cached dataset parquet (/home/diwank/.cache/huggingface/datasets/diwank___parquet/diwank--samantha-toolformer-dataset-40fc10ef8af98ee4/0.0.0/2a3b91fbd88a2c90d1dbbb32b460cf621d31bd5b05b934492fdef7d8d6f236ec)\n"
     ]
    },
    {
     "data": {
      "application/vnd.jupyter.widget-view+json": {
       "model_id": "bd1bfc03da2d436eaae6e83dce932be0",
       "version_major": 2,
       "version_minor": 0
      },
      "text/plain": [
       "  0%|          | 0/1 [00:00<?, ?it/s]"
      ]
     },
     "metadata": {},
     "output_type": "display_data"
    }
   ],
   "source": [
    "from datasets import load_dataset\n",
    "\n",
    "dataset = load_dataset(\"diwank/samantha-toolformer-dataset\")"
   ]
  },
  {
   "cell_type": "code",
   "execution_count": 6,
   "id": "d51be35e-1207-4a2a-8a80-76705c4b93b4",
   "metadata": {},
   "outputs": [],
   "source": [
    "remove_t = lambda text: (\n",
    "    text\n",
    "    .replace(\"toolformer: enabled\\n\", \"\")\n",
    "    .replace(\"toolformer access:\", \"Tools available:\")\n",
    ")\n",
    "\n",
    "def remove_toolformer(row):\n",
    "    chatml = row['chatml']\n",
    "    text = row['text']\n",
    "\n",
    "    text = remove_t(text)\n",
    "\n",
    "    chatml_idx_to_edit = [\n",
    "        idx \n",
    "        for idx, s in enumerate(chatml)\n",
    "        if 'toolformer' in s['content']\n",
    "    ][0]\n",
    "\n",
    "    chatml[chatml_idx_to_edit][\"content\"] = remove_t(\n",
    "        chatml[chatml_idx_to_edit][\"content\"]\n",
    "    )\n",
    "\n",
    "    return dict(chatml=chatml, text=text)"
   ]
  },
  {
   "cell_type": "code",
   "execution_count": 7,
   "id": "02f839cf-ff14-494c-ada4-8ec1a7304b65",
   "metadata": {},
   "outputs": [
    {
     "data": {
      "application/vnd.jupyter.widget-view+json": {
       "model_id": "",
       "version_major": 2,
       "version_minor": 0
      },
      "text/plain": [
       "Map:   0%|          | 0/7673 [00:00<?, ? examples/s]"
      ]
     },
     "metadata": {},
     "output_type": "display_data"
    }
   ],
   "source": [
    "dataset = dataset.map(remove_toolformer)"
   ]
  },
  {
   "cell_type": "code",
   "execution_count": 8,
   "id": "ba8d3629-8c93-47db-ae4c-c0b09923a3f1",
   "metadata": {},
   "outputs": [
    {
     "data": {
      "text/plain": [
       "[{'content': '09 November 2020\\n\\nSamantha is talking to Lawrence. Samantha has the following tools available if she needs them: wikipedia',\n",
       "  'name': 'situation',\n",
       "  'role': 'system'},\n",
       " {'content': 'What was the cause of the French Revolution?',\n",
       "  'name': 'Lawrence',\n",
       "  'role': 'user'},\n",
       " {'content': 'This needs additional information. I need to use the tools in order to answer this.',\n",
       "  'name': 'thought',\n",
       "  'role': 'system'},\n",
       " {'content': 'Tools available: wikipedia\\nA wrapper around Wikipedia. Useful for when you need to display general information about people, places, companies, historical events, or other subjects found in an encyclopedia, displays a snippet summary of the topic. Input should be a search query.\\nwikipedia(query)\\nProvide a summary of a famous historical event based on the input event given',\n",
       "  'name': 'information',\n",
       "  'role': 'system'},\n",
       " {'content': \"Summary of the French Revolution: wikipedia('French Revolution')\",\n",
       "  'name': 'thought',\n",
       "  'role': 'system'}]"
      ]
     },
     "execution_count": 8,
     "metadata": {},
     "output_type": "execute_result"
    }
   ],
   "source": [
    "dataset['train'][0]['chatml']"
   ]
  },
  {
   "cell_type": "code",
   "execution_count": 9,
   "id": "da7a3b1d-8542-4c22-bd91-f879019e48c6",
   "metadata": {},
   "outputs": [
    {
     "name": "stderr",
     "output_type": "stream",
     "text": [
      "Pushing split train to the Hub.\n"
     ]
    },
    {
     "data": {
      "application/vnd.jupyter.widget-view+json": {
       "model_id": "9d96a758fbdd46f1a348c0aa1c0f2ed0",
       "version_major": 2,
       "version_minor": 0
      },
      "text/plain": [
       "Pushing dataset shards to the dataset hub:   0%|          | 0/1 [00:00<?, ?it/s]"
      ]
     },
     "metadata": {},
     "output_type": "display_data"
    },
    {
     "data": {
      "application/vnd.jupyter.widget-view+json": {
       "model_id": "c7442ed11e51418e90d2fc4df1f62861",
       "version_major": 2,
       "version_minor": 0
      },
      "text/plain": [
       "Creating parquet from Arrow format:   0%|          | 0/8 [00:00<?, ?ba/s]"
      ]
     },
     "metadata": {},
     "output_type": "display_data"
    },
    {
     "data": {
      "application/vnd.jupyter.widget-view+json": {
       "model_id": "81e5c7bb95b3431fa688bab33f41cf56",
       "version_major": 2,
       "version_minor": 0
      },
      "text/plain": [
       "Upload 1 LFS files:   0%|          | 0/1 [00:00<?, ?it/s]"
      ]
     },
     "metadata": {},
     "output_type": "display_data"
    },
    {
     "data": {
      "application/vnd.jupyter.widget-view+json": {
       "model_id": "5608a12ede9f4e47801e595c497a7353",
       "version_major": 2,
       "version_minor": 0
      },
      "text/plain": [
       "Deleting unused files from dataset repository:   0%|          | 0/1 [00:00<?, ?it/s]"
      ]
     },
     "metadata": {},
     "output_type": "display_data"
    }
   ],
   "source": [
    "dataset.push_to_hub(\"diwank/samantha-toolformer-dataset\", private=True)"
   ]
  },
  {
   "cell_type": "code",
   "execution_count": null,
   "id": "9d25bdf3-423f-48f4-810d-07fa8bd813b6",
   "metadata": {},
   "outputs": [],
   "source": []
  }
 ],
 "metadata": {
  "kernelspec": {
   "display_name": "Python 3 (ipykernel)",
   "language": "python",
   "name": "python3"
  },
  "language_info": {
   "codemirror_mode": {
    "name": "ipython",
    "version": 3
   },
   "file_extension": ".py",
   "mimetype": "text/x-python",
   "name": "python",
   "nbconvert_exporter": "python",
   "pygments_lexer": "ipython3",
   "version": "3.10.11"
  }
 },
 "nbformat": 4,
 "nbformat_minor": 5
}
