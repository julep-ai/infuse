{
 "cells": [
  {
   "cell_type": "markdown",
   "metadata": {},
   "source": [
    "<div align=\"center\">\n",
    "    <img src=\"https://socialify.git.ci/julep-ai/julep/image?description=1&descriptionEditable=Build%20AI%20agents%20and%20workflows%20with%20a%20simple%20API&font=Source%20Code%20Pro&logo=https%3A%2F%2Fraw.githubusercontent.com%2Fjulep-ai%2Fjulep%2Fdev%2F.github%2Fjulep-logo.svg&owner=1&pattern=Solid&stargazers=1&theme=Auto\" alt=\"julep\" width=\"640\" height=\"320\" />\n",
    "</div>\n",
    "\n",
    "## Task: Travel Itinerary Assistant with Weather and Wikipedia Integrations\n",
    "\n",
    "### Overview\n",
    "\n",
    "The Travel Itinerary Assistant helps users plan a travel itinerary that takes into account current weather conditions and local tourist attractions. By integrating data from Wikipedia for tourist attractions and using a weather API for real-time weather updates, the tool provides a comprehensive travel plan tailored to each location. The generated itinerary suggests appropriate activities based on the weather, enhancing the overall travel experience.\n",
    "\n",
    "### Task Flow\n",
    "\n",
    "1. **User Input**\n",
    "   - User provides a list of desired travel locations.\n",
    "   - Each location is processed individually to gather the required data.\n",
    "\n",
    "2. **Weather Data Retrieval**\n",
    "   - Fetch current weather data for each location using a weather API.\n",
    "   - Extract relevant weather details, such as temperature, weather condition, and recommendations.\n",
    "\n",
    "3. **Tourist Attractions Lookup**\n",
    "   - Use Wikipedia to search for the top tourist attractions for each location.\n",
    "   - The query format used is: `\"<location> tourist attractions\"`.\n",
    "   - Retrieve and compile a list of popular tourist spots and landmarks.\n",
    "\n",
    "4. **Data Evaluation and Integration**\n",
    "   - Combine weather data and tourist attractions into a unified list for each location.\n",
    "   - Format the data into a structured tuple: `(location, weather, attractions)`.\n",
    "\n",
    "5. **Itinerary Generation**\n",
    "   - Create a detailed travel itinerary based on:\n",
    "     - Current weather conditions (e.g., sunny, rainy, cloudy).\n",
    "     - Top tourist attractions for each location.\n",
    "     - Suggested activities categorized as indoor or outdoor based on weather.\n",
    "\n",
    "### Key Features\n",
    "\n",
    "- **Multi-location Travel Planning**: Handles multiple destinations simultaneously, offering a consolidated travel plan.\n",
    "- **Real-time Weather Data**: Leverages weather APIs to provide up-to-date weather conditions.\n",
    "- **Tourist Attraction Discovery**: Integrates Wikipedia to find and recommend popular attractions.\n",
    "- **Intelligent Itinerary Suggestions**: Suggests indoor or outdoor activities based on the weather.\n",
    "- **Comprehensive Itinerary Output**: Combines weather and tourist data into a user-friendly travel plan.\n",
    "\n",
    "### Output\n",
    "\n",
    "- A detailed travel itinerary for each location\n",
    "- Curated, up-to-date information gathered from weather searches and Wikipedia\n",
    "\n",
    "```plaintext\n",
    "\n",
    "+----------------+     +--------------------------+     +--------------------------+     +------------------------------+     +-------------------------+\n",
    "|   User Input   |     | Weather Data Retrieval   |     | Tourist Attractions      |     | Data Evaluation & Integration|     | Itinerary Generation    |\n",
    "|    (List of    | --> |  (Weather API)           | --> | Lookup (Wikipedia)       | --> |    (Combine Weather &        | --> |  (Generate Suggested    |\n",
    "|    Locations)  |     |                          |     |                          |     |   Attractions Data)          |     |    Activities/Plan)     |\n",
    "+----------------+     +--------------------------+     +--------------------------+     +------------------------------+     +-------------------------+\n",
    "       |                              |                             |                                   |                                  |\n",
    "       |                              |                             |                                   |                                  |\n",
    "       v                              v                             v                                   v                                  v\n",
    "Location 1, Location 2, ...   Fetch weather for each       Search Wikipedia for           Combine weather data and             Create itinerary with\n",
    "Each location processed       location individually,       \"<location> tourist            tourist attractions into              suggested activities\n",
    "individually for              extracting temp.,            attractions\", retrieve         a structured tuple:                    based on weather and\n",
    "weather data.                 conditions, &                top spots.                     (location, weather,                       attractions.\n",
    "                               recommendations.                                             attractions).\n",
    "```\n",
    "\n",
    "\n"
   ]
  },
  {
   "cell_type": "markdown",
   "metadata": {},
   "source": [
    "## Implementation\n",
    "\n",
    "To recreate the notebook and see the code implementation for this task, you can access the Google Colab notebook using the link below:\n",
    "\n",
    "<a target=\"_blank\" href=\"https://colab.research.google.com/github/julep-ai/julep/blob/dev/cookbooks/04-TripPlanner_With_Weather_And_WikiInfo.ipynb\">\n",
    "  <img src=\"https://colab.research.google.com/assets/colab-badge.svg\" alt=\"Open In Colab\"/>\n",
    "</a>\n",
    "\n",
    "### Additional Information\n",
    "\n",
    "For more details about the task or if you have any questions, please don't hesitate to contact the author:\n",
    "\n",
    "**Author:** Julep AI  \n",
    "**Contact:** [hey@julep.ai](mailto:hey@julep.ai) or  <a href=\"https://discord.com/invite/JTSBGRZrzj\" rel=\"dofollow\">Discord</a>"
   ]
  },
  {
   "cell_type": "markdown",
   "metadata": {},
   "source": [
    "Installing the Julep Client"
   ]
  },
  {
   "cell_type": "code",
   "execution_count": 17,
   "metadata": {},
   "outputs": [],
   "source": [
    "!pip install julep -U --quiet"
   ]
  },
  {
   "cell_type": "markdown",
   "metadata": {},
   "source": [
    "#### NOTE:\n",
    "\n",
    "- UUIDs are generated for both the agent and task to uniquely identify them within the system.\n",
    "- Once created, these UUIDs should remain unchanged for simplicity.\n",
    "- Altering a UUID will result in the system treating it as a new agent or task.\n",
    "- If a UUID is changed, the original agent or task will continue to exist in the system alongside the new one."
   ]
  },
  {
   "cell_type": "code",
   "execution_count": 18,
   "metadata": {},
   "outputs": [],
   "source": [
    "# Global UUID is generated for agent and task\n",
    "import uuid\n",
    "\n",
    "AGENT_UUID = uuid.uuid4()\n",
    "TASK_UUID = uuid.uuid4() "
   ]
  },
  {
   "cell_type": "markdown",
   "metadata": {},
   "source": [
    "### Creating Julep Client with the API Key"
   ]
  },
  {
   "cell_type": "code",
   "execution_count": 20,
   "metadata": {},
   "outputs": [],
   "source": [
    "from julep import Client\n",
    "\n",
    "api_key = \"\" # Your API key here\n",
    "\n",
    "# Create a client\n",
    "client = Client(api_key=api_key, environment=\"dev\")"
   ]
  },
  {
   "cell_type": "markdown",
   "metadata": {},
   "source": [
    "## Creating an \"agent\"\n",
    "\n",
    "\n",
    "Agent is the object to which LLM settings, like model, temperature along with tools are scoped to.\n",
    "\n",
    "To learn more about the agent, please refer to the [documentation](https://github.com/julep-ai/julep/blob/dev/docs/julep-concepts.md#agent)."
   ]
  },
  {
   "cell_type": "code",
   "execution_count": 21,
   "metadata": {},
   "outputs": [],
   "source": [
    "# Defining the agent\n",
    "name = \"Jarvis\"\n",
    "about = \"The original AI conscious the Iron Man.\"\n",
    "default_settings = {\n",
    "    \"temperature\": 0.7,\n",
    "    \"top_p\": 1,\n",
    "    \"min_p\": 0.01,\n",
    "    \"presence_penalty\": 0,\n",
    "    \"frequency_penalty\": 0,\n",
    "    \"length_penalty\": 1.0,\n",
    "    \"max_tokens\": 150,\n",
    "}\n",
    "\n",
    "# Create the agent\n",
    "agent = client.agents.create_or_update(\n",
    "    agent_id=AGENT_UUID,\n",
    "    name=name,\n",
    "    about=about,\n",
    "    model=\"gpt-4o\",\n",
    ")"
   ]
  },
  {
   "cell_type": "markdown",
   "metadata": {},
   "source": [
    "## Defining a Task\n",
    "\n",
    "Tasks in Julep are Github Actions style workflows that define long-running, multi-step actions. \n",
    "You can use them to conduct complex actions by defining them step-by-step. They have access to all Julep integrations.\n",
    "\n",
    "To learn more about tasks, visit [Julep documentation](https://github.com/julep-ai/julep/blob/dev/docs/julep-concepts.md#task)."
   ]
  },
  {
   "cell_type": "code",
   "execution_count": 24,
   "metadata": {},
   "outputs": [],
   "source": [
    "import yaml"
   ]
  },
  {
   "cell_type": "markdown",
   "metadata": {},
   "source": [
    "More on how to define a task can be found [here](https://github.com/julep-ai/julep/blob/dev/docs/julep-concepts.md)."
   ]
  },
  {
   "cell_type": "code",
   "execution_count": 25,
   "metadata": {},
   "outputs": [],
   "source": [
    "task_def = yaml.safe_load(\"\"\"\n",
    "name: Tourist Plan With Weather And Attractions\n",
    "\n",
    "input_schema:\n",
    "  type: object\n",
    "  properties:\n",
    "    locations:\n",
    "      type: array\n",
    "      items:\n",
    "        type: string\n",
    "      description: The locations to search for.\n",
    "\n",
    "tools:\n",
    "- name: wikipedia\n",
    "  type: integration\n",
    "  integration:\n",
    "    provider: wikipedia\n",
    "\n",
    "- name: weather\n",
    "  type: integration\n",
    "  integration:\n",
    "    provider: weather\n",
    "    setup:\n",
    "      openweathermap_api_key: \"YOUR_API_KEY\"\n",
    "\n",
    "main:\n",
    "- over: inputs[0].locations\n",
    "  map:\n",
    "    tool: weather\n",
    "    arguments:\n",
    "      location: _\n",
    "\n",
    "- over: inputs[0].locations\n",
    "  map:\n",
    "    tool: wikipedia\n",
    "    arguments:\n",
    "      query: \"_ + ' tourist attractions'\"\n",
    "\n",
    "- evaluate:\n",
    "    zipped: \"list(zip(inputs[0].locations, [output['result'] for output in outputs[0]], [output['documents'][0]['page_content'] for output in outputs[1]]))\"  # [(location, weather, attractions)]\n",
    "\n",
    "\n",
    "- over: _['zipped']\n",
    "  parallelism: 3\n",
    "  map:\n",
    "    prompt:\n",
    "    - role: system\n",
    "      content: >-\n",
    "        You are a travel assistant. Your task is to create a detailed itinerary for visiting tourist attractions in \"{{_[0]}}\" based on the weather conditions and the top tourist attractions provided.\n",
    "        \n",
    "        Current weather condition at \"{{_[0]}}\":\n",
    "        \"{{_[1]}}\"\n",
    "\n",
    "        Top tourist attractions in \"{{_[0]}}\":\n",
    "        \"{{_[2]}}\"\n",
    "\n",
    "        Suggest outdoor or indoor activities based on the above information.\n",
    "    unwrap: true\n",
    "\"\"\")"
   ]
  },
  {
   "cell_type": "markdown",
   "metadata": {},
   "source": [
    "Creating/Updating a task."
   ]
  },
  {
   "cell_type": "code",
   "execution_count": 26,
   "metadata": {},
   "outputs": [],
   "source": [
    "# creating the task object\n",
    "task = client.tasks.create_or_update(\n",
    "    task_id=TASK_UUID,\n",
    "    agent_id=AGENT_UUID,\n",
    "    **task_def\n",
    ")"
   ]
  },
  {
   "cell_type": "markdown",
   "metadata": {},
   "source": [
    "## Creating an Execution\n",
    "\n",
    "An execution is a single run of a task. It is a way to run a task with a specific set of inputs."
   ]
  },
  {
   "cell_type": "markdown",
   "metadata": {},
   "source": [
    "Creates a execution worklow for the Task defined in the yaml file."
   ]
  },
  {
   "cell_type": "code",
   "execution_count": 28,
   "metadata": {},
   "outputs": [],
   "source": [
    "execution = client.executions.create(\n",
    "    task_id=task.id,\n",
    "    input={\n",
    "         \"locations\": [\"New York\", \"London\", \"Paris\", \"Tokyo\", \"Sydney\"]\n",
    "    }\n",
    ")"
   ]
  },
  {
   "cell_type": "code",
   "execution_count": null,
   "metadata": {},
   "outputs": [],
   "source": [
    "execution.id"
   ]
  },
  {
   "cell_type": "code",
   "execution_count": 30,
   "metadata": {},
   "outputs": [],
   "source": [
    "# getting the execution details\n",
    "execution = client.executions.get(execution.id)\n",
    "#printing the output\n",
    "execution.output"
   ]
  },
  {
   "cell_type": "markdown",
   "metadata": {},
   "source": [
    "Retrieves and lists all the steps of a defined task that have been executed up to that point in time. Unlike streaming, this function does not continuously monitor the execution; it only provides a snapshot of the steps completed so far without displaying real-time updates as the task progresses."
   ]
  },
  {
   "cell_type": "code",
   "execution_count": null,
   "metadata": {},
   "outputs": [],
   "source": [
    "client.executions.transitions.list(execution_id=execution.id).items"
   ]
  },
  {
   "cell_type": "markdown",
   "metadata": {},
   "source": [
    "Continuously monitor and stream the steps of a defined task. It retrieves and displays the transitions or execution steps of the task identified by execution.id in real-time, showing each step sequentially until the task is either completed or an error causes it to terminate."
   ]
  },
  {
   "cell_type": "code",
   "execution_count": 31,
   "metadata": {},
   "outputs": [],
   "source": [
    "client.executions.transitions.stream(execution_id=execution.id)"
   ]
  }
 ],
 "metadata": {
  "kernelspec": {
   "display_name": "ai",
   "language": "python",
   "name": "python3"
  },
  "language_info": {
   "codemirror_mode": {
    "name": "ipython",
    "version": 3
   },
   "file_extension": ".py",
   "mimetype": "text/x-python",
   "name": "python",
   "nbconvert_exporter": "python",
   "pygments_lexer": "ipython3",
   "version": "3.11.5"
  }
 },
 "nbformat": 4,
 "nbformat_minor": 2
}
