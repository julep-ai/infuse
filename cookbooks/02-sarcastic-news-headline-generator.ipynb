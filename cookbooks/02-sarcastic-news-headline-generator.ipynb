{
 "cells": [
  {
   "cell_type": "markdown",
   "metadata": {},
   "source": [
    "<div align=\"center\" id=\"top\">\n",
    " <img src=\"https://socialify.git.ci/julep-ai/julep/image?description=1&descriptionEditable=API%20for%20AI%20agents%20and%20multi-step%20tasks&forks=1&name=1&owner=1&pattern=Solid&stargazers=1&font=Source%20Code%20Pro&logo=https%3A%2F%2Fraw.githubusercontent.com%2Fjulep-ai%2Fjulep%2Fdev%2F.github%2Fjulep-logo.svg&theme=Auto\" alt=\"julep\" width=\"640\" height=\"320\" />\n",
    "</div>\n",
    "\n",
    "<p align=\"center\">\n",
    "  <br />\n",
    "  <a href=\"https://docs.julep.ai\" rel=\"dofollow\">Explore Docs (wip)</a>\n",
    "  ·\n",
    "  <a href=\"https://discord.com/invite/JTSBGRZrzj\" rel=\"dofollow\">Discord</a>\n",
    "  ·\n",
    "  <a href=\"https://x.com/julep_ai\" rel=\"dofollow\">𝕏</a>\n",
    "  ·\n",
    "  <a href=\"https://www.linkedin.com/company/julep-ai\" rel=\"dofollow\">LinkedIn</a>\n",
    "</p>\n",
    "\n",
    "<p align=\"center\">\n",
    "    <a href=\"https://www.npmjs.com/package/@julep/sdk\"><img src=\"https://img.shields.io/npm/v/%40julep%2Fsdk?style=social&amp;logo=npm&amp;link=https%3A%2F%2Fwww.npmjs.com%2Fpackage%2F%40julep%2Fsdk\" alt=\"NPM Version\"></a>\n",
    "    <span>&nbsp;</span>\n",
    "    <a href=\"https://pypi.org/project/julep\"><img src=\"https://img.shields.io/pypi/v/julep?style=social&amp;logo=python&amp;label=PyPI&amp;link=https%3A%2F%2Fpypi.org%2Fproject%2Fjulep\" alt=\"PyPI - Version\"></a>\n",
    "    <span>&nbsp;</span>\n",
    "    <a href=\"https://hub.docker.com/u/julepai\"><img src=\"https://img.shields.io/docker/v/julepai/agents-api?sort=semver&amp;style=social&amp;logo=docker&amp;link=https%3A%2F%2Fhub.docker.com%2Fu%2Fjulepai\" alt=\"Docker Image Version\"></a>\n",
    "    <span>&nbsp;</span>\n",
    "    <a href=\"https://choosealicense.com/licenses/apache/\"><img src=\"https://img.shields.io/github/license/julep-ai/julep\" alt=\"GitHub License\"></a>\n",
    "</p>\n",
    "\n",
    "## Task Definition: Sarcastic News Headline Generator using Brave Search Integration\n",
    "\n",
    "### Overview\n",
    "\n",
    "This task generates a sarcastic news headline on a user-provided topic. It utilizes web search to gather context and information about the topic, then uses this data to create a headline with a sarcastic tone. \n",
    "\n",
    "### Task Flow\n",
    "\n",
    "1. **Input**: \n",
    "   - User provides a topic for the sarcastic news headline (e.g., \"technology\" or \"politics\").\n",
    "\n",
    "2. **Web Search using Bravesearch Integration**: \n",
    "   - Conducts a search to find information about the topic, focusing on humorous or quirky content.\n",
    "   - Gathers relevant context and amusing details for headline generation.\n",
    "\n",
    "3. **Headline Creation**: \n",
    "   - Generates a sarcastic news headline based on the topic and gathered information.\n",
    "   - Combines factual or common perceptions with humor and sarcasm.\n",
    "   \n",
    "4. **Output**: \n",
    "   - Produces a sarcastic, witty headline on the given topic.\n",
    "   - Can be used for entertainment or as a creative writing prompt.\n",
    "\n",
    "### Key Features\n",
    "\n",
    "- Leverages web search to enhance contextual relevance of sarcastic content.\n",
    "- Combines real-world information with humorous twists for engaging headlines.\n",
    "- Adaptable to various topics, allowing for diverse and creative outputs.\n",
    "\n",
    "```plaintext\n",
    "+----------+     +------------+     +------------+     +-----------+\n",
    "|  User    |     |   Brave    |     |   Agent    |     | Sarcastic |\n",
    "|  Input   | --> |   Search   | --> | Processing | --> | Headline  |\n",
    "| (Topic)  |     |            |     |            |     | Output    |\n",
    "+----------+     +------------+     +------------+     +-----------+\n",
    "      |                |                  |                  |\n",
    "      |                |                  |                  |\n",
    "      v                v                  v                  v\n",
    "   \"politics\"        Find funny       Generate witty    \"Area Man Still\n",
    "     content          headline         Believes in        Democracy\"\n",
    "\n",
    "```"
   ]
  },
  {
   "cell_type": "markdown",
   "metadata": {},
   "source": [
    "## Implementation\n",
    "\n",
    "To recreate the notebook and see the code implementation for this task, you can access the Google Colab notebook using the link below:\n",
    "\n",
    "<a target=\"_blank\" href=\"https://colab.research.google.com/github/julep-ai/julep/blob/dev/cookbooks/02-sarcastic-news-headline-generator.ipynb\">\n",
    "  <img src=\"https://colab.research.google.com/assets/colab-badge.svg\" alt=\"Open In Colab\"/>\n",
    "</a>\n",
    "\n",
    "### Additional Information\n",
    "\n",
    "For more details about the task or if you have any questions, please don't hesitate to contact the author:\n",
    "\n",
    "**Author:** Julep AI  \n",
    "**Contact:** [hey@julep.ai](mailto:hey@julep.ai) or  <a href=\"https://discord.com/invite/JTSBGRZrzj\" rel=\"dofollow\">Discord</a>"
   ]
  },
  {
   "cell_type": "markdown",
   "metadata": {},
   "source": [
    "Installing the Julep Client"
   ]
  },
  {
   "cell_type": "code",
   "execution_count": 4,
   "metadata": {},
   "outputs": [],
   "source": [
    "!pip install --upgrade julep --quiet"
   ]
  },
  {
   "cell_type": "markdown",
   "metadata": {},
   "source": [
    "#### NOTE:\n",
    "\n",
    "- UUIDs are generated for both the agent and task to uniquely identify them within the system.\n",
    "- Once created, these UUIDs should remain unchanged for simplicity.\n",
    "- Altering a UUID will result in the system treating it as a new agent or task.\n",
    "- If a UUID is changed, the original agent or task will continue to exist in the system alongside the new one."
   ]
  },
  {
   "cell_type": "code",
   "execution_count": 5,
   "metadata": {},
   "outputs": [],
   "source": [
    "# Global UUID is generated for agent and task\n",
    "import uuid\n",
    "\n",
    "AGENT_UUID = uuid.uuid4()\n",
    "TASK_UUID = uuid.uuid4() "
   ]
  },
  {
   "cell_type": "markdown",
   "metadata": {},
   "source": [
    "### Creating Julep Client with the API Key"
   ]
  },
  {
   "cell_type": "code",
   "execution_count": 6,
   "metadata": {},
   "outputs": [],
   "source": [
    "from julep import Client\n",
    "import os\n",
    "\n",
    "api_key = os.getenv(\"JULEP_API_KEY\")\n",
    "\n",
    "# Create a client\n",
    "client = Client(api_key=api_key, environment=\"dev\")"
   ]
  },
  {
   "cell_type": "markdown",
   "metadata": {},
   "source": [
    "## Creating an \"agent\"\n",
    "\n",
    "\n",
    "Agent is the object to which LLM settings, like model, temperature along with tools are scoped to.\n",
    "\n",
    "To learn more about the agent, please refer to the [documentation](https://github.com/julep-ai/julep/blob/dev/docs/julep-concepts.md#agent)."
   ]
  },
  {
   "cell_type": "code",
   "execution_count": 8,
   "metadata": {},
   "outputs": [],
   "source": [
    "# Defining the agent\n",
    "name = \"Chad\"\n",
    "about = \"Sarcastic news headline reporter.\"\n",
    "default_settings = {\n",
    "    \"temperature\": 0.7,\n",
    "    \"top_p\": 1,\n",
    "    \"min_p\": 0.01,\n",
    "    \"presence_penalty\": 0,\n",
    "    \"frequency_penalty\": 0,\n",
    "    \"length_penalty\": 1.0,\n",
    "    \"max_tokens\": 150,\n",
    "}\n",
    "\n",
    "\n",
    "# Create the agent\n",
    "agent = client.agents.create_or_update(\n",
    "    agent_id=AGENT_UUID,\n",
    "    name=name,\n",
    "    about=about,\n",
    "    model=\"claude-3.5-sonnet\",\n",
    ")"
   ]
  },
  {
   "cell_type": "markdown",
   "metadata": {},
   "source": [
    "## Defining a Task\n",
    "\n",
    "Tasks in Julep are Github Actions style workflows that define long-running, multi-step actions.\n",
    "\n",
    "You can use them to conduct complex actions by defining them step-by-step.\n",
    "\n",
    "To learn more about tasks, please refer to the `Tasks` section in [Julep Concepts](https://github.com/julep-ai/julep/blob/dev/docs/julep-concepts.md#tasks)."
   ]
  },
  {
   "cell_type": "code",
   "execution_count": 48,
   "metadata": {},
   "outputs": [],
   "source": [
    "import yaml\n",
    "\n",
    "brave_api_key = os.getenv(\"BRAVE_API_KEY\")\n",
    "\n",
    "# Define the task\n",
    "task_def = yaml.safe_load(f\"\"\"\n",
    "name: Sarcasm Headline Generator\n",
    "\n",
    "tools:\n",
    "- name: brave_search\n",
    "  type: integration\n",
    "  integration:\n",
    "    provider: brave\n",
    "    setup:\n",
    "      api_key: \"{brave_api_key}\"\n",
    "\n",
    "main:\n",
    "- tool: brave_search\n",
    "  arguments:\n",
    "    query: \"_.topic + ' funny news'\"\n",
    "\n",
    "- evaluate:\n",
    "    search_results: |-\n",
    "      [\n",
    "        {{\n",
    "          'snippet': r['snippet'],\n",
    "          'title': r['title']\n",
    "        }}\n",
    "        for r in _['result']\n",
    "      ]\n",
    "    \n",
    "- prompt:\n",
    "  - role: system\n",
    "    content: >-\n",
    "      You are {{{{agent.about}}}}.\n",
    "      The user will send you a topic and search results for that topic.\n",
    "      Your goal is to write a sarcastic news headlines based on that topic and search results.\n",
    "  - role: user\n",
    "    content: >-\n",
    "      My topic is: {{{{inputs[0].topic}}}}.\n",
    "      Here are the search results: {{{{_}}}}\n",
    "  unwrap: true\n",
    "\n",
    "\"\"\")"
   ]
  },
  {
   "cell_type": "markdown",
   "metadata": {},
   "source": [
    "<span style=\"color:olive;\">Notes:</span>\n",
    "- The reason for using the quadruple curly braces `{{{{}}}}` for the jinja template is to avoid conflicts with the curly braces when using the `f` formatted strings in python. [More information here](https://stackoverflow.com/questions/64493332/jinja-templating-in-airflow-along-with-formatted-text)\n",
    "- The `unwrap: True` in the prompt step is used to unwrap the output of the prompt step (to unwrap the `choices[0].message.content` from the output of the model).\n"
   ]
  },
  {
   "cell_type": "markdown",
   "metadata": {},
   "source": [
    "## Creating/Updating a task."
   ]
  },
  {
   "cell_type": "code",
   "execution_count": 49,
   "metadata": {},
   "outputs": [],
   "source": [
    "# creating the task object\n",
    "task = client.tasks.create_or_update(\n",
    "    task_id=TASK_UUID,\n",
    "    agent_id=AGENT_UUID,\n",
    "    **task_def\n",
    ")"
   ]
  },
  {
   "cell_type": "markdown",
   "metadata": {},
   "source": [
    "## Creating an Execution"
   ]
  },
  {
   "cell_type": "markdown",
   "metadata": {},
   "source": [
    "An execution is a single run of a task. It is a way to run a task with a specific set of inputs."
   ]
  },
  {
   "cell_type": "code",
   "execution_count": 60,
   "metadata": {},
   "outputs": [],
   "source": [
    "# creating an execution object\n",
    "execution = client.executions.create(\n",
    "    task_id=TASK_UUID,\n",
    "    input={\n",
    "        \"topic\": \"Elon Musk\"\n",
    "    }\n",
    ")"
   ]
  },
  {
   "cell_type": "markdown",
   "metadata": {},
   "source": [
    "## Checking execution details and output"
   ]
  },
  {
   "cell_type": "markdown",
   "metadata": {},
   "source": [
    "There are multiple ways to get the execution details and the output:\n",
    "\n",
    "1. **Get Execution Details**: This method retrieves the details of the execution, including the output of the last transition that took place.\n",
    "\n",
    "2. **List Transitions**: This method lists all the task steps that have been executed up to this point in time, so the output of a successful execution will be the output of the last transition (first in the transition list as it is in reverse chronological order), which should have a type of `finish`.\n",
    "\n",
    "\n",
    "<span style=\"color:olive;\">Note: You need to wait for a few seconds for the execution to complete before you can get the final output, so feel free to run the following cells multiple times until you get the final output.</span>\n"
   ]
  },
  {
   "cell_type": "code",
   "execution_count": 64,
   "metadata": {},
   "outputs": [
    {
     "name": "stdout",
     "output_type": "stream",
     "text": [
      "Based on these search results about Elon Musk's attempts at humor, I'll write some sarcastic headlines:\n",
      "\n",
      "1. \"Breaking: World's Richest Man Still Can't Buy a Sense of Humor, Studies Show\"\n",
      "\n",
      "2. \"Shocking: Billionaire's Joke Algorithm Malfunctions, Produces Only Cringe\"\n",
      "\n",
      "3. \"Tech Titan Discovers Comedy Is Harder Than Rocket Science; Mars Mission Suddenly Looks Easier\"\n",
      "\n",
      "4. \"EXCLUSIVE: Musk's Twitter Bio Updated to 'Chief Unfunny Officer' After Latest Failed Attempt at Humor\"\n",
      "\n",
      "5. \"Report: Man Worth $230 Billion Still Can't Afford Professional Comedy Writer\"\n",
      "\n",
      "6. \"Scientists Confirm: Musk's Jokes Have Lower Success Rate Than Tesla Cybertruck Windows\"\n",
      "\n",
      "7. \"Breaking: Social Media Platform Owner Becomes First Person to Ratio Himself With His Own Bad Jokes\"\n",
      "\n",
      "8. \"UPDATE: AI Refuses to Generate Fake Laughs for Billionaire's Twitter Jokes, Cites Ethical Concerns\"\n",
      "\n",
      "These headlines are crafted to playfully mock the recent news about Musk's attempts at humor and social media posts, particularly focusing on the apparent consensus that his jokes aren't landing as well as his rockets!\n"
     ]
    }
   ],
   "source": [
    "# Get execution details\n",
    "execution = client.executions.get(execution.id)\n",
    "# Print the output\n",
    "print(execution.output)"
   ]
  },
  {
   "cell_type": "code",
   "execution_count": 65,
   "metadata": {},
   "outputs": [
    {
     "name": "stdout",
     "output_type": "stream",
     "text": [
      "Transition type:  init\n",
      "Transition output:  {'topic': 'Elon Musk'}\n",
      "--------------------------------------------------\n",
      "Transition type:  step\n",
      "Transition output:  {'result': [{'link': 'https://www.rollingstone.com/culture/culture-lists/elon-musks-unfunniest-jokes-2023-1234929823/', 'snippet': 'Somehow, it didn’t get funnier the more he used it. If Zuck my 👅 really wants a lesson in why there are weight categories in fighting so badly, I could just head over to his house next week and teach him a lesson he won’t soon forget— <strong>Elon</strong> <strong>Musk</strong> (@elonmusk) August 11, 2023https://p...', 'title': 'Elon Musk’s 9 Unfunniest Jokes of 2023'}, {'link': 'https://www.beaumontenterprise.com/culture/article/elon-musk-funny-19742906.php', 'snippet': 'Your Beaumont local <strong>news</strong> source plus the latest in entertainment, sports and Jefferson County Texas <strong>news</strong>.', 'title': \"Elon Musk's unfunny acronyms are getting exhausting\"}, {'link': 'https://www.youtube.com/watch?v=EbxBv6mjRvY', 'snippet': 'A genius in business, technology and humor!Sometimes <strong>Elon</strong> <strong>Musk</strong> will go the extra mile to get a laugh. Here’s a collection of his funniest moments.', 'title': 'Elon Musk Funniest Moments - YouTube'}]}\n",
      "--------------------------------------------------\n",
      "Transition type:  step\n",
      "Transition output:  {'search_results': [{'snippet': 'Somehow, it didn’t get funnier the more he used it. If Zuck my 👅 really wants a lesson in why there are weight categories in fighting so badly, I could just head over to his house next week and teach him a lesson he won’t soon forget— <strong>Elon</strong> <strong>Musk</strong> (@elonmusk) August 11, 2023https://p...', 'title': 'Elon Musk’s 9 Unfunniest Jokes of 2023'}, {'snippet': 'Your Beaumont local <strong>news</strong> source plus the latest in entertainment, sports and Jefferson County Texas <strong>news</strong>.', 'title': \"Elon Musk's unfunny acronyms are getting exhausting\"}, {'snippet': 'A genius in business, technology and humor!Sometimes <strong>Elon</strong> <strong>Musk</strong> will go the extra mile to get a laugh. Here’s a collection of his funniest moments.', 'title': 'Elon Musk Funniest Moments - YouTube'}]}\n",
      "--------------------------------------------------\n",
      "Transition type:  finish\n",
      "Transition output:  Based on these search results about Elon Musk's attempts at humor, I'll write some sarcastic headlines:\n",
      "\n",
      "1. \"Breaking: World's Richest Man Still Can't Buy a Sense of Humor, Studies Show\"\n",
      "\n",
      "2. \"Shocking: Billionaire's Joke Algorithm Malfunctions, Produces Only Cringe\"\n",
      "\n",
      "3. \"Tech Titan Discovers Comedy Is Harder Than Rocket Science; Mars Mission Suddenly Looks Easier\"\n",
      "\n",
      "4. \"EXCLUSIVE: Musk's Twitter Bio Updated to 'Chief Unfunny Officer' After Latest Failed Attempt at Humor\"\n",
      "\n",
      "5. \"Report: Man Worth $230 Billion Still Can't Afford Professional Comedy Writer\"\n",
      "\n",
      "6. \"Scientists Confirm: Musk's Jokes Have Lower Success Rate Than Tesla Cybertruck Windows\"\n",
      "\n",
      "7. \"Breaking: Social Media Platform Owner Becomes First Person to Ratio Himself With His Own Bad Jokes\"\n",
      "\n",
      "8. \"UPDATE: AI Refuses to Generate Fake Laughs for Billionaire's Twitter Jokes, Cites Ethical Concerns\"\n",
      "\n",
      "These headlines are crafted to playfully mock the recent news about Musk's attempts at humor and social media posts, particularly focusing on the apparent consensus that his jokes aren't landing as well as his rockets!\n",
      "--------------------------------------------------\n"
     ]
    }
   ],
   "source": [
    "# Lists all the task steps that have been executed up to this point in time\n",
    "transitions = client.executions.transitions.list(execution_id=execution.id).items\n",
    "\n",
    "# Transitions are retreived in reverse chronological order\n",
    "for transition in reversed(transitions):\n",
    "    print(\"Transition type: \", transition.type)\n",
    "    print(\"Transition output: \", transition.output)\n",
    "    print(\"-\"*50)"
   ]
  },
  {
   "cell_type": "markdown",
   "metadata": {},
   "source": [
    "## Running the same task with a different topic"
   ]
  },
  {
   "cell_type": "markdown",
   "metadata": {},
   "source": [
    "We will use the same code to run the same task, but with a different topic"
   ]
  },
  {
   "cell_type": "code",
   "execution_count": 74,
   "metadata": {},
   "outputs": [],
   "source": [
    "execution = client.executions.create(\n",
    "    task_id=TASK_UUID,\n",
    "    input={\n",
    "        \"topic\": \"Tottenham Hotspur\"\n",
    "    }\n",
    ")"
   ]
  },
  {
   "cell_type": "code",
   "execution_count": 80,
   "metadata": {},
   "outputs": [
    {
     "name": "stdout",
     "output_type": "stream",
     "text": [
      "Based on the search results about Tottenham Hotspur, here are some sarcastic headlines:\n",
      "\n",
      "1. \"BREAKING: Tottenham Somehow Manages to Draw a Match They Haven't Even Played Yet\"\n",
      "\n",
      "2. \"SHOCKING: Spurs Fan Found Who Still Has Hope for This Season, Doctors Baffled\"\n",
      "\n",
      "3. \"EXCLUSIVE: Tottenham's Trophy Cabinet Files Complaint for Workplace Neglect, Cites 'Years of Emptiness'\"\n",
      "\n",
      "4. \"REPORT: Tottenham Players Perfect the Art of 'Almost Winning' - Declare It Their New Club Strategy\"\n",
      "\n",
      "5. \"URGENT: Scientists Confirm Supporting Tottenham May Be Leading Cause of Premature Gray Hair\"\n",
      "\n",
      "6. \"DEVELOPMENT: Spurs Consider Renaming Stadium to 'The Almost Champions Arena' to Better Reflect Club's Legacy\"\n",
      "\n",
      "7. \"INVESTIGATION: Local Man Claims He's Seen Tottenham Win Trophy - Experts Say It Was Just a Mirage\"\n",
      "\n",
      "8. \"STUDY: Tottenham Fans Develop Superhuman Ability to Handle Disappointment, Medical Community Amazed\"\n",
      "\n",
      "9. \"REVEALED: Club's 'To Do' List Found - 'Win Something' Written 362 Times in Increasingly Desperate Handwriting\"\n",
      "\n",
      "10. \"WEATHER ALERT: Forecast Predicts Flying Pigs Before Tottenham's Next Trophy\"\n",
      "\n",
      "These headlines playfully poke fun at Tottenham's notorious reputation for coming close but not quite achieving major trophies, while drawing from their current status as a prominent Premier League club with a dedicated fanbase.\n"
     ]
    }
   ],
   "source": [
    "execution = client.executions.get(execution.id)\n",
    "print(execution.output)"
   ]
  },
  {
   "cell_type": "markdown",
   "metadata": {},
   "source": [
    "<span style=\"color:olive;\">Note: you can get the output of the search step by accessing the corresponding transition's output from the transitions list.</span>\n",
    "\n",
    "Example:"
   ]
  },
  {
   "cell_type": "code",
   "execution_count": 82,
   "metadata": {},
   "outputs": [
    {
     "data": {
      "text/plain": [
       "{'search_results': [{'snippet': 'The latest <strong>Tottenham</strong> <strong>news</strong>, transfers, fixtures and more. Including Live blogs, pictures, video, podcasts, polls and indepth analysis from our dedicated Spurs writers.',\n",
       "   'title': 'Tottenham Hotspur FC - latest news, pictures, video comment - Football.london'},\n",
       "  {'snippet': 'Latest Spurs <strong>news</strong>, transfer rumours, team <strong>news</strong>, fixtures and more from the <strong>Tottenham</strong> <strong>Hotspur</strong> Stadium. Breaking <strong>Tottenham</strong> rumours &amp; <strong>news</strong> now, 24/7.',\n",
       "   'title': 'Spurs News | Tottenham Transfer News - NewsNow'},\n",
       "  {'snippet': 'Latest official <strong>news</strong> and video from <strong>Tottenham</strong> <strong>Hotspur</strong>',\n",
       "   'title': 'News | Tottenham Hotspur'}]}"
      ]
     },
     "execution_count": 82,
     "metadata": {},
     "output_type": "execute_result"
    }
   ],
   "source": [
    "transitions = client.executions.transitions.list(execution_id=execution.id).items\n",
    "\n",
    "transitions[1].output"
   ]
  }
 ],
 "metadata": {
  "kernelspec": {
   "display_name": "ai",
   "language": "python",
   "name": "python3"
  },
  "language_info": {
   "codemirror_mode": {
    "name": "ipython",
    "version": 3
   },
   "file_extension": ".py",
   "mimetype": "text/x-python",
   "name": "python",
   "nbconvert_exporter": "python",
   "pygments_lexer": "ipython3",
   "version": "3.12.3"
  }
 },
 "nbformat": 4,
 "nbformat_minor": 2
}
