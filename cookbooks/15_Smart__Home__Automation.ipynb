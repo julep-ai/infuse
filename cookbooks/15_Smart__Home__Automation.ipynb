{
  "nbformat": 4,
  "nbformat_minor": 0,
  "metadata": {
    "colab": {
      "provenance": [],
      "toc_visible": true
    },
    "kernelspec": {
      "name": "python3",
      "display_name": "Python 3"
    },
    "language_info": {
      "name": "python"
    }
  },
  "cells": [
    {
      "cell_type": "code",
      "source": [
        "# -*- coding: utf-8 -*-\n",
        "\"\"\"Smart_Home_Automation_Workflow.py\n",
        "\n",
        "Automatically generated for home automation tasks.\n",
        "\n",
        "\"\"\"\n",
        "\n",
        "import uuid\n",
        "import yaml\n",
        "import time\n",
        "from julep import Client\n",
        "\n",
        "AGENT_UUID = uuid.uuid4()\n",
        "DEVICE_CONTROL_TASK_UUID = uuid.uuid4()\n",
        "\n",
        "api_key =  \"\"  # Your API key here\n",
        "client = Client(api_key=api_key, environment=\"dev\")\n",
        "\n",
        "agent = client.agents.create_or_update(\n",
        "    agent_id=AGENT_UUID,\n",
        "    name=\"Smart Home Automation Assistant\",\n",
        "    about=\"An AI agent specialized in automating smart home workflows.\",\n",
        "    model=\"gpt-4o\",\n",
        ")\n",
        "\n",
        "device_control_task_def = yaml.safe_load(\"\"\"\n",
        "name: Device Control\n",
        "\n",
        "input_schema:\n",
        "  type: object\n",
        "  properties:\n",
        "    device_id:\n",
        "      type: string\n",
        "    action:\n",
        "      type: string\n",
        "\n",
        "main:\n",
        "- prompt:\n",
        "  - role: system\n",
        "    content: >-\n",
        "      You are a smart home device controller. Perform the following action:\n",
        "      Device ID: {{inputs[0].device_id}}\n",
        "      Action: {{inputs[0].action}}\n",
        "\n",
        "      Confirm the action status.\n",
        "  unwrap: true\n",
        "\n",
        "- evaluate:\n",
        "    status: \"success\"  # Simulating a successful action\n",
        "\n",
        "- return:\n",
        "    status: _\n",
        "\"\"\")\n",
        "\n",
        "device_control_task = client.tasks.create_or_update(\n",
        "    task_id=DEVICE_CONTROL_TASK_UUID,\n",
        "    agent_id=AGENT_UUID,\n",
        "    **device_control_task_def\n",
        ")\n",
        "\n",
        "def control_device(device_id, action):\n",
        "    execution = client.executions.create(\n",
        "        task_id=DEVICE_CONTROL_TASK_UUID,\n",
        "        input={\n",
        "            \"device_id\": device_id,\n",
        "            \"action\": action\n",
        "        }\n",
        "    )\n",
        "    time.sleep(2)\n",
        "    result = client.executions.get(execution.id)\n",
        "    return client.executions.transitions.list(execution_id=result.id).items[0].output\n",
        "\n",
        "print(\"Demonstrating Smart Home Automation Workflow:\")\n",
        "\n",
        "device_id = \"light_living_room\"\n",
        "action = \"turn_on\"\n",
        "\n",
        "action_result = control_device(device_id, action)\n",
        "print(f\"Action Result: {action_result}\")"
      ],
      "metadata": {
        "colab": {
          "base_uri": "https://localhost:8080/"
        },
        "id": "CibVOOtf20YQ",
        "outputId": "cc305657-42e5-4dda-cf52-68ebb49b8902"
      },
      "execution_count": 11,
      "outputs": [
        {
          "output_type": "stream",
          "name": "stdout",
          "text": [
            "Demonstrating Smart Home Automation Workflow:\n",
            "Action Result: 'success' is not defined for expression 'success'\n"
          ]
        }
      ]
    },
    {
      "cell_type": "code",
      "source": [],
      "metadata": {
        "id": "tIicpHSu52g4"
      },
      "execution_count": null,
      "outputs": []
    },
    {
      "cell_type": "code",
      "source": [],
      "metadata": {
        "id": "UU-ovzrZ3HMv"
      },
      "execution_count": 11,
      "outputs": []
    },
    {
      "cell_type": "code",
      "source": [],
      "metadata": {
        "id": "PWLT5ZWu4eX5"
      },
      "execution_count": null,
      "outputs": []
    }
  ]
}