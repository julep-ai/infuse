{
 "cells": [
  {
   "metadata": {},
   "cell_type": "markdown",
   "source": [
    "<div align=\"center\">\n",
    "    <img src=\"https://socialify.git.ci/julep-ai/julep/image?description=1&descriptionEditable=Build%20AI%20agents%20and%20workflows%20with%20a%20simple%20API&font=Source%20Code%20Pro&logo=https%3A%2F%2Fraw.githubusercontent.com%2Fjulep-ai%2Fjulep%2Fdev%2F.github%2Fjulep-logo.svg&owner=1&pattern=Solid&stargazers=1&theme=Auto\" alt=\"julep\" width=\"640\" height=\"320\" />\n",
    "</div>\n",
    "\n",
    "## Task Definition: Designing Multi-Step Tasks using Brave Search Integration\n",
    "\n",
    "### Overview\n",
    "\n",
    "\n",
    "\n",
    "### Task Flow \n",
    "\n",
    "1. **Input**: \n",
    "   - User provides a topic for the three research questions to be based on\n",
    "\n",
    "2. **Tool Call**:\n",
    "   - Preforms a web search for each of the question\n",
    "\n",
    "3. **Evaluate**:\n",
    "   - Extract relevant information \n",
    "\n",
    "4. **Conditional Logic**:\n",
    "   - Check to make sure that enough information has been gathered \n",
    "\n",
    "5. **Log**:\n",
    "   - Records a summery\n",
    "\n",
    "6. **Return**:\n",
    "   - Returns the final output\n"
   ],
   "id": "377cdfc875817b11"
  },
  {
   "metadata": {},
   "cell_type": "markdown",
   "source": [
    "## Implementation\n",
    "\n",
    "To recreate the notebook and see the code implementation for this task, you can access the Google Colab notebook using the link below:\n",
    "\n",
    "<a target=\"_blank\" href=\"https://colab.research.google.com/github/DarkZelda11/julep/blob/dev/cookbooks/06-Designing_Multi-Step_Tasks.ipynb\">\n",
    "  <img src=\"https://colab.research.google.com/assets/colab-badge.svg\" alt=\"Open In Colab\"/>\n",
    "</a>\n",
    "\n",
    "\n",
    "To recreate the notebook and see the code implementation for this task, you can access the Google Colab notebook using the link below:\n",
    "\n",
    "\n",
    "\n",
    "### Additional Information\n",
    "\n",
    "For more details about the task or if you have any questions, please don't hesitate to contact the author:\n",
    "\n",
    "**Author:** Julep AI  \n",
    "**Contact:** [hey@julep.ai](mailto:hey@julep.ai) or  <a href=\"https://discord.com/invite/JTSBGRZrzj\" rel=\"dofollow\">Discord</a>\n",
    "\n"
   ],
   "id": "c4579e27983449f3"
  },
  {
   "metadata": {},
   "cell_type": "markdown",
   "source": "Installing the Julep Client",
   "id": "383b72b2bccbe0b5"
  },
  {
   "metadata": {
    "ExecuteTime": {
     "end_time": "2024-11-11T03:55:02.225235Z",
     "start_time": "2024-11-11T03:55:00.564132Z"
    }
   },
   "cell_type": "code",
   "source": "!pip install julep -U --quiet",
   "id": "6f1ca2b9a2fffd33",
   "outputs": [],
   "execution_count": 30
  },
  {
   "metadata": {},
   "cell_type": "markdown",
   "source": [
    "### Note:\n",
    "\n",
    "- UUIDs are generated for both the agent and task to uniquely identify them within the system.\n",
    "- Once created, these UUIDs should remain unchanged for simplicity.\n",
    "- Altering a UUID will result in the system treating it as a new agent or task.\n",
    "- If a UUID is changed, the original agent or task will continue to exist in the system alongside the new one."
   ],
   "id": "38afc6354aef06cc"
  },
  {
   "metadata": {
    "ExecuteTime": {
     "end_time": "2024-11-11T03:55:02.229634Z",
     "start_time": "2024-11-11T03:55:02.226214Z"
    }
   },
   "cell_type": "code",
   "source": [
    "# Global UUID is generated for agent and task\n",
    "import uuid\n",
    "\n",
    "AGENT_UUID = uuid.uuid4()\n",
    "TASK_UUID = uuid.uuid4() "
   ],
   "id": "65869bec8a248cec",
   "outputs": [],
   "execution_count": 31
  },
  {
   "metadata": {},
   "cell_type": "markdown",
   "source": "## Creating Julep Client with the API Key ",
   "id": "9a1722d17f8c4f46"
  },
  {
   "metadata": {
    "ExecuteTime": {
     "end_time": "2024-11-11T03:55:02.467964Z",
     "start_time": "2024-11-11T03:55:02.231035Z"
    }
   },
   "cell_type": "code",
   "source": [
    "from julep import Client\n",
    "\n",
    "api_key = \"\" # Your Api key here\n",
    "\n",
    "# Create a client\n",
    "client = Client(api_key=api_key, environment='dev')"
   ],
   "id": "20becc94c0ea20d6",
   "outputs": [],
   "execution_count": 32
  },
  {
   "metadata": {},
   "cell_type": "markdown",
   "source": [
    "## Creating an \"agent\"\n",
    "\n",
    "Agent is the object to which LLM settings, like model, temperature along with tools are scoped to.\n",
    "\n",
    "To learn more about the agent, please refer to the [documentation](https://github.com/julep-ai/julep/blob/dev/docs/julep-concepts.md#agent). "
   ],
   "id": "438df18ec13a90a7"
  },
  {
   "metadata": {
    "ExecuteTime": {
     "end_time": "2024-11-11T03:55:03.107277Z",
     "start_time": "2024-11-11T03:55:02.468990Z"
    }
   },
   "cell_type": "code",
   "source": [
    "# Defining the agent \n",
    "name = \"Multi-Step Task Agent\"\n",
    "about = \"An agent capable of executing complex multi-step tasks.\"\n",
    "default_settings = {\n",
    "    \"temperature\": 0.7,\n",
    "    \"top_p\": 1,\n",
    "    \"min_p\": 0.01,\n",
    "    \"presence_penalty\": 0,\n",
    "    \"frequency_penalty\": 0,\n",
    "    \"length_penalty\": 1.0,\n",
    "    \"max_tokens\": 150,\n",
    "}\n",
    "\n",
    "# Create the agent\n",
    "agent = client.agents.create_or_update(\n",
    "    agent_id=AGENT_UUID,\n",
    "    name=name,\n",
    "    about=about,\n",
    "    model=\"gpt-4o\",\n",
    ")\n",
    "\n",
    "# Add a web search tool to the client\n",
    "client.agents.tools.create(\n",
    "    agent_id=AGENT_UUID,\n",
    "    name=\"web_search\",\n",
    "    integration={\n",
    "        \"provider\": \"brave\",\n",
    "        \"method\": \"search\",\n",
    "        \"setup\": {\"api_key\": \"\"},\n",
    "    }, \n",
    "    type=\"integration\"\n",
    ")"
   ],
   "id": "78b8bc80cafa4e00",
   "outputs": [
    {
     "data": {
      "text/plain": [
       "ResourceCreated(id='efd32949-63a0-4cd0-9e45-f07e9c3cfee2', created_at=datetime.datetime(2024, 11, 11, 3, 55, 14, 61667, tzinfo=datetime.timezone.utc), jobs=[])"
      ]
     },
     "execution_count": 33,
     "metadata": {},
     "output_type": "execute_result"
    }
   ],
   "execution_count": 33
  },
  {
   "metadata": {},
   "cell_type": "markdown",
   "source": [
    "## Defining the task \n",
    "\n",
    "Tasks in Julep are GitHub Actions style workflows that define long-running, multistep actions.\n",
    "You can use them to conduct complex actions by defining them step-by-step. They have access to all Julep integrations.\n",
    "\n",
    "To learn more about tasks, visit [Julep documentation](https://github.com/julep-ai/julep/blob/dev/docs/julep-concepts.md#task)."
   ],
   "id": "c8645478a80adafe"
  },
  {
   "metadata": {
    "ExecuteTime": {
     "end_time": "2024-11-11T03:55:03.117658Z",
     "start_time": "2024-11-11T03:55:03.108289Z"
    }
   },
   "cell_type": "code",
   "source": "import yaml",
   "id": "bfed72921cd31757",
   "outputs": [],
   "execution_count": 34
  },
  {
   "metadata": {},
   "cell_type": "markdown",
   "source": "More on how to define a task can be found [here](https://github.com/julep-ai/julep/blob/dev/docs/julep-concepts.md).",
   "id": "5fe159f83a6672d7"
  },
  {
   "metadata": {
    "ExecuteTime": {
     "end_time": "2024-11-11T03:55:03.126512Z",
     "start_time": "2024-11-11T03:55:03.117658Z"
    }
   },
   "cell_type": "code",
   "source": [
    "# Defining a Task with various step types\n",
    "task_def = yaml.safe_load(\"\"\"\n",
    "name: Multi-Step Task Demonstration\n",
    "\n",
    "input_schema:\n",
    "  type: object\n",
    "  properties:\n",
    "    topic:\n",
    "      type: string\n",
    "      description: The topic to research and summarize.\n",
    "\n",
    "tools:\n",
    "  - name: web_search\n",
    "    type: integration\n",
    "    integration:\n",
    "      provider: brave\n",
    "      setup:\n",
    "        api_key: \"\"\n",
    "\n",
    "main:\n",
    "  # Step 1: Prompt - Initial research question\n",
    "  - prompt:\n",
    "      - role: system\n",
    "        content: \"You are a research assistant. Your task is to formulate three specific research questions about the given topic: {{inputs[0].topic}}\"\n",
    "    unwrap: true\n",
    "\n",
    "  # Step 2: Tool Call - Web search for each question\n",
    "  - foreach:\n",
    "      in: _.split('\\\\n')\n",
    "      do:\n",
    "        tool: web_search\n",
    "        arguments:\n",
    "          query: _\n",
    "          log: \"Completed web search for query: {{_}}\"\n",
    "\n",
    "  # Step 3: Evaluate - Extract relevant information\n",
    "  - evaluate:\n",
    "      relevant_info: \"[output for output in _]\"\n",
    "      log: \"Relevant information gathered: {{_.relevant_info}}\"\n",
    "\n",
    "  # Step 4: Conditional Logic - Check if enough information is gathered\n",
    "  - if: \"len(_.relevant_info) >= 3\"\n",
    "    then:\n",
    "      prompt:\n",
    "        - role: system\n",
    "          content: \"Summarize the following information about {{inputs[0].topic}}:\\n{{_.relevant_info}}\"\n",
    "      unwrap: true\n",
    "    else:\n",
    "      prompt:\n",
    "        - role: system\n",
    "          content: \"Not enough information gathered. Please provide a brief overview of {{inputs[0].topic}} based on your knowledge.\"\n",
    "      unwrap: true\n",
    "\n",
    "  # Step 5: Log - Record the summary\n",
    "  - log: \"Summary for {{inputs[0].topic}}: {{_}}\"\n",
    "\n",
    "  # Step 6: Return - Final output\n",
    "  - return: \n",
    "      summary: \"_\"\n",
    "      topic: \"inputs[0].topic\"\n",
    "      status: \"finish\"\n",
    "\"\"\")"
   ],
   "id": "b927323eb9ad9455",
   "outputs": [],
   "execution_count": 35
  },
  {
   "metadata": {},
   "cell_type": "markdown",
   "source": "Creating/Updating a task.",
   "id": "2ed01573b35ff5f5"
  },
  {
   "metadata": {
    "ExecuteTime": {
     "end_time": "2024-11-11T03:55:03.462589Z",
     "start_time": "2024-11-11T03:55:03.129027Z"
    }
   },
   "cell_type": "code",
   "source": [
    "# Creating the task update\n",
    "task = client.tasks.create_or_update(\n",
    "    task_id=TASK_UUID,\n",
    "    agent_id=AGENT_UUID,\n",
    "    **task_def\n",
    ")"
   ],
   "id": "a364371bbfb79c59",
   "outputs": [],
   "execution_count": 36
  },
  {
   "metadata": {},
   "cell_type": "markdown",
   "source": [
    "## Creating an Execution\n",
    "\n",
    "An execution is a single run of a task. It is a way to run a task with a specific set of inputs."
   ],
   "id": "aaea5a4b947d4c52"
  },
  {
   "metadata": {},
   "cell_type": "markdown",
   "source": "Creates an execution workflow for the Task defined in the yaml file.",
   "id": "f3bef4459d1456ce"
  },
  {
   "metadata": {
    "ExecuteTime": {
     "end_time": "2024-11-11T03:55:04.523664Z",
     "start_time": "2024-11-11T03:55:03.472232Z"
    }
   },
   "cell_type": "code",
   "source": [
    "# Creating an Execution object\n",
    "execution = client.executions.create(\n",
    "    task_id=TASK_UUID,\n",
    "    input={\n",
    "        \"topic\": \"Artificial Intelligence in Healthcare\"\n",
    "    }\n",
    ")"
   ],
   "id": "235a94222177a281",
   "outputs": [],
   "execution_count": 37
  },
  {
   "metadata": {
    "ExecuteTime": {
     "end_time": "2024-11-11T03:55:14.533319Z",
     "start_time": "2024-11-11T03:55:04.525677Z"
    }
   },
   "cell_type": "code",
   "source": [
    "print(f\"Execution ID: {execution.id}\")\n",
    "import time\n",
    "time.sleep(10)"
   ],
   "id": "7845107498e2089f",
   "outputs": [
    {
     "name": "stdout",
     "output_type": "stream",
     "text": [
      "Execution ID: 77c2dd2a-ce67-4743-aa55-20f3b60ccefa\n"
     ]
    }
   ],
   "execution_count": 38
  },
  {
   "metadata": {
    "ExecuteTime": {
     "end_time": "2024-11-11T03:55:17.536832Z",
     "start_time": "2024-11-11T03:55:14.538826Z"
    }
   },
   "cell_type": "code",
   "source": [
    "# Getting the execution details\n",
    "execution = client.executions.get(execution.id)\n",
    "# printing the output\n",
    "print(\"Execution Output:\")\n",
    "print(client.executions.transitions.list(execution_id=execution.id).items[0].output)"
   ],
   "id": "6db5bbb5ac0afd69",
   "outputs": [
    {
     "name": "stdout",
     "output_type": "stream",
     "text": [
      "Execution Output:\n",
      "Activity task failed\n"
     ]
    }
   ],
   "execution_count": 39
  },
  {
   "metadata": {},
   "cell_type": "markdown",
   "source": "Retrieves and lists all the steps of a defined task that have been executed up to that point in time. Unlike streaming, this function does not continuously monitor the execution; it only provides a snapshot of the steps completed so far without displaying real-time updates as the task progresses.",
   "id": "c0ade2f9f882ea2d"
  },
  {
   "metadata": {
    "ExecuteTime": {
     "end_time": "2024-11-11T03:55:19.494773Z",
     "start_time": "2024-11-11T03:55:17.539891Z"
    }
   },
   "cell_type": "code",
   "source": [
    "transitions = client.executions.transitions.list(execution_id=execution.id).items\n",
    "print(\"Execution Steps:\")\n",
    "for transition in transitions:\n",
    "    print(transition)"
   ],
   "id": "f88a017f534a534",
   "outputs": [
    {
     "name": "stdout",
     "output_type": "stream",
     "text": [
      "Execution Steps:\n",
      "Transition(id='153ea261-d6e5-4e8c-aba3-29cecb919ccd', created_at=datetime.datetime(2024, 11, 11, 3, 55, 21, 681893, tzinfo=datetime.timezone.utc), current=Current(step=0, workflow='`main`[1].foreach[0]'), execution_id='77c2dd2a-ce67-4743-aa55-20f3b60ccefa', next=None, output='Activity task failed', type='error', updated_at=datetime.datetime(2024, 11, 11, 3, 55, 21, 681894, tzinfo=datetime.timezone.utc), metadata={'step_type': 'ToolCallStep'})\n",
      "Transition(id='6dbc2f8e-2d32-4491-9be2-12adc95ebb4f', created_at=datetime.datetime(2024, 11, 11, 3, 55, 21, 124229, tzinfo=datetime.timezone.utc), current=Current(step=0, workflow='`main`[1].foreach[0]'), execution_id='77c2dd2a-ce67-4743-aa55-20f3b60ccefa', next=Next(step=0, workflow='`main`[1].foreach[0]'), output='1. How can artificial intelligence improve diagnostic accuracy and reduce false positives in medical imaging, and what are the implications for patient outcomes and healthcare costs?', type='init_branch', updated_at=datetime.datetime(2024, 11, 11, 3, 55, 21, 124230, tzinfo=datetime.timezone.utc), metadata={})\n",
      "Transition(id='9c3cb99a-bc69-4beb-add3-204fc00fd9c1', created_at=datetime.datetime(2024, 11, 11, 3, 55, 20, 57376, tzinfo=datetime.timezone.utc), current=Current(step=0, workflow='main'), execution_id='77c2dd2a-ce67-4743-aa55-20f3b60ccefa', next=Next(step=1, workflow='main'), output='1. How can artificial intelligence improve diagnostic accuracy and reduce false positives in medical imaging, and what are the implications for patient outcomes and healthcare costs?\\n\\n2. What are the ethical considerations and potential biases associated with the use of artificial intelligence in personalized medicine, and how can these be addressed to ensure equitable access and treatment for diverse patient populations?\\n\\n3. In what ways can artificial intelligence be integrated into healthcare systems to enhance operational efficiency and decision-making processes, and what are the potential challenges and barriers to successful implementation?', type='step', updated_at=datetime.datetime(2024, 11, 11, 3, 55, 20, 57377, tzinfo=datetime.timezone.utc), metadata={'step_type': 'PromptStep'})\n",
      "Transition(id='8a1f3679-f306-4dbe-a7d2-dbda22821802', created_at=datetime.datetime(2024, 11, 11, 3, 55, 16, 552781, tzinfo=datetime.timezone.utc), current=Current(step=0, workflow='main'), execution_id='77c2dd2a-ce67-4743-aa55-20f3b60ccefa', next=Next(step=0, workflow='main'), output={'topic': 'Artificial Intelligence in Healthcare'}, type='init', updated_at=datetime.datetime(2024, 11, 11, 3, 55, 16, 552782, tzinfo=datetime.timezone.utc), metadata={})\n"
     ]
    }
   ],
   "execution_count": 40
  },
  {
   "metadata": {},
   "cell_type": "markdown",
   "source": "Continuously monitor and stream the steps of a defined task. It retrieves and displays the transitions or execution steps of the task identified by execution. id in real-time, showing each step sequentially until the task is either completed or an error causes it to terminate. ",
   "id": "4ccc44ac0d1c5cd"
  },
  {
   "metadata": {
    "ExecuteTime": {
     "end_time": "2024-11-11T03:55:19.850968Z",
     "start_time": "2024-11-11T03:55:19.503875Z"
    }
   },
   "cell_type": "code",
   "source": [
    "print(\"Streaming execution transitions:\")\n",
    "print(client.executions.transitions.stream(execution_id=execution.id))"
   ],
   "id": "b5db855add8c418",
   "outputs": [
    {
     "name": "stdout",
     "output_type": "stream",
     "text": [
      "Streaming execution transitions:\n",
      "data: {'transition': {'type': 'init', 'output': {'topic': 'Artificial Intelligence in Healthcare'}, 'created_at': '2024-11-11T03:55:16.552781+00:00'}, 'next_page_token': 'CiQzOGViOGNhMS03NWE4LTRjYjAtOGExZS1hNjk2M2ZhYTNiMjQQARgkMqsBeyJMYXN0RXZlbnRJRCI6OCwiU3RvcmVUb2tlbiI6ImV5Sk1ZWE4wVG05a1pVbEVJam8yTENKTVlYTjBWSGh1U1VRaU9qYzJOVFE1T1RnNGZRPT0iLCJDdXJyZW50UmFuZ2VJbmRleCI6MCwiRmluYWxSYW5nZUluZGV4IjowLCJMYXN0Tm9kZUlEIjo2LCJMYXN0VHJhbnNhY3Rpb25JRCI6NzY1NDk5ODh9QkwKJDM4ZWI4Y2ExLTc1YTgtNGNiMC04YTFlLWE2OTYzZmFhM2IyNBIkMmZmMjRlNGYtMDQwZi00YzkyLWI4MzMtMjFhZjE5YzMzYTFkUgIIIw=='}\r\n",
      "\r\n",
      "data: {'transition': {'type': 'step', 'output': '1. How can artificial intelligence improve diagnostic accuracy and reduce false positives in medical imaging, and what are the implications for patient outcomes and healthcare costs?\\n\\n2. What are the ethical considerations and potential biases associated with the use of artificial intelligence in personalized medicine, and how can these be addressed to ensure equitable access and treatment for diverse patient populations?\\n\\n3. In what ways can artificial intelligence be integrated into healthcare systems to enhance operational efficiency and decision-making processes, and what are the potential challenges and barriers to successful implementation?', 'created_at': '2024-11-11T03:55:20.057376+00:00'}, 'next_page_token': 'CiQzOGViOGNhMS03NWE4LTRjYjAtOGExZS1hNjk2M2ZhYTNiMjQQARgkMq0BeyJMYXN0RXZlbnRJRCI6MjEsIlN0b3JlVG9rZW4iOiJleUpNWVhOMFRtOWtaVWxFSWpveE9Td2lUR0Z6ZEZSNGJrbEVJam8zTmpVMU1EQXlNMzA9IiwiQ3VycmVudFJhbmdlSW5kZXgiOjAsIkZpbmFsUmFuZ2VJbmRleCI6MCwiTGFzdE5vZGVJRCI6MTksIkxhc3RUcmFuc2FjdGlvbklEIjo3NjU1MDAyM31CTAokMzhlYjhjYTEtNzVhOC00Y2IwLThhMWUtYTY5NjNmYWEzYjI0EiQyZmYyNGU0Zi0wNDBmLTRjOTItYjgzMy0yMWFmMTljMzNhMWRSAggj'}\r\n",
      "\r\n",
      "\n"
     ]
    }
   ],
   "execution_count": 41
  },
  {
   "metadata": {
    "ExecuteTime": {
     "end_time": "2024-11-11T03:55:21.783897Z",
     "start_time": "2024-11-11T03:55:19.856003Z"
    }
   },
   "cell_type": "code",
   "source": [
    "transitions = client.executions.transitions.list(execution_id=execution.id).items\n",
    "print(\"Execution Steps:\")\n",
    "for transition in transitions:\n",
    "    print(transition.type)\n",
    "    print(transition.output)\n",
    "    print(\"_\"*100)"
   ],
   "id": "5576334ef7ba4bec",
   "outputs": [
    {
     "name": "stdout",
     "output_type": "stream",
     "text": [
      "Execution Steps:\n",
      "error\n",
      "Activity task failed\n",
      "____________________________________________________________________________________________________\n",
      "init_branch\n",
      "1. How can artificial intelligence improve diagnostic accuracy and reduce false positives in medical imaging, and what are the implications for patient outcomes and healthcare costs?\n",
      "____________________________________________________________________________________________________\n",
      "step\n",
      "1. How can artificial intelligence improve diagnostic accuracy and reduce false positives in medical imaging, and what are the implications for patient outcomes and healthcare costs?\n",
      "\n",
      "2. What are the ethical considerations and potential biases associated with the use of artificial intelligence in personalized medicine, and how can these be addressed to ensure equitable access and treatment for diverse patient populations?\n",
      "\n",
      "3. In what ways can artificial intelligence be integrated into healthcare systems to enhance operational efficiency and decision-making processes, and what are the potential challenges and barriers to successful implementation?\n",
      "____________________________________________________________________________________________________\n",
      "init\n",
      "{'topic': 'Artificial Intelligence in Healthcare'}\n",
      "____________________________________________________________________________________________________\n"
     ]
    }
   ],
   "execution_count": 42
  }
 ],
 "metadata": {
  "kernelspec": {
   "display_name": "Python 3",
   "language": "python",
   "name": "python3"
  },
  "language_info": {
   "codemirror_mode": {
    "name": "ipython",
    "version": 2
   },
   "file_extension": ".py",
   "mimetype": "text/x-python",
   "name": "python",
   "nbconvert_exporter": "python",
   "pygments_lexer": "ipython2",
   "version": "2.7.6"
  }
 },
 "nbformat": 4,
 "nbformat_minor": 5
}
