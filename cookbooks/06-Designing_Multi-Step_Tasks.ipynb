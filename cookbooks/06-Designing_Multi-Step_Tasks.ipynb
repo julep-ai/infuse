{
 "cells": [
  {
   "metadata": {},
   "cell_type": "markdown",
   "source": [
    "<div align=\"center\">\n",
    "    <img src=\"https://socialify.git.ci/julep-ai/julep/image?description=1&descriptionEditable=Build%20AI%20agents%20and%20workflows%20with%20a%20simple%20API&font=Source%20Code%20Pro&logo=https%3A%2F%2Fraw.githubusercontent.com%2Fjulep-ai%2Fjulep%2Fdev%2F.github%2Fjulep-logo.svg&owner=1&pattern=Solid&stargazers=1&theme=Auto\" alt=\"julep\" width=\"640\" height=\"320\" />\n",
    "</div>\n",
    "\n",
    "## Task Definition: Designing Multi-Step Tasks using Brave Search Integration\n",
    "\n",
    "### Overview\n",
    "\n",
    "\n",
    "\n",
    "### Task Flow \n",
    "\n",
    "1. **Input**: \n",
    "   - User provides a topic for the three research questions to be based on\n",
    "\n",
    "2. **Tool Call**:\n",
    "   - Preforms a web search for each of the question\n",
    "\n",
    "3. **Evaluate**:\n",
    "   - Extract relevant information \n",
    "\n",
    "4. **Conditional Logic**:\n",
    "   - Check to make sure that enough information has been gathered \n",
    "\n",
    "5. **Log**:\n",
    "   - Records a summery\n",
    "\n",
    "6. **Return**:\n",
    "   - Returns the final output\n",
    "         \n",
    "\n",
    "    "
   ],
   "id": "bf0ed41add6c0834"
  },
  {
   "metadata": {},
   "cell_type": "markdown",
   "source": [
    "## Implementation\n",
    "\n",
    "To recreate the notebook and see the code implementation for this task, you can access the Google Colab notebook using the link below:\n",
    "\n",
    "<a target=\"_blank\" href=\"https://colab.research.google.com/github/DarkZelda11/julep/blob/dev/cookbooks/06-Designing_Multi-Step_Tasks.ipynb\">\n",
    "  <img src=\"https://colab.research.google.com/assets/colab-badge.svg\" alt=\"Open In Colab\"/>\n",
    "</a>\n",
    "\n",
    "\n",
    "To recreate the notebook and see the code implementation for this task, you can access the Google Colab notebook using the link below:\n",
    "\n",
    "\n",
    "\n",
    "### Additional Information\n",
    "\n",
    "For more details about the task or if you have any questions, please don't hesitate to contact the author:\n",
    "\n",
    "**Author:** Julep AI  \n",
    "**Contact:** [hey@julep.ai](mailto:hey@julep.ai) or  <a href=\"https://discord.com/invite/JTSBGRZrzj\" rel=\"dofollow\">Discord</a>\n"
   ],
   "id": "17a7e6c23aa4b07c"
  },
  {
   "metadata": {},
   "cell_type": "markdown",
   "source": "Installing the Julep Client",
   "id": "1c9fe44d9a28ca8e"
  },
  {
   "metadata": {
    "ExecuteTime": {
     "end_time": "2024-10-17T12:15:58.994128Z",
     "start_time": "2024-10-17T12:15:54.735580Z"
    }
   },
   "cell_type": "code",
   "source": "!pip install julep -U --quiet",
   "id": "fff8c6e2cd269f9d",
   "outputs": [],
   "execution_count": 4
  },
  {
   "metadata": {},
   "cell_type": "markdown",
   "source": [
    "### Note:\n",
    "\n",
    "- UUIDs are generated for both the agent and task to uniquely identify them within the system.\n",
    "- Once created, these UUIDs should remain unchanged for simplicity.\n",
    "- Altering a UUID will result in the system treating it as a new agent or task.\n",
    "- If a UUID is changed, the original agent or task will continue to exist in the system alongside the new one."
   ],
   "id": "a0d55bcb5f7ab1bf"
  },
  {
   "metadata": {
    "ExecuteTime": {
     "end_time": "2024-10-17T12:16:04.078235Z",
     "start_time": "2024-10-17T12:16:04.071337Z"
    }
   },
   "cell_type": "code",
   "source": [
    "# Global UUID is generated for agent and task\n",
    "import uuid\n",
    "\n",
    "AGENT_UUID = uuid.uuid4()\n",
    "TASK_UUID = uuid.uuid4() "
   ],
   "id": "e1fe387fb5bbbf80",
   "outputs": [],
   "execution_count": 5
  },
  {
   "metadata": {},
   "cell_type": "markdown",
   "source": "## Creating Julep Client with the API Key ",
   "id": "b4a113ad4bab4926"
  },
  {
   "metadata": {
    "ExecuteTime": {
     "end_time": "2024-10-17T12:16:09.696109Z",
     "start_time": "2024-10-17T12:16:09.430428Z"
    }
   },
   "cell_type": "code",
   "source": [
    "from julep import Client\n",
    "\n",
    "api_key = \" \" # Your Api key here\n",
    "\n",
    "# Create a client\n",
    "client = Client(api_key=api_key, environment='dev')"
   ],
   "id": "e2b6ab9cdece41ea",
   "outputs": [],
   "execution_count": 6
  },
  {
   "metadata": {},
   "cell_type": "markdown",
   "source": [
    "## Creating an \"agent\"\n",
    "\n",
    "Agent is the object to which LLM settings, like model, temperature along with tools are scoped to.\n",
    "\n",
    "To learn more about the agent, please refer to the [documentation](https://github.com/julep-ai/julep/blob/dev/docs/julep-concepts.md#agent). "
   ],
   "id": "c0d9ca5912a09106"
  },
  {
   "metadata": {},
   "cell_type": "code",
   "source": [
    "# Defining the agent \n",
    "name = \"Jarvis\"\n",
    "about = \"The original AI conscious the Iron Man.\"\n",
    "default_settings = {\n",
    "    \"temperature\": 0.7,\n",
    "    \"top_p\": 1,\n",
    "    \"min_p\": 0.01,\n",
    "    \"presence_penalty\": 0,\n",
    "    \"frequency_penalty\": 0,\n",
    "    \"length_penalty\": 1.0,\n",
    "    \"max_tokens\": 150,\n",
    "}\n",
    "\n",
    "\n",
    "# Create the agent\n",
    "agent = client.agents.create_or_update(\n",
    "    agent_id=AGENT_UUID,\n",
    "    name=name,\n",
    "    about=about,\n",
    "    model=\"gpt-4o\",\n",
    ")\n",
    "\n",
    "# Add a web search tool to the client\n",
    "client.agents.tools.create(\n",
    "    agent_id=AGENT_UUID,\n",
    "    name=\"web_search\",\n",
    "    integration={\n",
    "        \"provider\": \"brave\",\n",
    "        \"method\": \"search\",\n",
    "        \"setup\": {\"api_key\": \"your_brave_api_key\"},\n",
    "    }, \n",
    ")"
   ],
   "id": "9a18adf8dec1bdb9",
   "outputs": [],
   "execution_count": null
  },
  {
   "metadata": {},
   "cell_type": "markdown",
   "source": [
    "## Defining the task \n",
    "\n",
    "Tasks in Julep are GitHub Actions style workflows that define long-running, multistep actions.\n",
    "You can use them to conduct complex actions by defining them step-by-step. They have access to all Julep integrations.\n",
    "\n",
    "To learn more about tasks, visit [Julep documentation](https://github.com/julep-ai/julep/blob/dev/docs/julep-concepts.md#task)."
   ],
   "id": "a4682252c6b8821"
  },
  {
   "metadata": {},
   "cell_type": "code",
   "outputs": [],
   "execution_count": null,
   "source": "import yaml",
   "id": "13389daf55522540"
  },
  {
   "metadata": {},
   "cell_type": "markdown",
   "source": "More on how to define a task can be found [here](https://github.com/julep-ai/julep/blob/dev/docs/julep-concepts.md).",
   "id": "36d2c0ccf148eae4"
  },
  {
   "metadata": {},
   "cell_type": "code",
   "outputs": [],
   "execution_count": null,
   "source": [
    "# Defining a Task with various step types\n",
    "task_def = yaml.safe_load(\"\"\"\n",
    "name: Multi-Step Task Demonstration\n",
    "\n",
    "input_schema:\n",
    "  type: object\n",
    "  properties:\n",
    "    topic:\n",
    "      type: string\n",
    "      description: The topic to research and summarize.\n",
    "\n",
    "tools:\n",
    "  - name: web_search\n",
    "    type: integration\n",
    "    integration:\n",
    "      provider: brave\n",
    "      setup:\n",
    "        api_key: \"your_api_key\"\n",
    "\n",
    "main:\n",
    "  # Step 1: Prompt - Initial research question\n",
    "  - prompt:\n",
    "      - role: system\n",
    "        content: \"You are a research assistant. Your task is to formulate three specific research questions about the given topic: {{inputs[0].topic}}\"\n",
    "    unwrap: true\n",
    "\n",
    "  # Step 2: Tool Call - Web search for each question\n",
    "  - foreach:\n",
    "      in: _.split('\\\\n')\n",
    "      do:\n",
    "        tool: web_search\n",
    "        arguments:\n",
    "          query: _\n",
    "\n",
    "  # Step 3: Evaluate - Extract relevant information\n",
    "  - evaluate:\n",
    "      relevant_info: \"[output for output in _]\"\n",
    "\n",
    "  # Step 4: Conditional Logic - Check if enough information is gathered\n",
    "  - if: \"len(_.relevant_info) >= 3\"\n",
    "    then:\n",
    "      prompt:\n",
    "        - role: system\n",
    "          content: \"Summarize the following information about {{inputs[0].topic}}:\\n{{_.relevant_info}}\"\n",
    "      unwrap: true\n",
    "    else:\n",
    "      prompt:\n",
    "        - role: system\n",
    "          content: \"Not enough information gathered. Please provide a brief overview of {{inputs[0].topic}} based on your knowledge.\"\n",
    "      unwrap: true\n",
    "\n",
    "  # Step 5: Log - Record the summary\n",
    "  - log: \"Summary for {{inputs[0].topic}}: {{_}}\"\n",
    "\n",
    "  # Step 6: Return - Final output\n",
    "  - return: \n",
    "      summary: \"_\"\n",
    "      topic: \"inputs[0].topic\"\n",
    "\"\"\")"
   ],
   "id": "ecf5932a47b6b20f"
  },
  {
   "metadata": {},
   "cell_type": "markdown",
   "source": "Creating/Updating a task.",
   "id": "41673e40973bdc01"
  },
  {
   "metadata": {},
   "cell_type": "code",
   "outputs": [],
   "execution_count": null,
   "source": [
    "# Creating the task update\n",
    "task = client.tasks.create_or_update(\n",
    "    task_id=TASK_UUID,\n",
    "    agent_id=AGENT_UUID,\n",
    "    **task_def\n",
    ")"
   ],
   "id": "2b1daebd503b0e9"
  },
  {
   "metadata": {},
   "cell_type": "markdown",
   "source": [
    "## Creating an Execution\n",
    "\n",
    "An execution is a single run of a task. It is a way to run a task with a specific set of inputs."
   ],
   "id": "2ffbb8084d6e5263"
  },
  {
   "metadata": {},
   "cell_type": "markdown",
   "source": "Creates an execution workflow for the Task defined in the yaml file.",
   "id": "5ed9c89951a5afd"
  },
  {
   "metadata": {},
   "cell_type": "code",
   "outputs": [],
   "execution_count": null,
   "source": [
    "# Creating an Execution object\n",
    "execution = client.executions.create(\n",
    "    task_id=TASK_UUID,\n",
    "    input={\n",
    "        \"topic\": \"Artificial Intelligence in Healthcare\"\n",
    "    }\n",
    ")"
   ],
   "id": "1f484cb1f9070be"
  },
  {
   "metadata": {},
   "cell_type": "code",
   "outputs": [],
   "execution_count": null,
   "source": [
    "# Getting the execution details\n",
    "execution = client.executions.get(execution.id)\n",
    "# printing the output\n",
    "print(\"Execution Output:\")\n",
    "print(client.executions.transitions.list(execution_id=execution.id).items[0].output)"
   ],
   "id": "8ec3d6369a63fff8"
  },
  {
   "metadata": {},
   "cell_type": "markdown",
   "source": "Retrieves and lists all the steps of a defined task that have been executed up to that point in time. Unlike streaming, this function does not continuously monitor the execution; it only provides a snapshot of the steps completed so far without displaying real-time updates as the task progresses.",
   "id": "74303de966421da4"
  },
  {
   "metadata": {},
   "cell_type": "code",
   "outputs": [],
   "execution_count": null,
   "source": "client.executions.transitions.list(execution_id=execution.id).items",
   "id": "521d67fa1da8dac0"
  },
  {
   "metadata": {},
   "cell_type": "markdown",
   "source": "Continuously monitor and stream the steps of a defined task. It retrieves and displays the transitions or execution steps of the task identified by execution. id in real-time, showing each step sequentially until the task is either completed or an error causes it to terminate.",
   "id": "a553e189b15ea0f7"
  },
  {
   "metadata": {},
   "cell_type": "code",
   "outputs": [],
   "execution_count": null,
   "source": "client.executions.transitions.stream(execution_id=execution.id)",
   "id": "db2f1bb09e82e474"
  }
 ],
 "metadata": {
  "kernelspec": {
   "display_name": "Python 3",
   "language": "python",
   "name": "python3"
  },
  "language_info": {
   "codemirror_mode": {
    "name": "ipython",
    "version": 2
   },
   "file_extension": ".py",
   "mimetype": "text/x-python",
   "name": "python",
   "nbconvert_exporter": "python",
   "pygments_lexer": "ipython2",
   "version": "2.7.6"
  }
 },
 "nbformat": 4,
 "nbformat_minor": 5
}
