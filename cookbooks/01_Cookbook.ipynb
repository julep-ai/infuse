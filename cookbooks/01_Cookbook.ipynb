{
 "cells": [
  {
   "cell_type": "markdown",
   "metadata": {},
   "source": [
    "# Task Definition: Sarcastic News Headline Generator using DuckDuckGo Integration\n",
    "\n",
    "## Overview\n",
    "\n",
    "This task is designed to generate a sarcastic news headline on a specific topic provided by the user. The process utilizes a web search to gather additional information and context about the topic and then uses that information to create a headline with a sarcastic tone. Below is a breakdown of how the task works:\n",
    "\n",
    "### Task Flow\n",
    "\n",
    "1. **Input**: The user provides a topic for the sarcastic news headline. For example, this could be \"technology\" or \"politics.\"\n",
    "\n",
    "2. **Web Search Tool using DuckDuckGo Integration**: \n",
    "   - A search is conducted to find additional information about the topic. The search engine looks for funny or humorous content related to the given subject. \n",
    "   - This helps in gathering relevant context and funny details to be used in the headline generation.\n",
    "\n",
    "3. **Headline Creation by the Agent**: \n",
    "   - Based on the topic and the gathered information, the system generates a sarcastic news headline. The result is a headline that mixes factual or common perceptions of the topic with humor and sarcasm.\n",
    "   \n",
    "4. **Output**: The final result is a sarcastic, witty headline on the given topic, which can be used for entertainment or as a creative writing prompt.\n",
    "\n",
    "\n",
    "This task leverages web search to enhance the system's ability to generate sarcastic content, making the results more contextually relevant and amusing."
   ]
  },
  {
   "cell_type": "markdown",
   "metadata": {},
   "source": [
    "To recreate the notebook, a link to the Colab notebook is provided below. The notebook contains the code implementation for the task.\n",
    "\n",
    "[![Open In Colab](https://colab.research.google.com/assets/colab-badge.svg)](https://drive.google.com/file/d/1JLXPn-MWxA-4rVABuZ0ZvIcdh6AQVnRf/view?usp=sharing)\n",
    "\n",
    "For more details on the task or any questions, please feel free to reach out to the author, [Julep AI](hey@julep.ai)."
   ]
  },
  {
   "cell_type": "markdown",
   "metadata": {},
   "source": [
    "Installing the Julep Client"
   ]
  },
  {
   "cell_type": "code",
   "execution_count": 10,
   "metadata": {},
   "outputs": [],
   "source": [
    "!pip install julep -U --quiet"
   ]
  },
  {
   "cell_type": "markdown",
   "metadata": {},
   "source": [
    "#### NOTE:\n",
    "\n",
    "The uuid is generated for the agent and task, and is used to identify the agent and task in the system. Once the agent and task are created, the uuid should not be changed for simplicity.\n",
    "\n",
    "Changing the uuid will cause the agent and task to be treated as a new agent and task respectively. The previous agent and task will still persist in the system."
   ]
  },
  {
   "cell_type": "code",
   "execution_count": 11,
   "metadata": {},
   "outputs": [],
   "source": [
    "# Global UUID is generated for agent and task\n",
    "import uuid\n",
    "\n",
    "AGENT_UUID = uuid.uuid4()\n",
    "TASK_UUID = uuid.uuid4() "
   ]
  },
  {
   "cell_type": "markdown",
   "metadata": {},
   "source": [
    "### Creating Julep Client with the API Key"
   ]
  },
  {
   "cell_type": "code",
   "execution_count": 12,
   "metadata": {},
   "outputs": [],
   "source": [
    "from julep import Client\n",
    "\n",
    "api_key = \"\" # Your API key here\n",
    "\n",
    "# Create a client\n",
    "client = Client(api_key=api_key, environment=\"dev\")"
   ]
  },
  {
   "cell_type": "markdown",
   "metadata": {},
   "source": [
    "## Creating an \"agent\"\n",
    "\n",
    "\n",
    "Agent is the object to which LLM settings, like model, temperature along with tools are scoped to.\n",
    "\n",
    "To learn more about the agent, please refer to the [documentation](https://github.com/julep-ai/julep/blob/dev/docs/julep-concepts.md#agent)."
   ]
  },
  {
   "cell_type": "code",
   "execution_count": 13,
   "metadata": {},
   "outputs": [],
   "source": [
    "# Defining the agent\n",
    "name = \"Jarvis\"\n",
    "about = \"The original AI conscious the Iron Man.\"\n",
    "default_settings = {\n",
    "    \"temperature\": 0.7,\n",
    "    \"top_p\": 1,\n",
    "    \"min_p\": 0.01,\n",
    "    \"presence_penalty\": 0,\n",
    "    \"frequency_penalty\": 0,\n",
    "    \"length_penalty\": 1.0,\n",
    "    \"max_tokens\": 150,\n",
    "}\n",
    "\n",
    "\n",
    "# Create the agent\n",
    "agent = client.agents.create_or_update(\n",
    "    agent_id=AGENT_UUID,\n",
    "    name=name,\n",
    "    about=about,\n",
    "    model=\"gpt-4o\",\n",
    ")"
   ]
  },
  {
   "cell_type": "markdown",
   "metadata": {},
   "source": [
    "## Listing all the agents\n",
    "\n",
    "We list the agents to see what agents are available."
   ]
  },
  {
   "cell_type": "code",
   "execution_count": null,
   "metadata": {},
   "outputs": [],
   "source": [
    "# Listing all agents available in the account\n",
    "get_agents = client.agents.list()\n",
    "get_agents.items"
   ]
  },
  {
   "cell_type": "markdown",
   "metadata": {},
   "source": [
    "We get the current agent ID from the list of agents."
   ]
  },
  {
   "cell_type": "code",
   "execution_count": null,
   "metadata": {},
   "outputs": [],
   "source": [
    "# get the agent id\n",
    "agent_id = get_agents.items[0].id\n",
    "agent_id"
   ]
  },
  {
   "cell_type": "markdown",
   "metadata": {},
   "source": [
    "## Defining a Task\n",
    "\n",
    "Tasks in Julep are Github Actions style workflows that define long-running, multi-step actions. \n",
    "You can use them to conduct complex actions by defining them step-by-step. They have access to all Julep integrations.\n",
    "\n",
    "To learn more about tasks, visit [Julep documentation](https://github.com/julep-ai/julep/blob/dev/docs/julep-concepts.md#task)."
   ]
  },
  {
   "cell_type": "code",
   "execution_count": 16,
   "metadata": {},
   "outputs": [],
   "source": [
    "import yaml"
   ]
  },
  {
   "cell_type": "markdown",
   "metadata": {},
   "source": [
    "Here is a Task which uses a agent to generate a sarcastic response to a given text using a DuckDuckGo search tool.\n",
    "\n",
    "More on how to define a task can be found [here](https://github.com/julep-ai/julep/blob/dev/docs/julep-concepts.md)."
   ]
  },
  {
   "cell_type": "code",
   "execution_count": 17,
   "metadata": {},
   "outputs": [],
   "source": [
    "# defining the task definition\n",
    "task_def = yaml.safe_load(\"\"\"\n",
    "name: write a sarcastic news headline on a topic\n",
    "\n",
    "tools:\n",
    "- name: websearch\n",
    "  type: integration\n",
    "  integration:\n",
    "    provider: duckduckgo_search\n",
    "\n",
    "main:\n",
    "- tool: websearch\n",
    "  arguments:\n",
    "    query: \"_.topic + ' funny'\"\n",
    "\n",
    "- prompt:\n",
    "  - role: system\n",
    "    content: >-\n",
    "      write a sarcastic news headline on the topic of {{inputs[0].topic}}.\n",
    "      Here's some more info on this: {{_}}\n",
    "  unwrap: true\n",
    "\n",
    "\"\"\")"
   ]
  },
  {
   "cell_type": "markdown",
   "metadata": {},
   "source": [
    "Creating/Updating a task to generate a sarcastic response to a given text using a Intergation."
   ]
  },
  {
   "cell_type": "code",
   "execution_count": 18,
   "metadata": {},
   "outputs": [],
   "source": [
    "# creating the task object\n",
    "task = client.tasks.create_or_update(\n",
    "    task_id=TASK_UUID,\n",
    "    agent_id=AGENT_UUID,\n",
    "    **task_def\n",
    ")"
   ]
  },
  {
   "cell_type": "code",
   "execution_count": null,
   "metadata": {},
   "outputs": [],
   "source": [
    "#listing all tasks for a given agent\n",
    "get_tasks = client.tasks.list(agent_id=AGENT_UUID)\n",
    "get_tasks.items "
   ]
  },
  {
   "cell_type": "markdown",
   "metadata": {},
   "source": [
    "## Creating an Execution\n",
    "\n",
    "An execution is a single run of a task. It is a way to run a task with a specific set of inputs."
   ]
  },
  {
   "cell_type": "markdown",
   "metadata": {},
   "source": [
    "Creates a execution worflow for the Task defined in the yaml file."
   ]
  },
  {
   "cell_type": "code",
   "execution_count": 21,
   "metadata": {},
   "outputs": [],
   "source": [
    "# creating an execution object\n",
    "execution = client.executions.create(\n",
    "    task_id=TASK_UUID,\n",
    "    input={\n",
    "        \"topic\": \"elon musk\"\n",
    "    }\n",
    ")"
   ]
  },
  {
   "cell_type": "code",
   "execution_count": null,
   "metadata": {},
   "outputs": [],
   "source": [
    "# getting the execution details\n",
    "execution = client.executions.get(execution.id)\n",
    "#printing the output\n",
    "execution.output"
   ]
  },
  {
   "cell_type": "markdown",
   "metadata": {},
   "source": [
    "Streaming execution steps of the defined Task."
   ]
  },
  {
   "cell_type": "code",
   "execution_count": null,
   "metadata": {},
   "outputs": [],
   "source": [
    "client.executions.transitions.stream(execution_id=execution.id)"
   ]
  },
  {
   "cell_type": "markdown",
   "metadata": {},
   "source": [
    "Lisitng all the executions states of the task."
   ]
  },
  {
   "cell_type": "code",
   "execution_count": null,
   "metadata": {},
   "outputs": [],
   "source": [
    "client.executions.transitions.list(execution_id=execution.id).items"
   ]
  }
 ],
 "metadata": {
  "kernelspec": {
   "display_name": "ai",
   "language": "python",
   "name": "python3"
  },
  "language_info": {
   "codemirror_mode": {
    "name": "ipython",
    "version": 3
   },
   "file_extension": ".py",
   "mimetype": "text/x-python",
   "name": "python",
   "nbconvert_exporter": "python",
   "pygments_lexer": "ipython3",
   "version": "3.11.5"
  }
 },
 "nbformat": 4,
 "nbformat_minor": 2
}
