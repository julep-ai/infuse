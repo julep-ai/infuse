{
 "cells": [
  {
   "cell_type": "markdown",
   "metadata": {},
   "source": [
    "# Task: Research Assistant with Web Search Integration\n",
    "\n",
    "## Overview\n",
    "\n",
    "This task involves conducting research on a list of topics provided by the user. The task flow includes performing web searches to gather information on the latest news for each topic, generating relevant keywords, and utilizing various tools to accomplish the task efficiently.\n",
    "\n",
    "### Task Flow\n",
    "\n",
    "1. **Input**: \n",
    "   - The user provides a list of topics they want to research. Each topic is handled individually to gather relevant information.\n",
    "\n",
    "2. **Web Search and Context**: \n",
    "   - For each topic, a web search is conducted using DuckDuckGo to find the latest news and information.\n",
    "   \n",
    "3. **Research Assistant**: \n",
    "   - The system analyzes the search results (HTML snippets) and generates a list of Wikipedia keywords related to the topic.\n",
    "   - A prompt instructs the assistant to identify relevant keywords based on the search result content.\n",
    "\n",
    "4. **Parallel Processing**: \n",
    "   - The task allows for parallel processing of topics to improve efficiency and speed up the keyword generation process.\n",
    "\n",
    "This workflow allows for efficient gathering of research topics and relevant Wikipedia keywords, providing a comprehensive approach to in-depth topic exploration.\n"
   ]
  },
  {
   "cell_type": "markdown",
   "metadata": {},
   "source": [
    "To recreate the notebook, a link to the Colab notebook is provided below. The notebook contains the code implementation for the task.\n",
    "\n",
    "[![Open In Colab](https://colab.research.google.com/assets/colab-badge.svg)](https://drive.google.com/file/d/1C_yeSW4hAMLp0kNseXoxGpAA2cpC9DLu/view?usp=sharing)\n",
    "\n",
    "For more details on the task or any questions, please feel free to reach out to the author, [Julep AI](hey@julep.ai)."
   ]
  },
  {
   "cell_type": "markdown",
   "metadata": {},
   "source": [
    "Installing the Julep Client"
   ]
  },
  {
   "cell_type": "code",
   "execution_count": 1,
   "metadata": {},
   "outputs": [],
   "source": [
    "!pip install julep -U --quiet"
   ]
  },
  {
   "cell_type": "markdown",
   "metadata": {},
   "source": [
    "#### NOTE:\n",
    "\n",
    "The uuid is generated for the agent and task, and is used to identify the agent and task in the system. Once the agent and task are created, the uuid should not be changed for simplicity.\n",
    "\n",
    "Changing the uuid will cause the agent and task to be treated as a new agent and task respectively. The previous agent and task will still persist in the system."
   ]
  },
  {
   "cell_type": "code",
   "execution_count": 2,
   "metadata": {},
   "outputs": [],
   "source": [
    "# Global UUID is generated for agent and task\n",
    "import uuid\n",
    "\n",
    "AGENT_UUID = uuid.uuid4()\n",
    "TASK_UUID = uuid.uuid4() "
   ]
  },
  {
   "cell_type": "markdown",
   "metadata": {},
   "source": [
    "### Creating Julep Client with the API Key"
   ]
  },
  {
   "cell_type": "code",
   "execution_count": 3,
   "metadata": {},
   "outputs": [],
   "source": [
    "from julep import Client\n",
    "\n",
    "api_key = \"\" # Your API key here\n",
    "\n",
    "# Create a client\n",
    "client = Client(api_key=api_key, environment=\"dev\")"
   ]
  },
  {
   "cell_type": "markdown",
   "metadata": {},
   "source": [
    "## Creating an \"agent\"\n",
    "\n",
    "\n",
    "Agent is the object to which LLM settings, like model, temperature along with tools are scoped to.\n",
    "\n",
    "To learn more about the agent, please refer to the [documentation](https://github.com/julep-ai/julep/blob/dev/docs/julep-concepts.md#agent)."
   ]
  },
  {
   "cell_type": "code",
   "execution_count": 4,
   "metadata": {},
   "outputs": [],
   "source": [
    "# Defining the agent\n",
    "name = \"Jarvis\"\n",
    "about = \"The original AI conscious the Iron Man.\"\n",
    "default_settings = {\n",
    "    \"temperature\": 0.7,\n",
    "    \"top_p\": 1,\n",
    "    \"min_p\": 0.01,\n",
    "    \"presence_penalty\": 0,\n",
    "    \"frequency_penalty\": 0,\n",
    "    \"length_penalty\": 1.0,\n",
    "    \"max_tokens\": 150,\n",
    "}\n",
    "\n",
    "\n",
    "# Create the agent\n",
    "agent = client.agents.create_or_update(\n",
    "    agent_id=AGENT_UUID,\n",
    "    name=name,\n",
    "    about=about,\n",
    "    model=\"gpt-4o\",\n",
    ")"
   ]
  },
  {
   "cell_type": "markdown",
   "metadata": {},
   "source": [
    "## Listing all the agents\n",
    "\n",
    "We list the agents to see what agents are available."
   ]
  },
  {
   "cell_type": "code",
   "execution_count": null,
   "metadata": {},
   "outputs": [],
   "source": [
    "# Listing all agents available in the account\n",
    "get_agents = client.agents.list()\n",
    "get_agents.items"
   ]
  },
  {
   "cell_type": "markdown",
   "metadata": {},
   "source": [
    "We get the current agent ID from the list of agents."
   ]
  },
  {
   "cell_type": "code",
   "execution_count": null,
   "metadata": {},
   "outputs": [],
   "source": [
    "# get the agent id\n",
    "agent_id = get_agents.items[0].id\n",
    "agent_id"
   ]
  },
  {
   "cell_type": "markdown",
   "metadata": {},
   "source": [
    "## Defining a Task\n",
    "\n",
    "Tasks in Julep are Github Actions style workflows that define long-running, multi-step actions. \n",
    "You can use them to conduct complex actions by defining them step-by-step. They have access to all Julep integrations.\n",
    "\n",
    "To learn more about tasks, visit [Julep documentation](https://github.com/julep-ai/julep/blob/dev/docs/julep-concepts.md#task)."
   ]
  },
  {
   "cell_type": "code",
   "execution_count": 7,
   "metadata": {},
   "outputs": [],
   "source": [
    "import yaml"
   ]
  },
  {
   "cell_type": "markdown",
   "metadata": {},
   "source": [
    "Here is a Task which uses a agent to generate a sarcastic response to a given text using a DuckDuckGo and Wikipedia tool.\n",
    "\n",
    "More on how to define a task can be found [here](https://github.com/julep-ai/julep/blob/dev/docs/julep-concepts.md)."
   ]
  },
  {
   "cell_type": "code",
   "execution_count": 8,
   "metadata": {},
   "outputs": [],
   "source": [
    "task_def= yaml.safe_load(\"\"\"\n",
    "name: Research Assistant to find Wikipedia Keywords\n",
    "\n",
    "input_schema:\n",
    "  type: object\n",
    "  properties:\n",
    "    topics:\n",
    "      type: array\n",
    "      items:\n",
    "        type: string\n",
    "      description: The topics to search for.\n",
    "    location:\n",
    "      type: array\n",
    "      items:\n",
    "        type: string\n",
    "      description: The loacation to search for.\n",
    "\n",
    "tools:\n",
    "- name: websearch\n",
    "  type: integration\n",
    "  integration:\n",
    "    provider: duckduckgo_search\n",
    "\n",
    "main:\n",
    "- over: _.topics\n",
    "  map:\n",
    "    tool: websearch\n",
    "    arguments:\n",
    "      query: \"'the latest news about ' + _\"\n",
    "\n",
    "- over: _\n",
    "  parallelism: 2\n",
    "  map:\n",
    "    prompt:\n",
    "    - role: system\n",
    "      content: >-\n",
    "        You are a research assistant.\n",
    "        I need you to do in-depth research on topics trending in the news currently.\n",
    "        Based on the following latest html news snippet, come up with a list of wikipedia keywords to search:\n",
    "        \"{{_}}\"\n",
    "        Your response should be a list of keywords, separated by commas. Do not add any other text.\n",
    "        Example: `KEYWORDS: keyword1, keyword2, keyword3`\n",
    "\n",
    "    unwrap: true\n",
    "\"\"\")"
   ]
  },
  {
   "cell_type": "markdown",
   "metadata": {},
   "source": [
    "Creating/Updating a task to generate a sarcastic response to a given text using a Intergation."
   ]
  },
  {
   "cell_type": "code",
   "execution_count": 9,
   "metadata": {},
   "outputs": [],
   "source": [
    "# creating the task object\n",
    "task = client.tasks.create_or_update(\n",
    "    task_id=TASK_UUID,\n",
    "    agent_id=AGENT_UUID,\n",
    "    **task_def\n",
    ")"
   ]
  },
  {
   "cell_type": "code",
   "execution_count": null,
   "metadata": {},
   "outputs": [],
   "source": [
    "#listing all tasks for a given agent\n",
    "get_tasks = client.tasks.list(agent_id=AGENT_UUID)\n",
    "get_tasks.items "
   ]
  },
  {
   "cell_type": "markdown",
   "metadata": {},
   "source": [
    "## Creating an Execution\n",
    "\n",
    "An execution is a single run of a task. It is a way to run a task with a specific set of inputs."
   ]
  },
  {
   "cell_type": "markdown",
   "metadata": {},
   "source": [
    "Creates a execution worflow for the Task defined in the yaml file."
   ]
  },
  {
   "cell_type": "code",
   "execution_count": 11,
   "metadata": {},
   "outputs": [],
   "source": [
    "execution= client.executions.create(\n",
    "    task_id=task.id,\n",
    "    input={\n",
    "        \"topics\": [\"Burger King Cup on the Ground Behind a Wendy’s\",\"Forbidden Chemical X\",\"Finger Bracelets\",\"Amusing Notions\"]\n",
    "    }\n",
    ")"
   ]
  },
  {
   "cell_type": "code",
   "execution_count": null,
   "metadata": {},
   "outputs": [],
   "source": [
    "execution.id"
   ]
  },
  {
   "cell_type": "code",
   "execution_count": null,
   "metadata": {},
   "outputs": [],
   "source": [
    "# getting the execution details\n",
    "execution = client.executions.get(execution.id)\n",
    "#printing the output\n",
    "execution.output"
   ]
  },
  {
   "cell_type": "markdown",
   "metadata": {},
   "source": [
    "Streaming execution steps of the defined Task."
   ]
  },
  {
   "cell_type": "code",
   "execution_count": null,
   "metadata": {},
   "outputs": [],
   "source": [
    "client.executions.transitions.stream(execution_id=execution.id)"
   ]
  },
  {
   "cell_type": "markdown",
   "metadata": {},
   "source": [
    "Listing the execution states."
   ]
  },
  {
   "cell_type": "code",
   "execution_count": null,
   "metadata": {},
   "outputs": [],
   "source": [
    "client.executions.transitions.list(execution_id=execution.id).items"
   ]
  }
 ],
 "metadata": {
  "kernelspec": {
   "display_name": "ai",
   "language": "python",
   "name": "python3"
  },
  "language_info": {
   "codemirror_mode": {
    "name": "ipython",
    "version": 3
   },
   "file_extension": ".py",
   "mimetype": "text/x-python",
   "name": "python",
   "nbconvert_exporter": "python",
   "pygments_lexer": "ipython3",
   "version": "3.11.5"
  }
 },
 "nbformat": 4,
 "nbformat_minor": 2
}
