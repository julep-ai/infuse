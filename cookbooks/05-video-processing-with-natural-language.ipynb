{
 "cells": [
  {
   "cell_type": "markdown",
   "metadata": {},
   "source": [
    "<div align=\"center\" id=\"top\">\n",
    " <img src=\"https://socialify.git.ci/julep-ai/julep/image?description=1&descriptionEditable=API%20for%20AI%20agents%20and%20multi-step%20tasks&forks=1&name=1&owner=1&pattern=Solid&stargazers=1&font=Source%20Code%20Pro&logo=https%3A%2F%2Fraw.githubusercontent.com%2Fjulep-ai%2Fjulep%2Fdev%2F.github%2Fjulep-logo.svg&theme=Auto\" alt=\"julep\" width=\"640\" height=\"320\" />\n",
    "</div>\n",
    "\n",
    "<p align=\"center\">\n",
    "  <br />\n",
    "  <a href=\"https://docs.julep.ai\" rel=\"dofollow\">Explore Docs (wip)</a>\n",
    "  ·\n",
    "  <a href=\"https://discord.com/invite/JTSBGRZrzj\" rel=\"dofollow\">Discord</a>\n",
    "  ·\n",
    "  <a href=\"https://x.com/julep_ai\" rel=\"dofollow\">𝕏</a>\n",
    "  ·\n",
    "  <a href=\"https://www.linkedin.com/company/julep-ai\" rel=\"dofollow\">LinkedIn</a>\n",
    "</p>\n",
    "\n",
    "<p align=\"center\">\n",
    "    <a href=\"https://www.npmjs.com/package/@julep/sdk\"><img src=\"https://img.shields.io/npm/v/%40julep%2Fsdk?style=social&amp;logo=npm&amp;link=https%3A%2F%2Fwww.npmjs.com%2Fpackage%2F%40julep%2Fsdk\" alt=\"NPM Version\"></a>\n",
    "    <span>&nbsp;</span>\n",
    "    <a href=\"https://pypi.org/project/julep\"><img src=\"https://img.shields.io/pypi/v/julep?style=social&amp;logo=python&amp;label=PyPI&amp;link=https%3A%2F%2Fpypi.org%2Fproject%2Fjulep\" alt=\"PyPI - Version\"></a>\n",
    "    <span>&nbsp;</span>\n",
    "    <a href=\"https://hub.docker.com/u/julepai\"><img src=\"https://img.shields.io/docker/v/julepai/agents-api?sort=semver&amp;style=social&amp;logo=docker&amp;link=https%3A%2F%2Fhub.docker.com%2Fu%2Fjulepai\" alt=\"Docker Image Version\"></a>\n",
    "    <span>&nbsp;</span>\n",
    "    <a href=\"https://choosealicense.com/licenses/apache/\"><img src=\"https://img.shields.io/github/license/julep-ai/julep\" alt=\"GitHub License\"></a>\n",
    "</p>\n",
    "\n",
    "## Task Definition: Video Processing with Natural Language\n",
    "\n",
    "### Overview\n",
    "\n",
    "This task is leverages the cloudinary `integration` tool, and combines it with a prompt step to convert a natural language instructions and apply them to a given video.\n",
    "\n",
    "### Task Tools:\n",
    "\n",
    "**Cloudinary**: An `integration` type tool that can upload and transform media files.\n",
    "\n",
    "### Task Input:\n",
    "\n",
    "**video_url**: The URL of the video to transform.\n",
    "\n",
    "**public_id**: The public id of the video to transform.\n",
    "\n",
    "**transformation_prompt**: The natural language instructions to apply to the video.\n",
    "\n",
    "### Task Output:\n",
    "\n",
    "**transformed_video_url**: The URL of the transformed video.\n",
    "\n",
    "### Task Flow\n",
    "\n",
    "1. **Input**: The user provides a URL to a video and transoformation instrucitons (in natural language) to apply to the video.\n",
    "\n",
    "2. **Cloudinary Tool Integration**: The `cloudinary_upload` tool is called to upload the video to cloudinary.\n",
    "\n",
    "3. **Prompt Step**: The prompt step is used to convert the natural language instructions into a json of transformation instructions that are compatible with cloudinary's API. In this step, `gemini-1.5-pro` is used as the model due to its ability to read video files.\n",
    "\n",
    "4. **Cloudinary Tool Integration**: The `cloudinary_upload` tool is called again to apply the transformation instructions to the video.\n",
    "\n",
    "5. **Output**: The final output is the URL of the transformed video.\n",
    "\n",
    "```plaintext\n",
    "+----------+     +------------+     +------------+     +-----------+\n",
    "|  Video   |     | Cloudinary |     |  Prompt    |     | Processed |\n",
    "|  Input   | --> |  Upload    | --> |  Step      | --> |  Video    |\n",
    "|          |     |            |     | (Gemini)   |     |           |\n",
    "+----------+     +------------+     +------------+     +-----------+\n",
    "      |                |                  |                  |\n",
    "      |                |                  |                  |\n",
    "      v                v                  v                  v\n",
    "\"video.mp4 +    Upload video    Generate JSON     \"video.mp4 with\n",
    "NL prompt\"                    transformations     blur & overlay\"\n",
    "```"
   ]
  },
  {
   "cell_type": "markdown",
   "metadata": {},
   "source": [
    "## Implementation\n",
    "\n",
    "To recreate the notebook and see the code implementation for this task, you can access the Google Colab notebook using the link below:\n",
    "\n",
    "<a target=\"_blank\" href=\"https://colab.research.google.com/github/julep-ai/julep/blob/dev/cookbooks/05-video-processing-with-natural-language.ipynb\">\n",
    "  <img src=\"https://colab.research.google.com/assets/colab-badge.svg\" alt=\"Open In Colab\"/>\n",
    "</a>\n",
    "\n",
    "### Additional Information\n",
    "\n",
    "For more details about the task or if you have any questions, please don't hesitate to contact the author:\n",
    "\n",
    "**Author:** Julep AI  \n",
    "**Contact:** [hey@julep.ai](mailto:hey@julep.ai) or  <a href=\"https://discord.com/invite/JTSBGRZrzj\" rel=\"dofollow\">Discord</a>"
   ]
  },
  {
   "cell_type": "markdown",
   "metadata": {},
   "source": [
    "Installing the Julep Client"
   ]
  },
  {
   "cell_type": "code",
   "execution_count": 1,
   "metadata": {},
   "outputs": [],
   "source": [
    "!pip install --upgrade julep --quiet"
   ]
  },
  {
   "cell_type": "code",
   "execution_count": 2,
   "metadata": {},
   "outputs": [],
   "source": [
    "import uuid\n",
    "\n",
    "# NOTE: these UUIDs are used in order not to use the `create_or_update` methods instead of\n",
    "# the `create` methods for the sake of not creating new resources every time a cell is run.\n",
    "AGENT_UUID = uuid.uuid4()\n",
    "TASK_UUID = uuid.uuid4()"
   ]
  },
  {
   "cell_type": "markdown",
   "metadata": {},
   "source": [
    "### Creating Julep Client with the API Key"
   ]
  },
  {
   "cell_type": "code",
   "execution_count": 3,
   "metadata": {},
   "outputs": [],
   "source": [
    "from julep import Client\n",
    "import os\n",
    "\n",
    "api_key = os.getenv(\"JULEP_API_KEY\")\n",
    "\n",
    "# Create a Julep client\n",
    "client = Client(api_key=api_key, environment=\"dev\")"
   ]
  },
  {
   "cell_type": "markdown",
   "metadata": {},
   "source": [
    "## Creating an \"agent\"\n",
    "\n",
    "Agent is the object to which LLM settings, like model, temperature along with tools are scoped to.\n",
    "\n",
    "To learn more about the agent, please refer to the [documentation](https://github.com/julep-ai/julep/blob/dev/docs/julep-concepts.md#agent)."
   ]
  },
  {
   "cell_type": "code",
   "execution_count": 4,
   "metadata": {},
   "outputs": [],
   "source": [
    "# Create agent\n",
    "agent = client.agents.create_or_update(\n",
    "    agent_id=AGENT_UUID,\n",
    "    name=\"Spiderman\",\n",
    "    about=\"AI that can crawl the web and extract data\",\n",
    "    model=\"gpt-4o\",\n",
    ")"
   ]
  },
  {
   "cell_type": "markdown",
   "metadata": {},
   "source": [
    "## Defining a Task\n",
    "\n",
    "Tasks in Julep are Github-Actions-style workflows that define long-running, multi-step actions.\n",
    "\n",
    "You can use them to conduct complex actions by defining them step-by-step.\n",
    "\n",
    "To learn more about tasks, please refer to the `Tasks` section in [Julep Concepts](https://github.com/julep-ai/julep/blob/dev/docs/julep-concepts.md#tasks)."
   ]
  },
  {
   "cell_type": "code",
   "execution_count": 17,
   "metadata": {},
   "outputs": [],
   "source": [
    "import yaml\n",
    "\n",
    "cloudinary_api_key = os.getenv(\"CLOUDINARY_API_KEY\")\n",
    "cloudinary_api_secret = os.getenv(\"CLOUDINARY_API_SECRET\")\n",
    "cloudinary_cloud_name = os.getenv(\"CLOUDINARY_CLOUD_NAME\")\n",
    "\n",
    "# Define the task\n",
    "task_def = yaml.safe_load(f\"\"\"\n",
    "name: Video Processing With Natural Language\n",
    "\n",
    "input_schema:\n",
    "  type: object\n",
    "  properties:\n",
    "    video_url:\n",
    "      type: string\n",
    "      description: The url of the file to upload\n",
    "    public_id:\n",
    "      type: string\n",
    "      description: The public id of the file to upload\n",
    "    transformation_prompt:\n",
    "      type: string\n",
    "      description: The prompt for the transformations to apply to the file\n",
    "\n",
    "tools:\n",
    "- name: cloudinary_upload\n",
    "  type: integration\n",
    "  integration:\n",
    "    provider: cloudinary\n",
    "    method: media_upload\n",
    "    setup:\n",
    "      cloudinary_api_key: \"{cloudinary_api_key}\"\n",
    "      cloudinary_api_secret: \"{cloudinary_api_secret}\"\n",
    "      cloudinary_cloud_name: \"{cloudinary_cloud_name}\"\n",
    "\n",
    "main:\n",
    "- tool: cloudinary_upload\n",
    "  arguments:\n",
    "    file: '_0.video_url'\n",
    "    public_id: '_0.public_id'\n",
    "    upload_params:\n",
    "      resource_type: \"'video'\"\n",
    "\n",
    "- prompt:\n",
    "  - role: user\n",
    "    content:\n",
    "\n",
    "      - type: text\n",
    "        text: |-\n",
    "          You are a Cloudinary expert. You are given a medial url. it might be an image or a video.\n",
    "          You need to come up with a json of transformations to apply to the given media.\n",
    "          Overall the json could have multiple transformation json objects.\n",
    "          Each transformation json object can have the multiple key value pairs.\n",
    "          Each key value pair should have the key as the transformation name like \"aspect_ratio\", \"crop\", \"width\" etc and the value as the transformation parameter value.\n",
    "          Given below is an example of a transformation json list. Don't provide explanations and/or comments in the json.\n",
    "          ```json\n",
    "          [\n",
    "            {{\n",
    "              \"aspect_ratio\": \"1.0\",\n",
    "              \"width\": 250,\n",
    "            }},\n",
    "            {{\n",
    "              \"fetch_format\": \"auto\"\n",
    "            }},\n",
    "            {{\n",
    "              \"overlay\":\n",
    "              {{\n",
    "                \"url\": \"<image_url>\"\n",
    "              }}\n",
    "            }},\n",
    "            {{\n",
    "              \"flags\": \"layer_apply\"\n",
    "            }}\n",
    "          ]\n",
    "          ```\n",
    "      - type: image_url\n",
    "        image_url:\n",
    "          url: \"{{{{_.url}}}}\"\n",
    "\n",
    "      - type: text\n",
    "        text: |-\n",
    "          Hey, check the video above, I need to apply the following transformations using cloudinary.\n",
    "          {{{{_0.transformation_prompt}}}}\n",
    "\n",
    "  unwrap: true\n",
    "  settings:\n",
    "    model: gemini/gemini-1.5-pro\n",
    "\n",
    "# Extract the json from the model's response\n",
    "- evaluate:\n",
    "    model_transformation: load_json(\n",
    "        _[_.find(\"```json\")+7:][:_[_.find(\"```json\")+7:].find(\"```\")])\n",
    "\n",
    "- tool: cloudinary_upload\n",
    "  arguments:\n",
    "    file: '_0.video_url'\n",
    "    public_id: '_0.public_id'\n",
    "    upload_params:\n",
    "      transformation: '_.model_transformation'\n",
    "      resource_type: \"'video'\"\n",
    "\n",
    "- evaluate:\n",
    "    transformed_video_url: '_.url'\n",
    "\"\"\")"
   ]
  },
  {
   "cell_type": "markdown",
   "metadata": {},
   "source": [
    "<span style=\"color:olive;\">Notes:</span>\n",
    "- The reason for using the quadruple curly braces `{{{{}}}}` for the jinja template is to avoid conflicts with the curly braces when using the `f` formatted strings in python. [More information here](https://stackoverflow.com/questions/64493332/jinja-templating-in-airflow-along-with-formatted-text)\n",
    "- The `unwrap: True` in the prompt step is used to unwrap the output of the prompt step (to unwrap the `choices[0].message.content` from the output of the model).\n"
   ]
  },
  {
   "cell_type": "markdown",
   "metadata": {},
   "source": [
    "## Creating/Updating a task"
   ]
  },
  {
   "cell_type": "code",
   "execution_count": 18,
   "metadata": {},
   "outputs": [],
   "source": [
    "# creating the task object\n",
    "task = client.tasks.create_or_update(\n",
    "    task_id=TASK_UUID,\n",
    "    agent_id=AGENT_UUID,\n",
    "    **task_def\n",
    ")"
   ]
  },
  {
   "cell_type": "markdown",
   "metadata": {},
   "source": [
    "## Creating an Execution"
   ]
  },
  {
   "cell_type": "markdown",
   "metadata": {},
   "source": [
    "An execution is a single run of a task. It is a way to run a task with a specific set of inputs."
   ]
  },
  {
   "cell_type": "code",
   "execution_count": 43,
   "metadata": {},
   "outputs": [
    {
     "data": {
      "text/plain": [
       "'1021a8d6-5050-48c3-b23e-6d96578d1026'"
      ]
     },
     "execution_count": 43,
     "metadata": {},
     "output_type": "execute_result"
    }
   ],
   "source": [
    "# creating an execution object\n",
    "transformation_prompt = \"\"\"\n",
    "1- I want to add an overlay an the following image to the video, and apply a layer apply flag also. Here's the image url:\n",
    "https://res.cloudinary.com/demo/image/upload/logos/cloudinary_icon_white.png\n",
    "\n",
    "2- I also want you to to blur the video, and add a fade in and fade out effect to the video with a duration of 3 seconds each.\n",
    "\"\"\"\n",
    "\n",
    "input_video_url = \"http://commondatastorage.googleapis.com/gtv-videos-bucket/sample/ForBiggerMeltdowns.mp4\"\n",
    "\n",
    "execution = client.executions.create(\n",
    "    task_id=TASK_UUID,\n",
    "    input={\n",
    "        \"video_url\":  input_video_url,\n",
    "        \"public_id\": \"video_test2\",\n",
    "        \"transformation_prompt\": transformation_prompt,\n",
    "    }\n",
    ")\n",
    "execution.id"
   ]
  },
  {
   "cell_type": "markdown",
   "metadata": {},
   "source": [
    "## Checking execution details and output"
   ]
  },
  {
   "cell_type": "markdown",
   "metadata": {},
   "source": [
    "There are multiple ways to get the execution details and the output:\n",
    "\n",
    "1. **Get Execution Details**: This method retrieves the details of the execution, including the output of the last transition that took place.\n",
    "\n",
    "2. **List Transitions**: This method lists all the task steps that have been executed up to this point in time, so the output of a successful execution will be the output of the last transition (first in the transition list as it is in reverse chronological order), which should have a type of `finish`.\n",
    "\n",
    "\n",
    "<span style=\"color:olive;\">Note: You need to wait for a few seconds for the execution to complete before you can get the final output, so feel free to run the following cells multiple times until you get the final output.</span>\n"
   ]
  },
  {
   "cell_type": "code",
   "execution_count": 37,
   "metadata": {},
   "outputs": [
    {
     "name": "stdout",
     "output_type": "stream",
     "text": [
      "{'base64': None, 'meta_data': {'api_key': '518455844981529', 'asset_folder': '', 'asset_id': '069d70c84e88ee9293a1d753b3ca3898', 'audio': {'bit_rate': '191999', 'channel_layout': 'stereo', 'channels': 2, 'codec': 'aac', 'frequency': 44100}, 'bit_rate': 1197518, 'bytes': 2252313, 'created_at': '2024-11-20T08:55:44Z', 'display_name': 'video_test2', 'duration': 15.046531, 'etag': '9e87559cba36e6d07f7435c2a8081b3a', 'format': 'mp4', 'frame_rate': 24.0, 'height': 720, 'is_audio': False, 'nb_frames': 361, 'original_filename': 'ForBiggerMeltdowns', 'overwritten': True, 'pages': 0, 'placeholder': False, 'playback_url': 'https://res.cloudinary.com/dpnjjk8mb/video/upload/sp_auto/v1732200108/video_test2.m3u8', 'resource_type': 'video', 'rotation': 0, 'signature': 'e65a0d39a282fc8bd4dd3288d7d35dfffdadc2a8', 'tags': [], 'type': 'upload', 'url': 'http://res.cloudinary.com/dpnjjk8mb/video/upload/v1732200108/video_test2.mp4', 'version': 1732200108, 'version_id': 'a9fccdf7b310edb3c2ff5ffe9335f7f8', 'video': {'bit_rate': '1002377', 'codec': 'h264', 'level': 31, 'pix_format': 'yuv420p', 'profile': 'High', 'time_base': '1/48'}, 'width': 1280}, 'public_id': 'video_test2', 'url': 'https://res.cloudinary.com/dpnjjk8mb/video/upload/v1732200108/video_test2.mp4'}\n"
     ]
    }
   ],
   "source": [
    "# Get execution details\n",
    "execution = client.executions.get(execution.id)\n",
    "# Print the output\n",
    "print(execution.output)"
   ]
  },
  {
   "cell_type": "code",
   "execution_count": 45,
   "metadata": {},
   "outputs": [
    {
     "name": "stdout",
     "output_type": "stream",
     "text": [
      "Transition type:  init\n",
      "Transition output:  {'public_id': 'video_test2', 'transformation_prompt': \"\\n1- I want to add an overlay an the following image to the video, and apply a layer apply flag also. Here's the image url:\\nhttps://res.cloudinary.com/demo/image/upload/logos/cloudinary_icon_white.png\\n\\n2- I also want you to to blur the video, and add a fade in and fade out effect to the video with a duration of 3 seconds each.\\n\", 'video_url': 'http://commondatastorage.googleapis.com/gtv-videos-bucket/sample/ForBiggerMeltdowns.mp4'}\n",
      "--------------------------------------------------\n",
      "Transition type:  step\n",
      "Transition output:  {'base64': None, 'meta_data': {'api_key': '518455844981529', 'asset_folder': '', 'asset_id': '069d70c84e88ee9293a1d753b3ca3898', 'audio': {'bit_rate': '191999', 'channel_layout': 'stereo', 'channels': 2, 'codec': 'aac', 'frequency': 44100}, 'bit_rate': 1197518, 'bytes': 2252313, 'created_at': '2024-11-20T08:55:44Z', 'display_name': 'video_test2', 'duration': 15.046531, 'etag': '9e87559cba36e6d07f7435c2a8081b3a', 'format': 'mp4', 'frame_rate': 24.0, 'height': 720, 'is_audio': False, 'nb_frames': 361, 'original_filename': 'ForBiggerMeltdowns', 'overwritten': True, 'pages': 0, 'placeholder': False, 'playback_url': 'https://res.cloudinary.com/dpnjjk8mb/video/upload/sp_auto/v1732200198/video_test2.m3u8', 'resource_type': 'video', 'rotation': 0, 'signature': 'f46b7d3d234cd8d4c0f15423b507768df17f2ff6', 'tags': [], 'type': 'upload', 'url': 'http://res.cloudinary.com/dpnjjk8mb/video/upload/v1732200198/video_test2.mp4', 'version': 1732200198, 'version_id': '5ed8eae9dc683377dc4713767bf729f0', 'video': {'bit_rate': '1002377', 'codec': 'h264', 'level': 31, 'pix_format': 'yuv420p', 'profile': 'High', 'time_base': '1/48'}, 'width': 1280}, 'public_id': 'video_test2', 'url': 'https://res.cloudinary.com/dpnjjk8mb/video/upload/v1732200198/video_test2.mp4'}\n",
      "--------------------------------------------------\n",
      "Transition type:  step\n",
      "Transition output:  ```json\n",
      "[\n",
      "    {\n",
      "        \"overlay\": {\n",
      "            \"url\": \"https://res.cloudinary.com/demo/image/upload/logos/cloudinary_icon_white.png\"\n",
      "        }\n",
      "    },\n",
      "    {\n",
      "        \"flags\": \"layer_apply\"\n",
      "    },\n",
      "    {\n",
      "        \"effect\": \"blur:100\"\n",
      "    },\n",
      "    {\n",
      "        \"effect\": \"fade:3000\"\n",
      "    },\n",
      "    {\n",
      "      \"effect\": \"fade:-3000\"\n",
      "    }\n",
      "]\n",
      "```\n",
      "--------------------------------------------------\n",
      "Transition type:  step\n",
      "Transition output:  {'model_transformation': [{'overlay': {'url': 'https://res.cloudinary.com/demo/image/upload/logos/cloudinary_icon_white.png'}}, {'flags': 'layer_apply'}, {'effect': 'blur:100'}, {'effect': 'fade:3000'}, {'effect': 'fade:-3000'}]}\n",
      "--------------------------------------------------\n",
      "Transition type:  step\n",
      "Transition output:  {'base64': None, 'meta_data': {'api_key': '518455844981529', 'asset_folder': '', 'asset_id': '069d70c84e88ee9293a1d753b3ca3898', 'audio': {'bit_rate': '128290', 'channel_layout': 'stereo', 'channels': 2, 'codec': 'aac', 'frequency': 44100}, 'bit_rate': 644662, 'bytes': 1212449, 'created_at': '2024-11-20T08:55:44Z', 'display_name': 'video_test2', 'duration': 15.046009, 'etag': '876869c16d0bfa291d55796e5cb1bc00', 'format': 'mp4', 'frame_rate': 24.0, 'height': 720, 'is_audio': False, 'nb_frames': 361, 'original_filename': 'ForBiggerMeltdowns', 'overwritten': True, 'pages': 0, 'placeholder': False, 'playback_url': 'https://res.cloudinary.com/dpnjjk8mb/video/upload/sp_auto/v1732200207/video_test2.m3u8', 'resource_type': 'video', 'rotation': 0, 'signature': '7df5ccaaf5cba28b4d62d2ffc59793f29dfea326', 'tags': [], 'type': 'upload', 'url': 'http://res.cloudinary.com/dpnjjk8mb/video/upload/v1732200207/video_test2.mp4', 'version': 1732200207, 'version_id': 'fdfd560e5e06e3327777a5355b2cc682', 'video': {'bit_rate': '509638', 'codec': 'h264', 'level': 31, 'pix_format': 'yuv420p', 'profile': 'High', 'time_base': '1/12288'}, 'width': 1280}, 'public_id': 'video_test2', 'url': 'https://res.cloudinary.com/dpnjjk8mb/video/upload/v1732200207/video_test2.mp4'}\n",
      "--------------------------------------------------\n",
      "Transition type:  finish\n",
      "Transition output:  {'transformed_video_url': 'https://res.cloudinary.com/dpnjjk8mb/video/upload/v1732200207/video_test2.mp4'}\n",
      "--------------------------------------------------\n"
     ]
    }
   ],
   "source": [
    "# Lists all the task steps that have been executed up to this point in time\n",
    "transitions = client.executions.transitions.list(execution_id=execution.id).items\n",
    "\n",
    "# Transitions are retreived in reverse chronological order\n",
    "for transition in reversed(transitions):\n",
    "    print(\"Transition type: \", transition.type)\n",
    "    print(\"Transition output: \", transition.output)\n",
    "    print(\"-\"*50)\n",
    "\n",
    "if transitions[0].type == \"finish\":\n",
    "    transformed_video_url = transitions[0].output['transformed_video_url']"
   ]
  },
  {
   "cell_type": "markdown",
   "metadata": {},
   "source": [
    "## Video Before Transformation"
   ]
  },
  {
   "cell_type": "code",
   "execution_count": 46,
   "metadata": {},
   "outputs": [
    {
     "data": {
      "text/html": [
       "<video src=\"http://commondatastorage.googleapis.com/gtv-videos-bucket/sample/ForBiggerMeltdowns.mp4\" controls  >\n",
       "      Your browser does not support the <code>video</code> element.\n",
       "    </video>"
      ],
      "text/plain": [
       "<IPython.core.display.Video object>"
      ]
     },
     "execution_count": 46,
     "metadata": {},
     "output_type": "execute_result"
    }
   ],
   "source": [
    "from IPython.display import Video\n",
    "\n",
    "Video(input_video_url)"
   ]
  },
  {
   "cell_type": "markdown",
   "metadata": {},
   "source": [
    "## Video After Transformation"
   ]
  },
  {
   "cell_type": "code",
   "execution_count": 47,
   "metadata": {},
   "outputs": [
    {
     "data": {
      "text/html": [
       "<video src=\"https://res.cloudinary.com/dpnjjk8mb/video/upload/v1732200207/video_test2.mp4\" controls  >\n",
       "      Your browser does not support the <code>video</code> element.\n",
       "    </video>"
      ],
      "text/plain": [
       "<IPython.core.display.Video object>"
      ]
     },
     "execution_count": 47,
     "metadata": {},
     "output_type": "execute_result"
    }
   ],
   "source": [
    "from IPython.display import Video\n",
    "\n",
    "Video(transformed_video_url)"
   ]
  }
 ],
 "metadata": {
  "kernelspec": {
   "display_name": "ai",
   "language": "python",
   "name": "python3"
  },
  "language_info": {
   "codemirror_mode": {
    "name": "ipython",
    "version": 3
   },
   "file_extension": ".py",
   "mimetype": "text/x-python",
   "name": "python",
   "nbconvert_exporter": "python",
   "pygments_lexer": "ipython3",
   "version": "3.12.3"
  }
 },
 "nbformat": 4,
 "nbformat_minor": 2
}
