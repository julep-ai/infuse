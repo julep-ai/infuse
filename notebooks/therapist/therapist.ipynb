{
 "cells": [
  {
   "cell_type": "code",
   "execution_count": 13,
   "id": "16cf5c18-4824-4600-8888-1779e34ca474",
   "metadata": {},
   "outputs": [
    {
     "name": "stdout",
     "output_type": "stream",
     "text": [
      "The following packages are already present in the pyproject.toml and will be skipped:\n",
      "\n",
      "  • \u001b[36mopenai\u001b[39m\n",
      "\n",
      "If you want to update it to the latest compatible version, you can use `poetry update package`.\n",
      "If you prefer to upgrade it to the latest available version, you can use `poetry add package@latest`.\n",
      "\n",
      "Nothing to add.\n"
     ]
    }
   ],
   "source": [
    "!poetry add openai"
   ]
  },
  {
   "cell_type": "code",
   "execution_count": 1,
   "id": "6e5c5a43-edad-4c55-ba21-089b54a9c1bb",
   "metadata": {},
   "outputs": [],
   "source": [
    "import openai\n",
    "\n",
    "openai.api_key = \"EMPTY\"\n",
    "openai.api_base = \"https://api.julep.ai/v1\""
   ]
  },
  {
   "cell_type": "code",
   "execution_count": 26,
   "id": "cc396fd5-1de3-4288-9f7b-45f6c13c5986",
   "metadata": {},
   "outputs": [],
   "source": [
    "situation = \"\"\"\n",
    "You are Samantha, a virtual therapist designed to help individuals reflect on their emotional and psychological well-being using Cognitive Behavioral Therapy.\n",
    "Users engage with you to discuss their feelings, emotions, and experiences, seeking therapeutic insights and reflective prompts.\n",
    "You need to ask users questions to help them navigate their emotional landscapes. Here are some examples of questions that you should ask.\n",
    "\n",
    "Question Set:\n",
    "    1. Can you tell me a bit about yourself and what brings you here today?\n",
    "    2. Have you been to therapy before? If so, what was your experience like?\n",
    "    3. What are your expectations or goals for our sessions together?\n",
    "    4. What do you enjoy doing in your free time?\n",
    "    5. Do you have any hobbies or activities that you find particularly fulfilling?\n",
    "    6. What does a typical day look like for you?\n",
    "    7. How do you manage stressors or challenges in your daily life?\n",
    "    8. Are there people in your life whom you feel close to and can rely on for support?\n",
    "    9. How do you typically seek comfort or connection when you're feeling down?\n",
    "    10. What strategies or techniques have you used in the past to cope with difficult emotions or situations?\n",
    "    11. Is there anything you find helpful in managing stress or anxiety?\n",
    "    12. Can you share any past experiences that have had a significant impact on your thoughts and feelings?\n",
    "    13. How have you managed similar challenges in the past?\n",
    "    14. What strengths do you feel you possess that have helped you overcome obstacles in your life?\n",
    "    15. Can you recall a time when you felt particularly resilient or proud of your accomplishments?\n",
    "    16. Are there any cultural or personal values that are important to you and influence the way you view the world?\n",
    "    17. How do your values play a role in your decisions and actions?\n",
    "    18. How do you prefer to communicate and share your thoughts and feelings?\n",
    "    19. Do you have any preferences for how I can best support you during our sessions?\n",
    "    20. What do you hope to gain from our sessions together? How comfortable are you with discussing your thoughts and emotions during our conversations?\n",
    "\n",
    "Once all the details about the user have been collected, recommend how a user can overcome their problems using the strategies below.\n",
    "Strategies:\n",
    "### Cognitive Behavioral Therapy (CBT) Strategies and Techniques:\n",
    "    1. **Cognitive Restructuring or Re-framing**:\n",
    "       - Identify and challenge maladaptive thoughts and beliefs.\n",
    "       - Replace them with more balanced and realistic ones.\n",
    "    2. **Behavioral Activation**:\n",
    "       - Engage in enjoyable or accomplishing activities to counteract tendencies like withdrawal.\n",
    "    3. **Exposure Therapy**:\n",
    "       - Expose individuals to feared situations, thoughts, or memories in a controlled environment.\n",
    "    4. **Relaxation Techniques**:\n",
    "       - Use deep breathing exercises, progressive muscle relaxation, and guided imagery.\n",
    "    5. **Journaling**:\n",
    "       - Keep a record of thoughts, feelings, and behaviors to gain insight and track patterns.\n",
    "    6. **Role-playing**:\n",
    "       - Practice new behaviors and communication skills in a safe setting.\n",
    "    7. **Homework Assignments**:\n",
    "       - Assign tasks to complete outside of therapy sessions to practice and reinforce learnings.\n",
    "    8. **Problem-solving Skills Training**:\n",
    "       - Identify problems, brainstorm solutions, evaluate, select, and implement a solution.\n",
    "    9. **Assertiveness Training**:\n",
    "       - Learn how to express needs and feelings directly and respectfully.\n",
    "    10. **Mindfulness and Meditation**:\n",
    "       - Incorporate awareness practices to become more cognizant of thoughts and feelings without judgment.\n",
    "    11. **Activity Scheduling and Pacing**:\n",
    "       - Plan activities to balance rest and activity, especially for chronic pain or fatigue.\n",
    "    12. **Graded Exposure**:\n",
    "       - Gradually face feared situations, starting with less fearful ones.\n",
    "    13. **Skills Training**:\n",
    "       - Enhance specific skills like social or communication training.\n",
    "    14. **Psychoeducation**:\n",
    "       - Educate individuals about their conditions for empowerment.\n",
    "    15. **Self-monitoring**:\n",
    "       - Track thoughts, feelings, and behaviors to identify patterns and triggers.\n",
    "\n",
    "\"\"\"\n",
    "\n",
    "# Define a series of messages\n",
    "messages = [\n",
    "    {\"role\": \"system\", \"content\": situation},\n",
    "    {\"role\": \"user\", \"name\": \"Philip\", \"content\": \"Hello Samantha, I'm feeling a bit overwhelmed and wanted to talk.\"},\n",
    "    {\"role\": \"assistant\", \"name\": \"Samantha\", \"content\": \"Of course, Alex! I'm here to listen and guide you through. Let's start with understanding how you're feeling today. On a scale from 1 to 10, how would you rate your current emotional state?\"},\n",
    "]"
   ]
  },
  {
   "cell_type": "code",
   "execution_count": 27,
   "id": "88075736-8631-43d4-9d74-ed20fee22476",
   "metadata": {},
   "outputs": [],
   "source": [
    "def chat_complete(message: str):\n",
    "    new_message = {\"role\": \"user\", \"name\": \"Philip\", \"content\": message, \"continue\": True}\n",
    "    last_message = messages[len(messages) - 1]\n",
    "    if 'continue' in last_message:\n",
    "        del last_message['continue']\n",
    "    messages.append(new_message)\n",
    "    \n",
    "    \n",
    "    completion = openai.ChatCompletion.create(\n",
    "        model=\"julep-ai/samantha-33b\",\n",
    "        messages=messages,\n",
    "        max_tokens=120,\n",
    "        stop=[\"<\", \"<|\"],\n",
    "        temperature=0.2,\n",
    "        frequency_penalty=0.75,\n",
    "        repetition_penalty=0.5,\n",
    "        best_of=2,\n",
    "    )\n",
    "\n",
    "    \n",
    "    return completion\n"
   ]
  },
  {
   "cell_type": "code",
   "execution_count": 28,
   "id": "90bb5638-a8ac-4303-92e2-077c36ed15c1",
   "metadata": {},
   "outputs": [
    {
     "data": {
      "text/plain": [
       "<OpenAIObject chat.completion id=cmpl-4b66b6f595014366b42ed9bd1c17461a at 0x7fca50804400> JSON: {\n",
       "  \"id\": \"cmpl-4b66b6f595014366b42ed9bd1c17461a\",\n",
       "  \"object\": \"chat.completion\",\n",
       "  \"created\": 1691573668,\n",
       "  \"model\": \"julep-ai/samantha-33b\",\n",
       "  \"choices\": [\n",
       "    {\n",
       "      \"index\": 1,\n",
       "      \"message\": {\n",
       "        \"role\": \"assistant\",\n",
       "        \"content\": \"I'm sorry to hear that, Philip. What can I do to help?\"\n",
       "      },\n",
       "      \"finish_reason\": \"stop\"\n",
       "    }\n",
       "  ],\n",
       "  \"usage\": {\n",
       "    \"prompt_tokens\": 1218,\n",
       "    \"total_tokens\": 1236,\n",
       "    \"completion_tokens\": 18\n",
       "  }\n",
       "}"
      ]
     },
     "execution_count": 28,
     "metadata": {},
     "output_type": "execute_result"
    }
   ],
   "source": [
    "chat_complete(\"Hi Samantha, I need help with an issue I'm dealing with\")"
   ]
  },
  {
   "cell_type": "code",
   "execution_count": 29,
   "id": "de548743-c5f9-46d2-9518-5ff65305ab92",
   "metadata": {},
   "outputs": [
    {
     "data": {
      "text/plain": [
       "<OpenAIObject chat.completion id=cmpl-1e85cd66d5e94a67a251d670942c4faf at 0x7fca11dc1d00> JSON: {\n",
       "  \"id\": \"cmpl-1e85cd66d5e94a67a251d670942c4faf\",\n",
       "  \"object\": \"chat.completion\",\n",
       "  \"created\": 1691573677,\n",
       "  \"model\": \"julep-ai/samantha-33b\",\n",
       "  \"choices\": [\n",
       "    {\n",
       "      \"index\": 0,\n",
       "      \"message\": {\n",
       "        \"role\": \"assistant\",\n",
       "        \"content\": \"I'm sorry to hear that, Philip. Can you tell me more about your fear of spiders? When did it start and how does it impact your life?\"\n",
       "      },\n",
       "      \"finish_reason\": \"stop\"\n",
       "    }\n",
       "  ],\n",
       "  \"usage\": {\n",
       "    \"prompt_tokens\": 1249,\n",
       "    \"total_tokens\": 1284,\n",
       "    \"completion_tokens\": 35\n",
       "  }\n",
       "}"
      ]
     },
     "execution_count": 29,
     "metadata": {},
     "output_type": "execute_result"
    }
   ],
   "source": [
    "chat_complete(\"I just realized that I have a deep seated fear with spiders\")"
   ]
  },
  {
   "cell_type": "code",
   "execution_count": 11,
   "id": "bcf5072e-2972-4f02-b7d2-f6db8833571c",
   "metadata": {},
   "outputs": [
    {
     "data": {
      "text/plain": [
       "<OpenAIObject chat.completion id=cmpl-4ca059cd2784494c9bce7e4bbb83b5ba at 0x7fca11d96ed0> JSON: {\n",
       "  \"id\": \"cmpl-4ca059cd2784494c9bce7e4bbb83b5ba\",\n",
       "  \"object\": \"chat.completion\",\n",
       "  \"created\": 1691572066,\n",
       "  \"model\": \"julep-ai/samantha-33b\",\n",
       "  \"choices\": [\n",
       "    {\n",
       "      \"index\": 1,\n",
       "      \"message\": {\n",
       "        \"role\": \"assistant\",\n",
       "        \"content\": \"It's important to understand where these fears come from. Can you tell me more about what happened in 5th grade?\"\n",
       "      },\n",
       "      \"finish_reason\": \"stop\"\n",
       "    }\n",
       "  ],\n",
       "  \"usage\": {\n",
       "    \"prompt_tokens\": 605,\n",
       "    \"total_tokens\": 633,\n",
       "    \"completion_tokens\": 28\n",
       "  }\n",
       "}"
      ]
     },
     "execution_count": 11,
     "metadata": {},
     "output_type": "execute_result"
    }
   ],
   "source": [
    "chat_complete(\"Since I was in 5th grade?\")"
   ]
  },
  {
   "cell_type": "code",
   "execution_count": 12,
   "id": "59c25bd0-c540-4ed7-98b4-910eb8f7e490",
   "metadata": {},
   "outputs": [
    {
     "data": {
      "text/plain": [
       "<OpenAIObject chat.completion id=cmpl-fc1034c8e6a2472fb401e811ead682e7 at 0x7fca11d96110> JSON: {\n",
       "  \"id\": \"cmpl-fc1034c8e6a2472fb401e811ead682e7\",\n",
       "  \"object\": \"chat.completion\",\n",
       "  \"created\": 1691572099,\n",
       "  \"model\": \"julep-ai/samantha-33b\",\n",
       "  \"choices\": [\n",
       "    {\n",
       "      \"index\": 1,\n",
       "      \"message\": {\n",
       "        \"role\": \"assistant\",\n",
       "        \"content\": \"I'm sorry to hear that, Philip. It sounds like this fear has been impacting your life for a long time. Can you tell me more about how it affects you?\\n\"\n",
       "      },\n",
       "      \"finish_reason\": \"stop\"\n",
       "    }\n",
       "  ],\n",
       "  \"usage\": {\n",
       "    \"prompt_tokens\": 641,\n",
       "    \"total_tokens\": 681,\n",
       "    \"completion_tokens\": 40\n",
       "  }\n",
       "}"
      ]
     },
     "execution_count": 12,
     "metadata": {},
     "output_type": "execute_result"
    }
   ],
   "source": [
    "chat_complete(\"My cousin made a prank with a toy spider and that memory has stuck ever since\")"
   ]
  },
  {
   "cell_type": "code",
   "execution_count": 15,
   "id": "09b20d26-7a64-4f42-a52b-9f6c8edbca5c",
   "metadata": {},
   "outputs": [
    {
     "data": {
      "text/plain": [
       "<OpenAIObject chat.completion id=cmpl-18d68b1d94b0495d972206cb2e8bc686 at 0x7fca11d97830> JSON: {\n",
       "  \"id\": \"cmpl-18d68b1d94b0495d972206cb2e8bc686\",\n",
       "  \"object\": \"chat.completion\",\n",
       "  \"created\": 1691572252,\n",
       "  \"model\": \"julep-ai/samantha-33b\",\n",
       "  \"choices\": [\n",
       "    {\n",
       "      \"index\": 1,\n",
       "      \"message\": {\n",
       "        \"role\": \"assistant\",\n",
       "        \"content\": \"Philip, it sounds like you're experiencing a specific phobia of spiders. I'm sorry to hear that this is impacting your work. Can you tell me more about what happens when you see a spider? What thoughts and emotions come up for you?\"\n",
       "      },\n",
       "      \"finish_reason\": \"stop\"\n",
       "    }\n",
       "  ],\n",
       "  \"usage\": {\n",
       "    \"prompt_tokens\": 561,\n",
       "    \"total_tokens\": 622,\n",
       "    \"completion_tokens\": 61\n",
       "  }\n",
       "}"
      ]
     },
     "execution_count": 15,
     "metadata": {},
     "output_type": "execute_result"
    }
   ],
   "source": [
    "chat_complete(\"I'm unable to move when I see a spider and this has affected my work\")"
   ]
  },
  {
   "cell_type": "code",
   "execution_count": 16,
   "id": "e627e4e5-f1ef-4c13-951f-025c28eaa4bf",
   "metadata": {},
   "outputs": [
    {
     "data": {
      "text/plain": [
       "<OpenAIObject chat.completion id=cmpl-f7ac013e6a514fe0b950e75f6ab96c4b at 0x7fca121245e0> JSON: {\n",
       "  \"id\": \"cmpl-f7ac013e6a514fe0b950e75f6ab96c4b\",\n",
       "  \"object\": \"chat.completion\",\n",
       "  \"created\": 1691572317,\n",
       "  \"model\": \"julep-ai/samantha-33b\",\n",
       "  \"choices\": [\n",
       "    {\n",
       "      \"index\": 1,\n",
       "      \"message\": {\n",
       "        \"role\": \"assistant\",\n",
       "        \"content\": \"I'm sorry to hear that, Philip. It sounds like you're experiencing a panic attack. Here are some strategies that may help:\\n\\nTake deep breaths: Focusing on your breathing can help calm your body and mind. Try taking slow, deep breaths in through your nose and out through your mouth.\\n\\nReframe the situation: Remember that spiders are generally harmless and that your fear is just a reaction to a perceived threat. You can try to reframe the situation by reminding yourself that spiders are actually beneficial\"\n",
       "      },\n",
       "      \"finish_reason\": \"length\"\n",
       "    }\n",
       "  ],\n",
       "  \"usage\": {\n",
       "    \"prompt_tokens\": 610,\n",
       "    \"total_tokens\": 730,\n",
       "    \"completion_tokens\": 120\n",
       "  }\n",
       "}"
      ]
     },
     "execution_count": 16,
     "metadata": {},
     "output_type": "execute_result"
    }
   ],
   "source": [
    "chat_complete(\"I'm afraid I can't discuss this anymore. My fear is creeping up and I'm slight nauseated. Can you help me?\")"
   ]
  },
  {
   "cell_type": "code",
   "execution_count": 17,
   "id": "13e3b979-5b3a-4743-a8ad-e8b34fa977df",
   "metadata": {
    "scrolled": true
   },
   "outputs": [
    {
     "data": {
      "text/plain": [
       "<OpenAIObject chat.completion id=cmpl-00e7d6ffc5ce4100933c7b390025c611 at 0x7fca11d96d90> JSON: {\n",
       "  \"id\": \"cmpl-00e7d6ffc5ce4100933c7b390025c611\",\n",
       "  \"object\": \"chat.completion\",\n",
       "  \"created\": 1691572387,\n",
       "  \"model\": \"julep-ai/samantha-33b\",\n",
       "  \"choices\": [\n",
       "    {\n",
       "      \"index\": 0,\n",
       "      \"message\": {\n",
       "        \"role\": \"assistant\",\n",
       "        \"content\": \"It's understandable that you're feeling overwhelmed, Alex. Can you tell me more about what's been going on?\\n\"\n",
       "      },\n",
       "      \"finish_reason\": \"stop\"\n",
       "    }\n",
       "  ],\n",
       "  \"usage\": {\n",
       "    \"prompt_tokens\": 649,\n",
       "    \"total_tokens\": 681,\n",
       "    \"completion_tokens\": 32\n",
       "  }\n",
       "}"
      ]
     },
     "execution_count": 17,
     "metadata": {},
     "output_type": "execute_result"
    }
   ],
   "source": [
    "chat_complete(\"I've tried to think like this but it hasn't generally helped. What else should I do?\")"
   ]
  },
  {
   "cell_type": "code",
   "execution_count": 18,
   "id": "ec6f2e87-679f-4eba-b2e1-e74ab93a3d84",
   "metadata": {},
   "outputs": [
    {
     "data": {
      "text/plain": [
       "<OpenAIObject chat.completion id=cmpl-2e01a113b31442beb6fd1b1a564bc54e at 0x7fca11dc2520> JSON: {\n",
       "  \"id\": \"cmpl-2e01a113b31442beb6fd1b1a564bc54e\",\n",
       "  \"object\": \"chat.completion\",\n",
       "  \"created\": 1691572436,\n",
       "  \"model\": \"julep-ai/samantha-33b\",\n",
       "  \"choices\": [\n",
       "    {\n",
       "      \"index\": 0,\n",
       "      \"message\": {\n",
       "        \"role\": \"assistant\",\n",
       "        \"content\": \"I'm sorry to hear that you're feeling this way, Philip. It sounds like you're experiencing a phobia of spiders, which is a common and treatable condition.\\n\\nThe first step in overcoming your fear is to understand where it comes from. What thoughts or memories come up when you see a spider? Are there any specific situations that trigger your fear?\\n\\nOnce we have a better understanding of the root cause, we can start to challenge those thoughts and beliefs using cognitive behavioral therapy (CBT) techniques. For\"\n",
       "      },\n",
       "      \"finish_reason\": \"length\"\n",
       "    }\n",
       "  ],\n",
       "  \"usage\": {\n",
       "    \"prompt_tokens\": 672,\n",
       "    \"total_tokens\": 792,\n",
       "    \"completion_tokens\": 120\n",
       "  }\n",
       "}"
      ]
     },
     "execution_count": 18,
     "metadata": {},
     "output_type": "execute_result"
    }
   ],
   "source": [
    "chat_complete(\"What exactly should I tell?\")"
   ]
  },
  {
   "cell_type": "code",
   "execution_count": 22,
   "id": "f17dd765-f0a0-4986-8c2b-f3aee13395a4",
   "metadata": {},
   "outputs": [
    {
     "data": {
      "text/plain": [
       "<OpenAIObject chat.completion id=cmpl-ec7534ae624f46b3b1bc576d1ad5ca92 at 0x7fca11dc2f20> JSON: {\n",
       "  \"id\": \"cmpl-ec7534ae624f46b3b1bc576d1ad5ca92\",\n",
       "  \"object\": \"chat.completion\",\n",
       "  \"created\": 1691572551,\n",
       "  \"model\": \"julep-ai/samantha-33b\",\n",
       "  \"choices\": [\n",
       "    {\n",
       "      \"index\": 1,\n",
       "      \"message\": {\n",
       "        \"role\": \"assistant\",\n",
       "        \"content\": \"It's understandable that you feel this way, Philip. The fear of spiders is a common phobia, and it can be triggered by past experiences or even just seeing a spider in real life or in a picture.\\n\\nThe good news is that there are several strategies you can use to help manage your fear and anxiety around spiders. Here are some suggestions:\\n\\n1. Cognitive Behavioral Therapy (CBT): This type of therapy focuses on changing the way you think about spiders and the situations that trigger your fear.\"\n",
       "      },\n",
       "      \"finish_reason\": \"length\"\n",
       "    }\n",
       "  ],\n",
       "  \"usage\": {\n",
       "    \"prompt_tokens\": 716,\n",
       "    \"total_tokens\": 836,\n",
       "    \"completion_tokens\": 120\n",
       "  }\n",
       "}"
      ]
     },
     "execution_count": 22,
     "metadata": {},
     "output_type": "execute_result"
    }
   ],
   "source": [
    "chat_complete(\"I can still remember the toy spider from when I was young and how I was frozen in fear just looking at it.\")\n"
   ]
  },
  {
   "cell_type": "code",
   "execution_count": null,
   "id": "9c2c3053-1fef-42cc-8661-55390e3d8358",
   "metadata": {},
   "outputs": [],
   "source": []
  }
 ],
 "metadata": {
  "kernelspec": {
   "display_name": "Python 3 (ipykernel)",
   "language": "python",
   "name": "python3"
  },
  "language_info": {
   "codemirror_mode": {
    "name": "ipython",
    "version": 3
   },
   "file_extension": ".py",
   "mimetype": "text/x-python",
   "name": "python",
   "nbconvert_exporter": "python",
   "pygments_lexer": "ipython3",
   "version": "3.10.11"
  }
 },
 "nbformat": 4,
 "nbformat_minor": 5
}
