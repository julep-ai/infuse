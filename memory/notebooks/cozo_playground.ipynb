{
 "cells": [
  {
   "cell_type": "code",
   "execution_count": 1,
   "id": "566ec996-86c2-4cec-92ca-0a23cb3b06b3",
   "metadata": {},
   "outputs": [],
   "source": [
    "%load_ext pycozo.ipyext_direct"
   ]
  },
  {
   "cell_type": "code",
   "execution_count": 2,
   "id": "8adfbdf7-6e84-4d94-a179-1ac8df8dc80f",
   "metadata": {},
   "outputs": [
    {
     "data": {
      "text/html": [
       "<style type=\"text/css\">\n",
       "#T_51c43_row0_col0 {\n",
       "  color: black;\n",
       "}\n",
       "</style>\n",
       "<table id=\"T_51c43\">\n",
       "  <thead>\n",
       "    <tr>\n",
       "      <th class=\"blank level0\" >&nbsp;</th>\n",
       "      <th id=\"T_51c43_level0_col0\" class=\"col_heading level0 col0\" >status</th>\n",
       "    </tr>\n",
       "  </thead>\n",
       "  <tbody>\n",
       "    <tr>\n",
       "      <th id=\"T_51c43_level0_row0\" class=\"row_heading level0 row0\" >0</th>\n",
       "      <td id=\"T_51c43_row0_col0\" class=\"data row0 col0\" >OK</td>\n",
       "    </tr>\n",
       "  </tbody>\n",
       "</table>\n"
      ],
      "text/plain": [
       "<pandas.io.formats.style.Styler at 0x7fe5b05764a0>"
      ]
     },
     "execution_count": 2,
     "metadata": {},
     "output_type": "execute_result"
    }
   ],
   "source": [
    ":create embedding_models {\n",
    "    name: String,\n",
    "    dimensions: Int,\n",
    "    requires_instruction: Bool default false,\n",
    "    provider: String? default null,\n",
    "}"
   ]
  },
  {
   "cell_type": "code",
   "execution_count": 3,
   "id": "f55f1b5a-087c-48ce-8e50-6a952afa3f4b",
   "metadata": {},
   "outputs": [
    {
     "data": {
      "text/html": [
       "<style type=\"text/css\">\n",
       "#T_30194_row0_col0 {\n",
       "  color: black;\n",
       "}\n",
       "</style>\n",
       "<table id=\"T_30194\">\n",
       "  <thead>\n",
       "    <tr>\n",
       "      <th class=\"blank level0\" >&nbsp;</th>\n",
       "      <th id=\"T_30194_level0_col0\" class=\"col_heading level0 col0\" >status</th>\n",
       "    </tr>\n",
       "  </thead>\n",
       "  <tbody>\n",
       "    <tr>\n",
       "      <th id=\"T_30194_level0_row0\" class=\"row_heading level0 row0\" >0</th>\n",
       "      <td id=\"T_30194_row0_col0\" class=\"data row0 col0\" >OK</td>\n",
       "    </tr>\n",
       "  </tbody>\n",
       "</table>\n"
      ],
      "text/plain": [
       "<pandas.io.formats.style.Styler at 0x7fe5b0574160>"
      ]
     },
     "execution_count": 3,
     "metadata": {},
     "output_type": "execute_result"
    }
   ],
   "source": [
    "?[name, dimensions, requires_instruction, provider] <- [\n",
    "    [\"e5-base-v2\", 768, true, \"embaas.io\"],\n",
    "    [\"e5-large-v2\", 1024, true, \"embaas.io\"],\n",
    "]\n",
    "\n",
    ":put embedding_models {\n",
    "    name,\n",
    "    dimensions,\n",
    "    requires_instruction,\n",
    "    provider\n",
    "}"
   ]
  },
  {
   "cell_type": "code",
   "execution_count": 4,
   "id": "24556312-5b40-4a4b-a174-2cde84017d37",
   "metadata": {},
   "outputs": [
    {
     "data": {
      "text/html": [
       "<style type=\"text/css\">\n",
       "#T_82bee_row0_col0 {\n",
       "  color: black;\n",
       "}\n",
       "</style>\n",
       "<table id=\"T_82bee\">\n",
       "  <thead>\n",
       "    <tr>\n",
       "      <th class=\"blank level0\" >&nbsp;</th>\n",
       "      <th id=\"T_82bee_level0_col0\" class=\"col_heading level0 col0\" >status</th>\n",
       "    </tr>\n",
       "  </thead>\n",
       "  <tbody>\n",
       "    <tr>\n",
       "      <th id=\"T_82bee_level0_row0\" class=\"row_heading level0 row0\" >0</th>\n",
       "      <td id=\"T_82bee_row0_col0\" class=\"data row0 col0\" >OK</td>\n",
       "    </tr>\n",
       "  </tbody>\n",
       "</table>\n"
      ],
      "text/plain": [
       "<pandas.io.formats.style.Styler at 0x7fe544f83f10>"
      ]
     },
     "execution_count": 4,
     "metadata": {},
     "output_type": "execute_result"
    }
   ],
   "source": [
    ":create lm_cache {\n",
    "    chatml: Json,\n",
    "    model: String,\n",
    "    params: Json default {},\n",
    "    expires_at: Float? default null,\n",
    "    =>\n",
    "    response: Json,\n",
    "    embedding: <F32; 768>\n",
    "}"
   ]
  },
  {
   "cell_type": "code",
   "execution_count": 5,
   "id": "bdec8e52-22dc-41cd-b172-7c7cfabc2d8d",
   "metadata": {},
   "outputs": [
    {
     "data": {
      "text/html": [
       "<style type=\"text/css\">\n",
       "#T_ecdfc_row0_col0 {\n",
       "  color: black;\n",
       "}\n",
       "</style>\n",
       "<table id=\"T_ecdfc\">\n",
       "  <thead>\n",
       "    <tr>\n",
       "      <th class=\"blank level0\" >&nbsp;</th>\n",
       "      <th id=\"T_ecdfc_level0_col0\" class=\"col_heading level0 col0\" >status</th>\n",
       "    </tr>\n",
       "  </thead>\n",
       "  <tbody>\n",
       "    <tr>\n",
       "      <th id=\"T_ecdfc_level0_row0\" class=\"row_heading level0 row0\" >0</th>\n",
       "      <td id=\"T_ecdfc_row0_col0\" class=\"data row0 col0\" >OK</td>\n",
       "    </tr>\n",
       "  </tbody>\n",
       "</table>\n"
      ],
      "text/plain": [
       "<pandas.io.formats.style.Styler at 0x7fe544fcbb50>"
      ]
     },
     "execution_count": 5,
     "metadata": {},
     "output_type": "execute_result"
    }
   ],
   "source": [
    "::hnsw create lm_cache:embedding_space {\n",
    "    dim: 768,\n",
    "    m: 50,\n",
    "    dtype: F32,\n",
    "    fields: [embedding],\n",
    "    distance: Cosine,\n",
    "    ef_construction: 20,\n",
    "    extend_candidates: false,\n",
    "    keep_pruned_connections: false,\n",
    "}"
   ]
  },
  {
   "cell_type": "code",
   "execution_count": 6,
   "id": "c7fa5cab-95cf-424a-b7c9-d12fddc3ed1a",
   "metadata": {},
   "outputs": [
    {
     "data": {
      "text/html": [
       "<style type=\"text/css\">\n",
       "#T_7bdde_row0_col0 {\n",
       "  color: black;\n",
       "}\n",
       "</style>\n",
       "<table id=\"T_7bdde\">\n",
       "  <thead>\n",
       "    <tr>\n",
       "      <th class=\"blank level0\" >&nbsp;</th>\n",
       "      <th id=\"T_7bdde_level0_col0\" class=\"col_heading level0 col0\" >status</th>\n",
       "    </tr>\n",
       "  </thead>\n",
       "  <tbody>\n",
       "    <tr>\n",
       "      <th id=\"T_7bdde_level0_row0\" class=\"row_heading level0 row0\" >0</th>\n",
       "      <td id=\"T_7bdde_row0_col0\" class=\"data row0 col0\" >OK</td>\n",
       "    </tr>\n",
       "  </tbody>\n",
       "</table>\n"
      ],
      "text/plain": [
       "<pandas.io.formats.style.Styler at 0x7fe544fc90f0>"
      ]
     },
     "execution_count": 6,
     "metadata": {},
     "output_type": "execute_result"
    }
   ],
   "source": [
    ":create conceptnet {\n",
    "    concept_id: Uuid,\n",
    "    concept: String,\n",
    "    description: String default \"\",\n",
    "    embedding: <F32; 768>,\n",
    "}\n"
   ]
  },
  {
   "cell_type": "code",
   "execution_count": 7,
   "id": "6cedf958-f2e8-4be2-9621-1a4367e34c2f",
   "metadata": {},
   "outputs": [
    {
     "data": {
      "text/html": [
       "<style type=\"text/css\">\n",
       "#T_b9f3b_row0_col0 {\n",
       "  color: black;\n",
       "}\n",
       "</style>\n",
       "<table id=\"T_b9f3b\">\n",
       "  <thead>\n",
       "    <tr>\n",
       "      <th class=\"blank level0\" >&nbsp;</th>\n",
       "      <th id=\"T_b9f3b_level0_col0\" class=\"col_heading level0 col0\" >status</th>\n",
       "    </tr>\n",
       "  </thead>\n",
       "  <tbody>\n",
       "    <tr>\n",
       "      <th id=\"T_b9f3b_level0_row0\" class=\"row_heading level0 row0\" >0</th>\n",
       "      <td id=\"T_b9f3b_row0_col0\" class=\"data row0 col0\" >OK</td>\n",
       "    </tr>\n",
       "  </tbody>\n",
       "</table>\n"
      ],
      "text/plain": [
       "<pandas.io.formats.style.Styler at 0x7fe544f83a60>"
      ]
     },
     "execution_count": 7,
     "metadata": {},
     "output_type": "execute_result"
    }
   ],
   "source": [
    "::hnsw create conceptnet:embedding_space {\n",
    "    dim: 768,\n",
    "    m: 50,\n",
    "    dtype: F32,\n",
    "    fields: embedding,\n",
    "    distance: Cosine,\n",
    "    ef_construction: 20,\n",
    "    extend_candidates: false,\n",
    "    keep_pruned_connections: false,\n",
    "}"
   ]
  },
  {
   "cell_type": "code",
   "execution_count": 8,
   "id": "8c26e515-a6b5-4829-826a-81dce76677f4",
   "metadata": {},
   "outputs": [
    {
     "data": {
      "text/html": [
       "<style type=\"text/css\">\n",
       "#T_ee1b9_row0_col0 {\n",
       "  color: black;\n",
       "}\n",
       "</style>\n",
       "<table id=\"T_ee1b9\">\n",
       "  <thead>\n",
       "    <tr>\n",
       "      <th class=\"blank level0\" >&nbsp;</th>\n",
       "      <th id=\"T_ee1b9_level0_col0\" class=\"col_heading level0 col0\" >status</th>\n",
       "    </tr>\n",
       "  </thead>\n",
       "  <tbody>\n",
       "    <tr>\n",
       "      <th id=\"T_ee1b9_level0_row0\" class=\"row_heading level0 row0\" >0</th>\n",
       "      <td id=\"T_ee1b9_row0_col0\" class=\"data row0 col0\" >OK</td>\n",
       "    </tr>\n",
       "  </tbody>\n",
       "</table>\n"
      ],
      "text/plain": [
       "<pandas.io.formats.style.Styler at 0x7fe544fcbc70>"
      ]
     },
     "execution_count": 8,
     "metadata": {},
     "output_type": "execute_result"
    }
   ],
   "source": [
    "::lsh create conceptnet:concept {\n",
    "    extractor: concept,\n",
    "    tokenizer: Simple,\n",
    "    n_perm: 200,\n",
    "    target_threshold: 0.8,\n",
    "    n_gram: 3,\n",
    "    false_positive_weight: 1.0,\n",
    "    false_negative_weight: 1.0,\n",
    "}"
   ]
  },
  {
   "cell_type": "code",
   "execution_count": 9,
   "id": "1cb36ee1-41ad-47cf-80aa-07afd3542524",
   "metadata": {},
   "outputs": [
    {
     "data": {
      "text/html": [
       "<style type=\"text/css\">\n",
       "#T_f6561_row0_col0 {\n",
       "  color: black;\n",
       "}\n",
       "</style>\n",
       "<table id=\"T_f6561\">\n",
       "  <thead>\n",
       "    <tr>\n",
       "      <th class=\"blank level0\" >&nbsp;</th>\n",
       "      <th id=\"T_f6561_level0_col0\" class=\"col_heading level0 col0\" >status</th>\n",
       "    </tr>\n",
       "  </thead>\n",
       "  <tbody>\n",
       "    <tr>\n",
       "      <th id=\"T_f6561_level0_row0\" class=\"row_heading level0 row0\" >0</th>\n",
       "      <td id=\"T_f6561_row0_col0\" class=\"data row0 col0\" >OK</td>\n",
       "    </tr>\n",
       "  </tbody>\n",
       "</table>\n"
      ],
      "text/plain": [
       "<pandas.io.formats.style.Styler at 0x7fe544f83220>"
      ]
     },
     "execution_count": 9,
     "metadata": {},
     "output_type": "execute_result"
    }
   ],
   "source": [
    ":create entities {\n",
    "    entity_id: Uuid,\n",
    "    name: String,\n",
    "    character_id: Uuid,\n",
    "    description: String default \"\",\n",
    "}\n"
   ]
  },
  {
   "cell_type": "code",
   "execution_count": 10,
   "id": "5d5149ce-cebd-497b-b49b-4b1fa2931d59",
   "metadata": {},
   "outputs": [
    {
     "data": {
      "text/html": [
       "<style type=\"text/css\">\n",
       "#T_d93e9_row0_col0 {\n",
       "  color: black;\n",
       "}\n",
       "</style>\n",
       "<table id=\"T_d93e9\">\n",
       "  <thead>\n",
       "    <tr>\n",
       "      <th class=\"blank level0\" >&nbsp;</th>\n",
       "      <th id=\"T_d93e9_level0_col0\" class=\"col_heading level0 col0\" >status</th>\n",
       "    </tr>\n",
       "  </thead>\n",
       "  <tbody>\n",
       "    <tr>\n",
       "      <th id=\"T_d93e9_level0_row0\" class=\"row_heading level0 row0\" >0</th>\n",
       "      <td id=\"T_d93e9_row0_col0\" class=\"data row0 col0\" >OK</td>\n",
       "    </tr>\n",
       "  </tbody>\n",
       "</table>\n"
      ],
      "text/plain": [
       "<pandas.io.formats.style.Styler at 0x7fe544fca260>"
      ]
     },
     "execution_count": 10,
     "metadata": {},
     "output_type": "execute_result"
    }
   ],
   "source": [
    ":create relations {\n",
    "    subject: Uuid,\n",
    "    subject_type: String,\n",
    "    relation: String,\n",
    "    object: Uuid,\n",
    "    object_type: String,\n",
    "    =>\n",
    "    weight: Float default 1.0,\n",
    "}\n"
   ]
  },
  {
   "cell_type": "code",
   "execution_count": 11,
   "id": "aff8e954-72c7-4100-998b-4108cbe37381",
   "metadata": {},
   "outputs": [
    {
     "data": {
      "text/html": [
       "<style type=\"text/css\">\n",
       "#T_10863_row0_col0 {\n",
       "  color: black;\n",
       "}\n",
       "</style>\n",
       "<table id=\"T_10863\">\n",
       "  <thead>\n",
       "    <tr>\n",
       "      <th class=\"blank level0\" >&nbsp;</th>\n",
       "      <th id=\"T_10863_level0_col0\" class=\"col_heading level0 col0\" >status</th>\n",
       "    </tr>\n",
       "  </thead>\n",
       "  <tbody>\n",
       "    <tr>\n",
       "      <th id=\"T_10863_level0_row0\" class=\"row_heading level0 row0\" >0</th>\n",
       "      <td id=\"T_10863_row0_col0\" class=\"data row0 col0\" >OK</td>\n",
       "    </tr>\n",
       "  </tbody>\n",
       "</table>\n"
      ],
      "text/plain": [
       "<pandas.io.formats.style.Styler at 0x7fe544fc8d00>"
      ]
     },
     "execution_count": 11,
     "metadata": {},
     "output_type": "execute_result"
    }
   ],
   "source": [
    "::lsh create entities:name {\n",
    "    extractor: name,\n",
    "    tokenizer: Simple,\n",
    "    n_perm: 200,\n",
    "    target_threshold: 0.8,\n",
    "    n_gram: 5,\n",
    "    false_positive_weight: 1.0,\n",
    "    false_negative_weight: 1.0,\n",
    "}"
   ]
  },
  {
   "cell_type": "code",
   "execution_count": 12,
   "id": "09a363cc-d249-46d2-9d63-1884e6ba6e9d",
   "metadata": {},
   "outputs": [
    {
     "data": {
      "text/html": [
       "<style type=\"text/css\">\n",
       "#T_75fd6_row0_col0 {\n",
       "  color: black;\n",
       "}\n",
       "</style>\n",
       "<table id=\"T_75fd6\">\n",
       "  <thead>\n",
       "    <tr>\n",
       "      <th class=\"blank level0\" >&nbsp;</th>\n",
       "      <th id=\"T_75fd6_level0_col0\" class=\"col_heading level0 col0\" >status</th>\n",
       "    </tr>\n",
       "  </thead>\n",
       "  <tbody>\n",
       "    <tr>\n",
       "      <th id=\"T_75fd6_level0_row0\" class=\"row_heading level0 row0\" >0</th>\n",
       "      <td id=\"T_75fd6_row0_col0\" class=\"data row0 col0\" >OK</td>\n",
       "    </tr>\n",
       "  </tbody>\n",
       "</table>\n"
      ],
      "text/plain": [
       "<pandas.io.formats.style.Styler at 0x7fe544fc8460>"
      ]
     },
     "execution_count": 12,
     "metadata": {},
     "output_type": "execute_result"
    }
   ],
   "source": [
    ":create characters {\n",
    "    character_id: Uuid,\n",
    "    updated_at: Validity default [floor(now()), true],\n",
    "    name: String,\n",
    "    is_human: Bool default false,\n",
    "    =>\n",
    "    about: String default \"\",\n",
    "    metadata: Json default {},\n",
    "    model: String? default null,\n",
    "}"
   ]
  },
  {
   "cell_type": "code",
   "execution_count": 13,
   "id": "3e642a34-69c5-4781-be53-c25082262851",
   "metadata": {},
   "outputs": [
    {
     "data": {
      "text/html": [
       "<style type=\"text/css\">\n",
       "#T_aee79_row0_col0 {\n",
       "  color: black;\n",
       "}\n",
       "</style>\n",
       "<table id=\"T_aee79\">\n",
       "  <thead>\n",
       "    <tr>\n",
       "      <th class=\"blank level0\" >&nbsp;</th>\n",
       "      <th id=\"T_aee79_level0_col0\" class=\"col_heading level0 col0\" >status</th>\n",
       "    </tr>\n",
       "  </thead>\n",
       "  <tbody>\n",
       "    <tr>\n",
       "      <th id=\"T_aee79_level0_row0\" class=\"row_heading level0 row0\" >0</th>\n",
       "      <td id=\"T_aee79_row0_col0\" class=\"data row0 col0\" >OK</td>\n",
       "    </tr>\n",
       "  </tbody>\n",
       "</table>\n"
      ],
      "text/plain": [
       "<pandas.io.formats.style.Styler at 0x7fe544fc8190>"
      ]
     },
     "execution_count": 13,
     "metadata": {},
     "output_type": "execute_result"
    }
   ],
   "source": [
    "::lsh create characters:name {\n",
    "    extractor: name,\n",
    "    tokenizer: Simple,\n",
    "    n_perm: 50,\n",
    "    target_threshold: 0.8,\n",
    "    n_gram: 3,\n",
    "    false_positive_weight: 1.0,\n",
    "    false_negative_weight: 1.0,\n",
    "}"
   ]
  },
  {
   "cell_type": "code",
   "execution_count": 14,
   "id": "5ad7ee10-b74e-4805-8638-46297f573d2e",
   "metadata": {},
   "outputs": [
    {
     "data": {
      "text/html": [
       "<style type=\"text/css\">\n",
       "#T_76f3f_row0_col0 {\n",
       "  color: black;\n",
       "}\n",
       "</style>\n",
       "<table id=\"T_76f3f\">\n",
       "  <thead>\n",
       "    <tr>\n",
       "      <th class=\"blank level0\" >&nbsp;</th>\n",
       "      <th id=\"T_76f3f_level0_col0\" class=\"col_heading level0 col0\" >status</th>\n",
       "    </tr>\n",
       "  </thead>\n",
       "  <tbody>\n",
       "    <tr>\n",
       "      <th id=\"T_76f3f_level0_row0\" class=\"row_heading level0 row0\" >0</th>\n",
       "      <td id=\"T_76f3f_row0_col0\" class=\"data row0 col0\" >OK</td>\n",
       "    </tr>\n",
       "  </tbody>\n",
       "</table>\n"
      ],
      "text/plain": [
       "<pandas.io.formats.style.Styler at 0x7fe544fcb160>"
      ]
     },
     "execution_count": 14,
     "metadata": {},
     "output_type": "execute_result"
    }
   ],
   "source": [
    ":create sessions {\n",
    "    session_id: Uuid,\n",
    "    updated_at: Validity default [floor(now()), true],\n",
    "    =>\n",
    "    situation: String,\n",
    "    summary: String? default null,\n",
    "    metadata: Json default {},\n",
    "}"
   ]
  },
  {
   "cell_type": "code",
   "execution_count": 15,
   "id": "2130e978-c91a-40bf-8bd8-a1f4f4df1d2b",
   "metadata": {},
   "outputs": [
    {
     "data": {
      "text/html": [
       "<style type=\"text/css\">\n",
       "#T_0b7db_row0_col0 {\n",
       "  color: black;\n",
       "}\n",
       "</style>\n",
       "<table id=\"T_0b7db\">\n",
       "  <thead>\n",
       "    <tr>\n",
       "      <th class=\"blank level0\" >&nbsp;</th>\n",
       "      <th id=\"T_0b7db_level0_col0\" class=\"col_heading level0 col0\" >status</th>\n",
       "    </tr>\n",
       "  </thead>\n",
       "  <tbody>\n",
       "    <tr>\n",
       "      <th id=\"T_0b7db_level0_row0\" class=\"row_heading level0 row0\" >0</th>\n",
       "      <td id=\"T_0b7db_row0_col0\" class=\"data row0 col0\" >OK</td>\n",
       "    </tr>\n",
       "  </tbody>\n",
       "</table>\n"
      ],
      "text/plain": [
       "<pandas.io.formats.style.Styler at 0x7fe544fcbfa0>"
      ]
     },
     "execution_count": 15,
     "metadata": {},
     "output_type": "execute_result"
    }
   ],
   "source": [
    "::fts create sessions:summary {\n",
    "    extractor: summary,\n",
    "    extract_filter: !is_null(summary),\n",
    "    tokenizer: Simple,\n",
    "    filters: [AsciiFolding, AlphaNumOnly, Lowercase, Stemmer('english'), Stopwords('en')],\n",
    "}"
   ]
  },
  {
   "cell_type": "code",
   "execution_count": 16,
   "id": "f69d5301-b1d4-4c61-9671-063133782752",
   "metadata": {},
   "outputs": [
    {
     "data": {
      "text/html": [
       "<style type=\"text/css\">\n",
       "#T_6a6ac_row0_col0 {\n",
       "  color: black;\n",
       "}\n",
       "</style>\n",
       "<table id=\"T_6a6ac\">\n",
       "  <thead>\n",
       "    <tr>\n",
       "      <th class=\"blank level0\" >&nbsp;</th>\n",
       "      <th id=\"T_6a6ac_level0_col0\" class=\"col_heading level0 col0\" >status</th>\n",
       "    </tr>\n",
       "  </thead>\n",
       "  <tbody>\n",
       "    <tr>\n",
       "      <th id=\"T_6a6ac_level0_row0\" class=\"row_heading level0 row0\" >0</th>\n",
       "      <td id=\"T_6a6ac_row0_col0\" class=\"data row0 col0\" >OK</td>\n",
       "    </tr>\n",
       "  </tbody>\n",
       "</table>\n"
      ],
      "text/plain": [
       "<pandas.io.formats.style.Styler at 0x7fe544ff3550>"
      ]
     },
     "execution_count": 16,
     "metadata": {},
     "output_type": "execute_result"
    }
   ],
   "source": [
    ":create session_characters {\n",
    "    session_id: Uuid,\n",
    "    character_id: Uuid,\n",
    "}"
   ]
  },
  {
   "cell_type": "code",
   "execution_count": 17,
   "id": "4e56c929-906a-4676-9208-44e95f31099d",
   "metadata": {},
   "outputs": [
    {
     "data": {
      "text/html": [
       "<style type=\"text/css\">\n",
       "#T_6eec7_row0_col0 {\n",
       "  color: black;\n",
       "}\n",
       "</style>\n",
       "<table id=\"T_6eec7\">\n",
       "  <thead>\n",
       "    <tr>\n",
       "      <th class=\"blank level0\" >&nbsp;</th>\n",
       "      <th id=\"T_6eec7_level0_col0\" class=\"col_heading level0 col0\" >status</th>\n",
       "    </tr>\n",
       "  </thead>\n",
       "  <tbody>\n",
       "    <tr>\n",
       "      <th id=\"T_6eec7_level0_row0\" class=\"row_heading level0 row0\" >0</th>\n",
       "      <td id=\"T_6eec7_row0_col0\" class=\"data row0 col0\" >OK</td>\n",
       "    </tr>\n",
       "  </tbody>\n",
       "</table>\n"
      ],
      "text/plain": [
       "<pandas.io.formats.style.Styler at 0x7fe544ff1b70>"
      ]
     },
     "execution_count": 17,
     "metadata": {},
     "output_type": "execute_result"
    }
   ],
   "source": [
    ":create entries {\n",
    "    session_id: Uuid,\n",
    "    updated_at: Validity default [floor(now()), true],\n",
    "    role: String,\n",
    "    name: String? default null,\n",
    "    =>\n",
    "    content: String,\n",
    "    character_id: Uuid? default null,\n",
    "    sentiment: Float? default null,\n",
    "}"
   ]
  },
  {
   "cell_type": "code",
   "execution_count": 18,
   "id": "d730230b-bc8a-40f9-91d1-ff33b953df6e",
   "metadata": {},
   "outputs": [
    {
     "data": {
      "text/html": [
       "<style type=\"text/css\">\n",
       "#T_4ae81_row0_col0 {\n",
       "  color: black;\n",
       "}\n",
       "</style>\n",
       "<table id=\"T_4ae81\">\n",
       "  <thead>\n",
       "    <tr>\n",
       "      <th class=\"blank level0\" >&nbsp;</th>\n",
       "      <th id=\"T_4ae81_level0_col0\" class=\"col_heading level0 col0\" >status</th>\n",
       "    </tr>\n",
       "  </thead>\n",
       "  <tbody>\n",
       "    <tr>\n",
       "      <th id=\"T_4ae81_level0_row0\" class=\"row_heading level0 row0\" >0</th>\n",
       "      <td id=\"T_4ae81_row0_col0\" class=\"data row0 col0\" >OK</td>\n",
       "    </tr>\n",
       "  </tbody>\n",
       "</table>\n"
      ],
      "text/plain": [
       "<pandas.io.formats.style.Styler at 0x7fe544ff34f0>"
      ]
     },
     "execution_count": 18,
     "metadata": {},
     "output_type": "execute_result"
    }
   ],
   "source": [
    ":create episodes {\n",
    "    episode_id: Uuid,\n",
    "    character_id: Uuid,\n",
    "    last_accessed_at: Validity default [floor(now()), true],\n",
    "    summary: String,\n",
    "    =>\n",
    "    parent_episode: Uuid? default null,\n",
    "    duration: Float default 0,\n",
    "    embedding: <F32; 768>,\n",
    "}"
   ]
  },
  {
   "cell_type": "code",
   "execution_count": 19,
   "id": "e017f271-3c47-4ef2-be16-489b10f2e00f",
   "metadata": {},
   "outputs": [
    {
     "data": {
      "text/html": [
       "<style type=\"text/css\">\n",
       "#T_d1c84_row0_col0 {\n",
       "  color: black;\n",
       "}\n",
       "</style>\n",
       "<table id=\"T_d1c84\">\n",
       "  <thead>\n",
       "    <tr>\n",
       "      <th class=\"blank level0\" >&nbsp;</th>\n",
       "      <th id=\"T_d1c84_level0_col0\" class=\"col_heading level0 col0\" >status</th>\n",
       "    </tr>\n",
       "  </thead>\n",
       "  <tbody>\n",
       "    <tr>\n",
       "      <th id=\"T_d1c84_level0_row0\" class=\"row_heading level0 row0\" >0</th>\n",
       "      <td id=\"T_d1c84_row0_col0\" class=\"data row0 col0\" >OK</td>\n",
       "    </tr>\n",
       "  </tbody>\n",
       "</table>\n"
      ],
      "text/plain": [
       "<pandas.io.formats.style.Styler at 0x7fe544ff3130>"
      ]
     },
     "execution_count": 19,
     "metadata": {},
     "output_type": "execute_result"
    }
   ],
   "source": [
    "::hnsw create episodes:embedding_space {\n",
    "    dim: 768,\n",
    "    m: 50,\n",
    "    dtype: F32,\n",
    "    fields: [embedding],\n",
    "    distance: Cosine,\n",
    "    filter: !is_null(embedding),\n",
    "    ef_construction: 20,\n",
    "    extend_candidates: false,\n",
    "    keep_pruned_connections: false,\n",
    "}"
   ]
  },
  {
   "cell_type": "code",
   "execution_count": 20,
   "id": "3e5496b0-f4d4-4a09-9539-300afdcedd52",
   "metadata": {},
   "outputs": [
    {
     "data": {
      "text/html": [
       "<style type=\"text/css\">\n",
       "#T_9fc19_row0_col0 {\n",
       "  color: black;\n",
       "}\n",
       "</style>\n",
       "<table id=\"T_9fc19\">\n",
       "  <thead>\n",
       "    <tr>\n",
       "      <th class=\"blank level0\" >&nbsp;</th>\n",
       "      <th id=\"T_9fc19_level0_col0\" class=\"col_heading level0 col0\" >status</th>\n",
       "    </tr>\n",
       "  </thead>\n",
       "  <tbody>\n",
       "    <tr>\n",
       "      <th id=\"T_9fc19_level0_row0\" class=\"row_heading level0 row0\" >0</th>\n",
       "      <td id=\"T_9fc19_row0_col0\" class=\"data row0 col0\" >OK</td>\n",
       "    </tr>\n",
       "  </tbody>\n",
       "</table>\n"
      ],
      "text/plain": [
       "<pandas.io.formats.style.Styler at 0x7fe544ff0d90>"
      ]
     },
     "execution_count": 20,
     "metadata": {},
     "output_type": "execute_result"
    }
   ],
   "source": [
    "::fts create episodes:summary {\n",
    "    extractor: summary,\n",
    "    extract_filter: !is_null(summary),\n",
    "    tokenizer: Simple,\n",
    "    filters: [AsciiFolding, AlphaNumOnly, Lowercase, Stemmer('english'), Stopwords('en')],\n",
    "}"
   ]
  },
  {
   "cell_type": "code",
   "execution_count": 21,
   "id": "7d0ad5ca-6c8c-4ed6-a558-9c78ce0cfa06",
   "metadata": {},
   "outputs": [
    {
     "data": {
      "text/html": [
       "<style type=\"text/css\">\n",
       "#T_50f04_row0_col0 {\n",
       "  color: black;\n",
       "}\n",
       "</style>\n",
       "<table id=\"T_50f04\">\n",
       "  <thead>\n",
       "    <tr>\n",
       "      <th class=\"blank level0\" >&nbsp;</th>\n",
       "      <th id=\"T_50f04_level0_col0\" class=\"col_heading level0 col0\" >status</th>\n",
       "    </tr>\n",
       "  </thead>\n",
       "  <tbody>\n",
       "    <tr>\n",
       "      <th id=\"T_50f04_level0_row0\" class=\"row_heading level0 row0\" >0</th>\n",
       "      <td id=\"T_50f04_row0_col0\" class=\"data row0 col0\" >OK</td>\n",
       "    </tr>\n",
       "  </tbody>\n",
       "</table>\n"
      ],
      "text/plain": [
       "<pandas.io.formats.style.Styler at 0x7fe544ff06d0>"
      ]
     },
     "execution_count": 21,
     "metadata": {},
     "output_type": "execute_result"
    }
   ],
   "source": [
    ":create users {\n",
    "    email: String,\n",
    "    character_id: Uuid,\n",
    "    =>\n",
    "    assistant_id: Uuid,\n",
    "}\n"
   ]
  },
  {
   "cell_type": "code",
   "execution_count": 22,
   "id": "359db2de-02b3-44b4-b378-cb89d7ed0758",
   "metadata": {},
   "outputs": [
    {
     "data": {
      "text/html": [
       "<style type=\"text/css\">\n",
       "#T_6d9bb_row0_col0 {\n",
       "  color: black;\n",
       "}\n",
       "</style>\n",
       "<table id=\"T_6d9bb\">\n",
       "  <thead>\n",
       "    <tr>\n",
       "      <th class=\"blank level0\" >&nbsp;</th>\n",
       "      <th id=\"T_6d9bb_level0_col0\" class=\"col_heading level0 col0\" >status</th>\n",
       "    </tr>\n",
       "  </thead>\n",
       "  <tbody>\n",
       "    <tr>\n",
       "      <th id=\"T_6d9bb_level0_row0\" class=\"row_heading level0 row0\" >0</th>\n",
       "      <td id=\"T_6d9bb_row0_col0\" class=\"data row0 col0\" >OK</td>\n",
       "    </tr>\n",
       "  </tbody>\n",
       "</table>\n"
      ],
      "text/plain": [
       "<pandas.io.formats.style.Styler at 0x7fe5b05744f0>"
      ]
     },
     "execution_count": 22,
     "metadata": {},
     "output_type": "execute_result"
    }
   ],
   "source": [
    ":create beliefs {\n",
    "    belief_id: Uuid,\n",
    "    character_id: Uuid,\n",
    "    last_accessed_at: Validity default [floor(now()), true],\n",
    "    belief: String,\n",
    "    =>\n",
    "    details: String default \"\",\n",
    "    parent_belief_id: Uuid? default null,\n",
    "    valence: Float default 0,\n",
    "    aspects: [(String, Float, String, String)] default [],\n",
    "    belief_embedding: <F32; 768>,\n",
    "    details_embedding: <F32; 768>,\n",
    "}"
   ]
  },
  {
   "cell_type": "code",
   "execution_count": 23,
   "id": "85eacaf1-b192-4788-a4ea-5aff42d693af",
   "metadata": {},
   "outputs": [
    {
     "data": {
      "text/html": [
       "<style type=\"text/css\">\n",
       "#T_66272_row0_col0 {\n",
       "  color: black;\n",
       "}\n",
       "</style>\n",
       "<table id=\"T_66272\">\n",
       "  <thead>\n",
       "    <tr>\n",
       "      <th class=\"blank level0\" >&nbsp;</th>\n",
       "      <th id=\"T_66272_level0_col0\" class=\"col_heading level0 col0\" >status</th>\n",
       "    </tr>\n",
       "  </thead>\n",
       "  <tbody>\n",
       "    <tr>\n",
       "      <th id=\"T_66272_level0_row0\" class=\"row_heading level0 row0\" >0</th>\n",
       "      <td id=\"T_66272_row0_col0\" class=\"data row0 col0\" >OK</td>\n",
       "    </tr>\n",
       "  </tbody>\n",
       "</table>\n"
      ],
      "text/plain": [
       "<pandas.io.formats.style.Styler at 0x7fe544ff17e0>"
      ]
     },
     "execution_count": 23,
     "metadata": {},
     "output_type": "execute_result"
    }
   ],
   "source": [
    "::hnsw create beliefs:embedding_space {\n",
    "    dim: 768,\n",
    "    m: 50,\n",
    "    dtype: F32,\n",
    "    fields: [belief_embedding, details_embedding],\n",
    "    distance: Cosine,\n",
    "    ef_construction: 20,\n",
    "    extend_candidates: false,\n",
    "    keep_pruned_connections: false,\n",
    "}"
   ]
  },
  {
   "cell_type": "code",
   "execution_count": 24,
   "id": "2dab3abe-e319-470d-a131-c4789cd1ded0",
   "metadata": {},
   "outputs": [
    {
     "data": {
      "text/html": [
       "<style type=\"text/css\">\n",
       "#T_a8994_row0_col0 {\n",
       "  color: black;\n",
       "}\n",
       "</style>\n",
       "<table id=\"T_a8994\">\n",
       "  <thead>\n",
       "    <tr>\n",
       "      <th class=\"blank level0\" >&nbsp;</th>\n",
       "      <th id=\"T_a8994_level0_col0\" class=\"col_heading level0 col0\" >status</th>\n",
       "    </tr>\n",
       "  </thead>\n",
       "  <tbody>\n",
       "    <tr>\n",
       "      <th id=\"T_a8994_level0_row0\" class=\"row_heading level0 row0\" >0</th>\n",
       "      <td id=\"T_a8994_row0_col0\" class=\"data row0 col0\" >OK</td>\n",
       "    </tr>\n",
       "  </tbody>\n",
       "</table>\n"
      ],
      "text/plain": [
       "<pandas.io.formats.style.Styler at 0x7fe544ff0b80>"
      ]
     },
     "execution_count": 24,
     "metadata": {},
     "output_type": "execute_result"
    }
   ],
   "source": [
    "::fts create beliefs:summary {\n",
    "    extractor: belief ++ \" \" ++ details,\n",
    "    tokenizer: Simple,\n",
    "    filters: [AsciiFolding, AlphaNumOnly, Lowercase, Stemmer('english'), Stopwords('en')],\n",
    "}"
   ]
  },
  {
   "cell_type": "code",
   "execution_count": null,
   "id": "4096ffe6-0129-47f8-a54b-fee9875e5e26",
   "metadata": {},
   "outputs": [],
   "source": []
  }
 ],
 "metadata": {
  "kernelspec": {
   "display_name": "Python 3 (ipykernel)",
   "language": "python",
   "name": "python3"
  },
  "language_info": {
   "codemirror_mode": {
    "name": "ipython",
    "version": 3
   },
   "file_extension": ".py",
   "mimetype": "text/x-python",
   "name": "python",
   "nbconvert_exporter": "python",
   "pygments_lexer": "ipython3",
   "version": "3.10.11"
  }
 },
 "nbformat": 4,
 "nbformat_minor": 5
}
