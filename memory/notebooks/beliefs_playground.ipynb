{
 "cells": [
  {
   "cell_type": "code",
   "execution_count": null,
   "id": "694b1590-1a12-4bfc-81fb-0f8e17a77e42",
   "metadata": {},
   "outputs": [],
   "source": [
    "import requests\n",
    "\n",
    "# FIXME: Should implement ourselves\n",
    "#   https://huggingface.co/spaces/yangheng/PyABSA/blob/main/app.py#L175\n",
    "def absa(text):\n",
    "\n",
    "    data = {\n",
    "        \"text\": text,\n",
    "        \"dataset\": \"Laptop14\",\n",
    "        \"task\": \"ACOS\",\n",
    "    }\n",
    "\n",
    "    try:\n",
    "        response = requests.post(\"https://pyabsa.pagekite.me/api/inference\", json=data)\n",
    "        response.raise_for_status()\n",
    "        \n",
    "        result = response.json()\n",
    "        \n",
    "        return result[\"Quadruples\"]\n",
    "\n",
    "    except Exception as e:\n",
    "        print(e)\n",
    "        return []"
   ]
  },
  {
   "cell_type": "code",
   "execution_count": 1,
   "id": "1eccdde4-b854-4994-a037-54fbd70a2c0c",
   "metadata": {},
   "outputs": [],
   "source": [
    "from memory.cozo import client\n"
   ]
  },
  {
   "cell_type": "code",
   "execution_count": null,
   "id": "a5534ab6-35ff-4b41-88e9-6a3617e29e53",
   "metadata": {},
   "outputs": [],
   "source": [
    "from memory.cozo_relations import ensure_relations\n",
    "# ensure_relations(True)"
   ]
  },
  {
   "cell_type": "code",
   "execution_count": null,
   "id": "7d1fc23f-e1e9-4a80-a36b-6c95c86291b3",
   "metadata": {},
   "outputs": [],
   "source": [
    "from uuid import uuid4\n",
    "uuid = lambda: str(uuid4())"
   ]
  },
  {
   "cell_type": "code",
   "execution_count": null,
   "id": "96758759-3e03-4017-b06a-478908ef5300",
   "metadata": {},
   "outputs": [],
   "source": [
    "samantha_character_id = 'fa9dbe95-9a17-49d9-96d3-764f1970b32f' or uuid()\n",
    "diwank_character_id = 'd5f6a824-efbd-4945-b267-d9cd12cada77' or uuid()\n",
    "\n",
    "print(dict(\n",
    "    samantha_character_id=samantha_character_id,\n",
    "    diwank_character_id=diwank_character_id,\n",
    "))"
   ]
  },
  {
   "cell_type": "code",
   "execution_count": null,
   "id": "f7775992-5ad4-4b05-b9f6-a84c19447cf9",
   "metadata": {},
   "outputs": [],
   "source": [
    "# False and client.run(f\"\"\"\n",
    "client.run(f\"\"\"\n",
    "?[character_id, name, is_human, about, model] <- [\n",
    "  [\"{samantha_character_id}\", \"Samantha\", false, \"Samantha is a personal assistant, she is very diligent, incredible at her job and really really funny.\", \"julep-ai/samantha-33b\"],\n",
    "  [\"{diwank_character_id}\", \"Diwank\", true, \"Diwank is an AI researcher, entrepreneur and an amazing person.\", null],\n",
    "]\n",
    "\n",
    ":put characters {{\n",
    "    character_id, name, is_human, about, model\n",
    "}}\n",
    "\"\"\")"
   ]
  },
  {
   "cell_type": "code",
   "execution_count": null,
   "id": "32a4c025-7334-43ce-bc26-15f9e08e6ff8",
   "metadata": {},
   "outputs": [],
   "source": [
    "from memory.embed import embed"
   ]
  },
  {
   "cell_type": "code",
   "execution_count": null,
   "id": "72e37b72-24f4-4287-8a84-4e9cc51dee5e",
   "metadata": {},
   "outputs": [],
   "source": [
    "import json\n",
    "\n",
    "with open(\"./diwank-samantha-principles-all.json\", 'r') as f:\n",
    "    beliefs = json.load(f)\n",
    "    beliefs = beliefs[\"beliefs\"]"
   ]
  },
  {
   "cell_type": "code",
   "execution_count": null,
   "id": "1a28005c-2c44-44c2-a7a6-43cf0a2680e5",
   "metadata": {},
   "outputs": [],
   "source": [
    "cid_map = dict(\n",
    "    samantha=samantha_character_id,\n",
    "    diwank=diwank_character_id,\n",
    ")"
   ]
  },
  {
   "cell_type": "code",
   "execution_count": null,
   "id": "e956719d-8ed7-4aaf-a691-7e3af6d5a950",
   "metadata": {
    "scrolled": true
   },
   "outputs": [],
   "source": [
    "from textwrap import dedent\n",
    "import re\n",
    "\n",
    "from tqdm.notebook import tqdm\n",
    "\n",
    "rm_newline = lambda s: s.replace('\\n', '    ').replace('\"', \"'\")\n",
    "\n",
    "for b in tqdm(beliefs):\n",
    "    # break\n",
    "\n",
    "    aspects = absa(b[\"belief\"])\n",
    "    # aspects = []\n",
    "    aspects_str = json.dumps(aspects)\n",
    "    \n",
    "    query = dedent(f\"\"\"\n",
    "    ?[belief_id, character_id, belief, details, parent_belief_id, valence, aspects, belief_embedding, details_embedding] <- [[\n",
    "      to_uuid(\"{b['belief_id']}\"),\n",
    "      to_uuid(\"{cid_map[b['character_name'].lower()]}\"),\n",
    "      \"{rm_newline(b['belief'])}\",\n",
    "      \"{rm_newline(b['details'])}\",\n",
    "      {'\"'+b['parent_belief_id']+'\"' if b['parent_belief_id'] else 'null'},\n",
    "      {b['valence']},\n",
    "      {aspects_str},\n",
    "      vec({b['belief_embedding']}),\n",
    "      vec({b['details_embedding']}),\n",
    "    ]]\n",
    "    \n",
    "    :put beliefs {{\n",
    "        belief_id, character_id, belief, details, parent_belief_id, valence, belief_embedding, details_embedding\n",
    "    }}\n",
    "    \"\"\")\n",
    "\n",
    "    try:\n",
    "        client.run(query)\n",
    "    except Exception as e:\n",
    "        e = str(e)\n",
    "        idx = int(re.findall(r\"[\\d]+\", e)[0])\n",
    "        print(e)\n",
    "        print()\n",
    "        print(\"=\"*20)\n",
    "        print()\n",
    "        print(query[idx-10:idx+20])"
   ]
  },
  {
   "cell_type": "code",
   "execution_count": null,
   "id": "a5b91797-6018-4b4a-865f-4011dc84aef6",
   "metadata": {},
   "outputs": [],
   "source": [
    "diwank_pascal_beliefs = \"\"\"\n",
    "Pascal is both a mentor and a dear friend to Diwank.\n",
    "Pascal was the first person from Silicon Valley who identified my potential and gave Diwank a chance to build things back when Diwank was only 18 years old.\n",
    "Pascal invited Diwank to join a startup accelerator program called \"WebFWD\" that he had created when he was running Mozilla Labs.\n",
    "Pascal is deeply passionate about a variety of interests and areas of expertise, such as business and physical wellness.\n",
    "Pascal firmly believes in the power of technology and innovation, dedicating his career to leading and contributing to prominent tech companies.\n",
    "Pascal advocates for future-oriented thinking, reflected in his co-founding of 'be radical' and authoring of 'Disrupt Disruption'.\n",
    "Pascal is a strong supporter of women's empowerment, demonstrated by his co-founding of The Women's Impact Alliance.\n",
    "Pascal possesses a natural instinct for mentoring, nurturing young talents and creating opportunities for them through initiatives like the WebFWD startup accelerator.\n",
    "Pascal is not afraid of risk, embracing new challenges and ventures throughout his career, including running a VC fund, non-profits, and an art gallery.\n",
    "Pascal values knowledge sharing and community building, contributing to platforms like TheHeretic.org and the Falling Walls Foundation.\n",
    "Pascal believes strongly in the potential of young leaders, offering them guidance and support through his various advisory roles.\n",
    "Pascal has a unique appreciation for physical wellness, previously working as a Pilates instructor for US Olympians.\n",
    "Pascal displays humility and an eagerness to contribute, actively involving himself in various initiatives and organizations.\n",
    "Pascal stands firmly for honesty and clear communication, disliking insincerity and unnecessary jargon.\n",
    "Pascal finds fulfillment in educating, inspiring, and empowering others, especially leaders.\n",
    "Pascal's core mission is to drive positive change and amplify the impact of other changemakers.\n",
    "Pascal champions diversity and inclusion, evidenced by his establishment of The Women’s Impact Alliance.\n",
    "Pascal has a penchant for disruptive thinking, always seeking to challenge existing paradigms and identify new opportunities.\n",
    "Pascal places high importance on lifelong learning and continuous leadership development.\n",
    "\"\"\".strip().split(\"\\n\")\n",
    "\n",
    "# diwank_pascal_beliefs_uuids = [uuid() for _ in range(len(diwank_pascal_beliefs))]\n",
    "diwank_pascal_beliefs_uuids = ['125df766-586b-4d39-9e09-01cd351a08a2',\n",
    " '8f4a0cbf-0e04-4b93-b9e8-9bcd3a3ebb22',\n",
    " 'c79526fe-28c2-47a0-8baf-b01402ff7f89',\n",
    " '9517e249-5de9-4edd-b7b7-1be91dfe8b84',\n",
    " '5f2b13bd-3d72-49ee-9a57-a9a4c5c918e6',\n",
    " '4827e827-5d6a-4586-bbe7-5603eee9c39f',\n",
    " '43ce9713-8f68-4b60-990f-f11dd241fb97',\n",
    " '562a22ca-955e-4667-8f7d-876f70d52d8e',\n",
    " '3765b5ec-61f7-487e-ad28-0b29d4264f8b',\n",
    " '0293e070-9c22-45db-9120-6a5cbf2a718f',\n",
    " 'd16bf2b7-2fb1-4caa-ac73-238c586a46c4',\n",
    " 'd64f38cc-838c-4604-9628-e1bef7af1856',\n",
    " 'aa2e30fe-b96a-4a85-83b4-ef8d861e5298',\n",
    " '5c7ce0d8-9612-4062-9394-15fcdcd279b4',\n",
    " '11f6e4b5-fd7f-4f9e-afab-0da50be8daa3',\n",
    " '638d317d-135a-42f6-b4ae-6ac536709fb5',\n",
    " '8b537ebd-ac77-4374-8e08-a077d5c31e3e',\n",
    " '7a399c3d-7640-4bf7-ac10-30f5ce1ea564',\n",
    " '6b77776c-ca66-45be-8b65-f484016b3f12']\n"
   ]
  },
  {
   "cell_type": "code",
   "execution_count": null,
   "id": "ff418821-f3ad-41bb-8751-4c8132b85010",
   "metadata": {},
   "outputs": [],
   "source": [
    "for id, b in tqdm(zip(diwank_pascal_beliefs_uuids, diwank_pascal_beliefs)):\n",
    "    # break\n",
    "\n",
    "    aspects = absa(b)\n",
    "    # aspects = []\n",
    "    aspects_str = json.dumps(aspects)\n",
    "    [e] = embed([b], \"passage\")\n",
    "    \n",
    "    query = dedent(f\"\"\"\n",
    "    ?[belief_id, character_id, belief, details, parent_belief_id, valence, aspects, belief_embedding, details_embedding] <- [[\n",
    "      to_uuid(\"{id}\"),\n",
    "      to_uuid(\"{diwank_character_id}\"),\n",
    "      \"{rm_newline(b)}\",\n",
    "      \"{rm_newline(b)}\",\n",
    "      null,\n",
    "      {3.0},\n",
    "      {aspects_str},\n",
    "      vec({e}),\n",
    "      vec({e}),\n",
    "    ]]\n",
    "    \n",
    "    :put beliefs {{\n",
    "        belief_id, character_id, belief, details, parent_belief_id, valence, belief_embedding, details_embedding\n",
    "    }}\n",
    "    \"\"\")\n",
    "\n",
    "    try:\n",
    "        client.run(query)\n",
    "    except Exception as e:\n",
    "        e = str(e)\n",
    "        idx = int(re.findall(r\"[\\d]+\", e)[0])\n",
    "        print(e)\n",
    "        print()\n",
    "        print(\"=\"*20)\n",
    "        print()\n",
    "        print(query[idx-10:idx+20])"
   ]
  },
  {
   "cell_type": "code",
   "execution_count": null,
   "id": "22c6cf13-2d93-45e7-a97f-1147681bb476",
   "metadata": {},
   "outputs": [],
   "source": [
    "client.close()"
   ]
  },
  {
   "cell_type": "code",
   "execution_count": null,
   "id": "db864a20-ccf4-49e6-95c2-45092a82f7c7",
   "metadata": {},
   "outputs": [],
   "source": []
  }
 ],
 "metadata": {
  "kernelspec": {
   "display_name": "Python 3 (ipykernel)",
   "language": "python",
   "name": "python3"
  },
  "language_info": {
   "codemirror_mode": {
    "name": "ipython",
    "version": 3
   },
   "file_extension": ".py",
   "mimetype": "text/x-python",
   "name": "python",
   "nbconvert_exporter": "python",
   "pygments_lexer": "ipython3",
   "version": "3.10.11"
  }
 },
 "nbformat": 4,
 "nbformat_minor": 5
}
