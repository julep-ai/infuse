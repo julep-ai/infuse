{
 "cells": [
  {
   "cell_type": "code",
   "execution_count": 30,
   "id": "1eccdde4-b854-4994-a037-54fbd70a2c0c",
   "metadata": {},
   "outputs": [],
   "source": [
    "import json\n",
    "from textwrap import dedent\n",
    "\n",
    "from xxhash import xxh64\n",
    "\n",
    "from memory.cozo import client\n",
    "from memory.embed import embed\n",
    "from memory.generate import generate\n",
    "from memory.inserts import *\n",
    "from memory.queries import *\n",
    "from memory.updates import *\n",
    "from memory.utils import *"
   ]
  },
  {
   "cell_type": "code",
   "execution_count": 2,
   "id": "849b3172-6055-470d-867f-c0dee362926b",
   "metadata": {},
   "outputs": [
    {
     "data": {
      "text/plain": [
       "{'character_id': 'd5f6a824-efbd-4945-b267-d9cd12cada77',\n",
       " 'assistant_id': 'fa9dbe95-9a17-49d9-96d3-764f1970b32f',\n",
       " 'assistant_about': {'name': 'Diwank',\n",
       "  'about': 'Diwank is an AI researcher, entrepreneur and an amazing person.',\n",
       "  'metadata': {}},\n",
       " 'character_about': {'name': 'Samantha',\n",
       "  'about': 'Samantha is a personal assistant, she is very diligent, incredible at her job and really really funny.',\n",
       "  'metadata': {}}}"
      ]
     },
     "execution_count": 2,
     "metadata": {},
     "output_type": "execute_result"
    }
   ],
   "source": [
    "get_user_by_email(\"diwank@julep.ai\")"
   ]
  },
  {
   "cell_type": "code",
   "execution_count": 3,
   "id": "4d1532ea-bad3-40d9-a436-d5f9762abf64",
   "metadata": {},
   "outputs": [],
   "source": [
    "get_sessions_by_email(\"diwank@julep.ai\", \"\")"
   ]
  },
  {
   "cell_type": "code",
   "execution_count": 29,
   "id": "eb03e532-936d-4245-ae25-7d9e3f969899",
   "metadata": {},
   "outputs": [
    {
     "data": {
      "text/plain": [
       "47"
      ]
     },
     "execution_count": 29,
     "metadata": {},
     "output_type": "execute_result"
    }
   ],
   "source": [
    "chatml = [{\"role\": \"user\", \"content\": \"Hello \"*22}]\n",
    "prompt = to_prompt(chatml, suffix=\"<|section|>me (Samantha)\\n\")\n",
    "count_tokens(prompt)"
   ]
  },
  {
   "cell_type": "code",
   "execution_count": 31,
   "id": "7aa9f1ad",
   "metadata": {},
   "outputs": [
    {
     "data": {
      "text/plain": [
       "'75d489bd593b625f'"
      ]
     },
     "execution_count": 31,
     "metadata": {},
     "output_type": "execute_result"
    }
   ],
   "source": [
    "hash = lambda d: xxh64(json.dumps(d), seed=0).hexdigest()\n",
    "hash(chatml)"
   ]
  },
  {
   "cell_type": "code",
   "execution_count": 5,
   "id": "766beffe-5f52-4fc1-b121-325f99c43805",
   "metadata": {},
   "outputs": [],
   "source": [
    "# TODO: IMPLEMENT CACHE USING COZO"
   ]
  },
  {
   "cell_type": "code",
   "execution_count": 7,
   "id": "959cbd36-2b27-4270-9c81-473545c9d0dd",
   "metadata": {},
   "outputs": [
    {
     "data": {
      "text/plain": [
       "'01:30PM on Thursday, Jul 06 2023'"
      ]
     },
     "execution_count": 7,
     "metadata": {},
     "output_type": "execute_result"
    }
   ],
   "source": [
    "get_human_data_time()"
   ]
  },
  {
   "cell_type": "code",
   "execution_count": 8,
   "id": "f97d39a1-941d-4d5d-af4c-9abec2461e20",
   "metadata": {},
   "outputs": [
    {
     "data": {
      "text/plain": [
       "[{'role': 'system', 'content': 'SYSTEM'},\n",
       " {'role': 'user', 'content': 'Hello 497'},\n",
       " {'role': 'user', 'content': 'Hello 498'},\n",
       " {'role': 'user', 'content': 'Hello 499'}]"
      ]
     },
     "execution_count": 8,
     "metadata": {},
     "output_type": "execute_result"
    }
   ],
   "source": [
    "chatml = [\n",
    "    {\"role\": \"system\", \"content\": f\"SYSTEM\"},\n",
    "    *[\n",
    "        {\"role\": \"user\", \"content\": f\"Hello {i}\"}\n",
    "        for i in range(500)\n",
    "    ]\n",
    "]\n",
    "\n",
    "truncate(chatml, max_tokens=100)"
   ]
  },
  {
   "cell_type": "code",
   "execution_count": 9,
   "id": "c57a4115-cd7e-4339-bb18-e561e1ddcc07",
   "metadata": {},
   "outputs": [
    {
     "data": {
      "text/plain": [
       "[('diwank', 0.6332),\n",
       " ('shikha', 0.5357),\n",
       " ('singh', 0.4863),\n",
       " ('mom', 0.2978),\n",
       " ('entrepreneur', 0.1408)]"
      ]
     },
     "execution_count": 9,
     "metadata": {},
     "output_type": "execute_result"
    }
   ],
   "source": [
    "extract_keywords(\"Diwank's mom's name is Shikha Singh. She is an entrepreneur and a very inspiring and brave person.\")"
   ]
  },
  {
   "cell_type": "code",
   "execution_count": 10,
   "id": "013f5f88-a404-4dee-9444-f191b66dc8d6",
   "metadata": {},
   "outputs": [
    {
     "name": "stdout",
     "output_type": "stream",
     "text": [
      "4 matching beliefs found for ```Diwank: I like reading sometimes```\n"
     ]
    },
    {
     "data": {
      "text/plain": [
       "['Diwank loves exploring new areas of interest.',\n",
       " \"Diwank enjoys hearing other people's insights and sharing their own knowledge.\",\n",
       " '- At their core, Diwank is driven by innovative ideas, products, and solutions.    - Diwank believes in being curious, open-minded, reflective, and adaptable.    - Diwank needs to visualize ambitious goals and be independent in their pursuits.',\n",
       " \"Diwank doesn't care much about what others think of their shifting focus.\"]"
      ]
     },
     "execution_count": 10,
     "metadata": {},
     "output_type": "execute_result"
    }
   ],
   "source": [
    "to_belief_chatml_msg = lambda bfs: dict(role=\"system\", name=\"information\", content=\" \".join(bfs))\n",
    "\n",
    "chatml = [{\"role\": \"user\", \"name\": \"Diwank\", \"content\": \"I like reading sometimes\"}]\n",
    "# to_belief_chatml_msg(get_matching_beliefs(chatml, 0.8))\n",
    "get_matching_beliefs(chatml)"
   ]
  },
  {
   "cell_type": "code",
   "execution_count": 11,
   "id": "22c6cf13-2d93-45e7-a97f-1147681bb476",
   "metadata": {},
   "outputs": [],
   "source": [
    "# client.close()"
   ]
  },
  {
   "attachments": {},
   "cell_type": "markdown",
   "id": "0f7a1e28",
   "metadata": {},
   "source": [
    "### Logic for memory service\n",
    "\n",
    "**Service contract**\n",
    "\n",
    "```\n",
    "POST /session/entry\n",
    "{\n",
    "  email: string,  # Required\n",
    "  name: string? = \"Anonymous\",\n",
    "  vocode_conversation_id: string, # Required\n",
    "  user_input: string?,  # Only either this or situation can be passed\n",
    "  situation: string?,  # If situation is passed and previous session exists raise error\n",
    "}\n",
    "=> {\n",
    "  session_id: string,\n",
    "  assistant_output: string,\n",
    "}\n",
    "```\n",
    "\n",
    "**Flow**\n",
    "\n",
    "0. `samantha = get_character(samantha_character_id)`\n",
    "1. `assert situation ^ user_input`\n",
    "2. `user_data = get_user_by_email(email)`\n",
    "3. `if not user_data:`  \n",
    "    - `character_data = create_character(name, about, assistant=samantha)`  \n",
    "    - `user_data = create_user(email, character_data)`\n",
    "4. `session = get_session(vocode_conversation_id)`\n",
    "5. `assert situation and not session`\n",
    "6. `if not session:`\n",
    "    - `session = create_session(user_data, vocode_conversation_id, situation)`\n",
    "    - `add_session_characters(session, user_data)`\n",
    "7. `entries = get_session_entries(session_id)`\n",
    "8. `{summary} = session`\n",
    "9. `situation_final = make_situation(user_data, add_time=True)`\n",
    ">  `make_situation = lambda data, add_time=False: (`  \n",
    ">  `  f\"{samantha.name} is talking to {name}.\"`  \n",
    ">  `  + situation`  \n",
    ">  `  + f'\\nIt is {human_now()}'`  \n",
    ">  `)`  \n",
    "10.  \n",
    ">  `info_top = (`  \n",
    ">  `  samantha.about`  \n",
    ">  `  + user_data.about`  \n",
    ">  `  + f'{samantha.name} is very funny but also polite and keeps her responses brief.'`  \n",
    ">  `)`  \n",
    "11. `all_entries = situation_final + info_top + entries`\n",
    "12. `truncated_entries = truncate(all_entries)`\n",
    "13. `thought = generate_thought(truncated_entries)`\n",
    "14. `beliefs = get_matching_beliefs(user_data, thought)`\n",
    "15. `all_entries.append(belief)`\n",
    "16. `truncated_entries = truncate(all_entries)`\n",
    "17. `if len(truncated_entries) < len(all_entries) and summary:`  \n",
    "    - `truncated_entries.insert(summary, 3)`\n",
    "18. `assistant_output = generate(truncated_entries)`\n",
    "19. `return { assistant_output, session.session_id }`\n",
    "20. (In the background)  \n",
    "    - `add_entry(session, assistant_output)`\n",
    "    - `update_summary(session, truncated_entries[3:])`\n",
    "    - `if new_session: add_episodes(session, situation)`\n",
    "    - `add_episodes(session, truncated_entries)`"
   ]
  },
  {
   "attachments": {},
   "cell_type": "markdown",
   "id": "6c828ca5",
   "metadata": {},
   "source": []
  }
 ],
 "metadata": {
  "kernelspec": {
   "display_name": "Python 3 (ipykernel)",
   "language": "python",
   "name": "python3"
  },
  "language_info": {
   "codemirror_mode": {
    "name": "ipython",
    "version": 3
   },
   "file_extension": ".py",
   "mimetype": "text/x-python",
   "name": "python",
   "nbconvert_exporter": "python",
   "pygments_lexer": "ipython3",
   "version": "3.10.11"
  }
 },
 "nbformat": 4,
 "nbformat_minor": 5
}
