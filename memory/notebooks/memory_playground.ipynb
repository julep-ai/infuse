{
 "cells": [
  {
   "cell_type": "code",
   "execution_count": 1,
   "id": "694b1590-1a12-4bfc-81fb-0f8e17a77e42",
   "metadata": {},
   "outputs": [],
   "source": [
    "import requests\n",
    "\n",
    "# FIXME: Should implement ourselves\n",
    "#   https://huggingface.co/spaces/yangheng/PyABSA/blob/main/app.py#L175\n",
    "def absa(text):\n",
    "\n",
    "    data = {\n",
    "        \"text\": text,\n",
    "        \"dataset\": \"Laptop14\",\n",
    "        \"task\": \"ACOS\",\n",
    "    }\n",
    "\n",
    "    try:\n",
    "        response = requests.post(\"https://pyabsa.pagekite.me/api/inference\", json=data)\n",
    "        response.raise_for_status()\n",
    "        \n",
    "        result = response.json()\n",
    "        \n",
    "        return result[\"Quadruples\"]\n",
    "\n",
    "    except Exception as e:\n",
    "        print(e)\n",
    "        return []"
   ]
  },
  {
   "cell_type": "code",
   "execution_count": 2,
   "id": "1eccdde4-b854-4994-a037-54fbd70a2c0c",
   "metadata": {},
   "outputs": [],
   "source": [
    "from memory.cozo import client"
   ]
  },
  {
   "cell_type": "code",
   "execution_count": 3,
   "id": "a5534ab6-35ff-4b41-88e9-6a3617e29e53",
   "metadata": {},
   "outputs": [],
   "source": [
    "from memory.cozo_relations import create_all\n",
    "create_all()"
   ]
  },
  {
   "cell_type": "code",
   "execution_count": 4,
   "id": "7d1fc23f-e1e9-4a80-a36b-6c95c86291b3",
   "metadata": {},
   "outputs": [],
   "source": [
    "from uuid import uuid4\n",
    "uuid = lambda: str(uuid4())"
   ]
  },
  {
   "cell_type": "code",
   "execution_count": 5,
   "id": "96758759-3e03-4017-b06a-478908ef5300",
   "metadata": {},
   "outputs": [
    {
     "name": "stdout",
     "output_type": "stream",
     "text": [
      "{'samantha_character_id': 'fa9dbe95-9a17-49d9-96d3-764f1970b32f', 'diwank_character_id': 'd5f6a824-efbd-4945-b267-d9cd12cada77'}\n"
     ]
    }
   ],
   "source": [
    "samantha_character_id = 'fa9dbe95-9a17-49d9-96d3-764f1970b32f' or uuid()\n",
    "diwank_character_id = 'd5f6a824-efbd-4945-b267-d9cd12cada77' or uuid()\n",
    "\n",
    "print(dict(\n",
    "    samantha_character_id=samantha_character_id,\n",
    "    diwank_character_id=diwank_character_id,\n",
    "))"
   ]
  },
  {
   "cell_type": "code",
   "execution_count": 6,
   "id": "f7775992-5ad4-4b05-b9f6-a84c19447cf9",
   "metadata": {},
   "outputs": [
    {
     "data": {
      "text/html": [
       "<div>\n",
       "<style scoped>\n",
       "    .dataframe tbody tr th:only-of-type {\n",
       "        vertical-align: middle;\n",
       "    }\n",
       "\n",
       "    .dataframe tbody tr th {\n",
       "        vertical-align: top;\n",
       "    }\n",
       "\n",
       "    .dataframe thead th {\n",
       "        text-align: right;\n",
       "    }\n",
       "</style>\n",
       "<table border=\"1\" class=\"dataframe\">\n",
       "  <thead>\n",
       "    <tr style=\"text-align: right;\">\n",
       "      <th></th>\n",
       "      <th>status</th>\n",
       "    </tr>\n",
       "  </thead>\n",
       "  <tbody>\n",
       "    <tr>\n",
       "      <th>0</th>\n",
       "      <td>OK</td>\n",
       "    </tr>\n",
       "  </tbody>\n",
       "</table>\n",
       "</div>"
      ],
      "text/plain": [
       "  status\n",
       "0     OK"
      ]
     },
     "execution_count": 6,
     "metadata": {},
     "output_type": "execute_result"
    }
   ],
   "source": [
    "# False and client.run(f\"\"\"\n",
    "client.run(f\"\"\"\n",
    "?[character_id, name, is_human, about, model] <- [\n",
    "  [\"{samantha_character_id}\", \"Samantha\", false, \"Samantha is a personal assistant, she is very diligent, incredible at her job and really really funny.\", \"julep-ai/samantha-33b\"],\n",
    "  [\"{diwank_character_id}\", \"Diwank\", true, \"Diwank is an AI researcher, entrepreneur and an amazing person.\", null],\n",
    "]\n",
    "\n",
    ":put characters {{\n",
    "    character_id, name, is_human, about, model\n",
    "}}\n",
    "\"\"\")"
   ]
  },
  {
   "cell_type": "code",
   "execution_count": 7,
   "id": "32a4c025-7334-43ce-bc26-15f9e08e6ff8",
   "metadata": {},
   "outputs": [],
   "source": [
    "from memory.embed import embed"
   ]
  },
  {
   "cell_type": "code",
   "execution_count": 8,
   "id": "72e37b72-24f4-4287-8a84-4e9cc51dee5e",
   "metadata": {},
   "outputs": [],
   "source": [
    "import json\n",
    "\n",
    "with open(\"./diwank-samantha-principles-all.json\", 'r') as f:\n",
    "    beliefs = json.load(f)\n",
    "    beliefs = beliefs[\"beliefs\"]"
   ]
  },
  {
   "cell_type": "code",
   "execution_count": 9,
   "id": "1a28005c-2c44-44c2-a7a6-43cf0a2680e5",
   "metadata": {},
   "outputs": [],
   "source": [
    "cid_map = dict(\n",
    "    samantha=samantha_character_id,\n",
    "    diwank=diwank_character_id,\n",
    ")"
   ]
  },
  {
   "cell_type": "code",
   "execution_count": 77,
   "id": "e956719d-8ed7-4aaf-a691-7e3af6d5a950",
   "metadata": {
    "scrolled": true
   },
   "outputs": [
    {
     "data": {
      "application/vnd.jupyter.widget-view+json": {
       "model_id": "ab41b362683240bc877b9ffb9334c7cc",
       "version_major": 2,
       "version_minor": 0
      },
      "text/plain": [
       "  0%|          | 0/768 [00:00<?, ?it/s]"
      ]
     },
     "metadata": {},
     "output_type": "display_data"
    }
   ],
   "source": [
    "from textwrap import dedent\n",
    "import re\n",
    "\n",
    "from tqdm.notebook import tqdm\n",
    "\n",
    "rm_newline = lambda s: s.replace('\\n', '    ').replace('\"', \"'\")\n",
    "\n",
    "for b in tqdm(beliefs):\n",
    "    # break\n",
    "\n",
    "    aspects = absa(b[\"belief\"])\n",
    "    # aspects = []\n",
    "    aspects_str = json.dumps(aspects)\n",
    "    \n",
    "    query = dedent(f\"\"\"\n",
    "    ?[belief_id, character_id, belief, details, parent_belief_id, valence, aspects, belief_embedding, details_embedding] <- [[\n",
    "      to_uuid(\"{b['belief_id']}\"),\n",
    "      to_uuid(\"{cid_map[b['character_name'].lower()]}\"),\n",
    "      \"{rm_newline(b['belief'])}\",\n",
    "      \"{rm_newline(b['details'])}\",\n",
    "      {'\"'+b['parent_belief_id']+'\"' if b['parent_belief_id'] else 'null'},\n",
    "      {b['valence']},\n",
    "      {aspects_str},\n",
    "      vec({b['belief_embedding']}),\n",
    "      vec({b['details_embedding']}),\n",
    "    ]]\n",
    "    \n",
    "    :put beliefs {{\n",
    "        belief_id, character_id, belief, details, parent_belief_id, valence, belief_embedding, details_embedding\n",
    "    }}\n",
    "    \"\"\")\n",
    "\n",
    "    try:\n",
    "        client.run(query)\n",
    "    except Exception as e:\n",
    "        e = str(e)\n",
    "        idx = int(re.findall(r\"[\\d]+\", e)[0])\n",
    "        print(e)\n",
    "        print()\n",
    "        print(\"=\"*20)\n",
    "        print()\n",
    "        print(query[idx-10:idx+20])"
   ]
  },
  {
   "cell_type": "code",
   "execution_count": 14,
   "id": "bd96c4cf-a408-4698-bba4-fc214b650aa1",
   "metadata": {},
   "outputs": [
    {
     "data": {
      "text/html": [
       "<div>\n",
       "<style scoped>\n",
       "    .dataframe tbody tr th:only-of-type {\n",
       "        vertical-align: middle;\n",
       "    }\n",
       "\n",
       "    .dataframe tbody tr th {\n",
       "        vertical-align: top;\n",
       "    }\n",
       "\n",
       "    .dataframe thead th {\n",
       "        text-align: right;\n",
       "    }\n",
       "</style>\n",
       "<table border=\"1\" class=\"dataframe\">\n",
       "  <thead>\n",
       "    <tr style=\"text-align: right;\">\n",
       "      <th></th>\n",
       "      <th>status</th>\n",
       "    </tr>\n",
       "  </thead>\n",
       "  <tbody>\n",
       "    <tr>\n",
       "      <th>0</th>\n",
       "      <td>OK</td>\n",
       "    </tr>\n",
       "  </tbody>\n",
       "</table>\n",
       "</div>"
      ],
      "text/plain": [
       "  status\n",
       "0     OK"
      ]
     },
     "execution_count": 14,
     "metadata": {},
     "output_type": "execute_result"
    }
   ],
   "source": [
    "email = \"diwank@julep.ai\"\n",
    "character_id = diwank_character_id\n",
    "assistant_id = samantha_character_id\n",
    "\n",
    "def add_user(email: str, character_id: str, assistant_id: str):\n",
    "    return client.run(dedent(f\"\"\"\n",
    "    ?[email, character_id, assistant_id] <- [\n",
    "      [\"{email}\", \"{character_id}\", \"{assistant_id}\"]\n",
    "    ]\n",
    "    \n",
    "    :put users {{\n",
    "        email, character_id, assistant_id\n",
    "    }}\n",
    "    \"\"\"))\n",
    "\n",
    "add_user(email, character_id, assistant_id)"
   ]
  },
  {
   "cell_type": "code",
   "execution_count": 15,
   "id": "8f17930b-209c-465d-ac7f-bea159317c3d",
   "metadata": {},
   "outputs": [
    {
     "data": {
      "text/plain": [
       "{'name': 'Samantha',\n",
       " 'about': 'Samantha is a personal assistant, she is very diligent, incredible at her job and really really funny.',\n",
       " 'metadata': {}}"
      ]
     },
     "execution_count": 15,
     "metadata": {},
     "output_type": "execute_result"
    }
   ],
   "source": [
    "def get_character_about(character_id: str):\n",
    "    \n",
    "    results = client.run(dedent(f\"\"\"\n",
    "    char[character_id] <- [[to_uuid(\"{character_id}\")]]\n",
    "    ?[name, about, metadata] := char[character_id], *characters{{name, about, metadata, character_id, updated_at @ floor(now())}}\n",
    "    \"\"\"))\n",
    "\n",
    "    name = results[\"name\"][0]\n",
    "    about = results[\"about\"][0]\n",
    "    metadata = results[\"metadata\"][0]\n",
    "\n",
    "    return dict(\n",
    "        name=name,\n",
    "        about=about,\n",
    "        metadata=metadata,\n",
    "    )\n",
    "\n",
    "get_character_about(samantha_character_id)"
   ]
  },
  {
   "cell_type": "code",
   "execution_count": 16,
   "id": "849b3172-6055-470d-867f-c0dee362926b",
   "metadata": {},
   "outputs": [
    {
     "data": {
      "text/plain": [
       "{'character_id': 'd5f6a824-efbd-4945-b267-d9cd12cada77',\n",
       " 'assistant_id': 'fa9dbe95-9a17-49d9-96d3-764f1970b32f',\n",
       " 'assistant_about': {'name': 'Diwank',\n",
       "  'about': 'Diwank is an AI researcher, entrepreneur and an amazing person.',\n",
       "  'metadata': {}},\n",
       " 'character_about': {'name': 'Samantha',\n",
       "  'about': 'Samantha is a personal assistant, she is very diligent, incredible at her job and really really funny.',\n",
       "  'metadata': {}}}"
      ]
     },
     "execution_count": 16,
     "metadata": {},
     "output_type": "execute_result"
    }
   ],
   "source": [
    "def get_user_by_email(email: str):\n",
    "    results = client.run(dedent(f\"\"\"\n",
    "    input[email] <- [[\"{email}\"]]\n",
    "    ?[character_id, assistant_id] := input[email], *users{{email, character_id, assistant_id}}\n",
    "    \"\"\"))\n",
    "\n",
    "    character_id = results[\"character_id\"][0]\n",
    "    assistant_id = results[\"assistant_id\"][0]\n",
    "\n",
    "    output = dict(\n",
    "        character_id=character_id,\n",
    "        assistant_id=assistant_id,\n",
    "        assistant_about=get_character_about(character_id),\n",
    "        character_about=get_character_about(assistant_id),\n",
    "    )\n",
    "\n",
    "    return output\n",
    "\n",
    "get_user_by_email(\"diwank@julep.ai\")"
   ]
  },
  {
   "cell_type": "code",
   "execution_count": 17,
   "id": "4d1532ea-bad3-40d9-a436-d5f9762abf64",
   "metadata": {},
   "outputs": [],
   "source": [
    "def get_sessions_by_email(email: str, vocode_conversation_id: str, limit: int = 1):\n",
    "    user_details = get_user_by_email(\"diwank@julep.ai\")\n",
    "    character_id = user_details[\"character_id\"]\n",
    "    \n",
    "    results = client.run(dedent(f\"\"\"\n",
    "    char[character_id, vocode_conversation_id] <- [\n",
    "      [to_uuid(\"{character_id}\"), \"{vocode_conversation_id}\"]\n",
    "    ]\n",
    "                         \n",
    "    ?[session_id, situation, summary, metadata] := char[character_id, vocode_conversation_id], *session_characters{{session_id, character_id}}, *sessions{{session_id, situation, summary, metadata, updated_at @ floor(now())}}, vocode_conversation_id == maybe_get(metadata, \"vocode_conversation_id\")\n",
    "    :limit {limit}\n",
    "    \"\"\"))\n",
    "\n",
    "    if not len(results):\n",
    "        return None\n",
    "\n",
    "    session_id = results[\"session_id\"][0]\n",
    "    situation = results[\"situation\"][0]\n",
    "    summary = results[\"summary\"][0]\n",
    "    metadata = results[\"metadata\"][0]\n",
    "\n",
    "    return dict(\n",
    "        session_id=session_id,\n",
    "        situation=situation,\n",
    "        summary=summary,\n",
    "        metadata=metadata,\n",
    "    )\n",
    "\n",
    "get_sessions_by_email(\"diwank@julep.ai\", \"\")"
   ]
  },
  {
   "cell_type": "code",
   "execution_count": 18,
   "id": "6afe9dd1-43d5-491f-b43a-214a2be5a13a",
   "metadata": {},
   "outputs": [],
   "source": [
    "def create_session(email: str, vocode_conversation_id: str, situation: str):\n",
    "    user_details = get_user_by_email(\"diwank@julep.ai\")\n",
    "    character_id = user_details[\"character_id\"]\n",
    "    assistant_id = user_details[\"assistant_id\"]\n",
    "    \n",
    "    session_id = uuid()\n",
    "    metadata = dict(vocode_conversation_id=vocode_conversation_id)\n",
    "    metadata_str = json.dumps(metadata)\n",
    "\n",
    "    session_results = client.run(dedent(f\"\"\"\n",
    "    ?[session_id, situation, metadata] <- [[\n",
    "        to_uuid(\"{session_id}\"),\n",
    "        \"{situation}\",\n",
    "        {metadata_str},\n",
    "    ]]\n",
    "    :put sessions {{\n",
    "        session_id, situation, metadata\n",
    "    }}\n",
    "    \"\"\"))\n",
    "    \n",
    "    session_characters_results = client.run(dedent(f\"\"\"\n",
    "    ?[session_id, character_id] <- [\n",
    "        [to_uuid(\"{session_id}\"), to_uuid(\"{character_id}\")],   \n",
    "        [to_uuid(\"{session_id}\"), to_uuid(\"{assistant_id}\")],   \n",
    "    ]\n",
    "    :put session_characters {{\n",
    "        session_id, character_id\n",
    "    }}\n",
    "    \"\"\"))\n",
    "\n",
    "    return session_id\n",
    "\n",
    "# create_session(\"diwank@julep.ai\", \"gagagagaga\", \"nm\")"
   ]
  },
  {
   "cell_type": "code",
   "execution_count": 19,
   "id": "aa278c98-a23e-4277-8cb6-fcd10be7e0df",
   "metadata": {},
   "outputs": [],
   "source": [
    "get_sessions_by_email(\"diwank@julep.ai\", \"gagagagaga\")"
   ]
  },
  {
   "cell_type": "code",
   "execution_count": 20,
   "id": "b67c3bbd-4efb-41e9-ba5b-cf12cbe69b4e",
   "metadata": {},
   "outputs": [],
   "source": [
    "from typing import Literal, Optional, TypedDict\n",
    "\n",
    "class ChatMLMessage(TypedDict):\n",
    "    name: Optional[str] = None\n",
    "    role: Literal[\"assistant\", \"system\", \"user\"]\n",
    "    content: str\n",
    "\n",
    "ChatML = list[ChatMLMessage]\n",
    "\n",
    "def message_role_to_prefix(message: ChatMLMessage) -> str:\n",
    "    match message:\n",
    "        case {\"role\": \"system\", \"name\": name, **rest}:\n",
    "            return name\n",
    "        case {\"role\": \"user\", \"name\": name, **rest}:\n",
    "            return f\"person ({name})\" if name else \"person\"\n",
    "        case {\"role\": \"assistant\", \"name\": name, **rest}:\n",
    "            return f\"me ({name})\" if name else \"me\"\n",
    "\n",
    "\n",
    "def to_prompt(\n",
    "    messages: ChatML,\n",
    "    suffix: str,\n",
    "    bos: str = \"<|section|>\",\n",
    "    eos: str = \"<|endsection|>\",\n",
    ") -> str:\n",
    "    # Input format:\n",
    "    # [\n",
    "    #     {\"role\": \"system\", \"name\": \"situation\", \"content\": \"I am talking to Diwank\"},\n",
    "    #     {\"role\": \"assistant\", \"name\": \"Samantha\", \"content\": \"Hey Diwank\"},\n",
    "    #     {\"role\": \"user\", \"name\": \"Diwank\", \"content\": \"Hey!\"},\n",
    "    # ]\n",
    "    \n",
    "    # Output format:\n",
    "    #\n",
    "    # <|section|>situation\n",
    "    # I am talking to Diwank<|endsection|>\n",
    "    # <|section|>me (Samantha)\n",
    "    # Hey Diwank<|endsection|>\n",
    "    # <|section|>person (Diwank)\n",
    "    # Hey<|endsection|>\n",
    "    # <|section|>me (Samantha)\\n\n",
    "    \n",
    "\n",
    "    prompt = \"\\n\".join([\n",
    "        f\"{bos}{message_role_to_prefix(message)}\\n{message['content']}{eos}\"\n",
    "        for message in messages\n",
    "    ])\n",
    "\n",
    "    return prompt + suffix"
   ]
  },
  {
   "cell_type": "code",
   "execution_count": 21,
   "id": "4d572275-abd9-440d-8454-5ce46d014852",
   "metadata": {},
   "outputs": [],
   "source": [
    "from functools import lru_cache\n",
    "from transformers import AutoTokenizer\n",
    "\n",
    "tokenizer_id = \"timdettmers/guanaco-65b-merged\"\n",
    "tokenizer = AutoTokenizer.from_pretrained(tokenizer_id, use_fast=False)\n",
    "\n",
    "@lru_cache\n",
    "def count_tokens(prompt: str):\n",
    "    tokens = tokenizer.encode(prompt)\n",
    "    return len(tokens)"
   ]
  },
  {
   "cell_type": "code",
   "execution_count": 22,
   "id": "eb03e532-936d-4245-ae25-7d9e3f969899",
   "metadata": {},
   "outputs": [
    {
     "data": {
      "text/plain": [
       "47"
      ]
     },
     "execution_count": 22,
     "metadata": {},
     "output_type": "execute_result"
    }
   ],
   "source": [
    "chatml = [{\"role\": \"user\", \"content\": \"Hello \"*22}]\n",
    "prompt = to_prompt(chatml, suffix=\"<|section|>me (Samantha)\\n\")\n",
    "count_tokens(prompt)"
   ]
  },
  {
   "cell_type": "code",
   "execution_count": 23,
   "id": "766beffe-5f52-4fc1-b121-325f99c43805",
   "metadata": {},
   "outputs": [],
   "source": [
    "# TODO: IMPLEMENT CACHE USING COZO"
   ]
  },
  {
   "cell_type": "code",
   "execution_count": 24,
   "id": "4370d112-d4fe-41a7-9f2e-854337e4a06e",
   "metadata": {},
   "outputs": [],
   "source": [
    "def get_beliefs_of_character(character_id: str, limit: int = 100):\n",
    "    query = dedent(f\"\"\"\n",
    "    char[character_id] <- [[to_uuid(\"{diwank_character_id}\")]]\n",
    "    ?[belief_id] := *beliefs{{belief_id, character_id}}, char[character_id]\n",
    "\n",
    "    :limit {limit}\n",
    "    \"\"\")\n",
    "\n",
    "    return query"
   ]
  },
  {
   "cell_type": "code",
   "execution_count": 25,
   "id": "71a687a4-b371-4b8e-8701-b25250f45853",
   "metadata": {},
   "outputs": [],
   "source": [
    "from datetime import datetime, timezone, timedelta\n",
    "from zoneinfo import ZoneInfo\n",
    "\n",
    "def get_aligned_datetime(\n",
    "    time: datetime,\n",
    "    align_by: timedelta = timedelta(minutes=30),\n",
    "    tz: timezone = timezone.utc,\n",
    ") -> datetime:\n",
    "    time = time.astimezone(tz).replace(tzinfo=None)\n",
    "    r = (datetime.min - time) % align_by\n",
    "    result = (\n",
    "        time - (time - datetime.min) % align_by\n",
    "        if r.seconds > align_by.seconds / 2\n",
    "        else time + r\n",
    "    )\n",
    "\n",
    "    return result.replace(tzinfo=tz)\n",
    "\n",
    "def get_human_data_time(tz: timezone = ZoneInfo('Asia/Kolkata')) -> str:\n",
    "    \"\"\"To get the current date and time\"\"\"\n",
    "    dt = get_aligned_datetime(datetime.now(), tz=tz)\n",
    "\n",
    "    return dt.strftime(\"%I:%M%p on %A, %b %d %Y\")"
   ]
  },
  {
   "cell_type": "code",
   "execution_count": 26,
   "id": "959cbd36-2b27-4270-9c81-473545c9d0dd",
   "metadata": {},
   "outputs": [
    {
     "data": {
      "text/plain": [
       "'09:30AM on Tuesday, Jun 27 2023'"
      ]
     },
     "execution_count": 26,
     "metadata": {},
     "output_type": "execute_result"
    }
   ],
   "source": [
    "get_human_data_time()"
   ]
  },
  {
   "cell_type": "code",
   "execution_count": 27,
   "id": "9a7d6ade-b442-40f1-a935-9f13e5c0f640",
   "metadata": {},
   "outputs": [],
   "source": [
    "current_location = lambda: \"New Delhi\"\n",
    "current_weather = lambda: \"Wonderful and raining\""
   ]
  },
  {
   "cell_type": "code",
   "execution_count": 28,
   "id": "f97d39a1-941d-4d5d-af4c-9abec2461e20",
   "metadata": {},
   "outputs": [
    {
     "data": {
      "text/plain": [
       "[{'role': 'system', 'content': 'SYSTEM'},\n",
       " {'role': 'user', 'content': 'Hello 497'},\n",
       " {'role': 'user', 'content': 'Hello 498'},\n",
       " {'role': 'user', 'content': 'Hello 499'}]"
      ]
     },
     "execution_count": 28,
     "metadata": {},
     "output_type": "execute_result"
    }
   ],
   "source": [
    "def truncate(chatml: ChatML, max_tokens: int = 1500, keep_roles: list[str] = [\"system\"]) -> ChatML:\n",
    "    chatml_with_idx = list(enumerate(chatml))\n",
    "    chatml_to_keep = [c for c in chatml_with_idx if c[1][\"role\"] in keep_roles]\n",
    "    budget = max_tokens - sum([\n",
    "        count_tokens(to_prompt([c[1]], suffix=\"\"))\n",
    "        for c in chatml_to_keep\n",
    "    ]) - count_tokens(\"<|section|>me (Samantha)\\n\")\n",
    "\n",
    "    assert budget > 0, \"keep_roles messages exhaust tokens\"\n",
    "\n",
    "    remaining = [c for c in chatml_with_idx if c[1][\"role\"] not in keep_roles]\n",
    "    for i, c in reversed(remaining):\n",
    "        c_len = count_tokens(to_prompt([c], suffix=\"\"))\n",
    "        \n",
    "        if budget < c_len:\n",
    "            break\n",
    "\n",
    "        budget -= c_len\n",
    "        chatml_to_keep.append((i, c))\n",
    "\n",
    "    sorted_kept = sorted(chatml_to_keep, key=lambda x: x[0])\n",
    "    return [c for _, c in sorted_kept]\n",
    "    \n",
    "\n",
    "chatml = [\n",
    "    {\"role\": \"system\", \"content\": f\"SYSTEM\"},\n",
    "    *[\n",
    "        {\"role\": \"user\", \"content\": f\"Hello {i}\"}\n",
    "        for i in range(500)\n",
    "    ]\n",
    "]\n",
    "\n",
    "truncate(chatml, max_tokens=100)"
   ]
  },
  {
   "cell_type": "code",
   "execution_count": 41,
   "id": "c1d846a6-5e99-4fa5-91a9-40a28c553794",
   "metadata": {},
   "outputs": [],
   "source": [
    "# !poetry add keybert keyphrase-vectorizers 'pydantic<2'"
   ]
  },
  {
   "cell_type": "code",
   "execution_count": 45,
   "id": "c57a4115-cd7e-4339-bb18-e561e1ddcc07",
   "metadata": {},
   "outputs": [
    {
     "data": {
      "text/plain": [
       "[('diwank', 0.6332),\n",
       " ('shikha', 0.5357),\n",
       " ('singh', 0.4863),\n",
       " ('mom', 0.2978),\n",
       " ('entrepreneur', 0.1408)]"
      ]
     },
     "execution_count": 45,
     "metadata": {},
     "output_type": "execute_result"
    }
   ],
   "source": [
    "from keybert import KeyBERT\n",
    "from keyphrase_vectorizers import KeyphraseCountVectorizer\n",
    "\n",
    "vectorizer = KeyphraseCountVectorizer(pos_pattern='<N.*>')\n",
    "kw_model = KeyBERT(model=\"all-MiniLM-L6-v2\")\n",
    "\n",
    "def extract_keywords(doc, top_n: int = 5, **kwargs) -> list[tuple[str, float]]:\n",
    "    opts = {\n",
    "        \"top_n\": top_n,\n",
    "        \"stop_words\": \"english\",\n",
    "        \"vectorizer\": vectorizer,\n",
    "        \"use_mmr\": True,\n",
    "        \"diversity\": 0.7,\n",
    "        **kwargs,\n",
    "    }\n",
    "    \n",
    "    keywords = kw_model.extract_keywords(doc, **opts)\n",
    "    return keywords\n",
    "\n",
    "extract_keywords(\"Diwank's mom's name is Shikha Singh. She is an entrepreneur and a very inspiring and brave person.\")"
   ]
  },
  {
   "cell_type": "code",
   "execution_count": 71,
   "id": "013f5f88-a404-4dee-9444-f191b66dc8d6",
   "metadata": {},
   "outputs": [
    {
     "name": "stdout",
     "output_type": "stream",
     "text": [
      "4 matching beliefs found for ```Diwank: I like reading sometimes```\n"
     ]
    },
    {
     "data": {
      "text/plain": [
       "['Diwank loves exploring new areas of interest.',\n",
       " \"Diwank enjoys hearing other people's insights and sharing their own knowledge.\",\n",
       " '- At their core, Diwank is driven by innovative ideas, products, and solutions.    - Diwank believes in being curious, open-minded, reflective, and adaptable.    - Diwank needs to visualize ambitious goals and be independent in their pursuits.',\n",
       " \"Diwank doesn't care much about what others think of their shifting focus.\"]"
      ]
     },
     "execution_count": 71,
     "metadata": {},
     "output_type": "execute_result"
    }
   ],
   "source": [
    "from pycozo.client import Client\n",
    "\n",
    "cozo_client = Client('http', options={'host': 'http://127.0.0.1:9070'})\n",
    "\n",
    "import torch.nn.functional as F\n",
    "\n",
    "from torch import Tensor\n",
    "from transformers import AutoTokenizer, AutoModel\n",
    "\n",
    "\n",
    "def average_pool(last_hidden_states: Tensor,\n",
    "                 attention_mask: Tensor) -> Tensor:\n",
    "    last_hidden = last_hidden_states.masked_fill(~attention_mask[..., None].bool(), 0.0)\n",
    "    return last_hidden.sum(dim=1) / attention_mask.sum(dim=1)[..., None]\n",
    "\n",
    "\n",
    "tokenizer = AutoTokenizer.from_pretrained('intfloat/e5-base-v2')\n",
    "model = AutoModel.from_pretrained('intfloat/e5-base-v2')\n",
    "\n",
    "def embed(batch: list[str], instruction: str):\n",
    "\n",
    "    input_texts = [f\"{instruction}: {text}\" for text in batch]\n",
    "        \n",
    "    # Tokenize the input texts\n",
    "    batch_dict = tokenizer(input_texts, max_length=512, padding=True, truncation=True, return_tensors='pt')\n",
    "    \n",
    "    outputs = model(**batch_dict)\n",
    "    embeddings = average_pool(outputs.last_hidden_state, batch_dict['attention_mask'])\n",
    "    \n",
    "    # (Optionally) normalize embeddings\n",
    "    embeddings = F.normalize(embeddings, p=2, dim=1)\n",
    "\n",
    "    return embeddings.tolist()\n",
    "\n",
    "def get_matching_beliefs(\n",
    "    chatml , #: ChatML,\n",
    "    confidence: float = 0.8,\n",
    "    n: int = 10,\n",
    "    k: int = 2,\n",
    "    window_size: int = 3,\n",
    "    character_ids: list[str] = [],  # TODO\n",
    "    exclude_roles: list[str] = [],\n",
    "):\n",
    "    # Extract text window from conversation chatml\n",
    "    chatml = chatml[-window_size:]\n",
    "    \n",
    "    text = \"\\n\".join([\n",
    "        f\"{message.get('name', message['role'])}: {message['content']}\"\n",
    "        for message in chatml\n",
    "        if message[\"role\"] not in exclude_roles\n",
    "    ])\n",
    "\n",
    "    # Prepare embedding for search\n",
    "    radius = 1.0 - confidence\n",
    "    [query_embedding] = embed([text], \"passage\")\n",
    "\n",
    "    # TODO: Filter by characters\n",
    "    # TODO: Apply mmr\n",
    "    # Embedding search\n",
    "    hnsw_query = dedent(f\"\"\"\n",
    "    ?[belief, valence, dist, character_id] := ~beliefs:embedding_space{{ belief, valence, character_id |\n",
    "        query: vec({query_embedding}),\n",
    "        k: {n},\n",
    "        ef: 20,\n",
    "        radius: {radius},\n",
    "        bind_distance: dist,\n",
    "    }}\n",
    "\n",
    "    :order -valence\n",
    "    :order dist\n",
    "    \"\"\")\n",
    "\n",
    "    # Embedding seach results\n",
    "    hnsw_results = cozo_client.run(hnsw_query)\n",
    "\n",
    "    # Now mix up for character_ids\n",
    "    groups = [\n",
    "        group.tolist()\n",
    "        for _, group\n",
    "        in hnsw_results.groupby([\"character_id\"])[\"belief\"]\n",
    "    ]\n",
    "\n",
    "    k_hnsw_results = []\n",
    "    i = 0\n",
    "    while len(k_hnsw_results) < k and len(groups) > 0:\n",
    "        group_idx = i % len(groups)\n",
    "        group = groups[group_idx]\n",
    "\n",
    "        if not len(group):\n",
    "            groups.pop(group_idx)\n",
    "            continue\n",
    "\n",
    "        item = group.pop(0)\n",
    "        k_hnsw_results.append(item)\n",
    "        i += 1\n",
    "\n",
    "\n",
    "    # FTS query\n",
    "    keywords = \" \".join([\n",
    "        keyword\n",
    "        for keyword, _ in extract_keywords(text)\n",
    "    ])\n",
    "    \n",
    "    fts_query = dedent(f\"\"\"\n",
    "    ?[belief, valence, score, character_id] := ~beliefs:summary {{ belief, valence, character_id |\n",
    "        query: \"{keywords}\",\n",
    "        k: {n},\n",
    "        score_kind: 'tf_idf',\n",
    "        bind_score: score\n",
    "    }}\n",
    "    \n",
    "    :order -valence\n",
    "    :order -score\n",
    "    :limit {k}\n",
    "    \"\"\")\n",
    "\n",
    "    # Embedding seach results\n",
    "    fts_results = cozo_client.run(fts_query)\n",
    "    fts_results = fts_results[\"belief\"].tolist()\n",
    "\n",
    "    # Combine results\n",
    "    results = k_hnsw_results + fts_results\n",
    "    \n",
    "    print(f\"{len(results)} matching beliefs found for ```{text}```\")\n",
    "    \n",
    "    return results\n",
    "\n",
    "to_belief_chatml_msg = lambda bfs: dict(role=\"system\", name=\"information\", content=\" \".join(bfs))\n",
    "\n",
    "chatml = [{\"role\": \"user\", \"name\": \"Diwank\", \"content\": \"I like reading sometimes\"}]\n",
    "# to_belief_chatml_msg(get_matching_beliefs(chatml, 0.8))\n",
    "get_matching_beliefs(chatml)"
   ]
  },
  {
   "cell_type": "code",
   "execution_count": null,
   "id": "b27d50f8-3399-4b66-9b0a-ad89f1517231",
   "metadata": {},
   "outputs": [],
   "source": [
    "raise 1//0"
   ]
  },
  {
   "cell_type": "code",
   "execution_count": 74,
   "id": "a5b91797-6018-4b4a-865f-4011dc84aef6",
   "metadata": {},
   "outputs": [],
   "source": [
    "diwank_pascal_beliefs = \"\"\"\n",
    "Pascal is both a mentor and a dear friend to Diwank.\n",
    "Pascal was the first person from Silicon Valley who identified my potential and gave Diwank a chance to build things back when Diwank was only 18 years old.\n",
    "Pascal invited Diwank to join a startup accelerator program called \"WebFWD\" that he had created when he was running Mozilla Labs.\n",
    "Pascal is deeply passionate about a variety of interests and areas of expertise, such as business and physical wellness.\n",
    "Pascal firmly believes in the power of technology and innovation, dedicating his career to leading and contributing to prominent tech companies.\n",
    "Pascal advocates for future-oriented thinking, reflected in his co-founding of 'be radical' and authoring of 'Disrupt Disruption'.\n",
    "Pascal is a strong supporter of women's empowerment, demonstrated by his co-founding of The Women's Impact Alliance.\n",
    "Pascal possesses a natural instinct for mentoring, nurturing young talents and creating opportunities for them through initiatives like the WebFWD startup accelerator.\n",
    "Pascal is not afraid of risk, embracing new challenges and ventures throughout his career, including running a VC fund, non-profits, and an art gallery.\n",
    "Pascal values knowledge sharing and community building, contributing to platforms like TheHeretic.org and the Falling Walls Foundation.\n",
    "Pascal believes strongly in the potential of young leaders, offering them guidance and support through his various advisory roles.\n",
    "Pascal has a unique appreciation for physical wellness, previously working as a Pilates instructor for US Olympians.\n",
    "Pascal displays humility and an eagerness to contribute, actively involving himself in various initiatives and organizations.\n",
    "Pascal stands firmly for honesty and clear communication, disliking insincerity and unnecessary jargon.\n",
    "Pascal finds fulfillment in educating, inspiring, and empowering others, especially leaders.\n",
    "Pascal's core mission is to drive positive change and amplify the impact of other changemakers.\n",
    "Pascal champions diversity and inclusion, evidenced by his establishment of The Women’s Impact Alliance.\n",
    "Pascal has a penchant for disruptive thinking, always seeking to challenge existing paradigms and identify new opportunities.\n",
    "Pascal places high importance on lifelong learning and continuous leadership development.\n",
    "\"\"\".strip().split(\"\\n\")\n",
    "\n",
    "# diwank_pascal_beliefs_uuids = [uuid() for _ in range(len(diwank_pascal_beliefs))]\n",
    "diwank_pascal_beliefs_uuids = ['125df766-586b-4d39-9e09-01cd351a08a2',\n",
    " '8f4a0cbf-0e04-4b93-b9e8-9bcd3a3ebb22',\n",
    " 'c79526fe-28c2-47a0-8baf-b01402ff7f89',\n",
    " '9517e249-5de9-4edd-b7b7-1be91dfe8b84',\n",
    " '5f2b13bd-3d72-49ee-9a57-a9a4c5c918e6',\n",
    " '4827e827-5d6a-4586-bbe7-5603eee9c39f',\n",
    " '43ce9713-8f68-4b60-990f-f11dd241fb97',\n",
    " '562a22ca-955e-4667-8f7d-876f70d52d8e',\n",
    " '3765b5ec-61f7-487e-ad28-0b29d4264f8b',\n",
    " '0293e070-9c22-45db-9120-6a5cbf2a718f',\n",
    " 'd16bf2b7-2fb1-4caa-ac73-238c586a46c4',\n",
    " 'd64f38cc-838c-4604-9628-e1bef7af1856',\n",
    " 'aa2e30fe-b96a-4a85-83b4-ef8d861e5298',\n",
    " '5c7ce0d8-9612-4062-9394-15fcdcd279b4',\n",
    " '11f6e4b5-fd7f-4f9e-afab-0da50be8daa3',\n",
    " '638d317d-135a-42f6-b4ae-6ac536709fb5',\n",
    " '8b537ebd-ac77-4374-8e08-a077d5c31e3e',\n",
    " '7a399c3d-7640-4bf7-ac10-30f5ce1ea564',\n",
    " '6b77776c-ca66-45be-8b65-f484016b3f12']\n"
   ]
  },
  {
   "cell_type": "code",
   "execution_count": 76,
   "id": "ff418821-f3ad-41bb-8751-4c8132b85010",
   "metadata": {},
   "outputs": [
    {
     "data": {
      "application/vnd.jupyter.widget-view+json": {
       "model_id": "bbfc3104e7e94a75a18d55406d50ed41",
       "version_major": 2,
       "version_minor": 0
      },
      "text/plain": [
       "0it [00:00, ?it/s]"
      ]
     },
     "metadata": {},
     "output_type": "display_data"
    }
   ],
   "source": [
    "for id, b in tqdm(zip(diwank_pascal_beliefs_uuids, diwank_pascal_beliefs)):\n",
    "    # break\n",
    "\n",
    "    aspects = absa(b)\n",
    "    # aspects = []\n",
    "    aspects_str = json.dumps(aspects)\n",
    "    [e] = embed([b], \"passage\")\n",
    "    \n",
    "    query = dedent(f\"\"\"\n",
    "    ?[belief_id, character_id, belief, details, parent_belief_id, valence, aspects, belief_embedding, details_embedding] <- [[\n",
    "      to_uuid(\"{id}\"),\n",
    "      to_uuid(\"{diwank_character_id}\"),\n",
    "      \"{rm_newline(b)}\",\n",
    "      \"{rm_newline(b)}\",\n",
    "      null,\n",
    "      {3.0},\n",
    "      {aspects_str},\n",
    "      vec({e}),\n",
    "      vec({e}),\n",
    "    ]]\n",
    "    \n",
    "    :put beliefs {{\n",
    "        belief_id, character_id, belief, details, parent_belief_id, valence, belief_embedding, details_embedding\n",
    "    }}\n",
    "    \"\"\")\n",
    "\n",
    "    try:\n",
    "        client.run(query)\n",
    "    except Exception as e:\n",
    "        e = str(e)\n",
    "        idx = int(re.findall(r\"[\\d]+\", e)[0])\n",
    "        print(e)\n",
    "        print()\n",
    "        print(\"=\"*20)\n",
    "        print()\n",
    "        print(query[idx-10:idx+20])"
   ]
  },
  {
   "cell_type": "code",
   "execution_count": 78,
   "id": "22c6cf13-2d93-45e7-a97f-1147681bb476",
   "metadata": {},
   "outputs": [],
   "source": [
    "client.close()"
   ]
  },
  {
   "cell_type": "code",
   "execution_count": null,
   "id": "db864a20-ccf4-49e6-95c2-45092a82f7c7",
   "metadata": {},
   "outputs": [],
   "source": []
  }
 ],
 "metadata": {
  "kernelspec": {
   "display_name": "Python 3 (ipykernel)",
   "language": "python",
   "name": "python3"
  },
  "language_info": {
   "codemirror_mode": {
    "name": "ipython",
    "version": 3
   },
   "file_extension": ".py",
   "mimetype": "text/x-python",
   "name": "python",
   "nbconvert_exporter": "python",
   "pygments_lexer": "ipython3",
   "version": "3.10.6"
  }
 },
 "nbformat": 4,
 "nbformat_minor": 5
}
